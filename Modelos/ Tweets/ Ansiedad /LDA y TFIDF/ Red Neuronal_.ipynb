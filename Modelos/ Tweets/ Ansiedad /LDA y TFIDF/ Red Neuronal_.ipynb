{
  "cells": [
    {
      "cell_type": "code",
      "execution_count": null,
      "metadata": {
        "id": "gAZ8Fq9Jhgmq"
      },
      "outputs": [],
      "source": [
        "!pip install nltk\n",
        "!pip install spacy\n",
        "!python -m spacy download es_core_news_sm\n",
        "!pip install -U imbalanced-learn\n",
        "!pip install pyspellchecker\n"
      ]
    },
    {
      "cell_type": "code",
      "execution_count": null,
      "metadata": {
        "id": "hcn6j7o3h6HF"
      },
      "outputs": [],
      "source": [
        "import pandas as pd\n",
        "import numpy as np\n",
        "\n",
        "import matplotlib.pyplot as plt\n",
        "import seaborn as sns; sns.set()\n",
        "%config InlineBackend.figure_format = 'retina'\n",
        "%matplotlib inline\n",
        "\n",
        "# Oculta warnings\n",
        "import warnings\n",
        "warnings.simplefilter('ignore')"
      ]
    },
    {
      "cell_type": "code",
      "execution_count": null,
      "metadata": {
        "id": "_ZWhvFDAiCFh",
        "colab": {
          "base_uri": "https://localhost:8080/",
          "height": 17
        },
        "outputId": "2f0ab99a-2a0b-4192-e390-e01958bd6642"
      },
      "outputs": [
        {
          "output_type": "display_data",
          "data": {
            "text/plain": [
              "<IPython.core.display.HTML object>"
            ],
            "text/html": [
              "<style>.container { width:95% !important; }</style>"
            ]
          },
          "metadata": {}
        }
      ],
      "source": [
        "from IPython.core.display import display, HTML\n",
        "display(HTML(\"<style>.container { width:95% !important; }</style>\"))"
      ]
    },
    {
      "cell_type": "markdown",
      "metadata": {
        "id": "E_Lg6613iGTj"
      },
      "source": [
        "# CARGAR DATOS\n",
        "**DATOS DE ENTRENAMIENTO**\n",
        "\n",
        "la columna de trastornos indica si el TWEET es de una persona con depresión o es de control.\n",
        "\n",
        "\n",
        "**control**:     0\n",
        "\n",
        "**ansiedad**:   1"
      ]
    },
    {
      "cell_type": "markdown",
      "metadata": {
        "id": "YE5B35uviasR"
      },
      "source": [
        "#DATOS DE PRUEBA"
      ]
    },
    {
      "cell_type": "code",
      "execution_count": null,
      "metadata": {
        "id": "MHBqymIkiK0G",
        "colab": {
          "base_uri": "https://localhost:8080/",
          "height": 554
        },
        "outputId": "fd84f483-bf94-4d2b-b03c-273b6ac434b8"
      },
      "outputs": [
        {
          "output_type": "stream",
          "name": "stdout",
          "text": [
            "<class 'pandas.core.frame.DataFrame'>\n",
            "RangeIndex: 64989 entries, 0 to 64988\n",
            "Data columns (total 4 columns):\n",
            " #   Column      Non-Null Count  Dtype  \n",
            "---  ------      --------------  -----  \n",
            " 0   USER_ID     32528 non-null  object \n",
            " 1   TWEET_ID    32528 non-null  float64\n",
            " 2   TWEET_TEXT  64987 non-null  object \n",
            " 3   trastorno   64985 non-null  float64\n",
            "dtypes: float64(2), object(2)\n",
            "memory usage: 2.0+ MB\n"
          ]
        },
        {
          "output_type": "execute_result",
          "data": {
            "text/plain": [
              "  USER_ID      TWEET_ID                                         TWEET_TEXT  \\\n",
              "0     NaN           NaN  3522.0, intenta combatir siéntete indeseable c...   \n",
              "1   302.0  2.147484e+09  RT @giraltpablo: Lamentablemente, Ecuador perd...   \n",
              "2     NaN           NaN                       Minitrigos helados ansiosos.   \n",
              "3     NaN           NaN  Está bien. Yo he estado ahí antes. Dudaba de m...   \n",
              "4     NaN           NaN  ¡Siento escuchar eso! Considere la posibilidad...   \n",
              "5   480.0  2.147484e+09  No entiendo eso de apoyar en una final,al equi...   \n",
              "6   266.0  2.147484e+09  \"Come On\" - @akapellah feat @BigSotoLuc &amp; ...   \n",
              "7     NaN           NaN  ,Hola, chico, aparentemente tiene una enfermed...   \n",
              "8   390.0  2.147484e+09  RT @excelentum: El que domina su cólera, domin...   \n",
              "9   288.0  2.147484e+09       RT @Guillodibujante: https://t.co/YO0oAArJJq   \n",
              "\n",
              "   trastorno  \n",
              "0        1.0  \n",
              "1        0.0  \n",
              "2        1.0  \n",
              "3        1.0  \n",
              "4        1.0  \n",
              "5        0.0  \n",
              "6        0.0  \n",
              "7        1.0  \n",
              "8        0.0  \n",
              "9        0.0  "
            ],
            "text/html": [
              "\n",
              "  <div id=\"df-46f48b5b-6a48-41b1-b7f3-d8560ac6fe0a\" class=\"colab-df-container\">\n",
              "    <div>\n",
              "<style scoped>\n",
              "    .dataframe tbody tr th:only-of-type {\n",
              "        vertical-align: middle;\n",
              "    }\n",
              "\n",
              "    .dataframe tbody tr th {\n",
              "        vertical-align: top;\n",
              "    }\n",
              "\n",
              "    .dataframe thead th {\n",
              "        text-align: right;\n",
              "    }\n",
              "</style>\n",
              "<table border=\"1\" class=\"dataframe\">\n",
              "  <thead>\n",
              "    <tr style=\"text-align: right;\">\n",
              "      <th></th>\n",
              "      <th>USER_ID</th>\n",
              "      <th>TWEET_ID</th>\n",
              "      <th>TWEET_TEXT</th>\n",
              "      <th>trastorno</th>\n",
              "    </tr>\n",
              "  </thead>\n",
              "  <tbody>\n",
              "    <tr>\n",
              "      <th>0</th>\n",
              "      <td>NaN</td>\n",
              "      <td>NaN</td>\n",
              "      <td>3522.0, intenta combatir siéntete indeseable c...</td>\n",
              "      <td>1.0</td>\n",
              "    </tr>\n",
              "    <tr>\n",
              "      <th>1</th>\n",
              "      <td>302.0</td>\n",
              "      <td>2.147484e+09</td>\n",
              "      <td>RT @giraltpablo: Lamentablemente, Ecuador perd...</td>\n",
              "      <td>0.0</td>\n",
              "    </tr>\n",
              "    <tr>\n",
              "      <th>2</th>\n",
              "      <td>NaN</td>\n",
              "      <td>NaN</td>\n",
              "      <td>Minitrigos helados ansiosos.</td>\n",
              "      <td>1.0</td>\n",
              "    </tr>\n",
              "    <tr>\n",
              "      <th>3</th>\n",
              "      <td>NaN</td>\n",
              "      <td>NaN</td>\n",
              "      <td>Está bien. Yo he estado ahí antes. Dudaba de m...</td>\n",
              "      <td>1.0</td>\n",
              "    </tr>\n",
              "    <tr>\n",
              "      <th>4</th>\n",
              "      <td>NaN</td>\n",
              "      <td>NaN</td>\n",
              "      <td>¡Siento escuchar eso! Considere la posibilidad...</td>\n",
              "      <td>1.0</td>\n",
              "    </tr>\n",
              "    <tr>\n",
              "      <th>5</th>\n",
              "      <td>480.0</td>\n",
              "      <td>2.147484e+09</td>\n",
              "      <td>No entiendo eso de apoyar en una final,al equi...</td>\n",
              "      <td>0.0</td>\n",
              "    </tr>\n",
              "    <tr>\n",
              "      <th>6</th>\n",
              "      <td>266.0</td>\n",
              "      <td>2.147484e+09</td>\n",
              "      <td>\"Come On\" - @akapellah feat @BigSotoLuc &amp;amp; ...</td>\n",
              "      <td>0.0</td>\n",
              "    </tr>\n",
              "    <tr>\n",
              "      <th>7</th>\n",
              "      <td>NaN</td>\n",
              "      <td>NaN</td>\n",
              "      <td>,Hola, chico, aparentemente tiene una enfermed...</td>\n",
              "      <td>1.0</td>\n",
              "    </tr>\n",
              "    <tr>\n",
              "      <th>8</th>\n",
              "      <td>390.0</td>\n",
              "      <td>2.147484e+09</td>\n",
              "      <td>RT @excelentum: El que domina su cólera, domin...</td>\n",
              "      <td>0.0</td>\n",
              "    </tr>\n",
              "    <tr>\n",
              "      <th>9</th>\n",
              "      <td>288.0</td>\n",
              "      <td>2.147484e+09</td>\n",
              "      <td>RT @Guillodibujante: https://t.co/YO0oAArJJq</td>\n",
              "      <td>0.0</td>\n",
              "    </tr>\n",
              "  </tbody>\n",
              "</table>\n",
              "</div>\n",
              "    <div class=\"colab-df-buttons\">\n",
              "\n",
              "  <div class=\"colab-df-container\">\n",
              "    <button class=\"colab-df-convert\" onclick=\"convertToInteractive('df-46f48b5b-6a48-41b1-b7f3-d8560ac6fe0a')\"\n",
              "            title=\"Convert this dataframe to an interactive table.\"\n",
              "            style=\"display:none;\">\n",
              "\n",
              "  <svg xmlns=\"http://www.w3.org/2000/svg\" height=\"24px\" viewBox=\"0 -960 960 960\">\n",
              "    <path d=\"M120-120v-720h720v720H120Zm60-500h600v-160H180v160Zm220 220h160v-160H400v160Zm0 220h160v-160H400v160ZM180-400h160v-160H180v160Zm440 0h160v-160H620v160ZM180-180h160v-160H180v160Zm440 0h160v-160H620v160Z\"/>\n",
              "  </svg>\n",
              "    </button>\n",
              "\n",
              "  <style>\n",
              "    .colab-df-container {\n",
              "      display:flex;\n",
              "      gap: 12px;\n",
              "    }\n",
              "\n",
              "    .colab-df-convert {\n",
              "      background-color: #E8F0FE;\n",
              "      border: none;\n",
              "      border-radius: 50%;\n",
              "      cursor: pointer;\n",
              "      display: none;\n",
              "      fill: #1967D2;\n",
              "      height: 32px;\n",
              "      padding: 0 0 0 0;\n",
              "      width: 32px;\n",
              "    }\n",
              "\n",
              "    .colab-df-convert:hover {\n",
              "      background-color: #E2EBFA;\n",
              "      box-shadow: 0px 1px 2px rgba(60, 64, 67, 0.3), 0px 1px 3px 1px rgba(60, 64, 67, 0.15);\n",
              "      fill: #174EA6;\n",
              "    }\n",
              "\n",
              "    .colab-df-buttons div {\n",
              "      margin-bottom: 4px;\n",
              "    }\n",
              "\n",
              "    [theme=dark] .colab-df-convert {\n",
              "      background-color: #3B4455;\n",
              "      fill: #D2E3FC;\n",
              "    }\n",
              "\n",
              "    [theme=dark] .colab-df-convert:hover {\n",
              "      background-color: #434B5C;\n",
              "      box-shadow: 0px 1px 3px 1px rgba(0, 0, 0, 0.15);\n",
              "      filter: drop-shadow(0px 1px 2px rgba(0, 0, 0, 0.3));\n",
              "      fill: #FFFFFF;\n",
              "    }\n",
              "  </style>\n",
              "\n",
              "    <script>\n",
              "      const buttonEl =\n",
              "        document.querySelector('#df-46f48b5b-6a48-41b1-b7f3-d8560ac6fe0a button.colab-df-convert');\n",
              "      buttonEl.style.display =\n",
              "        google.colab.kernel.accessAllowed ? 'block' : 'none';\n",
              "\n",
              "      async function convertToInteractive(key) {\n",
              "        const element = document.querySelector('#df-46f48b5b-6a48-41b1-b7f3-d8560ac6fe0a');\n",
              "        const dataTable =\n",
              "          await google.colab.kernel.invokeFunction('convertToInteractive',\n",
              "                                                    [key], {});\n",
              "        if (!dataTable) return;\n",
              "\n",
              "        const docLinkHtml = 'Like what you see? Visit the ' +\n",
              "          '<a target=\"_blank\" href=https://colab.research.google.com/notebooks/data_table.ipynb>data table notebook</a>'\n",
              "          + ' to learn more about interactive tables.';\n",
              "        element.innerHTML = '';\n",
              "        dataTable['output_type'] = 'display_data';\n",
              "        await google.colab.output.renderOutput(dataTable, element);\n",
              "        const docLink = document.createElement('div');\n",
              "        docLink.innerHTML = docLinkHtml;\n",
              "        element.appendChild(docLink);\n",
              "      }\n",
              "    </script>\n",
              "  </div>\n",
              "\n",
              "\n",
              "<div id=\"df-2f1c7cd7-db0c-4bec-a4af-cf6a3d96c69e\">\n",
              "  <button class=\"colab-df-quickchart\" onclick=\"quickchart('df-2f1c7cd7-db0c-4bec-a4af-cf6a3d96c69e')\"\n",
              "            title=\"Suggest charts\"\n",
              "            style=\"display:none;\">\n",
              "\n",
              "<svg xmlns=\"http://www.w3.org/2000/svg\" height=\"24px\"viewBox=\"0 0 24 24\"\n",
              "     width=\"24px\">\n",
              "    <g>\n",
              "        <path d=\"M19 3H5c-1.1 0-2 .9-2 2v14c0 1.1.9 2 2 2h14c1.1 0 2-.9 2-2V5c0-1.1-.9-2-2-2zM9 17H7v-7h2v7zm4 0h-2V7h2v10zm4 0h-2v-4h2v4z\"/>\n",
              "    </g>\n",
              "</svg>\n",
              "  </button>\n",
              "\n",
              "<style>\n",
              "  .colab-df-quickchart {\n",
              "      --bg-color: #E8F0FE;\n",
              "      --fill-color: #1967D2;\n",
              "      --hover-bg-color: #E2EBFA;\n",
              "      --hover-fill-color: #174EA6;\n",
              "      --disabled-fill-color: #AAA;\n",
              "      --disabled-bg-color: #DDD;\n",
              "  }\n",
              "\n",
              "  [theme=dark] .colab-df-quickchart {\n",
              "      --bg-color: #3B4455;\n",
              "      --fill-color: #D2E3FC;\n",
              "      --hover-bg-color: #434B5C;\n",
              "      --hover-fill-color: #FFFFFF;\n",
              "      --disabled-bg-color: #3B4455;\n",
              "      --disabled-fill-color: #666;\n",
              "  }\n",
              "\n",
              "  .colab-df-quickchart {\n",
              "    background-color: var(--bg-color);\n",
              "    border: none;\n",
              "    border-radius: 50%;\n",
              "    cursor: pointer;\n",
              "    display: none;\n",
              "    fill: var(--fill-color);\n",
              "    height: 32px;\n",
              "    padding: 0;\n",
              "    width: 32px;\n",
              "  }\n",
              "\n",
              "  .colab-df-quickchart:hover {\n",
              "    background-color: var(--hover-bg-color);\n",
              "    box-shadow: 0 1px 2px rgba(60, 64, 67, 0.3), 0 1px 3px 1px rgba(60, 64, 67, 0.15);\n",
              "    fill: var(--button-hover-fill-color);\n",
              "  }\n",
              "\n",
              "  .colab-df-quickchart-complete:disabled,\n",
              "  .colab-df-quickchart-complete:disabled:hover {\n",
              "    background-color: var(--disabled-bg-color);\n",
              "    fill: var(--disabled-fill-color);\n",
              "    box-shadow: none;\n",
              "  }\n",
              "\n",
              "  .colab-df-spinner {\n",
              "    border: 2px solid var(--fill-color);\n",
              "    border-color: transparent;\n",
              "    border-bottom-color: var(--fill-color);\n",
              "    animation:\n",
              "      spin 1s steps(1) infinite;\n",
              "  }\n",
              "\n",
              "  @keyframes spin {\n",
              "    0% {\n",
              "      border-color: transparent;\n",
              "      border-bottom-color: var(--fill-color);\n",
              "      border-left-color: var(--fill-color);\n",
              "    }\n",
              "    20% {\n",
              "      border-color: transparent;\n",
              "      border-left-color: var(--fill-color);\n",
              "      border-top-color: var(--fill-color);\n",
              "    }\n",
              "    30% {\n",
              "      border-color: transparent;\n",
              "      border-left-color: var(--fill-color);\n",
              "      border-top-color: var(--fill-color);\n",
              "      border-right-color: var(--fill-color);\n",
              "    }\n",
              "    40% {\n",
              "      border-color: transparent;\n",
              "      border-right-color: var(--fill-color);\n",
              "      border-top-color: var(--fill-color);\n",
              "    }\n",
              "    60% {\n",
              "      border-color: transparent;\n",
              "      border-right-color: var(--fill-color);\n",
              "    }\n",
              "    80% {\n",
              "      border-color: transparent;\n",
              "      border-right-color: var(--fill-color);\n",
              "      border-bottom-color: var(--fill-color);\n",
              "    }\n",
              "    90% {\n",
              "      border-color: transparent;\n",
              "      border-bottom-color: var(--fill-color);\n",
              "    }\n",
              "  }\n",
              "</style>\n",
              "\n",
              "  <script>\n",
              "    async function quickchart(key) {\n",
              "      const quickchartButtonEl =\n",
              "        document.querySelector('#' + key + ' button');\n",
              "      quickchartButtonEl.disabled = true;  // To prevent multiple clicks.\n",
              "      quickchartButtonEl.classList.add('colab-df-spinner');\n",
              "      try {\n",
              "        const charts = await google.colab.kernel.invokeFunction(\n",
              "            'suggestCharts', [key], {});\n",
              "      } catch (error) {\n",
              "        console.error('Error during call to suggestCharts:', error);\n",
              "      }\n",
              "      quickchartButtonEl.classList.remove('colab-df-spinner');\n",
              "      quickchartButtonEl.classList.add('colab-df-quickchart-complete');\n",
              "    }\n",
              "    (() => {\n",
              "      let quickchartButtonEl =\n",
              "        document.querySelector('#df-2f1c7cd7-db0c-4bec-a4af-cf6a3d96c69e button');\n",
              "      quickchartButtonEl.style.display =\n",
              "        google.colab.kernel.accessAllowed ? 'block' : 'none';\n",
              "    })();\n",
              "  </script>\n",
              "</div>\n",
              "    </div>\n",
              "  </div>\n"
            ]
          },
          "metadata": {},
          "execution_count": 5
        }
      ],
      "source": [
        "ruta_archivo_entrenamiento = '/content/drive/MyDrive/Experimentación Python Tesis /entrenamiento y prueba (control vs ansiedad)/train.csv'\n",
        "data_train = pd.read_csv(ruta_archivo_entrenamiento, sep=',')\n",
        "data_train.info()\n",
        "data_train.head(10)"
      ]
    },
    {
      "cell_type": "markdown",
      "metadata": {
        "id": "ptXa7Tu7ij05"
      },
      "source": [
        "#Preprocesamiento de los datos"
      ]
    },
    {
      "cell_type": "code",
      "execution_count": null,
      "metadata": {
        "id": "vhwSBFjBjedd",
        "colab": {
          "base_uri": "https://localhost:8080/"
        },
        "outputId": "17e080c2-1117-4e89-8d16-8c7a713e753f"
      },
      "outputs": [
        {
          "output_type": "stream",
          "name": "stderr",
          "text": [
            "[nltk_data] Downloading package stopwords to /root/nltk_data...\n",
            "[nltk_data]   Unzipping corpora/stopwords.zip.\n"
          ]
        }
      ],
      "source": [
        "import nltk\n",
        "nltk.download('stopwords')  #Solamente se ha de descargar la primera vez.\n",
        "stopwords_es = nltk.corpus.stopwords.words('spanish')   # Extrae las stopwords en español"
      ]
    },
    {
      "cell_type": "markdown",
      "metadata": {
        "id": "qVqEoMoKipXO"
      },
      "source": [
        "*Eliminar etiquetas HTML*"
      ]
    },
    {
      "cell_type": "code",
      "execution_count": null,
      "metadata": {
        "id": "KeumIo59iujw"
      },
      "outputs": [],
      "source": [
        "import re\n",
        "\n",
        "def removeHTML(text):\n",
        "    if isinstance(text, str):  # Verificar si es de tipo string\n",
        "        cleanr = re.compile('<.*?>')\n",
        "        cleantext = re.sub(cleanr, '', text)\n",
        "        return cleantext\n",
        "    else:\n",
        "        return text  # Devolver el valor original si no es de tipo string"
      ]
    },
    {
      "cell_type": "markdown",
      "metadata": {
        "id": "d_94CnocizER"
      },
      "source": [
        "*Limpieza del texto*"
      ]
    },
    {
      "cell_type": "code",
      "execution_count": null,
      "metadata": {
        "id": "ZiTpRUU6ixfo"
      },
      "outputs": [],
      "source": [
        "import re\n",
        "import string\n",
        "\n",
        "def clean(text):\n",
        "    if isinstance(text, str):  # Verificar si es de tipo string\n",
        "        # Eliminar hashtags\n",
        "        text = re.sub(r'#\\w+', '', text)\n",
        "\n",
        "        # Eliminar URLs o enlaces\n",
        "        text = re.sub(r'(https?://)?[a-zA-Z0-9]+\\.[a-zA-Z0-9]+\\S*', '', text)\n",
        "\n",
        "        # Eliminar nombres de usuarios de Twitter\n",
        "        text = re.sub(r'@\\w+', '', text)\n",
        "\n",
        "        # Eliminar Nombres propios\n",
        "        text = re.sub(r'\\b[A-Z][a-z]+\\b', '', text)\n",
        "\n",
        "        # Eliminar todos los caracteres especiales\n",
        "        text = re.sub(r'[^\\w\\s]+', '', text)\n",
        "\n",
        "        # Eliminar prefijos y números\n",
        "        text = re.sub(r'\\b\\w{1,2}\\b|\\d+', '', text)\n",
        "\n",
        "        # Eliminar palabras específicas\n",
        "        specific_words = ['retweet', 'retweets', 'hashtag', 'trending', 'mención', 'enlace', 'emoji', 'timeline', 'interacciones',\n",
        "                          'tuit', 'seguidores', 'notificaciones', 'seguir', 'favorito', 'perfil', 'tendencia', 'influencer',\n",
        "                          'compartir', 'actualización', 'explorar', 'seguir', 'comunidad', 'contenido', 'popular',\n",
        "                          'recomendar', 'experiencia', 'conectar', 'comentar', 'compartir', 'comunidad', 'actualización',\n",
        "                          'drk', 'followers', 'stats', 'for', 'new', 'little', 'unfollower', 'unfollowers', 'today', 'shit','twitter','nombre',\n",
        "                          'eric','story','great', 'short','squeeze','piggly','wiggly','hmv','even','follas','you','i','he','she',\n",
        "                          'it','we','they','the','and','that','these','those','tweet','followed','follower']\n",
        "        text = ' '.join([word for word in text.split() if word not in specific_words])\n",
        "\n",
        "        # Eliminar emojis\n",
        "        emojis = re.findall(r'[^\\w\\s,]', text)\n",
        "        cleaned_emojis = [emoji for emoji in emojis if emoji not in ['@', '#', '/', '?','¿','.','…','\"',':','“','!','¡','°','-',\"‘\",'’',\n",
        "                                                                     '=',';','(',')',\"'\",\"'\",'&','€','%','$','*','+','|', '”','🇦','🇷',',',\n",
        "                                                                     ', ','—','«',' »','»','« ','[, ]','[,]',',',', ','',' ',' ♀',' 🏽']]\n",
        "        for emoji in cleaned_emojis:\n",
        "            text = text.replace(emoji, '')\n",
        "\n",
        "        # Convertir el texto a minúsculas\n",
        "        text = text.lower()\n",
        "\n",
        "        # Eliminar signos de puntuación\n",
        "        text = re.sub(f\"[{re.escape(string.punctuation)}]\", \"\", text)\n",
        "\n",
        "        words = text.split() #divide el texto en palabras individuales, creando una lista de palabras.\n",
        "\n",
        "      # Combinar las stopwords en  español\n",
        "        all_stopwords = stopwords_es\n",
        "      # Filtrar las stopwords del texto\n",
        "        filtered_words = [word for word in words if word.lower() not in all_stopwords] #filtra las palabras vacías del texto que no están en la lista de palabras vacías\n",
        "\n",
        "        # Unir las palabras filtradas en un solo texto\n",
        "        text = ' '.join(filtered_words)\n",
        "\n",
        "        # Devuelve el texto limpio\n",
        "        return text\n",
        "    else:\n",
        "        return text  # Devolver el valor original si no es de tipo string\n"
      ]
    },
    {
      "cell_type": "markdown",
      "metadata": {
        "id": "ntVe2k6TkgPP"
      },
      "source": [
        "*lematizar y extraer términos*"
      ]
    },
    {
      "cell_type": "code",
      "execution_count": null,
      "metadata": {
        "id": "gfY-KveTkhye",
        "colab": {
          "base_uri": "https://localhost:8080/"
        },
        "outputId": "74b008d9-8de3-4833-bf87-85ca07f0da3f"
      },
      "outputs": [
        {
          "output_type": "stream",
          "name": "stdout",
          "text": [
            "['gato', 'saltar', 'valla']\n"
          ]
        }
      ],
      "source": [
        "import pandas as pd\n",
        "import spacy\n",
        "from spacy.lang.es import Spanish\n",
        "from nltk.corpus import stopwords\n",
        "\n",
        "\n",
        "# Cargar modelo de spaCy\n",
        "nlp = spacy.load(\"es_core_news_sm\")\n",
        "\n",
        "# Cargar stopwords en español\n",
        "stopwords_es = set(stopwords.words('spanish'))\n",
        "\n",
        "def extractTerms(text):\n",
        "    if isinstance(text, str):\n",
        "        # Tokenización y lematización con spaCy\n",
        "        doc = nlp(text)\n",
        "        lemmatized_terms = [token.lemma_ for token in doc if token.text.lower() not in stopwords_es]\n",
        "\n",
        "        return lemmatized_terms\n",
        "    else:\n",
        "        return []  # Devolver una lista vacía si el texto no es una cadena de texto\n",
        "\n",
        "# Ejemplo de uso\n",
        "texto_ejemplo = \"Los gatos están saltando sobre las vallas\"\n",
        "terminos_extraidos = extractTerms(texto_ejemplo)\n",
        "print(terminos_extraidos)"
      ]
    },
    {
      "cell_type": "markdown",
      "metadata": {
        "id": "_G1-6-J0kvNR"
      },
      "source": [
        "# Preprocesamieto del conjunto de datos de entrenamiento"
      ]
    },
    {
      "cell_type": "code",
      "execution_count": null,
      "metadata": {
        "id": "m-jc-AGMkyl7",
        "colab": {
          "base_uri": "https://localhost:8080/",
          "height": 554
        },
        "outputId": "d2a2b367-aa3d-4000-b655-9d5f2639b316"
      },
      "outputs": [
        {
          "output_type": "stream",
          "name": "stdout",
          "text": [
            "<class 'pandas.core.frame.DataFrame'>\n",
            "RangeIndex: 64989 entries, 0 to 64988\n",
            "Data columns (total 4 columns):\n",
            " #   Column      Non-Null Count  Dtype  \n",
            "---  ------      --------------  -----  \n",
            " 0   USER_ID     32528 non-null  object \n",
            " 1   TWEET_ID    32528 non-null  float64\n",
            " 2   TWEET_TEXT  64989 non-null  object \n",
            " 3   trastorno   64985 non-null  float64\n",
            "dtypes: float64(2), object(2)\n",
            "memory usage: 2.0+ MB\n"
          ]
        },
        {
          "output_type": "execute_result",
          "data": {
            "text/plain": [
              "  USER_ID      TWEET_ID                                         TWEET_TEXT  \\\n",
              "0     NaN           NaN  intentar combatir siéntete indeseable perfecci...   \n",
              "1   302.0  2.147484e+09  perder carta ganador localía allí escapar posi...   \n",
              "2     NaN           NaN                                     helado ansioso   \n",
              "3     NaN           NaN  bien ahí amigo amor saber decir intentar dar y...   \n",
              "4     NaN           NaN  escuchar posibilidad utilizar aceite esencial ...   \n",
              "5   480.0  2.147484e+09  entender apoyar finalal equipo elimino compent...   \n",
              "6   266.0  2.147484e+09                                        feat amp mp   \n",
              "7     NaN           NaN  chico aparentemente enfermedad terminal decir ...   \n",
              "8   390.0  2.147484e+09                dominar cólero dominar peor enemigo   \n",
              "9   288.0  2.147484e+09                                                      \n",
              "\n",
              "   trastorno  \n",
              "0        1.0  \n",
              "1        0.0  \n",
              "2        1.0  \n",
              "3        1.0  \n",
              "4        1.0  \n",
              "5        0.0  \n",
              "6        0.0  \n",
              "7        1.0  \n",
              "8        0.0  \n",
              "9        0.0  "
            ],
            "text/html": [
              "\n",
              "  <div id=\"df-657ff76b-89bf-4f1b-b9da-7230b4137ada\" class=\"colab-df-container\">\n",
              "    <div>\n",
              "<style scoped>\n",
              "    .dataframe tbody tr th:only-of-type {\n",
              "        vertical-align: middle;\n",
              "    }\n",
              "\n",
              "    .dataframe tbody tr th {\n",
              "        vertical-align: top;\n",
              "    }\n",
              "\n",
              "    .dataframe thead th {\n",
              "        text-align: right;\n",
              "    }\n",
              "</style>\n",
              "<table border=\"1\" class=\"dataframe\">\n",
              "  <thead>\n",
              "    <tr style=\"text-align: right;\">\n",
              "      <th></th>\n",
              "      <th>USER_ID</th>\n",
              "      <th>TWEET_ID</th>\n",
              "      <th>TWEET_TEXT</th>\n",
              "      <th>trastorno</th>\n",
              "    </tr>\n",
              "  </thead>\n",
              "  <tbody>\n",
              "    <tr>\n",
              "      <th>0</th>\n",
              "      <td>NaN</td>\n",
              "      <td>NaN</td>\n",
              "      <td>intentar combatir siéntete indeseable perfecci...</td>\n",
              "      <td>1.0</td>\n",
              "    </tr>\n",
              "    <tr>\n",
              "      <th>1</th>\n",
              "      <td>302.0</td>\n",
              "      <td>2.147484e+09</td>\n",
              "      <td>perder carta ganador localía allí escapar posi...</td>\n",
              "      <td>0.0</td>\n",
              "    </tr>\n",
              "    <tr>\n",
              "      <th>2</th>\n",
              "      <td>NaN</td>\n",
              "      <td>NaN</td>\n",
              "      <td>helado ansioso</td>\n",
              "      <td>1.0</td>\n",
              "    </tr>\n",
              "    <tr>\n",
              "      <th>3</th>\n",
              "      <td>NaN</td>\n",
              "      <td>NaN</td>\n",
              "      <td>bien ahí amigo amor saber decir intentar dar y...</td>\n",
              "      <td>1.0</td>\n",
              "    </tr>\n",
              "    <tr>\n",
              "      <th>4</th>\n",
              "      <td>NaN</td>\n",
              "      <td>NaN</td>\n",
              "      <td>escuchar posibilidad utilizar aceite esencial ...</td>\n",
              "      <td>1.0</td>\n",
              "    </tr>\n",
              "    <tr>\n",
              "      <th>5</th>\n",
              "      <td>480.0</td>\n",
              "      <td>2.147484e+09</td>\n",
              "      <td>entender apoyar finalal equipo elimino compent...</td>\n",
              "      <td>0.0</td>\n",
              "    </tr>\n",
              "    <tr>\n",
              "      <th>6</th>\n",
              "      <td>266.0</td>\n",
              "      <td>2.147484e+09</td>\n",
              "      <td>feat amp mp</td>\n",
              "      <td>0.0</td>\n",
              "    </tr>\n",
              "    <tr>\n",
              "      <th>7</th>\n",
              "      <td>NaN</td>\n",
              "      <td>NaN</td>\n",
              "      <td>chico aparentemente enfermedad terminal decir ...</td>\n",
              "      <td>1.0</td>\n",
              "    </tr>\n",
              "    <tr>\n",
              "      <th>8</th>\n",
              "      <td>390.0</td>\n",
              "      <td>2.147484e+09</td>\n",
              "      <td>dominar cólero dominar peor enemigo</td>\n",
              "      <td>0.0</td>\n",
              "    </tr>\n",
              "    <tr>\n",
              "      <th>9</th>\n",
              "      <td>288.0</td>\n",
              "      <td>2.147484e+09</td>\n",
              "      <td></td>\n",
              "      <td>0.0</td>\n",
              "    </tr>\n",
              "  </tbody>\n",
              "</table>\n",
              "</div>\n",
              "    <div class=\"colab-df-buttons\">\n",
              "\n",
              "  <div class=\"colab-df-container\">\n",
              "    <button class=\"colab-df-convert\" onclick=\"convertToInteractive('df-657ff76b-89bf-4f1b-b9da-7230b4137ada')\"\n",
              "            title=\"Convert this dataframe to an interactive table.\"\n",
              "            style=\"display:none;\">\n",
              "\n",
              "  <svg xmlns=\"http://www.w3.org/2000/svg\" height=\"24px\" viewBox=\"0 -960 960 960\">\n",
              "    <path d=\"M120-120v-720h720v720H120Zm60-500h600v-160H180v160Zm220 220h160v-160H400v160Zm0 220h160v-160H400v160ZM180-400h160v-160H180v160Zm440 0h160v-160H620v160ZM180-180h160v-160H180v160Zm440 0h160v-160H620v160Z\"/>\n",
              "  </svg>\n",
              "    </button>\n",
              "\n",
              "  <style>\n",
              "    .colab-df-container {\n",
              "      display:flex;\n",
              "      gap: 12px;\n",
              "    }\n",
              "\n",
              "    .colab-df-convert {\n",
              "      background-color: #E8F0FE;\n",
              "      border: none;\n",
              "      border-radius: 50%;\n",
              "      cursor: pointer;\n",
              "      display: none;\n",
              "      fill: #1967D2;\n",
              "      height: 32px;\n",
              "      padding: 0 0 0 0;\n",
              "      width: 32px;\n",
              "    }\n",
              "\n",
              "    .colab-df-convert:hover {\n",
              "      background-color: #E2EBFA;\n",
              "      box-shadow: 0px 1px 2px rgba(60, 64, 67, 0.3), 0px 1px 3px 1px rgba(60, 64, 67, 0.15);\n",
              "      fill: #174EA6;\n",
              "    }\n",
              "\n",
              "    .colab-df-buttons div {\n",
              "      margin-bottom: 4px;\n",
              "    }\n",
              "\n",
              "    [theme=dark] .colab-df-convert {\n",
              "      background-color: #3B4455;\n",
              "      fill: #D2E3FC;\n",
              "    }\n",
              "\n",
              "    [theme=dark] .colab-df-convert:hover {\n",
              "      background-color: #434B5C;\n",
              "      box-shadow: 0px 1px 3px 1px rgba(0, 0, 0, 0.15);\n",
              "      filter: drop-shadow(0px 1px 2px rgba(0, 0, 0, 0.3));\n",
              "      fill: #FFFFFF;\n",
              "    }\n",
              "  </style>\n",
              "\n",
              "    <script>\n",
              "      const buttonEl =\n",
              "        document.querySelector('#df-657ff76b-89bf-4f1b-b9da-7230b4137ada button.colab-df-convert');\n",
              "      buttonEl.style.display =\n",
              "        google.colab.kernel.accessAllowed ? 'block' : 'none';\n",
              "\n",
              "      async function convertToInteractive(key) {\n",
              "        const element = document.querySelector('#df-657ff76b-89bf-4f1b-b9da-7230b4137ada');\n",
              "        const dataTable =\n",
              "          await google.colab.kernel.invokeFunction('convertToInteractive',\n",
              "                                                    [key], {});\n",
              "        if (!dataTable) return;\n",
              "\n",
              "        const docLinkHtml = 'Like what you see? Visit the ' +\n",
              "          '<a target=\"_blank\" href=https://colab.research.google.com/notebooks/data_table.ipynb>data table notebook</a>'\n",
              "          + ' to learn more about interactive tables.';\n",
              "        element.innerHTML = '';\n",
              "        dataTable['output_type'] = 'display_data';\n",
              "        await google.colab.output.renderOutput(dataTable, element);\n",
              "        const docLink = document.createElement('div');\n",
              "        docLink.innerHTML = docLinkHtml;\n",
              "        element.appendChild(docLink);\n",
              "      }\n",
              "    </script>\n",
              "  </div>\n",
              "\n",
              "\n",
              "<div id=\"df-16159185-8ca5-4715-a7dd-39137988233a\">\n",
              "  <button class=\"colab-df-quickchart\" onclick=\"quickchart('df-16159185-8ca5-4715-a7dd-39137988233a')\"\n",
              "            title=\"Suggest charts\"\n",
              "            style=\"display:none;\">\n",
              "\n",
              "<svg xmlns=\"http://www.w3.org/2000/svg\" height=\"24px\"viewBox=\"0 0 24 24\"\n",
              "     width=\"24px\">\n",
              "    <g>\n",
              "        <path d=\"M19 3H5c-1.1 0-2 .9-2 2v14c0 1.1.9 2 2 2h14c1.1 0 2-.9 2-2V5c0-1.1-.9-2-2-2zM9 17H7v-7h2v7zm4 0h-2V7h2v10zm4 0h-2v-4h2v4z\"/>\n",
              "    </g>\n",
              "</svg>\n",
              "  </button>\n",
              "\n",
              "<style>\n",
              "  .colab-df-quickchart {\n",
              "      --bg-color: #E8F0FE;\n",
              "      --fill-color: #1967D2;\n",
              "      --hover-bg-color: #E2EBFA;\n",
              "      --hover-fill-color: #174EA6;\n",
              "      --disabled-fill-color: #AAA;\n",
              "      --disabled-bg-color: #DDD;\n",
              "  }\n",
              "\n",
              "  [theme=dark] .colab-df-quickchart {\n",
              "      --bg-color: #3B4455;\n",
              "      --fill-color: #D2E3FC;\n",
              "      --hover-bg-color: #434B5C;\n",
              "      --hover-fill-color: #FFFFFF;\n",
              "      --disabled-bg-color: #3B4455;\n",
              "      --disabled-fill-color: #666;\n",
              "  }\n",
              "\n",
              "  .colab-df-quickchart {\n",
              "    background-color: var(--bg-color);\n",
              "    border: none;\n",
              "    border-radius: 50%;\n",
              "    cursor: pointer;\n",
              "    display: none;\n",
              "    fill: var(--fill-color);\n",
              "    height: 32px;\n",
              "    padding: 0;\n",
              "    width: 32px;\n",
              "  }\n",
              "\n",
              "  .colab-df-quickchart:hover {\n",
              "    background-color: var(--hover-bg-color);\n",
              "    box-shadow: 0 1px 2px rgba(60, 64, 67, 0.3), 0 1px 3px 1px rgba(60, 64, 67, 0.15);\n",
              "    fill: var(--button-hover-fill-color);\n",
              "  }\n",
              "\n",
              "  .colab-df-quickchart-complete:disabled,\n",
              "  .colab-df-quickchart-complete:disabled:hover {\n",
              "    background-color: var(--disabled-bg-color);\n",
              "    fill: var(--disabled-fill-color);\n",
              "    box-shadow: none;\n",
              "  }\n",
              "\n",
              "  .colab-df-spinner {\n",
              "    border: 2px solid var(--fill-color);\n",
              "    border-color: transparent;\n",
              "    border-bottom-color: var(--fill-color);\n",
              "    animation:\n",
              "      spin 1s steps(1) infinite;\n",
              "  }\n",
              "\n",
              "  @keyframes spin {\n",
              "    0% {\n",
              "      border-color: transparent;\n",
              "      border-bottom-color: var(--fill-color);\n",
              "      border-left-color: var(--fill-color);\n",
              "    }\n",
              "    20% {\n",
              "      border-color: transparent;\n",
              "      border-left-color: var(--fill-color);\n",
              "      border-top-color: var(--fill-color);\n",
              "    }\n",
              "    30% {\n",
              "      border-color: transparent;\n",
              "      border-left-color: var(--fill-color);\n",
              "      border-top-color: var(--fill-color);\n",
              "      border-right-color: var(--fill-color);\n",
              "    }\n",
              "    40% {\n",
              "      border-color: transparent;\n",
              "      border-right-color: var(--fill-color);\n",
              "      border-top-color: var(--fill-color);\n",
              "    }\n",
              "    60% {\n",
              "      border-color: transparent;\n",
              "      border-right-color: var(--fill-color);\n",
              "    }\n",
              "    80% {\n",
              "      border-color: transparent;\n",
              "      border-right-color: var(--fill-color);\n",
              "      border-bottom-color: var(--fill-color);\n",
              "    }\n",
              "    90% {\n",
              "      border-color: transparent;\n",
              "      border-bottom-color: var(--fill-color);\n",
              "    }\n",
              "  }\n",
              "</style>\n",
              "\n",
              "  <script>\n",
              "    async function quickchart(key) {\n",
              "      const quickchartButtonEl =\n",
              "        document.querySelector('#' + key + ' button');\n",
              "      quickchartButtonEl.disabled = true;  // To prevent multiple clicks.\n",
              "      quickchartButtonEl.classList.add('colab-df-spinner');\n",
              "      try {\n",
              "        const charts = await google.colab.kernel.invokeFunction(\n",
              "            'suggestCharts', [key], {});\n",
              "      } catch (error) {\n",
              "        console.error('Error during call to suggestCharts:', error);\n",
              "      }\n",
              "      quickchartButtonEl.classList.remove('colab-df-spinner');\n",
              "      quickchartButtonEl.classList.add('colab-df-quickchart-complete');\n",
              "    }\n",
              "    (() => {\n",
              "      let quickchartButtonEl =\n",
              "        document.querySelector('#df-16159185-8ca5-4715-a7dd-39137988233a button');\n",
              "      quickchartButtonEl.style.display =\n",
              "        google.colab.kernel.accessAllowed ? 'block' : 'none';\n",
              "    })();\n",
              "  </script>\n",
              "</div>\n",
              "    </div>\n",
              "  </div>\n"
            ]
          },
          "metadata": {},
          "execution_count": 10
        }
      ],
      "source": [
        "data_train['TWEET_TEXT'] = data_train['TWEET_TEXT'].apply(removeHTML)\n",
        "data_train['TWEET_TEXT'] = data_train['TWEET_TEXT'].apply(clean)\n",
        "data_train['TWEET_TEXT'] = data_train['TWEET_TEXT'].apply(extractTerms)\n",
        "data_train['TWEET_TEXT'] = data_train['TWEET_TEXT'].apply(lambda x: ' '.join(x) if isinstance(x, list) else x) # Combinar los elementos de la lista en una sola cadena separados por espacios\n",
        "data_train.info()\n",
        "data_train.head(10)"
      ]
    },
    {
      "cell_type": "code",
      "execution_count": null,
      "metadata": {
        "id": "dkfJwuJalr6H",
        "colab": {
          "base_uri": "https://localhost:8080/"
        },
        "outputId": "ed133672-1581-4c1d-bada-05e027b0b1d8"
      },
      "outputs": [
        {
          "output_type": "stream",
          "name": "stdout",
          "text": [
            "Número de elementos vacíos en la columna 'TWEET_TEXT': 1800\n"
          ]
        }
      ],
      "source": [
        "# Verificar si hay elementos vacíos en la columna 'TWEET_TEXT'\n",
        "empty_count = (data_train['TWEET_TEXT'].apply(len) == 0).sum()\n",
        "\n",
        "# Imprimir el número de elementos vacíos en la columna 'TWEET_TEXT'\n",
        "print(\"Número de elementos vacíos en la columna 'TWEET_TEXT':\", empty_count)"
      ]
    },
    {
      "cell_type": "code",
      "execution_count": null,
      "metadata": {
        "id": "wr1meiHXluWk"
      },
      "outputs": [],
      "source": [
        "# Filtrar filas donde 'TWEET_TEXT' no sea una lista vacía\n",
        "data_train = data_train[data_train['TWEET_TEXT'].apply(len) > 0]\n",
        "\n",
        "# Reiniciar el índice del DataFrame después de eliminar filas\n",
        "data_train.reset_index(drop=True, inplace=True)"
      ]
    },
    {
      "cell_type": "code",
      "execution_count": null,
      "metadata": {
        "id": "3j2qM6y4lvG4",
        "colab": {
          "base_uri": "https://localhost:8080/"
        },
        "outputId": "71421a0b-f296-42cb-b8db-b1a002c4b6ec"
      },
      "outputs": [
        {
          "output_type": "stream",
          "name": "stdout",
          "text": [
            "Número de elementos vacíos en la columna 'TWEET_TEXT': 0\n"
          ]
        }
      ],
      "source": [
        "# Verificar si hay elementos vacíos en la columna 'TWEET_TEXT'\n",
        "empty_count = (data_train['TWEET_TEXT'].apply(len) == 0).sum()\n",
        "\n",
        "# Imprimir el número de elementos vacíos en la columna 'TWEET_TEXT'\n",
        "print(\"Número de elementos vacíos en la columna 'TWEET_TEXT':\", empty_count)"
      ]
    },
    {
      "cell_type": "markdown",
      "metadata": {
        "id": "p41SB9h6p_Eb"
      },
      "source": [
        "#Vectorización de los datos\n",
        "LDA no trabaja directamente con los documentos de texto, sino que utiliza también una representación vectorial _TF-IDF_. En concreto, se ha de crear una matriz en la que el elemento en la posición $(d,t)$ representa el número de veces que aparece el término $t$ en el documento $d$\n"
      ]
    },
    {
      "cell_type": "code",
      "execution_count": null,
      "metadata": {
        "id": "fBQWGrKoqAMP",
        "colab": {
          "base_uri": "https://localhost:8080/"
        },
        "outputId": "feaa10eb-8cab-4f5b-c484-f9f7e8a23f12"
      },
      "outputs": [
        {
          "output_type": "stream",
          "name": "stdout",
          "text": [
            "El tamaño del vocabulario es:  3372\n"
          ]
        }
      ],
      "source": [
        "from sklearn.feature_extraction.text import TfidfVectorizer\n",
        "umbral = 20\n",
        "def Tokenizer(text):\n",
        "    return text.split()\n",
        "# Crear un transformador TfidfVectorizer con el tokenizer extractTerms y rango de n-gramas (1, 1)\n",
        "tfidf_vect  = TfidfVectorizer(tokenizer=Tokenizer, ngram_range=(1, 1), min_df=umbral)\n",
        "# Aplicar el TfidfVectorizer a la columna 'TWEET_TEXT' en data_train y obtener la matriz TF-IDF\n",
        "tfidf_train  = tfidf_vect.fit_transform(data_train['TWEET_TEXT'].values)\n",
        "print(\"El tamaño del vocabulario es: \", len(tfidf_vect.vocabulary_))\n",
        "\n",
        "# Crear arrays X y y para los datos y etiquetas respectivamente\n",
        "X = tfidf_train # Matriz TF-IDF\n",
        "y = data_train['trastorno'].values # Etiquetas de trastorno de la columna 'trastorno'\n",
        "\n",
        "non_null_indices = np.any(X.toarray(), axis=1)\n",
        "\n",
        "# Filtrar X y y para eliminar filas nulas\n",
        "X = X[non_null_indices]\n",
        "y = y[non_null_indices]\n",
        "\n"
      ]
    },
    {
      "cell_type": "code",
      "source": [
        "print(X.shape)\n",
        "print(y.shape)"
      ],
      "metadata": {
        "colab": {
          "base_uri": "https://localhost:8080/"
        },
        "id": "FVvUAU3kMiWC",
        "outputId": "e6c60e9a-270b-4bcf-8354-bf8d518a30f3"
      },
      "execution_count": null,
      "outputs": [
        {
          "output_type": "stream",
          "name": "stdout",
          "text": [
            "(61447, 3372)\n",
            "(61447,)\n"
          ]
        }
      ]
    },
    {
      "cell_type": "code",
      "source": [
        "import numpy as np\n",
        "from sklearn.metrics import accuracy_score, precision_score, recall_score, f1_score\n",
        "from sklearn.model_selection import train_test_split\n",
        "from sklearn.decomposition import LatentDirichletAllocation as LDA\n",
        "from tensorflow.keras.models import Sequential\n",
        "from tensorflow.keras.layers import Dense, Dropout\n",
        "from tensorflow.keras.optimizers import Adam\n",
        "import tensorflow as tf\n",
        "\n",
        "# Dividir los datos en conjuntos de entrenamiento y prueba\n",
        "X_train, X_test, y_train, y_test = train_test_split(X, y, test_size=0.3, random_state=0)\n",
        "\n",
        "# Aplicar LDA para reducir la dimensionalidad\n",
        "n_topics = 10  # Define el número de tópicos (componentes)\n",
        "lda = LDA(n_components=n_topics)\n",
        "X_train_lda = lda.fit_transform(X_train, y_train)\n",
        "X_test_lda = lda.transform(X_test)\n"
      ],
      "metadata": {
        "id": "ycZ9u5OgHUgR"
      },
      "execution_count": null,
      "outputs": []
    },
    {
      "cell_type": "code",
      "source": [
        "# Convert data to NumPy arrays and handle NaN values\n",
        "X_train_lda = np.array(X_train_lda).astype(np.float32)\n",
        "X_test_lda = np.array(X_test_lda).astype(np.float32)\n",
        "\n",
        "# Remove rows with NaN in y_train\n",
        "non_nan_indices_train = ~np.isnan(y_train)\n",
        "X_train_lda = X_train_lda[non_nan_indices_train]\n",
        "y_train = y_train[non_nan_indices_train]\n",
        "\n",
        "# Remove rows with NaN in y_test\n",
        "non_nan_indices_test = ~np.isnan(y_test)\n",
        "X_test_lda = X_test_lda[non_nan_indices_test]\n",
        "y_test = y_test[non_nan_indices_test]\n",
        "\n",
        "# Create a sequential neural network model\n",
        "model = Sequential()\n",
        "\n",
        "input_dim = X_train_lda.shape[1]  # Get the input dimension\n",
        "model.add(Dense(350, activation='relu', input_dim=input_dim))\n",
        "model.add(Dropout(0.1))  # Dropout for regularization\n",
        "\n",
        "# Add a hidden layer\n",
        "model.add(Dense(250, activation='relu'))\n",
        "model.add(Dropout(0.1))  # Dropout for regularization\n",
        "\n",
        "# Add an output layer with one neuron and sigmoid activation function for binary classification\n",
        "model.add(Dense(1, activation='sigmoid'))\n",
        "\n",
        "# Compile the model\n",
        "model.compile(optimizer=Adam(learning_rate=0.001), loss='binary_crossentropy', metrics=['accuracy'])\n",
        "\n",
        "# Use EarlyStopping to stop training if there is no improvement\n",
        "early_stopping = tf.keras.callbacks.EarlyStopping(monitor='val_loss', patience=10, restore_best_weights=True)\n",
        "\n",
        "# Train the model on LDA-transformed training data\n",
        "model.fit(X_train_lda, y_train, epochs=10, batch_size=50, verbose=1, validation_data=(X_test_lda, y_test), callbacks=[early_stopping])\n",
        "\n",
        "# Predictions on the test set\n",
        "y_pred = model.predict(X_test_lda)\n",
        "y_pred_binary = (y_pred > 0.5).astype(int)  # Convert probabilities to binary labels (0 or 1)\n",
        "\n",
        "# Calculate accuracy, precision, recall, and F1 score\n",
        "accuracy = accuracy_score(y_test, y_pred_binary)\n",
        "precision = precision_score(y_test, y_pred_binary, average='weighted')\n",
        "recall = recall_score(y_test, y_pred_binary, average='weighted')\n",
        "f1 = f1_score(y_test, y_pred_binary, average='weighted')\n",
        "\n",
        "# Guardar el modelo entrenado\n",
        "model.save('/content/drive/MyDrive/Experimentación Python Tesis /Experimento Dataset Ansiedad /LDA/parametros /modelo_TFIDF_entrenado_LDA.h5')\n",
        "\n",
        "# Cargar el modelo entrenado\n",
        "loaded_model = tf.keras.models.load_model('/content/drive/MyDrive/Experimentación Python Tesis /Experimento Dataset Ansiedad /LDA/parametros /modelo_TFIDF_entrenado_LDA.h5')\n",
        "\n",
        "\n"
      ],
      "metadata": {
        "colab": {
          "base_uri": "https://localhost:8080/"
        },
        "id": "I65_zMUTPS-5",
        "outputId": "36be139f-28a6-43a8-b1ff-c24b182cb6e3"
      },
      "execution_count": null,
      "outputs": [
        {
          "output_type": "stream",
          "name": "stdout",
          "text": [
            "Epoch 1/10\n",
            "861/861 [==============================] - 13s 13ms/step - loss: 0.5483 - accuracy: 0.7159 - val_loss: 0.5062 - val_accuracy: 0.7536\n",
            "Epoch 2/10\n",
            "861/861 [==============================] - 6s 7ms/step - loss: 0.4969 - accuracy: 0.7514 - val_loss: 0.4860 - val_accuracy: 0.7555\n",
            "Epoch 3/10\n",
            "861/861 [==============================] - 7s 8ms/step - loss: 0.4874 - accuracy: 0.7542 - val_loss: 0.4729 - val_accuracy: 0.7695\n",
            "Epoch 4/10\n",
            "861/861 [==============================] - 6s 7ms/step - loss: 0.4820 - accuracy: 0.7568 - val_loss: 0.4722 - val_accuracy: 0.7661\n",
            "Epoch 5/10\n",
            "861/861 [==============================] - 7s 8ms/step - loss: 0.4774 - accuracy: 0.7595 - val_loss: 0.4719 - val_accuracy: 0.7661\n",
            "Epoch 6/10\n",
            "861/861 [==============================] - 6s 7ms/step - loss: 0.4750 - accuracy: 0.7605 - val_loss: 0.4642 - val_accuracy: 0.7684\n",
            "Epoch 7/10\n",
            "861/861 [==============================] - 8s 9ms/step - loss: 0.4730 - accuracy: 0.7607 - val_loss: 0.4649 - val_accuracy: 0.7720\n",
            "Epoch 8/10\n",
            "861/861 [==============================] - 6s 7ms/step - loss: 0.4721 - accuracy: 0.7622 - val_loss: 0.4677 - val_accuracy: 0.7685\n",
            "Epoch 9/10\n",
            "861/861 [==============================] - 7s 8ms/step - loss: 0.4711 - accuracy: 0.7614 - val_loss: 0.4637 - val_accuracy: 0.7679\n",
            "Epoch 10/10\n",
            "861/861 [==============================] - 6s 7ms/step - loss: 0.4700 - accuracy: 0.7634 - val_loss: 0.4631 - val_accuracy: 0.7661\n",
            "577/577 [==============================] - 1s 2ms/step\n"
          ]
        }
      ]
    },
    {
      "cell_type": "code",
      "source": [
        "print(f\"Exactitud: {accuracy * 100:.2f}%\")\n",
        "print(f\"Precisión: {precision * 100:.2f}%\")\n",
        "print(f\"Recall: {recall * 100:.2f}%\")\n",
        "print(f\"Puntuación F1: {f1 * 100:.2f}%\")"
      ],
      "metadata": {
        "colab": {
          "base_uri": "https://localhost:8080/"
        },
        "id": "O0YFH8iYmXmM",
        "outputId": "3eba9316-49a5-4d81-c047-65a472737019"
      },
      "execution_count": null,
      "outputs": [
        {
          "output_type": "stream",
          "name": "stdout",
          "text": [
            "Exactitud: 76.61%\n",
            "Precisión: 77.50%\n",
            "Recall: 76.61%\n",
            "Puntuación F1: 76.55%\n"
          ]
        }
      ]
    },
    {
      "cell_type": "code",
      "source": [
        "from sklearn.metrics import confusion_matrix\n",
        "\n",
        "y_pred = model.predict(X_test_lda)\n",
        "\n",
        "# Obtiene la matriz de confusión. Las filas corresponden a las clases reales,\n",
        "umbral = 0.5  # Puedes ajustar este umbral según tus necesidades\n",
        "y_pred_binario = (y_pred > umbral).astype(int)\n",
        "\n",
        "# Calcular la matriz de confusión con las etiquetas binarias\n",
        "cm = confusion_matrix(y_test, y_pred_binario)\n",
        "prop_real = np.sum(y_test)/len(y_test)\n",
        "prop_etiqutados = (cm[0,1]+cm[1,1])/len(y_test)\n",
        "\n",
        "print(\"Matriz de confusión: \\n\\n\", cm, \"\\n\")\n",
        "print('Proporción de comentarios positivos: %.2f'% prop_real)\n",
        "print('Proporción de comentarios positivos etiquetados: %.2f'% prop_etiqutados)"
      ],
      "metadata": {
        "colab": {
          "base_uri": "https://localhost:8080/"
        },
        "id": "CPr76zIOf2lf",
        "outputId": "2848b465-2626-47cd-a294-db7a5c206411"
      },
      "execution_count": null,
      "outputs": [
        {
          "output_type": "stream",
          "name": "stdout",
          "text": [
            "577/577 [==============================] - 2s 3ms/step\n",
            "Matriz de confusión: \n",
            "\n",
            " [[7365 1411]\n",
            " [2901 6757]] \n",
            "\n",
            "Proporción de comentarios positivos: 0.52\n",
            "Proporción de comentarios positivos etiquetados: 0.44\n"
          ]
        }
      ]
    },
    {
      "cell_type": "code",
      "source": [
        "import seaborn as sns\n",
        "import matplotlib.pyplot as plt\n",
        "\n",
        "# Crear una figura para la matriz de confusión\n",
        "plt.figure(figsize=(8, 6))\n",
        "\n",
        "# Crear una matriz de confusión usando el heatmap de Seaborn\n",
        "sns.heatmap(cm, annot=True, fmt=\"d\", cmap=\"Blues\", xticklabels=['Control', 'Ansiedad'], yticklabels=['Control', 'Ansiedad'])\n",
        "\n",
        "# Etiquetas y título\n",
        "plt.xlabel('Predicción')\n",
        "plt.ylabel('Valor Real')\n",
        "plt.title('Matriz de Confusión')\n",
        "\n",
        "# Mostrar la gráfica\n",
        "plt.show()"
      ],
      "metadata": {
        "colab": {
          "base_uri": "https://localhost:8080/",
          "height": 570
        },
        "id": "EnhJTWWtg08T",
        "outputId": "b12a6565-6ce8-4abe-d391-df549711a94e"
      },
      "execution_count": null,
      "outputs": [
        {
          "output_type": "display_data",
          "data": {
            "text/plain": [
              "<Figure size 800x600 with 2 Axes>"
            ],
            "image/png": "[encoded data removed]"
          },
          "metadata": {
            "image/png": {
              "width": 671,
              "height": 553
            }
          }
        }
      ]
    },
    {
      "cell_type": "markdown",
      "metadata": {
        "id": "YR_1UCCjz4Iq"
      },
      "source": [
        "# Aprensizaje del modelo: Red neuronal\n",
        "**Validación Cruzada K=10**"
      ]
    },
    {
      "cell_type": "code",
      "source": [
        "import numpy as np\n",
        "from sklearn.model_selection import StratifiedKFold\n",
        "from sklearn.decomposition import LatentDirichletAllocation as LDA\n",
        "from tensorflow.keras.models import Sequential\n",
        "from tensorflow.keras.layers import Dense, Dropout\n",
        "from tensorflow.keras.optimizers import Adam\n",
        "import tensorflow as tf\n",
        "from sklearn.metrics import accuracy_score, precision_score, recall_score, f1_score\n",
        "\n",
        "# Definir la estrategia de validación cruzada (k=10)\n",
        "cv = StratifiedKFold(n_splits=10, shuffle=True, random_state=42)\n",
        "\n",
        "# Listas para almacenar métricas de entrenamiento y validación\n",
        "train_accuracy_scores = []\n",
        "train_precision_scores = []\n",
        "train_recall_scores = []\n",
        "train_f1_scores = []\n",
        "\n",
        "val_accuracy_scores = []\n",
        "val_precision_scores = []\n",
        "val_recall_scores = []\n",
        "val_f1_scores = []\n",
        "\n",
        "# Realizar la validación cruzada\n",
        "for train_index, val_index in cv.split(X_train_lda, y_train):\n",
        "    X_train_index, X_val_index = X_train_lda[train_index], X_train_lda[val_index]\n",
        "    y_train_index, y_val_index = y_train[train_index], y_train[val_index]\n",
        "\n",
        "    # Comprobar valores NaN en y_train_index\n",
        "    nan_indices_train = np.isnan(y_train_index)\n",
        "    if np.any(nan_indices_train):\n",
        "        X_train_index = X_train_index[~nan_indices_train]\n",
        "        y_train_index = y_train_index[~nan_indices_train]\n",
        "\n",
        "    # Crear una red neuronal secuencial\n",
        "    model = Sequential()\n",
        "\n",
        "    # Agregar una capa de entrada con el número de características (tópicos) en tu matriz LDA\n",
        "    model.add(Dense(128, activation='relu', input_dim=X_train_index.shape[1]))\n",
        "    model.add(Dropout(0.1))  # Dropout para regularización\n",
        "\n",
        "    # Agregar una capa oculta\n",
        "    model.add(Dense(64, activation='relu'))\n",
        "    model.add(Dropout(0.1))  # Dropout para regularización\n",
        "\n",
        "    # Agregar una capa de salida con una neurona y función de activación sigmoide para clasificación binaria\n",
        "    model.add(Dense(1, activation='sigmoid'))\n",
        "\n",
        "    # Compilar el modelo\n",
        "    model.compile(optimizer='adam', loss='binary_crossentropy', metrics=['accuracy'])\n",
        "\n",
        "    # Entrenar el modelo en los datos de entrenamiento\n",
        "    model.fit(X_train_index, y_train_index, epochs=10, batch_size=50, verbose=0)\n",
        "\n",
        "    # Evaluar el modelo en el conjunto de entrenamiento\n",
        "    y_train_pred = (model.predict(X_train_index) > 0.5).astype(int)\n",
        "\n",
        "    # Calcular métricas de entrenamiento y agregarlas a las listas\n",
        "    train_accuracy_scores.append(accuracy_score(y_train_index, y_train_pred))\n",
        "    train_precision_scores.append(precision_score(y_train_index, y_train_pred))\n",
        "    train_recall_scores.append(recall_score(y_train_index, y_train_pred))\n",
        "    train_f1_scores.append(f1_score(y_train_index, y_train_pred))\n",
        "\n",
        "    # Evaluar el modelo en el conjunto de validación\n",
        "    y_val_pred = (model.predict(X_val_index) > 0.5).astype(int)\n",
        "\n",
        "    # Calcular métricas de validación y agregarlas a las listas\n",
        "    val_accuracy_scores.append(accuracy_score(y_val_index, y_val_pred))\n",
        "    val_precision_scores.append(precision_score(y_val_index, y_val_pred))\n",
        "    val_recall_scores.append(recall_score(y_val_index, y_val_pred))\n",
        "    val_f1_scores.append(f1_score(y_val_index, y_val_pred))\n",
        "\n",
        "# Calcular las métricas promediadas en entrenamiento\n",
        "train_accuracy_mean = np.mean(train_accuracy_scores)\n",
        "train_precision_mean = np.mean(train_precision_scores)\n",
        "train_recall_mean = np.mean(train_recall_scores)\n",
        "train_f1_mean = np.mean(train_f1_scores)\n",
        "\n",
        "# Imprimir las métricas en entrenamiento\n",
        "print(\"Entrenamiento - Accuracy: {:.2f}%\".format(100 * train_accuracy_mean))\n",
        "print(\"Entrenamiento - Precision: {:.2f}%\".format(100 * train_precision_mean))\n",
        "print(\"Entrenamiento - Recall: {:.2f}%\".format(100 * train_recall_mean))\n",
        "print(\"Entrenamiento - F1 Score: {:.2f}%\".format(100 * train_f1_mean))\n",
        "\n",
        "# Calcular las métricas promediadas en validación\n",
        "val_accuracy_mean = np.mean(val_accuracy_scores)\n",
        "val_precision_mean = np.mean(val_precision_scores)\n",
        "val_recall_mean = np.mean(val_recall_scores)\n",
        "val_f1_mean = np.mean(val_f1_scores)\n",
        "\n",
        "# Imprimir las métricas en validación\n",
        "print(\"Validación - Accuracy: {:.2f}%\".format(100 * val_accuracy_mean))\n",
        "print(\"Validación - Precision: {:.2f}%\".format(100 * val_precision_mean))\n",
        "print(\"Validación - Recall: {:.2f}%\".format(100 * val_recall_mean))\n",
        "print(\"Validación - F1 Score: {:.2f}%\".format(100 * val_f1_mean))\n",
        "\n",
        "# Guardar el modelo entrenado\n",
        "model.save('/content/drive/MyDrive/Experimentación Python Tesis /Experimento Dataset Ansiedad /LDA/parametros /modelo_TFIDF_entrenado_LDA(K=10).h5')\n",
        "\n",
        "# Cargar el modelo entrenado\n",
        "loaded_model = tf.keras.models.load_model('/content/drive/MyDrive/Experimentación Python Tesis /Experimento Dataset Ansiedad /LDA/parametros /modelo_TFIDF_entrenado_LDA(K=10).h5')\n"
      ],
      "metadata": {
        "colab": {
          "base_uri": "https://localhost:8080/"
        },
        "id": "poDMYzSCQIdd",
        "outputId": "b71a7bb6-db31-4638-f130-5efd144edab8"
      },
      "execution_count": null,
      "outputs": [
        {
          "output_type": "stream",
          "name": "stdout",
          "text": [
            "1210/1210 [==============================] - 3s 2ms/step\n",
            "135/135 [==============================] - 0s 2ms/step\n",
            "1210/1210 [==============================] - 2s 2ms/step\n",
            "135/135 [==============================] - 0s 2ms/step\n",
            "1210/1210 [==============================] - 2s 2ms/step\n",
            "135/135 [==============================] - 0s 2ms/step\n",
            "1210/1210 [==============================] - 2s 2ms/step\n",
            "135/135 [==============================] - 0s 2ms/step\n",
            "1210/1210 [==============================] - 2s 2ms/step\n",
            "135/135 [==============================] - 0s 2ms/step\n",
            "1210/1210 [==============================] - 2s 2ms/step\n",
            "135/135 [==============================] - 0s 2ms/step\n",
            "1210/1210 [==============================] - 2s 2ms/step\n",
            "135/135 [==============================] - 0s 2ms/step\n",
            "1210/1210 [==============================] - 4s 3ms/step\n",
            "135/135 [==============================] - 0s 2ms/step\n",
            "1210/1210 [==============================] - 3s 2ms/step\n",
            "135/135 [==============================] - 0s 2ms/step\n",
            "1210/1210 [==============================] - 3s 2ms/step\n",
            "135/135 [==============================] - 0s 2ms/step\n",
            "Entrenamiento - Accuracy: 76.49%\n",
            "Entrenamiento - Precision: 81.98%\n",
            "Entrenamiento - Recall: 70.84%\n",
            "Entrenamiento - F1 Score: 75.97%\n",
            "Validación - Accuracy: 76.43%\n",
            "Validación - Precision: 81.99%\n",
            "Validación - Recall: 70.68%\n",
            "Validación - F1 Score: 75.88%\n"
          ]
        }
      ]
    },
    {
      "cell_type": "code",
      "source": [
        "# Imprimir las métricas promediadas\n",
        "print(\"Métricas de entrenamiento promediadas:\")\n",
        "print(f\"Exactitud: {train_accuracy_mean * 100:.2f}%\")\n",
        "print(f\"Precisión: {train_precision_mean * 100:.2f}%\")\n",
        "print(f\"Recuperación: {train_recall_mean * 100:.2f}%\")\n",
        "print(f\"Puntuación F1: {train_f1_mean * 100:.2f}%\")\n",
        "\n",
        "print(\"\\nMétricas de validación promediadas:\")\n",
        "print(f\"Exactitud: {val_accuracy_mean * 100:.2f}%\")\n",
        "print(f\"Precisión: {val_precision_mean * 100:.2f}%\")\n",
        "print(f\"Recuperación: {val_recall_mean * 100:.2f}%\")\n",
        "print(f\"Puntuación F1: {val_f1_mean * 100:.2f}%\")"
      ],
      "metadata": {
        "colab": {
          "base_uri": "https://localhost:8080/"
        },
        "id": "S5S4IU9JnVyS",
        "outputId": "5e2b1a17-c129-458c-ed5d-fcf20137e421"
      },
      "execution_count": null,
      "outputs": [
        {
          "output_type": "stream",
          "name": "stdout",
          "text": [
            "Métricas de entrenamiento promediadas:\n",
            "Exactitud: 76.49%\n",
            "Precisión: 81.98%\n",
            "Recuperación: 70.84%\n",
            "Puntuación F1: 75.97%\n",
            "\n",
            "Métricas de validación promediadas:\n",
            "Exactitud: 76.43%\n",
            "Precisión: 81.99%\n",
            "Recuperación: 70.68%\n",
            "Puntuación F1: 75.88%\n"
          ]
        }
      ]
    },
    {
      "cell_type": "code",
      "source": [
        "from sklearn.metrics import confusion_matrix\n",
        "with tf.device('/device:CPU:0'):\n",
        "  y_pred = model.predict(X_val_index)\n",
        "\n",
        "# Obtiene la matriz de confusión. Las filas corresponden a las clases reales,\n",
        "umbral = 0.5  # Puedes ajustar este umbral según tus necesidades\n",
        "y_pred_binario = (y_pred > umbral).astype(int)\n",
        "\n",
        "# Calcular la matriz de confusión con las etiquetas binarias\n",
        "cm = confusion_matrix(y_val_index, y_pred_binario)\n",
        "prop_real = np.sum(y_val_index)/len(y_val_index)\n",
        "prop_etiqutados = (cm[0,1]+cm[1,1])/len(y_val_index)\n",
        "\n",
        "print(\"Matriz de confusión: \\n\\n\", cm, \"\\n\")\n",
        "print('Proporción de comentarios positivos: %.2f'% prop_real)\n",
        "print('Proporción de comentarios positivos etiquetados: %.2f'% prop_etiqutados)"
      ],
      "metadata": {
        "colab": {
          "base_uri": "https://localhost:8080/"
        },
        "id": "pXYvOY9iFnQU",
        "outputId": "22b59d01-0433-40a8-bea6-e77a3858ea9b"
      },
      "execution_count": null,
      "outputs": [
        {
          "output_type": "stream",
          "name": "stdout",
          "text": [
            "135/135 [==============================] - 0s 2ms/step\n",
            "Matriz de confusión: \n",
            "\n",
            " [[1676  368]\n",
            " [ 626 1631]] \n",
            "\n",
            "Proporción de comentarios positivos: 0.52\n",
            "Proporción de comentarios positivos etiquetados: 0.46\n"
          ]
        }
      ]
    },
    {
      "cell_type": "code",
      "source": [
        "import seaborn as sns\n",
        "import matplotlib.pyplot as plt\n",
        "\n",
        "# Crear una figura para la matriz de confusión\n",
        "plt.figure(figsize=(8, 6))\n",
        "\n",
        "# Crear una matriz de confusión usando el heatmap de Seaborn\n",
        "sns.heatmap(cm, annot=True, fmt=\"d\", cmap=\"Blues\", xticklabels=['Control', 'Ansiedad'], yticklabels=['Control', 'Ansiedad'])\n",
        "\n",
        "# Etiquetas y título\n",
        "plt.xlabel('Predicción')\n",
        "plt.ylabel('Valor Real')\n",
        "plt.title('Matriz de Confusión')\n",
        "\n",
        "# Mostrar la gráfica\n",
        "plt.show()"
      ],
      "metadata": {
        "colab": {
          "base_uri": "https://localhost:8080/",
          "height": 570
        },
        "id": "hH9C_ztSOmOE",
        "outputId": "71b53f9a-54b9-4dd2-b6c5-bac426c6e77e"
      },
      "execution_count": null,
      "outputs": [
        {
          "output_type": "display_data",
          "data": {
            "text/plain": [
              "<Figure size 800x600 with 2 Axes>"
            ],
            "image/png": "[encoded data removed]"
          },
          "metadata": {
            "image/png": {
              "width": 671,
              "height": 553
            }
          }
        }
      ]
    },
    {
      "cell_type": "markdown",
      "metadata": {
        "id": "hswZRn1z3d8X"
      },
      "source": [
        "# Guardar el modelo\n"
      ]
    },
    {
      "cell_type": "code",
      "execution_count": null,
      "metadata": {
        "id": "wQdVv-G03iEA",
        "colab": {
          "base_uri": "https://localhost:8080/"
        },
        "outputId": "cbcd3d01-8ce3-4311-f6ae-f9a385f00808"
      },
      "outputs": [
        {
          "output_type": "execute_result",
          "data": {
            "text/plain": [
              "['/content/drive/MyDrive/Experimentación Python Tesis /Experimento Dataset Ansiedad /LDA/parametros /TWEETS_ansiedad TFIDF(RN-LDA).pkl']"
            ]
          },
          "metadata": {},
          "execution_count": 27
        }
      ],
      "source": [
        "import joblib\n",
        "import os\n",
        "# Directorio para guardar modelos entrenados\n",
        "model_dir = '/content/drive/MyDrive/Experimentación Python Tesis /Experimento Dataset Ansiedad /LDA/parametros '\n",
        "model_filename = 'TWEETS_ansiedad TFIDF(RN-LDA).pkl'\n",
        "model_path_p = os.path.join(model_dir, model_filename)\n",
        "\n",
        "# Guardar el modelo entrenado\n",
        "joblib.dump(model, model_path_p)"
      ]
    }
  ],
  "metadata": {
    "colab": {
      "provenance": [],
      "mount_file_id": "1Ghi2G-mrbHYu5xDLCYax2veLNzo5Hi3v",
      "authorship_tag": "ABX9TyM0NkhDj3GtXdRy7pBvCGNh"
    },
    "kernelspec": {
      "display_name": "Python 3",
      "name": "python3"
    },
    "language_info": {
      "name": "python"
    }
  },
  "nbformat": 4,
  "nbformat_minor": 0
}
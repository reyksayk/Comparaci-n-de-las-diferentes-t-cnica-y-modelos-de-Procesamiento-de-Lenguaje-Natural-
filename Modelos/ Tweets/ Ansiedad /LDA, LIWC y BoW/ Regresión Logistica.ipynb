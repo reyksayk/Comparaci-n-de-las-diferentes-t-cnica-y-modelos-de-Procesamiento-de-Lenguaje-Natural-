{
  "nbformat": 4,
  "nbformat_minor": 0,
  "metadata": {
    "colab": {
      "provenance": [],
      "machine_shape": "hm",
      "mount_file_id": "1ydiFgd3FOhUQWH01ucFw8efXCb_qGJhH",
      "authorship_tag": "ABX9TyN6vR87rHMPAPF+1HDS8m64"
    },
    "kernelspec": {
      "name": "python3",
      "display_name": "Python 3"
    },
    "language_info": {
      "name": "python"
    }
  },
  "cells": [
    {
      "cell_type": "code",
      "execution_count": null,
      "metadata": {
        "id": "nOnCRxQTv67j"
      },
      "outputs": [],
      "source": [
        "!pip install liwc\n",
        "!pip install nltk\n",
        "!pip install spacy\n",
        "!python -m spacy download es_core_news_sm\n",
        "!pip install -U imbalanced-learn\n",
        "!pip install pyspellchecker"
      ]
    },
    {
      "cell_type": "code",
      "execution_count": null,
      "metadata": {
        "id": "1uRSa1LYb7SG"
      },
      "outputs": [],
      "source": [
        "import pandas as pd\n",
        "import numpy as np\n",
        "from collections import Counter\n",
        "import matplotlib.pyplot as plt\n",
        "import seaborn as sns; sns.set()\n",
        "%config InlineBackend.figure_format = 'retina'\n",
        "%matplotlib inline\n",
        "\n",
        "# Oculta warnings\n",
        "import warnings\n",
        "warnings.simplefilter('ignore')"
      ]
    },
    {
      "cell_type": "code",
      "execution_count": null,
      "metadata": {
        "colab": {
          "base_uri": "https://localhost:8080/",
          "height": 17
        },
        "id": "hzPoe11ed1Cn",
        "outputId": "4f64b475-d91d-4e10-d566-7679f1f8dec8"
      },
      "outputs": [
        {
          "output_type": "display_data",
          "data": {
            "text/plain": [
              "<IPython.core.display.HTML object>"
            ],
            "text/html": [
              "<style>.container { width:95% !important; }</style>"
            ]
          },
          "metadata": {}
        }
      ],
      "source": [
        "from IPython.core.display import display, HTML\n",
        "display(HTML(\"<style>.container { width:95% !important; }</style>\"))"
      ]
    },
    {
      "cell_type": "markdown",
      "source": [
        "# **Leer LIWC diccionario - Español**"
      ],
      "metadata": {
        "id": "yOLXvMJ-xOM8"
      }
    },
    {
      "cell_type": "code",
      "source": [
        "import liwc"
      ],
      "metadata": {
        "id": "wozEMsumyVUk"
      },
      "execution_count": null,
      "outputs": []
    },
    {
      "cell_type": "code",
      "source": [
        "liwcPath= r'/content/drive/MyDrive/Experimentación Python Tesis /Diccionarios español/Spanish_LIWC2007_Dictionary.dic'\n",
        "parse, category_names = liwc.load_token_parser(liwcPath)\n",
        "print(f'Categorias del diccionario: {category_names}')"
      ],
      "metadata": {
        "colab": {
          "base_uri": "https://localhost:8080/"
        },
        "id": "deI6nLGcxVFM",
        "outputId": "08da3652-d1c0-496f-ec48-e4b02e87fed9"
      },
      "execution_count": null,
      "outputs": [
        {
          "output_type": "stream",
          "name": "stdout",
          "text": [
            "Categorias del diccionario: ['Funct', 'TotPron', 'PronPer', 'Yo', 'Nosotro', 'TuUtd', 'ElElla', 'Ellos', 'PronImp', 'Articulo', 'Verbos', 'VerbAux', 'Pasado', 'Present', 'Futuro', 'Adverb', 'Prepos', 'Conjunc', 'Negacio', 'Cuantif', 'Numeros', 'Maldec', 'verbYO', 'verbTU', 'verbNOS', 'verbosEL', 'verbELLOS', 'Subjuntiv', 'VosUtds', 'formal', 'informal', 'verbVos', 'Social', 'Familia', 'Amigos', 'Humanos', 'Afect', 'EmoPos', 'EmoNeg', 'Ansiedad', 'Enfado', 'Triste', 'MecCog', 'Insight', 'Causa', 'Discrep', 'Tentat', 'Certeza', 'Inhib', 'Incl', 'Excl', 'Percept', 'Ver', 'Oir', 'Sentir', 'Biolog', 'Cuerpo', 'Salud', 'Sexual', 'Ingerir', 'Relativ', 'Movim', 'Espacio', 'Tiempo', 'Trabajo', 'Logro', 'Placer', 'Hogar', 'Dinero', 'Relig', 'Muerte', 'Asentir', 'NoFluen', 'Relleno']\n"
          ]
        }
      ]
    },
    {
      "cell_type": "markdown",
      "metadata": {
        "id": "CLArw93weAlq"
      },
      "source": [
        "# CARGAR DATOS"
      ]
    },
    {
      "cell_type": "markdown",
      "metadata": {
        "id": "B499esgwety5"
      },
      "source": [
        "**DATOS DE ENTRENAMIENTO**\n",
        "\n",
        "la columna de trastornos indica si el TWEET es de una persona con depresión o es de control.\n",
        "\n",
        "\n",
        "**control**:     0\n",
        "\n",
        "**ansiedad**:   1\n",
        "\n"
      ]
    },
    {
      "cell_type": "code",
      "execution_count": null,
      "metadata": {
        "colab": {
          "base_uri": "https://localhost:8080/",
          "height": 554
        },
        "id": "O7T2rh8Md6p2",
        "outputId": "8ae1e3e1-7089-4dff-f509-d6d5b36fba8f"
      },
      "outputs": [
        {
          "output_type": "stream",
          "name": "stdout",
          "text": [
            "<class 'pandas.core.frame.DataFrame'>\n",
            "RangeIndex: 64989 entries, 0 to 64988\n",
            "Data columns (total 4 columns):\n",
            " #   Column      Non-Null Count  Dtype  \n",
            "---  ------      --------------  -----  \n",
            " 0   USER_ID     32528 non-null  object \n",
            " 1   TWEET_ID    32528 non-null  float64\n",
            " 2   TWEET_TEXT  64989 non-null  object \n",
            " 3   trastorno   64985 non-null  float64\n",
            "dtypes: float64(2), object(2)\n",
            "memory usage: 2.0+ MB\n"
          ]
        },
        {
          "output_type": "execute_result",
          "data": {
            "text/plain": [
              "  USER_ID      TWEET_ID                                         TWEET_TEXT  \\\n",
              "0     NaN           NaN  3522.0, intenta combatir siéntete indeseable c...   \n",
              "1   302.0  2.147484e+09  RT @giraltpablo: Lamentablemente, Ecuador perd...   \n",
              "2     NaN           NaN                       Minitrigos helados ansiosos.   \n",
              "3     NaN           NaN  Está bien. Yo he estado ahí antes. Dudaba de m...   \n",
              "4     NaN           NaN  ¡Siento escuchar eso! Considere la posibilidad...   \n",
              "5   480.0  2.147484e+09  No entiendo eso de apoyar en una final,al equi...   \n",
              "6   266.0  2.147484e+09  \"Come On\" - @akapellah feat @BigSotoLuc &amp; ...   \n",
              "7     NaN           NaN  ,Hola, chico, aparentemente tiene una enfermed...   \n",
              "8   390.0  2.147484e+09  RT @excelentum: El que domina su cólera, domin...   \n",
              "9   288.0  2.147484e+09       RT @Guillodibujante: https://t.co/YO0oAArJJq   \n",
              "\n",
              "   trastorno  \n",
              "0        1.0  \n",
              "1        0.0  \n",
              "2        1.0  \n",
              "3        1.0  \n",
              "4        1.0  \n",
              "5        0.0  \n",
              "6        0.0  \n",
              "7        1.0  \n",
              "8        0.0  \n",
              "9        0.0  "
            ],
            "text/html": [
              "\n",
              "  <div id=\"df-ac583137-340a-414d-96ac-80716ba6ec32\" class=\"colab-df-container\">\n",
              "    <div>\n",
              "<style scoped>\n",
              "    .dataframe tbody tr th:only-of-type {\n",
              "        vertical-align: middle;\n",
              "    }\n",
              "\n",
              "    .dataframe tbody tr th {\n",
              "        vertical-align: top;\n",
              "    }\n",
              "\n",
              "    .dataframe thead th {\n",
              "        text-align: right;\n",
              "    }\n",
              "</style>\n",
              "<table border=\"1\" class=\"dataframe\">\n",
              "  <thead>\n",
              "    <tr style=\"text-align: right;\">\n",
              "      <th></th>\n",
              "      <th>USER_ID</th>\n",
              "      <th>TWEET_ID</th>\n",
              "      <th>TWEET_TEXT</th>\n",
              "      <th>trastorno</th>\n",
              "    </tr>\n",
              "  </thead>\n",
              "  <tbody>\n",
              "    <tr>\n",
              "      <th>0</th>\n",
              "      <td>NaN</td>\n",
              "      <td>NaN</td>\n",
              "      <td>3522.0, intenta combatir siéntete indeseable c...</td>\n",
              "      <td>1.0</td>\n",
              "    </tr>\n",
              "    <tr>\n",
              "      <th>1</th>\n",
              "      <td>302.0</td>\n",
              "      <td>2.147484e+09</td>\n",
              "      <td>RT @giraltpablo: Lamentablemente, Ecuador perd...</td>\n",
              "      <td>0.0</td>\n",
              "    </tr>\n",
              "    <tr>\n",
              "      <th>2</th>\n",
              "      <td>NaN</td>\n",
              "      <td>NaN</td>\n",
              "      <td>Minitrigos helados ansiosos.</td>\n",
              "      <td>1.0</td>\n",
              "    </tr>\n",
              "    <tr>\n",
              "      <th>3</th>\n",
              "      <td>NaN</td>\n",
              "      <td>NaN</td>\n",
              "      <td>Está bien. Yo he estado ahí antes. Dudaba de m...</td>\n",
              "      <td>1.0</td>\n",
              "    </tr>\n",
              "    <tr>\n",
              "      <th>4</th>\n",
              "      <td>NaN</td>\n",
              "      <td>NaN</td>\n",
              "      <td>¡Siento escuchar eso! Considere la posibilidad...</td>\n",
              "      <td>1.0</td>\n",
              "    </tr>\n",
              "    <tr>\n",
              "      <th>5</th>\n",
              "      <td>480.0</td>\n",
              "      <td>2.147484e+09</td>\n",
              "      <td>No entiendo eso de apoyar en una final,al equi...</td>\n",
              "      <td>0.0</td>\n",
              "    </tr>\n",
              "    <tr>\n",
              "      <th>6</th>\n",
              "      <td>266.0</td>\n",
              "      <td>2.147484e+09</td>\n",
              "      <td>\"Come On\" - @akapellah feat @BigSotoLuc &amp;amp; ...</td>\n",
              "      <td>0.0</td>\n",
              "    </tr>\n",
              "    <tr>\n",
              "      <th>7</th>\n",
              "      <td>NaN</td>\n",
              "      <td>NaN</td>\n",
              "      <td>,Hola, chico, aparentemente tiene una enfermed...</td>\n",
              "      <td>1.0</td>\n",
              "    </tr>\n",
              "    <tr>\n",
              "      <th>8</th>\n",
              "      <td>390.0</td>\n",
              "      <td>2.147484e+09</td>\n",
              "      <td>RT @excelentum: El que domina su cólera, domin...</td>\n",
              "      <td>0.0</td>\n",
              "    </tr>\n",
              "    <tr>\n",
              "      <th>9</th>\n",
              "      <td>288.0</td>\n",
              "      <td>2.147484e+09</td>\n",
              "      <td>RT @Guillodibujante: https://t.co/YO0oAArJJq</td>\n",
              "      <td>0.0</td>\n",
              "    </tr>\n",
              "  </tbody>\n",
              "</table>\n",
              "</div>\n",
              "    <div class=\"colab-df-buttons\">\n",
              "\n",
              "  <div class=\"colab-df-container\">\n",
              "    <button class=\"colab-df-convert\" onclick=\"convertToInteractive('df-ac583137-340a-414d-96ac-80716ba6ec32')\"\n",
              "            title=\"Convert this dataframe to an interactive table.\"\n",
              "            style=\"display:none;\">\n",
              "\n",
              "  <svg xmlns=\"http://www.w3.org/2000/svg\" height=\"24px\" viewBox=\"0 -960 960 960\">\n",
              "    <path d=\"M120-120v-720h720v720H120Zm60-500h600v-160H180v160Zm220 220h160v-160H400v160Zm0 220h160v-160H400v160ZM180-400h160v-160H180v160Zm440 0h160v-160H620v160ZM180-180h160v-160H180v160Zm440 0h160v-160H620v160Z\"/>\n",
              "  </svg>\n",
              "    </button>\n",
              "\n",
              "  <style>\n",
              "    .colab-df-container {\n",
              "      display:flex;\n",
              "      gap: 12px;\n",
              "    }\n",
              "\n",
              "    .colab-df-convert {\n",
              "      background-color: #E8F0FE;\n",
              "      border: none;\n",
              "      border-radius: 50%;\n",
              "      cursor: pointer;\n",
              "      display: none;\n",
              "      fill: #1967D2;\n",
              "      height: 32px;\n",
              "      padding: 0 0 0 0;\n",
              "      width: 32px;\n",
              "    }\n",
              "\n",
              "    .colab-df-convert:hover {\n",
              "      background-color: #E2EBFA;\n",
              "      box-shadow: 0px 1px 2px rgba(60, 64, 67, 0.3), 0px 1px 3px 1px rgba(60, 64, 67, 0.15);\n",
              "      fill: #174EA6;\n",
              "    }\n",
              "\n",
              "    .colab-df-buttons div {\n",
              "      margin-bottom: 4px;\n",
              "    }\n",
              "\n",
              "    [theme=dark] .colab-df-convert {\n",
              "      background-color: #3B4455;\n",
              "      fill: #D2E3FC;\n",
              "    }\n",
              "\n",
              "    [theme=dark] .colab-df-convert:hover {\n",
              "      background-color: #434B5C;\n",
              "      box-shadow: 0px 1px 3px 1px rgba(0, 0, 0, 0.15);\n",
              "      filter: drop-shadow(0px 1px 2px rgba(0, 0, 0, 0.3));\n",
              "      fill: #FFFFFF;\n",
              "    }\n",
              "  </style>\n",
              "\n",
              "    <script>\n",
              "      const buttonEl =\n",
              "        document.querySelector('#df-ac583137-340a-414d-96ac-80716ba6ec32 button.colab-df-convert');\n",
              "      buttonEl.style.display =\n",
              "        google.colab.kernel.accessAllowed ? 'block' : 'none';\n",
              "\n",
              "      async function convertToInteractive(key) {\n",
              "        const element = document.querySelector('#df-ac583137-340a-414d-96ac-80716ba6ec32');\n",
              "        const dataTable =\n",
              "          await google.colab.kernel.invokeFunction('convertToInteractive',\n",
              "                                                    [key], {});\n",
              "        if (!dataTable) return;\n",
              "\n",
              "        const docLinkHtml = 'Like what you see? Visit the ' +\n",
              "          '<a target=\"_blank\" href=https://colab.research.google.com/notebooks/data_table.ipynb>data table notebook</a>'\n",
              "          + ' to learn more about interactive tables.';\n",
              "        element.innerHTML = '';\n",
              "        dataTable['output_type'] = 'display_data';\n",
              "        await google.colab.output.renderOutput(dataTable, element);\n",
              "        const docLink = document.createElement('div');\n",
              "        docLink.innerHTML = docLinkHtml;\n",
              "        element.appendChild(docLink);\n",
              "      }\n",
              "    </script>\n",
              "  </div>\n",
              "\n",
              "\n",
              "<div id=\"df-4b93f4a8-1e28-4af1-b28f-51c12feac612\">\n",
              "  <button class=\"colab-df-quickchart\" onclick=\"quickchart('df-4b93f4a8-1e28-4af1-b28f-51c12feac612')\"\n",
              "            title=\"Suggest charts\"\n",
              "            style=\"display:none;\">\n",
              "\n",
              "<svg xmlns=\"http://www.w3.org/2000/svg\" height=\"24px\"viewBox=\"0 0 24 24\"\n",
              "     width=\"24px\">\n",
              "    <g>\n",
              "        <path d=\"M19 3H5c-1.1 0-2 .9-2 2v14c0 1.1.9 2 2 2h14c1.1 0 2-.9 2-2V5c0-1.1-.9-2-2-2zM9 17H7v-7h2v7zm4 0h-2V7h2v10zm4 0h-2v-4h2v4z\"/>\n",
              "    </g>\n",
              "</svg>\n",
              "  </button>\n",
              "\n",
              "<style>\n",
              "  .colab-df-quickchart {\n",
              "      --bg-color: #E8F0FE;\n",
              "      --fill-color: #1967D2;\n",
              "      --hover-bg-color: #E2EBFA;\n",
              "      --hover-fill-color: #174EA6;\n",
              "      --disabled-fill-color: #AAA;\n",
              "      --disabled-bg-color: #DDD;\n",
              "  }\n",
              "\n",
              "  [theme=dark] .colab-df-quickchart {\n",
              "      --bg-color: #3B4455;\n",
              "      --fill-color: #D2E3FC;\n",
              "      --hover-bg-color: #434B5C;\n",
              "      --hover-fill-color: #FFFFFF;\n",
              "      --disabled-bg-color: #3B4455;\n",
              "      --disabled-fill-color: #666;\n",
              "  }\n",
              "\n",
              "  .colab-df-quickchart {\n",
              "    background-color: var(--bg-color);\n",
              "    border: none;\n",
              "    border-radius: 50%;\n",
              "    cursor: pointer;\n",
              "    display: none;\n",
              "    fill: var(--fill-color);\n",
              "    height: 32px;\n",
              "    padding: 0;\n",
              "    width: 32px;\n",
              "  }\n",
              "\n",
              "  .colab-df-quickchart:hover {\n",
              "    background-color: var(--hover-bg-color);\n",
              "    box-shadow: 0 1px 2px rgba(60, 64, 67, 0.3), 0 1px 3px 1px rgba(60, 64, 67, 0.15);\n",
              "    fill: var(--button-hover-fill-color);\n",
              "  }\n",
              "\n",
              "  .colab-df-quickchart-complete:disabled,\n",
              "  .colab-df-quickchart-complete:disabled:hover {\n",
              "    background-color: var(--disabled-bg-color);\n",
              "    fill: var(--disabled-fill-color);\n",
              "    box-shadow: none;\n",
              "  }\n",
              "\n",
              "  .colab-df-spinner {\n",
              "    border: 2px solid var(--fill-color);\n",
              "    border-color: transparent;\n",
              "    border-bottom-color: var(--fill-color);\n",
              "    animation:\n",
              "      spin 1s steps(1) infinite;\n",
              "  }\n",
              "\n",
              "  @keyframes spin {\n",
              "    0% {\n",
              "      border-color: transparent;\n",
              "      border-bottom-color: var(--fill-color);\n",
              "      border-left-color: var(--fill-color);\n",
              "    }\n",
              "    20% {\n",
              "      border-color: transparent;\n",
              "      border-left-color: var(--fill-color);\n",
              "      border-top-color: var(--fill-color);\n",
              "    }\n",
              "    30% {\n",
              "      border-color: transparent;\n",
              "      border-left-color: var(--fill-color);\n",
              "      border-top-color: var(--fill-color);\n",
              "      border-right-color: var(--fill-color);\n",
              "    }\n",
              "    40% {\n",
              "      border-color: transparent;\n",
              "      border-right-color: var(--fill-color);\n",
              "      border-top-color: var(--fill-color);\n",
              "    }\n",
              "    60% {\n",
              "      border-color: transparent;\n",
              "      border-right-color: var(--fill-color);\n",
              "    }\n",
              "    80% {\n",
              "      border-color: transparent;\n",
              "      border-right-color: var(--fill-color);\n",
              "      border-bottom-color: var(--fill-color);\n",
              "    }\n",
              "    90% {\n",
              "      border-color: transparent;\n",
              "      border-bottom-color: var(--fill-color);\n",
              "    }\n",
              "  }\n",
              "</style>\n",
              "\n",
              "  <script>\n",
              "    async function quickchart(key) {\n",
              "      const quickchartButtonEl =\n",
              "        document.querySelector('#' + key + ' button');\n",
              "      quickchartButtonEl.disabled = true;  // To prevent multiple clicks.\n",
              "      quickchartButtonEl.classList.add('colab-df-spinner');\n",
              "      try {\n",
              "        const charts = await google.colab.kernel.invokeFunction(\n",
              "            'suggestCharts', [key], {});\n",
              "      } catch (error) {\n",
              "        console.error('Error during call to suggestCharts:', error);\n",
              "      }\n",
              "      quickchartButtonEl.classList.remove('colab-df-spinner');\n",
              "      quickchartButtonEl.classList.add('colab-df-quickchart-complete');\n",
              "    }\n",
              "    (() => {\n",
              "      let quickchartButtonEl =\n",
              "        document.querySelector('#df-4b93f4a8-1e28-4af1-b28f-51c12feac612 button');\n",
              "      quickchartButtonEl.style.display =\n",
              "        google.colab.kernel.accessAllowed ? 'block' : 'none';\n",
              "    })();\n",
              "  </script>\n",
              "</div>\n",
              "    </div>\n",
              "  </div>\n"
            ]
          },
          "metadata": {},
          "execution_count": 16
        }
      ],
      "source": [
        "ruta_archivo_entrenamiento = '/content/drive/MyDrive/Experimentación Python Tesis /entrenamiento y prueba (control vs ansiedad)/train.csv'\n",
        "data_train = pd.read_csv(ruta_archivo_entrenamiento, sep=',')\n",
        "\n",
        "\n",
        "data_train['TWEET_TEXT'] = data_train['TWEET_TEXT'].astype(str)\n",
        "data_train.info()\n",
        "data_train.head(10)"
      ]
    },
    {
      "cell_type": "code",
      "source": [],
      "metadata": {
        "id": "QQI5oidd0cg_"
      },
      "execution_count": null,
      "outputs": []
    },
    {
      "cell_type": "code",
      "execution_count": null,
      "metadata": {
        "colab": {
          "base_uri": "https://localhost:8080/"
        },
        "id": "U3yu15xZSi3G",
        "outputId": "43eb688b-22e1-4e3b-c551-a0855aaeb0ca"
      },
      "outputs": [
        {
          "output_type": "stream",
          "name": "stdout",
          "text": [
            "Número de filas nulas o vacías en la columna 'TWEET_TEXT': 0\n"
          ]
        }
      ],
      "source": [
        "# Verificar si hay filas nulas o vacías en la columna 'TWEET_TEXT'\n",
        "null_values = data_train['TWEET_TEXT'].isnull().sum()\n",
        "\n",
        "# Imprimir el número de filas nulas o vacías\n",
        "print(\"Número de filas nulas o vacías en la columna 'TWEET_TEXT':\", null_values)"
      ]
    },
    {
      "cell_type": "code",
      "source": [
        "data_train.dropna(subset=['TWEET_TEXT'], inplace=True)\n",
        "\n",
        "# Verificar si hay filas nulas o vacías en la columna 'TWEET_TEXT'\n",
        "null_values = data_train['TWEET_TEXT'].isnull().sum()\n",
        "\n",
        "# Imprimir el número de filas nulas o vacías\n",
        "print(\"Número de filas nulas o vacías en la columna 'TWEET_TEXT':\", null_values)\n",
        "data_train.info()"
      ],
      "metadata": {
        "colab": {
          "base_uri": "https://localhost:8080/"
        },
        "id": "C1koM-mfk7ys",
        "outputId": "b857a859-f63e-4e77-f879-51fc3e96024e"
      },
      "execution_count": null,
      "outputs": [
        {
          "output_type": "stream",
          "name": "stdout",
          "text": [
            "Número de filas nulas o vacías en la columna 'TWEET_TEXT': 0\n",
            "<class 'pandas.core.frame.DataFrame'>\n",
            "Int64Index: 64985 entries, 0 to 64988\n",
            "Data columns (total 4 columns):\n",
            " #   Column      Non-Null Count  Dtype  \n",
            "---  ------      --------------  -----  \n",
            " 0   USER_ID     32524 non-null  object \n",
            " 1   TWEET_ID    32524 non-null  float64\n",
            " 2   TWEET_TEXT  64985 non-null  object \n",
            " 3   trastorno   64985 non-null  int64  \n",
            "dtypes: float64(1), int64(1), object(2)\n",
            "memory usage: 2.5+ MB\n"
          ]
        }
      ]
    },
    {
      "cell_type": "markdown",
      "source": [
        "# **limpiar Dataset**"
      ],
      "metadata": {
        "id": "cbGSCbiUzrIb"
      }
    },
    {
      "cell_type": "code",
      "source": [
        "import re\n",
        "import string\n",
        "\n",
        "\n",
        "def removeHTML(text):\n",
        "    if isinstance(text, str):  # Verificar si es de tipo string\n",
        "        cleanr = re.compile('<.*?>')\n",
        "        cleantext = re.sub(cleanr, '', text)\n",
        "        return cleantext\n",
        "    else:\n",
        "        return text  # Devolver el valor original si no es de tipo string\n",
        "\n",
        "def clean(text):\n",
        "    text = text.lower()\n",
        "    text = re.sub('\\[.*?\\]', '', text)\n",
        "    text = re.sub(\"\\\\W\",\" \",text)\n",
        "    text = re.sub('https?://\\S+|www\\.\\S+', '', text)\n",
        "    text = re.sub(r'https', '', text)\n",
        "    text = re.sub('<.*?>+', '', text)\n",
        "    text = re.sub('[%s]' % re.escape(string.punctuation), '', text)\n",
        "    text = re.sub('\\n', '', text)\n",
        "    text = re.sub('\\w*\\d\\w*', '', text)\n",
        "    text = re.sub(r'#\\w+', '', text)\n",
        "    text = re.sub(r'(https?://)?[a-zA-Z0-9]+\\.[a-zA-Z0-9]+\\S*', '', text)\n",
        "    text = re.sub(r'@\\w+', '', text)\n",
        "    text = re.sub(r'\\b[A-Z][a-z]+\\b', '', text)\n",
        "    text = re.sub(r'[^\\w\\s]+', '', text)\n",
        "    text = re.sub(r'\\b\\w{1,2}\\b|\\d+', '', text)\n",
        "    emojis = re.findall(r'[^\\w\\s,]', text)\n",
        "    cleaned_emojis = [emoji for emoji in emojis if emoji not in ['@', '#', '/', '?','¿','.','…','\"',':','“','!','¡','°','-',\"‘\",'’',\n",
        "                                                                  '=',';','(',')',\"'\",\"'\",'&','€','%','$','*','+','|', '”','🇦','🇷',',',\n",
        "                                                                  ', ','—','«',' »','»','« ','[, ]','[,]',',',', ','',' ',' ♀',' 🏽']]\n",
        "    for emoji in cleaned_emojis:\n",
        "        text = text.replace(emoji, '')\n",
        "    return text\n"
      ],
      "metadata": {
        "id": "KK6VZLPLwsse"
      },
      "execution_count": null,
      "outputs": []
    },
    {
      "cell_type": "code",
      "source": [
        "data_train['TWEET_TEXT'] = data_train.TWEET_TEXT.apply(lambda x : removeHTML(x))\n",
        "data_train['TWEET_TEXT'] = data_train.TWEET_TEXT.apply(lambda x : clean(x))"
      ],
      "metadata": {
        "id": "1-d1GI992ZIq"
      },
      "execution_count": null,
      "outputs": []
    },
    {
      "cell_type": "markdown",
      "source": [
        "**Remover Stopword**"
      ],
      "metadata": {
        "id": "0JeozIJn4RmL"
      }
    },
    {
      "cell_type": "code",
      "source": [
        "import nltk\n",
        "nltk.download('punkt')"
      ],
      "metadata": {
        "colab": {
          "base_uri": "https://localhost:8080/"
        },
        "id": "jGQsFbT4G3bd",
        "outputId": "5e45a0a4-c0a1-4b81-d605-8bdd0646a26c"
      },
      "execution_count": null,
      "outputs": [
        {
          "output_type": "stream",
          "name": "stderr",
          "text": [
            "[nltk_data] Downloading package punkt to /root/nltk_data...\n",
            "[nltk_data]   Unzipping tokenizers/punkt.zip.\n"
          ]
        },
        {
          "output_type": "execute_result",
          "data": {
            "text/plain": [
              "True"
            ]
          },
          "metadata": {},
          "execution_count": 9
        }
      ]
    },
    {
      "cell_type": "code",
      "source": [
        "import nltk\n",
        "nltk.download('punkt')\n",
        "nltk.download('stopwords')  #Solamente se ha de descargar la primera vez.\n",
        "stopwords_en = nltk.corpus.stopwords.words('spanish')   # Extrae las stopwords en español"
      ],
      "metadata": {
        "colab": {
          "base_uri": "https://localhost:8080/"
        },
        "id": "lcfc-uEQ4b3d",
        "outputId": "f759a8ed-da77-41b0-dbe6-1ad2891b8d03"
      },
      "execution_count": null,
      "outputs": [
        {
          "output_type": "stream",
          "name": "stderr",
          "text": [
            "[nltk_data] Downloading package punkt to /root/nltk_data...\n",
            "[nltk_data]   Package punkt is already up-to-date!\n",
            "[nltk_data] Downloading package stopwords to /root/nltk_data...\n",
            "[nltk_data]   Unzipping corpora/stopwords.zip.\n"
          ]
        }
      ]
    },
    {
      "cell_type": "code",
      "source": [
        "def Stopword(text):\n",
        "  token_text = nltk.word_tokenize(text)\n",
        "  remover_palab = [word for word in token_text if word not in stopwords_en]\n",
        "  join_text = ' '.join(remover_palab)\n",
        "  return join_text"
      ],
      "metadata": {
        "id": "OvMfIWiY4qvR"
      },
      "execution_count": null,
      "outputs": []
    },
    {
      "cell_type": "code",
      "source": [
        "data_train['TWEET_TEXT'] = data_train.TWEET_TEXT.apply(lambda x : Stopword(x))"
      ],
      "metadata": {
        "id": "lVJhcStMlUA-"
      },
      "execution_count": null,
      "outputs": []
    },
    {
      "cell_type": "markdown",
      "source": [
        "**Lemmatización**"
      ],
      "metadata": {
        "id": "kXOFYNti9vAY"
      }
    },
    {
      "cell_type": "code",
      "source": [
        "import spacy\n",
        "from spacy.lang.es import Spanish\n",
        "from nltk.corpus import stopwords\n",
        "from nltk.stem import PorterStemmer\n",
        "\n",
        "# Cargar modelo de spaCy\n",
        "nlp = spacy.load(\"es_core_news_sm\")\n",
        "\n",
        "# Cargar stopwords en español\n",
        "stopwords_es = set(stopwords.words('spanish'))\n",
        "\n",
        "# Inicializar stemmer de NLTK\n",
        "stemmer = PorterStemmer()"
      ],
      "metadata": {
        "id": "uRfLW5eF9ut4"
      },
      "execution_count": null,
      "outputs": []
    },
    {
      "cell_type": "code",
      "source": [
        "import pandas as pd\n",
        "import spacy\n",
        "from spacy.lang.es import Spanish\n",
        "from nltk.corpus import stopwords\n",
        "\n",
        "\n",
        "# Cargar modelo de spaCy\n",
        "nlp = spacy.load(\"es_core_news_sm\")\n",
        "\n",
        "# Cargar stopwords en español\n",
        "stopwords_es = set(stopwords.words('spanish'))\n",
        "def extractTerms(text):\n",
        "    if isinstance(text, str):\n",
        "        # Tokenización y lematización con spaCy\n",
        "        doc = nlp(text)\n",
        "        lemmatized_terms = [token.lemma_ for token in doc if token.text.lower() not in stopwords_es]\n",
        "\n",
        "        return lemmatized_terms\n",
        "    else:\n",
        "        return []  # Devolver una lista vacía si el texto no es una cadena de texto\n",
        "\n",
        "# Ejemplo de uso\n",
        "texto_ejemplo = \"Me gustan los gatos están saltando sobre las vallas\"\n",
        "terminos_extraidos = extractTerms(texto_ejemplo)\n",
        "print(terminos_extraidos)"
      ],
      "metadata": {
        "colab": {
          "base_uri": "https://localhost:8080/"
        },
        "id": "ZIBEsNbV-Ta-",
        "outputId": "ee64b8a2-ac83-403f-d4c6-7b06aec139f6"
      },
      "execution_count": null,
      "outputs": [
        {
          "output_type": "stream",
          "name": "stdout",
          "text": [
            "['gustar', 'gato', 'saltar', 'valla']\n"
          ]
        }
      ]
    },
    {
      "cell_type": "code",
      "source": [
        "data_train['TWEET_TEXT'] = data_train.TWEET_TEXT.apply(lambda x : extractTerms(x))"
      ],
      "metadata": {
        "id": "0M3G4FHe-fQg"
      },
      "execution_count": null,
      "outputs": []
    },
    {
      "cell_type": "markdown",
      "source": [
        "# **Usar LIWC para extraer las caracteristicas del texto**"
      ],
      "metadata": {
        "id": "6nxcrNz4H1OP"
      }
    },
    {
      "cell_type": "code",
      "source": [
        "corpus = []\n",
        "words = []\n",
        "\n",
        "for i in range(0,len(data_train)):\n",
        "    review = re.sub('[^a-zA-Z0-9]',' ',data_train['TWEET_TEXT'][i])\n",
        "    review = review.lower()\n",
        "    review = review.split()\n",
        "\n",
        "    review = list(category for token in review for category in parse(token))\n",
        "    statements = ' '.join(review)\n",
        "    corpus.append(statements)\n",
        "    words.append(review)\n"
      ],
      "metadata": {
        "id": "8qa-TdKtIP6A"
      },
      "execution_count": null,
      "outputs": []
    },
    {
      "cell_type": "markdown",
      "source": [
        "# **Metodo TfidfVectorizer**"
      ],
      "metadata": {
        "id": "-4Hji3uCKuj-"
      }
    },
    {
      "cell_type": "code",
      "source": [
        "# from sklearn.feature_extraction.text import TfidfVectorizer\n",
        "# vectorizer=TfidfVectorizer(max_features=5000)\n",
        "# X_fit=vectorizer.fit(corpus)\n",
        "# X_transformed=X_fit.transform(corpus)\n",
        "# features = vectorizer.get_feature_names_out()\n",
        "# df_count = pd.DataFrame(X_transformed.toarray(),columns = features)\n",
        "# df_count"
      ],
      "metadata": {
        "id": "iKm3yoWlPBPg"
      },
      "execution_count": null,
      "outputs": []
    },
    {
      "cell_type": "code",
      "source": [
        "from sklearn.feature_extraction.text import CountVectorizer\n",
        "# Crear una instancia de CountVectorizer\n",
        "count_vect = CountVectorizer()\n",
        "\n",
        "# Aplicar CountVectorizer al corpus\n",
        "count_train = count_vect.fit_transform(corpus)\n",
        "\n",
        "# Imprimir el tamaño del vocabulario construido por CountVectorizer\n",
        "print(\"El tamaño del vocabulario es: \", len(count_vect.vocabulary_))\n",
        "\n",
        "X = count_train  # Matriz de conteo\n",
        "y = data_train['trastorno'].values  # Etiquetas de trastorno de la columna 'trastorno'\n",
        "\n",
        "# Obtener índices de filas no nulas en X\n",
        "non_null_indices = np.any(X.toarray(), axis=1)\n",
        "\n",
        "# Filtrar X y y para eliminar filas nulas\n",
        "X = X[non_null_indices]\n",
        "y = y[non_null_indices]\n",
        "\n",
        "features = count_vect.get_feature_names_out()\n",
        "\n",
        "# Crear un DataFrame con la matriz de conteo\n",
        "df_count = pd.DataFrame(X.toarray(), columns=features)\n",
        "df_count\n",
        "\n",
        "\n",
        "\n"
      ],
      "metadata": {
        "id": "EUv7CSGiNrCH",
        "colab": {
          "base_uri": "https://localhost:8080/",
          "height": 461
        },
        "outputId": "5bf67b7f-1937-4884-f710-5ff15f7b46a0"
      },
      "execution_count": null,
      "outputs": [
        {
          "output_type": "stream",
          "name": "stdout",
          "text": [
            "El tamaño del vocabulario es:  73\n"
          ]
        },
        {
          "output_type": "execute_result",
          "data": {
            "text/plain": [
              "       adverb  afect  amigos  ansiedad  articulo  asentir  biolog  causa  \\\n",
              "0           0      2       1         0         0        0       1      0   \n",
              "1           0      1       0         0         0        0       0      0   \n",
              "2           0      1       0         0         0        0       2      0   \n",
              "3           3      6       1         0         0        3       3      1   \n",
              "4           0      3       0         1         0        0       2      0   \n",
              "...       ...    ...     ...       ...       ...      ...     ...    ...   \n",
              "62012       0      1       0         1         0        0       0      0   \n",
              "62013       0      0       0         0         0        0       0      0   \n",
              "62014       0      1       0         0         0        0       0      1   \n",
              "62015       0      1       0         0         0        0       0      0   \n",
              "62016       0      0       0         0         0        0       0      0   \n",
              "\n",
              "       certeza  conjunc  ...  verbaux  verbellos  verbnos  verbos  verbosel  \\\n",
              "0            3        1  ...        0          0        0       2         0   \n",
              "1            0        0  ...        0          0        0       1         0   \n",
              "2            0        0  ...        0          0        0       0         0   \n",
              "3            1        0  ...        0          1        0       4         0   \n",
              "4            1        1  ...        0          0        0       3         0   \n",
              "...        ...      ...  ...      ...        ...      ...     ...       ...   \n",
              "62012        0        0  ...        0          0        0       0         0   \n",
              "62013        1        0  ...        0          0        0       0         0   \n",
              "62014        0        0  ...        0          0        0       1         0   \n",
              "62015        0        0  ...        0          0        0       0         0   \n",
              "62016        0        0  ...        0          0        0       1         0   \n",
              "\n",
              "       verbtu  verbvos  verbyo  vosutds  yo  \n",
              "0           0        0       0        0   0  \n",
              "1           0        0       0        0   0  \n",
              "2           0        0       0        0   0  \n",
              "3           0        0       0        0   0  \n",
              "4           0        0       0        0   0  \n",
              "...       ...      ...     ...      ...  ..  \n",
              "62012       0        0       0        0   0  \n",
              "62013       0        0       0        0   0  \n",
              "62014       0        0       1        0   0  \n",
              "62015       0        0       0        0   0  \n",
              "62016       0        0       0        0   0  \n",
              "\n",
              "[62017 rows x 73 columns]"
            ],
            "text/html": [
              "\n",
              "  <div id=\"df-535d69ff-d79e-43ab-81db-96202c2e1ee4\" class=\"colab-df-container\">\n",
              "    <div>\n",
              "<style scoped>\n",
              "    .dataframe tbody tr th:only-of-type {\n",
              "        vertical-align: middle;\n",
              "    }\n",
              "\n",
              "    .dataframe tbody tr th {\n",
              "        vertical-align: top;\n",
              "    }\n",
              "\n",
              "    .dataframe thead th {\n",
              "        text-align: right;\n",
              "    }\n",
              "</style>\n",
              "<table border=\"1\" class=\"dataframe\">\n",
              "  <thead>\n",
              "    <tr style=\"text-align: right;\">\n",
              "      <th></th>\n",
              "      <th>adverb</th>\n",
              "      <th>afect</th>\n",
              "      <th>amigos</th>\n",
              "      <th>ansiedad</th>\n",
              "      <th>articulo</th>\n",
              "      <th>asentir</th>\n",
              "      <th>biolog</th>\n",
              "      <th>causa</th>\n",
              "      <th>certeza</th>\n",
              "      <th>conjunc</th>\n",
              "      <th>...</th>\n",
              "      <th>verbaux</th>\n",
              "      <th>verbellos</th>\n",
              "      <th>verbnos</th>\n",
              "      <th>verbos</th>\n",
              "      <th>verbosel</th>\n",
              "      <th>verbtu</th>\n",
              "      <th>verbvos</th>\n",
              "      <th>verbyo</th>\n",
              "      <th>vosutds</th>\n",
              "      <th>yo</th>\n",
              "    </tr>\n",
              "  </thead>\n",
              "  <tbody>\n",
              "    <tr>\n",
              "      <th>0</th>\n",
              "      <td>0</td>\n",
              "      <td>2</td>\n",
              "      <td>1</td>\n",
              "      <td>0</td>\n",
              "      <td>0</td>\n",
              "      <td>0</td>\n",
              "      <td>1</td>\n",
              "      <td>0</td>\n",
              "      <td>3</td>\n",
              "      <td>1</td>\n",
              "      <td>...</td>\n",
              "      <td>0</td>\n",
              "      <td>0</td>\n",
              "      <td>0</td>\n",
              "      <td>2</td>\n",
              "      <td>0</td>\n",
              "      <td>0</td>\n",
              "      <td>0</td>\n",
              "      <td>0</td>\n",
              "      <td>0</td>\n",
              "      <td>0</td>\n",
              "    </tr>\n",
              "    <tr>\n",
              "      <th>1</th>\n",
              "      <td>0</td>\n",
              "      <td>1</td>\n",
              "      <td>0</td>\n",
              "      <td>0</td>\n",
              "      <td>0</td>\n",
              "      <td>0</td>\n",
              "      <td>0</td>\n",
              "      <td>0</td>\n",
              "      <td>0</td>\n",
              "      <td>0</td>\n",
              "      <td>...</td>\n",
              "      <td>0</td>\n",
              "      <td>0</td>\n",
              "      <td>0</td>\n",
              "      <td>1</td>\n",
              "      <td>0</td>\n",
              "      <td>0</td>\n",
              "      <td>0</td>\n",
              "      <td>0</td>\n",
              "      <td>0</td>\n",
              "      <td>0</td>\n",
              "    </tr>\n",
              "    <tr>\n",
              "      <th>2</th>\n",
              "      <td>0</td>\n",
              "      <td>1</td>\n",
              "      <td>0</td>\n",
              "      <td>0</td>\n",
              "      <td>0</td>\n",
              "      <td>0</td>\n",
              "      <td>2</td>\n",
              "      <td>0</td>\n",
              "      <td>0</td>\n",
              "      <td>0</td>\n",
              "      <td>...</td>\n",
              "      <td>0</td>\n",
              "      <td>0</td>\n",
              "      <td>0</td>\n",
              "      <td>0</td>\n",
              "      <td>0</td>\n",
              "      <td>0</td>\n",
              "      <td>0</td>\n",
              "      <td>0</td>\n",
              "      <td>0</td>\n",
              "      <td>0</td>\n",
              "    </tr>\n",
              "    <tr>\n",
              "      <th>3</th>\n",
              "      <td>3</td>\n",
              "      <td>6</td>\n",
              "      <td>1</td>\n",
              "      <td>0</td>\n",
              "      <td>0</td>\n",
              "      <td>3</td>\n",
              "      <td>3</td>\n",
              "      <td>1</td>\n",
              "      <td>1</td>\n",
              "      <td>0</td>\n",
              "      <td>...</td>\n",
              "      <td>0</td>\n",
              "      <td>1</td>\n",
              "      <td>0</td>\n",
              "      <td>4</td>\n",
              "      <td>0</td>\n",
              "      <td>0</td>\n",
              "      <td>0</td>\n",
              "      <td>0</td>\n",
              "      <td>0</td>\n",
              "      <td>0</td>\n",
              "    </tr>\n",
              "    <tr>\n",
              "      <th>4</th>\n",
              "      <td>0</td>\n",
              "      <td>3</td>\n",
              "      <td>0</td>\n",
              "      <td>1</td>\n",
              "      <td>0</td>\n",
              "      <td>0</td>\n",
              "      <td>2</td>\n",
              "      <td>0</td>\n",
              "      <td>1</td>\n",
              "      <td>1</td>\n",
              "      <td>...</td>\n",
              "      <td>0</td>\n",
              "      <td>0</td>\n",
              "      <td>0</td>\n",
              "      <td>3</td>\n",
              "      <td>0</td>\n",
              "      <td>0</td>\n",
              "      <td>0</td>\n",
              "      <td>0</td>\n",
              "      <td>0</td>\n",
              "      <td>0</td>\n",
              "    </tr>\n",
              "    <tr>\n",
              "      <th>...</th>\n",
              "      <td>...</td>\n",
              "      <td>...</td>\n",
              "      <td>...</td>\n",
              "      <td>...</td>\n",
              "      <td>...</td>\n",
              "      <td>...</td>\n",
              "      <td>...</td>\n",
              "      <td>...</td>\n",
              "      <td>...</td>\n",
              "      <td>...</td>\n",
              "      <td>...</td>\n",
              "      <td>...</td>\n",
              "      <td>...</td>\n",
              "      <td>...</td>\n",
              "      <td>...</td>\n",
              "      <td>...</td>\n",
              "      <td>...</td>\n",
              "      <td>...</td>\n",
              "      <td>...</td>\n",
              "      <td>...</td>\n",
              "      <td>...</td>\n",
              "    </tr>\n",
              "    <tr>\n",
              "      <th>62012</th>\n",
              "      <td>0</td>\n",
              "      <td>1</td>\n",
              "      <td>0</td>\n",
              "      <td>1</td>\n",
              "      <td>0</td>\n",
              "      <td>0</td>\n",
              "      <td>0</td>\n",
              "      <td>0</td>\n",
              "      <td>0</td>\n",
              "      <td>0</td>\n",
              "      <td>...</td>\n",
              "      <td>0</td>\n",
              "      <td>0</td>\n",
              "      <td>0</td>\n",
              "      <td>0</td>\n",
              "      <td>0</td>\n",
              "      <td>0</td>\n",
              "      <td>0</td>\n",
              "      <td>0</td>\n",
              "      <td>0</td>\n",
              "      <td>0</td>\n",
              "    </tr>\n",
              "    <tr>\n",
              "      <th>62013</th>\n",
              "      <td>0</td>\n",
              "      <td>0</td>\n",
              "      <td>0</td>\n",
              "      <td>0</td>\n",
              "      <td>0</td>\n",
              "      <td>0</td>\n",
              "      <td>0</td>\n",
              "      <td>0</td>\n",
              "      <td>1</td>\n",
              "      <td>0</td>\n",
              "      <td>...</td>\n",
              "      <td>0</td>\n",
              "      <td>0</td>\n",
              "      <td>0</td>\n",
              "      <td>0</td>\n",
              "      <td>0</td>\n",
              "      <td>0</td>\n",
              "      <td>0</td>\n",
              "      <td>0</td>\n",
              "      <td>0</td>\n",
              "      <td>0</td>\n",
              "    </tr>\n",
              "    <tr>\n",
              "      <th>62014</th>\n",
              "      <td>0</td>\n",
              "      <td>1</td>\n",
              "      <td>0</td>\n",
              "      <td>0</td>\n",
              "      <td>0</td>\n",
              "      <td>0</td>\n",
              "      <td>0</td>\n",
              "      <td>1</td>\n",
              "      <td>0</td>\n",
              "      <td>0</td>\n",
              "      <td>...</td>\n",
              "      <td>0</td>\n",
              "      <td>0</td>\n",
              "      <td>0</td>\n",
              "      <td>1</td>\n",
              "      <td>0</td>\n",
              "      <td>0</td>\n",
              "      <td>0</td>\n",
              "      <td>1</td>\n",
              "      <td>0</td>\n",
              "      <td>0</td>\n",
              "    </tr>\n",
              "    <tr>\n",
              "      <th>62015</th>\n",
              "      <td>0</td>\n",
              "      <td>1</td>\n",
              "      <td>0</td>\n",
              "      <td>0</td>\n",
              "      <td>0</td>\n",
              "      <td>0</td>\n",
              "      <td>0</td>\n",
              "      <td>0</td>\n",
              "      <td>0</td>\n",
              "      <td>0</td>\n",
              "      <td>...</td>\n",
              "      <td>0</td>\n",
              "      <td>0</td>\n",
              "      <td>0</td>\n",
              "      <td>0</td>\n",
              "      <td>0</td>\n",
              "      <td>0</td>\n",
              "      <td>0</td>\n",
              "      <td>0</td>\n",
              "      <td>0</td>\n",
              "      <td>0</td>\n",
              "    </tr>\n",
              "    <tr>\n",
              "      <th>62016</th>\n",
              "      <td>0</td>\n",
              "      <td>0</td>\n",
              "      <td>0</td>\n",
              "      <td>0</td>\n",
              "      <td>0</td>\n",
              "      <td>0</td>\n",
              "      <td>0</td>\n",
              "      <td>0</td>\n",
              "      <td>0</td>\n",
              "      <td>0</td>\n",
              "      <td>...</td>\n",
              "      <td>0</td>\n",
              "      <td>0</td>\n",
              "      <td>0</td>\n",
              "      <td>1</td>\n",
              "      <td>0</td>\n",
              "      <td>0</td>\n",
              "      <td>0</td>\n",
              "      <td>0</td>\n",
              "      <td>0</td>\n",
              "      <td>0</td>\n",
              "    </tr>\n",
              "  </tbody>\n",
              "</table>\n",
              "<p>62017 rows × 73 columns</p>\n",
              "</div>\n",
              "    <div class=\"colab-df-buttons\">\n",
              "\n",
              "  <div class=\"colab-df-container\">\n",
              "    <button class=\"colab-df-convert\" onclick=\"convertToInteractive('df-535d69ff-d79e-43ab-81db-96202c2e1ee4')\"\n",
              "            title=\"Convert this dataframe to an interactive table.\"\n",
              "            style=\"display:none;\">\n",
              "\n",
              "  <svg xmlns=\"http://www.w3.org/2000/svg\" height=\"24px\" viewBox=\"0 -960 960 960\">\n",
              "    <path d=\"M120-120v-720h720v720H120Zm60-500h600v-160H180v160Zm220 220h160v-160H400v160Zm0 220h160v-160H400v160ZM180-400h160v-160H180v160Zm440 0h160v-160H620v160ZM180-180h160v-160H180v160Zm440 0h160v-160H620v160Z\"/>\n",
              "  </svg>\n",
              "    </button>\n",
              "\n",
              "  <style>\n",
              "    .colab-df-container {\n",
              "      display:flex;\n",
              "      gap: 12px;\n",
              "    }\n",
              "\n",
              "    .colab-df-convert {\n",
              "      background-color: #E8F0FE;\n",
              "      border: none;\n",
              "      border-radius: 50%;\n",
              "      cursor: pointer;\n",
              "      display: none;\n",
              "      fill: #1967D2;\n",
              "      height: 32px;\n",
              "      padding: 0 0 0 0;\n",
              "      width: 32px;\n",
              "    }\n",
              "\n",
              "    .colab-df-convert:hover {\n",
              "      background-color: #E2EBFA;\n",
              "      box-shadow: 0px 1px 2px rgba(60, 64, 67, 0.3), 0px 1px 3px 1px rgba(60, 64, 67, 0.15);\n",
              "      fill: #174EA6;\n",
              "    }\n",
              "\n",
              "    .colab-df-buttons div {\n",
              "      margin-bottom: 4px;\n",
              "    }\n",
              "\n",
              "    [theme=dark] .colab-df-convert {\n",
              "      background-color: #3B4455;\n",
              "      fill: #D2E3FC;\n",
              "    }\n",
              "\n",
              "    [theme=dark] .colab-df-convert:hover {\n",
              "      background-color: #434B5C;\n",
              "      box-shadow: 0px 1px 3px 1px rgba(0, 0, 0, 0.15);\n",
              "      filter: drop-shadow(0px 1px 2px rgba(0, 0, 0, 0.3));\n",
              "      fill: #FFFFFF;\n",
              "    }\n",
              "  </style>\n",
              "\n",
              "    <script>\n",
              "      const buttonEl =\n",
              "        document.querySelector('#df-535d69ff-d79e-43ab-81db-96202c2e1ee4 button.colab-df-convert');\n",
              "      buttonEl.style.display =\n",
              "        google.colab.kernel.accessAllowed ? 'block' : 'none';\n",
              "\n",
              "      async function convertToInteractive(key) {\n",
              "        const element = document.querySelector('#df-535d69ff-d79e-43ab-81db-96202c2e1ee4');\n",
              "        const dataTable =\n",
              "          await google.colab.kernel.invokeFunction('convertToInteractive',\n",
              "                                                    [key], {});\n",
              "        if (!dataTable) return;\n",
              "\n",
              "        const docLinkHtml = 'Like what you see? Visit the ' +\n",
              "          '<a target=\"_blank\" href=https://colab.research.google.com/notebooks/data_table.ipynb>data table notebook</a>'\n",
              "          + ' to learn more about interactive tables.';\n",
              "        element.innerHTML = '';\n",
              "        dataTable['output_type'] = 'display_data';\n",
              "        await google.colab.output.renderOutput(dataTable, element);\n",
              "        const docLink = document.createElement('div');\n",
              "        docLink.innerHTML = docLinkHtml;\n",
              "        element.appendChild(docLink);\n",
              "      }\n",
              "    </script>\n",
              "  </div>\n",
              "\n",
              "\n",
              "<div id=\"df-a0b4dece-2fa3-4a8f-9b60-242f81811f11\">\n",
              "  <button class=\"colab-df-quickchart\" onclick=\"quickchart('df-a0b4dece-2fa3-4a8f-9b60-242f81811f11')\"\n",
              "            title=\"Suggest charts\"\n",
              "            style=\"display:none;\">\n",
              "\n",
              "<svg xmlns=\"http://www.w3.org/2000/svg\" height=\"24px\"viewBox=\"0 0 24 24\"\n",
              "     width=\"24px\">\n",
              "    <g>\n",
              "        <path d=\"M19 3H5c-1.1 0-2 .9-2 2v14c0 1.1.9 2 2 2h14c1.1 0 2-.9 2-2V5c0-1.1-.9-2-2-2zM9 17H7v-7h2v7zm4 0h-2V7h2v10zm4 0h-2v-4h2v4z\"/>\n",
              "    </g>\n",
              "</svg>\n",
              "  </button>\n",
              "\n",
              "<style>\n",
              "  .colab-df-quickchart {\n",
              "      --bg-color: #E8F0FE;\n",
              "      --fill-color: #1967D2;\n",
              "      --hover-bg-color: #E2EBFA;\n",
              "      --hover-fill-color: #174EA6;\n",
              "      --disabled-fill-color: #AAA;\n",
              "      --disabled-bg-color: #DDD;\n",
              "  }\n",
              "\n",
              "  [theme=dark] .colab-df-quickchart {\n",
              "      --bg-color: #3B4455;\n",
              "      --fill-color: #D2E3FC;\n",
              "      --hover-bg-color: #434B5C;\n",
              "      --hover-fill-color: #FFFFFF;\n",
              "      --disabled-bg-color: #3B4455;\n",
              "      --disabled-fill-color: #666;\n",
              "  }\n",
              "\n",
              "  .colab-df-quickchart {\n",
              "    background-color: var(--bg-color);\n",
              "    border: none;\n",
              "    border-radius: 50%;\n",
              "    cursor: pointer;\n",
              "    display: none;\n",
              "    fill: var(--fill-color);\n",
              "    height: 32px;\n",
              "    padding: 0;\n",
              "    width: 32px;\n",
              "  }\n",
              "\n",
              "  .colab-df-quickchart:hover {\n",
              "    background-color: var(--hover-bg-color);\n",
              "    box-shadow: 0 1px 2px rgba(60, 64, 67, 0.3), 0 1px 3px 1px rgba(60, 64, 67, 0.15);\n",
              "    fill: var(--button-hover-fill-color);\n",
              "  }\n",
              "\n",
              "  .colab-df-quickchart-complete:disabled,\n",
              "  .colab-df-quickchart-complete:disabled:hover {\n",
              "    background-color: var(--disabled-bg-color);\n",
              "    fill: var(--disabled-fill-color);\n",
              "    box-shadow: none;\n",
              "  }\n",
              "\n",
              "  .colab-df-spinner {\n",
              "    border: 2px solid var(--fill-color);\n",
              "    border-color: transparent;\n",
              "    border-bottom-color: var(--fill-color);\n",
              "    animation:\n",
              "      spin 1s steps(1) infinite;\n",
              "  }\n",
              "\n",
              "  @keyframes spin {\n",
              "    0% {\n",
              "      border-color: transparent;\n",
              "      border-bottom-color: var(--fill-color);\n",
              "      border-left-color: var(--fill-color);\n",
              "    }\n",
              "    20% {\n",
              "      border-color: transparent;\n",
              "      border-left-color: var(--fill-color);\n",
              "      border-top-color: var(--fill-color);\n",
              "    }\n",
              "    30% {\n",
              "      border-color: transparent;\n",
              "      border-left-color: var(--fill-color);\n",
              "      border-top-color: var(--fill-color);\n",
              "      border-right-color: var(--fill-color);\n",
              "    }\n",
              "    40% {\n",
              "      border-color: transparent;\n",
              "      border-right-color: var(--fill-color);\n",
              "      border-top-color: var(--fill-color);\n",
              "    }\n",
              "    60% {\n",
              "      border-color: transparent;\n",
              "      border-right-color: var(--fill-color);\n",
              "    }\n",
              "    80% {\n",
              "      border-color: transparent;\n",
              "      border-right-color: var(--fill-color);\n",
              "      border-bottom-color: var(--fill-color);\n",
              "    }\n",
              "    90% {\n",
              "      border-color: transparent;\n",
              "      border-bottom-color: var(--fill-color);\n",
              "    }\n",
              "  }\n",
              "</style>\n",
              "\n",
              "  <script>\n",
              "    async function quickchart(key) {\n",
              "      const quickchartButtonEl =\n",
              "        document.querySelector('#' + key + ' button');\n",
              "      quickchartButtonEl.disabled = true;  // To prevent multiple clicks.\n",
              "      quickchartButtonEl.classList.add('colab-df-spinner');\n",
              "      try {\n",
              "        const charts = await google.colab.kernel.invokeFunction(\n",
              "            'suggestCharts', [key], {});\n",
              "      } catch (error) {\n",
              "        console.error('Error during call to suggestCharts:', error);\n",
              "      }\n",
              "      quickchartButtonEl.classList.remove('colab-df-spinner');\n",
              "      quickchartButtonEl.classList.add('colab-df-quickchart-complete');\n",
              "    }\n",
              "    (() => {\n",
              "      let quickchartButtonEl =\n",
              "        document.querySelector('#df-a0b4dece-2fa3-4a8f-9b60-242f81811f11 button');\n",
              "      quickchartButtonEl.style.display =\n",
              "        google.colab.kernel.accessAllowed ? 'block' : 'none';\n",
              "    })();\n",
              "  </script>\n",
              "</div>\n",
              "    </div>\n",
              "  </div>\n"
            ]
          },
          "metadata": {},
          "execution_count": 21
        }
      ]
    },
    {
      "cell_type": "code",
      "source": [
        "X.shape"
      ],
      "metadata": {
        "id": "pZqrB99T0qma"
      },
      "execution_count": null,
      "outputs": []
    },
    {
      "cell_type": "markdown",
      "source": [
        "# **Dividir los datos de entrenamiento y prueba**"
      ],
      "metadata": {
        "id": "xDVbfMpAL14p"
      }
    },
    {
      "cell_type": "code",
      "source": [
        "import numpy as np\n",
        "from sklearn.model_selection import train_test_split\n",
        "from sklearn.decomposition import LatentDirichletAllocation as LDA\n",
        "from sklearn.linear_model import LogisticRegression\n",
        "from sklearn.metrics import accuracy_score, precision_score, recall_score, f1_score"
      ],
      "metadata": {
        "id": "G--6uWpPMS-L"
      },
      "execution_count": null,
      "outputs": []
    },
    {
      "cell_type": "markdown",
      "source": [
        "**Aplicar LDA para reducir la dimensionalidad**"
      ],
      "metadata": {
        "id": "n3lLOiijISmN"
      }
    },
    {
      "cell_type": "code",
      "source": [
        "# Dividir los datos en conjuntos de entrenamiento y prueba\n",
        "\n",
        "X = X[~np.isnan(y)]\n",
        "y = y[~np.isnan(y)]\n",
        "\n",
        "X_train, X_test, y_train, y_test = train_test_split(X, y, test_size=0.3, random_state=0)\n",
        "\n",
        "# Aplicar LDA para reducir la dimensionalidad\n",
        "n_topics = 10  # Define el número de tópicos (componentes)\n",
        "lda = LDA(n_components=n_topics)\n",
        "X_train_lda = lda.fit_transform(X_train, y_train)\n",
        "X_test_lda = lda.transform(X_test)"
      ],
      "metadata": {
        "id": "cDIRQBlbIYKC"
      },
      "execution_count": null,
      "outputs": []
    },
    {
      "cell_type": "markdown",
      "source": [
        "#**Aprendizaje del modelo: Red Neuronal simple**"
      ],
      "metadata": {
        "id": "64ckyobxQaal"
      }
    },
    {
      "cell_type": "code",
      "source": [
        "\n",
        "# Crear un modelo de Regresión Logística\n",
        "model = LogisticRegression(random_state=42)\n",
        "\n",
        "# Entrenar el modelo en los datos de entrenamiento transformados por LDA\n",
        "model.fit(X_train_lda, y_train)\n",
        "\n",
        "# Predecir las etiquetas en el conjunto de prueba\n",
        "y_pred = model.predict(X_test_lda)\n",
        "\n",
        "# Calcular la precisión del modelo\n",
        "accuracy = accuracy_score(y_test, y_pred)\n",
        "print(f\"Exactitud del modelo: {accuracy * 100:.2f}%\")\n",
        "\n",
        "# Calcular la precisión, recall y puntuación F1\n",
        "precision = precision_score(y_test, y_pred, average='weighted')\n",
        "recall = recall_score(y_test, y_pred, average='weighted')\n",
        "f1 = f1_score(y_test, y_pred, average='weighted')\n",
        "\n",
        "print(f\"Precisión: {precision * 100:.2f}%\")\n",
        "print(f\"Recall: {recall * 100:.2f}%\")\n",
        "print(f\"Puntuación F1: {f1 * 100:.2f}%\")\n"
      ],
      "metadata": {
        "id": "2QoN-KcKS03z",
        "colab": {
          "base_uri": "https://localhost:8080/"
        },
        "outputId": "f5774847-df83-42ef-ff92-7f3824376e6c"
      },
      "execution_count": null,
      "outputs": [
        {
          "output_type": "stream",
          "name": "stdout",
          "text": [
            "Exactitud del modelo: 64.80%\n",
            "Precisión: 64.77%\n",
            "Recall: 64.80%\n",
            "Puntuación F1: 64.75%\n"
          ]
        }
      ]
    },
    {
      "cell_type": "code",
      "source": [
        "from sklearn.metrics import confusion_matrix\n",
        "\n",
        "y_pred = model.predict(X_test_lda)\n",
        "\n",
        "# Obtiene la matriz de confusión. Las filas corresponden a las clases reales,\n",
        "umbral = 0.5  # Puedes ajustar este umbral según tus necesidades\n",
        "y_pred_binario = (y_pred > umbral).astype(int)\n",
        "\n",
        "# Calcular la matriz de confusión con las etiquetas binarias\n",
        "cm = confusion_matrix(y_test, y_pred_binario)\n",
        "prop_real = np.sum(y_test)/len(y_test)\n",
        "prop_etiqutados = (cm[0,1]+cm[1,1])/len(y_test)\n",
        "\n",
        "print(\"Matriz de confusión: \\n\\n\", cm, \"\\n\")\n",
        "print('Proporción de comentarios positivos: %.2f'% prop_real)\n",
        "print('Proporción de comentarios positivos etiquetados: %.2f'% prop_etiqutados)"
      ],
      "metadata": {
        "colab": {
          "base_uri": "https://localhost:8080/"
        },
        "id": "G4DEGHK8DA6q",
        "outputId": "2a0c1b3d-7e44-4d22-eedc-49f3a2d4c6fa"
      },
      "execution_count": null,
      "outputs": [
        {
          "output_type": "stream",
          "name": "stdout",
          "text": [
            "Matriz de confusión: \n",
            "\n",
            " [[5489 3487]\n",
            " [3062 6567]] \n",
            "\n",
            "Proporción de comentarios positivos: 0.52\n",
            "Proporción de comentarios positivos etiquetados: 0.54\n"
          ]
        }
      ]
    },
    {
      "cell_type": "code",
      "source": [
        "import seaborn as sns\n",
        "import matplotlib.pyplot as plt\n",
        "\n",
        "# Crear una figura para la matriz de confusión\n",
        "plt.figure(figsize=(8, 6))\n",
        "\n",
        "# Crear una matriz de confusión usando el heatmap de Seaborn\n",
        "sns.heatmap(cm, annot=True, fmt=\"d\", cmap=\"Blues\", xticklabels=['Control', 'Ansiedad'], yticklabels=['Control', 'Ansiedad'])\n",
        "\n",
        "# Etiquetas y título\n",
        "plt.xlabel('Predicción')\n",
        "plt.ylabel('Valor Real')\n",
        "plt.title('Matriz de Confusión')\n",
        "\n",
        "# Mostrar la gráfica\n",
        "plt.show()"
      ],
      "metadata": {
        "colab": {
          "base_uri": "https://localhost:8080/",
          "height": 570
        },
        "id": "vSPJ_mjRDK8F",
        "outputId": "0bc86809-a53e-4881-b731-93d8bed66cdb"
      },
      "execution_count": null,
      "outputs": [
        {
          "output_type": "display_data",
          "data": {
            "text/plain": [
              "<Figure size 800x600 with 2 Axes>"
            ],
            "image/png": "[encoded data removed]"
          },
          "metadata": {
            "image/png": {
              "width": 671,
              "height": 553
            }
          }
        }
      ]
    },
    {
      "cell_type": "markdown",
      "metadata": {
        "id": "YR_1UCCjz4Iq"
      },
      "source": [
        "# Aprensizaje del modelo: Regresión Logística\n",
        "**Validación Cruzada K=10**"
      ]
    },
    {
      "cell_type": "code",
      "source": [
        "import numpy as np\n",
        "from sklearn.model_selection import StratifiedKFold\n",
        "from sklearn.decomposition import LatentDirichletAllocation as LDA\n",
        "from sklearn.linear_model import LogisticRegression\n",
        "from sklearn.metrics import accuracy_score, precision_score, recall_score, f1_score\n",
        "\n",
        "\n",
        "# Inicializar listas para almacenar métricas\n",
        "train_accuracy_scores = []\n",
        "train_precision_scores = []\n",
        "train_recall_scores = []\n",
        "train_f1_scores = []\n",
        "\n",
        "val_accuracy_scores = []\n",
        "val_precision_scores = []\n",
        "val_recall_scores = []\n",
        "val_f1_scores = []\n",
        "\n",
        "# Crear un objeto StratifiedKFold para dividir los datos en k-folds estratificados\n",
        "skf = StratifiedKFold(n_splits=10, shuffle=True, random_state=42)\n",
        "\n",
        "\n",
        "# Dividir los datos en k-folds y realizar la validación cruzada\n",
        "for train_index, val_index in skf.split(X_train_lda, y_train):\n",
        "    X_train_fold, X_val_fold = X_train_lda[train_index], X_train_lda[val_index]\n",
        "    y_train_fold, y_val_fold = y_train[train_index], y_train[val_index]\n",
        "\n",
        "    # Crear un modelo de Regresión Logística\n",
        "    model = LogisticRegression(penalty='l1', C=10, solver='liblinear', random_state=42)\n",
        "    # Entrenar el modelo en los datos de entrenamiento transformados por LDA\n",
        "    model.fit(X_train_fold, y_train_fold)\n",
        "\n",
        "    # Predecir las etiquetas en el conjunto de entrenamiento y validación\n",
        "    y_train_pred = model.predict(X_train_fold)\n",
        "    y_val_pred = model.predict(X_val_fold)\n",
        "\n",
        "    # Calcular métricas de entrenamiento\n",
        "    train_accuracy = accuracy_score(y_train_fold, y_train_pred)\n",
        "    train_precision = precision_score(y_train_fold, y_train_pred, average='weighted')\n",
        "    train_recall = recall_score(y_train_fold, y_train_pred, average='weighted')\n",
        "    train_f1 = f1_score(y_train_fold, y_train_pred, average='weighted')\n",
        "\n",
        "    # Calcular métricas de validación\n",
        "    val_accuracy = accuracy_score(y_val_fold, y_val_pred)\n",
        "    val_precision = precision_score(y_val_fold, y_val_pred, average='weighted')\n",
        "    val_recall = recall_score(y_val_fold, y_val_pred, average='weighted')\n",
        "    val_f1 = f1_score(y_val_fold, y_val_pred, average='weighted')\n",
        "\n",
        "    # Almacenar las métricas en las listas\n",
        "    train_accuracy_scores.append(train_accuracy)\n",
        "    train_precision_scores.append(train_precision)\n",
        "    train_recall_scores.append(train_recall)\n",
        "    train_f1_scores.append(train_f1)\n",
        "\n",
        "    val_accuracy_scores.append(val_accuracy)\n",
        "    val_precision_scores.append(val_precision)\n",
        "    val_recall_scores.append(val_recall)\n",
        "    val_f1_scores.append(val_f1)\n",
        "\n",
        "# Calcular las métricas promediadas en entrenamiento\n",
        "train_accuracy_mean = np.mean(train_accuracy_scores)\n",
        "train_precision_mean = np.mean(train_precision_scores)\n",
        "train_recall_mean = np.mean(train_recall_scores)\n",
        "train_f1_mean = np.mean(train_f1_scores)\n",
        "\n",
        "# Calcular las métricas promediadas en validación\n",
        "val_accuracy_mean = np.mean(val_accuracy_scores)\n",
        "val_precision_mean = np.mean(val_precision_scores)\n",
        "val_recall_mean = np.mean(val_recall_scores)\n",
        "val_f1_mean = np.mean(val_f1_scores)\n",
        "\n",
        "# Imprimir las métricas promediadas\n",
        "print(\"Métricas de entrenamiento promediadas:\")\n",
        "print(f\"Exactitud: {train_accuracy_mean * 100:.2f}%\")\n",
        "print(f\"Precisión: {train_precision_mean * 100:.2f}%\")\n",
        "print(f\"Recuperación: {train_recall_mean * 100:.2f}%\")\n",
        "print(f\"Puntuación F1: {train_f1_mean * 100:.2f}%\")\n",
        "\n",
        "print(\"\\nMétricas de validación promediadas:\")\n",
        "print(f\"Exactitud: {val_accuracy_mean * 100:.2f}%\")\n",
        "print(f\"Precisión: {val_precision_mean * 100:.2f}%\")\n",
        "print(f\"Recuperación: {val_recall_mean * 100:.2f}%\")\n",
        "print(f\"Puntuación F1: {val_f1_mean * 100:.2f}%\")\n"
      ],
      "metadata": {
        "colab": {
          "base_uri": "https://localhost:8080/"
        },
        "id": "poDMYzSCQIdd",
        "outputId": "3e7475e4-fb7a-40b6-8540-895727b320d6"
      },
      "execution_count": null,
      "outputs": [
        {
          "output_type": "stream",
          "name": "stdout",
          "text": [
            "Métricas de entrenamiento promediadas:\n",
            "Exactitud: 65.34%\n",
            "Precisión: 65.31%\n",
            "Recuperación: 65.34%\n",
            "Puntuación F1: 65.28%\n",
            "\n",
            "Métricas de validación promediadas:\n",
            "Exactitud: 65.34%\n",
            "Precisión: 65.30%\n",
            "Recuperación: 65.34%\n",
            "Puntuación F1: 65.28%\n"
          ]
        }
      ]
    },
    {
      "cell_type": "markdown",
      "metadata": {
        "id": "YparLAOhrW7y"
      },
      "source": [
        "# MATRIZ DE CONFUSIÓN"
      ]
    },
    {
      "cell_type": "code",
      "execution_count": null,
      "metadata": {
        "colab": {
          "base_uri": "https://localhost:8080/"
        },
        "outputId": "5e8e2638-d03e-41ad-dfd0-5fc470f3c411",
        "id": "0QlaUjQprW8M"
      },
      "outputs": [
        {
          "output_type": "stream",
          "name": "stdout",
          "text": [
            "Matriz de confusión: \n",
            "\n",
            " [[1300  776]\n",
            " [ 705 1560]] \n",
            "\n",
            "Proporción de comentarios positivos: 0.52\n",
            "Proporción de comentarios positivos etiquetados: 0.54\n"
          ]
        }
      ],
      "source": [
        "from sklearn.metrics import confusion_matrix\n",
        "\n",
        "y_pred = model.predict(X_val_fold)\n",
        "\n",
        "# Obtiene la matriz de confusión. Las filas corresponden a las clases reales,\n",
        "umbral = 0.5  # Puedes ajustar este umbral según tus necesidades\n",
        "y_pred_binario = (y_pred > umbral).astype(int)\n",
        "\n",
        "# Calcular la matriz de confusión con las etiquetas binarias\n",
        "cm = confusion_matrix(y_val_fold, y_pred_binario)\n",
        "prop_real = np.sum(y_val_fold)/len(y_val_fold)\n",
        "prop_etiqutados = (cm[0,1]+cm[1,1])/len(y_val_fold)\n",
        "\n",
        "print(\"Matriz de confusión: \\n\\n\", cm, \"\\n\")\n",
        "print('Proporción de comentarios positivos: %.2f'% prop_real)\n",
        "print('Proporción de comentarios positivos etiquetados: %.2f'% prop_etiqutados)"
      ]
    },
    {
      "cell_type": "code",
      "execution_count": null,
      "metadata": {
        "colab": {
          "base_uri": "https://localhost:8080/",
          "height": 570
        },
        "outputId": "cfa7a217-a5ba-4559-c8a7-c89f14487dfc",
        "id": "ReV40ubSrW8N"
      },
      "outputs": [
        {
          "output_type": "display_data",
          "data": {
            "text/plain": [
              "<Figure size 800x600 with 2 Axes>"
            ],
            "image/png": "[encoded data removed]"
          },
          "metadata": {
            "image/png": {
              "width": 671,
              "height": 553
            }
          }
        }
      ],
      "source": [
        "import seaborn as sns\n",
        "import matplotlib.pyplot as plt\n",
        "\n",
        "# Crear una figura para la matriz de confusión\n",
        "plt.figure(figsize=(8, 6))\n",
        "\n",
        "# Crear una matriz de confusión usando el heatmap de Seaborn\n",
        "sns.heatmap(cm, annot=True, fmt=\"d\", cmap=\"Blues\", xticklabels=['0', '1'], yticklabels=['0', '1'])\n",
        "\n",
        "# Etiquetas y título\n",
        "plt.xlabel('Predicción')\n",
        "plt.ylabel('Valor Real')\n",
        "plt.title('Matriz de Confusión')\n",
        "\n",
        "# Mostrar la gráfica\n",
        "plt.show()"
      ]
    },
    {
      "cell_type": "markdown",
      "source": [
        "Guardar modelo"
      ],
      "metadata": {
        "id": "kF8e67NjSJMz"
      }
    },
    {
      "cell_type": "code",
      "source": [
        "import joblib\n",
        "\n",
        "import os\n",
        "# Guardar el modelo entrenado\n",
        "model_folder = '/content/drive/MyDrive/Experimentación Python Tesis /Experimento Dataset Ansiedad /LDA/parametros '  # Ruta de la carpeta donde deseas guardar el modelo\n",
        "model_filename = 'TWEETS_ansiedad_BoW_LDA_LIWC_RL_LDA.pkl'\n",
        "model_path = os.path.join(model_folder, model_filename)\n",
        "\n",
        "# Asegurarse de que la carpeta exista\n",
        "os.makedirs(model_folder, exist_ok=True)\n",
        "\n",
        "# Guardar el modelo utilizando joblib\n",
        "joblib.dump(model, model_path)\n",
        "\n",
        "# Imprimir la ruta del modelo guardado\n",
        "print(f\"Modelo guardado en: {model_path}\")"
      ],
      "metadata": {
        "id": "6c7TZlUjHCjW",
        "colab": {
          "base_uri": "https://localhost:8080/"
        },
        "outputId": "34847f05-9da3-4eb7-cdf3-b7afc819915b"
      },
      "execution_count": null,
      "outputs": [
        {
          "output_type": "stream",
          "name": "stdout",
          "text": [
            "Modelo guardado en: /content/drive/MyDrive/Experimentación Python Tesis /Experimento Dataset Ansiedad /LDA/parametros /TWEETS_ansiedad_BoW_LDA_LIWC_RL_LDA.pkl\n"
          ]
        }
      ]
    }
  ]
}
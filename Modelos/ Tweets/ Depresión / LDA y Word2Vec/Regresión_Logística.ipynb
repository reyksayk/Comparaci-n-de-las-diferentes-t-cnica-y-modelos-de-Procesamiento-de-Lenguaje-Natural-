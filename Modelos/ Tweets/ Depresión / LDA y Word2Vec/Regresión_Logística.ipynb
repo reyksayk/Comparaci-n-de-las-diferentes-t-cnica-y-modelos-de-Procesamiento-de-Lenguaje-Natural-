{
  "cells": [
    {
      "cell_type": "code",
      "execution_count": null,
      "metadata": {
        "id": "gAZ8Fq9Jhgmq"
      },
      "outputs": [],
      "source": [
        "!pip install nltk\n",
        "!pip install spacy\n",
        "!python -m spacy download es_core_news_sm\n",
        "!pip install -U imbalanced-learn\n",
        "!pip install pyspellchecker\n"
      ]
    },
    {
      "cell_type": "code",
      "execution_count": null,
      "metadata": {
        "id": "hcn6j7o3h6HF"
      },
      "outputs": [],
      "source": [
        "import pandas as pd\n",
        "import numpy as np\n",
        "\n",
        "import matplotlib.pyplot as plt\n",
        "import seaborn as sns; sns.set()\n",
        "%config InlineBackend.figure_format = 'retina'\n",
        "%matplotlib inline\n",
        "\n",
        "# Oculta warnings\n",
        "import warnings\n",
        "warnings.simplefilter('ignore')"
      ]
    },
    {
      "cell_type": "code",
      "execution_count": null,
      "metadata": {
        "id": "_ZWhvFDAiCFh",
        "colab": {
          "base_uri": "https://localhost:8080/",
          "height": 17
        },
        "outputId": "f855b2c2-512e-4db9-f907-79d46078aa04"
      },
      "outputs": [
        {
          "output_type": "display_data",
          "data": {
            "text/plain": [
              "<IPython.core.display.HTML object>"
            ],
            "text/html": [
              "<style>.container { width:95% !important; }</style>"
            ]
          },
          "metadata": {}
        }
      ],
      "source": [
        "from IPython.core.display import display, HTML\n",
        "display(HTML(\"<style>.container { width:95% !important; }</style>\"))"
      ]
    },
    {
      "cell_type": "markdown",
      "metadata": {
        "id": "E_Lg6613iGTj"
      },
      "source": [
        "# CARGAR DATOS\n",
        "**DATOS DE ENTRENAMIENTO**\n",
        "\n",
        "la columna de trastornos indica si el TWEET es de una persona con depresión o es de control.\n",
        "\n",
        "\n",
        "**control**:     0\n",
        "\n",
        "**depresión**:   1"
      ]
    },
    {
      "cell_type": "markdown",
      "metadata": {
        "id": "YE5B35uviasR"
      },
      "source": [
        "#DATOS DE PRUEBA"
      ]
    },
    {
      "cell_type": "code",
      "execution_count": null,
      "metadata": {
        "id": "MHBqymIkiK0G",
        "colab": {
          "base_uri": "https://localhost:8080/",
          "height": 554
        },
        "outputId": "0f3a6f42-77b4-4a73-81f5-e1809087129d"
      },
      "outputs": [
        {
          "output_type": "stream",
          "name": "stdout",
          "text": [
            "<class 'pandas.core.frame.DataFrame'>\n",
            "RangeIndex: 263950 entries, 0 to 263949\n",
            "Data columns (total 4 columns):\n",
            " #   Column      Non-Null Count   Dtype  \n",
            "---  ------      --------------   -----  \n",
            " 0   USER_ID     263950 non-null  object \n",
            " 1   TWEET_ID    263920 non-null  float64\n",
            " 2   TWEET_TEXT  263841 non-null  object \n",
            " 3   trastorno   263950 non-null  int64  \n",
            "dtypes: float64(1), int64(1), object(2)\n",
            "memory usage: 8.1+ MB\n"
          ]
        },
        {
          "output_type": "execute_result",
          "data": {
            "text/plain": [
              "  USER_ID      TWEET_ID                                         TWEET_TEXT  \\\n",
              "0      87  2.147484e+09  RT @Julii_AKD: por qué a la mayoría de las pib...   \n",
              "1       6  2.147484e+09                  Empezar un 2017 sintiéndote solo.   \n",
              "2     279  2.147484e+09  Ah mirá que lindo como me escrachan en Instagr...   \n",
              "3     518  2.147484e+09                            https://t.co/hC3rULMb1P   \n",
              "4     301  2.147484e+09  Tu sigue con él, cumple tu deber, muy pronto v...   \n",
              "5     177  2.147484e+09                  @Sebbasrp deje dormir al prójimo.   \n",
              "6      45  2.147484e+09  RT @Crookedgirlx: no quiero vivir más, estoy c...   \n",
              "7      29  2.147484e+09  RT @Esunbreakable: Me da un poquito de vergüen...   \n",
              "8     388  2.147484e+09  Venezuela-related Designation https://t.co/IOZ...   \n",
              "9      31  2.147484e+09  Tengo muchas ganas de escribirte para decirte ...   \n",
              "\n",
              "   trastorno  \n",
              "0          1  \n",
              "1          1  \n",
              "2          0  \n",
              "3          0  \n",
              "4          0  \n",
              "5          0  \n",
              "6          1  \n",
              "7          1  \n",
              "8          0  \n",
              "9          1  "
            ],
            "text/html": [
              "\n",
              "  <div id=\"df-b559ab84-3dc0-43fa-9716-0f4e435ac4ae\" class=\"colab-df-container\">\n",
              "    <div>\n",
              "<style scoped>\n",
              "    .dataframe tbody tr th:only-of-type {\n",
              "        vertical-align: middle;\n",
              "    }\n",
              "\n",
              "    .dataframe tbody tr th {\n",
              "        vertical-align: top;\n",
              "    }\n",
              "\n",
              "    .dataframe thead th {\n",
              "        text-align: right;\n",
              "    }\n",
              "</style>\n",
              "<table border=\"1\" class=\"dataframe\">\n",
              "  <thead>\n",
              "    <tr style=\"text-align: right;\">\n",
              "      <th></th>\n",
              "      <th>USER_ID</th>\n",
              "      <th>TWEET_ID</th>\n",
              "      <th>TWEET_TEXT</th>\n",
              "      <th>trastorno</th>\n",
              "    </tr>\n",
              "  </thead>\n",
              "  <tbody>\n",
              "    <tr>\n",
              "      <th>0</th>\n",
              "      <td>87</td>\n",
              "      <td>2.147484e+09</td>\n",
              "      <td>RT @Julii_AKD: por qué a la mayoría de las pib...</td>\n",
              "      <td>1</td>\n",
              "    </tr>\n",
              "    <tr>\n",
              "      <th>1</th>\n",
              "      <td>6</td>\n",
              "      <td>2.147484e+09</td>\n",
              "      <td>Empezar un 2017 sintiéndote solo.</td>\n",
              "      <td>1</td>\n",
              "    </tr>\n",
              "    <tr>\n",
              "      <th>2</th>\n",
              "      <td>279</td>\n",
              "      <td>2.147484e+09</td>\n",
              "      <td>Ah mirá que lindo como me escrachan en Instagr...</td>\n",
              "      <td>0</td>\n",
              "    </tr>\n",
              "    <tr>\n",
              "      <th>3</th>\n",
              "      <td>518</td>\n",
              "      <td>2.147484e+09</td>\n",
              "      <td>https://t.co/hC3rULMb1P</td>\n",
              "      <td>0</td>\n",
              "    </tr>\n",
              "    <tr>\n",
              "      <th>4</th>\n",
              "      <td>301</td>\n",
              "      <td>2.147484e+09</td>\n",
              "      <td>Tu sigue con él, cumple tu deber, muy pronto v...</td>\n",
              "      <td>0</td>\n",
              "    </tr>\n",
              "    <tr>\n",
              "      <th>5</th>\n",
              "      <td>177</td>\n",
              "      <td>2.147484e+09</td>\n",
              "      <td>@Sebbasrp deje dormir al prójimo.</td>\n",
              "      <td>0</td>\n",
              "    </tr>\n",
              "    <tr>\n",
              "      <th>6</th>\n",
              "      <td>45</td>\n",
              "      <td>2.147484e+09</td>\n",
              "      <td>RT @Crookedgirlx: no quiero vivir más, estoy c...</td>\n",
              "      <td>1</td>\n",
              "    </tr>\n",
              "    <tr>\n",
              "      <th>7</th>\n",
              "      <td>29</td>\n",
              "      <td>2.147484e+09</td>\n",
              "      <td>RT @Esunbreakable: Me da un poquito de vergüen...</td>\n",
              "      <td>1</td>\n",
              "    </tr>\n",
              "    <tr>\n",
              "      <th>8</th>\n",
              "      <td>388</td>\n",
              "      <td>2.147484e+09</td>\n",
              "      <td>Venezuela-related Designation https://t.co/IOZ...</td>\n",
              "      <td>0</td>\n",
              "    </tr>\n",
              "    <tr>\n",
              "      <th>9</th>\n",
              "      <td>31</td>\n",
              "      <td>2.147484e+09</td>\n",
              "      <td>Tengo muchas ganas de escribirte para decirte ...</td>\n",
              "      <td>1</td>\n",
              "    </tr>\n",
              "  </tbody>\n",
              "</table>\n",
              "</div>\n",
              "    <div class=\"colab-df-buttons\">\n",
              "\n",
              "  <div class=\"colab-df-container\">\n",
              "    <button class=\"colab-df-convert\" onclick=\"convertToInteractive('df-b559ab84-3dc0-43fa-9716-0f4e435ac4ae')\"\n",
              "            title=\"Convert this dataframe to an interactive table.\"\n",
              "            style=\"display:none;\">\n",
              "\n",
              "  <svg xmlns=\"http://www.w3.org/2000/svg\" height=\"24px\" viewBox=\"0 -960 960 960\">\n",
              "    <path d=\"M120-120v-720h720v720H120Zm60-500h600v-160H180v160Zm220 220h160v-160H400v160Zm0 220h160v-160H400v160ZM180-400h160v-160H180v160Zm440 0h160v-160H620v160ZM180-180h160v-160H180v160Zm440 0h160v-160H620v160Z\"/>\n",
              "  </svg>\n",
              "    </button>\n",
              "\n",
              "  <style>\n",
              "    .colab-df-container {\n",
              "      display:flex;\n",
              "      gap: 12px;\n",
              "    }\n",
              "\n",
              "    .colab-df-convert {\n",
              "      background-color: #E8F0FE;\n",
              "      border: none;\n",
              "      border-radius: 50%;\n",
              "      cursor: pointer;\n",
              "      display: none;\n",
              "      fill: #1967D2;\n",
              "      height: 32px;\n",
              "      padding: 0 0 0 0;\n",
              "      width: 32px;\n",
              "    }\n",
              "\n",
              "    .colab-df-convert:hover {\n",
              "      background-color: #E2EBFA;\n",
              "      box-shadow: 0px 1px 2px rgba(60, 64, 67, 0.3), 0px 1px 3px 1px rgba(60, 64, 67, 0.15);\n",
              "      fill: #174EA6;\n",
              "    }\n",
              "\n",
              "    .colab-df-buttons div {\n",
              "      margin-bottom: 4px;\n",
              "    }\n",
              "\n",
              "    [theme=dark] .colab-df-convert {\n",
              "      background-color: #3B4455;\n",
              "      fill: #D2E3FC;\n",
              "    }\n",
              "\n",
              "    [theme=dark] .colab-df-convert:hover {\n",
              "      background-color: #434B5C;\n",
              "      box-shadow: 0px 1px 3px 1px rgba(0, 0, 0, 0.15);\n",
              "      filter: drop-shadow(0px 1px 2px rgba(0, 0, 0, 0.3));\n",
              "      fill: #FFFFFF;\n",
              "    }\n",
              "  </style>\n",
              "\n",
              "    <script>\n",
              "      const buttonEl =\n",
              "        document.querySelector('#df-b559ab84-3dc0-43fa-9716-0f4e435ac4ae button.colab-df-convert');\n",
              "      buttonEl.style.display =\n",
              "        google.colab.kernel.accessAllowed ? 'block' : 'none';\n",
              "\n",
              "      async function convertToInteractive(key) {\n",
              "        const element = document.querySelector('#df-b559ab84-3dc0-43fa-9716-0f4e435ac4ae');\n",
              "        const dataTable =\n",
              "          await google.colab.kernel.invokeFunction('convertToInteractive',\n",
              "                                                    [key], {});\n",
              "        if (!dataTable) return;\n",
              "\n",
              "        const docLinkHtml = 'Like what you see? Visit the ' +\n",
              "          '<a target=\"_blank\" href=https://colab.research.google.com/notebooks/data_table.ipynb>data table notebook</a>'\n",
              "          + ' to learn more about interactive tables.';\n",
              "        element.innerHTML = '';\n",
              "        dataTable['output_type'] = 'display_data';\n",
              "        await google.colab.output.renderOutput(dataTable, element);\n",
              "        const docLink = document.createElement('div');\n",
              "        docLink.innerHTML = docLinkHtml;\n",
              "        element.appendChild(docLink);\n",
              "      }\n",
              "    </script>\n",
              "  </div>\n",
              "\n",
              "\n",
              "<div id=\"df-c6ff0019-61cd-47b8-b1b6-ca51a497e52c\">\n",
              "  <button class=\"colab-df-quickchart\" onclick=\"quickchart('df-c6ff0019-61cd-47b8-b1b6-ca51a497e52c')\"\n",
              "            title=\"Suggest charts\"\n",
              "            style=\"display:none;\">\n",
              "\n",
              "<svg xmlns=\"http://www.w3.org/2000/svg\" height=\"24px\"viewBox=\"0 0 24 24\"\n",
              "     width=\"24px\">\n",
              "    <g>\n",
              "        <path d=\"M19 3H5c-1.1 0-2 .9-2 2v14c0 1.1.9 2 2 2h14c1.1 0 2-.9 2-2V5c0-1.1-.9-2-2-2zM9 17H7v-7h2v7zm4 0h-2V7h2v10zm4 0h-2v-4h2v4z\"/>\n",
              "    </g>\n",
              "</svg>\n",
              "  </button>\n",
              "\n",
              "<style>\n",
              "  .colab-df-quickchart {\n",
              "      --bg-color: #E8F0FE;\n",
              "      --fill-color: #1967D2;\n",
              "      --hover-bg-color: #E2EBFA;\n",
              "      --hover-fill-color: #174EA6;\n",
              "      --disabled-fill-color: #AAA;\n",
              "      --disabled-bg-color: #DDD;\n",
              "  }\n",
              "\n",
              "  [theme=dark] .colab-df-quickchart {\n",
              "      --bg-color: #3B4455;\n",
              "      --fill-color: #D2E3FC;\n",
              "      --hover-bg-color: #434B5C;\n",
              "      --hover-fill-color: #FFFFFF;\n",
              "      --disabled-bg-color: #3B4455;\n",
              "      --disabled-fill-color: #666;\n",
              "  }\n",
              "\n",
              "  .colab-df-quickchart {\n",
              "    background-color: var(--bg-color);\n",
              "    border: none;\n",
              "    border-radius: 50%;\n",
              "    cursor: pointer;\n",
              "    display: none;\n",
              "    fill: var(--fill-color);\n",
              "    height: 32px;\n",
              "    padding: 0;\n",
              "    width: 32px;\n",
              "  }\n",
              "\n",
              "  .colab-df-quickchart:hover {\n",
              "    background-color: var(--hover-bg-color);\n",
              "    box-shadow: 0 1px 2px rgba(60, 64, 67, 0.3), 0 1px 3px 1px rgba(60, 64, 67, 0.15);\n",
              "    fill: var(--button-hover-fill-color);\n",
              "  }\n",
              "\n",
              "  .colab-df-quickchart-complete:disabled,\n",
              "  .colab-df-quickchart-complete:disabled:hover {\n",
              "    background-color: var(--disabled-bg-color);\n",
              "    fill: var(--disabled-fill-color);\n",
              "    box-shadow: none;\n",
              "  }\n",
              "\n",
              "  .colab-df-spinner {\n",
              "    border: 2px solid var(--fill-color);\n",
              "    border-color: transparent;\n",
              "    border-bottom-color: var(--fill-color);\n",
              "    animation:\n",
              "      spin 1s steps(1) infinite;\n",
              "  }\n",
              "\n",
              "  @keyframes spin {\n",
              "    0% {\n",
              "      border-color: transparent;\n",
              "      border-bottom-color: var(--fill-color);\n",
              "      border-left-color: var(--fill-color);\n",
              "    }\n",
              "    20% {\n",
              "      border-color: transparent;\n",
              "      border-left-color: var(--fill-color);\n",
              "      border-top-color: var(--fill-color);\n",
              "    }\n",
              "    30% {\n",
              "      border-color: transparent;\n",
              "      border-left-color: var(--fill-color);\n",
              "      border-top-color: var(--fill-color);\n",
              "      border-right-color: var(--fill-color);\n",
              "    }\n",
              "    40% {\n",
              "      border-color: transparent;\n",
              "      border-right-color: var(--fill-color);\n",
              "      border-top-color: var(--fill-color);\n",
              "    }\n",
              "    60% {\n",
              "      border-color: transparent;\n",
              "      border-right-color: var(--fill-color);\n",
              "    }\n",
              "    80% {\n",
              "      border-color: transparent;\n",
              "      border-right-color: var(--fill-color);\n",
              "      border-bottom-color: var(--fill-color);\n",
              "    }\n",
              "    90% {\n",
              "      border-color: transparent;\n",
              "      border-bottom-color: var(--fill-color);\n",
              "    }\n",
              "  }\n",
              "</style>\n",
              "\n",
              "  <script>\n",
              "    async function quickchart(key) {\n",
              "      const quickchartButtonEl =\n",
              "        document.querySelector('#' + key + ' button');\n",
              "      quickchartButtonEl.disabled = true;  // To prevent multiple clicks.\n",
              "      quickchartButtonEl.classList.add('colab-df-spinner');\n",
              "      try {\n",
              "        const charts = await google.colab.kernel.invokeFunction(\n",
              "            'suggestCharts', [key], {});\n",
              "      } catch (error) {\n",
              "        console.error('Error during call to suggestCharts:', error);\n",
              "      }\n",
              "      quickchartButtonEl.classList.remove('colab-df-spinner');\n",
              "      quickchartButtonEl.classList.add('colab-df-quickchart-complete');\n",
              "    }\n",
              "    (() => {\n",
              "      let quickchartButtonEl =\n",
              "        document.querySelector('#df-c6ff0019-61cd-47b8-b1b6-ca51a497e52c button');\n",
              "      quickchartButtonEl.style.display =\n",
              "        google.colab.kernel.accessAllowed ? 'block' : 'none';\n",
              "    })();\n",
              "  </script>\n",
              "</div>\n",
              "    </div>\n",
              "  </div>\n"
            ]
          },
          "metadata": {},
          "execution_count": 4
        }
      ],
      "source": [
        "ruta_archivo_entrenamiento = '/content/drive/MyDrive/Experimentación Python Tesis /entrenamiento y prueba (control vs depresión)/train.csv'\n",
        "data_train = pd.read_csv(ruta_archivo_entrenamiento, sep=',')\n",
        "data_train.info()\n",
        "data_train.head(10)"
      ]
    },
    {
      "cell_type": "markdown",
      "metadata": {
        "id": "ptXa7Tu7ij05"
      },
      "source": [
        "#Preprocesamiento de los datos"
      ]
    },
    {
      "cell_type": "markdown",
      "metadata": {
        "id": "qVqEoMoKipXO"
      },
      "source": [
        "*Eliminar etiquetas HTML*"
      ]
    },
    {
      "cell_type": "code",
      "execution_count": null,
      "metadata": {
        "id": "KeumIo59iujw"
      },
      "outputs": [],
      "source": [
        "import re\n",
        "\n",
        "def removeHTML(text):\n",
        "    if isinstance(text, str):  # Verificar si es de tipo string\n",
        "        cleanr = re.compile('<.*?>')\n",
        "        cleantext = re.sub(cleanr, '', text)\n",
        "        return cleantext\n",
        "    else:\n",
        "        return text  # Devolver el valor original si no es de tipo string"
      ]
    },
    {
      "cell_type": "markdown",
      "metadata": {
        "id": "d_94CnocizER"
      },
      "source": [
        "*Limpieza del texto*"
      ]
    },
    {
      "cell_type": "code",
      "execution_count": null,
      "metadata": {
        "id": "ZiTpRUU6ixfo"
      },
      "outputs": [],
      "source": [
        "import re\n",
        "import string\n",
        "\n",
        "def clean(text):\n",
        "    if isinstance(text, str):  # Verificar si es de tipo string\n",
        "        # Eliminar hashtags\n",
        "        text = re.sub(r'#\\w+', '', text)\n",
        "\n",
        "        # Eliminar URLs o enlaces\n",
        "        text = re.sub(r'(https?://)?[a-zA-Z0-9]+\\.[a-zA-Z0-9]+\\S*', '', text)\n",
        "\n",
        "        # Eliminar nombres de usuarios de Twitter\n",
        "        text = re.sub(r'@\\w+', '', text)\n",
        "\n",
        "        # Eliminar Nombres propios\n",
        "        text = re.sub(r'\\b[A-Z][a-z]+\\b', '', text)\n",
        "\n",
        "        # Eliminar todos los caracteres especiales\n",
        "        text = re.sub(r'[^\\w\\s]+', '', text)\n",
        "\n",
        "        # Eliminar prefijos y números\n",
        "        text = re.sub(r'\\b\\w{1,2}\\b|\\d+', '', text)\n",
        "\n",
        "        # Eliminar palabras específicas\n",
        "        specific_words = ['retweet', 'retweets', 'hashtag', 'trending', 'mención', 'enlace', 'emoji', 'timeline', 'interacciones',\n",
        "                          'tuit', 'seguidores', 'notificaciones', 'seguir', 'favorito', 'perfil', 'tendencia', 'influencer',\n",
        "                          'compartir', 'actualización', 'explorar', 'seguir', 'comunidad', 'contenido', 'popular',\n",
        "                          'recomendar', 'experiencia', 'conectar', 'comentar', 'compartir', 'comunidad', 'actualización',\n",
        "                          'drk', 'followers', 'stats', 'for', 'new', 'little', 'unfollower', 'unfollowers', 'today', 'shit','twitter','nombre',\n",
        "                          'eric','story','great', 'short','squeeze','piggly','wiggly','hmv','even','follas','you','i','he','she',\n",
        "                          'it','we','they','the','and','that','these','those','tweet','followed','follower']\n",
        "        text = ' '.join([word for word in text.split() if word not in specific_words])\n",
        "\n",
        "        # Eliminar emojis\n",
        "        emojis = re.findall(r'[^\\w\\s,]', text)\n",
        "        cleaned_emojis = [emoji for emoji in emojis if emoji not in ['@', '#', '/', '?','¿','.','…','\"',':','“','!','¡','°','-',\"‘\",'’',\n",
        "                                                                     '=',';','(',')',\"'\",\"'\",'&','€','%','$','*','+','|', '”','🇦','🇷',',',\n",
        "                                                                     ', ','—','«',' »','»','« ','[, ]','[,]',',',', ','',' ',' ♀',' 🏽']]\n",
        "        for emoji in cleaned_emojis:\n",
        "            text = text.replace(emoji, '')\n",
        "\n",
        "        # Convertir el texto a minúsculas\n",
        "        text = text.lower()\n",
        "\n",
        "        # Eliminar signos de puntuación\n",
        "        text = re.sub(f\"[{re.escape(string.punctuation)}]\", \"\", text)\n",
        "        # Tokenizar el texto en palabras\n",
        "        words = text.split()\n",
        "\n",
        "        # Reconstruir el texto limpio\n",
        "        text = ' '.join(words)\n",
        "\n",
        "        # Devuelve el texto limpio\n",
        "        return text\n",
        "    else:\n",
        "        return text  # Devolver el valor original si no es de tipo string"
      ]
    },
    {
      "cell_type": "code",
      "execution_count": null,
      "metadata": {
        "id": "RVbj6OgEKkI-"
      },
      "outputs": [],
      "source": [
        "def Tokenizer(text):\n",
        "    if isinstance(text, str):\n",
        "        return text.split()\n",
        "    else:\n",
        "        return []  # Si el valor no es una cadena, retornar una lista vacía"
      ]
    },
    {
      "cell_type": "markdown",
      "metadata": {
        "id": "_G1-6-J0kvNR"
      },
      "source": [
        "# Preprocesamieto del conjunto de datos de entrenamiento"
      ]
    },
    {
      "cell_type": "code",
      "execution_count": null,
      "metadata": {
        "id": "m-jc-AGMkyl7",
        "colab": {
          "base_uri": "https://localhost:8080/",
          "height": 554
        },
        "outputId": "cd5d0c17-af63-4bea-eea3-259862c627a2"
      },
      "outputs": [
        {
          "output_type": "stream",
          "name": "stdout",
          "text": [
            "<class 'pandas.core.frame.DataFrame'>\n",
            "RangeIndex: 263950 entries, 0 to 263949\n",
            "Data columns (total 4 columns):\n",
            " #   Column      Non-Null Count   Dtype  \n",
            "---  ------      --------------   -----  \n",
            " 0   USER_ID     263950 non-null  object \n",
            " 1   TWEET_ID    263920 non-null  float64\n",
            " 2   TWEET_TEXT  263950 non-null  object \n",
            " 3   trastorno   263950 non-null  int64  \n",
            "dtypes: float64(1), int64(1), object(2)\n",
            "memory usage: 8.1+ MB\n"
          ]
        },
        {
          "output_type": "execute_result",
          "data": {
            "text/plain": [
              "  USER_ID      TWEET_ID                                         TWEET_TEXT  \\\n",
              "0      87  2.147484e+09  [por, qué, mayoría, las, pibas, les, gusta, te...   \n",
              "1       6  2.147484e+09                                [sintiéndote, solo]   \n",
              "2     279  2.147484e+09     [mirá, que, lindo, como, escrachan, magnifico]   \n",
              "3     518  2.147484e+09                                                 []   \n",
              "4     301  2.147484e+09  [sigue, con, cumple, deber, muy, pronto, vesti...   \n",
              "5     177  2.147484e+09                            [deje, dormir, prójimo]   \n",
              "6      45  2.147484e+09         [quiero, vivir, más, estoy, cansada, todo]   \n",
              "7      29  2.147484e+09  [poquito, vergüenza, cuando, alguien, quiere, ...   \n",
              "8     388  2.147484e+09                                          [related]   \n",
              "9      31  2.147484e+09  [muchas, ganas, escribirte, para, decirte, que...   \n",
              "\n",
              "   trastorno  \n",
              "0          1  \n",
              "1          1  \n",
              "2          0  \n",
              "3          0  \n",
              "4          0  \n",
              "5          0  \n",
              "6          1  \n",
              "7          1  \n",
              "8          0  \n",
              "9          1  "
            ],
            "text/html": [
              "\n",
              "  <div id=\"df-0ed73d2d-86bc-4698-a5b6-8448419a47dc\" class=\"colab-df-container\">\n",
              "    <div>\n",
              "<style scoped>\n",
              "    .dataframe tbody tr th:only-of-type {\n",
              "        vertical-align: middle;\n",
              "    }\n",
              "\n",
              "    .dataframe tbody tr th {\n",
              "        vertical-align: top;\n",
              "    }\n",
              "\n",
              "    .dataframe thead th {\n",
              "        text-align: right;\n",
              "    }\n",
              "</style>\n",
              "<table border=\"1\" class=\"dataframe\">\n",
              "  <thead>\n",
              "    <tr style=\"text-align: right;\">\n",
              "      <th></th>\n",
              "      <th>USER_ID</th>\n",
              "      <th>TWEET_ID</th>\n",
              "      <th>TWEET_TEXT</th>\n",
              "      <th>trastorno</th>\n",
              "    </tr>\n",
              "  </thead>\n",
              "  <tbody>\n",
              "    <tr>\n",
              "      <th>0</th>\n",
              "      <td>87</td>\n",
              "      <td>2.147484e+09</td>\n",
              "      <td>[por, qué, mayoría, las, pibas, les, gusta, te...</td>\n",
              "      <td>1</td>\n",
              "    </tr>\n",
              "    <tr>\n",
              "      <th>1</th>\n",
              "      <td>6</td>\n",
              "      <td>2.147484e+09</td>\n",
              "      <td>[sintiéndote, solo]</td>\n",
              "      <td>1</td>\n",
              "    </tr>\n",
              "    <tr>\n",
              "      <th>2</th>\n",
              "      <td>279</td>\n",
              "      <td>2.147484e+09</td>\n",
              "      <td>[mirá, que, lindo, como, escrachan, magnifico]</td>\n",
              "      <td>0</td>\n",
              "    </tr>\n",
              "    <tr>\n",
              "      <th>3</th>\n",
              "      <td>518</td>\n",
              "      <td>2.147484e+09</td>\n",
              "      <td>[]</td>\n",
              "      <td>0</td>\n",
              "    </tr>\n",
              "    <tr>\n",
              "      <th>4</th>\n",
              "      <td>301</td>\n",
              "      <td>2.147484e+09</td>\n",
              "      <td>[sigue, con, cumple, deber, muy, pronto, vesti...</td>\n",
              "      <td>0</td>\n",
              "    </tr>\n",
              "    <tr>\n",
              "      <th>5</th>\n",
              "      <td>177</td>\n",
              "      <td>2.147484e+09</td>\n",
              "      <td>[deje, dormir, prójimo]</td>\n",
              "      <td>0</td>\n",
              "    </tr>\n",
              "    <tr>\n",
              "      <th>6</th>\n",
              "      <td>45</td>\n",
              "      <td>2.147484e+09</td>\n",
              "      <td>[quiero, vivir, más, estoy, cansada, todo]</td>\n",
              "      <td>1</td>\n",
              "    </tr>\n",
              "    <tr>\n",
              "      <th>7</th>\n",
              "      <td>29</td>\n",
              "      <td>2.147484e+09</td>\n",
              "      <td>[poquito, vergüenza, cuando, alguien, quiere, ...</td>\n",
              "      <td>1</td>\n",
              "    </tr>\n",
              "    <tr>\n",
              "      <th>8</th>\n",
              "      <td>388</td>\n",
              "      <td>2.147484e+09</td>\n",
              "      <td>[related]</td>\n",
              "      <td>0</td>\n",
              "    </tr>\n",
              "    <tr>\n",
              "      <th>9</th>\n",
              "      <td>31</td>\n",
              "      <td>2.147484e+09</td>\n",
              "      <td>[muchas, ganas, escribirte, para, decirte, que...</td>\n",
              "      <td>1</td>\n",
              "    </tr>\n",
              "  </tbody>\n",
              "</table>\n",
              "</div>\n",
              "    <div class=\"colab-df-buttons\">\n",
              "\n",
              "  <div class=\"colab-df-container\">\n",
              "    <button class=\"colab-df-convert\" onclick=\"convertToInteractive('df-0ed73d2d-86bc-4698-a5b6-8448419a47dc')\"\n",
              "            title=\"Convert this dataframe to an interactive table.\"\n",
              "            style=\"display:none;\">\n",
              "\n",
              "  <svg xmlns=\"http://www.w3.org/2000/svg\" height=\"24px\" viewBox=\"0 -960 960 960\">\n",
              "    <path d=\"M120-120v-720h720v720H120Zm60-500h600v-160H180v160Zm220 220h160v-160H400v160Zm0 220h160v-160H400v160ZM180-400h160v-160H180v160Zm440 0h160v-160H620v160ZM180-180h160v-160H180v160Zm440 0h160v-160H620v160Z\"/>\n",
              "  </svg>\n",
              "    </button>\n",
              "\n",
              "  <style>\n",
              "    .colab-df-container {\n",
              "      display:flex;\n",
              "      gap: 12px;\n",
              "    }\n",
              "\n",
              "    .colab-df-convert {\n",
              "      background-color: #E8F0FE;\n",
              "      border: none;\n",
              "      border-radius: 50%;\n",
              "      cursor: pointer;\n",
              "      display: none;\n",
              "      fill: #1967D2;\n",
              "      height: 32px;\n",
              "      padding: 0 0 0 0;\n",
              "      width: 32px;\n",
              "    }\n",
              "\n",
              "    .colab-df-convert:hover {\n",
              "      background-color: #E2EBFA;\n",
              "      box-shadow: 0px 1px 2px rgba(60, 64, 67, 0.3), 0px 1px 3px 1px rgba(60, 64, 67, 0.15);\n",
              "      fill: #174EA6;\n",
              "    }\n",
              "\n",
              "    .colab-df-buttons div {\n",
              "      margin-bottom: 4px;\n",
              "    }\n",
              "\n",
              "    [theme=dark] .colab-df-convert {\n",
              "      background-color: #3B4455;\n",
              "      fill: #D2E3FC;\n",
              "    }\n",
              "\n",
              "    [theme=dark] .colab-df-convert:hover {\n",
              "      background-color: #434B5C;\n",
              "      box-shadow: 0px 1px 3px 1px rgba(0, 0, 0, 0.15);\n",
              "      filter: drop-shadow(0px 1px 2px rgba(0, 0, 0, 0.3));\n",
              "      fill: #FFFFFF;\n",
              "    }\n",
              "  </style>\n",
              "\n",
              "    <script>\n",
              "      const buttonEl =\n",
              "        document.querySelector('#df-0ed73d2d-86bc-4698-a5b6-8448419a47dc button.colab-df-convert');\n",
              "      buttonEl.style.display =\n",
              "        google.colab.kernel.accessAllowed ? 'block' : 'none';\n",
              "\n",
              "      async function convertToInteractive(key) {\n",
              "        const element = document.querySelector('#df-0ed73d2d-86bc-4698-a5b6-8448419a47dc');\n",
              "        const dataTable =\n",
              "          await google.colab.kernel.invokeFunction('convertToInteractive',\n",
              "                                                    [key], {});\n",
              "        if (!dataTable) return;\n",
              "\n",
              "        const docLinkHtml = 'Like what you see? Visit the ' +\n",
              "          '<a target=\"_blank\" href=https://colab.research.google.com/notebooks/data_table.ipynb>data table notebook</a>'\n",
              "          + ' to learn more about interactive tables.';\n",
              "        element.innerHTML = '';\n",
              "        dataTable['output_type'] = 'display_data';\n",
              "        await google.colab.output.renderOutput(dataTable, element);\n",
              "        const docLink = document.createElement('div');\n",
              "        docLink.innerHTML = docLinkHtml;\n",
              "        element.appendChild(docLink);\n",
              "      }\n",
              "    </script>\n",
              "  </div>\n",
              "\n",
              "\n",
              "<div id=\"df-2d80d3df-1fdd-42c6-b3fe-8f9b3c991dc4\">\n",
              "  <button class=\"colab-df-quickchart\" onclick=\"quickchart('df-2d80d3df-1fdd-42c6-b3fe-8f9b3c991dc4')\"\n",
              "            title=\"Suggest charts\"\n",
              "            style=\"display:none;\">\n",
              "\n",
              "<svg xmlns=\"http://www.w3.org/2000/svg\" height=\"24px\"viewBox=\"0 0 24 24\"\n",
              "     width=\"24px\">\n",
              "    <g>\n",
              "        <path d=\"M19 3H5c-1.1 0-2 .9-2 2v14c0 1.1.9 2 2 2h14c1.1 0 2-.9 2-2V5c0-1.1-.9-2-2-2zM9 17H7v-7h2v7zm4 0h-2V7h2v10zm4 0h-2v-4h2v4z\"/>\n",
              "    </g>\n",
              "</svg>\n",
              "  </button>\n",
              "\n",
              "<style>\n",
              "  .colab-df-quickchart {\n",
              "      --bg-color: #E8F0FE;\n",
              "      --fill-color: #1967D2;\n",
              "      --hover-bg-color: #E2EBFA;\n",
              "      --hover-fill-color: #174EA6;\n",
              "      --disabled-fill-color: #AAA;\n",
              "      --disabled-bg-color: #DDD;\n",
              "  }\n",
              "\n",
              "  [theme=dark] .colab-df-quickchart {\n",
              "      --bg-color: #3B4455;\n",
              "      --fill-color: #D2E3FC;\n",
              "      --hover-bg-color: #434B5C;\n",
              "      --hover-fill-color: #FFFFFF;\n",
              "      --disabled-bg-color: #3B4455;\n",
              "      --disabled-fill-color: #666;\n",
              "  }\n",
              "\n",
              "  .colab-df-quickchart {\n",
              "    background-color: var(--bg-color);\n",
              "    border: none;\n",
              "    border-radius: 50%;\n",
              "    cursor: pointer;\n",
              "    display: none;\n",
              "    fill: var(--fill-color);\n",
              "    height: 32px;\n",
              "    padding: 0;\n",
              "    width: 32px;\n",
              "  }\n",
              "\n",
              "  .colab-df-quickchart:hover {\n",
              "    background-color: var(--hover-bg-color);\n",
              "    box-shadow: 0 1px 2px rgba(60, 64, 67, 0.3), 0 1px 3px 1px rgba(60, 64, 67, 0.15);\n",
              "    fill: var(--button-hover-fill-color);\n",
              "  }\n",
              "\n",
              "  .colab-df-quickchart-complete:disabled,\n",
              "  .colab-df-quickchart-complete:disabled:hover {\n",
              "    background-color: var(--disabled-bg-color);\n",
              "    fill: var(--disabled-fill-color);\n",
              "    box-shadow: none;\n",
              "  }\n",
              "\n",
              "  .colab-df-spinner {\n",
              "    border: 2px solid var(--fill-color);\n",
              "    border-color: transparent;\n",
              "    border-bottom-color: var(--fill-color);\n",
              "    animation:\n",
              "      spin 1s steps(1) infinite;\n",
              "  }\n",
              "\n",
              "  @keyframes spin {\n",
              "    0% {\n",
              "      border-color: transparent;\n",
              "      border-bottom-color: var(--fill-color);\n",
              "      border-left-color: var(--fill-color);\n",
              "    }\n",
              "    20% {\n",
              "      border-color: transparent;\n",
              "      border-left-color: var(--fill-color);\n",
              "      border-top-color: var(--fill-color);\n",
              "    }\n",
              "    30% {\n",
              "      border-color: transparent;\n",
              "      border-left-color: var(--fill-color);\n",
              "      border-top-color: var(--fill-color);\n",
              "      border-right-color: var(--fill-color);\n",
              "    }\n",
              "    40% {\n",
              "      border-color: transparent;\n",
              "      border-right-color: var(--fill-color);\n",
              "      border-top-color: var(--fill-color);\n",
              "    }\n",
              "    60% {\n",
              "      border-color: transparent;\n",
              "      border-right-color: var(--fill-color);\n",
              "    }\n",
              "    80% {\n",
              "      border-color: transparent;\n",
              "      border-right-color: var(--fill-color);\n",
              "      border-bottom-color: var(--fill-color);\n",
              "    }\n",
              "    90% {\n",
              "      border-color: transparent;\n",
              "      border-bottom-color: var(--fill-color);\n",
              "    }\n",
              "  }\n",
              "</style>\n",
              "\n",
              "  <script>\n",
              "    async function quickchart(key) {\n",
              "      const quickchartButtonEl =\n",
              "        document.querySelector('#' + key + ' button');\n",
              "      quickchartButtonEl.disabled = true;  // To prevent multiple clicks.\n",
              "      quickchartButtonEl.classList.add('colab-df-spinner');\n",
              "      try {\n",
              "        const charts = await google.colab.kernel.invokeFunction(\n",
              "            'suggestCharts', [key], {});\n",
              "      } catch (error) {\n",
              "        console.error('Error during call to suggestCharts:', error);\n",
              "      }\n",
              "      quickchartButtonEl.classList.remove('colab-df-spinner');\n",
              "      quickchartButtonEl.classList.add('colab-df-quickchart-complete');\n",
              "    }\n",
              "    (() => {\n",
              "      let quickchartButtonEl =\n",
              "        document.querySelector('#df-2d80d3df-1fdd-42c6-b3fe-8f9b3c991dc4 button');\n",
              "      quickchartButtonEl.style.display =\n",
              "        google.colab.kernel.accessAllowed ? 'block' : 'none';\n",
              "    })();\n",
              "  </script>\n",
              "</div>\n",
              "    </div>\n",
              "  </div>\n"
            ]
          },
          "metadata": {},
          "execution_count": 8
        }
      ],
      "source": [
        "data_train['TWEET_TEXT'] = data_train['TWEET_TEXT'].apply(removeHTML)\n",
        "data_train['TWEET_TEXT'] = data_train['TWEET_TEXT'].apply(clean)\n",
        "data_train['TWEET_TEXT'] = data_train['TWEET_TEXT'].apply(Tokenizer)\n",
        "data_train.info()\n",
        "data_train.head(10)"
      ]
    },
    {
      "cell_type": "code",
      "execution_count": null,
      "metadata": {
        "id": "dkfJwuJalr6H",
        "colab": {
          "base_uri": "https://localhost:8080/"
        },
        "outputId": "ddbffc80-2eaf-47a5-eb60-583b98649caf"
      },
      "outputs": [
        {
          "output_type": "stream",
          "name": "stdout",
          "text": [
            "Número de elementos vacíos en la columna 'TWEET_TEXT': 16750\n"
          ]
        }
      ],
      "source": [
        "# Verificar si hay elementos vacíos en la columna 'TWEET_TEXT'\n",
        "empty_count = (data_train['TWEET_TEXT'].apply(len) == 0).sum()\n",
        "\n",
        "# Imprimir el número de elementos vacíos en la columna 'TWEET_TEXT'\n",
        "print(\"Número de elementos vacíos en la columna 'TWEET_TEXT':\", empty_count)"
      ]
    },
    {
      "cell_type": "code",
      "execution_count": null,
      "metadata": {
        "id": "wr1meiHXluWk"
      },
      "outputs": [],
      "source": [
        "# Filtrar filas donde 'TWEET_TEXT' no sea una lista vacía\n",
        "data_train = data_train[data_train['TWEET_TEXT'].apply(len) > 0]\n",
        "\n",
        "# Reiniciar el índice del DataFrame después de eliminar filas\n",
        "data_train.reset_index(drop=True, inplace=True)"
      ]
    },
    {
      "cell_type": "code",
      "execution_count": null,
      "metadata": {
        "id": "3j2qM6y4lvG4",
        "colab": {
          "base_uri": "https://localhost:8080/"
        },
        "outputId": "71eb9dd7-e9a4-42ce-9d82-c2774c4ffb90"
      },
      "outputs": [
        {
          "output_type": "stream",
          "name": "stdout",
          "text": [
            "Número de elementos vacíos en la columna 'TWEET_TEXT': 0\n"
          ]
        }
      ],
      "source": [
        "# Verificar si hay elementos vacíos en la columna 'TWEET_TEXT'\n",
        "empty_count = (data_train['TWEET_TEXT'].apply(len) == 0).sum()\n",
        "\n",
        "# Imprimir el número de elementos vacíos en la columna 'TWEET_TEXT'\n",
        "print(\"Número de elementos vacíos en la columna 'TWEET_TEXT':\", empty_count)"
      ]
    },
    {
      "cell_type": "markdown",
      "metadata": {
        "id": "p41SB9h6p_Eb"
      },
      "source": [
        "#Vectorización de los datos\n",
        "\n"
      ]
    },
    {
      "cell_type": "code",
      "execution_count": null,
      "metadata": {
        "id": "fBQWGrKoqAMP"
      },
      "outputs": [],
      "source": [
        "import gensim\n",
        "from gensim.models import Word2Vec\n",
        "# Entrena un modelo Word2Vec usando CBOW\n",
        "modelW = Word2Vec(data_train['TWEET_TEXT'], vector_size=300, window=5, min_count=1, sg=0)\n",
        "\n",
        "# Obtener la representación vectorial de un documento promediando las palabras\n",
        "def document_vector(tokens, modelW):\n",
        "    # Filtrar palabras que no están en el modelo\n",
        "    tokens = [token for token in tokens if token in modelW.wv.key_to_index]\n",
        "    if len(tokens) == 0:\n",
        "        return np.zeros(modelW.vector_size)\n",
        "    return np.mean([modelW.wv[token] for token in tokens], axis=0)\n",
        "\n",
        "# Crear una matriz de características X utilizando las representaciones vectoriales de Word2Vec\n",
        "X  = np.array([document_vector(tokens, modelW) for tokens in data_train['TWEET_TEXT']])\n",
        "\n",
        "# Asegurémonos de que los valores en X_word2vec sean no negativos\n",
        "X[X  < 0] = 0\n",
        "\n",
        "# Discretizar los valores en X_word2vec en palabras\n",
        "X = [[str(i) for i in vector] for vector in X]\n",
        "\n",
        "\n",
        "# Obtener las etiquetas y\n",
        "y = data_train['trastorno'].values\n"
      ]
    },
    {
      "cell_type": "code",
      "source": [
        "# Imprimimos el la longitud de las palabras totales\n",
        "print(modelW)\n",
        "print(len(modelW.wv))\n",
        "# Observamos el vocabulario creado\n",
        "words = modelW.wv.index_to_key\n",
        "print(words)"
      ],
      "metadata": {
        "id": "XSlak_eCiTOq"
      },
      "execution_count": null,
      "outputs": []
    },
    {
      "cell_type": "markdown",
      "source": [
        "# **divir y reducir la demensionalidad de los datos de entrenamiento**"
      ],
      "metadata": {
        "id": "gNFxsrYoif8G"
      }
    },
    {
      "cell_type": "code",
      "source": [
        "import numpy as np\n",
        "from sklearn.model_selection import train_test_split\n",
        "from sklearn.decomposition import LatentDirichletAllocation as LDA\n",
        "from sklearn.linear_model import LogisticRegression\n",
        "from sklearn.metrics import accuracy_score, precision_score, recall_score, f1_score\n",
        "# Dividir los datos en conjuntos de entrenamiento y prueba\n",
        "X_train, X_test, y_train, y_test = train_test_split(X, y, test_size=0.3, random_state=42)\n",
        "\n",
        "# Aplicar LDA para reducir la dimensionalidad\n",
        "n_topics = 10  # Define el número de tópicos (componentes)\n",
        "lda = LDA(n_components=n_topics)\n",
        "X_train_lda = lda.fit_transform(X_train, y_train)\n",
        "X_test_lda = lda.transform(X_test)"
      ],
      "metadata": {
        "id": "iysjPG9_iovj"
      },
      "execution_count": null,
      "outputs": []
    },
    {
      "cell_type": "code",
      "source": [
        "\n",
        "\n",
        "# Crear un modelo de Regresión Logística\n",
        "model = LogisticRegression(random_state=42)\n",
        "\n",
        "# Entrenar el modelo en los datos de entrenamiento transformados por LDA\n",
        "model.fit(X_train_lda, y_train)\n",
        "\n",
        "# Predecir las etiquetas en el conjunto de prueba\n",
        "y_pred = model.predict(X_test_lda)\n",
        "\n",
        "# Calcular la precisión del modelo\n",
        "accuracy = accuracy_score(y_test, y_pred)\n",
        "print(f\"Exactitud del modelo: {accuracy * 100:.2f}%\")\n",
        "\n",
        "# Calcular la precisión, recall y puntuación F1\n",
        "precision = precision_score(y_test, y_pred, average='weighted')\n",
        "recall = recall_score(y_test, y_pred, average='weighted')\n",
        "f1 = f1_score(y_test, y_pred, average='weighted')\n",
        "\n",
        "print(f\"Precisión: {precision * 100:.2f}%\")\n",
        "print(f\"Recall: {recall * 100:.2f}%\")\n",
        "print(f\"Puntuación F1: {f1 * 100:.2f}%\")"
      ],
      "metadata": {
        "colab": {
          "base_uri": "https://localhost:8080/"
        },
        "id": "ycZ9u5OgHUgR",
        "outputId": "df06f8e3-89e7-454c-b5fe-3b081de42026"
      },
      "execution_count": null,
      "outputs": [
        {
          "output_type": "stream",
          "name": "stdout",
          "text": [
            "Exactitud del modelo: 67.75%\n",
            "Precisión: 67.97%\n",
            "Recall: 67.75%\n",
            "Puntuación F1: 67.70%\n"
          ]
        }
      ]
    },
    {
      "cell_type": "markdown",
      "metadata": {
        "id": "AWyCEaEuAzmh"
      },
      "source": [
        "# MATRIZ DE CONFUSIÓN"
      ]
    },
    {
      "cell_type": "code",
      "execution_count": null,
      "metadata": {
        "id": "b9q5A52IA4N-",
        "colab": {
          "base_uri": "https://localhost:8080/"
        },
        "outputId": "003f6f10-d7da-4223-9560-b70f11d2df22"
      },
      "outputs": [
        {
          "output_type": "stream",
          "name": "stdout",
          "text": [
            "Matriz de confusión: \n",
            "\n",
            " [[23868 13750]\n",
            " [10163 26379]] \n",
            "\n",
            "Proporción de comentarios positivos: 0.49\n",
            "Proporción de comentarios positivos etiquetados: 0.54\n"
          ]
        }
      ],
      "source": [
        "from sklearn.metrics import confusion_matrix\n",
        "\n",
        "y_pred = model.predict(X_test_lda)\n",
        "\n",
        "# Obtiene la matriz de confusión. Las filas corresponden a las clases reales,\n",
        "umbral = 0.5  # Puedes ajustar este umbral según tus necesidades\n",
        "y_pred_binario = (y_pred > umbral).astype(int)\n",
        "\n",
        "# Calcular la matriz de confusión con las etiquetas binarias\n",
        "cm = confusion_matrix(y_test, y_pred_binario)\n",
        "prop_real = np.sum(y_test)/len(y_test)\n",
        "prop_etiqutados = (cm[0,1]+cm[1,1])/len(y_test)\n",
        "\n",
        "print(\"Matriz de confusión: \\n\\n\", cm, \"\\n\")\n",
        "print('Proporción de comentarios positivos: %.2f'% prop_real)\n",
        "print('Proporción de comentarios positivos etiquetados: %.2f'% prop_etiqutados)"
      ]
    },
    {
      "cell_type": "code",
      "execution_count": null,
      "metadata": {
        "id": "V8dbR_W2BBAp",
        "colab": {
          "base_uri": "https://localhost:8080/",
          "height": 570
        },
        "outputId": "0e46dda2-ea2f-4194-a07f-88d8aa4cf294"
      },
      "outputs": [
        {
          "output_type": "display_data",
          "data": {
            "text/plain": [
              "<Figure size 800x600 with 2 Axes>"
            ],
            "image/png": "[encoded data removed]"
          },
          "metadata": {
            "image/png": {
              "width": 681,
              "height": 553
            }
          }
        }
      ],
      "source": [
        "import seaborn as sns\n",
        "import matplotlib.pyplot as plt\n",
        "\n",
        "# Crear una figura para la matriz de confusión\n",
        "plt.figure(figsize=(8, 6))\n",
        "\n",
        "# Crear una matriz de confusión usando el heatmap de Seaborn\n",
        "sns.heatmap(cm, annot=True, fmt=\"d\", cmap=\"Blues\", xticklabels=['0', '1'], yticklabels=['0', '1'])\n",
        "\n",
        "# Etiquetas y título\n",
        "plt.xlabel('Predicción')\n",
        "plt.ylabel('Valor Real')\n",
        "plt.title('Matriz de Confusión')\n",
        "\n",
        "# Mostrar la gráfica\n",
        "plt.show()"
      ]
    },
    {
      "cell_type": "markdown",
      "metadata": {
        "id": "YR_1UCCjz4Iq"
      },
      "source": [
        "# Aprensizaje del modelo: Regresión Logística\n",
        "**Validación Cruzada K=10**"
      ]
    },
    {
      "cell_type": "code",
      "source": [
        "import numpy as np\n",
        "from sklearn.model_selection import StratifiedKFold\n",
        "from sklearn.decomposition import LatentDirichletAllocation as LDA\n",
        "from sklearn.linear_model import LogisticRegression\n",
        "from sklearn.metrics import accuracy_score, precision_score, recall_score, f1_score\n",
        "\n",
        "\n",
        "# Inicializar listas para almacenar métricas\n",
        "train_accuracy_scores = []\n",
        "train_precision_scores = []\n",
        "train_recall_scores = []\n",
        "train_f1_scores = []\n",
        "\n",
        "val_accuracy_scores = []\n",
        "val_precision_scores = []\n",
        "val_recall_scores = []\n",
        "val_f1_scores = []\n",
        "\n",
        "# Crear un objeto StratifiedKFold para dividir los datos en k-folds estratificados\n",
        "skf = StratifiedKFold(n_splits=10, shuffle=True, random_state=42)\n",
        "\n",
        "\n",
        "# Dividir los datos en k-folds y realizar la validación cruzada\n",
        "for train_index, val_index in skf.split(X_train_lda, y_train):\n",
        "    X_train_fold, X_val_fold = X_train_lda[train_index], X_train_lda[val_index]\n",
        "    y_train_fold, y_val_fold = y_train[train_index], y_train[val_index]\n",
        "\n",
        "    # Crear un modelo de Regresión Logística\n",
        "    model = LogisticRegression(penalty='l1', C=10, solver='liblinear', random_state=42)\n",
        "    # Entrenar el modelo en los datos de entrenamiento transformados por LDA\n",
        "    model.fit(X_train_fold, y_train_fold)\n",
        "\n",
        "    # Predecir las etiquetas en el conjunto de entrenamiento y validación\n",
        "    y_train_pred = model.predict(X_train_fold)\n",
        "    y_val_pred = model.predict(X_val_fold)\n",
        "\n",
        "    # Calcular métricas de entrenamiento\n",
        "    train_accuracy = accuracy_score(y_train_fold, y_train_pred)\n",
        "    train_precision = precision_score(y_train_fold, y_train_pred, average='weighted')\n",
        "    train_recall = recall_score(y_train_fold, y_train_pred, average='weighted')\n",
        "    train_f1 = f1_score(y_train_fold, y_train_pred, average='weighted')\n",
        "\n",
        "    # Calcular métricas de validación\n",
        "    val_accuracy = accuracy_score(y_val_fold, y_val_pred)\n",
        "    val_precision = precision_score(y_val_fold, y_val_pred, average='weighted')\n",
        "    val_recall = recall_score(y_val_fold, y_val_pred, average='weighted')\n",
        "    val_f1 = f1_score(y_val_fold, y_val_pred, average='weighted')\n",
        "\n",
        "    # Almacenar las métricas en las listas\n",
        "    train_accuracy_scores.append(train_accuracy)\n",
        "    train_precision_scores.append(train_precision)\n",
        "    train_recall_scores.append(train_recall)\n",
        "    train_f1_scores.append(train_f1)\n",
        "\n",
        "    val_accuracy_scores.append(val_accuracy)\n",
        "    val_precision_scores.append(val_precision)\n",
        "    val_recall_scores.append(val_recall)\n",
        "    val_f1_scores.append(val_f1)\n",
        "\n",
        "# Calcular las métricas promediadas en entrenamiento\n",
        "train_accuracy_mean = np.mean(train_accuracy_scores)\n",
        "train_precision_mean = np.mean(train_precision_scores)\n",
        "train_recall_mean = np.mean(train_recall_scores)\n",
        "train_f1_mean = np.mean(train_f1_scores)\n",
        "\n",
        "# Calcular las métricas promediadas en validación\n",
        "val_accuracy_mean = np.mean(val_accuracy_scores)\n",
        "val_precision_mean = np.mean(val_precision_scores)\n",
        "val_recall_mean = np.mean(val_recall_scores)\n",
        "val_f1_mean = np.mean(val_f1_scores)\n",
        "\n",
        "# Imprimir las métricas promediadas\n",
        "print(\"Métricas de entrenamiento promediadas:\")\n",
        "print(f\"Exactitud: {train_accuracy_mean * 100:.2f}%\")\n",
        "print(f\"Precisión: {train_precision_mean * 100:.2f}%\")\n",
        "print(f\"Recuperación: {train_recall_mean * 100:.2f}%\")\n",
        "print(f\"Puntuación F1: {train_f1_mean * 100:.2f}%\")\n",
        "\n",
        "print(\"\\nMétricas de validación promediadas:\")\n",
        "print(f\"Exactitud: {val_accuracy_mean * 100:.2f}%\")\n",
        "print(f\"Precisión: {val_precision_mean * 100:.2f}%\")\n",
        "print(f\"Recuperación: {val_recall_mean * 100:.2f}%\")\n",
        "print(f\"Puntuación F1: {val_f1_mean * 100:.2f}%\")\n"
      ],
      "metadata": {
        "colab": {
          "base_uri": "https://localhost:8080/"
        },
        "id": "poDMYzSCQIdd",
        "outputId": "698577b3-b09d-48f2-b9e1-409b5f07ece2"
      },
      "execution_count": null,
      "outputs": [
        {
          "output_type": "stream",
          "name": "stdout",
          "text": [
            "Métricas de entrenamiento promediadas:\n",
            "Exactitud: 67.85%\n",
            "Precisión: 68.08%\n",
            "Recuperación: 67.85%\n",
            "Puntuación F1: 67.80%\n",
            "\n",
            "Métricas de validación promediadas:\n",
            "Exactitud: 67.85%\n",
            "Precisión: 68.07%\n",
            "Recuperación: 67.85%\n",
            "Puntuación F1: 67.79%\n"
          ]
        }
      ]
    },
    {
      "cell_type": "code",
      "source": [],
      "metadata": {
        "id": "ke1eNkdOEUrl"
      },
      "execution_count": null,
      "outputs": []
    },
    {
      "cell_type": "markdown",
      "metadata": {
        "id": "YparLAOhrW7y"
      },
      "source": [
        "# MATRIZ DE CONFUSIÓN"
      ]
    },
    {
      "cell_type": "code",
      "execution_count": null,
      "metadata": {
        "colab": {
          "base_uri": "https://localhost:8080/"
        },
        "outputId": "6c48f36d-61eb-43d1-c2c9-c5503268747e",
        "id": "0QlaUjQprW8M"
      },
      "outputs": [
        {
          "output_type": "stream",
          "name": "stdout",
          "text": [
            "Matriz de confusión: \n",
            "\n",
            " [[5614 3183]\n",
            " [2400 6107]] \n",
            "\n",
            "Proporción de comentarios positivos: 0.49\n",
            "Proporción de comentarios positivos etiquetados: 0.54\n"
          ]
        }
      ],
      "source": [
        "from sklearn.metrics import confusion_matrix\n",
        "\n",
        "y_pred = model.predict(X_val_fold)\n",
        "\n",
        "# Obtiene la matriz de confusión. Las filas corresponden a las clases reales,\n",
        "umbral = 0.5  # Puedes ajustar este umbral según tus necesidades\n",
        "y_pred_binario = (y_pred > umbral).astype(int)\n",
        "\n",
        "# Calcular la matriz de confusión con las etiquetas binarias\n",
        "cm = confusion_matrix(y_val_fold, y_pred_binario)\n",
        "prop_real = np.sum(y_val_fold)/len(y_val_fold)\n",
        "prop_etiqutados = (cm[0,1]+cm[1,1])/len(y_val_fold)\n",
        "\n",
        "print(\"Matriz de confusión: \\n\\n\", cm, \"\\n\")\n",
        "print('Proporción de comentarios positivos: %.2f'% prop_real)\n",
        "print('Proporción de comentarios positivos etiquetados: %.2f'% prop_etiqutados)"
      ]
    },
    {
      "cell_type": "code",
      "execution_count": null,
      "metadata": {
        "colab": {
          "base_uri": "https://localhost:8080/",
          "height": 570
        },
        "outputId": "82e80302-24ca-4dec-a90c-bf59df1e3fde",
        "id": "ReV40ubSrW8N"
      },
      "outputs": [
        {
          "output_type": "display_data",
          "data": {
            "text/plain": [
              "<Figure size 800x600 with 2 Axes>"
            ],
            "image/png": "[encoded data removed]"
          },
          "metadata": {
            "image/png": {
              "width": 671,
              "height": 553
            }
          }
        }
      ],
      "source": [
        "import seaborn as sns\n",
        "import matplotlib.pyplot as plt\n",
        "\n",
        "# Crear una figura para la matriz de confusión\n",
        "plt.figure(figsize=(8, 6))\n",
        "\n",
        "# Crear una matriz de confusión usando el heatmap de Seaborn\n",
        "sns.heatmap(cm, annot=True, fmt=\"d\", cmap=\"Blues\", xticklabels=['0', '1'], yticklabels=['0', '1'])\n",
        "\n",
        "# Etiquetas y título\n",
        "plt.xlabel('Predicción')\n",
        "plt.ylabel('Valor Real')\n",
        "plt.title('Matriz de Confusión')\n",
        "\n",
        "# Mostrar la gráfica\n",
        "plt.show()"
      ]
    },
    {
      "cell_type": "markdown",
      "metadata": {
        "id": "hswZRn1z3d8X"
      },
      "source": [
        "# Guardar el modelo\n"
      ]
    },
    {
      "cell_type": "code",
      "execution_count": null,
      "metadata": {
        "id": "wQdVv-G03iEA",
        "colab": {
          "base_uri": "https://localhost:8080/"
        },
        "outputId": "c81e6970-4f9d-42c4-9037-65329f9dc99c"
      },
      "outputs": [
        {
          "output_type": "stream",
          "name": "stdout",
          "text": [
            "Modelo guardado en: /content/drive/MyDrive/Experimentación Python Tesis /Experimento Dataset Depresión/LDA/Experimentos pt2/TWEETS_depresión_word2vec_RL_LDA.pkl\n"
          ]
        }
      ],
      "source": [
        "import joblib\n",
        "\n",
        "import os\n",
        "# Guardar el modelo entrenado\n",
        "model_folder = '/content/drive/MyDrive/Experimentación Python Tesis /Experimento Dataset Depresión/LDA/Experimentos pt2'  # Ruta de la carpeta donde deseas guardar el modelo\n",
        "model_filename = 'TWEETS_depresión_word2vec_RL_LDA.pkl'\n",
        "model_path = os.path.join(model_folder, model_filename)\n",
        "\n",
        "# Asegurarse de que la carpeta exista\n",
        "os.makedirs(model_folder, exist_ok=True)\n",
        "\n",
        "# Guardar el modelo utilizando joblib\n",
        "joblib.dump(model, model_path)\n",
        "\n",
        "# Imprimir la ruta del modelo guardado\n",
        "print(f\"Modelo guardado en: {model_path}\")"
      ]
    }
  ],
  "metadata": {
    "colab": {
      "provenance": [],
      "mount_file_id": "1kRkSScgEaelzl8WXjQyBWlWlwKsiVs_i",
      "authorship_tag": "ABX9TyO/TIlFjYJrXDHRf7lZWYh0"
    },
    "kernelspec": {
      "display_name": "Python 3",
      "name": "python3"
    },
    "language_info": {
      "name": "python"
    }
  },
  "nbformat": 4,
  "nbformat_minor": 0
}
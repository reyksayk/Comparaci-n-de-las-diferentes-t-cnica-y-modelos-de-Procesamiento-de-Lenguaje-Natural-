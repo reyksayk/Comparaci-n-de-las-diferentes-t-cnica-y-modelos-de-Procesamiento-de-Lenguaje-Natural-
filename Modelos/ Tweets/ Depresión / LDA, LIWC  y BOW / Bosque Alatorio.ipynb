{
  "nbformat": 4,
  "nbformat_minor": 0,
  "metadata": {
    "colab": {
      "provenance": [],
      "mount_file_id": "1FCtjmiJQPK8ZgK2hZ6jOsLAvcjMso_TV",
      "authorship_tag": "ABX9TyPxDx9bjPw4RGE6WG4EMQRL"
    },
    "kernelspec": {
      "name": "python3",
      "display_name": "Python 3"
    },
    "language_info": {
      "name": "python"
    }
  },
  "cells": [
    {
      "cell_type": "code",
      "execution_count": null,
      "metadata": {
        "id": "nOnCRxQTv67j"
      },
      "outputs": [],
      "source": [
        "!pip install liwc\n",
        "!pip install nltk\n",
        "!pip install spacy\n",
        "!python -m spacy download es_core_news_sm\n",
        "!pip install -U imbalanced-learn\n",
        "!pip install pyspellchecker"
      ]
    },
    {
      "cell_type": "code",
      "execution_count": null,
      "metadata": {
        "id": "1uRSa1LYb7SG"
      },
      "outputs": [],
      "source": [
        "import pandas as pd\n",
        "import numpy as np\n",
        "from collections import Counter\n",
        "import matplotlib.pyplot as plt\n",
        "import seaborn as sns; sns.set()\n",
        "%config InlineBackend.figure_format = 'retina'\n",
        "%matplotlib inline\n",
        "\n",
        "# Oculta warnings\n",
        "import warnings\n",
        "warnings.simplefilter('ignore')"
      ]
    },
    {
      "cell_type": "code",
      "execution_count": null,
      "metadata": {
        "colab": {
          "base_uri": "https://localhost:8080/",
          "height": 17
        },
        "id": "hzPoe11ed1Cn",
        "outputId": "b8f9467b-9857-45d1-e54f-dc5ebedea3d3"
      },
      "outputs": [
        {
          "output_type": "display_data",
          "data": {
            "text/plain": [
              "<IPython.core.display.HTML object>"
            ],
            "text/html": [
              "<style>.container { width:95% !important; }</style>"
            ]
          },
          "metadata": {}
        }
      ],
      "source": [
        "from IPython.core.display import display, HTML\n",
        "display(HTML(\"<style>.container { width:95% !important; }</style>\"))"
      ]
    },
    {
      "cell_type": "markdown",
      "source": [
        "# **Leer LIWC diccionario - Español**"
      ],
      "metadata": {
        "id": "yOLXvMJ-xOM8"
      }
    },
    {
      "cell_type": "code",
      "source": [
        "import liwc"
      ],
      "metadata": {
        "id": "wozEMsumyVUk"
      },
      "execution_count": null,
      "outputs": []
    },
    {
      "cell_type": "code",
      "source": [
        "liwcPath= r'/content/drive/MyDrive/Experimentación Python Tesis /Diccionarios español/Spanish_LIWC2007_Dictionary.dic'\n",
        "parse, category_names = liwc.load_token_parser(liwcPath)\n",
        "print(f'Categorias del diccionario: {category_names}')"
      ],
      "metadata": {
        "colab": {
          "base_uri": "https://localhost:8080/"
        },
        "id": "deI6nLGcxVFM",
        "outputId": "31d2fedf-735d-4b92-c68d-56331d326064"
      },
      "execution_count": null,
      "outputs": [
        {
          "output_type": "stream",
          "name": "stdout",
          "text": [
            "Categorias del diccionario: ['Funct', 'TotPron', 'PronPer', 'Yo', 'Nosotro', 'TuUtd', 'ElElla', 'Ellos', 'PronImp', 'Articulo', 'Verbos', 'VerbAux', 'Pasado', 'Present', 'Futuro', 'Adverb', 'Prepos', 'Conjunc', 'Negacio', 'Cuantif', 'Numeros', 'Maldec', 'verbYO', 'verbTU', 'verbNOS', 'verbosEL', 'verbELLOS', 'Subjuntiv', 'VosUtds', 'formal', 'informal', 'verbVos', 'Social', 'Familia', 'Amigos', 'Humanos', 'Afect', 'EmoPos', 'EmoNeg', 'Ansiedad', 'Enfado', 'Triste', 'MecCog', 'Insight', 'Causa', 'Discrep', 'Tentat', 'Certeza', 'Inhib', 'Incl', 'Excl', 'Percept', 'Ver', 'Oir', 'Sentir', 'Biolog', 'Cuerpo', 'Salud', 'Sexual', 'Ingerir', 'Relativ', 'Movim', 'Espacio', 'Tiempo', 'Trabajo', 'Logro', 'Placer', 'Hogar', 'Dinero', 'Relig', 'Muerte', 'Asentir', 'NoFluen', 'Relleno']\n"
          ]
        }
      ]
    },
    {
      "cell_type": "markdown",
      "metadata": {
        "id": "CLArw93weAlq"
      },
      "source": [
        "# CARGAR DATOS"
      ]
    },
    {
      "cell_type": "markdown",
      "metadata": {
        "id": "B499esgwety5"
      },
      "source": [
        "**DATOS DE ENTRENAMIENTO**\n",
        "\n",
        "la columna de trastornos indica si el TWEET es de una persona con depresión o es de control.\n",
        "\n",
        "\n",
        "**control**:     0\n",
        "\n",
        "**depresión**:   1\n",
        "\n"
      ]
    },
    {
      "cell_type": "code",
      "execution_count": null,
      "metadata": {
        "colab": {
          "base_uri": "https://localhost:8080/",
          "height": 554
        },
        "id": "O7T2rh8Md6p2",
        "outputId": "065b2d9f-cd1b-45c7-884a-cc84125bc972"
      },
      "outputs": [
        {
          "output_type": "stream",
          "name": "stdout",
          "text": [
            "<class 'pandas.core.frame.DataFrame'>\n",
            "RangeIndex: 263950 entries, 0 to 263949\n",
            "Data columns (total 4 columns):\n",
            " #   Column      Non-Null Count   Dtype  \n",
            "---  ------      --------------   -----  \n",
            " 0   USER_ID     263950 non-null  object \n",
            " 1   TWEET_ID    263920 non-null  float64\n",
            " 2   TWEET_TEXT  263950 non-null  object \n",
            " 3   trastorno   263950 non-null  int64  \n",
            "dtypes: float64(1), int64(1), object(2)\n",
            "memory usage: 8.1+ MB\n"
          ]
        },
        {
          "output_type": "execute_result",
          "data": {
            "text/plain": [
              "  USER_ID      TWEET_ID                                         TWEET_TEXT  \\\n",
              "0      87  2.147484e+09  RT @Julii_AKD: por qué a la mayoría de las pib...   \n",
              "1       6  2.147484e+09                  Empezar un 2017 sintiéndote solo.   \n",
              "2     279  2.147484e+09  Ah mirá que lindo como me escrachan en Instagr...   \n",
              "3     518  2.147484e+09                            https://t.co/hC3rULMb1P   \n",
              "4     301  2.147484e+09  Tu sigue con él, cumple tu deber, muy pronto v...   \n",
              "5     177  2.147484e+09                  @Sebbasrp deje dormir al prójimo.   \n",
              "6      45  2.147484e+09  RT @Crookedgirlx: no quiero vivir más, estoy c...   \n",
              "7      29  2.147484e+09  RT @Esunbreakable: Me da un poquito de vergüen...   \n",
              "8     388  2.147484e+09  Venezuela-related Designation https://t.co/IOZ...   \n",
              "9      31  2.147484e+09  Tengo muchas ganas de escribirte para decirte ...   \n",
              "\n",
              "   trastorno  \n",
              "0          1  \n",
              "1          1  \n",
              "2          0  \n",
              "3          0  \n",
              "4          0  \n",
              "5          0  \n",
              "6          1  \n",
              "7          1  \n",
              "8          0  \n",
              "9          1  "
            ],
            "text/html": [
              "\n",
              "  <div id=\"df-2754066e-9702-4940-91a6-cab22e06ee74\" class=\"colab-df-container\">\n",
              "    <div>\n",
              "<style scoped>\n",
              "    .dataframe tbody tr th:only-of-type {\n",
              "        vertical-align: middle;\n",
              "    }\n",
              "\n",
              "    .dataframe tbody tr th {\n",
              "        vertical-align: top;\n",
              "    }\n",
              "\n",
              "    .dataframe thead th {\n",
              "        text-align: right;\n",
              "    }\n",
              "</style>\n",
              "<table border=\"1\" class=\"dataframe\">\n",
              "  <thead>\n",
              "    <tr style=\"text-align: right;\">\n",
              "      <th></th>\n",
              "      <th>USER_ID</th>\n",
              "      <th>TWEET_ID</th>\n",
              "      <th>TWEET_TEXT</th>\n",
              "      <th>trastorno</th>\n",
              "    </tr>\n",
              "  </thead>\n",
              "  <tbody>\n",
              "    <tr>\n",
              "      <th>0</th>\n",
              "      <td>87</td>\n",
              "      <td>2.147484e+09</td>\n",
              "      <td>RT @Julii_AKD: por qué a la mayoría de las pib...</td>\n",
              "      <td>1</td>\n",
              "    </tr>\n",
              "    <tr>\n",
              "      <th>1</th>\n",
              "      <td>6</td>\n",
              "      <td>2.147484e+09</td>\n",
              "      <td>Empezar un 2017 sintiéndote solo.</td>\n",
              "      <td>1</td>\n",
              "    </tr>\n",
              "    <tr>\n",
              "      <th>2</th>\n",
              "      <td>279</td>\n",
              "      <td>2.147484e+09</td>\n",
              "      <td>Ah mirá que lindo como me escrachan en Instagr...</td>\n",
              "      <td>0</td>\n",
              "    </tr>\n",
              "    <tr>\n",
              "      <th>3</th>\n",
              "      <td>518</td>\n",
              "      <td>2.147484e+09</td>\n",
              "      <td>https://t.co/hC3rULMb1P</td>\n",
              "      <td>0</td>\n",
              "    </tr>\n",
              "    <tr>\n",
              "      <th>4</th>\n",
              "      <td>301</td>\n",
              "      <td>2.147484e+09</td>\n",
              "      <td>Tu sigue con él, cumple tu deber, muy pronto v...</td>\n",
              "      <td>0</td>\n",
              "    </tr>\n",
              "    <tr>\n",
              "      <th>5</th>\n",
              "      <td>177</td>\n",
              "      <td>2.147484e+09</td>\n",
              "      <td>@Sebbasrp deje dormir al prójimo.</td>\n",
              "      <td>0</td>\n",
              "    </tr>\n",
              "    <tr>\n",
              "      <th>6</th>\n",
              "      <td>45</td>\n",
              "      <td>2.147484e+09</td>\n",
              "      <td>RT @Crookedgirlx: no quiero vivir más, estoy c...</td>\n",
              "      <td>1</td>\n",
              "    </tr>\n",
              "    <tr>\n",
              "      <th>7</th>\n",
              "      <td>29</td>\n",
              "      <td>2.147484e+09</td>\n",
              "      <td>RT @Esunbreakable: Me da un poquito de vergüen...</td>\n",
              "      <td>1</td>\n",
              "    </tr>\n",
              "    <tr>\n",
              "      <th>8</th>\n",
              "      <td>388</td>\n",
              "      <td>2.147484e+09</td>\n",
              "      <td>Venezuela-related Designation https://t.co/IOZ...</td>\n",
              "      <td>0</td>\n",
              "    </tr>\n",
              "    <tr>\n",
              "      <th>9</th>\n",
              "      <td>31</td>\n",
              "      <td>2.147484e+09</td>\n",
              "      <td>Tengo muchas ganas de escribirte para decirte ...</td>\n",
              "      <td>1</td>\n",
              "    </tr>\n",
              "  </tbody>\n",
              "</table>\n",
              "</div>\n",
              "    <div class=\"colab-df-buttons\">\n",
              "\n",
              "  <div class=\"colab-df-container\">\n",
              "    <button class=\"colab-df-convert\" onclick=\"convertToInteractive('df-2754066e-9702-4940-91a6-cab22e06ee74')\"\n",
              "            title=\"Convert this dataframe to an interactive table.\"\n",
              "            style=\"display:none;\">\n",
              "\n",
              "  <svg xmlns=\"http://www.w3.org/2000/svg\" height=\"24px\" viewBox=\"0 -960 960 960\">\n",
              "    <path d=\"M120-120v-720h720v720H120Zm60-500h600v-160H180v160Zm220 220h160v-160H400v160Zm0 220h160v-160H400v160ZM180-400h160v-160H180v160Zm440 0h160v-160H620v160ZM180-180h160v-160H180v160Zm440 0h160v-160H620v160Z\"/>\n",
              "  </svg>\n",
              "    </button>\n",
              "\n",
              "  <style>\n",
              "    .colab-df-container {\n",
              "      display:flex;\n",
              "      gap: 12px;\n",
              "    }\n",
              "\n",
              "    .colab-df-convert {\n",
              "      background-color: #E8F0FE;\n",
              "      border: none;\n",
              "      border-radius: 50%;\n",
              "      cursor: pointer;\n",
              "      display: none;\n",
              "      fill: #1967D2;\n",
              "      height: 32px;\n",
              "      padding: 0 0 0 0;\n",
              "      width: 32px;\n",
              "    }\n",
              "\n",
              "    .colab-df-convert:hover {\n",
              "      background-color: #E2EBFA;\n",
              "      box-shadow: 0px 1px 2px rgba(60, 64, 67, 0.3), 0px 1px 3px 1px rgba(60, 64, 67, 0.15);\n",
              "      fill: #174EA6;\n",
              "    }\n",
              "\n",
              "    .colab-df-buttons div {\n",
              "      margin-bottom: 4px;\n",
              "    }\n",
              "\n",
              "    [theme=dark] .colab-df-convert {\n",
              "      background-color: #3B4455;\n",
              "      fill: #D2E3FC;\n",
              "    }\n",
              "\n",
              "    [theme=dark] .colab-df-convert:hover {\n",
              "      background-color: #434B5C;\n",
              "      box-shadow: 0px 1px 3px 1px rgba(0, 0, 0, 0.15);\n",
              "      filter: drop-shadow(0px 1px 2px rgba(0, 0, 0, 0.3));\n",
              "      fill: #FFFFFF;\n",
              "    }\n",
              "  </style>\n",
              "\n",
              "    <script>\n",
              "      const buttonEl =\n",
              "        document.querySelector('#df-2754066e-9702-4940-91a6-cab22e06ee74 button.colab-df-convert');\n",
              "      buttonEl.style.display =\n",
              "        google.colab.kernel.accessAllowed ? 'block' : 'none';\n",
              "\n",
              "      async function convertToInteractive(key) {\n",
              "        const element = document.querySelector('#df-2754066e-9702-4940-91a6-cab22e06ee74');\n",
              "        const dataTable =\n",
              "          await google.colab.kernel.invokeFunction('convertToInteractive',\n",
              "                                                    [key], {});\n",
              "        if (!dataTable) return;\n",
              "\n",
              "        const docLinkHtml = 'Like what you see? Visit the ' +\n",
              "          '<a target=\"_blank\" href=https://colab.research.google.com/notebooks/data_table.ipynb>data table notebook</a>'\n",
              "          + ' to learn more about interactive tables.';\n",
              "        element.innerHTML = '';\n",
              "        dataTable['output_type'] = 'display_data';\n",
              "        await google.colab.output.renderOutput(dataTable, element);\n",
              "        const docLink = document.createElement('div');\n",
              "        docLink.innerHTML = docLinkHtml;\n",
              "        element.appendChild(docLink);\n",
              "      }\n",
              "    </script>\n",
              "  </div>\n",
              "\n",
              "\n",
              "<div id=\"df-3bda3b6f-93d6-49a7-8c56-14d9a6c3e03b\">\n",
              "  <button class=\"colab-df-quickchart\" onclick=\"quickchart('df-3bda3b6f-93d6-49a7-8c56-14d9a6c3e03b')\"\n",
              "            title=\"Suggest charts\"\n",
              "            style=\"display:none;\">\n",
              "\n",
              "<svg xmlns=\"http://www.w3.org/2000/svg\" height=\"24px\"viewBox=\"0 0 24 24\"\n",
              "     width=\"24px\">\n",
              "    <g>\n",
              "        <path d=\"M19 3H5c-1.1 0-2 .9-2 2v14c0 1.1.9 2 2 2h14c1.1 0 2-.9 2-2V5c0-1.1-.9-2-2-2zM9 17H7v-7h2v7zm4 0h-2V7h2v10zm4 0h-2v-4h2v4z\"/>\n",
              "    </g>\n",
              "</svg>\n",
              "  </button>\n",
              "\n",
              "<style>\n",
              "  .colab-df-quickchart {\n",
              "      --bg-color: #E8F0FE;\n",
              "      --fill-color: #1967D2;\n",
              "      --hover-bg-color: #E2EBFA;\n",
              "      --hover-fill-color: #174EA6;\n",
              "      --disabled-fill-color: #AAA;\n",
              "      --disabled-bg-color: #DDD;\n",
              "  }\n",
              "\n",
              "  [theme=dark] .colab-df-quickchart {\n",
              "      --bg-color: #3B4455;\n",
              "      --fill-color: #D2E3FC;\n",
              "      --hover-bg-color: #434B5C;\n",
              "      --hover-fill-color: #FFFFFF;\n",
              "      --disabled-bg-color: #3B4455;\n",
              "      --disabled-fill-color: #666;\n",
              "  }\n",
              "\n",
              "  .colab-df-quickchart {\n",
              "    background-color: var(--bg-color);\n",
              "    border: none;\n",
              "    border-radius: 50%;\n",
              "    cursor: pointer;\n",
              "    display: none;\n",
              "    fill: var(--fill-color);\n",
              "    height: 32px;\n",
              "    padding: 0;\n",
              "    width: 32px;\n",
              "  }\n",
              "\n",
              "  .colab-df-quickchart:hover {\n",
              "    background-color: var(--hover-bg-color);\n",
              "    box-shadow: 0 1px 2px rgba(60, 64, 67, 0.3), 0 1px 3px 1px rgba(60, 64, 67, 0.15);\n",
              "    fill: var(--button-hover-fill-color);\n",
              "  }\n",
              "\n",
              "  .colab-df-quickchart-complete:disabled,\n",
              "  .colab-df-quickchart-complete:disabled:hover {\n",
              "    background-color: var(--disabled-bg-color);\n",
              "    fill: var(--disabled-fill-color);\n",
              "    box-shadow: none;\n",
              "  }\n",
              "\n",
              "  .colab-df-spinner {\n",
              "    border: 2px solid var(--fill-color);\n",
              "    border-color: transparent;\n",
              "    border-bottom-color: var(--fill-color);\n",
              "    animation:\n",
              "      spin 1s steps(1) infinite;\n",
              "  }\n",
              "\n",
              "  @keyframes spin {\n",
              "    0% {\n",
              "      border-color: transparent;\n",
              "      border-bottom-color: var(--fill-color);\n",
              "      border-left-color: var(--fill-color);\n",
              "    }\n",
              "    20% {\n",
              "      border-color: transparent;\n",
              "      border-left-color: var(--fill-color);\n",
              "      border-top-color: var(--fill-color);\n",
              "    }\n",
              "    30% {\n",
              "      border-color: transparent;\n",
              "      border-left-color: var(--fill-color);\n",
              "      border-top-color: var(--fill-color);\n",
              "      border-right-color: var(--fill-color);\n",
              "    }\n",
              "    40% {\n",
              "      border-color: transparent;\n",
              "      border-right-color: var(--fill-color);\n",
              "      border-top-color: var(--fill-color);\n",
              "    }\n",
              "    60% {\n",
              "      border-color: transparent;\n",
              "      border-right-color: var(--fill-color);\n",
              "    }\n",
              "    80% {\n",
              "      border-color: transparent;\n",
              "      border-right-color: var(--fill-color);\n",
              "      border-bottom-color: var(--fill-color);\n",
              "    }\n",
              "    90% {\n",
              "      border-color: transparent;\n",
              "      border-bottom-color: var(--fill-color);\n",
              "    }\n",
              "  }\n",
              "</style>\n",
              "\n",
              "  <script>\n",
              "    async function quickchart(key) {\n",
              "      const quickchartButtonEl =\n",
              "        document.querySelector('#' + key + ' button');\n",
              "      quickchartButtonEl.disabled = true;  // To prevent multiple clicks.\n",
              "      quickchartButtonEl.classList.add('colab-df-spinner');\n",
              "      try {\n",
              "        const charts = await google.colab.kernel.invokeFunction(\n",
              "            'suggestCharts', [key], {});\n",
              "      } catch (error) {\n",
              "        console.error('Error during call to suggestCharts:', error);\n",
              "      }\n",
              "      quickchartButtonEl.classList.remove('colab-df-spinner');\n",
              "      quickchartButtonEl.classList.add('colab-df-quickchart-complete');\n",
              "    }\n",
              "    (() => {\n",
              "      let quickchartButtonEl =\n",
              "        document.querySelector('#df-3bda3b6f-93d6-49a7-8c56-14d9a6c3e03b button');\n",
              "      quickchartButtonEl.style.display =\n",
              "        google.colab.kernel.accessAllowed ? 'block' : 'none';\n",
              "    })();\n",
              "  </script>\n",
              "</div>\n",
              "    </div>\n",
              "  </div>\n"
            ]
          },
          "metadata": {},
          "execution_count": 6
        }
      ],
      "source": [
        "ruta_archivo_entrenamiento = '/content/drive/MyDrive/Experimentación Python Tesis /entrenamiento y prueba (control vs depresión)/train.csv'\n",
        "data_train = pd.read_csv(ruta_archivo_entrenamiento, sep=',')\n",
        "#data_train = data.iloc[:num_docs, :]\n",
        "data_train['TWEET_TEXT'] = data_train['TWEET_TEXT'].astype(str)\n",
        "data_train.info()\n",
        "data_train.head(10)"
      ]
    },
    {
      "cell_type": "code",
      "source": [],
      "metadata": {
        "id": "QQI5oidd0cg_"
      },
      "execution_count": null,
      "outputs": []
    },
    {
      "cell_type": "code",
      "execution_count": null,
      "metadata": {
        "colab": {
          "base_uri": "https://localhost:8080/"
        },
        "id": "U3yu15xZSi3G",
        "outputId": "8e3061b3-8dbe-44a4-9b23-7f6b36a19f9a"
      },
      "outputs": [
        {
          "output_type": "stream",
          "name": "stdout",
          "text": [
            "Número de filas nulas o vacías en la columna 'TWEET_TEXT': 0\n"
          ]
        }
      ],
      "source": [
        "# Verificar si hay filas nulas o vacías en la columna 'TWEET_TEXT'\n",
        "null_values = data_train['TWEET_TEXT'].isnull().sum()\n",
        "\n",
        "# Imprimir el número de filas nulas o vacías\n",
        "print(\"Número de filas nulas o vacías en la columna 'TWEET_TEXT':\", null_values)"
      ]
    },
    {
      "cell_type": "code",
      "source": [
        "data_train.dropna(subset=['TWEET_TEXT'], inplace=True)\n",
        "\n",
        "# Verificar si hay filas nulas o vacías en la columna 'TWEET_TEXT'\n",
        "null_values = data_train['TWEET_TEXT'].isnull().sum()\n",
        "\n",
        "# Imprimir el número de filas nulas o vacías\n",
        "print(\"Número de filas nulas o vacías en la columna 'TWEET_TEXT':\", null_values)\n",
        "data_train.info()"
      ],
      "metadata": {
        "colab": {
          "base_uri": "https://localhost:8080/"
        },
        "id": "C1koM-mfk7ys",
        "outputId": "aaf68209-278f-462b-8a9f-aca7a6165e1b"
      },
      "execution_count": null,
      "outputs": [
        {
          "output_type": "stream",
          "name": "stdout",
          "text": [
            "Número de filas nulas o vacías en la columna 'TWEET_TEXT': 0\n",
            "<class 'pandas.core.frame.DataFrame'>\n",
            "RangeIndex: 263950 entries, 0 to 263949\n",
            "Data columns (total 4 columns):\n",
            " #   Column      Non-Null Count   Dtype  \n",
            "---  ------      --------------   -----  \n",
            " 0   USER_ID     263950 non-null  object \n",
            " 1   TWEET_ID    263920 non-null  float64\n",
            " 2   TWEET_TEXT  263950 non-null  object \n",
            " 3   trastorno   263950 non-null  int64  \n",
            "dtypes: float64(1), int64(1), object(2)\n",
            "memory usage: 8.1+ MB\n"
          ]
        }
      ]
    },
    {
      "cell_type": "markdown",
      "source": [
        "# **limpiar Dataset**"
      ],
      "metadata": {
        "id": "cbGSCbiUzrIb"
      }
    },
    {
      "cell_type": "code",
      "source": [
        "import re\n",
        "import string\n",
        "\n",
        "\n",
        "def removeHTML(text):\n",
        "    if isinstance(text, str):  # Verificar si es de tipo string\n",
        "        cleanr = re.compile('<.*?>')\n",
        "        cleantext = re.sub(cleanr, '', text)\n",
        "        return cleantext\n",
        "    else:\n",
        "        return text  # Devolver el valor original si no es de tipo string\n",
        "\n",
        "def clean(text):\n",
        "    text = text.lower()\n",
        "    text = re.sub('\\[.*?\\]', '', text)\n",
        "    text = re.sub(\"\\\\W\",\" \",text)\n",
        "    text = re.sub('https?://\\S+|www\\.\\S+', '', text)\n",
        "    text = re.sub(r'https', '', text)\n",
        "    text = re.sub('<.*?>+', '', text)\n",
        "    text = re.sub('[%s]' % re.escape(string.punctuation), '', text)\n",
        "    text = re.sub('\\n', '', text)\n",
        "    text = re.sub('\\w*\\d\\w*', '', text)\n",
        "    text = re.sub(r'#\\w+', '', text)\n",
        "    text = re.sub(r'(https?://)?[a-zA-Z0-9]+\\.[a-zA-Z0-9]+\\S*', '', text)\n",
        "    text = re.sub(r'@\\w+', '', text)\n",
        "    text = re.sub(r'\\b[A-Z][a-z]+\\b', '', text)\n",
        "    text = re.sub(r'[^\\w\\s]+', '', text)\n",
        "    text = re.sub(r'\\b\\w{1,2}\\b|\\d+', '', text)\n",
        "    emojis = re.findall(r'[^\\w\\s,]', text)\n",
        "    cleaned_emojis = [emoji for emoji in emojis if emoji not in ['@', '#', '/', '?','¿','.','…','\"',':','“','!','¡','°','-',\"‘\",'’',\n",
        "                                                                  '=',';','(',')',\"'\",\"'\",'&','€','%','$','*','+','|', '”','🇦','🇷',',',\n",
        "                                                                  ', ','—','«',' »','»','« ','[, ]','[,]',',',', ','',' ',' ♀',' 🏽']]\n",
        "    for emoji in cleaned_emojis:\n",
        "        text = text.replace(emoji, '')\n",
        "    return text\n"
      ],
      "metadata": {
        "id": "KK6VZLPLwsse"
      },
      "execution_count": null,
      "outputs": []
    },
    {
      "cell_type": "code",
      "source": [
        "data_train['TWEET_TEXT'] = data_train.TWEET_TEXT.apply(lambda x : removeHTML(x))\n",
        "data_train['TWEET_TEXT'] = data_train.TWEET_TEXT.apply(lambda x : clean(x))"
      ],
      "metadata": {
        "id": "1-d1GI992ZIq"
      },
      "execution_count": null,
      "outputs": []
    },
    {
      "cell_type": "markdown",
      "source": [
        "**Remover Stopword**"
      ],
      "metadata": {
        "id": "0JeozIJn4RmL"
      }
    },
    {
      "cell_type": "code",
      "source": [
        "import nltk\n",
        "nltk.download('punkt')\n",
        "nltk.download('stopwords')  #Solamente se ha de descargar la primera vez.\n",
        "stopwords_en = nltk.corpus.stopwords.words('spanish')   # Extrae las stopwords en español"
      ],
      "metadata": {
        "colab": {
          "base_uri": "https://localhost:8080/"
        },
        "id": "lcfc-uEQ4b3d",
        "outputId": "994b60fc-9ff0-4730-bc77-9786445ad023"
      },
      "execution_count": null,
      "outputs": [
        {
          "output_type": "stream",
          "name": "stderr",
          "text": [
            "[nltk_data] Downloading package punkt to /root/nltk_data...\n",
            "[nltk_data]   Unzipping tokenizers/punkt.zip.\n",
            "[nltk_data] Downloading package stopwords to /root/nltk_data...\n",
            "[nltk_data]   Unzipping corpora/stopwords.zip.\n"
          ]
        }
      ]
    },
    {
      "cell_type": "code",
      "source": [
        "def Stopword(text):\n",
        "  token_text = nltk.word_tokenize(text)\n",
        "  remover_palab = [word for word in token_text if word not in stopwords_en]\n",
        "  join_text = ' '.join(remover_palab)\n",
        "  return join_text"
      ],
      "metadata": {
        "id": "OvMfIWiY4qvR"
      },
      "execution_count": null,
      "outputs": []
    },
    {
      "cell_type": "code",
      "source": [
        "data_train['TWEET_TEXT'] = data_train.TWEET_TEXT.apply(lambda x : Stopword(x))"
      ],
      "metadata": {
        "id": "lVJhcStMlUA-"
      },
      "execution_count": null,
      "outputs": []
    },
    {
      "cell_type": "markdown",
      "source": [
        "**Lemmatización**"
      ],
      "metadata": {
        "id": "kXOFYNti9vAY"
      }
    },
    {
      "cell_type": "code",
      "source": [
        "import spacy\n",
        "from spacy.lang.es import Spanish\n",
        "from nltk.corpus import stopwords\n",
        "from nltk.stem import PorterStemmer\n",
        "\n",
        "# Cargar modelo de spaCy\n",
        "nlp = spacy.load(\"es_core_news_sm\")\n",
        "\n",
        "# Cargar stopwords en español\n",
        "stopwords_es = set(stopwords.words('spanish'))\n",
        "\n",
        "# Inicializar stemmer de NLTK\n",
        "stemmer = PorterStemmer()"
      ],
      "metadata": {
        "id": "uRfLW5eF9ut4"
      },
      "execution_count": null,
      "outputs": []
    },
    {
      "cell_type": "code",
      "source": [
        "import pandas as pd\n",
        "import spacy\n",
        "from spacy.lang.es import Spanish\n",
        "from nltk.corpus import stopwords\n",
        "\n",
        "\n",
        "# Cargar modelo de spaCy\n",
        "nlp = spacy.load(\"es_core_news_sm\")\n",
        "\n",
        "# Cargar stopwords en español\n",
        "stopwords_es = set(stopwords.words('spanish'))\n",
        "def extractTerms(text):\n",
        "    if isinstance(text, str):\n",
        "        # Tokenización y lematización con spaCy\n",
        "        doc = nlp(text)\n",
        "        lemmatized_terms = [token.lemma_ for token in doc if token.text.lower() not in stopwords_es]\n",
        "\n",
        "        return lemmatized_terms\n",
        "    else:\n",
        "        return []  # Devolver una lista vacía si el texto no es una cadena de texto\n",
        "\n",
        "# Ejemplo de uso\n",
        "texto_ejemplo = \"Me gustan los gatos están saltando sobre las vallas\"\n",
        "terminos_extraidos = extractTerms(texto_ejemplo)\n",
        "print(terminos_extraidos)"
      ],
      "metadata": {
        "colab": {
          "base_uri": "https://localhost:8080/"
        },
        "id": "ZIBEsNbV-Ta-",
        "outputId": "4d045a6b-3828-4951-8d9e-dbae0eefff59"
      },
      "execution_count": null,
      "outputs": [
        {
          "output_type": "stream",
          "name": "stdout",
          "text": [
            "['gustar', 'gato', 'saltar', 'valla']\n"
          ]
        }
      ]
    },
    {
      "cell_type": "code",
      "source": [
        "data_train['TWEET_TEXT'] = data_train.TWEET_TEXT.apply(lambda x : extractTerms(x))"
      ],
      "metadata": {
        "id": "0M3G4FHe-fQg"
      },
      "execution_count": null,
      "outputs": []
    },
    {
      "cell_type": "markdown",
      "source": [
        "# **Usar LIWC para extraer las caracteristicas del texto**"
      ],
      "metadata": {
        "id": "6nxcrNz4H1OP"
      }
    },
    {
      "cell_type": "code",
      "source": [
        "corpus = []\n",
        "words = []\n",
        "\n",
        "for i in range(0,len(data_train)):\n",
        "    review = re.sub('[^a-zA-Z0-9]',' ',data_train['TWEET_TEXT'][i])\n",
        "    review = review.lower()\n",
        "    review = review.split()\n",
        "\n",
        "    review = list(category for token in review for category in parse(token))\n",
        "    statements = ' '.join(review)\n",
        "    corpus.append(statements)\n",
        "    words.append(review)\n"
      ],
      "metadata": {
        "id": "8qa-TdKtIP6A"
      },
      "execution_count": null,
      "outputs": []
    },
    {
      "cell_type": "markdown",
      "source": [
        "# **Metodo TfidfVectorizer**"
      ],
      "metadata": {
        "id": "-4Hji3uCKuj-"
      }
    },
    {
      "cell_type": "code",
      "source": [
        "# from sklearn.feature_extraction.text import TfidfVectorizer\n",
        "# vectorizer=TfidfVectorizer(max_features=5000)\n",
        "# X_fit=vectorizer.fit(corpus)\n",
        "# X_transformed=X_fit.transform(corpus)\n",
        "# features = vectorizer.get_feature_names_out()\n",
        "# df_count = pd.DataFrame(X_transformed.toarray(),columns = features)\n",
        "# df_count"
      ],
      "metadata": {
        "id": "iKm3yoWlPBPg"
      },
      "execution_count": null,
      "outputs": []
    },
    {
      "cell_type": "code",
      "source": [
        "from sklearn.feature_extraction.text import CountVectorizer\n",
        "\n",
        "# Crear una instancia de CountVectorizer\n",
        "count_vect = CountVectorizer()\n",
        "\n",
        "# Aplicar CountVectorizer al corpus\n",
        "count_train = count_vect.fit_transform(corpus)\n",
        "\n",
        "# Imprimir el tamaño del vocabulario construido por CountVectorizer\n",
        "print(\"El tamaño del vocabulario es: \", len(count_vect.vocabulary_))\n",
        "\n",
        "X = count_train  # Matriz de conteo\n",
        "y = data_train['trastorno'].values  # Etiquetas de trastorno de la columna 'trastorno'\n",
        "\n",
        "features = count_vect.get_feature_names_out()\n",
        "\n",
        "# Crear un DataFrame con la matriz de conteo\n",
        "df_count = pd.DataFrame(count_train.toarray(), columns=features)\n",
        "df_count\n"
      ],
      "metadata": {
        "colab": {
          "base_uri": "https://localhost:8080/",
          "height": 461
        },
        "id": "EUv7CSGiNrCH",
        "outputId": "27eee94b-f67f-404f-a396-64908b76940b"
      },
      "execution_count": null,
      "outputs": [
        {
          "output_type": "stream",
          "name": "stdout",
          "text": [
            "El tamaño del vocabulario es:  73\n"
          ]
        },
        {
          "output_type": "execute_result",
          "data": {
            "text/plain": [
              "        adverb  afect  amigos  ansiedad  articulo  asentir  biolog  causa  \\\n",
              "0            0      1       0         0         0        0       0      0   \n",
              "1            0      1       0         0         0        0       0      0   \n",
              "2            0      0       0         0         0        0       0      0   \n",
              "3            0      0       0         0         0        0       0      0   \n",
              "4            1      0       1         0         0        0       0      0   \n",
              "...        ...    ...     ...       ...       ...      ...     ...    ...   \n",
              "263945       0      0       0         0         0        0       0      0   \n",
              "263946       0      0       0         0         0        0       0      0   \n",
              "263947       0      0       0         0         0        0       0      0   \n",
              "263948       0      0       0         0         0        0       0      0   \n",
              "263949       0      1       0         0         0        0       1      0   \n",
              "\n",
              "        certeza  conjunc  ...  verbaux  verbellos  verbnos  verbos  verbosel  \\\n",
              "0             0        0  ...        0          0        0       2         1   \n",
              "1             0        0  ...        0          0        0       0         0   \n",
              "2             0        0  ...        0          0        0       0         0   \n",
              "3             0        0  ...        0          0        0       0         0   \n",
              "4             0        0  ...        0          0        0       1         0   \n",
              "...         ...      ...  ...      ...        ...      ...     ...       ...   \n",
              "263945        0        0  ...        0          0        0       1         0   \n",
              "263946        0        0  ...        0          0        0       0         0   \n",
              "263947        0        0  ...        0          0        0       0         0   \n",
              "263948        0        0  ...        0          0        0       0         0   \n",
              "263949        0        0  ...        0          0        0       3         1   \n",
              "\n",
              "        verbtu  verbvos  verbyo  vosutds  yo  \n",
              "0            0        0       0        0   0  \n",
              "1            0        0       0        0   0  \n",
              "2            0        0       0        0   0  \n",
              "3            0        0       0        0   0  \n",
              "4            0        0       0        0   0  \n",
              "...        ...      ...     ...      ...  ..  \n",
              "263945       0        0       0        0   0  \n",
              "263946       0        0       0        0   0  \n",
              "263947       0        0       0        0   1  \n",
              "263948       0        0       0        0   0  \n",
              "263949       0        0       0        0   0  \n",
              "\n",
              "[263950 rows x 73 columns]"
            ],
            "text/html": [
              "\n",
              "  <div id=\"df-4d857c64-a0dc-49e8-8b7c-af1cc47496a2\" class=\"colab-df-container\">\n",
              "    <div>\n",
              "<style scoped>\n",
              "    .dataframe tbody tr th:only-of-type {\n",
              "        vertical-align: middle;\n",
              "    }\n",
              "\n",
              "    .dataframe tbody tr th {\n",
              "        vertical-align: top;\n",
              "    }\n",
              "\n",
              "    .dataframe thead th {\n",
              "        text-align: right;\n",
              "    }\n",
              "</style>\n",
              "<table border=\"1\" class=\"dataframe\">\n",
              "  <thead>\n",
              "    <tr style=\"text-align: right;\">\n",
              "      <th></th>\n",
              "      <th>adverb</th>\n",
              "      <th>afect</th>\n",
              "      <th>amigos</th>\n",
              "      <th>ansiedad</th>\n",
              "      <th>articulo</th>\n",
              "      <th>asentir</th>\n",
              "      <th>biolog</th>\n",
              "      <th>causa</th>\n",
              "      <th>certeza</th>\n",
              "      <th>conjunc</th>\n",
              "      <th>...</th>\n",
              "      <th>verbaux</th>\n",
              "      <th>verbellos</th>\n",
              "      <th>verbnos</th>\n",
              "      <th>verbos</th>\n",
              "      <th>verbosel</th>\n",
              "      <th>verbtu</th>\n",
              "      <th>verbvos</th>\n",
              "      <th>verbyo</th>\n",
              "      <th>vosutds</th>\n",
              "      <th>yo</th>\n",
              "    </tr>\n",
              "  </thead>\n",
              "  <tbody>\n",
              "    <tr>\n",
              "      <th>0</th>\n",
              "      <td>0</td>\n",
              "      <td>1</td>\n",
              "      <td>0</td>\n",
              "      <td>0</td>\n",
              "      <td>0</td>\n",
              "      <td>0</td>\n",
              "      <td>0</td>\n",
              "      <td>0</td>\n",
              "      <td>0</td>\n",
              "      <td>0</td>\n",
              "      <td>...</td>\n",
              "      <td>0</td>\n",
              "      <td>0</td>\n",
              "      <td>0</td>\n",
              "      <td>2</td>\n",
              "      <td>1</td>\n",
              "      <td>0</td>\n",
              "      <td>0</td>\n",
              "      <td>0</td>\n",
              "      <td>0</td>\n",
              "      <td>0</td>\n",
              "    </tr>\n",
              "    <tr>\n",
              "      <th>1</th>\n",
              "      <td>0</td>\n",
              "      <td>1</td>\n",
              "      <td>0</td>\n",
              "      <td>0</td>\n",
              "      <td>0</td>\n",
              "      <td>0</td>\n",
              "      <td>0</td>\n",
              "      <td>0</td>\n",
              "      <td>0</td>\n",
              "      <td>0</td>\n",
              "      <td>...</td>\n",
              "      <td>0</td>\n",
              "      <td>0</td>\n",
              "      <td>0</td>\n",
              "      <td>0</td>\n",
              "      <td>0</td>\n",
              "      <td>0</td>\n",
              "      <td>0</td>\n",
              "      <td>0</td>\n",
              "      <td>0</td>\n",
              "      <td>0</td>\n",
              "    </tr>\n",
              "    <tr>\n",
              "      <th>2</th>\n",
              "      <td>0</td>\n",
              "      <td>0</td>\n",
              "      <td>0</td>\n",
              "      <td>0</td>\n",
              "      <td>0</td>\n",
              "      <td>0</td>\n",
              "      <td>0</td>\n",
              "      <td>0</td>\n",
              "      <td>0</td>\n",
              "      <td>0</td>\n",
              "      <td>...</td>\n",
              "      <td>0</td>\n",
              "      <td>0</td>\n",
              "      <td>0</td>\n",
              "      <td>0</td>\n",
              "      <td>0</td>\n",
              "      <td>0</td>\n",
              "      <td>0</td>\n",
              "      <td>0</td>\n",
              "      <td>0</td>\n",
              "      <td>0</td>\n",
              "    </tr>\n",
              "    <tr>\n",
              "      <th>3</th>\n",
              "      <td>0</td>\n",
              "      <td>0</td>\n",
              "      <td>0</td>\n",
              "      <td>0</td>\n",
              "      <td>0</td>\n",
              "      <td>0</td>\n",
              "      <td>0</td>\n",
              "      <td>0</td>\n",
              "      <td>0</td>\n",
              "      <td>0</td>\n",
              "      <td>...</td>\n",
              "      <td>0</td>\n",
              "      <td>0</td>\n",
              "      <td>0</td>\n",
              "      <td>0</td>\n",
              "      <td>0</td>\n",
              "      <td>0</td>\n",
              "      <td>0</td>\n",
              "      <td>0</td>\n",
              "      <td>0</td>\n",
              "      <td>0</td>\n",
              "    </tr>\n",
              "    <tr>\n",
              "      <th>4</th>\n",
              "      <td>1</td>\n",
              "      <td>0</td>\n",
              "      <td>1</td>\n",
              "      <td>0</td>\n",
              "      <td>0</td>\n",
              "      <td>0</td>\n",
              "      <td>0</td>\n",
              "      <td>0</td>\n",
              "      <td>0</td>\n",
              "      <td>0</td>\n",
              "      <td>...</td>\n",
              "      <td>0</td>\n",
              "      <td>0</td>\n",
              "      <td>0</td>\n",
              "      <td>1</td>\n",
              "      <td>0</td>\n",
              "      <td>0</td>\n",
              "      <td>0</td>\n",
              "      <td>0</td>\n",
              "      <td>0</td>\n",
              "      <td>0</td>\n",
              "    </tr>\n",
              "    <tr>\n",
              "      <th>...</th>\n",
              "      <td>...</td>\n",
              "      <td>...</td>\n",
              "      <td>...</td>\n",
              "      <td>...</td>\n",
              "      <td>...</td>\n",
              "      <td>...</td>\n",
              "      <td>...</td>\n",
              "      <td>...</td>\n",
              "      <td>...</td>\n",
              "      <td>...</td>\n",
              "      <td>...</td>\n",
              "      <td>...</td>\n",
              "      <td>...</td>\n",
              "      <td>...</td>\n",
              "      <td>...</td>\n",
              "      <td>...</td>\n",
              "      <td>...</td>\n",
              "      <td>...</td>\n",
              "      <td>...</td>\n",
              "      <td>...</td>\n",
              "      <td>...</td>\n",
              "    </tr>\n",
              "    <tr>\n",
              "      <th>263945</th>\n",
              "      <td>0</td>\n",
              "      <td>0</td>\n",
              "      <td>0</td>\n",
              "      <td>0</td>\n",
              "      <td>0</td>\n",
              "      <td>0</td>\n",
              "      <td>0</td>\n",
              "      <td>0</td>\n",
              "      <td>0</td>\n",
              "      <td>0</td>\n",
              "      <td>...</td>\n",
              "      <td>0</td>\n",
              "      <td>0</td>\n",
              "      <td>0</td>\n",
              "      <td>1</td>\n",
              "      <td>0</td>\n",
              "      <td>0</td>\n",
              "      <td>0</td>\n",
              "      <td>0</td>\n",
              "      <td>0</td>\n",
              "      <td>0</td>\n",
              "    </tr>\n",
              "    <tr>\n",
              "      <th>263946</th>\n",
              "      <td>0</td>\n",
              "      <td>0</td>\n",
              "      <td>0</td>\n",
              "      <td>0</td>\n",
              "      <td>0</td>\n",
              "      <td>0</td>\n",
              "      <td>0</td>\n",
              "      <td>0</td>\n",
              "      <td>0</td>\n",
              "      <td>0</td>\n",
              "      <td>...</td>\n",
              "      <td>0</td>\n",
              "      <td>0</td>\n",
              "      <td>0</td>\n",
              "      <td>0</td>\n",
              "      <td>0</td>\n",
              "      <td>0</td>\n",
              "      <td>0</td>\n",
              "      <td>0</td>\n",
              "      <td>0</td>\n",
              "      <td>0</td>\n",
              "    </tr>\n",
              "    <tr>\n",
              "      <th>263947</th>\n",
              "      <td>0</td>\n",
              "      <td>0</td>\n",
              "      <td>0</td>\n",
              "      <td>0</td>\n",
              "      <td>0</td>\n",
              "      <td>0</td>\n",
              "      <td>0</td>\n",
              "      <td>0</td>\n",
              "      <td>0</td>\n",
              "      <td>0</td>\n",
              "      <td>...</td>\n",
              "      <td>0</td>\n",
              "      <td>0</td>\n",
              "      <td>0</td>\n",
              "      <td>0</td>\n",
              "      <td>0</td>\n",
              "      <td>0</td>\n",
              "      <td>0</td>\n",
              "      <td>0</td>\n",
              "      <td>0</td>\n",
              "      <td>1</td>\n",
              "    </tr>\n",
              "    <tr>\n",
              "      <th>263948</th>\n",
              "      <td>0</td>\n",
              "      <td>0</td>\n",
              "      <td>0</td>\n",
              "      <td>0</td>\n",
              "      <td>0</td>\n",
              "      <td>0</td>\n",
              "      <td>0</td>\n",
              "      <td>0</td>\n",
              "      <td>0</td>\n",
              "      <td>0</td>\n",
              "      <td>...</td>\n",
              "      <td>0</td>\n",
              "      <td>0</td>\n",
              "      <td>0</td>\n",
              "      <td>0</td>\n",
              "      <td>0</td>\n",
              "      <td>0</td>\n",
              "      <td>0</td>\n",
              "      <td>0</td>\n",
              "      <td>0</td>\n",
              "      <td>0</td>\n",
              "    </tr>\n",
              "    <tr>\n",
              "      <th>263949</th>\n",
              "      <td>0</td>\n",
              "      <td>1</td>\n",
              "      <td>0</td>\n",
              "      <td>0</td>\n",
              "      <td>0</td>\n",
              "      <td>0</td>\n",
              "      <td>1</td>\n",
              "      <td>0</td>\n",
              "      <td>0</td>\n",
              "      <td>0</td>\n",
              "      <td>...</td>\n",
              "      <td>0</td>\n",
              "      <td>0</td>\n",
              "      <td>0</td>\n",
              "      <td>3</td>\n",
              "      <td>1</td>\n",
              "      <td>0</td>\n",
              "      <td>0</td>\n",
              "      <td>0</td>\n",
              "      <td>0</td>\n",
              "      <td>0</td>\n",
              "    </tr>\n",
              "  </tbody>\n",
              "</table>\n",
              "<p>263950 rows × 73 columns</p>\n",
              "</div>\n",
              "    <div class=\"colab-df-buttons\">\n",
              "\n",
              "  <div class=\"colab-df-container\">\n",
              "    <button class=\"colab-df-convert\" onclick=\"convertToInteractive('df-4d857c64-a0dc-49e8-8b7c-af1cc47496a2')\"\n",
              "            title=\"Convert this dataframe to an interactive table.\"\n",
              "            style=\"display:none;\">\n",
              "\n",
              "  <svg xmlns=\"http://www.w3.org/2000/svg\" height=\"24px\" viewBox=\"0 -960 960 960\">\n",
              "    <path d=\"M120-120v-720h720v720H120Zm60-500h600v-160H180v160Zm220 220h160v-160H400v160Zm0 220h160v-160H400v160ZM180-400h160v-160H180v160Zm440 0h160v-160H620v160ZM180-180h160v-160H180v160Zm440 0h160v-160H620v160Z\"/>\n",
              "  </svg>\n",
              "    </button>\n",
              "\n",
              "  <style>\n",
              "    .colab-df-container {\n",
              "      display:flex;\n",
              "      gap: 12px;\n",
              "    }\n",
              "\n",
              "    .colab-df-convert {\n",
              "      background-color: #E8F0FE;\n",
              "      border: none;\n",
              "      border-radius: 50%;\n",
              "      cursor: pointer;\n",
              "      display: none;\n",
              "      fill: #1967D2;\n",
              "      height: 32px;\n",
              "      padding: 0 0 0 0;\n",
              "      width: 32px;\n",
              "    }\n",
              "\n",
              "    .colab-df-convert:hover {\n",
              "      background-color: #E2EBFA;\n",
              "      box-shadow: 0px 1px 2px rgba(60, 64, 67, 0.3), 0px 1px 3px 1px rgba(60, 64, 67, 0.15);\n",
              "      fill: #174EA6;\n",
              "    }\n",
              "\n",
              "    .colab-df-buttons div {\n",
              "      margin-bottom: 4px;\n",
              "    }\n",
              "\n",
              "    [theme=dark] .colab-df-convert {\n",
              "      background-color: #3B4455;\n",
              "      fill: #D2E3FC;\n",
              "    }\n",
              "\n",
              "    [theme=dark] .colab-df-convert:hover {\n",
              "      background-color: #434B5C;\n",
              "      box-shadow: 0px 1px 3px 1px rgba(0, 0, 0, 0.15);\n",
              "      filter: drop-shadow(0px 1px 2px rgba(0, 0, 0, 0.3));\n",
              "      fill: #FFFFFF;\n",
              "    }\n",
              "  </style>\n",
              "\n",
              "    <script>\n",
              "      const buttonEl =\n",
              "        document.querySelector('#df-4d857c64-a0dc-49e8-8b7c-af1cc47496a2 button.colab-df-convert');\n",
              "      buttonEl.style.display =\n",
              "        google.colab.kernel.accessAllowed ? 'block' : 'none';\n",
              "\n",
              "      async function convertToInteractive(key) {\n",
              "        const element = document.querySelector('#df-4d857c64-a0dc-49e8-8b7c-af1cc47496a2');\n",
              "        const dataTable =\n",
              "          await google.colab.kernel.invokeFunction('convertToInteractive',\n",
              "                                                    [key], {});\n",
              "        if (!dataTable) return;\n",
              "\n",
              "        const docLinkHtml = 'Like what you see? Visit the ' +\n",
              "          '<a target=\"_blank\" href=https://colab.research.google.com/notebooks/data_table.ipynb>data table notebook</a>'\n",
              "          + ' to learn more about interactive tables.';\n",
              "        element.innerHTML = '';\n",
              "        dataTable['output_type'] = 'display_data';\n",
              "        await google.colab.output.renderOutput(dataTable, element);\n",
              "        const docLink = document.createElement('div');\n",
              "        docLink.innerHTML = docLinkHtml;\n",
              "        element.appendChild(docLink);\n",
              "      }\n",
              "    </script>\n",
              "  </div>\n",
              "\n",
              "\n",
              "<div id=\"df-12b73044-336c-4a4e-81cd-8315b7871ae5\">\n",
              "  <button class=\"colab-df-quickchart\" onclick=\"quickchart('df-12b73044-336c-4a4e-81cd-8315b7871ae5')\"\n",
              "            title=\"Suggest charts\"\n",
              "            style=\"display:none;\">\n",
              "\n",
              "<svg xmlns=\"http://www.w3.org/2000/svg\" height=\"24px\"viewBox=\"0 0 24 24\"\n",
              "     width=\"24px\">\n",
              "    <g>\n",
              "        <path d=\"M19 3H5c-1.1 0-2 .9-2 2v14c0 1.1.9 2 2 2h14c1.1 0 2-.9 2-2V5c0-1.1-.9-2-2-2zM9 17H7v-7h2v7zm4 0h-2V7h2v10zm4 0h-2v-4h2v4z\"/>\n",
              "    </g>\n",
              "</svg>\n",
              "  </button>\n",
              "\n",
              "<style>\n",
              "  .colab-df-quickchart {\n",
              "      --bg-color: #E8F0FE;\n",
              "      --fill-color: #1967D2;\n",
              "      --hover-bg-color: #E2EBFA;\n",
              "      --hover-fill-color: #174EA6;\n",
              "      --disabled-fill-color: #AAA;\n",
              "      --disabled-bg-color: #DDD;\n",
              "  }\n",
              "\n",
              "  [theme=dark] .colab-df-quickchart {\n",
              "      --bg-color: #3B4455;\n",
              "      --fill-color: #D2E3FC;\n",
              "      --hover-bg-color: #434B5C;\n",
              "      --hover-fill-color: #FFFFFF;\n",
              "      --disabled-bg-color: #3B4455;\n",
              "      --disabled-fill-color: #666;\n",
              "  }\n",
              "\n",
              "  .colab-df-quickchart {\n",
              "    background-color: var(--bg-color);\n",
              "    border: none;\n",
              "    border-radius: 50%;\n",
              "    cursor: pointer;\n",
              "    display: none;\n",
              "    fill: var(--fill-color);\n",
              "    height: 32px;\n",
              "    padding: 0;\n",
              "    width: 32px;\n",
              "  }\n",
              "\n",
              "  .colab-df-quickchart:hover {\n",
              "    background-color: var(--hover-bg-color);\n",
              "    box-shadow: 0 1px 2px rgba(60, 64, 67, 0.3), 0 1px 3px 1px rgba(60, 64, 67, 0.15);\n",
              "    fill: var(--button-hover-fill-color);\n",
              "  }\n",
              "\n",
              "  .colab-df-quickchart-complete:disabled,\n",
              "  .colab-df-quickchart-complete:disabled:hover {\n",
              "    background-color: var(--disabled-bg-color);\n",
              "    fill: var(--disabled-fill-color);\n",
              "    box-shadow: none;\n",
              "  }\n",
              "\n",
              "  .colab-df-spinner {\n",
              "    border: 2px solid var(--fill-color);\n",
              "    border-color: transparent;\n",
              "    border-bottom-color: var(--fill-color);\n",
              "    animation:\n",
              "      spin 1s steps(1) infinite;\n",
              "  }\n",
              "\n",
              "  @keyframes spin {\n",
              "    0% {\n",
              "      border-color: transparent;\n",
              "      border-bottom-color: var(--fill-color);\n",
              "      border-left-color: var(--fill-color);\n",
              "    }\n",
              "    20% {\n",
              "      border-color: transparent;\n",
              "      border-left-color: var(--fill-color);\n",
              "      border-top-color: var(--fill-color);\n",
              "    }\n",
              "    30% {\n",
              "      border-color: transparent;\n",
              "      border-left-color: var(--fill-color);\n",
              "      border-top-color: var(--fill-color);\n",
              "      border-right-color: var(--fill-color);\n",
              "    }\n",
              "    40% {\n",
              "      border-color: transparent;\n",
              "      border-right-color: var(--fill-color);\n",
              "      border-top-color: var(--fill-color);\n",
              "    }\n",
              "    60% {\n",
              "      border-color: transparent;\n",
              "      border-right-color: var(--fill-color);\n",
              "    }\n",
              "    80% {\n",
              "      border-color: transparent;\n",
              "      border-right-color: var(--fill-color);\n",
              "      border-bottom-color: var(--fill-color);\n",
              "    }\n",
              "    90% {\n",
              "      border-color: transparent;\n",
              "      border-bottom-color: var(--fill-color);\n",
              "    }\n",
              "  }\n",
              "</style>\n",
              "\n",
              "  <script>\n",
              "    async function quickchart(key) {\n",
              "      const quickchartButtonEl =\n",
              "        document.querySelector('#' + key + ' button');\n",
              "      quickchartButtonEl.disabled = true;  // To prevent multiple clicks.\n",
              "      quickchartButtonEl.classList.add('colab-df-spinner');\n",
              "      try {\n",
              "        const charts = await google.colab.kernel.invokeFunction(\n",
              "            'suggestCharts', [key], {});\n",
              "      } catch (error) {\n",
              "        console.error('Error during call to suggestCharts:', error);\n",
              "      }\n",
              "      quickchartButtonEl.classList.remove('colab-df-spinner');\n",
              "      quickchartButtonEl.classList.add('colab-df-quickchart-complete');\n",
              "    }\n",
              "    (() => {\n",
              "      let quickchartButtonEl =\n",
              "        document.querySelector('#df-12b73044-336c-4a4e-81cd-8315b7871ae5 button');\n",
              "      quickchartButtonEl.style.display =\n",
              "        google.colab.kernel.accessAllowed ? 'block' : 'none';\n",
              "    })();\n",
              "  </script>\n",
              "</div>\n",
              "    </div>\n",
              "  </div>\n"
            ]
          },
          "metadata": {},
          "execution_count": 13
        }
      ]
    },
    {
      "cell_type": "code",
      "source": [
        "print(X.shape)\n",
        "print(y.shape)"
      ],
      "metadata": {
        "colab": {
          "base_uri": "https://localhost:8080/"
        },
        "id": "DMMqalbXNNp3",
        "outputId": "0ed04a97-9498-4d05-d58e-f7bdffb5855a"
      },
      "execution_count": null,
      "outputs": [
        {
          "output_type": "stream",
          "name": "stdout",
          "text": [
            "(263950, 73)\n",
            "(263950,)\n"
          ]
        }
      ]
    },
    {
      "cell_type": "markdown",
      "source": [
        "# **Dividir los datos de entrenamiento y prueba**"
      ],
      "metadata": {
        "id": "xDVbfMpAL14p"
      }
    },
    {
      "cell_type": "code",
      "source": [
        "import numpy as np\n",
        "from sklearn.model_selection import train_test_split\n",
        "from sklearn.model_selection import StratifiedKFold\n",
        "from sklearn.decomposition import LatentDirichletAllocation as LDA\n",
        "from sklearn.ensemble import RandomForestClassifier\n",
        "from sklearn.metrics import accuracy_score, precision_score, recall_score, f1_score"
      ],
      "metadata": {
        "id": "G--6uWpPMS-L"
      },
      "execution_count": null,
      "outputs": []
    },
    {
      "cell_type": "markdown",
      "source": [
        "**Aplicar LDA para reducir la dimensionalidad**"
      ],
      "metadata": {
        "id": "EkTBl7rWrvQJ"
      }
    },
    {
      "cell_type": "code",
      "source": [
        "# Dividir los datos en conjuntos de entrenamiento y prueba\n",
        "X_train, X_test, y_train, y_test = train_test_split(X, y, test_size=0.3, random_state=0)\n",
        "\n",
        "# Aplicar LDA para reducir la dimensionalidad\n",
        "n_topics = 10  # Define el número de tópicos (componentes)\n",
        "lda = LDA(n_components=n_topics)\n",
        "X_train_lda = lda.fit_transform(X_train, y_train)\n",
        "X_test_lda = lda.transform(X_test)\n"
      ],
      "metadata": {
        "id": "zmsuLYrpNP9G"
      },
      "execution_count": null,
      "outputs": []
    },
    {
      "cell_type": "code",
      "source": [
        "print(\"Dimensiones de X_train:\", X_train_lda.shape)\n",
        "print(\"Dimensiones de X_val:\", X_test_lda.shape)\n",
        "print(\"Dimensiones de y_train:\", y_train.shape)\n",
        "print(\"Dimensiones de y_val:\", y_test.shape)"
      ],
      "metadata": {
        "colab": {
          "base_uri": "https://localhost:8080/"
        },
        "id": "_NT-FswgsaeY",
        "outputId": "fb148e68-74a1-4d23-f900-5f0ba6a485d0"
      },
      "execution_count": null,
      "outputs": [
        {
          "output_type": "stream",
          "name": "stdout",
          "text": [
            "Dimensiones de X_train: (184765, 10)\n",
            "Dimensiones de X_val: (79185, 10)\n",
            "Dimensiones de y_train: (184765,)\n",
            "Dimensiones de y_val: (79185,)\n"
          ]
        }
      ]
    },
    {
      "cell_type": "markdown",
      "source": [
        "#**Aprendizaje del modelo:**"
      ],
      "metadata": {
        "id": "64ckyobxQaal"
      }
    },
    {
      "cell_type": "code",
      "source": [
        "# Crear un modelo de bosque aleatorio\n",
        "model = RandomForestClassifier(\n",
        "    n_estimators=300,  # Numero de árboles\n",
        "    max_depth=100,     # Profundidad máxima\n",
        "    random_state=42    # Selección de la semilla de manera aleatoria\n",
        ")\n",
        "\n",
        "# Entrenar el modelo en los datos de entrenamiento transformados por LDA\n",
        "model.fit(X_train_lda, y_train)\n",
        "\n",
        "# Predecir las etiquetas en el conjunto de prueba\n",
        "y_pred = model.predict(X_test_lda)\n",
        "\n",
        "# Calcular la precisión del modelo\n",
        "accuracy = accuracy_score(y_test, y_pred)\n",
        "print(f\"Exactitud del modelo: {accuracy * 100:.2f}%\")\n",
        "\n",
        "# Calcular la precisión, recall y puntuación F1\n",
        "precision = precision_score(y_test, y_pred, average='weighted')\n",
        "recall = recall_score(y_test, y_pred, average='weighted')\n",
        "f1 = f1_score(y_test, y_pred, average='weighted')\n",
        "\n",
        "print(f\"Precisión: {precision * 100:.2f}%\")\n",
        "print(f\"Recall: {recall * 100:.2f}%\")\n",
        "print(f\"Puntuación F1: {f1 * 100:.2f}%\")"
      ],
      "metadata": {
        "colab": {
          "base_uri": "https://localhost:8080/"
        },
        "id": "9Yzg4ctpQfHy",
        "outputId": "3161571a-40ce-4e17-ff58-68cae85ee8e4"
      },
      "execution_count": null,
      "outputs": [
        {
          "output_type": "stream",
          "name": "stdout",
          "text": [
            "Exactitud del modelo: 63.32%\n",
            "Precisión: 63.41%\n",
            "Recall: 63.32%\n",
            "Puntuación F1: 63.25%\n"
          ]
        }
      ]
    },
    {
      "cell_type": "code",
      "source": [],
      "metadata": {
        "id": "2QoN-KcKS03z"
      },
      "execution_count": null,
      "outputs": []
    },
    {
      "cell_type": "code",
      "source": [
        "print(f\"Exactitud: {accuracy * 100:.2f}%\")\n",
        "print(f\"Precisión: {precision * 100:.2f}%\")\n",
        "print(f\"Recall: {recall * 100:.2f}%\")\n",
        "print(f\"Puntuación F1: {f1 * 100:.2f}%\")"
      ],
      "metadata": {
        "colab": {
          "base_uri": "https://localhost:8080/"
        },
        "id": "Vmmd-HZAGZ3G",
        "outputId": "f99a9aae-3f0e-4dbf-b985-46435299a0b7"
      },
      "execution_count": null,
      "outputs": [
        {
          "output_type": "stream",
          "name": "stdout",
          "text": [
            "Exactitud: 61.40%\n",
            "Precisión: 61.40%\n",
            "Recall: 61.40%\n",
            "Puntuación F1: 61.40%\n"
          ]
        }
      ]
    },
    {
      "cell_type": "code",
      "source": [
        "from sklearn.metrics import confusion_matrix\n",
        "\n",
        "y_pred = model.predict(X_test_lda)\n",
        "\n",
        "# Obtiene la matriz de confusión. Las filas corresponden a las clases reales,\n",
        "umbral = 0.5  # Puedes ajustar este umbral según tus necesidades\n",
        "y_pred_binario = (y_pred > umbral).astype(int)\n",
        "\n",
        "# Calcular la matriz de confusión con las etiquetas binarias\n",
        "cm = confusion_matrix(y_test, y_pred_binario)\n",
        "prop_real = np.sum(y_test)/len(y_test)\n",
        "prop_etiqutados = (cm[0,1]+cm[1,1])/len(y_test)\n",
        "\n",
        "print(\"Matriz de confusión: \\n\\n\", cm, \"\\n\")\n",
        "print('Proporción de comentarios positivos: %.2f'% prop_real)\n",
        "print('Proporción de comentarios positivos etiquetados: %.2f'% prop_etiqutados)"
      ],
      "metadata": {
        "colab": {
          "base_uri": "https://localhost:8080/"
        },
        "id": "G4DEGHK8DA6q",
        "outputId": "8bb2bb01-c81c-4455-953f-e0ebb2046030"
      },
      "execution_count": null,
      "outputs": [
        {
          "output_type": "stream",
          "name": "stdout",
          "text": [
            "Matriz de confusión: \n",
            "\n",
            " [[23376 16206]\n",
            " [12842 26761]] \n",
            "\n",
            "Proporción de comentarios positivos: 0.50\n",
            "Proporción de comentarios positivos etiquetados: 0.54\n"
          ]
        }
      ]
    },
    {
      "cell_type": "code",
      "source": [
        "import seaborn as sns\n",
        "import matplotlib.pyplot as plt\n",
        "\n",
        "# Crear una figura para la matriz de confusión\n",
        "plt.figure(figsize=(8, 6))\n",
        "\n",
        "# Crear una matriz de confusión usando el heatmap de Seaborn\n",
        "sns.heatmap(cm, annot=True, fmt=\"d\", cmap=\"Blues\", xticklabels=['Control', 'Depresión'], yticklabels=['Control', 'Depresión'])\n",
        "\n",
        "# Etiquetas y título\n",
        "plt.xlabel('Predicción')\n",
        "plt.ylabel('Valor Real')\n",
        "plt.title('Matriz de Confusión')\n",
        "\n",
        "# Mostrar la gráfica\n",
        "plt.show()"
      ],
      "metadata": {
        "colab": {
          "base_uri": "https://localhost:8080/",
          "height": 570
        },
        "id": "vSPJ_mjRDK8F",
        "outputId": "e57492f1-59ff-4adc-d19e-9ff3a47a8f9c"
      },
      "execution_count": null,
      "outputs": [
        {
          "output_type": "display_data",
          "data": {
            "text/plain": [
              "<Figure size 800x600 with 2 Axes>"
            ],
            "image/png": "[encoded data removed]"
          },
          "metadata": {
            "image/png": {
              "width": 682,
              "height": 553
            }
          }
        }
      ]
    },
    {
      "cell_type": "markdown",
      "source": [
        "# Entrenamiento con validación cruzada k=10"
      ],
      "metadata": {
        "id": "QTwJYz3guhTd"
      }
    },
    {
      "cell_type": "code",
      "source": [
        "# Inicializar listas para almacenar métricas\n",
        "train_accuracy_scores = []\n",
        "train_precision_scores = []\n",
        "train_recall_scores = []\n",
        "train_f1_scores = []\n",
        "\n",
        "val_accuracy_scores = []\n",
        "val_precision_scores = []\n",
        "val_recall_scores = []\n",
        "val_f1_scores = []\n",
        "\n",
        "# Crear un objeto StratifiedKFold para dividir los datos en k-folds estratificados\n",
        "skf = StratifiedKFold(n_splits=10, shuffle=True, random_state=42)\n",
        "\n",
        "# Dividir los datos en k-folds y realizar la validación cruzada\n",
        "for train_index, val_index in skf.split(X_train_lda, y_train):\n",
        "    X_train_fold, X_val_fold = X_train_lda[train_index], X_train_lda[val_index]\n",
        "    y_train_fold, y_val_fold = y_train[train_index], y_train[val_index]\n",
        "\n",
        "    # Crear un modelo de Random Forest\n",
        "    model = RandomForestClassifier(\n",
        "        n_estimators=300,  # Número de árboles\n",
        "        max_depth=100,     # Profundidad máxima\n",
        "        random_state=42    # Selección de la semilla de manera aleatoria\n",
        "    )\n",
        "\n",
        "    # Entrenar el modelo en los datos de entrenamiento transformados por LDA\n",
        "    model.fit(X_train_fold, y_train_fold)\n",
        "\n",
        "    # Predecir las etiquetas en el conjunto de entrenamiento y validación\n",
        "    y_train_pred = model.predict(X_train_fold)\n",
        "    y_val_pred = model.predict(X_val_fold)\n",
        "\n",
        "    # Calcular métricas de entrenamiento\n",
        "    train_accuracy = accuracy_score(y_train_fold, y_train_pred)\n",
        "    train_precision = precision_score(y_train_fold, y_train_pred, average='weighted')\n",
        "    train_recall = recall_score(y_train_fold, y_train_pred, average='weighted')\n",
        "    train_f1 = f1_score(y_train_fold, y_train_pred, average='weighted')\n",
        "\n",
        "    # Calcular métricas de validación\n",
        "    val_accuracy = accuracy_score(y_val_fold, y_val_pred)\n",
        "    val_precision = precision_score(y_val_fold, y_val_pred, average='weighted')\n",
        "    val_recall = recall_score(y_val_fold, y_val_pred, average='weighted')\n",
        "    val_f1 = f1_score(y_val_fold, y_val_pred, average='weighted')\n",
        "\n",
        "    # Almacenar las métricas en las listas\n",
        "    train_accuracy_scores.append(train_accuracy)\n",
        "    train_precision_scores.append(train_precision)\n",
        "    train_recall_scores.append(train_recall)\n",
        "    train_f1_scores.append(train_f1)\n",
        "\n",
        "    val_accuracy_scores.append(val_accuracy)\n",
        "    val_precision_scores.append(val_precision)\n",
        "    val_recall_scores.append(val_recall)\n",
        "    val_f1_scores.append(val_f1)\n",
        "\n",
        "# Calcular las métricas promediadas en entrenamiento\n",
        "train_accuracy_mean = np.mean(train_accuracy_scores)\n",
        "train_precision_mean = np.mean(train_precision_scores)\n",
        "train_recall_mean = np.mean(train_recall_scores)\n",
        "train_f1_mean = np.mean(train_f1_scores)\n",
        "\n",
        "# Calcular las métricas promediadas en validación\n",
        "val_accuracy_mean = np.mean(val_accuracy_scores)\n",
        "val_precision_mean = np.mean(val_precision_scores)\n",
        "val_recall_mean = np.mean(val_recall_scores)\n",
        "val_f1_mean = np.mean(val_f1_scores)\n",
        "\n",
        "# Imprimir las métricas promediadas\n",
        "print(\"Métricas de entrenamiento promediadas:\")\n",
        "print(f\"Exactitud: {train_accuracy_mean * 100:.2f}%\")\n",
        "print(f\"Precisión: {train_precision_mean * 100:.2f}%\")\n",
        "print(f\"Recuperación: {train_recall_mean * 100:.2f}%\")\n",
        "print(f\"Puntuación F1: {train_f1_mean * 100:.2f}%\")\n",
        "\n",
        "print(\"\\nMétricas de validación promediadas:\")\n",
        "print(f\"Exactitud: {val_accuracy_mean * 100:.2f}%\")\n",
        "print(f\"Precisión: {val_precision_mean * 100:.2f}%\")\n",
        "print(f\"Recuperación: {val_recall_mean * 100:.2f}%\")\n",
        "print(f\"Puntuación F1: {val_f1_mean * 100:.2f}%\")"
      ],
      "metadata": {
        "colab": {
          "base_uri": "https://localhost:8080/"
        },
        "id": "asMGQWL7l0xP",
        "outputId": "ab991e0f-a28d-4a85-8dea-0854ffc19680"
      },
      "execution_count": null,
      "outputs": [
        {
          "output_type": "stream",
          "name": "stdout",
          "text": [
            "Métricas de entrenamiento promediadas:\n",
            "Exactitud: 88.51%\n",
            "Precisión: 88.66%\n",
            "Recuperación: 88.51%\n",
            "Puntuación F1: 88.50%\n",
            "\n",
            "Métricas de validación promediadas:\n",
            "Exactitud: 62.87%\n",
            "Precisión: 62.98%\n",
            "Recuperación: 62.87%\n",
            "Puntuación F1: 62.79%\n"
          ]
        }
      ]
    },
    {
      "cell_type": "code",
      "source": [
        "from sklearn.metrics import confusion_matrix\n",
        "\n",
        "y_pred = model.predict(X_val_fold)\n",
        "\n",
        "# Obtiene la matriz de confusión. Las filas corresponden a las clases reales,\n",
        "umbral = 0.5  # Puedes ajustar este umbral según tus necesidades\n",
        "y_pred_binario = (y_pred > umbral).astype(int)\n",
        "\n",
        "# Calcular la matriz de confusión con las etiquetas binarias\n",
        "cm = confusion_matrix(y_val_fold, y_pred_binario)\n",
        "prop_real = np.sum(y_val_fold)/len(y_val_fold)\n",
        "prop_etiqutados = (cm[0,1]+cm[1,1])/len(y_val_fold)\n",
        "\n",
        "print(\"Matriz de confusión: \\n\\n\", cm, \"\\n\")\n",
        "print('Proporción de comentarios positivos: %.2f'% prop_real)\n",
        "print('Proporción de comentarios positivos etiquetados: %.2f'% prop_etiqutados)"
      ],
      "metadata": {
        "colab": {
          "base_uri": "https://localhost:8080/"
        },
        "id": "pXYvOY9iFnQU",
        "outputId": "cf231797-e0b2-41c2-e0bf-b13f261497ca"
      },
      "execution_count": null,
      "outputs": [
        {
          "output_type": "stream",
          "name": "stdout",
          "text": [
            "Matriz de confusión: \n",
            "\n",
            " [[5456 3772]\n",
            " [2935 6313]] \n",
            "\n",
            "Proporción de comentarios positivos: 0.50\n",
            "Proporción de comentarios positivos etiquetados: 0.55\n"
          ]
        }
      ]
    },
    {
      "cell_type": "code",
      "source": [
        "import seaborn as sns\n",
        "import matplotlib.pyplot as plt\n",
        "\n",
        "# Crear una figura para la matriz de confusión\n",
        "plt.figure(figsize=(8, 6))\n",
        "\n",
        "# Crear una matriz de confusión usando el heatmap de Seaborn\n",
        "sns.heatmap(cm, annot=True, fmt=\"d\", cmap=\"Blues\", xticklabels=['0', '1'], yticklabels=['0', '1'])\n",
        "\n",
        "# Etiquetas y título\n",
        "plt.xlabel('Predicción')\n",
        "plt.ylabel('Valor Real')\n",
        "plt.title('Matriz de Confusión')\n",
        "\n",
        "# Mostrar la gráfica\n",
        "plt.show()"
      ],
      "metadata": {
        "colab": {
          "base_uri": "https://localhost:8080/",
          "height": 570
        },
        "id": "hH9C_ztSOmOE",
        "outputId": "b9e5c96b-8148-4fbc-caec-6b9c83fda149"
      },
      "execution_count": null,
      "outputs": [
        {
          "output_type": "display_data",
          "data": {
            "text/plain": [
              "<Figure size 800x600 with 2 Axes>"
            ],
            "image/png": "[encoded data removed]"
          },
          "metadata": {
            "image/png": {
              "width": 671,
              "height": 553
            }
          }
        }
      ]
    },
    {
      "cell_type": "code",
      "source": [
        "import joblib\n",
        "import os\n",
        "# Directorio para guardar modelos entrenados\n",
        "model_dir = '/content/drive/MyDrive/Experimentación Python Tesis /Experimento Dataset Depresión/LDA/Experimentos pt2'\n",
        "model_filename = 'TWEETS_depresivos LDA, LIWC y BoW (RF-CV=10).pkl'\n",
        "model_path_p = os.path.join(model_dir, model_filename)\n",
        "\n",
        "# Guardar el modelo entrenado\n",
        "joblib.dump(model, model_path_p)"
      ],
      "metadata": {
        "colab": {
          "base_uri": "https://localhost:8080/"
        },
        "id": "6c7TZlUjHCjW",
        "outputId": "d752647c-5872-4ffd-e226-73442ea86900"
      },
      "execution_count": null,
      "outputs": [
        {
          "output_type": "execute_result",
          "data": {
            "text/plain": [
              "['/content/drive/MyDrive/Experimentación Python Tesis /Experimento Dataset Depresión/LDA/Experimentos pt2/TWEETS_depresivos LDA, LIWC y BoW (RF-CV=10).pkl']"
            ]
          },
          "metadata": {},
          "execution_count": 24
        }
      ]
    }
  ]
}
{
  "cells": [
    {
      "cell_type": "code",
      "execution_count": null,
      "metadata": {
        "id": "gAZ8Fq9Jhgmq"
      },
      "outputs": [],
      "source": [
        "!pip install nltk\n",
        "!pip install spacy\n",
        "!python -m spacy download es_core_news_sm\n",
        "!pip install -U imbalanced-learn\n",
        "!pip install pyspellchecker\n"
      ]
    },
    {
      "cell_type": "code",
      "execution_count": null,
      "metadata": {
        "id": "hcn6j7o3h6HF"
      },
      "outputs": [],
      "source": [
        "import pandas as pd\n",
        "import numpy as np\n",
        "\n",
        "import matplotlib.pyplot as plt\n",
        "import seaborn as sns; sns.set()\n",
        "%config InlineBackend.figure_format = 'retina'\n",
        "%matplotlib inline\n",
        "\n",
        "# Oculta warnings\n",
        "import warnings\n",
        "warnings.simplefilter('ignore')"
      ]
    },
    {
      "cell_type": "code",
      "execution_count": null,
      "metadata": {
        "id": "_ZWhvFDAiCFh",
        "colab": {
          "base_uri": "https://localhost:8080/",
          "height": 17
        },
        "outputId": "124c0de4-a51f-4f54-9205-77ee55809e52"
      },
      "outputs": [
        {
          "output_type": "display_data",
          "data": {
            "text/plain": [
              "<IPython.core.display.HTML object>"
            ],
            "text/html": [
              "<style>.container { width:95% !important; }</style>"
            ]
          },
          "metadata": {}
        }
      ],
      "source": [
        "from IPython.core.display import display, HTML\n",
        "display(HTML(\"<style>.container { width:95% !important; }</style>\"))"
      ]
    },
    {
      "cell_type": "markdown",
      "metadata": {
        "id": "E_Lg6613iGTj"
      },
      "source": [
        "# CARGAR DATOS\n",
        "**DATOS DE ENTRENAMIENTO**\n",
        "\n",
        "la columna de trastornos indica si el TWEET es de una persona con depresión o es de control.\n",
        "\n",
        "\n",
        "**control**:     0\n",
        "\n",
        "**depresión**:   1\n",
        "\n",
        "**ansiedad**:    2"
      ]
    },
    {
      "cell_type": "markdown",
      "metadata": {
        "id": "YE5B35uviasR"
      },
      "source": [
        "#DATOS DE PRUEBA\n",
        "\n",
        "\n"
      ]
    },
    {
      "cell_type": "code",
      "source": [
        "num_docs = 15000"
      ],
      "metadata": {
        "id": "nacXdJTQUYQ3"
      },
      "execution_count": null,
      "outputs": []
    },
    {
      "cell_type": "code",
      "execution_count": null,
      "metadata": {
        "id": "MHBqymIkiK0G",
        "colab": {
          "base_uri": "https://localhost:8080/",
          "height": 570
        },
        "outputId": "98a1f8ce-2f33-41e0-9fe8-c6dcb3a87a94"
      },
      "outputs": [
        {
          "output_type": "stream",
          "name": "stdout",
          "text": [
            "<class 'pandas.core.frame.DataFrame'>\n",
            "RangeIndex: 15000 entries, 0 to 14999\n",
            "Data columns (total 4 columns):\n",
            " #   Column      Non-Null Count  Dtype  \n",
            "---  ------      --------------  -----  \n",
            " 0   USER_ID     10062 non-null  object \n",
            " 1   TWEET_ID    10051 non-null  float64\n",
            " 2   TWEET_TEXT  15000 non-null  object \n",
            " 3   trastorno   15000 non-null  int64  \n",
            "dtypes: float64(1), int64(1), object(2)\n",
            "memory usage: 468.9+ KB\n"
          ]
        },
        {
          "output_type": "execute_result",
          "data": {
            "text/plain": [
              "  USER_ID      TWEET_ID                                         TWEET_TEXT  \\\n",
              "0      47  2.147484e+09  RT @FraRocanroleras: Te estás destruyendo y lo...   \n",
              "1       6  2.147484e+09  No sé cómo estar sin ti pero tampoco sé cómo e...   \n",
              "2     NaN           NaN   Me pregunto por qué últimamente no me siento ...   \n",
              "3     NaN           NaN   Mi ansiedad en torno a toda esta enfermedad s...   \n",
              "4     NaN           NaN  Esto ha estado en mi mente bastante durante lo...   \n",
              "5     NaN           NaN  ¿Necesitas algunas ideas? Este canal es maravi...   \n",
              "6      31  2.147484e+09  Intenté decir algo pero no pude,sólo quedé con...   \n",
              "7      27  2.147484e+09  tumblrbot ha preguntado: ROBOTS OR DINOSAURS? ...   \n",
              "8      49  2.147484e+09  El smirnoff es la bebida mas traicionera que e...   \n",
              "9      36  2.147484e+09  ¿Por qué mis primas son delgadas y tan hermosa...   \n",
              "\n",
              "   trastorno  \n",
              "0          1  \n",
              "1          0  \n",
              "2          2  \n",
              "3          2  \n",
              "4          2  \n",
              "5          2  \n",
              "6          0  \n",
              "7          1  \n",
              "8          1  \n",
              "9          0  "
            ],
            "text/html": [
              "\n",
              "  <div id=\"df-4356b657-2537-4e4a-b874-24027f102a9b\" class=\"colab-df-container\">\n",
              "    <div>\n",
              "<style scoped>\n",
              "    .dataframe tbody tr th:only-of-type {\n",
              "        vertical-align: middle;\n",
              "    }\n",
              "\n",
              "    .dataframe tbody tr th {\n",
              "        vertical-align: top;\n",
              "    }\n",
              "\n",
              "    .dataframe thead th {\n",
              "        text-align: right;\n",
              "    }\n",
              "</style>\n",
              "<table border=\"1\" class=\"dataframe\">\n",
              "  <thead>\n",
              "    <tr style=\"text-align: right;\">\n",
              "      <th></th>\n",
              "      <th>USER_ID</th>\n",
              "      <th>TWEET_ID</th>\n",
              "      <th>TWEET_TEXT</th>\n",
              "      <th>trastorno</th>\n",
              "    </tr>\n",
              "  </thead>\n",
              "  <tbody>\n",
              "    <tr>\n",
              "      <th>0</th>\n",
              "      <td>47</td>\n",
              "      <td>2.147484e+09</td>\n",
              "      <td>RT @FraRocanroleras: Te estás destruyendo y lo...</td>\n",
              "      <td>1</td>\n",
              "    </tr>\n",
              "    <tr>\n",
              "      <th>1</th>\n",
              "      <td>6</td>\n",
              "      <td>2.147484e+09</td>\n",
              "      <td>No sé cómo estar sin ti pero tampoco sé cómo e...</td>\n",
              "      <td>0</td>\n",
              "    </tr>\n",
              "    <tr>\n",
              "      <th>2</th>\n",
              "      <td>NaN</td>\n",
              "      <td>NaN</td>\n",
              "      <td>Me pregunto por qué últimamente no me siento ...</td>\n",
              "      <td>2</td>\n",
              "    </tr>\n",
              "    <tr>\n",
              "      <th>3</th>\n",
              "      <td>NaN</td>\n",
              "      <td>NaN</td>\n",
              "      <td>Mi ansiedad en torno a toda esta enfermedad s...</td>\n",
              "      <td>2</td>\n",
              "    </tr>\n",
              "    <tr>\n",
              "      <th>4</th>\n",
              "      <td>NaN</td>\n",
              "      <td>NaN</td>\n",
              "      <td>Esto ha estado en mi mente bastante durante lo...</td>\n",
              "      <td>2</td>\n",
              "    </tr>\n",
              "    <tr>\n",
              "      <th>5</th>\n",
              "      <td>NaN</td>\n",
              "      <td>NaN</td>\n",
              "      <td>¿Necesitas algunas ideas? Este canal es maravi...</td>\n",
              "      <td>2</td>\n",
              "    </tr>\n",
              "    <tr>\n",
              "      <th>6</th>\n",
              "      <td>31</td>\n",
              "      <td>2.147484e+09</td>\n",
              "      <td>Intenté decir algo pero no pude,sólo quedé con...</td>\n",
              "      <td>0</td>\n",
              "    </tr>\n",
              "    <tr>\n",
              "      <th>7</th>\n",
              "      <td>27</td>\n",
              "      <td>2.147484e+09</td>\n",
              "      <td>tumblrbot ha preguntado: ROBOTS OR DINOSAURS? ...</td>\n",
              "      <td>1</td>\n",
              "    </tr>\n",
              "    <tr>\n",
              "      <th>8</th>\n",
              "      <td>49</td>\n",
              "      <td>2.147484e+09</td>\n",
              "      <td>El smirnoff es la bebida mas traicionera que e...</td>\n",
              "      <td>1</td>\n",
              "    </tr>\n",
              "    <tr>\n",
              "      <th>9</th>\n",
              "      <td>36</td>\n",
              "      <td>2.147484e+09</td>\n",
              "      <td>¿Por qué mis primas son delgadas y tan hermosa...</td>\n",
              "      <td>0</td>\n",
              "    </tr>\n",
              "  </tbody>\n",
              "</table>\n",
              "</div>\n",
              "    <div class=\"colab-df-buttons\">\n",
              "\n",
              "  <div class=\"colab-df-container\">\n",
              "    <button class=\"colab-df-convert\" onclick=\"convertToInteractive('df-4356b657-2537-4e4a-b874-24027f102a9b')\"\n",
              "            title=\"Convert this dataframe to an interactive table.\"\n",
              "            style=\"display:none;\">\n",
              "\n",
              "  <svg xmlns=\"http://www.w3.org/2000/svg\" height=\"24px\" viewBox=\"0 -960 960 960\">\n",
              "    <path d=\"M120-120v-720h720v720H120Zm60-500h600v-160H180v160Zm220 220h160v-160H400v160Zm0 220h160v-160H400v160ZM180-400h160v-160H180v160Zm440 0h160v-160H620v160ZM180-180h160v-160H180v160Zm440 0h160v-160H620v160Z\"/>\n",
              "  </svg>\n",
              "    </button>\n",
              "\n",
              "  <style>\n",
              "    .colab-df-container {\n",
              "      display:flex;\n",
              "      gap: 12px;\n",
              "    }\n",
              "\n",
              "    .colab-df-convert {\n",
              "      background-color: #E8F0FE;\n",
              "      border: none;\n",
              "      border-radius: 50%;\n",
              "      cursor: pointer;\n",
              "      display: none;\n",
              "      fill: #1967D2;\n",
              "      height: 32px;\n",
              "      padding: 0 0 0 0;\n",
              "      width: 32px;\n",
              "    }\n",
              "\n",
              "    .colab-df-convert:hover {\n",
              "      background-color: #E2EBFA;\n",
              "      box-shadow: 0px 1px 2px rgba(60, 64, 67, 0.3), 0px 1px 3px 1px rgba(60, 64, 67, 0.15);\n",
              "      fill: #174EA6;\n",
              "    }\n",
              "\n",
              "    .colab-df-buttons div {\n",
              "      margin-bottom: 4px;\n",
              "    }\n",
              "\n",
              "    [theme=dark] .colab-df-convert {\n",
              "      background-color: #3B4455;\n",
              "      fill: #D2E3FC;\n",
              "    }\n",
              "\n",
              "    [theme=dark] .colab-df-convert:hover {\n",
              "      background-color: #434B5C;\n",
              "      box-shadow: 0px 1px 3px 1px rgba(0, 0, 0, 0.15);\n",
              "      filter: drop-shadow(0px 1px 2px rgba(0, 0, 0, 0.3));\n",
              "      fill: #FFFFFF;\n",
              "    }\n",
              "  </style>\n",
              "\n",
              "    <script>\n",
              "      const buttonEl =\n",
              "        document.querySelector('#df-4356b657-2537-4e4a-b874-24027f102a9b button.colab-df-convert');\n",
              "      buttonEl.style.display =\n",
              "        google.colab.kernel.accessAllowed ? 'block' : 'none';\n",
              "\n",
              "      async function convertToInteractive(key) {\n",
              "        const element = document.querySelector('#df-4356b657-2537-4e4a-b874-24027f102a9b');\n",
              "        const dataTable =\n",
              "          await google.colab.kernel.invokeFunction('convertToInteractive',\n",
              "                                                    [key], {});\n",
              "        if (!dataTable) return;\n",
              "\n",
              "        const docLinkHtml = 'Like what you see? Visit the ' +\n",
              "          '<a target=\"_blank\" href=https://colab.research.google.com/notebooks/data_table.ipynb>data table notebook</a>'\n",
              "          + ' to learn more about interactive tables.';\n",
              "        element.innerHTML = '';\n",
              "        dataTable['output_type'] = 'display_data';\n",
              "        await google.colab.output.renderOutput(dataTable, element);\n",
              "        const docLink = document.createElement('div');\n",
              "        docLink.innerHTML = docLinkHtml;\n",
              "        element.appendChild(docLink);\n",
              "      }\n",
              "    </script>\n",
              "  </div>\n",
              "\n",
              "\n",
              "<div id=\"df-e00ac362-e6f0-4efe-b45f-c16f755e811a\">\n",
              "  <button class=\"colab-df-quickchart\" onclick=\"quickchart('df-e00ac362-e6f0-4efe-b45f-c16f755e811a')\"\n",
              "            title=\"Suggest charts\"\n",
              "            style=\"display:none;\">\n",
              "\n",
              "<svg xmlns=\"http://www.w3.org/2000/svg\" height=\"24px\"viewBox=\"0 0 24 24\"\n",
              "     width=\"24px\">\n",
              "    <g>\n",
              "        <path d=\"M19 3H5c-1.1 0-2 .9-2 2v14c0 1.1.9 2 2 2h14c1.1 0 2-.9 2-2V5c0-1.1-.9-2-2-2zM9 17H7v-7h2v7zm4 0h-2V7h2v10zm4 0h-2v-4h2v4z\"/>\n",
              "    </g>\n",
              "</svg>\n",
              "  </button>\n",
              "\n",
              "<style>\n",
              "  .colab-df-quickchart {\n",
              "      --bg-color: #E8F0FE;\n",
              "      --fill-color: #1967D2;\n",
              "      --hover-bg-color: #E2EBFA;\n",
              "      --hover-fill-color: #174EA6;\n",
              "      --disabled-fill-color: #AAA;\n",
              "      --disabled-bg-color: #DDD;\n",
              "  }\n",
              "\n",
              "  [theme=dark] .colab-df-quickchart {\n",
              "      --bg-color: #3B4455;\n",
              "      --fill-color: #D2E3FC;\n",
              "      --hover-bg-color: #434B5C;\n",
              "      --hover-fill-color: #FFFFFF;\n",
              "      --disabled-bg-color: #3B4455;\n",
              "      --disabled-fill-color: #666;\n",
              "  }\n",
              "\n",
              "  .colab-df-quickchart {\n",
              "    background-color: var(--bg-color);\n",
              "    border: none;\n",
              "    border-radius: 50%;\n",
              "    cursor: pointer;\n",
              "    display: none;\n",
              "    fill: var(--fill-color);\n",
              "    height: 32px;\n",
              "    padding: 0;\n",
              "    width: 32px;\n",
              "  }\n",
              "\n",
              "  .colab-df-quickchart:hover {\n",
              "    background-color: var(--hover-bg-color);\n",
              "    box-shadow: 0 1px 2px rgba(60, 64, 67, 0.3), 0 1px 3px 1px rgba(60, 64, 67, 0.15);\n",
              "    fill: var(--button-hover-fill-color);\n",
              "  }\n",
              "\n",
              "  .colab-df-quickchart-complete:disabled,\n",
              "  .colab-df-quickchart-complete:disabled:hover {\n",
              "    background-color: var(--disabled-bg-color);\n",
              "    fill: var(--disabled-fill-color);\n",
              "    box-shadow: none;\n",
              "  }\n",
              "\n",
              "  .colab-df-spinner {\n",
              "    border: 2px solid var(--fill-color);\n",
              "    border-color: transparent;\n",
              "    border-bottom-color: var(--fill-color);\n",
              "    animation:\n",
              "      spin 1s steps(1) infinite;\n",
              "  }\n",
              "\n",
              "  @keyframes spin {\n",
              "    0% {\n",
              "      border-color: transparent;\n",
              "      border-bottom-color: var(--fill-color);\n",
              "      border-left-color: var(--fill-color);\n",
              "    }\n",
              "    20% {\n",
              "      border-color: transparent;\n",
              "      border-left-color: var(--fill-color);\n",
              "      border-top-color: var(--fill-color);\n",
              "    }\n",
              "    30% {\n",
              "      border-color: transparent;\n",
              "      border-left-color: var(--fill-color);\n",
              "      border-top-color: var(--fill-color);\n",
              "      border-right-color: var(--fill-color);\n",
              "    }\n",
              "    40% {\n",
              "      border-color: transparent;\n",
              "      border-right-color: var(--fill-color);\n",
              "      border-top-color: var(--fill-color);\n",
              "    }\n",
              "    60% {\n",
              "      border-color: transparent;\n",
              "      border-right-color: var(--fill-color);\n",
              "    }\n",
              "    80% {\n",
              "      border-color: transparent;\n",
              "      border-right-color: var(--fill-color);\n",
              "      border-bottom-color: var(--fill-color);\n",
              "    }\n",
              "    90% {\n",
              "      border-color: transparent;\n",
              "      border-bottom-color: var(--fill-color);\n",
              "    }\n",
              "  }\n",
              "</style>\n",
              "\n",
              "  <script>\n",
              "    async function quickchart(key) {\n",
              "      const quickchartButtonEl =\n",
              "        document.querySelector('#' + key + ' button');\n",
              "      quickchartButtonEl.disabled = true;  // To prevent multiple clicks.\n",
              "      quickchartButtonEl.classList.add('colab-df-spinner');\n",
              "      try {\n",
              "        const charts = await google.colab.kernel.invokeFunction(\n",
              "            'suggestCharts', [key], {});\n",
              "      } catch (error) {\n",
              "        console.error('Error during call to suggestCharts:', error);\n",
              "      }\n",
              "      quickchartButtonEl.classList.remove('colab-df-spinner');\n",
              "      quickchartButtonEl.classList.add('colab-df-quickchart-complete');\n",
              "    }\n",
              "    (() => {\n",
              "      let quickchartButtonEl =\n",
              "        document.querySelector('#df-e00ac362-e6f0-4efe-b45f-c16f755e811a button');\n",
              "      quickchartButtonEl.style.display =\n",
              "        google.colab.kernel.accessAllowed ? 'block' : 'none';\n",
              "    })();\n",
              "  </script>\n",
              "</div>\n",
              "    </div>\n",
              "  </div>\n"
            ]
          },
          "metadata": {},
          "execution_count": 5
        }
      ],
      "source": [
        "ruta_archivo_entrenamiento = '/content/drive/MyDrive/Experimentación Python Tesis /Data: A D C/train.csv'\n",
        "data_train = pd.read_csv(ruta_archivo_entrenamiento, sep=',')\n",
        "data_train = data_train.iloc[:num_docs, :]\n",
        "data_train['TWEET_TEXT'] = data_train['TWEET_TEXT'].astype(str)\n",
        "data_train.info()\n",
        "data_train.head(10)"
      ]
    },
    {
      "cell_type": "code",
      "source": [
        "# Verificar si hay filas nulas o vacías en la columna 'TWEET_TEXT'\n",
        "null_values = data_train['TWEET_TEXT'].isnull().sum()\n",
        "\n",
        "# Imprimir el número de filas nulas o vacías\n",
        "print(\"Número de filas nulas o vacías en la columna 'TWEET_TEXT':\", null_values)"
      ],
      "metadata": {
        "colab": {
          "base_uri": "https://localhost:8080/"
        },
        "id": "DN3UILm4AXZ5",
        "outputId": "f778f192-cef0-4105-c63f-716b79290b5d"
      },
      "execution_count": null,
      "outputs": [
        {
          "output_type": "stream",
          "name": "stdout",
          "text": [
            "Número de filas nulas o vacías en la columna 'TWEET_TEXT': 0\n"
          ]
        }
      ]
    },
    {
      "cell_type": "code",
      "source": [
        "data_train.dropna(subset=['TWEET_TEXT'], inplace=True)\n",
        "\n",
        "# Verificar si hay filas nulas o vacías en la columna 'TWEET_TEXT'\n",
        "null_values = data_train['TWEET_TEXT'].isnull().sum()\n",
        "\n",
        "# Imprimir el número de filas nulas o vacías\n",
        "print(\"Número de filas nulas o vacías en la columna 'TWEET_TEXT':\", null_values)\n",
        "data_train.info()"
      ],
      "metadata": {
        "colab": {
          "base_uri": "https://localhost:8080/"
        },
        "id": "3Q2Wjk3OAbY-",
        "outputId": "bec30044-a0dc-4bdc-f855-021c480350a5"
      },
      "execution_count": null,
      "outputs": [
        {
          "output_type": "stream",
          "name": "stdout",
          "text": [
            "Número de filas nulas o vacías en la columna 'TWEET_TEXT': 0\n",
            "<class 'pandas.core.frame.DataFrame'>\n",
            "RangeIndex: 15000 entries, 0 to 14999\n",
            "Data columns (total 4 columns):\n",
            " #   Column      Non-Null Count  Dtype  \n",
            "---  ------      --------------  -----  \n",
            " 0   USER_ID     10062 non-null  object \n",
            " 1   TWEET_ID    10051 non-null  float64\n",
            " 2   TWEET_TEXT  15000 non-null  object \n",
            " 3   trastorno   15000 non-null  int64  \n",
            "dtypes: float64(1), int64(1), object(2)\n",
            "memory usage: 468.9+ KB\n"
          ]
        }
      ]
    },
    {
      "cell_type": "markdown",
      "metadata": {
        "id": "ptXa7Tu7ij05"
      },
      "source": [
        "#Preprocesamiento de los datos"
      ]
    },
    {
      "cell_type": "code",
      "execution_count": null,
      "metadata": {
        "id": "vhwSBFjBjedd",
        "colab": {
          "base_uri": "https://localhost:8080/"
        },
        "outputId": "b7fde520-8606-4fce-e21c-d77d821aee0f"
      },
      "outputs": [
        {
          "output_type": "stream",
          "name": "stderr",
          "text": [
            "[nltk_data] Downloading package stopwords to /root/nltk_data...\n",
            "[nltk_data]   Package stopwords is already up-to-date!\n"
          ]
        }
      ],
      "source": [
        "import nltk\n",
        "nltk.download('stopwords')  #Solamente se ha de descargar la primera vez.\n",
        "stopwords_es = nltk.corpus.stopwords.words('spanish')   # Extrae las stopwords en español"
      ]
    },
    {
      "cell_type": "markdown",
      "metadata": {
        "id": "qVqEoMoKipXO"
      },
      "source": [
        "*Eliminar etiquetas HTML*"
      ]
    },
    {
      "cell_type": "code",
      "execution_count": null,
      "metadata": {
        "id": "KeumIo59iujw"
      },
      "outputs": [],
      "source": [
        "import re\n",
        "\n",
        "def removeHTML(text):\n",
        "    if isinstance(text, str):  # Verificar si es de tipo string\n",
        "        cleanr = re.compile('<.*?>')\n",
        "        cleantext = re.sub(cleanr, '', text)\n",
        "        return cleantext\n",
        "    else:\n",
        "        return text  # Devolver el valor original si no es de tipo string"
      ]
    },
    {
      "cell_type": "markdown",
      "metadata": {
        "id": "d_94CnocizER"
      },
      "source": [
        "*Limpieza del texto*"
      ]
    },
    {
      "cell_type": "code",
      "execution_count": null,
      "metadata": {
        "id": "ZiTpRUU6ixfo"
      },
      "outputs": [],
      "source": [
        "import re\n",
        "import string\n",
        "\n",
        "def clean(text):\n",
        "    if isinstance(text, str):  # Verificar si es de tipo string\n",
        "        # Eliminar hashtags\n",
        "        text = re.sub(r'#\\w+', '', text)\n",
        "\n",
        "        # Eliminar URLs o enlaces\n",
        "        text = re.sub(r'(https?://)?[a-zA-Z0-9]+\\.[a-zA-Z0-9]+\\S*', '', text)\n",
        "\n",
        "        # Eliminar nombres de usuarios de Twitter\n",
        "        text = re.sub(r'@\\w+', '', text)\n",
        "\n",
        "        # Eliminar Nombres propios\n",
        "        text = re.sub(r'\\b[A-Z][a-z]+\\b', '', text)\n",
        "\n",
        "        # Eliminar todos los caracteres especiales\n",
        "        text = re.sub(r'[^\\w\\s]+', '', text)\n",
        "\n",
        "        # Eliminar prefijos y números\n",
        "        text = re.sub(r'\\b\\w{1,2}\\b|\\d+', '', text)\n",
        "\n",
        "        # Eliminar palabras específicas\n",
        "        specific_words = ['retweet', 'retweets', 'hashtag', 'trending', 'mención', 'enlace', 'emoji', 'timeline', 'interacciones',\n",
        "                          'tuit', 'seguidores', 'notificaciones', 'seguir', 'favorito', 'perfil', 'tendencia', 'influencer',\n",
        "                          'compartir', 'actualización', 'explorar', 'seguir', 'comunidad', 'contenido', 'popular',\n",
        "                          'recomendar', 'experiencia', 'conectar', 'comentar', 'compartir', 'comunidad', 'actualización',\n",
        "                          'drk', 'followers', 'stats', 'for', 'new', 'little', 'unfollower', 'unfollowers', 'today', 'shit','twitter','nombre',\n",
        "                          'eric','story','great', 'short','squeeze','piggly','wiggly','hmv','even','follas','you','i','he','she',\n",
        "                          'it','we','they','the','and','that','these','those','tweet','followed','follower']\n",
        "        text = ' '.join([word for word in text.split() if word not in specific_words])\n",
        "\n",
        "        # Eliminar emojis\n",
        "        emojis = re.findall(r'[^\\w\\s,]', text)\n",
        "        cleaned_emojis = [emoji for emoji in emojis if emoji not in ['@', '#', '/', '?','¿','.','…','\"',':','“','!','¡','°','-',\"‘\",'’',\n",
        "                                                                     '=',';','(',')',\"'\",\"'\",'&','€','%','$','*','+','|', '”','🇦','🇷',',',\n",
        "                                                                     ', ','—','«',' »','»','« ','[, ]','[,]',',',', ','',' ',' ♀',' 🏽']]\n",
        "        for emoji in cleaned_emojis:\n",
        "            text = text.replace(emoji, '')\n",
        "\n",
        "        # Convertir el texto a minúsculas\n",
        "        text = text.lower()\n",
        "\n",
        "        # Eliminar signos de puntuación\n",
        "        text = re.sub(f\"[{re.escape(string.punctuation)}]\", \"\", text)\n",
        "        # Tokenizar el texto en palabras\n",
        "        words = text.split()\n",
        "\n",
        "        # Eliminar palabras vacías\n",
        "        words = [word for word in words if word not in stopwords_es]\n",
        "\n",
        "        # Reconstruir el texto limpio\n",
        "        text = ' '.join(words)\n",
        "         # Combinar las stopwords en  español\n",
        "        all_stopwords = stopwords_es\n",
        "        # Filtrar las stopwords del texto\n",
        "        filtered_words = [word for word in words if word.lower() not in all_stopwords] #filtra las palabras vacías del texto que no están en la lista de palabras vacías\n",
        "\n",
        "        # Unir las palabras filtradas en un solo texto\n",
        "        text = ' '.join(filtered_words)\n",
        "\n",
        "        # Devuelve el texto limpio\n",
        "        return text\n",
        "    else:\n",
        "        return text  # Devolver el valor original si no es de tipo string"
      ]
    },
    {
      "cell_type": "markdown",
      "metadata": {
        "id": "ntVe2k6TkgPP"
      },
      "source": [
        "*lematizar y extraer términos*"
      ]
    },
    {
      "cell_type": "code",
      "execution_count": null,
      "metadata": {
        "id": "gfY-KveTkhye",
        "colab": {
          "base_uri": "https://localhost:8080/"
        },
        "outputId": "b2ba7cce-36cc-4072-cac0-d105c9b4e472"
      },
      "outputs": [
        {
          "output_type": "stream",
          "name": "stdout",
          "text": [
            "['gato', 'saltar', 'valla']\n"
          ]
        }
      ],
      "source": [
        "import pandas as pd\n",
        "import spacy\n",
        "from spacy.lang.es import Spanish\n",
        "from nltk.corpus import stopwords\n",
        "\n",
        "\n",
        "# Cargar modelo de spaCy\n",
        "nlp = spacy.load(\"es_core_news_sm\")\n",
        "\n",
        "# Cargar stopwords en español\n",
        "stopwords_es = set(stopwords.words('spanish'))\n",
        "\n",
        "def extractTerms(text):\n",
        "    if isinstance(text, str):\n",
        "        # Tokenización y lematización con spaCy\n",
        "        doc = nlp(text)\n",
        "        lemmatized_terms = [token.lemma_ for token in doc if token.text.lower() not in stopwords_es]\n",
        "\n",
        "        return lemmatized_terms\n",
        "    else:\n",
        "        return []  # Devolver una lista vacía si el texto no es una cadena de texto\n",
        "\n",
        "# Ejemplo de uso\n",
        "texto_ejemplo = \"Los gatos están saltando sobre las vallas\"\n",
        "terminos_extraidos = extractTerms(texto_ejemplo)\n",
        "print(terminos_extraidos)"
      ]
    },
    {
      "cell_type": "code",
      "execution_count": null,
      "metadata": {
        "id": "RVbj6OgEKkI-"
      },
      "outputs": [],
      "source": []
    },
    {
      "cell_type": "markdown",
      "metadata": {
        "id": "_G1-6-J0kvNR"
      },
      "source": [
        "# Preprocesamieto del conjunto de datos de entrenamiento"
      ]
    },
    {
      "cell_type": "code",
      "execution_count": null,
      "metadata": {
        "id": "m-jc-AGMkyl7",
        "colab": {
          "base_uri": "https://localhost:8080/",
          "height": 570
        },
        "outputId": "717e9a87-c693-4fed-e752-c142b96bdd1c"
      },
      "outputs": [
        {
          "output_type": "stream",
          "name": "stdout",
          "text": [
            "<class 'pandas.core.frame.DataFrame'>\n",
            "RangeIndex: 15000 entries, 0 to 14999\n",
            "Data columns (total 4 columns):\n",
            " #   Column      Non-Null Count  Dtype  \n",
            "---  ------      --------------  -----  \n",
            " 0   USER_ID     10062 non-null  object \n",
            " 1   TWEET_ID    10051 non-null  float64\n",
            " 2   TWEET_TEXT  15000 non-null  object \n",
            " 3   trastorno   15000 non-null  int64  \n",
            "dtypes: float64(1), int64(1), object(2)\n",
            "memory usage: 468.9+ KB\n"
          ]
        },
        {
          "output_type": "execute_result",
          "data": {
            "text/plain": [
              "  USER_ID      TWEET_ID                                         TWEET_TEXT  \\\n",
              "0      47  2.147484e+09                     destruyendo único haces reírte   \n",
              "1       6  2.147484e+09                          cómo tampoco cómo contigo   \n",
              "2     NaN           NaN  pregunto últimamente siento tranquilo punto au...   \n",
              "3     NaN           NaN           ansiedad torno toda enfermedad disparado   \n",
              "4     NaN           NaN  mente bastante últimos meses compañero cuarto ...   \n",
              "5     NaN           NaN  ideas canal maravilloso aquí historias siguen ...   \n",
              "6      31  2.147484e+09  intenté decir pudesólo quedé nudo garganta lág...   \n",
              "7      27  2.147484e+09              tumblrbot preguntado robots dinosaurs   \n",
              "8      49  2.147484e+09  smirnoff bebida mas traicionera existe chabon ...   \n",
              "9      36  2.147484e+09                 primas delgadas tan hermosas vidas   \n",
              "\n",
              "   trastorno  \n",
              "0          1  \n",
              "1          0  \n",
              "2          2  \n",
              "3          2  \n",
              "4          2  \n",
              "5          2  \n",
              "6          0  \n",
              "7          1  \n",
              "8          1  \n",
              "9          0  "
            ],
            "text/html": [
              "\n",
              "  <div id=\"df-5de70b44-9ed4-4257-9eea-6ce73aab14ef\" class=\"colab-df-container\">\n",
              "    <div>\n",
              "<style scoped>\n",
              "    .dataframe tbody tr th:only-of-type {\n",
              "        vertical-align: middle;\n",
              "    }\n",
              "\n",
              "    .dataframe tbody tr th {\n",
              "        vertical-align: top;\n",
              "    }\n",
              "\n",
              "    .dataframe thead th {\n",
              "        text-align: right;\n",
              "    }\n",
              "</style>\n",
              "<table border=\"1\" class=\"dataframe\">\n",
              "  <thead>\n",
              "    <tr style=\"text-align: right;\">\n",
              "      <th></th>\n",
              "      <th>USER_ID</th>\n",
              "      <th>TWEET_ID</th>\n",
              "      <th>TWEET_TEXT</th>\n",
              "      <th>trastorno</th>\n",
              "    </tr>\n",
              "  </thead>\n",
              "  <tbody>\n",
              "    <tr>\n",
              "      <th>0</th>\n",
              "      <td>47</td>\n",
              "      <td>2.147484e+09</td>\n",
              "      <td>destruyendo único haces reírte</td>\n",
              "      <td>1</td>\n",
              "    </tr>\n",
              "    <tr>\n",
              "      <th>1</th>\n",
              "      <td>6</td>\n",
              "      <td>2.147484e+09</td>\n",
              "      <td>cómo tampoco cómo contigo</td>\n",
              "      <td>0</td>\n",
              "    </tr>\n",
              "    <tr>\n",
              "      <th>2</th>\n",
              "      <td>NaN</td>\n",
              "      <td>NaN</td>\n",
              "      <td>pregunto últimamente siento tranquilo punto au...</td>\n",
              "      <td>2</td>\n",
              "    </tr>\n",
              "    <tr>\n",
              "      <th>3</th>\n",
              "      <td>NaN</td>\n",
              "      <td>NaN</td>\n",
              "      <td>ansiedad torno toda enfermedad disparado</td>\n",
              "      <td>2</td>\n",
              "    </tr>\n",
              "    <tr>\n",
              "      <th>4</th>\n",
              "      <td>NaN</td>\n",
              "      <td>NaN</td>\n",
              "      <td>mente bastante últimos meses compañero cuarto ...</td>\n",
              "      <td>2</td>\n",
              "    </tr>\n",
              "    <tr>\n",
              "      <th>5</th>\n",
              "      <td>NaN</td>\n",
              "      <td>NaN</td>\n",
              "      <td>ideas canal maravilloso aquí historias siguen ...</td>\n",
              "      <td>2</td>\n",
              "    </tr>\n",
              "    <tr>\n",
              "      <th>6</th>\n",
              "      <td>31</td>\n",
              "      <td>2.147484e+09</td>\n",
              "      <td>intenté decir pudesólo quedé nudo garganta lág...</td>\n",
              "      <td>0</td>\n",
              "    </tr>\n",
              "    <tr>\n",
              "      <th>7</th>\n",
              "      <td>27</td>\n",
              "      <td>2.147484e+09</td>\n",
              "      <td>tumblrbot preguntado robots dinosaurs</td>\n",
              "      <td>1</td>\n",
              "    </tr>\n",
              "    <tr>\n",
              "      <th>8</th>\n",
              "      <td>49</td>\n",
              "      <td>2.147484e+09</td>\n",
              "      <td>smirnoff bebida mas traicionera existe chabon ...</td>\n",
              "      <td>1</td>\n",
              "    </tr>\n",
              "    <tr>\n",
              "      <th>9</th>\n",
              "      <td>36</td>\n",
              "      <td>2.147484e+09</td>\n",
              "      <td>primas delgadas tan hermosas vidas</td>\n",
              "      <td>0</td>\n",
              "    </tr>\n",
              "  </tbody>\n",
              "</table>\n",
              "</div>\n",
              "    <div class=\"colab-df-buttons\">\n",
              "\n",
              "  <div class=\"colab-df-container\">\n",
              "    <button class=\"colab-df-convert\" onclick=\"convertToInteractive('df-5de70b44-9ed4-4257-9eea-6ce73aab14ef')\"\n",
              "            title=\"Convert this dataframe to an interactive table.\"\n",
              "            style=\"display:none;\">\n",
              "\n",
              "  <svg xmlns=\"http://www.w3.org/2000/svg\" height=\"24px\" viewBox=\"0 -960 960 960\">\n",
              "    <path d=\"M120-120v-720h720v720H120Zm60-500h600v-160H180v160Zm220 220h160v-160H400v160Zm0 220h160v-160H400v160ZM180-400h160v-160H180v160Zm440 0h160v-160H620v160ZM180-180h160v-160H180v160Zm440 0h160v-160H620v160Z\"/>\n",
              "  </svg>\n",
              "    </button>\n",
              "\n",
              "  <style>\n",
              "    .colab-df-container {\n",
              "      display:flex;\n",
              "      gap: 12px;\n",
              "    }\n",
              "\n",
              "    .colab-df-convert {\n",
              "      background-color: #E8F0FE;\n",
              "      border: none;\n",
              "      border-radius: 50%;\n",
              "      cursor: pointer;\n",
              "      display: none;\n",
              "      fill: #1967D2;\n",
              "      height: 32px;\n",
              "      padding: 0 0 0 0;\n",
              "      width: 32px;\n",
              "    }\n",
              "\n",
              "    .colab-df-convert:hover {\n",
              "      background-color: #E2EBFA;\n",
              "      box-shadow: 0px 1px 2px rgba(60, 64, 67, 0.3), 0px 1px 3px 1px rgba(60, 64, 67, 0.15);\n",
              "      fill: #174EA6;\n",
              "    }\n",
              "\n",
              "    .colab-df-buttons div {\n",
              "      margin-bottom: 4px;\n",
              "    }\n",
              "\n",
              "    [theme=dark] .colab-df-convert {\n",
              "      background-color: #3B4455;\n",
              "      fill: #D2E3FC;\n",
              "    }\n",
              "\n",
              "    [theme=dark] .colab-df-convert:hover {\n",
              "      background-color: #434B5C;\n",
              "      box-shadow: 0px 1px 3px 1px rgba(0, 0, 0, 0.15);\n",
              "      filter: drop-shadow(0px 1px 2px rgba(0, 0, 0, 0.3));\n",
              "      fill: #FFFFFF;\n",
              "    }\n",
              "  </style>\n",
              "\n",
              "    <script>\n",
              "      const buttonEl =\n",
              "        document.querySelector('#df-5de70b44-9ed4-4257-9eea-6ce73aab14ef button.colab-df-convert');\n",
              "      buttonEl.style.display =\n",
              "        google.colab.kernel.accessAllowed ? 'block' : 'none';\n",
              "\n",
              "      async function convertToInteractive(key) {\n",
              "        const element = document.querySelector('#df-5de70b44-9ed4-4257-9eea-6ce73aab14ef');\n",
              "        const dataTable =\n",
              "          await google.colab.kernel.invokeFunction('convertToInteractive',\n",
              "                                                    [key], {});\n",
              "        if (!dataTable) return;\n",
              "\n",
              "        const docLinkHtml = 'Like what you see? Visit the ' +\n",
              "          '<a target=\"_blank\" href=https://colab.research.google.com/notebooks/data_table.ipynb>data table notebook</a>'\n",
              "          + ' to learn more about interactive tables.';\n",
              "        element.innerHTML = '';\n",
              "        dataTable['output_type'] = 'display_data';\n",
              "        await google.colab.output.renderOutput(dataTable, element);\n",
              "        const docLink = document.createElement('div');\n",
              "        docLink.innerHTML = docLinkHtml;\n",
              "        element.appendChild(docLink);\n",
              "      }\n",
              "    </script>\n",
              "  </div>\n",
              "\n",
              "\n",
              "<div id=\"df-2c84535e-b68f-4c84-aea6-af3f9de72a70\">\n",
              "  <button class=\"colab-df-quickchart\" onclick=\"quickchart('df-2c84535e-b68f-4c84-aea6-af3f9de72a70')\"\n",
              "            title=\"Suggest charts\"\n",
              "            style=\"display:none;\">\n",
              "\n",
              "<svg xmlns=\"http://www.w3.org/2000/svg\" height=\"24px\"viewBox=\"0 0 24 24\"\n",
              "     width=\"24px\">\n",
              "    <g>\n",
              "        <path d=\"M19 3H5c-1.1 0-2 .9-2 2v14c0 1.1.9 2 2 2h14c1.1 0 2-.9 2-2V5c0-1.1-.9-2-2-2zM9 17H7v-7h2v7zm4 0h-2V7h2v10zm4 0h-2v-4h2v4z\"/>\n",
              "    </g>\n",
              "</svg>\n",
              "  </button>\n",
              "\n",
              "<style>\n",
              "  .colab-df-quickchart {\n",
              "      --bg-color: #E8F0FE;\n",
              "      --fill-color: #1967D2;\n",
              "      --hover-bg-color: #E2EBFA;\n",
              "      --hover-fill-color: #174EA6;\n",
              "      --disabled-fill-color: #AAA;\n",
              "      --disabled-bg-color: #DDD;\n",
              "  }\n",
              "\n",
              "  [theme=dark] .colab-df-quickchart {\n",
              "      --bg-color: #3B4455;\n",
              "      --fill-color: #D2E3FC;\n",
              "      --hover-bg-color: #434B5C;\n",
              "      --hover-fill-color: #FFFFFF;\n",
              "      --disabled-bg-color: #3B4455;\n",
              "      --disabled-fill-color: #666;\n",
              "  }\n",
              "\n",
              "  .colab-df-quickchart {\n",
              "    background-color: var(--bg-color);\n",
              "    border: none;\n",
              "    border-radius: 50%;\n",
              "    cursor: pointer;\n",
              "    display: none;\n",
              "    fill: var(--fill-color);\n",
              "    height: 32px;\n",
              "    padding: 0;\n",
              "    width: 32px;\n",
              "  }\n",
              "\n",
              "  .colab-df-quickchart:hover {\n",
              "    background-color: var(--hover-bg-color);\n",
              "    box-shadow: 0 1px 2px rgba(60, 64, 67, 0.3), 0 1px 3px 1px rgba(60, 64, 67, 0.15);\n",
              "    fill: var(--button-hover-fill-color);\n",
              "  }\n",
              "\n",
              "  .colab-df-quickchart-complete:disabled,\n",
              "  .colab-df-quickchart-complete:disabled:hover {\n",
              "    background-color: var(--disabled-bg-color);\n",
              "    fill: var(--disabled-fill-color);\n",
              "    box-shadow: none;\n",
              "  }\n",
              "\n",
              "  .colab-df-spinner {\n",
              "    border: 2px solid var(--fill-color);\n",
              "    border-color: transparent;\n",
              "    border-bottom-color: var(--fill-color);\n",
              "    animation:\n",
              "      spin 1s steps(1) infinite;\n",
              "  }\n",
              "\n",
              "  @keyframes spin {\n",
              "    0% {\n",
              "      border-color: transparent;\n",
              "      border-bottom-color: var(--fill-color);\n",
              "      border-left-color: var(--fill-color);\n",
              "    }\n",
              "    20% {\n",
              "      border-color: transparent;\n",
              "      border-left-color: var(--fill-color);\n",
              "      border-top-color: var(--fill-color);\n",
              "    }\n",
              "    30% {\n",
              "      border-color: transparent;\n",
              "      border-left-color: var(--fill-color);\n",
              "      border-top-color: var(--fill-color);\n",
              "      border-right-color: var(--fill-color);\n",
              "    }\n",
              "    40% {\n",
              "      border-color: transparent;\n",
              "      border-right-color: var(--fill-color);\n",
              "      border-top-color: var(--fill-color);\n",
              "    }\n",
              "    60% {\n",
              "      border-color: transparent;\n",
              "      border-right-color: var(--fill-color);\n",
              "    }\n",
              "    80% {\n",
              "      border-color: transparent;\n",
              "      border-right-color: var(--fill-color);\n",
              "      border-bottom-color: var(--fill-color);\n",
              "    }\n",
              "    90% {\n",
              "      border-color: transparent;\n",
              "      border-bottom-color: var(--fill-color);\n",
              "    }\n",
              "  }\n",
              "</style>\n",
              "\n",
              "  <script>\n",
              "    async function quickchart(key) {\n",
              "      const quickchartButtonEl =\n",
              "        document.querySelector('#' + key + ' button');\n",
              "      quickchartButtonEl.disabled = true;  // To prevent multiple clicks.\n",
              "      quickchartButtonEl.classList.add('colab-df-spinner');\n",
              "      try {\n",
              "        const charts = await google.colab.kernel.invokeFunction(\n",
              "            'suggestCharts', [key], {});\n",
              "      } catch (error) {\n",
              "        console.error('Error during call to suggestCharts:', error);\n",
              "      }\n",
              "      quickchartButtonEl.classList.remove('colab-df-spinner');\n",
              "      quickchartButtonEl.classList.add('colab-df-quickchart-complete');\n",
              "    }\n",
              "    (() => {\n",
              "      let quickchartButtonEl =\n",
              "        document.querySelector('#df-2c84535e-b68f-4c84-aea6-af3f9de72a70 button');\n",
              "      quickchartButtonEl.style.display =\n",
              "        google.colab.kernel.accessAllowed ? 'block' : 'none';\n",
              "    })();\n",
              "  </script>\n",
              "</div>\n",
              "    </div>\n",
              "  </div>\n"
            ]
          },
          "metadata": {},
          "execution_count": 15
        }
      ],
      "source": [
        "data_train['TWEET_TEXT'] = data_train['TWEET_TEXT'].apply(removeHTML)\n",
        "data_train['TWEET_TEXT'] = data_train['TWEET_TEXT'].apply(clean)\n",
        "#data_train['TWEET_TEXT'] = data_train['TWEET_TEXT'].apply(extractTerms)\n",
        "data_train.info()\n",
        "data_train.head(10)"
      ]
    },
    {
      "cell_type": "code",
      "execution_count": null,
      "metadata": {
        "id": "dkfJwuJalr6H",
        "colab": {
          "base_uri": "https://localhost:8080/"
        },
        "outputId": "8c517a3a-1c81-4d33-f3d6-edb35f9ef8df"
      },
      "outputs": [
        {
          "output_type": "stream",
          "name": "stdout",
          "text": [
            "Número de elementos vacíos en la columna 'TWEET_TEXT': 818\n"
          ]
        }
      ],
      "source": [
        "# Verificar si hay elementos vacíos en la columna 'TWEET_TEXT'\n",
        "empty_count = (data_train['TWEET_TEXT'].apply(len) == 0).sum()\n",
        "\n",
        "# Imprimir el número de elementos vacíos en la columna 'TWEET_TEXT'\n",
        "print(\"Número de elementos vacíos en la columna 'TWEET_TEXT':\", empty_count)"
      ]
    },
    {
      "cell_type": "code",
      "execution_count": null,
      "metadata": {
        "id": "wr1meiHXluWk"
      },
      "outputs": [],
      "source": [
        "# Filtrar filas donde 'TWEET_TEXT' no sea una lista vacía\n",
        "data_train = data_train[data_train['TWEET_TEXT'].apply(len) > 0]\n",
        "\n",
        "# Reiniciar el índice del DataFrame después de eliminar filas\n",
        "data_train.reset_index(drop=True, inplace=True)"
      ]
    },
    {
      "cell_type": "code",
      "execution_count": null,
      "metadata": {
        "id": "3j2qM6y4lvG4",
        "colab": {
          "base_uri": "https://localhost:8080/"
        },
        "outputId": "1336a03a-2d31-4b8a-c3c7-8336658d581a"
      },
      "outputs": [
        {
          "output_type": "stream",
          "name": "stdout",
          "text": [
            "Número de elementos vacíos en la columna 'TWEET_TEXT': 0\n"
          ]
        }
      ],
      "source": [
        "# Verificar si hay elementos vacíos en la columna 'TWEET_TEXT'\n",
        "empty_count = (data_train['TWEET_TEXT'].apply(len) == 0).sum()\n",
        "\n",
        "# Imprimir el número de elementos vacíos en la columna 'TWEET_TEXT'\n",
        "print(\"Número de elementos vacíos en la columna 'TWEET_TEXT':\", empty_count)"
      ]
    },
    {
      "cell_type": "code",
      "source": [
        "data_train['TWEET_TEXT'] = data_train['TWEET_TEXT'].apply(lambda x: ' '.join(x) if isinstance(x, list) else x) # Combinar los elementos de la lista en una sola cadena separados por espacios\n",
        "data_train.info()\n",
        "data_train.head(10)"
      ],
      "metadata": {
        "colab": {
          "base_uri": "https://localhost:8080/",
          "height": 570
        },
        "id": "wKDHbLutx-zl",
        "outputId": "281dcbe5-bc6e-4dcc-fc3a-ec3a963e08aa"
      },
      "execution_count": null,
      "outputs": [
        {
          "output_type": "stream",
          "name": "stdout",
          "text": [
            "<class 'pandas.core.frame.DataFrame'>\n",
            "RangeIndex: 14182 entries, 0 to 14181\n",
            "Data columns (total 4 columns):\n",
            " #   Column      Non-Null Count  Dtype  \n",
            "---  ------      --------------  -----  \n",
            " 0   USER_ID     9262 non-null   object \n",
            " 1   TWEET_ID    9251 non-null   float64\n",
            " 2   TWEET_TEXT  14182 non-null  object \n",
            " 3   trastorno   14182 non-null  int64  \n",
            "dtypes: float64(1), int64(1), object(2)\n",
            "memory usage: 443.3+ KB\n"
          ]
        },
        {
          "output_type": "execute_result",
          "data": {
            "text/plain": [
              "  USER_ID      TWEET_ID                                         TWEET_TEXT  \\\n",
              "0      47  2.147484e+09                     destruyendo único haces reírte   \n",
              "1       6  2.147484e+09                          cómo tampoco cómo contigo   \n",
              "2     NaN           NaN  pregunto últimamente siento tranquilo punto au...   \n",
              "3     NaN           NaN           ansiedad torno toda enfermedad disparado   \n",
              "4     NaN           NaN  mente bastante últimos meses compañero cuarto ...   \n",
              "5     NaN           NaN  ideas canal maravilloso aquí historias siguen ...   \n",
              "6      31  2.147484e+09  intenté decir pudesólo quedé nudo garganta lág...   \n",
              "7      27  2.147484e+09              tumblrbot preguntado robots dinosaurs   \n",
              "8      49  2.147484e+09  smirnoff bebida mas traicionera existe chabon ...   \n",
              "9      36  2.147484e+09                 primas delgadas tan hermosas vidas   \n",
              "\n",
              "   trastorno  \n",
              "0          1  \n",
              "1          0  \n",
              "2          2  \n",
              "3          2  \n",
              "4          2  \n",
              "5          2  \n",
              "6          0  \n",
              "7          1  \n",
              "8          1  \n",
              "9          0  "
            ],
            "text/html": [
              "\n",
              "  <div id=\"df-1da30a68-f350-432c-8d01-8adfa79bc4d6\" class=\"colab-df-container\">\n",
              "    <div>\n",
              "<style scoped>\n",
              "    .dataframe tbody tr th:only-of-type {\n",
              "        vertical-align: middle;\n",
              "    }\n",
              "\n",
              "    .dataframe tbody tr th {\n",
              "        vertical-align: top;\n",
              "    }\n",
              "\n",
              "    .dataframe thead th {\n",
              "        text-align: right;\n",
              "    }\n",
              "</style>\n",
              "<table border=\"1\" class=\"dataframe\">\n",
              "  <thead>\n",
              "    <tr style=\"text-align: right;\">\n",
              "      <th></th>\n",
              "      <th>USER_ID</th>\n",
              "      <th>TWEET_ID</th>\n",
              "      <th>TWEET_TEXT</th>\n",
              "      <th>trastorno</th>\n",
              "    </tr>\n",
              "  </thead>\n",
              "  <tbody>\n",
              "    <tr>\n",
              "      <th>0</th>\n",
              "      <td>47</td>\n",
              "      <td>2.147484e+09</td>\n",
              "      <td>destruyendo único haces reírte</td>\n",
              "      <td>1</td>\n",
              "    </tr>\n",
              "    <tr>\n",
              "      <th>1</th>\n",
              "      <td>6</td>\n",
              "      <td>2.147484e+09</td>\n",
              "      <td>cómo tampoco cómo contigo</td>\n",
              "      <td>0</td>\n",
              "    </tr>\n",
              "    <tr>\n",
              "      <th>2</th>\n",
              "      <td>NaN</td>\n",
              "      <td>NaN</td>\n",
              "      <td>pregunto últimamente siento tranquilo punto au...</td>\n",
              "      <td>2</td>\n",
              "    </tr>\n",
              "    <tr>\n",
              "      <th>3</th>\n",
              "      <td>NaN</td>\n",
              "      <td>NaN</td>\n",
              "      <td>ansiedad torno toda enfermedad disparado</td>\n",
              "      <td>2</td>\n",
              "    </tr>\n",
              "    <tr>\n",
              "      <th>4</th>\n",
              "      <td>NaN</td>\n",
              "      <td>NaN</td>\n",
              "      <td>mente bastante últimos meses compañero cuarto ...</td>\n",
              "      <td>2</td>\n",
              "    </tr>\n",
              "    <tr>\n",
              "      <th>5</th>\n",
              "      <td>NaN</td>\n",
              "      <td>NaN</td>\n",
              "      <td>ideas canal maravilloso aquí historias siguen ...</td>\n",
              "      <td>2</td>\n",
              "    </tr>\n",
              "    <tr>\n",
              "      <th>6</th>\n",
              "      <td>31</td>\n",
              "      <td>2.147484e+09</td>\n",
              "      <td>intenté decir pudesólo quedé nudo garganta lág...</td>\n",
              "      <td>0</td>\n",
              "    </tr>\n",
              "    <tr>\n",
              "      <th>7</th>\n",
              "      <td>27</td>\n",
              "      <td>2.147484e+09</td>\n",
              "      <td>tumblrbot preguntado robots dinosaurs</td>\n",
              "      <td>1</td>\n",
              "    </tr>\n",
              "    <tr>\n",
              "      <th>8</th>\n",
              "      <td>49</td>\n",
              "      <td>2.147484e+09</td>\n",
              "      <td>smirnoff bebida mas traicionera existe chabon ...</td>\n",
              "      <td>1</td>\n",
              "    </tr>\n",
              "    <tr>\n",
              "      <th>9</th>\n",
              "      <td>36</td>\n",
              "      <td>2.147484e+09</td>\n",
              "      <td>primas delgadas tan hermosas vidas</td>\n",
              "      <td>0</td>\n",
              "    </tr>\n",
              "  </tbody>\n",
              "</table>\n",
              "</div>\n",
              "    <div class=\"colab-df-buttons\">\n",
              "\n",
              "  <div class=\"colab-df-container\">\n",
              "    <button class=\"colab-df-convert\" onclick=\"convertToInteractive('df-1da30a68-f350-432c-8d01-8adfa79bc4d6')\"\n",
              "            title=\"Convert this dataframe to an interactive table.\"\n",
              "            style=\"display:none;\">\n",
              "\n",
              "  <svg xmlns=\"http://www.w3.org/2000/svg\" height=\"24px\" viewBox=\"0 -960 960 960\">\n",
              "    <path d=\"M120-120v-720h720v720H120Zm60-500h600v-160H180v160Zm220 220h160v-160H400v160Zm0 220h160v-160H400v160ZM180-400h160v-160H180v160Zm440 0h160v-160H620v160ZM180-180h160v-160H180v160Zm440 0h160v-160H620v160Z\"/>\n",
              "  </svg>\n",
              "    </button>\n",
              "\n",
              "  <style>\n",
              "    .colab-df-container {\n",
              "      display:flex;\n",
              "      gap: 12px;\n",
              "    }\n",
              "\n",
              "    .colab-df-convert {\n",
              "      background-color: #E8F0FE;\n",
              "      border: none;\n",
              "      border-radius: 50%;\n",
              "      cursor: pointer;\n",
              "      display: none;\n",
              "      fill: #1967D2;\n",
              "      height: 32px;\n",
              "      padding: 0 0 0 0;\n",
              "      width: 32px;\n",
              "    }\n",
              "\n",
              "    .colab-df-convert:hover {\n",
              "      background-color: #E2EBFA;\n",
              "      box-shadow: 0px 1px 2px rgba(60, 64, 67, 0.3), 0px 1px 3px 1px rgba(60, 64, 67, 0.15);\n",
              "      fill: #174EA6;\n",
              "    }\n",
              "\n",
              "    .colab-df-buttons div {\n",
              "      margin-bottom: 4px;\n",
              "    }\n",
              "\n",
              "    [theme=dark] .colab-df-convert {\n",
              "      background-color: #3B4455;\n",
              "      fill: #D2E3FC;\n",
              "    }\n",
              "\n",
              "    [theme=dark] .colab-df-convert:hover {\n",
              "      background-color: #434B5C;\n",
              "      box-shadow: 0px 1px 3px 1px rgba(0, 0, 0, 0.15);\n",
              "      filter: drop-shadow(0px 1px 2px rgba(0, 0, 0, 0.3));\n",
              "      fill: #FFFFFF;\n",
              "    }\n",
              "  </style>\n",
              "\n",
              "    <script>\n",
              "      const buttonEl =\n",
              "        document.querySelector('#df-1da30a68-f350-432c-8d01-8adfa79bc4d6 button.colab-df-convert');\n",
              "      buttonEl.style.display =\n",
              "        google.colab.kernel.accessAllowed ? 'block' : 'none';\n",
              "\n",
              "      async function convertToInteractive(key) {\n",
              "        const element = document.querySelector('#df-1da30a68-f350-432c-8d01-8adfa79bc4d6');\n",
              "        const dataTable =\n",
              "          await google.colab.kernel.invokeFunction('convertToInteractive',\n",
              "                                                    [key], {});\n",
              "        if (!dataTable) return;\n",
              "\n",
              "        const docLinkHtml = 'Like what you see? Visit the ' +\n",
              "          '<a target=\"_blank\" href=https://colab.research.google.com/notebooks/data_table.ipynb>data table notebook</a>'\n",
              "          + ' to learn more about interactive tables.';\n",
              "        element.innerHTML = '';\n",
              "        dataTable['output_type'] = 'display_data';\n",
              "        await google.colab.output.renderOutput(dataTable, element);\n",
              "        const docLink = document.createElement('div');\n",
              "        docLink.innerHTML = docLinkHtml;\n",
              "        element.appendChild(docLink);\n",
              "      }\n",
              "    </script>\n",
              "  </div>\n",
              "\n",
              "\n",
              "<div id=\"df-68d7a9e0-6624-4f94-8563-48d8b9616d90\">\n",
              "  <button class=\"colab-df-quickchart\" onclick=\"quickchart('df-68d7a9e0-6624-4f94-8563-48d8b9616d90')\"\n",
              "            title=\"Suggest charts\"\n",
              "            style=\"display:none;\">\n",
              "\n",
              "<svg xmlns=\"http://www.w3.org/2000/svg\" height=\"24px\"viewBox=\"0 0 24 24\"\n",
              "     width=\"24px\">\n",
              "    <g>\n",
              "        <path d=\"M19 3H5c-1.1 0-2 .9-2 2v14c0 1.1.9 2 2 2h14c1.1 0 2-.9 2-2V5c0-1.1-.9-2-2-2zM9 17H7v-7h2v7zm4 0h-2V7h2v10zm4 0h-2v-4h2v4z\"/>\n",
              "    </g>\n",
              "</svg>\n",
              "  </button>\n",
              "\n",
              "<style>\n",
              "  .colab-df-quickchart {\n",
              "      --bg-color: #E8F0FE;\n",
              "      --fill-color: #1967D2;\n",
              "      --hover-bg-color: #E2EBFA;\n",
              "      --hover-fill-color: #174EA6;\n",
              "      --disabled-fill-color: #AAA;\n",
              "      --disabled-bg-color: #DDD;\n",
              "  }\n",
              "\n",
              "  [theme=dark] .colab-df-quickchart {\n",
              "      --bg-color: #3B4455;\n",
              "      --fill-color: #D2E3FC;\n",
              "      --hover-bg-color: #434B5C;\n",
              "      --hover-fill-color: #FFFFFF;\n",
              "      --disabled-bg-color: #3B4455;\n",
              "      --disabled-fill-color: #666;\n",
              "  }\n",
              "\n",
              "  .colab-df-quickchart {\n",
              "    background-color: var(--bg-color);\n",
              "    border: none;\n",
              "    border-radius: 50%;\n",
              "    cursor: pointer;\n",
              "    display: none;\n",
              "    fill: var(--fill-color);\n",
              "    height: 32px;\n",
              "    padding: 0;\n",
              "    width: 32px;\n",
              "  }\n",
              "\n",
              "  .colab-df-quickchart:hover {\n",
              "    background-color: var(--hover-bg-color);\n",
              "    box-shadow: 0 1px 2px rgba(60, 64, 67, 0.3), 0 1px 3px 1px rgba(60, 64, 67, 0.15);\n",
              "    fill: var(--button-hover-fill-color);\n",
              "  }\n",
              "\n",
              "  .colab-df-quickchart-complete:disabled,\n",
              "  .colab-df-quickchart-complete:disabled:hover {\n",
              "    background-color: var(--disabled-bg-color);\n",
              "    fill: var(--disabled-fill-color);\n",
              "    box-shadow: none;\n",
              "  }\n",
              "\n",
              "  .colab-df-spinner {\n",
              "    border: 2px solid var(--fill-color);\n",
              "    border-color: transparent;\n",
              "    border-bottom-color: var(--fill-color);\n",
              "    animation:\n",
              "      spin 1s steps(1) infinite;\n",
              "  }\n",
              "\n",
              "  @keyframes spin {\n",
              "    0% {\n",
              "      border-color: transparent;\n",
              "      border-bottom-color: var(--fill-color);\n",
              "      border-left-color: var(--fill-color);\n",
              "    }\n",
              "    20% {\n",
              "      border-color: transparent;\n",
              "      border-left-color: var(--fill-color);\n",
              "      border-top-color: var(--fill-color);\n",
              "    }\n",
              "    30% {\n",
              "      border-color: transparent;\n",
              "      border-left-color: var(--fill-color);\n",
              "      border-top-color: var(--fill-color);\n",
              "      border-right-color: var(--fill-color);\n",
              "    }\n",
              "    40% {\n",
              "      border-color: transparent;\n",
              "      border-right-color: var(--fill-color);\n",
              "      border-top-color: var(--fill-color);\n",
              "    }\n",
              "    60% {\n",
              "      border-color: transparent;\n",
              "      border-right-color: var(--fill-color);\n",
              "    }\n",
              "    80% {\n",
              "      border-color: transparent;\n",
              "      border-right-color: var(--fill-color);\n",
              "      border-bottom-color: var(--fill-color);\n",
              "    }\n",
              "    90% {\n",
              "      border-color: transparent;\n",
              "      border-bottom-color: var(--fill-color);\n",
              "    }\n",
              "  }\n",
              "</style>\n",
              "\n",
              "  <script>\n",
              "    async function quickchart(key) {\n",
              "      const quickchartButtonEl =\n",
              "        document.querySelector('#' + key + ' button');\n",
              "      quickchartButtonEl.disabled = true;  // To prevent multiple clicks.\n",
              "      quickchartButtonEl.classList.add('colab-df-spinner');\n",
              "      try {\n",
              "        const charts = await google.colab.kernel.invokeFunction(\n",
              "            'suggestCharts', [key], {});\n",
              "      } catch (error) {\n",
              "        console.error('Error during call to suggestCharts:', error);\n",
              "      }\n",
              "      quickchartButtonEl.classList.remove('colab-df-spinner');\n",
              "      quickchartButtonEl.classList.add('colab-df-quickchart-complete');\n",
              "    }\n",
              "    (() => {\n",
              "      let quickchartButtonEl =\n",
              "        document.querySelector('#df-68d7a9e0-6624-4f94-8563-48d8b9616d90 button');\n",
              "      quickchartButtonEl.style.display =\n",
              "        google.colab.kernel.accessAllowed ? 'block' : 'none';\n",
              "    })();\n",
              "  </script>\n",
              "</div>\n",
              "    </div>\n",
              "  </div>\n"
            ]
          },
          "metadata": {},
          "execution_count": 19
        }
      ]
    },
    {
      "cell_type": "markdown",
      "metadata": {
        "id": "p41SB9h6p_Eb"
      },
      "source": [
        "#Vectorización de los datos\n",
        "\n"
      ]
    },
    {
      "cell_type": "code",
      "execution_count": null,
      "metadata": {
        "id": "fBQWGrKoqAMP",
        "colab": {
          "base_uri": "https://localhost:8080/"
        },
        "outputId": "c66e933c-aa5c-4777-d925-e76ec4eec8fd"
      },
      "outputs": [
        {
          "output_type": "stream",
          "name": "stdout",
          "text": [
            "El tamaño del vocabulario es: 963\n"
          ]
        }
      ],
      "source": [
        "from sklearn.feature_extraction.text import CountVectorizer\n",
        "def Tokenizer(text):\n",
        "    return text.split()  # Tokenizador simple: divide el texto en palabras\n",
        "# Crear un transformador CountVectorizer con el tokenizer Tokenizery rango de n-gramas (1, 1)\n",
        "# y un umbral de frecuencia mínimo de 200\n",
        "umbral = 20\n",
        "count_vect = CountVectorizer(tokenizer=Tokenizer, ngram_range=(1, 1), min_df=umbral)\n",
        "\n",
        "# Aplicar el CountVectorizer a la columna 'TWEET_TEXT' en data_train y obtener la matriz BoW\n",
        "bow_train = count_vect.fit_transform(data_train['TWEET_TEXT'].values)\n",
        "\n",
        "# Imprimir el tamaño del vocabulario construido por CountVectorizer\n",
        "print(\"El tamaño del vocabulario es:\", len(count_vect.vocabulary_))\n",
        "\n",
        "# Crear arrays X y y para los datos y etiquetas respectivamente\n",
        "X = bow_train  # Matriz BoW\n",
        "y = data_train['trastorno'].values  # Etiquetas de trastorno de la columna 'trastorno'"
      ]
    },
    {
      "cell_type": "code",
      "source": [
        "import numpy as np\n",
        "from sklearn.metrics import accuracy_score, precision_score, recall_score, f1_score\n",
        "from sklearn.model_selection import train_test_split\n",
        "from sklearn.decomposition import LatentDirichletAllocation as LDA\n",
        "from tensorflow.keras.models import Sequential\n",
        "from tensorflow.keras.layers import Dense, Dropout\n",
        "from tensorflow.keras.optimizers import Adam\n",
        "import tensorflow as tf\n",
        "\n",
        "# Dividir los datos en conjuntos de entrenamiento y prueba\n",
        "X_train, X_test, y_train, y_test = train_test_split(X, y, test_size=0.3, random_state=0)\n",
        "\n",
        "# Aplicar LDA para reducir la dimensionalidad\n",
        "n_topics = 70  # Define el número de tópicos (componentes)\n",
        "lda = LDA(n_components=n_topics)\n",
        "X_train_lda = lda.fit_transform(X_train, y_train)\n",
        "X_test_lda = lda.transform(X_test)\n"
      ],
      "metadata": {
        "id": "ycZ9u5OgHUgR"
      },
      "execution_count": null,
      "outputs": []
    },
    {
      "cell_type": "code",
      "source": [
        "import numpy as np\n",
        "from sklearn.metrics import accuracy_score, precision_score, recall_score, f1_score\n",
        "from sklearn.model_selection import train_test_split\n",
        "from sklearn.decomposition import LatentDirichletAllocation as LDA\n",
        "from tensorflow.keras.models import Sequential\n",
        "from tensorflow.keras.layers import Dense, Dropout\n",
        "from tensorflow.keras.optimizers import Adam\n",
        "import tensorflow as tf"
      ],
      "metadata": {
        "id": "_54q_jyW1LOk"
      },
      "execution_count": null,
      "outputs": []
    },
    {
      "cell_type": "code",
      "source": [
        "from keras.utils import to_categorical\n",
        "from tensorflow.keras.optimizers import Adam\n",
        "from tensorflow.keras.losses import CategoricalCrossentropy\n",
        "from tensorflow.keras.metrics import CategoricalAccuracy\n",
        "from keras.layers import PReLU\n",
        "X_train = X_train_lda\n",
        "X_val = X_test_lda\n",
        "y_val = y_test\n",
        "\n",
        "\n",
        "# Convertir las etiquetas en codificación one-hot\n",
        "num_classes = 3  # Número de clases\n",
        "y_train_one_hot = to_categorical(y_train, num_classes)\n",
        "y_val_one_hot = to_categorical(y_val, num_classes)\n",
        "\n",
        "# Crear una red neuronal secuencial\n",
        "model = Sequential()\n",
        "\n",
        "# Agregar una capa de entrada con el número de características en X_train\n",
        "model.add(Dense(928, activation='relu', input_dim=X_train.shape[1]))\n",
        "model.add(Dropout(0.2))  # Dropout para regularización\n",
        "\n",
        "# Agregar una capa oculta\n",
        "model.add(Dense(164, activation='relu'))\n",
        "model.add(Dropout(0.1))  # Dropout para regularización\n",
        "\n",
        "# Agregar una capa de salida con el número de clases en tu clasificación multiclase\n",
        "model.add(Dense(num_classes))\n",
        "model.add(PReLU())\n",
        "# Compilar el modelo\n",
        "model.compile(optimizer=Adam(learning_rate=0.001), loss=CategoricalCrossentropy(), metrics=[CategoricalAccuracy()])\n",
        "\n",
        "# Entrenar el modelo en los datos de entrenamiento\n",
        "history = model.fit(X_train, y_train_one_hot, epochs=10, batch_size=32, validation_data=(X_val, y_val_one_hot))\n",
        "\n",
        "y_val_pred = model.predict(X_val)\n",
        "\n",
        "y_val_pred_class = y_val_pred.argmax(axis=1)  # Obtener la clase con la mayor probabilidad\n",
        "y_val_true_class = y_val_one_hot.argmax(axis=1)  # Usar y_val_one_hot en lugar de y_val si está codificado en one-hot\n",
        "\n",
        "accuracy = accuracy_score(y_val_true_class, y_val_pred_class)\n",
        "precision = precision_score(y_val_true_class, y_val_pred_class, average='macro')\n",
        "recall = recall_score(y_val_true_class, y_val_pred_class, average='macro')\n",
        "f1 = f1_score(y_val_true_class, y_val_pred_class, average='macro')\n",
        "\n",
        "y_train_pred = model.predict(X_train)\n",
        "\n",
        "# Calcular métricas de evaluación en el conjunto de entrenamiento\n",
        "y_train_pred_class = y_train_pred.argmax(axis=1)  # Obtener la clase con la mayor probabilidad\n",
        "y_train_true_class = y_train_one_hot.argmax(axis=1)  # Usar y_train_one_hot en lugar de y_train si está codificado en one-hot\n",
        "\n",
        "accuracy_train = accuracy_score(y_train_true_class, y_train_pred_class)\n",
        "precision_train = precision_score(y_train_true_class, y_train_pred_class, average='macro')\n",
        "recall_train = recall_score(y_train_true_class, y_train_pred_class, average='macro')\n",
        "f1_train = f1_score(y_train_true_class, y_train_pred_class, average='macro')\n",
        "\n",
        "# Guardar el modelo entrenado\n",
        "model.save('/content/drive/MyDrive/Experimentación Python Tesis /Experimento Dataset Ansiedad Depresión/LDA/parametros/modelo_BOW_entrenado_multiclase.h5')\n",
        "\n",
        "# Cargar el modelo entrenado\n",
        "loaded_model = tf.keras.models.load_model('/content/drive/MyDrive/Experimentación Python Tesis /Experimento Dataset Ansiedad Depresión/LDA/parametros/modelo_BOW_entrenado_multiclase.h5')\n"
      ],
      "metadata": {
        "colab": {
          "base_uri": "https://localhost:8080/"
        },
        "id": "I65_zMUTPS-5",
        "outputId": "893649bc-83aa-406a-8676-3b5a63b61cf7"
      },
      "execution_count": null,
      "outputs": [
        {
          "output_type": "stream",
          "name": "stdout",
          "text": [
            "Epoch 1/10\n",
            "311/311 [==============================] - 3s 6ms/step - loss: 1.0548 - categorical_accuracy: 0.4694 - val_loss: 0.9944 - val_categorical_accuracy: 0.4910\n",
            "Epoch 2/10\n",
            "311/311 [==============================] - 2s 7ms/step - loss: 0.9974 - categorical_accuracy: 0.5089 - val_loss: 1.0163 - val_categorical_accuracy: 0.5102\n",
            "Epoch 3/10\n",
            "311/311 [==============================] - 3s 8ms/step - loss: 0.9595 - categorical_accuracy: 0.5104 - val_loss: 0.9513 - val_categorical_accuracy: 0.4924\n",
            "Epoch 4/10\n",
            "311/311 [==============================] - 3s 9ms/step - loss: 0.9364 - categorical_accuracy: 0.5194 - val_loss: 0.9473 - val_categorical_accuracy: 0.5100\n",
            "Epoch 5/10\n",
            "311/311 [==============================] - 2s 7ms/step - loss: 0.9214 - categorical_accuracy: 0.5291 - val_loss: 0.9469 - val_categorical_accuracy: 0.4966\n",
            "Epoch 6/10\n",
            "311/311 [==============================] - 2s 6ms/step - loss: 0.9112 - categorical_accuracy: 0.5349 - val_loss: 0.9361 - val_categorical_accuracy: 0.5105\n",
            "Epoch 7/10\n",
            "311/311 [==============================] - 2s 5ms/step - loss: 0.9216 - categorical_accuracy: 0.5449 - val_loss: 0.9515 - val_categorical_accuracy: 0.5128\n",
            "Epoch 8/10\n",
            "311/311 [==============================] - 2s 5ms/step - loss: 0.9062 - categorical_accuracy: 0.5403 - val_loss: 0.9828 - val_categorical_accuracy: 0.5006\n",
            "Epoch 9/10\n",
            "311/311 [==============================] - 2s 5ms/step - loss: 0.9221 - categorical_accuracy: 0.5480 - val_loss: 1.0401 - val_categorical_accuracy: 0.5105\n",
            "Epoch 10/10\n",
            "311/311 [==============================] - 2s 6ms/step - loss: 1.2273 - categorical_accuracy: 0.5318 - val_loss: 3.3766 - val_categorical_accuracy: 0.5029\n",
            "133/133 [==============================] - 0s 2ms/step\n",
            "311/311 [==============================] - 1s 3ms/step\n"
          ]
        }
      ]
    },
    {
      "cell_type": "code",
      "source": [
        "# Imprimir métricas de entrenamiento\n",
        "print(\"\\nMétricas en el conjunto de entrenamiento:\")\n",
        "print(f\"Exactitud (entrenamiento): {round(accuracy_train, 2) * 100}%\")\n",
        "print(f\"Precisión (entrenamiento): {round(precision_train, 2) * 100}%\")\n",
        "print(f\"Recall (entrenamiento): {round(recall_train, 2) * 100}%\")\n",
        "print(f\"F1-score (entrenamiento): {round(f1_train, 2) * 100}%\")\n",
        "print('-------------------------------------------------------------------------')\n",
        "# Imprimir métricas de evaluación\n",
        "print(f\"Exactitud en el conjunto de validación: {round(accuracy, 2) * 100}%\")\n",
        "print(f\"Precisión en el conjunto de validación: {round(precision, 2) * 100}%\")\n",
        "print(f\"Recall en el conjunto de validación: {round(recall, 2) * 100}%\")\n",
        "print(f\"F1-score en el conjunto de validación: {round(f1, 2) * 100}%\")"
      ],
      "metadata": {
        "colab": {
          "base_uri": "https://localhost:8080/"
        },
        "id": "O0YFH8iYmXmM",
        "outputId": "24da9d5d-d2b2-46f9-f266-b96788d16b38"
      },
      "execution_count": null,
      "outputs": [
        {
          "output_type": "stream",
          "name": "stdout",
          "text": [
            "\n",
            "Métricas en el conjunto de entrenamiento:\n",
            "Exactitud (entrenamiento): 55.00000000000001%\n",
            "Precisión (entrenamiento): 54.0%\n",
            "Recall (entrenamiento): 54.0%\n",
            "F1-score (entrenamiento): 52.0%\n",
            "-------------------------------------------------------------------------\n",
            "Exactitud en el conjunto de validación: 50.0%\n",
            "Precisión en el conjunto de validación: 48.0%\n",
            "Recall en el conjunto de validación: 49.0%\n",
            "F1-score en el conjunto de validación: 47.0%\n"
          ]
        }
      ]
    },
    {
      "cell_type": "markdown",
      "source": [
        "#Matriz de confusión"
      ],
      "metadata": {
        "id": "mxdabm0JU3PK"
      }
    },
    {
      "cell_type": "code",
      "source": [
        "from sklearn.metrics import confusion_matrix\n",
        "\n",
        "cm = confusion_matrix(y_val_true_class, y_val_pred_class)\n",
        "\n",
        "# Imprimir la matriz de confusión\n",
        "print(\"Matriz de Confusión:\")\n",
        "print(cm)"
      ],
      "metadata": {
        "colab": {
          "base_uri": "https://localhost:8080/"
        },
        "id": "13VsEgDIdjWL",
        "outputId": "ef3680ee-7225-4af2-ce19-706ffa9d7b9a"
      },
      "execution_count": null,
      "outputs": [
        {
          "output_type": "stream",
          "name": "stdout",
          "text": [
            "Matriz de Confusión:\n",
            "[[ 292  653  416]\n",
            " [ 302  679  421]\n",
            " [ 106  217 1169]]\n"
          ]
        }
      ]
    },
    {
      "cell_type": "code",
      "source": [
        "import seaborn as sns\n",
        "import matplotlib.pyplot as plt\n",
        "\n",
        "# Definir etiquetas de las clases\n",
        "classes = ['Control', 'Depresión', 'Ansiedad']\n",
        "\n",
        "# Crear un mapa de calor de la matriz de confusión\n",
        "plt.figure(figsize=(8, 6))\n",
        "sns.heatmap(cm, annot=True, fmt='d', cmap='Blues', xticklabels=classes, yticklabels=classes)\n",
        "\n",
        "# Agregar etiquetas y título\n",
        "plt.xlabel('Clases Predichas')\n",
        "plt.ylabel('Clases Reales')\n",
        "plt.title('Matriz de Confusión')\n",
        "\n",
        "plt.show()"
      ],
      "metadata": {
        "colab": {
          "base_uri": "https://localhost:8080/",
          "height": 570
        },
        "id": "XmXF3LphdrE5",
        "outputId": "5ea26ee8-5fef-47a0-e54c-5053da7b2040"
      },
      "execution_count": null,
      "outputs": [
        {
          "output_type": "display_data",
          "data": {
            "text/plain": [
              "<Figure size 800x600 with 2 Axes>"
            ],
            "image/png": "[encoded data removed]"
          },
          "metadata": {
            "image/png": {
              "width": 672,
              "height": 553
            }
          }
        }
      ]
    },
    {
      "cell_type": "markdown",
      "metadata": {
        "id": "Jr7wkaLH8D9Y"
      },
      "source": [
        "#Modelo Bosque Aleatorio"
      ]
    },
    {
      "cell_type": "code",
      "execution_count": null,
      "metadata": {
        "id": "Yf9iwokE-QqU",
        "colab": {
          "base_uri": "https://localhost:8080/"
        },
        "outputId": "832fab9a-6b88-4581-ba60-bc7414b3fe15"
      },
      "outputs": [
        {
          "output_type": "stream",
          "name": "stdout",
          "text": [
            "Precisión (Validación): 0.52\n",
            "Precisión (Validación): 0.52\n",
            "Exhaustividad (Validación): 0.52\n",
            "Puntuación F1 (Validación): 0.52\n",
            "\n",
            "Métricas en el conjunto de entrenamiento:\n",
            "Precisión: 0.87\n",
            "Exhaustividad: 0.87\n",
            "Puntuación F1: 0.87\n"
          ]
        }
      ],
      "source": [
        "from sklearn.ensemble import RandomForestClassifier\n",
        "\n",
        "# Crea un modelo de Random Forest\n",
        "random_forest_model = RandomForestClassifier(\n",
        "    n_estimators=500,  # Número de árboles\n",
        "    max_depth=50,  # Profundidad máxima de los árboles\n",
        "    random_state=42,  # Semilla aleatoria para reproducibilidad\n",
        "    n_jobs=-1  # Utilizar todos los núcleos de la CPU para procesamiento en paralelo\n",
        ")\n",
        "\n",
        "\n",
        "# Entrena el modelo con los datos de entrenamiento\n",
        "random_forest_model.fit(X_train, y_train)\n",
        "\n",
        "# Realiza predicciones en los datos de validación\n",
        "y_val_pred = random_forest_model.predict(X_val)\n",
        "\n",
        "# Calcula e imprime la precisión del modelo en los datos de validación\n",
        "accuracy = accuracy_score(y_val, y_val_pred)\n",
        "print(\"Precisión (Validación): {:.2f}\".format(accuracy))\n",
        "\n",
        "# Calcula e imprime la precisión del modelo en los datos de validación\n",
        "precision = precision_score(y_val, y_val_pred, average='weighted')\n",
        "print(\"Precisión (Validación): {:.2f}\".format(precision))\n",
        "\n",
        "# Calcula e imprime la exhaustividad del modelo en los datos de validación\n",
        "recall = recall_score(y_val, y_val_pred, average='weighted')\n",
        "print(\"Exhaustividad (Validación): {:.2f}\".format(recall))\n",
        "\n",
        "# Calcula e imprime la puntuación F1 del modelo en los datos de validación\n",
        "f1 = f1_score(y_val, y_val_pred, average='weighted')\n",
        "print(\"Puntuación F1 (Validación): {:.2f}\".format(f1))\n",
        "\n",
        "# Calcula e imprime métricas en el conjunto de entrenamiento\n",
        "y_train_pred = random_forest_model.predict(X_train)\n",
        "\n",
        "accuracy_train = accuracy_score(y_train, y_train_pred)\n",
        "precision_train = precision_score(y_train, y_train_pred, average='weighted')\n",
        "recall_train = recall_score(y_train, y_train_pred, average='weighted')\n",
        "f1_train = f1_score(y_train, y_train_pred, average='weighted')\n",
        "\n",
        "print(\"\\nMétricas en el conjunto de entrenamiento:\")\n",
        "print(\"Precisión: {:.2f}\".format(precision_train))\n",
        "print(\"Exhaustividad: {:.2f}\".format(recall_train))\n",
        "print(\"Puntuación F1: {:.2f}\".format(f1_train))"
      ]
    },
    {
      "cell_type": "code",
      "execution_count": null,
      "metadata": {
        "id": "NkRDcwJA-Vto",
        "colab": {
          "base_uri": "https://localhost:8080/"
        },
        "outputId": "f74a2c3a-8d93-48c6-9d1e-a3d0d2a4c0ea"
      },
      "outputs": [
        {
          "output_type": "stream",
          "name": "stdout",
          "text": [
            "Accuracy entrenamiento: 86.68%\n",
            "Precisión  entrenamiento: 87.12%\n",
            "Recall  entrenamiento: 86.68%\n",
            "Puntuación F1  entrenamiento: 86.75%\n",
            "\n",
            "\n",
            "Accuracy  validación: 52.39%\n",
            "Precisión  validación: 52.05%\n",
            "Recall  validación: 52.39%\n",
            "Puntuación F1 validación: 52.13%\n"
          ]
        }
      ],
      "source": [
        "# Imprimir las métricas de entrenamiento\n",
        "print(f'Accuracy entrenamiento: {accuracy_train * 100:.2f}%')\n",
        "print(f'Precisión  entrenamiento: {precision_train * 100:.2f}%')\n",
        "print(f'Recall  entrenamiento: {recall_train * 100:.2f}%')\n",
        "print(f'Puntuación F1  entrenamiento: {f1_train * 100:.2f}%')\n",
        "print('\\n')\n",
        "# Imprimir las métricas de validación\n",
        "print(f'Accuracy  validación: {accuracy * 100:.2f}%')\n",
        "print(f'Precisión  validación: {precision* 100:.2f}%')\n",
        "print(f'Recall  validación: {recall* 100:.2f}%')\n",
        "print(f'Puntuación F1 validación: {f1 * 100:.2f}%')"
      ]
    },
    {
      "cell_type": "markdown",
      "metadata": {
        "id": "D5BWqH6iWjWS"
      },
      "source": [
        "# **Matriz de confusión**"
      ]
    },
    {
      "cell_type": "code",
      "execution_count": null,
      "metadata": {
        "id": "RHd0PFhKWjWw",
        "colab": {
          "base_uri": "https://localhost:8080/"
        },
        "outputId": "012c77fa-0bee-4639-e7bc-1114723449e2"
      },
      "outputs": [
        {
          "output_type": "stream",
          "name": "stdout",
          "text": [
            "Matriz de confusión: \n",
            "\n",
            " [[ 456  721  184]\n",
            " [ 573  633  196]\n",
            " [ 167  185 1140]] \n",
            "\n"
          ]
        }
      ],
      "source": [
        "from sklearn.metrics import confusion_matrix\n",
        "\n",
        "y_pred = random_forest_model.predict(X_val)\n",
        "\n",
        "#\n",
        "cm = confusion_matrix(y_val, y_pred)\n",
        "\n",
        "\n",
        "#\n",
        "prop_real = np.sum(y_val)/len(y_val)\n",
        "prop_etiqutados = (cm[0,1]+cm[1,1])/len(y_val)\n",
        "print(\"Matriz de confusión: \\n\\n\", cm, \"\\n\")"
      ]
    },
    {
      "cell_type": "code",
      "execution_count": null,
      "metadata": {
        "id": "Nb8FBs2hWjWx",
        "colab": {
          "base_uri": "https://localhost:8080/",
          "height": 570
        },
        "outputId": "4ce6dd7e-d460-4e33-a3e5-7ed6fa5ad752"
      },
      "outputs": [
        {
          "output_type": "display_data",
          "data": {
            "text/plain": [
              "<Figure size 800x600 with 2 Axes>"
            ],
            "image/png": "[encoded data removed]"
          },
          "metadata": {
            "image/png": {
              "width": 672,
              "height": 553
            }
          }
        }
      ],
      "source": [
        "import seaborn as sns\n",
        "import matplotlib.pyplot as plt\n",
        "\n",
        "# Definir etiquetas de las clases\n",
        "classes = ['Control', 'Depresión', 'Ansiedad']\n",
        "\n",
        "# Crear un mapa de calor de la matriz de confusión\n",
        "plt.figure(figsize=(8, 6))\n",
        "sns.heatmap(cm, annot=True, fmt='d', cmap='Blues', xticklabels=classes, yticklabels=classes)\n",
        "\n",
        "# Agregar etiquetas y título\n",
        "plt.xlabel('Clases Predichas')\n",
        "plt.ylabel('Clases Reales')\n",
        "plt.title('Matriz de Confusión')\n",
        "\n",
        "plt.show()"
      ]
    },
    {
      "cell_type": "markdown",
      "metadata": {
        "id": "tpe64XnkBjMZ"
      },
      "source": [
        "#Modelo SVM"
      ]
    },
    {
      "cell_type": "code",
      "execution_count": null,
      "metadata": {
        "id": "abWDh27ABtdx",
        "colab": {
          "base_uri": "https://localhost:8080/"
        },
        "outputId": "ef37b71b-9330-49b7-ef5e-bb28c91b67c6"
      },
      "outputs": [
        {
          "output_type": "stream",
          "name": "stdout",
          "text": [
            "\n",
            "Métricas en el conjunto de entrenamiento:\n",
            "Exactitud (entrenamiento): 38.36%\n",
            "Precisión (entrenamiento): 37.40%\n",
            "Recall (entrenamiento): 38.36%\n",
            "F1-score (entrenamiento): 36.93%\n",
            "----------------------------------------------------------------------------------------------------\n",
            "Exactitud en el conjunto de validación: 42.66%\n",
            "Precisión en el conjunto de validación: 41.87%\n",
            "Recall en el conjunto de validación: 42.66%\n",
            "F1-score en el conjunto de validación: 41.04%\n"
          ]
        }
      ],
      "source": [
        "from sklearn.svm import SVC\n",
        "\n",
        "\n",
        "# Crear un modelo SVM para clasificación multiclase con kernel polinómico\n",
        "svm_model_p =SVC(kernel='sigmoid', C=1000000,  degree=4, gamma='scale', coef0=1.5)\n",
        "\n",
        "# Entrenar el modelo en los datos de entrenamiento\n",
        "svm_model_p.fit(X_train, y_train)\n",
        "\n",
        "# Predecir etiquetas en el conjunto de validación\n",
        "y_val_pred = svm_model_p.predict(X_val)\n",
        "\n",
        "# Calcular las métricas en el conjunto de validación\n",
        "accuracy = accuracy_score(y_val, y_val_pred)\n",
        "precision = precision_score(y_val, y_val_pred, average='weighted')\n",
        "recall = recall_score(y_val, y_val_pred, average='weighted')\n",
        "f1 = f1_score(y_val, y_val_pred, average='weighted')\n",
        "\n",
        "# Calcular y mostrar métricas en el conjunto de entrenamiento\n",
        "y_train_pred = svm_model_p.predict(X_train)\n",
        "accuracy_train = accuracy_score(y_train, y_train_pred)\n",
        "precision_train = precision_score(y_train, y_train_pred, average='weighted')\n",
        "recall_train = recall_score(y_train, y_train_pred, average='weighted')\n",
        "f1_train = f1_score(y_train, y_train_pred, average='weighted')\n",
        "\n",
        "# Imprimir las métricas en el conjunto de entrenamiento\n",
        "print(\"\\nMétricas en el conjunto de entrenamiento:\")\n",
        "print(\"Exactitud (entrenamiento): {:.2%}\".format(accuracy_train))\n",
        "print(\"Precisión (entrenamiento): {:.2%}\".format(precision_train))\n",
        "print(\"Recall (entrenamiento): {:.2%}\".format(recall_train))\n",
        "print(\"F1-score (entrenamiento): {:.2%}\".format(f1_train))\n",
        "print('--'*50)\n",
        "# Imprimir las métricas en el conjunto de validación\n",
        "print(\"Exactitud en el conjunto de validación: {:.2%}\".format(accuracy))\n",
        "print(\"Precisión en el conjunto de validación: {:.2%}\".format(precision))\n",
        "print(\"Recall en el conjunto de validación: {:.2%}\".format(recall))\n",
        "print(\"F1-score en el conjunto de validación: {:.2%}\".format(f1))\n"
      ]
    },
    {
      "cell_type": "markdown",
      "metadata": {
        "id": "4PDz1vd4Wri3"
      },
      "source": [
        "# **Matriz de confusión**"
      ]
    },
    {
      "cell_type": "code",
      "execution_count": null,
      "metadata": {
        "id": "U0EO1C9LWrjI",
        "colab": {
          "base_uri": "https://localhost:8080/"
        },
        "outputId": "8fdd9279-647f-4a32-ab44-f77590deae91"
      },
      "outputs": [
        {
          "output_type": "stream",
          "name": "stdout",
          "text": [
            "Matriz de confusión: \n",
            "\n",
            " [[528 305 528]\n",
            " [534 328 540]\n",
            " [360 173 959]] \n",
            "\n"
          ]
        }
      ],
      "source": [
        "from sklearn.metrics import confusion_matrix\n",
        "\n",
        "y_pred = svm_model_p.predict(X_val)\n",
        "\n",
        "#\n",
        "cm = confusion_matrix(y_val, y_pred)\n",
        "\n",
        "\n",
        "#\n",
        "prop_real = np.sum(y_val)/len(y_val)\n",
        "prop_etiqutados = (cm[0,1]+cm[1,1])/len(y_val)\n",
        "print(\"Matriz de confusión: \\n\\n\", cm, \"\\n\")"
      ]
    },
    {
      "cell_type": "code",
      "execution_count": null,
      "metadata": {
        "id": "kwscoNQeWrjJ",
        "colab": {
          "base_uri": "https://localhost:8080/",
          "height": 570
        },
        "outputId": "a2621252-c4b1-47f8-fca7-88b6b44a7165"
      },
      "outputs": [
        {
          "output_type": "display_data",
          "data": {
            "text/plain": [
              "<Figure size 800x600 with 2 Axes>"
            ],
            "image/png": "[encoded data removed]"
          },
          "metadata": {
            "image/png": {
              "width": 662,
              "height": 553
            }
          }
        }
      ],
      "source": [
        "import seaborn as sns\n",
        "import matplotlib.pyplot as plt\n",
        "\n",
        "# Definir etiquetas de las clases\n",
        "classes = ['Control', 'Depresión', 'Ansiedad']\n",
        "\n",
        "# Crear un mapa de calor de la matriz de confusión\n",
        "plt.figure(figsize=(8, 6))\n",
        "sns.heatmap(cm, annot=True, fmt='d', cmap='Blues', xticklabels=classes, yticklabels=classes)\n",
        "\n",
        "# Agregar etiquetas y título\n",
        "plt.xlabel('Clases Predichas')\n",
        "plt.ylabel('Clases Reales')\n",
        "plt.title('Matriz de Confusión')\n",
        "\n",
        "plt.show()"
      ]
    }
  ],
  "metadata": {
    "colab": {
      "provenance": [],
      "mount_file_id": "10dsbtlkgRBs3gcqL-nmAJ2x1MPiRJK8m",
      "authorship_tag": "ABX9TyPAAA6pLJzHizRm6Vwlbbmd"
    },
    "kernelspec": {
      "display_name": "Python 3",
      "name": "python3"
    },
    "language_info": {
      "name": "python"
    }
  },
  "nbformat": 4,
  "nbformat_minor": 0
}
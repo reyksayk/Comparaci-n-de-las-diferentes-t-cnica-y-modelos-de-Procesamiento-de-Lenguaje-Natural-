{
  "cells": [
    {
      "cell_type": "code",
      "execution_count": null,
      "metadata": {
        "id": "9yavBXdyiEWh"
      },
      "outputs": [],
      "source": [
        "!pip install nltk\n",
        "!pip install spacy\n",
        "!python -m spacy download es_core_news_sm\n",
        "!pip install -U imbalanced-learn\n",
        "!pip install pyspellchecker"
      ]
    },
    {
      "cell_type": "code",
      "execution_count": null,
      "metadata": {
        "id": "1uRSa1LYb7SG"
      },
      "outputs": [],
      "source": [
        "import pandas as pd\n",
        "import numpy as np\n",
        "\n",
        "import matplotlib.pyplot as plt\n",
        "import seaborn as sns; sns.set()\n",
        "%config InlineBackend.figure_format = 'retina'\n",
        "%matplotlib inline\n",
        "\n",
        "# Oculta warnings\n",
        "import warnings\n",
        "warnings.simplefilter('ignore')"
      ]
    },
    {
      "cell_type": "code",
      "execution_count": null,
      "metadata": {
        "colab": {
          "base_uri": "https://localhost:8080/",
          "height": 17
        },
        "id": "hzPoe11ed1Cn",
        "outputId": "fac1226a-d329-4554-8ea9-53e32434e253"
      },
      "outputs": [
        {
          "output_type": "display_data",
          "data": {
            "text/plain": [
              "<IPython.core.display.HTML object>"
            ],
            "text/html": [
              "<style>.container { width:95% !important; }</style>"
            ]
          },
          "metadata": {}
        }
      ],
      "source": [
        "from IPython.core.display import display, HTML\n",
        "display(HTML(\"<style>.container { width:95% !important; }</style>\"))"
      ]
    },
    {
      "cell_type": "markdown",
      "metadata": {
        "id": "CLArw93weAlq"
      },
      "source": [
        "# CARGAR DATOS"
      ]
    },
    {
      "cell_type": "markdown",
      "metadata": {
        "id": "B499esgwety5"
      },
      "source": [
        "**DATOS DE ENTRENAMIENTO**\n",
        "\n",
        "la columna de trastornos indica si el TWEET es de una persona con depresión o es de control.\n",
        "\n",
        "\n",
        "**control**:     0\n",
        "\n",
        "**depresión**:   1\n",
        "\n",
        "**ansiedad** :   2\n",
        "\n"
      ]
    },
    {
      "cell_type": "code",
      "execution_count": null,
      "metadata": {
        "colab": {
          "base_uri": "https://localhost:8080/",
          "height": 570
        },
        "id": "O7T2rh8Md6p2",
        "outputId": "0f5beceb-e0f6-4c7e-9cb3-28e26b0aa19b"
      },
      "outputs": [
        {
          "output_type": "stream",
          "name": "stdout",
          "text": [
            "<class 'pandas.core.frame.DataFrame'>\n",
            "RangeIndex: 97543 entries, 0 to 97542\n",
            "Data columns (total 4 columns):\n",
            " #   Column      Non-Null Count  Dtype  \n",
            "---  ------      --------------  -----  \n",
            " 0   USER_ID     65054 non-null  object \n",
            " 1   TWEET_ID    64990 non-null  float64\n",
            " 2   TWEET_TEXT  97479 non-null  object \n",
            " 3   trastorno   97543 non-null  int64  \n",
            "dtypes: float64(1), int64(1), object(2)\n",
            "memory usage: 3.0+ MB\n"
          ]
        },
        {
          "output_type": "execute_result",
          "data": {
            "text/plain": [
              "  USER_ID      TWEET_ID                                         TWEET_TEXT  \\\n",
              "0      47  2.147484e+09  RT @FraRocanroleras: Te estás destruyendo y lo...   \n",
              "1       6  2.147484e+09  No sé cómo estar sin ti pero tampoco sé cómo e...   \n",
              "2     NaN           NaN   Me pregunto por qué últimamente no me siento ...   \n",
              "3     NaN           NaN   Mi ansiedad en torno a toda esta enfermedad s...   \n",
              "4     NaN           NaN  Esto ha estado en mi mente bastante durante lo...   \n",
              "5     NaN           NaN  ¿Necesitas algunas ideas? Este canal es maravi...   \n",
              "6      31  2.147484e+09  Intenté decir algo pero no pude,sólo quedé con...   \n",
              "7      27  2.147484e+09  tumblrbot ha preguntado: ROBOTS OR DINOSAURS? ...   \n",
              "8      49  2.147484e+09  El smirnoff es la bebida mas traicionera que e...   \n",
              "9      36  2.147484e+09  ¿Por qué mis primas son delgadas y tan hermosa...   \n",
              "\n",
              "   trastorno  \n",
              "0          1  \n",
              "1          0  \n",
              "2          2  \n",
              "3          2  \n",
              "4          2  \n",
              "5          2  \n",
              "6          0  \n",
              "7          1  \n",
              "8          1  \n",
              "9          0  "
            ],
            "text/html": [
              "\n",
              "  <div id=\"df-0dbbbe19-3e8d-426c-9249-e45cf949007b\" class=\"colab-df-container\">\n",
              "    <div>\n",
              "<style scoped>\n",
              "    .dataframe tbody tr th:only-of-type {\n",
              "        vertical-align: middle;\n",
              "    }\n",
              "\n",
              "    .dataframe tbody tr th {\n",
              "        vertical-align: top;\n",
              "    }\n",
              "\n",
              "    .dataframe thead th {\n",
              "        text-align: right;\n",
              "    }\n",
              "</style>\n",
              "<table border=\"1\" class=\"dataframe\">\n",
              "  <thead>\n",
              "    <tr style=\"text-align: right;\">\n",
              "      <th></th>\n",
              "      <th>USER_ID</th>\n",
              "      <th>TWEET_ID</th>\n",
              "      <th>TWEET_TEXT</th>\n",
              "      <th>trastorno</th>\n",
              "    </tr>\n",
              "  </thead>\n",
              "  <tbody>\n",
              "    <tr>\n",
              "      <th>0</th>\n",
              "      <td>47</td>\n",
              "      <td>2.147484e+09</td>\n",
              "      <td>RT @FraRocanroleras: Te estás destruyendo y lo...</td>\n",
              "      <td>1</td>\n",
              "    </tr>\n",
              "    <tr>\n",
              "      <th>1</th>\n",
              "      <td>6</td>\n",
              "      <td>2.147484e+09</td>\n",
              "      <td>No sé cómo estar sin ti pero tampoco sé cómo e...</td>\n",
              "      <td>0</td>\n",
              "    </tr>\n",
              "    <tr>\n",
              "      <th>2</th>\n",
              "      <td>NaN</td>\n",
              "      <td>NaN</td>\n",
              "      <td>Me pregunto por qué últimamente no me siento ...</td>\n",
              "      <td>2</td>\n",
              "    </tr>\n",
              "    <tr>\n",
              "      <th>3</th>\n",
              "      <td>NaN</td>\n",
              "      <td>NaN</td>\n",
              "      <td>Mi ansiedad en torno a toda esta enfermedad s...</td>\n",
              "      <td>2</td>\n",
              "    </tr>\n",
              "    <tr>\n",
              "      <th>4</th>\n",
              "      <td>NaN</td>\n",
              "      <td>NaN</td>\n",
              "      <td>Esto ha estado en mi mente bastante durante lo...</td>\n",
              "      <td>2</td>\n",
              "    </tr>\n",
              "    <tr>\n",
              "      <th>5</th>\n",
              "      <td>NaN</td>\n",
              "      <td>NaN</td>\n",
              "      <td>¿Necesitas algunas ideas? Este canal es maravi...</td>\n",
              "      <td>2</td>\n",
              "    </tr>\n",
              "    <tr>\n",
              "      <th>6</th>\n",
              "      <td>31</td>\n",
              "      <td>2.147484e+09</td>\n",
              "      <td>Intenté decir algo pero no pude,sólo quedé con...</td>\n",
              "      <td>0</td>\n",
              "    </tr>\n",
              "    <tr>\n",
              "      <th>7</th>\n",
              "      <td>27</td>\n",
              "      <td>2.147484e+09</td>\n",
              "      <td>tumblrbot ha preguntado: ROBOTS OR DINOSAURS? ...</td>\n",
              "      <td>1</td>\n",
              "    </tr>\n",
              "    <tr>\n",
              "      <th>8</th>\n",
              "      <td>49</td>\n",
              "      <td>2.147484e+09</td>\n",
              "      <td>El smirnoff es la bebida mas traicionera que e...</td>\n",
              "      <td>1</td>\n",
              "    </tr>\n",
              "    <tr>\n",
              "      <th>9</th>\n",
              "      <td>36</td>\n",
              "      <td>2.147484e+09</td>\n",
              "      <td>¿Por qué mis primas son delgadas y tan hermosa...</td>\n",
              "      <td>0</td>\n",
              "    </tr>\n",
              "  </tbody>\n",
              "</table>\n",
              "</div>\n",
              "    <div class=\"colab-df-buttons\">\n",
              "\n",
              "  <div class=\"colab-df-container\">\n",
              "    <button class=\"colab-df-convert\" onclick=\"convertToInteractive('df-0dbbbe19-3e8d-426c-9249-e45cf949007b')\"\n",
              "            title=\"Convert this dataframe to an interactive table.\"\n",
              "            style=\"display:none;\">\n",
              "\n",
              "  <svg xmlns=\"http://www.w3.org/2000/svg\" height=\"24px\" viewBox=\"0 -960 960 960\">\n",
              "    <path d=\"M120-120v-720h720v720H120Zm60-500h600v-160H180v160Zm220 220h160v-160H400v160Zm0 220h160v-160H400v160ZM180-400h160v-160H180v160Zm440 0h160v-160H620v160ZM180-180h160v-160H180v160Zm440 0h160v-160H620v160Z\"/>\n",
              "  </svg>\n",
              "    </button>\n",
              "\n",
              "  <style>\n",
              "    .colab-df-container {\n",
              "      display:flex;\n",
              "      gap: 12px;\n",
              "    }\n",
              "\n",
              "    .colab-df-convert {\n",
              "      background-color: #E8F0FE;\n",
              "      border: none;\n",
              "      border-radius: 50%;\n",
              "      cursor: pointer;\n",
              "      display: none;\n",
              "      fill: #1967D2;\n",
              "      height: 32px;\n",
              "      padding: 0 0 0 0;\n",
              "      width: 32px;\n",
              "    }\n",
              "\n",
              "    .colab-df-convert:hover {\n",
              "      background-color: #E2EBFA;\n",
              "      box-shadow: 0px 1px 2px rgba(60, 64, 67, 0.3), 0px 1px 3px 1px rgba(60, 64, 67, 0.15);\n",
              "      fill: #174EA6;\n",
              "    }\n",
              "\n",
              "    .colab-df-buttons div {\n",
              "      margin-bottom: 4px;\n",
              "    }\n",
              "\n",
              "    [theme=dark] .colab-df-convert {\n",
              "      background-color: #3B4455;\n",
              "      fill: #D2E3FC;\n",
              "    }\n",
              "\n",
              "    [theme=dark] .colab-df-convert:hover {\n",
              "      background-color: #434B5C;\n",
              "      box-shadow: 0px 1px 3px 1px rgba(0, 0, 0, 0.15);\n",
              "      filter: drop-shadow(0px 1px 2px rgba(0, 0, 0, 0.3));\n",
              "      fill: #FFFFFF;\n",
              "    }\n",
              "  </style>\n",
              "\n",
              "    <script>\n",
              "      const buttonEl =\n",
              "        document.querySelector('#df-0dbbbe19-3e8d-426c-9249-e45cf949007b button.colab-df-convert');\n",
              "      buttonEl.style.display =\n",
              "        google.colab.kernel.accessAllowed ? 'block' : 'none';\n",
              "\n",
              "      async function convertToInteractive(key) {\n",
              "        const element = document.querySelector('#df-0dbbbe19-3e8d-426c-9249-e45cf949007b');\n",
              "        const dataTable =\n",
              "          await google.colab.kernel.invokeFunction('convertToInteractive',\n",
              "                                                    [key], {});\n",
              "        if (!dataTable) return;\n",
              "\n",
              "        const docLinkHtml = 'Like what you see? Visit the ' +\n",
              "          '<a target=\"_blank\" href=https://colab.research.google.com/notebooks/data_table.ipynb>data table notebook</a>'\n",
              "          + ' to learn more about interactive tables.';\n",
              "        element.innerHTML = '';\n",
              "        dataTable['output_type'] = 'display_data';\n",
              "        await google.colab.output.renderOutput(dataTable, element);\n",
              "        const docLink = document.createElement('div');\n",
              "        docLink.innerHTML = docLinkHtml;\n",
              "        element.appendChild(docLink);\n",
              "      }\n",
              "    </script>\n",
              "  </div>\n",
              "\n",
              "\n",
              "<div id=\"df-aa2f5833-ab3f-456e-9d5a-2b9fb65865d0\">\n",
              "  <button class=\"colab-df-quickchart\" onclick=\"quickchart('df-aa2f5833-ab3f-456e-9d5a-2b9fb65865d0')\"\n",
              "            title=\"Suggest charts.\"\n",
              "            style=\"display:none;\">\n",
              "\n",
              "<svg xmlns=\"http://www.w3.org/2000/svg\" height=\"24px\"viewBox=\"0 0 24 24\"\n",
              "     width=\"24px\">\n",
              "    <g>\n",
              "        <path d=\"M19 3H5c-1.1 0-2 .9-2 2v14c0 1.1.9 2 2 2h14c1.1 0 2-.9 2-2V5c0-1.1-.9-2-2-2zM9 17H7v-7h2v7zm4 0h-2V7h2v10zm4 0h-2v-4h2v4z\"/>\n",
              "    </g>\n",
              "</svg>\n",
              "  </button>\n",
              "\n",
              "<style>\n",
              "  .colab-df-quickchart {\n",
              "      --bg-color: #E8F0FE;\n",
              "      --fill-color: #1967D2;\n",
              "      --hover-bg-color: #E2EBFA;\n",
              "      --hover-fill-color: #174EA6;\n",
              "      --disabled-fill-color: #AAA;\n",
              "      --disabled-bg-color: #DDD;\n",
              "  }\n",
              "\n",
              "  [theme=dark] .colab-df-quickchart {\n",
              "      --bg-color: #3B4455;\n",
              "      --fill-color: #D2E3FC;\n",
              "      --hover-bg-color: #434B5C;\n",
              "      --hover-fill-color: #FFFFFF;\n",
              "      --disabled-bg-color: #3B4455;\n",
              "      --disabled-fill-color: #666;\n",
              "  }\n",
              "\n",
              "  .colab-df-quickchart {\n",
              "    background-color: var(--bg-color);\n",
              "    border: none;\n",
              "    border-radius: 50%;\n",
              "    cursor: pointer;\n",
              "    display: none;\n",
              "    fill: var(--fill-color);\n",
              "    height: 32px;\n",
              "    padding: 0;\n",
              "    width: 32px;\n",
              "  }\n",
              "\n",
              "  .colab-df-quickchart:hover {\n",
              "    background-color: var(--hover-bg-color);\n",
              "    box-shadow: 0 1px 2px rgba(60, 64, 67, 0.3), 0 1px 3px 1px rgba(60, 64, 67, 0.15);\n",
              "    fill: var(--button-hover-fill-color);\n",
              "  }\n",
              "\n",
              "  .colab-df-quickchart-complete:disabled,\n",
              "  .colab-df-quickchart-complete:disabled:hover {\n",
              "    background-color: var(--disabled-bg-color);\n",
              "    fill: var(--disabled-fill-color);\n",
              "    box-shadow: none;\n",
              "  }\n",
              "\n",
              "  .colab-df-spinner {\n",
              "    border: 2px solid var(--fill-color);\n",
              "    border-color: transparent;\n",
              "    border-bottom-color: var(--fill-color);\n",
              "    animation:\n",
              "      spin 1s steps(1) infinite;\n",
              "  }\n",
              "\n",
              "  @keyframes spin {\n",
              "    0% {\n",
              "      border-color: transparent;\n",
              "      border-bottom-color: var(--fill-color);\n",
              "      border-left-color: var(--fill-color);\n",
              "    }\n",
              "    20% {\n",
              "      border-color: transparent;\n",
              "      border-left-color: var(--fill-color);\n",
              "      border-top-color: var(--fill-color);\n",
              "    }\n",
              "    30% {\n",
              "      border-color: transparent;\n",
              "      border-left-color: var(--fill-color);\n",
              "      border-top-color: var(--fill-color);\n",
              "      border-right-color: var(--fill-color);\n",
              "    }\n",
              "    40% {\n",
              "      border-color: transparent;\n",
              "      border-right-color: var(--fill-color);\n",
              "      border-top-color: var(--fill-color);\n",
              "    }\n",
              "    60% {\n",
              "      border-color: transparent;\n",
              "      border-right-color: var(--fill-color);\n",
              "    }\n",
              "    80% {\n",
              "      border-color: transparent;\n",
              "      border-right-color: var(--fill-color);\n",
              "      border-bottom-color: var(--fill-color);\n",
              "    }\n",
              "    90% {\n",
              "      border-color: transparent;\n",
              "      border-bottom-color: var(--fill-color);\n",
              "    }\n",
              "  }\n",
              "</style>\n",
              "\n",
              "  <script>\n",
              "    async function quickchart(key) {\n",
              "      const quickchartButtonEl =\n",
              "        document.querySelector('#' + key + ' button');\n",
              "      quickchartButtonEl.disabled = true;  // To prevent multiple clicks.\n",
              "      quickchartButtonEl.classList.add('colab-df-spinner');\n",
              "      try {\n",
              "        const charts = await google.colab.kernel.invokeFunction(\n",
              "            'suggestCharts', [key], {});\n",
              "      } catch (error) {\n",
              "        console.error('Error during call to suggestCharts:', error);\n",
              "      }\n",
              "      quickchartButtonEl.classList.remove('colab-df-spinner');\n",
              "      quickchartButtonEl.classList.add('colab-df-quickchart-complete');\n",
              "    }\n",
              "    (() => {\n",
              "      let quickchartButtonEl =\n",
              "        document.querySelector('#df-aa2f5833-ab3f-456e-9d5a-2b9fb65865d0 button');\n",
              "      quickchartButtonEl.style.display =\n",
              "        google.colab.kernel.accessAllowed ? 'block' : 'none';\n",
              "    })();\n",
              "  </script>\n",
              "</div>\n",
              "    </div>\n",
              "  </div>\n"
            ]
          },
          "metadata": {},
          "execution_count": 4
        }
      ],
      "source": [
        "ruta_archivo_entrenamiento = '/content/drive/MyDrive/Experimentación Python Tesis /Data: A D C/train.csv'\n",
        "data_train = pd.read_csv(ruta_archivo_entrenamiento, sep=',')\n",
        "#data_train = data.iloc[:num_docs, :]\n",
        "data_train.info()\n",
        "data_train.head(10)"
      ]
    },
    {
      "cell_type": "code",
      "execution_count": null,
      "metadata": {
        "colab": {
          "base_uri": "https://localhost:8080/"
        },
        "id": "U3yu15xZSi3G",
        "outputId": "3c56a040-0765-42ba-9248-70c9e3e2de15"
      },
      "outputs": [
        {
          "output_type": "stream",
          "name": "stdout",
          "text": [
            "Número de filas nulas o vacías en la columna 'trastorno': 64\n"
          ]
        }
      ],
      "source": [
        "# Verificar si hay filas nulas o vacías en la columna 'TWEET_TEXT'\n",
        "null_values = data_train['TWEET_TEXT'].isnull().sum()\n",
        "\n",
        "# Imprimir el número de filas nulas o vacías\n",
        "print(\"Número de filas nulas o vacías en la columna 'TWEET_TEXT':\", null_values)"
      ]
    },
    {
      "cell_type": "code",
      "source": [
        "data_train.dropna(subset=['TWEET_TEXT'], inplace=True)\n",
        "\n",
        "# Verificar si hay filas nulas o vacías en la columna 'TWEET_TEXT'\n",
        "null_values = data_train['TWEET_TEXT'].isnull().sum()\n",
        "\n",
        "# Imprimir el número de filas nulas o vacías\n",
        "print(\"Número de filas nulas o vacías en la columna 'TWEET_TEXT':\", null_values)\n",
        "data_train.info()"
      ],
      "metadata": {
        "colab": {
          "base_uri": "https://localhost:8080/"
        },
        "id": "lgoQsaRoOVic",
        "outputId": "4ddb5fb0-0e8c-4643-8d1a-4b653f81621a"
      },
      "execution_count": null,
      "outputs": [
        {
          "output_type": "stream",
          "name": "stdout",
          "text": [
            "Número de filas nulas o vacías en la columna 'TWEET_TEXT': 0\n",
            "<class 'pandas.core.frame.DataFrame'>\n",
            "Int64Index: 97479 entries, 0 to 97542\n",
            "Data columns (total 4 columns):\n",
            " #   Column      Non-Null Count  Dtype  \n",
            "---  ------      --------------  -----  \n",
            " 0   USER_ID     64990 non-null  object \n",
            " 1   TWEET_ID    64990 non-null  float64\n",
            " 2   TWEET_TEXT  97479 non-null  object \n",
            " 3   trastorno   97479 non-null  int64  \n",
            "dtypes: float64(1), int64(1), object(2)\n",
            "memory usage: 3.7+ MB\n"
          ]
        }
      ]
    },
    {
      "cell_type": "markdown",
      "metadata": {
        "id": "UHPt8Wqcfk6m"
      },
      "source": [
        "**DATOS DE PRUEBA**"
      ]
    },
    {
      "cell_type": "code",
      "execution_count": null,
      "metadata": {
        "colab": {
          "base_uri": "https://localhost:8080/",
          "height": 414
        },
        "id": "pKQ6-Kisfa1r",
        "outputId": "7ce30110-b720-48b3-bb61-720f265d5ce7"
      },
      "outputs": [
        {
          "output_type": "stream",
          "name": "stdout",
          "text": [
            "<class 'pandas.core.frame.DataFrame'>\n",
            "RangeIndex: 41805 entries, 0 to 41804\n",
            "Data columns (total 4 columns):\n",
            " #   Column      Non-Null Count  Dtype  \n",
            "---  ------      --------------  -----  \n",
            " 0   USER_ID     27874 non-null  object \n",
            " 1   TWEET_ID    27850 non-null  float64\n",
            " 2   TWEET_TEXT  41781 non-null  object \n",
            " 3   trastorno   41805 non-null  int64  \n",
            "dtypes: float64(1), int64(1), object(2)\n",
            "memory usage: 1.3+ MB\n"
          ]
        },
        {
          "output_type": "execute_result",
          "data": {
            "text/plain": [
              "  USER_ID      TWEET_ID                                         TWEET_TEXT  \\\n",
              "0      17  2.147484e+09  RT @_badcatt: Necesito una electiva que me ens...   \n",
              "1      32  2.147484e+09  Mañana empiezo mi primera clase de danza y no ...   \n",
              "2      69  2.147484e+09  RT @StxpidFat: Vivo ilusionandome con cosas qu...   \n",
              "3      48  2.147484e+09                                        me quda poc   \n",
              "4     NaN           NaN  3600.0, eso es algo como investigar, eventualm...   \n",
              "\n",
              "   trastorno  \n",
              "0          0  \n",
              "1          0  \n",
              "2          0  \n",
              "3          1  \n",
              "4          2  "
            ],
            "text/html": [
              "\n",
              "  <div id=\"df-8e0544f5-c7f9-4cf8-a785-38e38c181577\" class=\"colab-df-container\">\n",
              "    <div>\n",
              "<style scoped>\n",
              "    .dataframe tbody tr th:only-of-type {\n",
              "        vertical-align: middle;\n",
              "    }\n",
              "\n",
              "    .dataframe tbody tr th {\n",
              "        vertical-align: top;\n",
              "    }\n",
              "\n",
              "    .dataframe thead th {\n",
              "        text-align: right;\n",
              "    }\n",
              "</style>\n",
              "<table border=\"1\" class=\"dataframe\">\n",
              "  <thead>\n",
              "    <tr style=\"text-align: right;\">\n",
              "      <th></th>\n",
              "      <th>USER_ID</th>\n",
              "      <th>TWEET_ID</th>\n",
              "      <th>TWEET_TEXT</th>\n",
              "      <th>trastorno</th>\n",
              "    </tr>\n",
              "  </thead>\n",
              "  <tbody>\n",
              "    <tr>\n",
              "      <th>0</th>\n",
              "      <td>17</td>\n",
              "      <td>2.147484e+09</td>\n",
              "      <td>RT @_badcatt: Necesito una electiva que me ens...</td>\n",
              "      <td>0</td>\n",
              "    </tr>\n",
              "    <tr>\n",
              "      <th>1</th>\n",
              "      <td>32</td>\n",
              "      <td>2.147484e+09</td>\n",
              "      <td>Mañana empiezo mi primera clase de danza y no ...</td>\n",
              "      <td>0</td>\n",
              "    </tr>\n",
              "    <tr>\n",
              "      <th>2</th>\n",
              "      <td>69</td>\n",
              "      <td>2.147484e+09</td>\n",
              "      <td>RT @StxpidFat: Vivo ilusionandome con cosas qu...</td>\n",
              "      <td>0</td>\n",
              "    </tr>\n",
              "    <tr>\n",
              "      <th>3</th>\n",
              "      <td>48</td>\n",
              "      <td>2.147484e+09</td>\n",
              "      <td>me quda poc</td>\n",
              "      <td>1</td>\n",
              "    </tr>\n",
              "    <tr>\n",
              "      <th>4</th>\n",
              "      <td>NaN</td>\n",
              "      <td>NaN</td>\n",
              "      <td>3600.0, eso es algo como investigar, eventualm...</td>\n",
              "      <td>2</td>\n",
              "    </tr>\n",
              "  </tbody>\n",
              "</table>\n",
              "</div>\n",
              "    <div class=\"colab-df-buttons\">\n",
              "\n",
              "  <div class=\"colab-df-container\">\n",
              "    <button class=\"colab-df-convert\" onclick=\"convertToInteractive('df-8e0544f5-c7f9-4cf8-a785-38e38c181577')\"\n",
              "            title=\"Convert this dataframe to an interactive table.\"\n",
              "            style=\"display:none;\">\n",
              "\n",
              "  <svg xmlns=\"http://www.w3.org/2000/svg\" height=\"24px\" viewBox=\"0 -960 960 960\">\n",
              "    <path d=\"M120-120v-720h720v720H120Zm60-500h600v-160H180v160Zm220 220h160v-160H400v160Zm0 220h160v-160H400v160ZM180-400h160v-160H180v160Zm440 0h160v-160H620v160ZM180-180h160v-160H180v160Zm440 0h160v-160H620v160Z\"/>\n",
              "  </svg>\n",
              "    </button>\n",
              "\n",
              "  <style>\n",
              "    .colab-df-container {\n",
              "      display:flex;\n",
              "      gap: 12px;\n",
              "    }\n",
              "\n",
              "    .colab-df-convert {\n",
              "      background-color: #E8F0FE;\n",
              "      border: none;\n",
              "      border-radius: 50%;\n",
              "      cursor: pointer;\n",
              "      display: none;\n",
              "      fill: #1967D2;\n",
              "      height: 32px;\n",
              "      padding: 0 0 0 0;\n",
              "      width: 32px;\n",
              "    }\n",
              "\n",
              "    .colab-df-convert:hover {\n",
              "      background-color: #E2EBFA;\n",
              "      box-shadow: 0px 1px 2px rgba(60, 64, 67, 0.3), 0px 1px 3px 1px rgba(60, 64, 67, 0.15);\n",
              "      fill: #174EA6;\n",
              "    }\n",
              "\n",
              "    .colab-df-buttons div {\n",
              "      margin-bottom: 4px;\n",
              "    }\n",
              "\n",
              "    [theme=dark] .colab-df-convert {\n",
              "      background-color: #3B4455;\n",
              "      fill: #D2E3FC;\n",
              "    }\n",
              "\n",
              "    [theme=dark] .colab-df-convert:hover {\n",
              "      background-color: #434B5C;\n",
              "      box-shadow: 0px 1px 3px 1px rgba(0, 0, 0, 0.15);\n",
              "      filter: drop-shadow(0px 1px 2px rgba(0, 0, 0, 0.3));\n",
              "      fill: #FFFFFF;\n",
              "    }\n",
              "  </style>\n",
              "\n",
              "    <script>\n",
              "      const buttonEl =\n",
              "        document.querySelector('#df-8e0544f5-c7f9-4cf8-a785-38e38c181577 button.colab-df-convert');\n",
              "      buttonEl.style.display =\n",
              "        google.colab.kernel.accessAllowed ? 'block' : 'none';\n",
              "\n",
              "      async function convertToInteractive(key) {\n",
              "        const element = document.querySelector('#df-8e0544f5-c7f9-4cf8-a785-38e38c181577');\n",
              "        const dataTable =\n",
              "          await google.colab.kernel.invokeFunction('convertToInteractive',\n",
              "                                                    [key], {});\n",
              "        if (!dataTable) return;\n",
              "\n",
              "        const docLinkHtml = 'Like what you see? Visit the ' +\n",
              "          '<a target=\"_blank\" href=https://colab.research.google.com/notebooks/data_table.ipynb>data table notebook</a>'\n",
              "          + ' to learn more about interactive tables.';\n",
              "        element.innerHTML = '';\n",
              "        dataTable['output_type'] = 'display_data';\n",
              "        await google.colab.output.renderOutput(dataTable, element);\n",
              "        const docLink = document.createElement('div');\n",
              "        docLink.innerHTML = docLinkHtml;\n",
              "        element.appendChild(docLink);\n",
              "      }\n",
              "    </script>\n",
              "  </div>\n",
              "\n",
              "\n",
              "<div id=\"df-8855817e-a8bc-4b72-81d4-a0fc81497e8b\">\n",
              "  <button class=\"colab-df-quickchart\" onclick=\"quickchart('df-8855817e-a8bc-4b72-81d4-a0fc81497e8b')\"\n",
              "            title=\"Suggest charts.\"\n",
              "            style=\"display:none;\">\n",
              "\n",
              "<svg xmlns=\"http://www.w3.org/2000/svg\" height=\"24px\"viewBox=\"0 0 24 24\"\n",
              "     width=\"24px\">\n",
              "    <g>\n",
              "        <path d=\"M19 3H5c-1.1 0-2 .9-2 2v14c0 1.1.9 2 2 2h14c1.1 0 2-.9 2-2V5c0-1.1-.9-2-2-2zM9 17H7v-7h2v7zm4 0h-2V7h2v10zm4 0h-2v-4h2v4z\"/>\n",
              "    </g>\n",
              "</svg>\n",
              "  </button>\n",
              "\n",
              "<style>\n",
              "  .colab-df-quickchart {\n",
              "      --bg-color: #E8F0FE;\n",
              "      --fill-color: #1967D2;\n",
              "      --hover-bg-color: #E2EBFA;\n",
              "      --hover-fill-color: #174EA6;\n",
              "      --disabled-fill-color: #AAA;\n",
              "      --disabled-bg-color: #DDD;\n",
              "  }\n",
              "\n",
              "  [theme=dark] .colab-df-quickchart {\n",
              "      --bg-color: #3B4455;\n",
              "      --fill-color: #D2E3FC;\n",
              "      --hover-bg-color: #434B5C;\n",
              "      --hover-fill-color: #FFFFFF;\n",
              "      --disabled-bg-color: #3B4455;\n",
              "      --disabled-fill-color: #666;\n",
              "  }\n",
              "\n",
              "  .colab-df-quickchart {\n",
              "    background-color: var(--bg-color);\n",
              "    border: none;\n",
              "    border-radius: 50%;\n",
              "    cursor: pointer;\n",
              "    display: none;\n",
              "    fill: var(--fill-color);\n",
              "    height: 32px;\n",
              "    padding: 0;\n",
              "    width: 32px;\n",
              "  }\n",
              "\n",
              "  .colab-df-quickchart:hover {\n",
              "    background-color: var(--hover-bg-color);\n",
              "    box-shadow: 0 1px 2px rgba(60, 64, 67, 0.3), 0 1px 3px 1px rgba(60, 64, 67, 0.15);\n",
              "    fill: var(--button-hover-fill-color);\n",
              "  }\n",
              "\n",
              "  .colab-df-quickchart-complete:disabled,\n",
              "  .colab-df-quickchart-complete:disabled:hover {\n",
              "    background-color: var(--disabled-bg-color);\n",
              "    fill: var(--disabled-fill-color);\n",
              "    box-shadow: none;\n",
              "  }\n",
              "\n",
              "  .colab-df-spinner {\n",
              "    border: 2px solid var(--fill-color);\n",
              "    border-color: transparent;\n",
              "    border-bottom-color: var(--fill-color);\n",
              "    animation:\n",
              "      spin 1s steps(1) infinite;\n",
              "  }\n",
              "\n",
              "  @keyframes spin {\n",
              "    0% {\n",
              "      border-color: transparent;\n",
              "      border-bottom-color: var(--fill-color);\n",
              "      border-left-color: var(--fill-color);\n",
              "    }\n",
              "    20% {\n",
              "      border-color: transparent;\n",
              "      border-left-color: var(--fill-color);\n",
              "      border-top-color: var(--fill-color);\n",
              "    }\n",
              "    30% {\n",
              "      border-color: transparent;\n",
              "      border-left-color: var(--fill-color);\n",
              "      border-top-color: var(--fill-color);\n",
              "      border-right-color: var(--fill-color);\n",
              "    }\n",
              "    40% {\n",
              "      border-color: transparent;\n",
              "      border-right-color: var(--fill-color);\n",
              "      border-top-color: var(--fill-color);\n",
              "    }\n",
              "    60% {\n",
              "      border-color: transparent;\n",
              "      border-right-color: var(--fill-color);\n",
              "    }\n",
              "    80% {\n",
              "      border-color: transparent;\n",
              "      border-right-color: var(--fill-color);\n",
              "      border-bottom-color: var(--fill-color);\n",
              "    }\n",
              "    90% {\n",
              "      border-color: transparent;\n",
              "      border-bottom-color: var(--fill-color);\n",
              "    }\n",
              "  }\n",
              "</style>\n",
              "\n",
              "  <script>\n",
              "    async function quickchart(key) {\n",
              "      const quickchartButtonEl =\n",
              "        document.querySelector('#' + key + ' button');\n",
              "      quickchartButtonEl.disabled = true;  // To prevent multiple clicks.\n",
              "      quickchartButtonEl.classList.add('colab-df-spinner');\n",
              "      try {\n",
              "        const charts = await google.colab.kernel.invokeFunction(\n",
              "            'suggestCharts', [key], {});\n",
              "      } catch (error) {\n",
              "        console.error('Error during call to suggestCharts:', error);\n",
              "      }\n",
              "      quickchartButtonEl.classList.remove('colab-df-spinner');\n",
              "      quickchartButtonEl.classList.add('colab-df-quickchart-complete');\n",
              "    }\n",
              "    (() => {\n",
              "      let quickchartButtonEl =\n",
              "        document.querySelector('#df-8855817e-a8bc-4b72-81d4-a0fc81497e8b button');\n",
              "      quickchartButtonEl.style.display =\n",
              "        google.colab.kernel.accessAllowed ? 'block' : 'none';\n",
              "    })();\n",
              "  </script>\n",
              "</div>\n",
              "    </div>\n",
              "  </div>\n"
            ]
          },
          "metadata": {},
          "execution_count": 10
        }
      ],
      "source": [
        "ruta_archivo_prueba = '/content/drive/MyDrive/Experimentación Python Tesis /Data: A D C/test.csv'\n",
        "data_test = pd.read_csv(ruta_archivo_prueba, sep=',')\n",
        "#data_test =data_t.iloc[:num_docs_test, :]\n",
        "data_test.info()\n",
        "data_test.head()"
      ]
    },
    {
      "cell_type": "code",
      "execution_count": null,
      "metadata": {
        "colab": {
          "base_uri": "https://localhost:8080/"
        },
        "id": "r3Hfxy7gSp17",
        "outputId": "e8891d19-2b5d-4751-b50d-65d64ce946d2"
      },
      "outputs": [
        {
          "output_type": "stream",
          "name": "stdout",
          "text": [
            "Número de filas nulas o vacías en la columna 'TWEETS_TEXT': 24\n"
          ]
        }
      ],
      "source": [
        "# Verificar si hay filas nulas o vacías en la columna 'TWEET_TEXT'\n",
        "null = data_test['TWEET_TEXT'].isnull().sum()\n",
        "\n",
        "# Imprimir el número de filas nulas o vacías\n",
        "print(\"Número de filas nulas o vacías en la columna 'TWEETS_TEXT':\", null)"
      ]
    },
    {
      "cell_type": "code",
      "source": [
        "data_test.dropna(subset=['TWEET_TEXT'], inplace=True)\n",
        "\n",
        "# Verificar si hay filas nulas o vacías en la columna 'TWEET_TEXT'\n",
        "null_values = data_test['TWEET_TEXT'].isnull().sum()\n",
        "\n",
        "# Imprimir el número de filas nulas o vacías\n",
        "print(\"Número de filas nulas o vacías en la columna 'TWEET_TEXT':\", null_values)\n",
        "data_test.info()"
      ],
      "metadata": {
        "colab": {
          "base_uri": "https://localhost:8080/"
        },
        "id": "gRWPFYK2O9Jb",
        "outputId": "a90fe50b-091b-4a7d-a22b-8079a180d56a"
      },
      "execution_count": null,
      "outputs": [
        {
          "output_type": "stream",
          "name": "stdout",
          "text": [
            "Número de filas nulas o vacías en la columna 'TWEET_TEXT': 0\n",
            "<class 'pandas.core.frame.DataFrame'>\n",
            "Int64Index: 41781 entries, 0 to 41804\n",
            "Data columns (total 4 columns):\n",
            " #   Column      Non-Null Count  Dtype  \n",
            "---  ------      --------------  -----  \n",
            " 0   USER_ID     27850 non-null  object \n",
            " 1   TWEET_ID    27850 non-null  float64\n",
            " 2   TWEET_TEXT  41781 non-null  object \n",
            " 3   trastorno   41781 non-null  int64  \n",
            "dtypes: float64(1), int64(1), object(2)\n",
            "memory usage: 1.6+ MB\n"
          ]
        }
      ]
    },
    {
      "cell_type": "markdown",
      "metadata": {
        "id": "pXrNY3sggdfA"
      },
      "source": [
        "# Preparación de los datos"
      ]
    },
    {
      "cell_type": "code",
      "source": [
        "import nltk\n",
        "nltk.download('stopwords')  #Solamente se ha de descargar la primera vez.\n",
        "stopwords_en = nltk.corpus.stopwords.words('spanish')   # Extrae las stopwords en español"
      ],
      "metadata": {
        "colab": {
          "base_uri": "https://localhost:8080/"
        },
        "id": "qR6Q_CDCNQ57",
        "outputId": "75754062-05ef-49ba-a1a9-a43428e01132"
      },
      "execution_count": null,
      "outputs": [
        {
          "output_type": "stream",
          "name": "stderr",
          "text": [
            "[nltk_data] Downloading package stopwords to /root/nltk_data...\n",
            "[nltk_data]   Unzipping corpora/stopwords.zip.\n"
          ]
        }
      ]
    },
    {
      "cell_type": "markdown",
      "metadata": {
        "id": "JobPUt6LgjH6"
      },
      "source": [
        "*Eliminar etiquedas HTML*"
      ]
    },
    {
      "cell_type": "code",
      "execution_count": null,
      "metadata": {
        "id": "knYz80SLgoq8"
      },
      "outputs": [],
      "source": [
        "import re\n",
        "\n",
        "def removeHTML(text):\n",
        "    if isinstance(text, str):  # Verificar si es de tipo string\n",
        "        cleanr = re.compile('<.*?>')\n",
        "        cleantext = re.sub(cleanr, '', text)\n",
        "        return cleantext\n",
        "    else:\n",
        "        return text  # Devolver el valor original si no es de tipo string"
      ]
    },
    {
      "cell_type": "markdown",
      "metadata": {
        "id": "tJie6Gpvg4gm"
      },
      "source": [
        "*Limpiar texto*"
      ]
    },
    {
      "cell_type": "code",
      "execution_count": null,
      "metadata": {
        "id": "m8RWQ81Yg7xM"
      },
      "outputs": [],
      "source": [
        "import re\n",
        "import string\n",
        "\n",
        "def clean(text):\n",
        "    if isinstance(text, str):  # Verificar si es de tipo string\n",
        "        # Eliminar hashtags\n",
        "        text = re.sub(r'#\\w+', '', text)\n",
        "\n",
        "        # Eliminar URLs o enlaces\n",
        "        text = re.sub(r'(https?://)?[a-zA-Z0-9]+\\.[a-zA-Z0-9]+\\S*', '', text)\n",
        "\n",
        "        # Eliminar nombres de usuarios de Twitter\n",
        "        text = re.sub(r'@\\w+', '', text)\n",
        "\n",
        "        # Eliminar Nombres propios\n",
        "        text = re.sub(r'\\b[A-Z][a-z]+\\b', '', text)\n",
        "\n",
        "        # Eliminar todos los caracteres especiales\n",
        "        text = re.sub(r'[^\\w\\s]+', '', text)\n",
        "\n",
        "        # Eliminar prefijos y números\n",
        "        text = re.sub(r'\\b\\w{1,2}\\b|\\d+', '', text)\n",
        "\n",
        "        # Eliminar palabras específicas\n",
        "        specific_words = ['retweet', 'retweets', 'hashtag', 'trending', 'mención', 'enlace', 'emoji', 'timeline', 'interacciones',\n",
        "                          'tuit', 'seguidores', 'notificaciones', 'seguir', 'favorito', 'perfil', 'tendencia', 'influencer',\n",
        "                          'compartir', 'actualización', 'explorar', 'seguir', 'comunidad', 'contenido', 'popular',\n",
        "                          'recomendar', 'experiencia', 'conectar', 'comentar', 'compartir', 'comunidad', 'actualización',\n",
        "                          'drk', 'followers', 'stats', 'for', 'new', 'little', 'unfollower', 'unfollowers', 'today', 'shit','twitter','nombre',\n",
        "                          'eric','story','great', 'short','squeeze','piggly','wiggly','hmv','even','follas','you','i','he','she',\n",
        "                          'it','we','they','the','and','that','these','those','tweet','followed','follower']\n",
        "        text = ' '.join([word for word in text.split() if word not in specific_words])\n",
        "\n",
        "        # Eliminar emojis\n",
        "        emojis = re.findall(r'[^\\w\\s,]', text)\n",
        "        cleaned_emojis = [emoji for emoji in emojis if emoji not in ['@', '#', '/', '?','¿','.','…','\"',':','“','!','¡','°','-',\"‘\",'’',\n",
        "                                                                     '=',';','(',')',\"'\",\"'\",'&','€','%','$','*','+','|', '”','🇦','🇷',',',\n",
        "                                                                     ', ','—','«',' »','»','« ','[, ]','[,]',',',', ','',' ',' ♀',' 🏽']]\n",
        "        for emoji in cleaned_emojis:\n",
        "            text = text.replace(emoji, '')\n",
        "\n",
        "        # Convertir el texto a minúsculas\n",
        "        text = text.lower()\n",
        "\n",
        "        # Eliminar signos de puntuación\n",
        "        text = re.sub(f\"[{re.escape(string.punctuation)}]\", \"\", text)\n",
        "\n",
        "        words = text.split() #divide el texto en palabras individuales, creando una lista de palabras.\n",
        "\n",
        "      # Combinar las stopwords en  español\n",
        "        all_stopwords = stopwords_en\n",
        "      # Filtrar las stopwords del texto\n",
        "        filtered_words = [word for word in words if word.lower() not in all_stopwords] #filtra las palabras vacías del texto que no están en la lista de palabras vacías\n",
        "\n",
        "        # Unir las palabras filtradas en un solo texto\n",
        "        text = ' '.join(filtered_words)\n",
        "\n",
        "        # Devuelve el texto limpio\n",
        "        return text\n",
        "    else:\n",
        "        return text  # Devolver el valor original si no es de tipo string\n"
      ]
    },
    {
      "cell_type": "markdown",
      "metadata": {
        "id": "5wya7mJ-CBlS"
      },
      "source": [
        "#Elaboración de la lista de palabras relevantes a partir de una bolsa de palabras del mismo conjunto de datos"
      ]
    },
    {
      "cell_type": "code",
      "execution_count": null,
      "metadata": {
        "id": "7B7p9zvoCk3k"
      },
      "outputs": [],
      "source": [
        "import pandas as pd\n",
        "import spacy\n",
        "from spacy.lang.es import Spanish\n",
        "from nltk.corpus import stopwords\n",
        "from nltk.stem import PorterStemmer\n",
        "\n",
        "# Cargar modelo de spaCy\n",
        "nlp = spacy.load(\"es_core_news_sm\")\n",
        "\n",
        "# Cargar stopwords en español\n",
        "stopwords_es = set(stopwords.words('spanish'))\n",
        "\n",
        "# Inicializar stemmer de NLTK\n",
        "stemmer = PorterStemmer()"
      ]
    },
    {
      "cell_type": "code",
      "execution_count": null,
      "metadata": {
        "colab": {
          "base_uri": "https://localhost:8080/"
        },
        "id": "8khn8vX4H4uh",
        "outputId": "95d48e82-d92c-4c79-d886-cf044d98e598"
      },
      "outputs": [
        {
          "output_type": "stream",
          "name": "stdout",
          "text": [
            "['gato', 'saltar', 'valla']\n"
          ]
        }
      ],
      "source": [
        "import pandas as pd\n",
        "import spacy\n",
        "from spacy.lang.es import Spanish\n",
        "from nltk.corpus import stopwords\n",
        "\n",
        "\n",
        "# Cargar modelo de spaCy\n",
        "nlp = spacy.load(\"es_core_news_sm\")\n",
        "\n",
        "# Cargar stopwords en español\n",
        "stopwords_es = set(stopwords.words('spanish'))\n",
        "def extractTerms(text):\n",
        "    if isinstance(text, str):\n",
        "        # Tokenización y lematización con spaCy\n",
        "        doc = nlp(text)\n",
        "        lemmatized_terms = [token.lemma_ for token in doc if token.text.lower() not in stopwords_es]\n",
        "\n",
        "        return lemmatized_terms\n",
        "    else:\n",
        "        return []  # Devolver una lista vacía si el texto no es una cadena de texto\n",
        "\n",
        "# Ejemplo de uso\n",
        "texto_ejemplo = \"Los gatos están saltando sobre las vallas\"\n",
        "terminos_extraidos = extractTerms(texto_ejemplo)\n",
        "print(terminos_extraidos)"
      ]
    },
    {
      "cell_type": "markdown",
      "metadata": {
        "id": "DJrMwzbLMyNk"
      },
      "source": [
        "# Preprocesamieto del conjunto de datos de entrenamiento"
      ]
    },
    {
      "cell_type": "code",
      "execution_count": null,
      "metadata": {
        "colab": {
          "base_uri": "https://localhost:8080/",
          "height": 363
        },
        "id": "ZxAWUl3kM7db",
        "outputId": "72add567-69e4-4b55-fbb4-eba17946f52b"
      },
      "outputs": [
        {
          "output_type": "execute_result",
          "data": {
            "text/plain": [
              "  USER_ID      TWEET_ID                                         TWEET_TEXT  \\\n",
              "0      47  2.147484e+09                     [destruir, único, haz, reírte]   \n",
              "1       6  2.147484e+09                     [cómo, tampoco, cómo, contigo]   \n",
              "2     NaN           NaN  [preguntar, últimamente, sentir, tranquilo, pu...   \n",
              "3     NaN           NaN     [ansiedad, torno, todo, enfermedad, disparado]   \n",
              "4     NaN           NaN  [mente, bastante, último, mes, compañero, cuar...   \n",
              "5     NaN           NaN  [idea, canal, maravilloso, aquí, historia, seg...   \n",
              "6      31  2.147484e+09  [intentar, decir, pudesólo, quedé, nudo, garga...   \n",
              "7      27  2.147484e+09          [tumblrbot, preguntado, robot, dinosaurs]   \n",
              "8      49  2.147484e+09  [smirnoff, bebido, mas, traicionero, existir, ...   \n",
              "9      36  2.147484e+09             [prima, delgado, tanto, hermosa, vida]   \n",
              "\n",
              "   trastorno  \n",
              "0          1  \n",
              "1          0  \n",
              "2          2  \n",
              "3          2  \n",
              "4          2  \n",
              "5          2  \n",
              "6          0  \n",
              "7          1  \n",
              "8          1  \n",
              "9          0  "
            ],
            "text/html": [
              "\n",
              "  <div id=\"df-47a6a976-56e3-49b5-9e45-c6332b440518\" class=\"colab-df-container\">\n",
              "    <div>\n",
              "<style scoped>\n",
              "    .dataframe tbody tr th:only-of-type {\n",
              "        vertical-align: middle;\n",
              "    }\n",
              "\n",
              "    .dataframe tbody tr th {\n",
              "        vertical-align: top;\n",
              "    }\n",
              "\n",
              "    .dataframe thead th {\n",
              "        text-align: right;\n",
              "    }\n",
              "</style>\n",
              "<table border=\"1\" class=\"dataframe\">\n",
              "  <thead>\n",
              "    <tr style=\"text-align: right;\">\n",
              "      <th></th>\n",
              "      <th>USER_ID</th>\n",
              "      <th>TWEET_ID</th>\n",
              "      <th>TWEET_TEXT</th>\n",
              "      <th>trastorno</th>\n",
              "    </tr>\n",
              "  </thead>\n",
              "  <tbody>\n",
              "    <tr>\n",
              "      <th>0</th>\n",
              "      <td>47</td>\n",
              "      <td>2.147484e+09</td>\n",
              "      <td>[destruir, único, haz, reírte]</td>\n",
              "      <td>1</td>\n",
              "    </tr>\n",
              "    <tr>\n",
              "      <th>1</th>\n",
              "      <td>6</td>\n",
              "      <td>2.147484e+09</td>\n",
              "      <td>[cómo, tampoco, cómo, contigo]</td>\n",
              "      <td>0</td>\n",
              "    </tr>\n",
              "    <tr>\n",
              "      <th>2</th>\n",
              "      <td>NaN</td>\n",
              "      <td>NaN</td>\n",
              "      <td>[preguntar, últimamente, sentir, tranquilo, pu...</td>\n",
              "      <td>2</td>\n",
              "    </tr>\n",
              "    <tr>\n",
              "      <th>3</th>\n",
              "      <td>NaN</td>\n",
              "      <td>NaN</td>\n",
              "      <td>[ansiedad, torno, todo, enfermedad, disparado]</td>\n",
              "      <td>2</td>\n",
              "    </tr>\n",
              "    <tr>\n",
              "      <th>4</th>\n",
              "      <td>NaN</td>\n",
              "      <td>NaN</td>\n",
              "      <td>[mente, bastante, último, mes, compañero, cuar...</td>\n",
              "      <td>2</td>\n",
              "    </tr>\n",
              "    <tr>\n",
              "      <th>5</th>\n",
              "      <td>NaN</td>\n",
              "      <td>NaN</td>\n",
              "      <td>[idea, canal, maravilloso, aquí, historia, seg...</td>\n",
              "      <td>2</td>\n",
              "    </tr>\n",
              "    <tr>\n",
              "      <th>6</th>\n",
              "      <td>31</td>\n",
              "      <td>2.147484e+09</td>\n",
              "      <td>[intentar, decir, pudesólo, quedé, nudo, garga...</td>\n",
              "      <td>0</td>\n",
              "    </tr>\n",
              "    <tr>\n",
              "      <th>7</th>\n",
              "      <td>27</td>\n",
              "      <td>2.147484e+09</td>\n",
              "      <td>[tumblrbot, preguntado, robot, dinosaurs]</td>\n",
              "      <td>1</td>\n",
              "    </tr>\n",
              "    <tr>\n",
              "      <th>8</th>\n",
              "      <td>49</td>\n",
              "      <td>2.147484e+09</td>\n",
              "      <td>[smirnoff, bebido, mas, traicionero, existir, ...</td>\n",
              "      <td>1</td>\n",
              "    </tr>\n",
              "    <tr>\n",
              "      <th>9</th>\n",
              "      <td>36</td>\n",
              "      <td>2.147484e+09</td>\n",
              "      <td>[prima, delgado, tanto, hermosa, vida]</td>\n",
              "      <td>0</td>\n",
              "    </tr>\n",
              "  </tbody>\n",
              "</table>\n",
              "</div>\n",
              "    <div class=\"colab-df-buttons\">\n",
              "\n",
              "  <div class=\"colab-df-container\">\n",
              "    <button class=\"colab-df-convert\" onclick=\"convertToInteractive('df-47a6a976-56e3-49b5-9e45-c6332b440518')\"\n",
              "            title=\"Convert this dataframe to an interactive table.\"\n",
              "            style=\"display:none;\">\n",
              "\n",
              "  <svg xmlns=\"http://www.w3.org/2000/svg\" height=\"24px\" viewBox=\"0 -960 960 960\">\n",
              "    <path d=\"M120-120v-720h720v720H120Zm60-500h600v-160H180v160Zm220 220h160v-160H400v160Zm0 220h160v-160H400v160ZM180-400h160v-160H180v160Zm440 0h160v-160H620v160ZM180-180h160v-160H180v160Zm440 0h160v-160H620v160Z\"/>\n",
              "  </svg>\n",
              "    </button>\n",
              "\n",
              "  <style>\n",
              "    .colab-df-container {\n",
              "      display:flex;\n",
              "      gap: 12px;\n",
              "    }\n",
              "\n",
              "    .colab-df-convert {\n",
              "      background-color: #E8F0FE;\n",
              "      border: none;\n",
              "      border-radius: 50%;\n",
              "      cursor: pointer;\n",
              "      display: none;\n",
              "      fill: #1967D2;\n",
              "      height: 32px;\n",
              "      padding: 0 0 0 0;\n",
              "      width: 32px;\n",
              "    }\n",
              "\n",
              "    .colab-df-convert:hover {\n",
              "      background-color: #E2EBFA;\n",
              "      box-shadow: 0px 1px 2px rgba(60, 64, 67, 0.3), 0px 1px 3px 1px rgba(60, 64, 67, 0.15);\n",
              "      fill: #174EA6;\n",
              "    }\n",
              "\n",
              "    .colab-df-buttons div {\n",
              "      margin-bottom: 4px;\n",
              "    }\n",
              "\n",
              "    [theme=dark] .colab-df-convert {\n",
              "      background-color: #3B4455;\n",
              "      fill: #D2E3FC;\n",
              "    }\n",
              "\n",
              "    [theme=dark] .colab-df-convert:hover {\n",
              "      background-color: #434B5C;\n",
              "      box-shadow: 0px 1px 3px 1px rgba(0, 0, 0, 0.15);\n",
              "      filter: drop-shadow(0px 1px 2px rgba(0, 0, 0, 0.3));\n",
              "      fill: #FFFFFF;\n",
              "    }\n",
              "  </style>\n",
              "\n",
              "    <script>\n",
              "      const buttonEl =\n",
              "        document.querySelector('#df-47a6a976-56e3-49b5-9e45-c6332b440518 button.colab-df-convert');\n",
              "      buttonEl.style.display =\n",
              "        google.colab.kernel.accessAllowed ? 'block' : 'none';\n",
              "\n",
              "      async function convertToInteractive(key) {\n",
              "        const element = document.querySelector('#df-47a6a976-56e3-49b5-9e45-c6332b440518');\n",
              "        const dataTable =\n",
              "          await google.colab.kernel.invokeFunction('convertToInteractive',\n",
              "                                                    [key], {});\n",
              "        if (!dataTable) return;\n",
              "\n",
              "        const docLinkHtml = 'Like what you see? Visit the ' +\n",
              "          '<a target=\"_blank\" href=https://colab.research.google.com/notebooks/data_table.ipynb>data table notebook</a>'\n",
              "          + ' to learn more about interactive tables.';\n",
              "        element.innerHTML = '';\n",
              "        dataTable['output_type'] = 'display_data';\n",
              "        await google.colab.output.renderOutput(dataTable, element);\n",
              "        const docLink = document.createElement('div');\n",
              "        docLink.innerHTML = docLinkHtml;\n",
              "        element.appendChild(docLink);\n",
              "      }\n",
              "    </script>\n",
              "  </div>\n",
              "\n",
              "\n",
              "<div id=\"df-34d03f44-fa7b-44f3-903b-3aa4a5acca91\">\n",
              "  <button class=\"colab-df-quickchart\" onclick=\"quickchart('df-34d03f44-fa7b-44f3-903b-3aa4a5acca91')\"\n",
              "            title=\"Suggest charts.\"\n",
              "            style=\"display:none;\">\n",
              "\n",
              "<svg xmlns=\"http://www.w3.org/2000/svg\" height=\"24px\"viewBox=\"0 0 24 24\"\n",
              "     width=\"24px\">\n",
              "    <g>\n",
              "        <path d=\"M19 3H5c-1.1 0-2 .9-2 2v14c0 1.1.9 2 2 2h14c1.1 0 2-.9 2-2V5c0-1.1-.9-2-2-2zM9 17H7v-7h2v7zm4 0h-2V7h2v10zm4 0h-2v-4h2v4z\"/>\n",
              "    </g>\n",
              "</svg>\n",
              "  </button>\n",
              "\n",
              "<style>\n",
              "  .colab-df-quickchart {\n",
              "      --bg-color: #E8F0FE;\n",
              "      --fill-color: #1967D2;\n",
              "      --hover-bg-color: #E2EBFA;\n",
              "      --hover-fill-color: #174EA6;\n",
              "      --disabled-fill-color: #AAA;\n",
              "      --disabled-bg-color: #DDD;\n",
              "  }\n",
              "\n",
              "  [theme=dark] .colab-df-quickchart {\n",
              "      --bg-color: #3B4455;\n",
              "      --fill-color: #D2E3FC;\n",
              "      --hover-bg-color: #434B5C;\n",
              "      --hover-fill-color: #FFFFFF;\n",
              "      --disabled-bg-color: #3B4455;\n",
              "      --disabled-fill-color: #666;\n",
              "  }\n",
              "\n",
              "  .colab-df-quickchart {\n",
              "    background-color: var(--bg-color);\n",
              "    border: none;\n",
              "    border-radius: 50%;\n",
              "    cursor: pointer;\n",
              "    display: none;\n",
              "    fill: var(--fill-color);\n",
              "    height: 32px;\n",
              "    padding: 0;\n",
              "    width: 32px;\n",
              "  }\n",
              "\n",
              "  .colab-df-quickchart:hover {\n",
              "    background-color: var(--hover-bg-color);\n",
              "    box-shadow: 0 1px 2px rgba(60, 64, 67, 0.3), 0 1px 3px 1px rgba(60, 64, 67, 0.15);\n",
              "    fill: var(--button-hover-fill-color);\n",
              "  }\n",
              "\n",
              "  .colab-df-quickchart-complete:disabled,\n",
              "  .colab-df-quickchart-complete:disabled:hover {\n",
              "    background-color: var(--disabled-bg-color);\n",
              "    fill: var(--disabled-fill-color);\n",
              "    box-shadow: none;\n",
              "  }\n",
              "\n",
              "  .colab-df-spinner {\n",
              "    border: 2px solid var(--fill-color);\n",
              "    border-color: transparent;\n",
              "    border-bottom-color: var(--fill-color);\n",
              "    animation:\n",
              "      spin 1s steps(1) infinite;\n",
              "  }\n",
              "\n",
              "  @keyframes spin {\n",
              "    0% {\n",
              "      border-color: transparent;\n",
              "      border-bottom-color: var(--fill-color);\n",
              "      border-left-color: var(--fill-color);\n",
              "    }\n",
              "    20% {\n",
              "      border-color: transparent;\n",
              "      border-left-color: var(--fill-color);\n",
              "      border-top-color: var(--fill-color);\n",
              "    }\n",
              "    30% {\n",
              "      border-color: transparent;\n",
              "      border-left-color: var(--fill-color);\n",
              "      border-top-color: var(--fill-color);\n",
              "      border-right-color: var(--fill-color);\n",
              "    }\n",
              "    40% {\n",
              "      border-color: transparent;\n",
              "      border-right-color: var(--fill-color);\n",
              "      border-top-color: var(--fill-color);\n",
              "    }\n",
              "    60% {\n",
              "      border-color: transparent;\n",
              "      border-right-color: var(--fill-color);\n",
              "    }\n",
              "    80% {\n",
              "      border-color: transparent;\n",
              "      border-right-color: var(--fill-color);\n",
              "      border-bottom-color: var(--fill-color);\n",
              "    }\n",
              "    90% {\n",
              "      border-color: transparent;\n",
              "      border-bottom-color: var(--fill-color);\n",
              "    }\n",
              "  }\n",
              "</style>\n",
              "\n",
              "  <script>\n",
              "    async function quickchart(key) {\n",
              "      const quickchartButtonEl =\n",
              "        document.querySelector('#' + key + ' button');\n",
              "      quickchartButtonEl.disabled = true;  // To prevent multiple clicks.\n",
              "      quickchartButtonEl.classList.add('colab-df-spinner');\n",
              "      try {\n",
              "        const charts = await google.colab.kernel.invokeFunction(\n",
              "            'suggestCharts', [key], {});\n",
              "      } catch (error) {\n",
              "        console.error('Error during call to suggestCharts:', error);\n",
              "      }\n",
              "      quickchartButtonEl.classList.remove('colab-df-spinner');\n",
              "      quickchartButtonEl.classList.add('colab-df-quickchart-complete');\n",
              "    }\n",
              "    (() => {\n",
              "      let quickchartButtonEl =\n",
              "        document.querySelector('#df-34d03f44-fa7b-44f3-903b-3aa4a5acca91 button');\n",
              "      quickchartButtonEl.style.display =\n",
              "        google.colab.kernel.accessAllowed ? 'block' : 'none';\n",
              "    })();\n",
              "  </script>\n",
              "</div>\n",
              "    </div>\n",
              "  </div>\n"
            ]
          },
          "metadata": {},
          "execution_count": 18
        }
      ],
      "source": [
        "data_train['TWEET_TEXT'] = data_train['TWEET_TEXT'].apply(removeHTML)\n",
        "data_train['TWEET_TEXT'] = data_train['TWEET_TEXT'].apply(clean)\n",
        "data_train['TWEET_TEXT'] = data_train['TWEET_TEXT'].apply(extractTerms)\n",
        "data_train.head(10)"
      ]
    },
    {
      "cell_type": "code",
      "execution_count": null,
      "metadata": {
        "colab": {
          "base_uri": "https://localhost:8080/"
        },
        "id": "MHSIQONUaDe9",
        "outputId": "014dc25b-3e66-4d8d-e051-75517dd13cae"
      },
      "outputs": [
        {
          "output_type": "stream",
          "name": "stdout",
          "text": [
            "Número de elementos vacíos en la columna 'TWEET_TEXT': 5408\n"
          ]
        }
      ],
      "source": [
        "# Verificar si hay elementos vacíos en la columna 'TWEET_TEXT'\n",
        "empty_count = (data_train['TWEET_TEXT'].apply(len) == 0).sum()\n",
        "\n",
        "# Imprimir el número de elementos vacíos en la columna 'TWEET_TEXT'\n",
        "print(\"Número de elementos vacíos en la columna 'TWEET_TEXT':\", empty_count)\n"
      ]
    },
    {
      "cell_type": "code",
      "execution_count": null,
      "metadata": {
        "id": "dOGbtn79afCA"
      },
      "outputs": [],
      "source": [
        "# Filtrar filas donde 'TWEET_TEXT' no sea una lista vacía\n",
        "data_train = data_train[data_train['TWEET_TEXT'].apply(len) > 0]\n",
        "\n",
        "# Reiniciar el índice del DataFrame después de eliminar filas\n",
        "data_train.reset_index(drop=True, inplace=True)"
      ]
    },
    {
      "cell_type": "code",
      "execution_count": null,
      "metadata": {
        "colab": {
          "base_uri": "https://localhost:8080/"
        },
        "id": "8weS3NF-ahFr",
        "outputId": "14bbe27d-fd68-415f-d47d-fef77404b9da"
      },
      "outputs": [
        {
          "output_type": "stream",
          "name": "stdout",
          "text": [
            "Número de elementos vacíos en la columna 'TWEET_TEXT': 0\n"
          ]
        }
      ],
      "source": [
        "# Verificar si hay elementos vacíos en la columna 'TWEET_TEXT'\n",
        "empty_count = (data_train['TWEET_TEXT'].apply(len) == 0).sum()\n",
        "\n",
        "# Imprimir el número de elementos vacíos en la columna 'TWEET_TEXT'\n",
        "print(\"Número de elementos vacíos en la columna 'TWEET_TEXT':\", empty_count)"
      ]
    },
    {
      "cell_type": "code",
      "source": [
        "data_train.head(10)"
      ],
      "metadata": {
        "colab": {
          "base_uri": "https://localhost:8080/",
          "height": 363
        },
        "id": "r3RinaFjSwV2",
        "outputId": "fc2cc16c-a0a4-4971-e597-26adad9de758"
      },
      "execution_count": null,
      "outputs": [
        {
          "output_type": "execute_result",
          "data": {
            "text/plain": [
              "  USER_ID      TWEET_ID                                         TWEET_TEXT  \\\n",
              "0      47  2.147484e+09                     [destruir, único, haz, reírte]   \n",
              "1       6  2.147484e+09                     [cómo, tampoco, cómo, contigo]   \n",
              "2     NaN           NaN  [preguntar, últimamente, sentir, tranquilo, pu...   \n",
              "3     NaN           NaN     [ansiedad, torno, todo, enfermedad, disparado]   \n",
              "4     NaN           NaN  [mente, bastante, último, mes, compañero, cuar...   \n",
              "5     NaN           NaN  [idea, canal, maravilloso, aquí, historia, seg...   \n",
              "6      31  2.147484e+09  [intentar, decir, pudesólo, quedé, nudo, garga...   \n",
              "7      27  2.147484e+09          [tumblrbot, preguntado, robot, dinosaurs]   \n",
              "8      49  2.147484e+09  [smirnoff, bebido, mas, traicionero, existir, ...   \n",
              "9      36  2.147484e+09             [prima, delgado, tanto, hermosa, vida]   \n",
              "\n",
              "   trastorno  \n",
              "0          1  \n",
              "1          0  \n",
              "2          2  \n",
              "3          2  \n",
              "4          2  \n",
              "5          2  \n",
              "6          0  \n",
              "7          1  \n",
              "8          1  \n",
              "9          0  "
            ],
            "text/html": [
              "\n",
              "  <div id=\"df-fbc95a71-6b60-4c42-8cf8-6015d1bcdb5a\" class=\"colab-df-container\">\n",
              "    <div>\n",
              "<style scoped>\n",
              "    .dataframe tbody tr th:only-of-type {\n",
              "        vertical-align: middle;\n",
              "    }\n",
              "\n",
              "    .dataframe tbody tr th {\n",
              "        vertical-align: top;\n",
              "    }\n",
              "\n",
              "    .dataframe thead th {\n",
              "        text-align: right;\n",
              "    }\n",
              "</style>\n",
              "<table border=\"1\" class=\"dataframe\">\n",
              "  <thead>\n",
              "    <tr style=\"text-align: right;\">\n",
              "      <th></th>\n",
              "      <th>USER_ID</th>\n",
              "      <th>TWEET_ID</th>\n",
              "      <th>TWEET_TEXT</th>\n",
              "      <th>trastorno</th>\n",
              "    </tr>\n",
              "  </thead>\n",
              "  <tbody>\n",
              "    <tr>\n",
              "      <th>0</th>\n",
              "      <td>47</td>\n",
              "      <td>2.147484e+09</td>\n",
              "      <td>[destruir, único, haz, reírte]</td>\n",
              "      <td>1</td>\n",
              "    </tr>\n",
              "    <tr>\n",
              "      <th>1</th>\n",
              "      <td>6</td>\n",
              "      <td>2.147484e+09</td>\n",
              "      <td>[cómo, tampoco, cómo, contigo]</td>\n",
              "      <td>0</td>\n",
              "    </tr>\n",
              "    <tr>\n",
              "      <th>2</th>\n",
              "      <td>NaN</td>\n",
              "      <td>NaN</td>\n",
              "      <td>[preguntar, últimamente, sentir, tranquilo, pu...</td>\n",
              "      <td>2</td>\n",
              "    </tr>\n",
              "    <tr>\n",
              "      <th>3</th>\n",
              "      <td>NaN</td>\n",
              "      <td>NaN</td>\n",
              "      <td>[ansiedad, torno, todo, enfermedad, disparado]</td>\n",
              "      <td>2</td>\n",
              "    </tr>\n",
              "    <tr>\n",
              "      <th>4</th>\n",
              "      <td>NaN</td>\n",
              "      <td>NaN</td>\n",
              "      <td>[mente, bastante, último, mes, compañero, cuar...</td>\n",
              "      <td>2</td>\n",
              "    </tr>\n",
              "    <tr>\n",
              "      <th>5</th>\n",
              "      <td>NaN</td>\n",
              "      <td>NaN</td>\n",
              "      <td>[idea, canal, maravilloso, aquí, historia, seg...</td>\n",
              "      <td>2</td>\n",
              "    </tr>\n",
              "    <tr>\n",
              "      <th>6</th>\n",
              "      <td>31</td>\n",
              "      <td>2.147484e+09</td>\n",
              "      <td>[intentar, decir, pudesólo, quedé, nudo, garga...</td>\n",
              "      <td>0</td>\n",
              "    </tr>\n",
              "    <tr>\n",
              "      <th>7</th>\n",
              "      <td>27</td>\n",
              "      <td>2.147484e+09</td>\n",
              "      <td>[tumblrbot, preguntado, robot, dinosaurs]</td>\n",
              "      <td>1</td>\n",
              "    </tr>\n",
              "    <tr>\n",
              "      <th>8</th>\n",
              "      <td>49</td>\n",
              "      <td>2.147484e+09</td>\n",
              "      <td>[smirnoff, bebido, mas, traicionero, existir, ...</td>\n",
              "      <td>1</td>\n",
              "    </tr>\n",
              "    <tr>\n",
              "      <th>9</th>\n",
              "      <td>36</td>\n",
              "      <td>2.147484e+09</td>\n",
              "      <td>[prima, delgado, tanto, hermosa, vida]</td>\n",
              "      <td>0</td>\n",
              "    </tr>\n",
              "  </tbody>\n",
              "</table>\n",
              "</div>\n",
              "    <div class=\"colab-df-buttons\">\n",
              "\n",
              "  <div class=\"colab-df-container\">\n",
              "    <button class=\"colab-df-convert\" onclick=\"convertToInteractive('df-fbc95a71-6b60-4c42-8cf8-6015d1bcdb5a')\"\n",
              "            title=\"Convert this dataframe to an interactive table.\"\n",
              "            style=\"display:none;\">\n",
              "\n",
              "  <svg xmlns=\"http://www.w3.org/2000/svg\" height=\"24px\" viewBox=\"0 -960 960 960\">\n",
              "    <path d=\"M120-120v-720h720v720H120Zm60-500h600v-160H180v160Zm220 220h160v-160H400v160Zm0 220h160v-160H400v160ZM180-400h160v-160H180v160Zm440 0h160v-160H620v160ZM180-180h160v-160H180v160Zm440 0h160v-160H620v160Z\"/>\n",
              "  </svg>\n",
              "    </button>\n",
              "\n",
              "  <style>\n",
              "    .colab-df-container {\n",
              "      display:flex;\n",
              "      gap: 12px;\n",
              "    }\n",
              "\n",
              "    .colab-df-convert {\n",
              "      background-color: #E8F0FE;\n",
              "      border: none;\n",
              "      border-radius: 50%;\n",
              "      cursor: pointer;\n",
              "      display: none;\n",
              "      fill: #1967D2;\n",
              "      height: 32px;\n",
              "      padding: 0 0 0 0;\n",
              "      width: 32px;\n",
              "    }\n",
              "\n",
              "    .colab-df-convert:hover {\n",
              "      background-color: #E2EBFA;\n",
              "      box-shadow: 0px 1px 2px rgba(60, 64, 67, 0.3), 0px 1px 3px 1px rgba(60, 64, 67, 0.15);\n",
              "      fill: #174EA6;\n",
              "    }\n",
              "\n",
              "    .colab-df-buttons div {\n",
              "      margin-bottom: 4px;\n",
              "    }\n",
              "\n",
              "    [theme=dark] .colab-df-convert {\n",
              "      background-color: #3B4455;\n",
              "      fill: #D2E3FC;\n",
              "    }\n",
              "\n",
              "    [theme=dark] .colab-df-convert:hover {\n",
              "      background-color: #434B5C;\n",
              "      box-shadow: 0px 1px 3px 1px rgba(0, 0, 0, 0.15);\n",
              "      filter: drop-shadow(0px 1px 2px rgba(0, 0, 0, 0.3));\n",
              "      fill: #FFFFFF;\n",
              "    }\n",
              "  </style>\n",
              "\n",
              "    <script>\n",
              "      const buttonEl =\n",
              "        document.querySelector('#df-fbc95a71-6b60-4c42-8cf8-6015d1bcdb5a button.colab-df-convert');\n",
              "      buttonEl.style.display =\n",
              "        google.colab.kernel.accessAllowed ? 'block' : 'none';\n",
              "\n",
              "      async function convertToInteractive(key) {\n",
              "        const element = document.querySelector('#df-fbc95a71-6b60-4c42-8cf8-6015d1bcdb5a');\n",
              "        const dataTable =\n",
              "          await google.colab.kernel.invokeFunction('convertToInteractive',\n",
              "                                                    [key], {});\n",
              "        if (!dataTable) return;\n",
              "\n",
              "        const docLinkHtml = 'Like what you see? Visit the ' +\n",
              "          '<a target=\"_blank\" href=https://colab.research.google.com/notebooks/data_table.ipynb>data table notebook</a>'\n",
              "          + ' to learn more about interactive tables.';\n",
              "        element.innerHTML = '';\n",
              "        dataTable['output_type'] = 'display_data';\n",
              "        await google.colab.output.renderOutput(dataTable, element);\n",
              "        const docLink = document.createElement('div');\n",
              "        docLink.innerHTML = docLinkHtml;\n",
              "        element.appendChild(docLink);\n",
              "      }\n",
              "    </script>\n",
              "  </div>\n",
              "\n",
              "\n",
              "<div id=\"df-a2e7b1be-c00c-494b-880a-eaa08520719b\">\n",
              "  <button class=\"colab-df-quickchart\" onclick=\"quickchart('df-a2e7b1be-c00c-494b-880a-eaa08520719b')\"\n",
              "            title=\"Suggest charts.\"\n",
              "            style=\"display:none;\">\n",
              "\n",
              "<svg xmlns=\"http://www.w3.org/2000/svg\" height=\"24px\"viewBox=\"0 0 24 24\"\n",
              "     width=\"24px\">\n",
              "    <g>\n",
              "        <path d=\"M19 3H5c-1.1 0-2 .9-2 2v14c0 1.1.9 2 2 2h14c1.1 0 2-.9 2-2V5c0-1.1-.9-2-2-2zM9 17H7v-7h2v7zm4 0h-2V7h2v10zm4 0h-2v-4h2v4z\"/>\n",
              "    </g>\n",
              "</svg>\n",
              "  </button>\n",
              "\n",
              "<style>\n",
              "  .colab-df-quickchart {\n",
              "      --bg-color: #E8F0FE;\n",
              "      --fill-color: #1967D2;\n",
              "      --hover-bg-color: #E2EBFA;\n",
              "      --hover-fill-color: #174EA6;\n",
              "      --disabled-fill-color: #AAA;\n",
              "      --disabled-bg-color: #DDD;\n",
              "  }\n",
              "\n",
              "  [theme=dark] .colab-df-quickchart {\n",
              "      --bg-color: #3B4455;\n",
              "      --fill-color: #D2E3FC;\n",
              "      --hover-bg-color: #434B5C;\n",
              "      --hover-fill-color: #FFFFFF;\n",
              "      --disabled-bg-color: #3B4455;\n",
              "      --disabled-fill-color: #666;\n",
              "  }\n",
              "\n",
              "  .colab-df-quickchart {\n",
              "    background-color: var(--bg-color);\n",
              "    border: none;\n",
              "    border-radius: 50%;\n",
              "    cursor: pointer;\n",
              "    display: none;\n",
              "    fill: var(--fill-color);\n",
              "    height: 32px;\n",
              "    padding: 0;\n",
              "    width: 32px;\n",
              "  }\n",
              "\n",
              "  .colab-df-quickchart:hover {\n",
              "    background-color: var(--hover-bg-color);\n",
              "    box-shadow: 0 1px 2px rgba(60, 64, 67, 0.3), 0 1px 3px 1px rgba(60, 64, 67, 0.15);\n",
              "    fill: var(--button-hover-fill-color);\n",
              "  }\n",
              "\n",
              "  .colab-df-quickchart-complete:disabled,\n",
              "  .colab-df-quickchart-complete:disabled:hover {\n",
              "    background-color: var(--disabled-bg-color);\n",
              "    fill: var(--disabled-fill-color);\n",
              "    box-shadow: none;\n",
              "  }\n",
              "\n",
              "  .colab-df-spinner {\n",
              "    border: 2px solid var(--fill-color);\n",
              "    border-color: transparent;\n",
              "    border-bottom-color: var(--fill-color);\n",
              "    animation:\n",
              "      spin 1s steps(1) infinite;\n",
              "  }\n",
              "\n",
              "  @keyframes spin {\n",
              "    0% {\n",
              "      border-color: transparent;\n",
              "      border-bottom-color: var(--fill-color);\n",
              "      border-left-color: var(--fill-color);\n",
              "    }\n",
              "    20% {\n",
              "      border-color: transparent;\n",
              "      border-left-color: var(--fill-color);\n",
              "      border-top-color: var(--fill-color);\n",
              "    }\n",
              "    30% {\n",
              "      border-color: transparent;\n",
              "      border-left-color: var(--fill-color);\n",
              "      border-top-color: var(--fill-color);\n",
              "      border-right-color: var(--fill-color);\n",
              "    }\n",
              "    40% {\n",
              "      border-color: transparent;\n",
              "      border-right-color: var(--fill-color);\n",
              "      border-top-color: var(--fill-color);\n",
              "    }\n",
              "    60% {\n",
              "      border-color: transparent;\n",
              "      border-right-color: var(--fill-color);\n",
              "    }\n",
              "    80% {\n",
              "      border-color: transparent;\n",
              "      border-right-color: var(--fill-color);\n",
              "      border-bottom-color: var(--fill-color);\n",
              "    }\n",
              "    90% {\n",
              "      border-color: transparent;\n",
              "      border-bottom-color: var(--fill-color);\n",
              "    }\n",
              "  }\n",
              "</style>\n",
              "\n",
              "  <script>\n",
              "    async function quickchart(key) {\n",
              "      const quickchartButtonEl =\n",
              "        document.querySelector('#' + key + ' button');\n",
              "      quickchartButtonEl.disabled = true;  // To prevent multiple clicks.\n",
              "      quickchartButtonEl.classList.add('colab-df-spinner');\n",
              "      try {\n",
              "        const charts = await google.colab.kernel.invokeFunction(\n",
              "            'suggestCharts', [key], {});\n",
              "      } catch (error) {\n",
              "        console.error('Error during call to suggestCharts:', error);\n",
              "      }\n",
              "      quickchartButtonEl.classList.remove('colab-df-spinner');\n",
              "      quickchartButtonEl.classList.add('colab-df-quickchart-complete');\n",
              "    }\n",
              "    (() => {\n",
              "      let quickchartButtonEl =\n",
              "        document.querySelector('#df-a2e7b1be-c00c-494b-880a-eaa08520719b button');\n",
              "      quickchartButtonEl.style.display =\n",
              "        google.colab.kernel.accessAllowed ? 'block' : 'none';\n",
              "    })();\n",
              "  </script>\n",
              "</div>\n",
              "    </div>\n",
              "  </div>\n"
            ]
          },
          "metadata": {},
          "execution_count": 22
        }
      ]
    },
    {
      "cell_type": "code",
      "source": [
        "data_train['TWEET_TEXT'] = data_train['TWEET_TEXT'].apply(lambda x: ' '.join(x) if isinstance(x, list) else x) # Combinar los elementos de la lista en una sola cadena separados por espacios\n",
        "data_train.info()\n",
        "data_train.head(10)"
      ],
      "metadata": {
        "id": "sJ6nNPddZenY",
        "colab": {
          "base_uri": "https://localhost:8080/",
          "height": 570
        },
        "outputId": "398b0f82-ccf4-4899-96ab-53c2c03d7044"
      },
      "execution_count": null,
      "outputs": [
        {
          "output_type": "stream",
          "name": "stdout",
          "text": [
            "<class 'pandas.core.frame.DataFrame'>\n",
            "RangeIndex: 92071 entries, 0 to 92070\n",
            "Data columns (total 4 columns):\n",
            " #   Column      Non-Null Count  Dtype  \n",
            "---  ------      --------------  -----  \n",
            " 0   USER_ID     59713 non-null  object \n",
            " 1   TWEET_ID    59713 non-null  float64\n",
            " 2   TWEET_TEXT  92071 non-null  object \n",
            " 3   trastorno   92071 non-null  int64  \n",
            "dtypes: float64(1), int64(1), object(2)\n",
            "memory usage: 2.8+ MB\n"
          ]
        },
        {
          "output_type": "execute_result",
          "data": {
            "text/plain": [
              "  USER_ID      TWEET_ID                                         TWEET_TEXT  \\\n",
              "0      47  2.147484e+09                          destruir único haz reírte   \n",
              "1       6  2.147484e+09                          cómo tampoco cómo contigo   \n",
              "2     NaN           NaN  preguntar últimamente sentir tranquilo punto a...   \n",
              "3     NaN           NaN           ansiedad torno todo enfermedad disparado   \n",
              "4     NaN           NaN  mente bastante último mes compañero cuarto anc...   \n",
              "5     NaN           NaN  idea canal maravilloso aquí historia seguir vi...   \n",
              "6      31  2.147484e+09  intentar decir pudesólo quedé nudo gargantar l...   \n",
              "7      27  2.147484e+09               tumblrbot preguntado robot dinosaurs   \n",
              "8      49  2.147484e+09  smirnoff bebido mas traicionero existir chabon...   \n",
              "9      36  2.147484e+09                   prima delgado tanto hermosa vida   \n",
              "\n",
              "   trastorno  \n",
              "0          1  \n",
              "1          0  \n",
              "2          2  \n",
              "3          2  \n",
              "4          2  \n",
              "5          2  \n",
              "6          0  \n",
              "7          1  \n",
              "8          1  \n",
              "9          0  "
            ],
            "text/html": [
              "\n",
              "  <div id=\"df-8798fce0-fa89-4e77-a477-3ede003cb4de\" class=\"colab-df-container\">\n",
              "    <div>\n",
              "<style scoped>\n",
              "    .dataframe tbody tr th:only-of-type {\n",
              "        vertical-align: middle;\n",
              "    }\n",
              "\n",
              "    .dataframe tbody tr th {\n",
              "        vertical-align: top;\n",
              "    }\n",
              "\n",
              "    .dataframe thead th {\n",
              "        text-align: right;\n",
              "    }\n",
              "</style>\n",
              "<table border=\"1\" class=\"dataframe\">\n",
              "  <thead>\n",
              "    <tr style=\"text-align: right;\">\n",
              "      <th></th>\n",
              "      <th>USER_ID</th>\n",
              "      <th>TWEET_ID</th>\n",
              "      <th>TWEET_TEXT</th>\n",
              "      <th>trastorno</th>\n",
              "    </tr>\n",
              "  </thead>\n",
              "  <tbody>\n",
              "    <tr>\n",
              "      <th>0</th>\n",
              "      <td>47</td>\n",
              "      <td>2.147484e+09</td>\n",
              "      <td>destruir único haz reírte</td>\n",
              "      <td>1</td>\n",
              "    </tr>\n",
              "    <tr>\n",
              "      <th>1</th>\n",
              "      <td>6</td>\n",
              "      <td>2.147484e+09</td>\n",
              "      <td>cómo tampoco cómo contigo</td>\n",
              "      <td>0</td>\n",
              "    </tr>\n",
              "    <tr>\n",
              "      <th>2</th>\n",
              "      <td>NaN</td>\n",
              "      <td>NaN</td>\n",
              "      <td>preguntar últimamente sentir tranquilo punto a...</td>\n",
              "      <td>2</td>\n",
              "    </tr>\n",
              "    <tr>\n",
              "      <th>3</th>\n",
              "      <td>NaN</td>\n",
              "      <td>NaN</td>\n",
              "      <td>ansiedad torno todo enfermedad disparado</td>\n",
              "      <td>2</td>\n",
              "    </tr>\n",
              "    <tr>\n",
              "      <th>4</th>\n",
              "      <td>NaN</td>\n",
              "      <td>NaN</td>\n",
              "      <td>mente bastante último mes compañero cuarto anc...</td>\n",
              "      <td>2</td>\n",
              "    </tr>\n",
              "    <tr>\n",
              "      <th>5</th>\n",
              "      <td>NaN</td>\n",
              "      <td>NaN</td>\n",
              "      <td>idea canal maravilloso aquí historia seguir vi...</td>\n",
              "      <td>2</td>\n",
              "    </tr>\n",
              "    <tr>\n",
              "      <th>6</th>\n",
              "      <td>31</td>\n",
              "      <td>2.147484e+09</td>\n",
              "      <td>intentar decir pudesólo quedé nudo gargantar l...</td>\n",
              "      <td>0</td>\n",
              "    </tr>\n",
              "    <tr>\n",
              "      <th>7</th>\n",
              "      <td>27</td>\n",
              "      <td>2.147484e+09</td>\n",
              "      <td>tumblrbot preguntado robot dinosaurs</td>\n",
              "      <td>1</td>\n",
              "    </tr>\n",
              "    <tr>\n",
              "      <th>8</th>\n",
              "      <td>49</td>\n",
              "      <td>2.147484e+09</td>\n",
              "      <td>smirnoff bebido mas traicionero existir chabon...</td>\n",
              "      <td>1</td>\n",
              "    </tr>\n",
              "    <tr>\n",
              "      <th>9</th>\n",
              "      <td>36</td>\n",
              "      <td>2.147484e+09</td>\n",
              "      <td>prima delgado tanto hermosa vida</td>\n",
              "      <td>0</td>\n",
              "    </tr>\n",
              "  </tbody>\n",
              "</table>\n",
              "</div>\n",
              "    <div class=\"colab-df-buttons\">\n",
              "\n",
              "  <div class=\"colab-df-container\">\n",
              "    <button class=\"colab-df-convert\" onclick=\"convertToInteractive('df-8798fce0-fa89-4e77-a477-3ede003cb4de')\"\n",
              "            title=\"Convert this dataframe to an interactive table.\"\n",
              "            style=\"display:none;\">\n",
              "\n",
              "  <svg xmlns=\"http://www.w3.org/2000/svg\" height=\"24px\" viewBox=\"0 -960 960 960\">\n",
              "    <path d=\"M120-120v-720h720v720H120Zm60-500h600v-160H180v160Zm220 220h160v-160H400v160Zm0 220h160v-160H400v160ZM180-400h160v-160H180v160Zm440 0h160v-160H620v160ZM180-180h160v-160H180v160Zm440 0h160v-160H620v160Z\"/>\n",
              "  </svg>\n",
              "    </button>\n",
              "\n",
              "  <style>\n",
              "    .colab-df-container {\n",
              "      display:flex;\n",
              "      gap: 12px;\n",
              "    }\n",
              "\n",
              "    .colab-df-convert {\n",
              "      background-color: #E8F0FE;\n",
              "      border: none;\n",
              "      border-radius: 50%;\n",
              "      cursor: pointer;\n",
              "      display: none;\n",
              "      fill: #1967D2;\n",
              "      height: 32px;\n",
              "      padding: 0 0 0 0;\n",
              "      width: 32px;\n",
              "    }\n",
              "\n",
              "    .colab-df-convert:hover {\n",
              "      background-color: #E2EBFA;\n",
              "      box-shadow: 0px 1px 2px rgba(60, 64, 67, 0.3), 0px 1px 3px 1px rgba(60, 64, 67, 0.15);\n",
              "      fill: #174EA6;\n",
              "    }\n",
              "\n",
              "    .colab-df-buttons div {\n",
              "      margin-bottom: 4px;\n",
              "    }\n",
              "\n",
              "    [theme=dark] .colab-df-convert {\n",
              "      background-color: #3B4455;\n",
              "      fill: #D2E3FC;\n",
              "    }\n",
              "\n",
              "    [theme=dark] .colab-df-convert:hover {\n",
              "      background-color: #434B5C;\n",
              "      box-shadow: 0px 1px 3px 1px rgba(0, 0, 0, 0.15);\n",
              "      filter: drop-shadow(0px 1px 2px rgba(0, 0, 0, 0.3));\n",
              "      fill: #FFFFFF;\n",
              "    }\n",
              "  </style>\n",
              "\n",
              "    <script>\n",
              "      const buttonEl =\n",
              "        document.querySelector('#df-8798fce0-fa89-4e77-a477-3ede003cb4de button.colab-df-convert');\n",
              "      buttonEl.style.display =\n",
              "        google.colab.kernel.accessAllowed ? 'block' : 'none';\n",
              "\n",
              "      async function convertToInteractive(key) {\n",
              "        const element = document.querySelector('#df-8798fce0-fa89-4e77-a477-3ede003cb4de');\n",
              "        const dataTable =\n",
              "          await google.colab.kernel.invokeFunction('convertToInteractive',\n",
              "                                                    [key], {});\n",
              "        if (!dataTable) return;\n",
              "\n",
              "        const docLinkHtml = 'Like what you see? Visit the ' +\n",
              "          '<a target=\"_blank\" href=https://colab.research.google.com/notebooks/data_table.ipynb>data table notebook</a>'\n",
              "          + ' to learn more about interactive tables.';\n",
              "        element.innerHTML = '';\n",
              "        dataTable['output_type'] = 'display_data';\n",
              "        await google.colab.output.renderOutput(dataTable, element);\n",
              "        const docLink = document.createElement('div');\n",
              "        docLink.innerHTML = docLinkHtml;\n",
              "        element.appendChild(docLink);\n",
              "      }\n",
              "    </script>\n",
              "  </div>\n",
              "\n",
              "\n",
              "<div id=\"df-ae55c2ab-17f9-454c-aaee-9a2823b493e5\">\n",
              "  <button class=\"colab-df-quickchart\" onclick=\"quickchart('df-ae55c2ab-17f9-454c-aaee-9a2823b493e5')\"\n",
              "            title=\"Suggest charts.\"\n",
              "            style=\"display:none;\">\n",
              "\n",
              "<svg xmlns=\"http://www.w3.org/2000/svg\" height=\"24px\"viewBox=\"0 0 24 24\"\n",
              "     width=\"24px\">\n",
              "    <g>\n",
              "        <path d=\"M19 3H5c-1.1 0-2 .9-2 2v14c0 1.1.9 2 2 2h14c1.1 0 2-.9 2-2V5c0-1.1-.9-2-2-2zM9 17H7v-7h2v7zm4 0h-2V7h2v10zm4 0h-2v-4h2v4z\"/>\n",
              "    </g>\n",
              "</svg>\n",
              "  </button>\n",
              "\n",
              "<style>\n",
              "  .colab-df-quickchart {\n",
              "      --bg-color: #E8F0FE;\n",
              "      --fill-color: #1967D2;\n",
              "      --hover-bg-color: #E2EBFA;\n",
              "      --hover-fill-color: #174EA6;\n",
              "      --disabled-fill-color: #AAA;\n",
              "      --disabled-bg-color: #DDD;\n",
              "  }\n",
              "\n",
              "  [theme=dark] .colab-df-quickchart {\n",
              "      --bg-color: #3B4455;\n",
              "      --fill-color: #D2E3FC;\n",
              "      --hover-bg-color: #434B5C;\n",
              "      --hover-fill-color: #FFFFFF;\n",
              "      --disabled-bg-color: #3B4455;\n",
              "      --disabled-fill-color: #666;\n",
              "  }\n",
              "\n",
              "  .colab-df-quickchart {\n",
              "    background-color: var(--bg-color);\n",
              "    border: none;\n",
              "    border-radius: 50%;\n",
              "    cursor: pointer;\n",
              "    display: none;\n",
              "    fill: var(--fill-color);\n",
              "    height: 32px;\n",
              "    padding: 0;\n",
              "    width: 32px;\n",
              "  }\n",
              "\n",
              "  .colab-df-quickchart:hover {\n",
              "    background-color: var(--hover-bg-color);\n",
              "    box-shadow: 0 1px 2px rgba(60, 64, 67, 0.3), 0 1px 3px 1px rgba(60, 64, 67, 0.15);\n",
              "    fill: var(--button-hover-fill-color);\n",
              "  }\n",
              "\n",
              "  .colab-df-quickchart-complete:disabled,\n",
              "  .colab-df-quickchart-complete:disabled:hover {\n",
              "    background-color: var(--disabled-bg-color);\n",
              "    fill: var(--disabled-fill-color);\n",
              "    box-shadow: none;\n",
              "  }\n",
              "\n",
              "  .colab-df-spinner {\n",
              "    border: 2px solid var(--fill-color);\n",
              "    border-color: transparent;\n",
              "    border-bottom-color: var(--fill-color);\n",
              "    animation:\n",
              "      spin 1s steps(1) infinite;\n",
              "  }\n",
              "\n",
              "  @keyframes spin {\n",
              "    0% {\n",
              "      border-color: transparent;\n",
              "      border-bottom-color: var(--fill-color);\n",
              "      border-left-color: var(--fill-color);\n",
              "    }\n",
              "    20% {\n",
              "      border-color: transparent;\n",
              "      border-left-color: var(--fill-color);\n",
              "      border-top-color: var(--fill-color);\n",
              "    }\n",
              "    30% {\n",
              "      border-color: transparent;\n",
              "      border-left-color: var(--fill-color);\n",
              "      border-top-color: var(--fill-color);\n",
              "      border-right-color: var(--fill-color);\n",
              "    }\n",
              "    40% {\n",
              "      border-color: transparent;\n",
              "      border-right-color: var(--fill-color);\n",
              "      border-top-color: var(--fill-color);\n",
              "    }\n",
              "    60% {\n",
              "      border-color: transparent;\n",
              "      border-right-color: var(--fill-color);\n",
              "    }\n",
              "    80% {\n",
              "      border-color: transparent;\n",
              "      border-right-color: var(--fill-color);\n",
              "      border-bottom-color: var(--fill-color);\n",
              "    }\n",
              "    90% {\n",
              "      border-color: transparent;\n",
              "      border-bottom-color: var(--fill-color);\n",
              "    }\n",
              "  }\n",
              "</style>\n",
              "\n",
              "  <script>\n",
              "    async function quickchart(key) {\n",
              "      const quickchartButtonEl =\n",
              "        document.querySelector('#' + key + ' button');\n",
              "      quickchartButtonEl.disabled = true;  // To prevent multiple clicks.\n",
              "      quickchartButtonEl.classList.add('colab-df-spinner');\n",
              "      try {\n",
              "        const charts = await google.colab.kernel.invokeFunction(\n",
              "            'suggestCharts', [key], {});\n",
              "      } catch (error) {\n",
              "        console.error('Error during call to suggestCharts:', error);\n",
              "      }\n",
              "      quickchartButtonEl.classList.remove('colab-df-spinner');\n",
              "      quickchartButtonEl.classList.add('colab-df-quickchart-complete');\n",
              "    }\n",
              "    (() => {\n",
              "      let quickchartButtonEl =\n",
              "        document.querySelector('#df-ae55c2ab-17f9-454c-aaee-9a2823b493e5 button');\n",
              "      quickchartButtonEl.style.display =\n",
              "        google.colab.kernel.accessAllowed ? 'block' : 'none';\n",
              "    })();\n",
              "  </script>\n",
              "</div>\n",
              "    </div>\n",
              "  </div>\n"
            ]
          },
          "metadata": {},
          "execution_count": 23
        }
      ]
    },
    {
      "cell_type": "markdown",
      "metadata": {
        "id": "OaTP61UUXkUD"
      },
      "source": [
        "# Representación de los datos mediante una matriz BoW\n",
        "\n",
        "se guardan los valores array X y para futuros entrenamientos"
      ]
    },
    {
      "cell_type": "markdown",
      "metadata": {
        "id": "4aO6IF_SX_rx"
      },
      "source": [
        "Se procederá a construir un conjunto de entrenamiento a partir de la representación de bolsa de palabras o inglés (Bag of Words.)"
      ]
    },
    {
      "cell_type": "code",
      "execution_count": null,
      "metadata": {
        "id": "m2Bz9av7Xw2d",
        "colab": {
          "base_uri": "https://localhost:8080/"
        },
        "outputId": "628d081b-2724-4f3b-b09a-d0e39e7d66a9"
      },
      "outputs": [
        {
          "output_type": "stream",
          "name": "stdout",
          "text": [
            "El tamaño del vocabulario es: 3708\n"
          ]
        }
      ],
      "source": [
        "\n",
        "from sklearn.feature_extraction.text import CountVectorizer\n",
        "def Tokenizer(text):\n",
        "    return text.split()  # Tokenizador simple: divide el texto en palabras\n",
        "# Crear un transformador CountVectorizer con el tokenizer Tokenizery rango de n-gramas (1, 1)\n",
        "# y un umbral de frecuencia mínimo de 200\n",
        "umbral = 20\n",
        "count_vect = CountVectorizer(tokenizer=Tokenizer, ngram_range=(1, 1), min_df=umbral)\n",
        "\n",
        "# Aplicar el CountVectorizer a la columna 'TWEET_TEXT' en data_train y obtener la matriz BoW\n",
        "bow_train = count_vect.fit_transform(data_train['TWEET_TEXT'].values)\n",
        "\n",
        "# Imprimir el tamaño del vocabulario construido por CountVectorizer\n",
        "print(\"El tamaño del vocabulario es:\", len(count_vect.vocabulary_))\n",
        "\n",
        "# Crear arrays X y y para los datos y etiquetas respectivamente\n",
        "X = bow_train  # Matriz BoW\n",
        "y = data_train['trastorno'].values  # Etiquetas de trastorno de la columna 'trastorno'"
      ]
    },
    {
      "cell_type": "code",
      "source": [
        "print(X.shape)\n",
        "print(y.shape)"
      ],
      "metadata": {
        "colab": {
          "base_uri": "https://localhost:8080/"
        },
        "id": "9MLCCq1CUuq-",
        "outputId": "95b98c29-22cd-4e5d-8f06-95deb80e0480"
      },
      "execution_count": null,
      "outputs": [
        {
          "output_type": "stream",
          "name": "stdout",
          "text": [
            "(92071, 3708)\n",
            "(92071,)\n"
          ]
        }
      ]
    },
    {
      "cell_type": "markdown",
      "source": [
        "#Dividir la matriz BoW en 10 secciones de 9,207 mil\n",
        "la matriz de divide en valores de X1 hasa X10 don sus estiquedas de y1 hasta y10, esto permite entrenar a la red neuronal con pequeños valores sin cambiar el numero de vacabulario total."
      ],
      "metadata": {
        "id": "liXHbKJVU57q"
      }
    },
    {
      "cell_type": "code",
      "source": [
        "# Se guardan los primeros 9207 datos de la matriz BoW con los respectivas etiquetas y en X1, y1 hasta X20,y20 así hasta\n",
        "# completar los 245955 datos del dataset\n",
        "\n",
        "# matrices bow_train\n",
        "total_datos = bow_train.shape[0]  # Número total de filas en la matriz bow_train.\n",
        "tamaño_conjunto = 9207 #  Tamaño deseado para cada conjunto\n",
        "\n",
        "# etiquetas están en la variable 'y'\n",
        "etiquetas = data_train['trastorno'].values\n",
        "\n",
        "# Crea variables para guardar los conjuntos\n",
        "conjuntos_X = []\n",
        "conjuntos_y = []\n",
        "\n",
        "# Divide tus datos en 10 conjuntos de 9207 filas cada uno\n",
        "for i in range(10):\n",
        "    inicio = i * tamaño_conjunto #calcula el índice de inicio del conjunto actual.\n",
        "    fin = (i + 1) * tamaño_conjunto # índice de finalización del conjunto actual i + 1 representa la siguiente iteración del bucle, por lo que se multiplica por tamaño_conjunto para obtener la fila de finalización.\n",
        "    #Generan nombres de variables dinámicos para los conjuntos de datos y etiquetas de cada conjunto.\n",
        "    X_nombre = f'X{i+1}'\n",
        "    y_nombre = f'y{i+1}'\n",
        "    conjunto_X = bow_train[inicio:fin, :]  # selecciona las filas correspondientes a este conjunto desde la matriz bow_train. Utiliza la notación de corte (slicing) para seleccionar las filas desde inicio hasta fin.\n",
        "    conjunto_y = etiquetas[inicio:fin]  # selecciona las etiquetas correspondientes a este conjunto. Estas etiquetas se toman de la variable etiquetas que contiene las etiquetas de sentimientos.\n",
        "    #  Asignan los conjuntos de datos y etiquetas a variables con nombres dinámicos (X1, y1, X2, y2, etc.)\n",
        "    globals()[X_nombre] = conjunto_X\n",
        "    globals()[y_nombre] = conjunto_y\n",
        "    # Agregan los conjuntos de datos y etiquetas a las listas, respectivamente, para mantener un registro de todos los conjuntos creados.\n",
        "    conjuntos_X.append(conjunto_X)\n",
        "    conjuntos_y.append(conjunto_y)"
      ],
      "metadata": {
        "id": "eaRGUTJRU5dM"
      },
      "execution_count": null,
      "outputs": []
    },
    {
      "cell_type": "code",
      "source": [
        "X2.shape"
      ],
      "metadata": {
        "colab": {
          "base_uri": "https://localhost:8080/"
        },
        "id": "QZcW-Ssobf6w",
        "outputId": "e6d9391e-f47d-417d-968d-b670d2667443"
      },
      "execution_count": null,
      "outputs": [
        {
          "output_type": "execute_result",
          "data": {
            "text/plain": [
              "(9207, 3708)"
            ]
          },
          "metadata": {},
          "execution_count": 77
        }
      ]
    },
    {
      "cell_type": "markdown",
      "source": [
        "**genreal valores aleatorios de X, y para el entrenamiento de la red neuronal**"
      ],
      "metadata": {
        "id": "kthcJ5VyV9OI"
      }
    },
    {
      "cell_type": "code",
      "source": [
        "import random\n",
        "\n",
        "# Genera un número aleatorio entre 1 y 10\n",
        "i = random.randint(1, 10)\n",
        "# Crea las variables Xi y yi con los datos seleccionados aleatoriamente\n",
        "Xi = globals()[f'X{i}']\n",
        "yi = globals()[f'y{i}']\n",
        "print(f'X{i}', Xi.shape)\n",
        "print(f'y{i}', yi.shape)"
      ],
      "metadata": {
        "colab": {
          "base_uri": "https://localhost:8080/"
        },
        "id": "t0IUzt2rV8DA",
        "outputId": "4aa7ad0a-f36c-4b7c-e204-d1aa3502957e"
      },
      "execution_count": null,
      "outputs": [
        {
          "output_type": "stream",
          "name": "stdout",
          "text": [
            "X9 (9207, 3708)\n",
            "y9 (9207,)\n"
          ]
        }
      ]
    },
    {
      "cell_type": "markdown",
      "source": [
        "# Entrenamiento con validación 70 - 30"
      ],
      "metadata": {
        "id": "y_Py9ZuhuuOd"
      }
    },
    {
      "cell_type": "code",
      "source": [
        "import numpy as np\n",
        "import tensorflow as tf\n",
        "from tensorflow.keras.models import Sequential\n",
        "from tensorflow.keras.layers import Dense, Dropout\n",
        "from sklearn.metrics import accuracy_score, precision_score, recall_score, f1_score\n",
        "from sklearn.model_selection import train_test_split\n",
        "from sklearn.preprocessing import LabelEncoder\n",
        "from tensorflow.keras.models import load_model\n",
        "from sklearn.model_selection import cross_val_score\n",
        "from sklearn.model_selection import StratifiedKFold\n",
        "from tensorflow.keras.optimizers import Adam\n",
        "from tensorflow.keras.losses import CategoricalCrossentropy\n",
        "from tensorflow.keras.metrics import CategoricalAccuracy"
      ],
      "metadata": {
        "id": "s_4kTKDdWQKz"
      },
      "execution_count": null,
      "outputs": []
    },
    {
      "cell_type": "code",
      "source": [
        "# Convertir la matriz BoW a una matriz densa de Numpy\n",
        "X = Xi.toarray()\n",
        "y=yi\n",
        "# Dividir los datos en conjuntos de entrenamiento y validación\n",
        "X_train, X_val, y_train, y_val = train_test_split(X, y, test_size=0.25, random_state=42)\n",
        "# Verificar las dimensiones de los conjuntos de entrenamiento y validación\n",
        "print(\"Dimensiones de X_train:\", X_train.shape)\n",
        "print(\"Dimensiones de X_val:\", X_val.shape)\n",
        "print(\"Dimensiones de y_train:\", y_train.shape)\n",
        "print(\"Dimensiones de y_val:\", y_val.shape)"
      ],
      "metadata": {
        "colab": {
          "base_uri": "https://localhost:8080/"
        },
        "id": "L8Z9r5B0XjEb",
        "outputId": "c1895eec-29af-47fb-ef46-506a52f23b5d"
      },
      "execution_count": null,
      "outputs": [
        {
          "output_type": "stream",
          "name": "stdout",
          "text": [
            "Dimensiones de X_train: (6905, 3708)\n",
            "Dimensiones de X_val: (2302, 3708)\n",
            "Dimensiones de y_train: (6905,)\n",
            "Dimensiones de y_val: (2302,)\n"
          ]
        }
      ]
    },
    {
      "cell_type": "markdown",
      "metadata": {
        "id": "Oss27T2Wz_TI"
      },
      "source": [
        "# Aprendizaje del modelo: Red Neuronal simple"
      ]
    },
    {
      "cell_type": "code",
      "source": [
        "from keras.utils import to_categorical\n",
        "# Crear una red neuronal secuencial\n",
        "model = Sequential()\n",
        "\n",
        "# Agregar una capa de entrada con el número de características (vocabulario) en tu matriz TF-IDF\n",
        "model.add(Dense(328, activation='relu', input_dim=X_train.shape[1]))\n",
        "model.add(Dropout(0.1))  # Dropout para regularización\n",
        "\n",
        "# Agregar una capa oculta\n",
        "model.add(Dense(164, activation='relu'))\n",
        "model.add(Dropout(0.1))  # Dropout para regularización\n",
        "# Convertir las etiquetas en codificación one-hot\n",
        "num_classes = 3  # Número de clases\n",
        "y_train_one_hot = to_categorical(y_train, num_classes)\n",
        "y_val_one_hot = to_categorical(y_val, num_classes)\n",
        "\n",
        "# Crear una red neuronal secuencial\n",
        "model = Sequential()\n",
        "\n",
        "# Agregar una capa de entrada con el número de características en X_train\n",
        "model.add(Dense(328, activation='relu', input_dim=X_train.shape[1]))\n",
        "model.add(Dropout(0.1))  # Dropout para regularización\n",
        "\n",
        "# Agregar una capa oculta\n",
        "model.add(Dense(164, activation='relu'))\n",
        "model.add(Dropout(0.1))  # Dropout para regularización\n",
        "\n",
        "# Agregar una capa de salida con el número de clases en tu clasificación multiclase\n",
        "model.add(Dense(num_classes, activation='softmax'))\n",
        "\n",
        "# Compilar el modelo\n",
        "model.compile(optimizer=Adam(learning_rate=0.001), loss=CategoricalCrossentropy(), metrics=[CategoricalAccuracy()])\n",
        "\n",
        "# Entrenar el modelo en los datos de entrenamiento\n",
        "history = model.fit(X_train, y_train_one_hot, epochs=10, batch_size=32, validation_data=(X_val, y_val_one_hot))\n",
        "\n",
        "y_val_pred = model.predict(X_val)\n",
        "\n",
        "y_val_pred_class = y_val_pred.argmax(axis=1)  # Obtener la clase con la mayor probabilidad\n",
        "y_val_true_class = y_val_one_hot.argmax(axis=1)  # Usar y_val_one_hot en lugar de y_val si está codificado en one-hot\n",
        "\n",
        "accuracy = accuracy_score(y_val_true_class, y_val_pred_class)\n",
        "precision = precision_score(y_val_true_class, y_val_pred_class, average='macro')\n",
        "recall = recall_score(y_val_true_class, y_val_pred_class, average='macro')\n",
        "f1 = f1_score(y_val_true_class, y_val_pred_class, average='macro')\n",
        "\n",
        "y_train_pred = model.predict(X_train)\n",
        "\n",
        "# Calcular métricas de evaluación en el conjunto de entrenamiento\n",
        "y_train_pred_class = y_train_pred.argmax(axis=1)  # Obtener la clase con la mayor probabilidad\n",
        "y_train_true_class = y_train_one_hot.argmax(axis=1)  # Usar y_train_one_hot en lugar de y_train si está codificado en one-hot\n",
        "\n",
        "accuracy_train = accuracy_score(y_train_true_class, y_train_pred_class)\n",
        "precision_train = precision_score(y_train_true_class, y_train_pred_class, average='macro')\n",
        "recall_train = recall_score(y_train_true_class, y_train_pred_class, average='macro')\n",
        "f1_train = f1_score(y_train_true_class, y_train_pred_class, average='macro')\n",
        "\n",
        "# Guardar el modelo entrenado\n",
        "model.save('/content/drive/MyDrive/Experimentación Python Tesis /Experimento Dataset Ansiedad Depresión/BOW/parametros de los modelos/modelo_entrenado_multiclase.h5')\n",
        "\n",
        "# Cargar el modelo entrenado\n",
        "loaded_model = tf.keras.models.load_model('/content/drive/MyDrive/Experimentación Python Tesis /Experimento Dataset Ansiedad Depresión/BOW/parametros de los modelos/modelo_entrenado_multiclase.h5')\n",
        "\n"
      ],
      "metadata": {
        "id": "d379t1yYbv8r"
      },
      "execution_count": null,
      "outputs": []
    },
    {
      "cell_type": "code",
      "source": [
        "# Imprimir métricas de entrenamiento\n",
        "print(\"\\nMétricas en el conjunto de entrenamiento:\")\n",
        "print(f\"Exactitud (entrenamiento): {round(accuracy_train, 2) * 100}%\")\n",
        "print(f\"Precisión (entrenamiento): {round(precision_train, 2) * 100}%\")\n",
        "print(f\"Recall (entrenamiento): {round(recall_train, 2) * 100}%\")\n",
        "print(f\"F1-score (entrenamiento): {round(f1_train, 2) * 100}%\")\n",
        "print('-------------------------------------------------------------------------')\n",
        "# Imprimir métricas de evaluación\n",
        "print(f\"Exactitud en el conjunto de validación: {round(accuracy, 2) * 100}%\")\n",
        "print(f\"Precisión en el conjunto de validación: {round(precision, 2) * 100}%\")\n",
        "print(f\"Recall en el conjunto de validación: {round(recall, 2) * 100}%\")\n",
        "print(f\"F1-score en el conjunto de validación: {round(f1, 2) * 100}%\")"
      ],
      "metadata": {
        "colab": {
          "base_uri": "https://localhost:8080/"
        },
        "id": "Vmmd-HZAGZ3G",
        "outputId": "fcaa977a-02a1-4b29-ba10-1e4fb9a8edb0"
      },
      "execution_count": null,
      "outputs": [
        {
          "output_type": "stream",
          "name": "stdout",
          "text": [
            "\n",
            "Métricas en el conjunto de entrenamiento:\n",
            "Exactitud (entrenamiento): 96.0%\n",
            "Precisión (entrenamiento): 96.0%\n",
            "Recall (entrenamiento): 96.0%\n",
            "F1-score (entrenamiento): 96.0%\n",
            "-------------------------------------------------------------------------\n",
            "Exactitud en el conjunto de validación: 61.0%\n",
            "Precisión en el conjunto de validación: 60.0%\n",
            "Recall en el conjunto de validación: 60.0%\n",
            "F1-score en el conjunto de validación: 60.0%\n"
          ]
        }
      ]
    },
    {
      "cell_type": "markdown",
      "source": [
        "#Matriz de confusión"
      ],
      "metadata": {
        "id": "mxdabm0JU3PK"
      }
    },
    {
      "cell_type": "markdown",
      "source": [
        "entrenamiento"
      ],
      "metadata": {
        "id": "-Ek8P9HTdWni"
      }
    },
    {
      "cell_type": "code",
      "source": [
        "from sklearn.metrics import confusion_matrix\n",
        "\n",
        "cm = confusion_matrix(y_train_true_class, y_train_pred_class)\n",
        "\n",
        "# Imprimir la matriz de confusión\n",
        "print(\"Matriz de Confusión:\")\n",
        "print(cm)"
      ],
      "metadata": {
        "colab": {
          "base_uri": "https://localhost:8080/"
        },
        "id": "_cp5DgZABzxZ",
        "outputId": "e2b8fe57-f567-4a33-cf78-cc29bbda1845"
      },
      "execution_count": null,
      "outputs": [
        {
          "output_type": "stream",
          "name": "stdout",
          "text": [
            "Matriz de Confusión:\n",
            "[[2140   71    1]\n",
            " [ 167 2094    7]\n",
            " [  11    4 2410]]\n"
          ]
        }
      ]
    },
    {
      "cell_type": "code",
      "source": [
        "import seaborn as sns\n",
        "import matplotlib.pyplot as plt\n",
        "\n",
        "# Definir etiquetas de las clases\n",
        "classes = ['Control', 'Depresión', 'Ansiedad']\n",
        "\n",
        "# Crear un mapa de calor de la matriz de confusión\n",
        "plt.figure(figsize=(8, 6))\n",
        "sns.heatmap(cm, annot=True, fmt='d', cmap='Blues', xticklabels=classes, yticklabels=classes)\n",
        "\n",
        "# Agregar etiquetas y título\n",
        "plt.xlabel('Clases Predichas')\n",
        "plt.ylabel('Clases Reales')\n",
        "plt.title('Matriz de Confusión')\n",
        "\n",
        "plt.show()"
      ],
      "metadata": {
        "colab": {
          "base_uri": "https://localhost:8080/",
          "height": 570
        },
        "id": "FFovyXJKVQdm",
        "outputId": "282a211f-062a-4c76-c0c0-d9ea7cbb38ca"
      },
      "execution_count": null,
      "outputs": [
        {
          "output_type": "display_data",
          "data": {
            "text/plain": [
              "<Figure size 800x600 with 2 Axes>"
            ],
            "image/png": "[encoded data removed]"
          },
          "metadata": {
            "image/png": {
              "width": 672,
              "height": 553
            }
          }
        }
      ]
    },
    {
      "cell_type": "markdown",
      "source": [
        "validación"
      ],
      "metadata": {
        "id": "PMvCQGBEdZlp"
      }
    },
    {
      "cell_type": "code",
      "source": [
        "from sklearn.metrics import confusion_matrix\n",
        "\n",
        "cm = confusion_matrix(y_val_true_class, y_val_pred_class)\n",
        "\n",
        "# Imprimir la matriz de confusión\n",
        "print(\"Matriz de Confusión:\")\n",
        "print(cm)"
      ],
      "metadata": {
        "colab": {
          "base_uri": "https://localhost:8080/"
        },
        "id": "13VsEgDIdjWL",
        "outputId": "fe2d42d2-d437-4a51-910b-f5f2af48b6d8"
      },
      "execution_count": null,
      "outputs": [
        {
          "output_type": "stream",
          "name": "stdout",
          "text": [
            "Matriz de Confusión:\n",
            "[[361 325  54]\n",
            " [369 314  65]\n",
            " [ 49  34 731]]\n"
          ]
        }
      ]
    },
    {
      "cell_type": "code",
      "source": [
        "import seaborn as sns\n",
        "import matplotlib.pyplot as plt\n",
        "\n",
        "# Definir etiquetas de las clases\n",
        "classes = ['Control', 'Depresión', 'Ansiedad']\n",
        "\n",
        "# Crear un mapa de calor de la matriz de confusión\n",
        "plt.figure(figsize=(8, 6))\n",
        "sns.heatmap(cm, annot=True, fmt='d', cmap='Blues', xticklabels=classes, yticklabels=classes)\n",
        "\n",
        "# Agregar etiquetas y título\n",
        "plt.xlabel('Clases Predichas')\n",
        "plt.ylabel('Clases Reales')\n",
        "plt.title('Matriz de Confusión')\n",
        "\n",
        "plt.show()"
      ],
      "metadata": {
        "colab": {
          "base_uri": "https://localhost:8080/",
          "height": 570
        },
        "id": "XmXF3LphdrE5",
        "outputId": "ec390e30-8fd3-456a-8848-8f0347871072"
      },
      "execution_count": null,
      "outputs": [
        {
          "output_type": "display_data",
          "data": {
            "text/plain": [
              "<Figure size 800x600 with 2 Axes>"
            ],
            "image/png": "[encoded data removed]"
          },
          "metadata": {
            "image/png": {
              "width": 662,
              "height": 553
            }
          }
        }
      ]
    },
    {
      "cell_type": "markdown",
      "source": [
        "# Entrenamiento con validación cruzada k=10"
      ],
      "metadata": {
        "id": "QTwJYz3guhTd"
      }
    },
    {
      "cell_type": "code",
      "source": [
        "# Convertir las etiquetas en codificación one-hot\n",
        "num_classes = 3  # Número de clases\n",
        "y_one_hot = to_categorical(y, num_classes)\n",
        "\n",
        "# Crear listas para almacenar las métricas de entrenamiento y validación\n",
        "train_accuracy_list = []\n",
        "train_precision_list = []\n",
        "train_recall_list = []\n",
        "train_f1_list = []\n",
        "val_accuracy_list = []\n",
        "val_precision_list = []\n",
        "val_recall_list = []\n",
        "val_f1_list = []\n",
        "\n",
        "# Realizar validación cruzada\n",
        "skf = StratifiedKFold(n_splits=5, shuffle=True, random_state=1)  # Puedes ajustar el número de divisiones según sea necesario\n",
        "\n",
        "for train_index, val_index in skf.split(X, y):\n",
        "    X_train, X_val = X[train_index], X[val_index]\n",
        "    y_train_one_hot, y_val_one_hot = y_one_hot[train_index], y_one_hot[val_index]\n",
        "\n",
        "    # Crear una red neuronal secuencial\n",
        "    model = Sequential()\n",
        "    model.add(Dense(328, activation='relu', input_dim=X.shape[1]))\n",
        "    model.add(Dropout(0.1))\n",
        "    model.add(Dense(164, activation='relu'))\n",
        "    model.add(Dropout(0.1))\n",
        "    model.add(Dense(num_classes, activation='softmax'))\n",
        "    model.compile(optimizer=Adam(learning_rate=0.001), loss=CategoricalCrossentropy(), metrics=[CategoricalAccuracy()])\n",
        "\n",
        "    # Entrenar el modelo en los datos de entrenamiento\n",
        "    model.fit(X_train, y_train_one_hot, epochs=10, batch_size=32)\n",
        "\n",
        "    # Evaluar el modelo en el conjunto de entrenamiento\n",
        "    y_train_pred = model.predict(X_train)\n",
        "    y_train_pred_class = y_train_pred.argmax(axis=1)\n",
        "    y_train_true_class = y_train_one_hot.argmax(axis=1)\n",
        "\n",
        "    train_accuracy = accuracy_score(y_train_true_class, y_train_pred_class)\n",
        "    train_precision = precision_score(y_train_true_class, y_train_pred_class, average='macro')\n",
        "    train_recall = recall_score(y_train_true_class, y_train_pred_class, average='macro')\n",
        "    train_f1 = f1_score(y_train_true_class, y_train_pred_class, average='macro')\n",
        "\n",
        "    # Evaluar el modelo en el conjunto de validación\n",
        "    y_val_pred = model.predict(X_val)\n",
        "    y_val_pred_class = y_val_pred.argmax(axis=1)\n",
        "    y_val_true_class = y_val_one_hot.argmax(axis=1)\n",
        "\n",
        "    val_accuracy = accuracy_score(y_val_true_class, y_val_pred_class)\n",
        "    val_precision = precision_score(y_val_true_class, y_val_pred_class, average='macro')\n",
        "    val_recall = recall_score(y_val_true_class, y_val_pred_class, average='macro')\n",
        "    val_f1 = f1_score(y_val_true_class, y_val_pred_class, average='macro')\n",
        "\n",
        "    # Almacenar las métricas en las listas\n",
        "    train_accuracy_list.append(train_accuracy)\n",
        "    train_precision_list.append(train_precision)\n",
        "    train_recall_list.append(train_recall)\n",
        "    train_f1_list.append(train_f1)\n",
        "    val_accuracy_list.append(val_accuracy)\n",
        "    val_precision_list.append(val_precision)\n",
        "    val_recall_list.append(val_recall)\n",
        "    val_f1_list.append(val_f1)\n",
        "\n",
        "# Guardar el modelo entrenado\n",
        "model.save('/content/drive/MyDrive/Experimentación Python Tesis /Experimento Dataset Ansiedad Depresión/BOW/parametros de los modelos/modelo_entrenado_multiclase(k=10).h5')\n",
        "\n",
        "# Cargar el modelo entrenado\n",
        "loaded_model = tf.keras.models.load_model('/content/drive/MyDrive/Experimentación Python Tesis /Experimento Dataset Ansiedad Depresión/BOW/parametros de los modelos/modelo_entrenado_multiclase(k=10).h5')\n",
        "\n"
      ],
      "metadata": {
        "colab": {
          "base_uri": "https://localhost:8080/"
        },
        "id": "asMGQWL7l0xP",
        "outputId": "08df8860-d318-4618-c281-bf008a133346"
      },
      "execution_count": null,
      "outputs": [
        {
          "output_type": "stream",
          "name": "stdout",
          "text": [
            "Epoch 1/10\n",
            "231/231 [==============================] - 2s 3ms/step - loss: 0.7294 - categorical_accuracy: 0.5822\n",
            "Epoch 2/10\n",
            "231/231 [==============================] - 1s 3ms/step - loss: 0.5299 - categorical_accuracy: 0.7183\n",
            "Epoch 3/10\n",
            "231/231 [==============================] - 1s 3ms/step - loss: 0.3933 - categorical_accuracy: 0.8122\n",
            "Epoch 4/10\n",
            "231/231 [==============================] - 1s 3ms/step - loss: 0.2749 - categorical_accuracy: 0.8793\n",
            "Epoch 5/10\n",
            "231/231 [==============================] - 1s 3ms/step - loss: 0.2006 - categorical_accuracy: 0.9161\n",
            "Epoch 6/10\n",
            "231/231 [==============================] - 1s 3ms/step - loss: 0.1593 - categorical_accuracy: 0.9371\n",
            "Epoch 7/10\n",
            "231/231 [==============================] - 1s 3ms/step - loss: 0.1328 - categorical_accuracy: 0.9394\n",
            "Epoch 8/10\n",
            "231/231 [==============================] - 1s 3ms/step - loss: 0.1073 - categorical_accuracy: 0.9470\n",
            "Epoch 9/10\n",
            "231/231 [==============================] - 1s 3ms/step - loss: 0.0986 - categorical_accuracy: 0.9465\n",
            "Epoch 10/10\n",
            "231/231 [==============================] - 1s 3ms/step - loss: 0.0887 - categorical_accuracy: 0.9499\n",
            "231/231 [==============================] - 1s 2ms/step\n",
            "58/58 [==============================] - 0s 2ms/step\n",
            "Epoch 1/10\n",
            "231/231 [==============================] - 2s 4ms/step - loss: 0.7287 - categorical_accuracy: 0.5688\n",
            "Epoch 2/10\n",
            "231/231 [==============================] - 1s 3ms/step - loss: 0.5326 - categorical_accuracy: 0.7139\n",
            "Epoch 3/10\n",
            "231/231 [==============================] - 1s 3ms/step - loss: 0.4037 - categorical_accuracy: 0.7951\n",
            "Epoch 4/10\n",
            "231/231 [==============================] - 1s 3ms/step - loss: 0.2828 - categorical_accuracy: 0.8672\n",
            "Epoch 5/10\n",
            "231/231 [==============================] - 1s 3ms/step - loss: 0.2103 - categorical_accuracy: 0.9056\n",
            "Epoch 6/10\n",
            "231/231 [==============================] - 1s 3ms/step - loss: 0.1660 - categorical_accuracy: 0.9255\n",
            "Epoch 7/10\n",
            "231/231 [==============================] - 1s 3ms/step - loss: 0.1378 - categorical_accuracy: 0.9389\n",
            "Epoch 8/10\n",
            "231/231 [==============================] - 1s 3ms/step - loss: 0.1205 - categorical_accuracy: 0.9386\n",
            "Epoch 9/10\n",
            "231/231 [==============================] - 1s 3ms/step - loss: 0.1027 - categorical_accuracy: 0.9431\n",
            "Epoch 10/10\n",
            "231/231 [==============================] - 1s 3ms/step - loss: 0.0936 - categorical_accuracy: 0.9468\n",
            "231/231 [==============================] - 0s 2ms/step\n",
            "58/58 [==============================] - 0s 2ms/step\n",
            "Epoch 1/10\n",
            "231/231 [==============================] - 2s 4ms/step - loss: 0.7407 - categorical_accuracy: 0.5629\n",
            "Epoch 2/10\n",
            "231/231 [==============================] - 1s 3ms/step - loss: 0.5286 - categorical_accuracy: 0.7237\n",
            "Epoch 3/10\n",
            "231/231 [==============================] - 1s 4ms/step - loss: 0.3928 - categorical_accuracy: 0.8080\n",
            "Epoch 4/10\n",
            "231/231 [==============================] - 1s 3ms/step - loss: 0.2738 - categorical_accuracy: 0.8811\n",
            "Epoch 5/10\n",
            "231/231 [==============================] - 1s 3ms/step - loss: 0.2003 - categorical_accuracy: 0.9149\n",
            "Epoch 6/10\n",
            "231/231 [==============================] - 1s 3ms/step - loss: 0.1614 - categorical_accuracy: 0.9267\n",
            "Epoch 7/10\n",
            "231/231 [==============================] - 1s 3ms/step - loss: 0.1329 - categorical_accuracy: 0.9408\n",
            "Epoch 8/10\n",
            "231/231 [==============================] - 1s 3ms/step - loss: 0.1139 - categorical_accuracy: 0.9441\n",
            "Epoch 9/10\n",
            "231/231 [==============================] - 1s 3ms/step - loss: 0.1015 - categorical_accuracy: 0.9461\n",
            "Epoch 10/10\n",
            "231/231 [==============================] - 1s 3ms/step - loss: 0.0927 - categorical_accuracy: 0.9473\n",
            "231/231 [==============================] - 0s 2ms/step\n",
            "58/58 [==============================] - 0s 2ms/step\n",
            "Epoch 1/10\n",
            "231/231 [==============================] - 2s 3ms/step - loss: 0.7275 - categorical_accuracy: 0.5745\n",
            "Epoch 2/10\n",
            "231/231 [==============================] - 1s 3ms/step - loss: 0.5267 - categorical_accuracy: 0.7193\n",
            "Epoch 3/10\n",
            "231/231 [==============================] - 1s 3ms/step - loss: 0.3872 - categorical_accuracy: 0.8101\n",
            "Epoch 4/10\n",
            "231/231 [==============================] - 1s 3ms/step - loss: 0.2641 - categorical_accuracy: 0.8797\n",
            "Epoch 5/10\n",
            "231/231 [==============================] - 1s 3ms/step - loss: 0.1845 - categorical_accuracy: 0.9232\n",
            "Epoch 6/10\n",
            "231/231 [==============================] - 1s 3ms/step - loss: 0.1483 - categorical_accuracy: 0.9370\n",
            "Epoch 7/10\n",
            "231/231 [==============================] - 1s 3ms/step - loss: 0.1219 - categorical_accuracy: 0.9456\n",
            "Epoch 8/10\n",
            "231/231 [==============================] - 1s 3ms/step - loss: 0.1068 - categorical_accuracy: 0.9476\n",
            "Epoch 9/10\n",
            "231/231 [==============================] - 1s 3ms/step - loss: 0.0932 - categorical_accuracy: 0.9495\n",
            "Epoch 10/10\n",
            "231/231 [==============================] - 1s 3ms/step - loss: 0.0873 - categorical_accuracy: 0.9517\n",
            "231/231 [==============================] - 0s 2ms/step\n",
            "58/58 [==============================] - 0s 2ms/step\n",
            "Epoch 1/10\n",
            "231/231 [==============================] - 2s 3ms/step - loss: 0.7264 - categorical_accuracy: 0.5954\n",
            "Epoch 2/10\n",
            "231/231 [==============================] - 1s 3ms/step - loss: 0.5354 - categorical_accuracy: 0.7045\n",
            "Epoch 3/10\n",
            "231/231 [==============================] - 1s 3ms/step - loss: 0.4050 - categorical_accuracy: 0.8021\n",
            "Epoch 4/10\n",
            "231/231 [==============================] - 1s 3ms/step - loss: 0.2808 - categorical_accuracy: 0.8756\n",
            "Epoch 5/10\n",
            "231/231 [==============================] - 1s 3ms/step - loss: 0.2032 - categorical_accuracy: 0.9156\n",
            "Epoch 6/10\n",
            "231/231 [==============================] - 1s 3ms/step - loss: 0.1583 - categorical_accuracy: 0.9331\n",
            "Epoch 7/10\n",
            "231/231 [==============================] - 1s 3ms/step - loss: 0.1357 - categorical_accuracy: 0.9407\n",
            "Epoch 8/10\n",
            "231/231 [==============================] - 1s 3ms/step - loss: 0.1140 - categorical_accuracy: 0.9443\n",
            "Epoch 9/10\n",
            "231/231 [==============================] - 1s 3ms/step - loss: 0.1008 - categorical_accuracy: 0.9456\n",
            "Epoch 10/10\n",
            "231/231 [==============================] - 1s 3ms/step - loss: 0.0921 - categorical_accuracy: 0.9480\n",
            "231/231 [==============================] - 0s 2ms/step\n",
            "58/58 [==============================] - 0s 2ms/step\n"
          ]
        }
      ]
    },
    {
      "cell_type": "code",
      "source": [
        "# Imprimir\n",
        "print(\"Métricas de entrenamiento - Accuracy:\", np.mean(train_accuracy_list)*100)\n",
        "print(\"Métricas de entrenamiento - Precision:\", np.mean(train_precision_list)*100)\n",
        "print(\"Métricas de entrenamiento - Recall:\", np.mean(train_recall_list)*100)\n",
        "print(\"Métricas de entrenamiento - F1-score:\", np.mean(train_f1_list)*100)\n",
        "print('--'*10)\n",
        "print(\"Métricas de validación - Accuracy:\", np.mean(val_accuracy_list)*100)\n",
        "print(\"Métricas de validación - Precision:\", np.mean(val_precision_list)*100)\n",
        "print(\"Métricas de validación - Recall:\", np.mean(val_recall_list)*100)\n",
        "print(\"Métricas de validación - F1-score:\", np.mean(val_f1_list)*100)"
      ],
      "metadata": {
        "colab": {
          "base_uri": "https://localhost:8080/"
        },
        "id": "r6i86tHouOI8",
        "outputId": "e28c70aa-da3c-4937-95cc-8a26cde23e59"
      },
      "execution_count": null,
      "outputs": [
        {
          "output_type": "stream",
          "name": "stdout",
          "text": [
            "Métricas de entrenamiento - Accuracy: 95.978600048405\n",
            "Métricas de entrenamiento - Precision: 95.98749284706847\n",
            "Métricas de entrenamiento - Recall: 95.85232487583204\n",
            "Métricas de entrenamiento - F1-score: 95.85087071262585\n",
            "--------------------\n",
            "Métricas de validación - Accuracy: 59.96499683585551\n",
            "Métricas de validación - Precision: 59.04926384693763\n",
            "Métricas de validación - Recall: 58.970044535060374\n",
            "Métricas de validación - F1-score: 58.94980585761404\n"
          ]
        }
      ]
    },
    {
      "cell_type": "markdown",
      "source": [
        "#Matriz de confusión"
      ],
      "metadata": {
        "id": "u4C1Kmyug9ow"
      }
    },
    {
      "cell_type": "markdown",
      "source": [
        "entrenamiento"
      ],
      "metadata": {
        "id": "4XrftE2-g9pF"
      }
    },
    {
      "cell_type": "code",
      "source": [
        "from sklearn.metrics import confusion_matrix\n",
        "\n",
        "cm = confusion_matrix(y_train_true_class, y_train_pred_class)\n",
        "\n",
        "# Imprimir la matriz de confusión\n",
        "print(\"Matriz de Confusión:\")\n",
        "print(cm)"
      ],
      "metadata": {
        "colab": {
          "base_uri": "https://localhost:8080/"
        },
        "outputId": "aff5e33a-c36c-4eb6-935f-a4f6fe8cf7c4",
        "id": "yzlqBxd4g9pG"
      },
      "execution_count": null,
      "outputs": [
        {
          "output_type": "stream",
          "name": "stdout",
          "text": [
            "Matriz de Confusión:\n",
            "[[2163  198    3]\n",
            " [  77 2301    1]\n",
            " [   2   16 2605]]\n"
          ]
        }
      ]
    },
    {
      "cell_type": "code",
      "source": [
        "import seaborn as sns\n",
        "import matplotlib.pyplot as plt\n",
        "\n",
        "# Definir etiquetas de las clases\n",
        "classes = ['Control', 'Depresión', 'Ansiedad']\n",
        "\n",
        "# Crear un mapa de calor de la matriz de confusión\n",
        "plt.figure(figsize=(8, 6))\n",
        "sns.heatmap(cm, annot=True, fmt='d', cmap='Blues', xticklabels=classes, yticklabels=classes)\n",
        "\n",
        "# Agregar etiquetas y título\n",
        "plt.xlabel('Clases Predichas')\n",
        "plt.ylabel('Clases Reales')\n",
        "plt.title('Matriz de Confusión')\n",
        "\n",
        "plt.show()"
      ],
      "metadata": {
        "colab": {
          "base_uri": "https://localhost:8080/",
          "height": 570
        },
        "outputId": "feff7427-5177-4d0c-952c-f364c5c84e6a",
        "id": "Zgd0T54gg9pG"
      },
      "execution_count": null,
      "outputs": [
        {
          "output_type": "display_data",
          "data": {
            "text/plain": [
              "<Figure size 800x600 with 2 Axes>"
            ],
            "image/png": "[encoded data removed]"
          },
          "metadata": {
            "image/png": {
              "width": 672,
              "height": 553
            }
          }
        }
      ]
    },
    {
      "cell_type": "markdown",
      "source": [
        "validación"
      ],
      "metadata": {
        "id": "1TR1ee4Ig9pH"
      }
    },
    {
      "cell_type": "code",
      "source": [
        "from sklearn.metrics import confusion_matrix\n",
        "\n",
        "cm = confusion_matrix(y_val_true_class, y_val_pred_class)\n",
        "\n",
        "# Imprimir la matriz de confusión\n",
        "print(\"Matriz de Confusión:\")\n",
        "print(cm)"
      ],
      "metadata": {
        "colab": {
          "base_uri": "https://localhost:8080/"
        },
        "outputId": "afbc8b84-ab1b-4e9c-a99d-3d3ad33c603f",
        "id": "7KTmG7Bpg9pH"
      },
      "execution_count": null,
      "outputs": [
        {
          "output_type": "stream",
          "name": "stdout",
          "text": [
            "Matriz de Confusión:\n",
            "[[268 291  32]\n",
            " [294 266  34]\n",
            " [ 47  51 558]]\n"
          ]
        }
      ]
    },
    {
      "cell_type": "code",
      "source": [
        "import seaborn as sns\n",
        "import matplotlib.pyplot as plt\n",
        "\n",
        "# Definir etiquetas de las clases\n",
        "classes = ['Control', 'Depresión', 'Ansiedad']\n",
        "\n",
        "# Crear un mapa de calor de la matriz de confusión\n",
        "plt.figure(figsize=(8, 6))\n",
        "sns.heatmap(cm, annot=True, fmt='d', cmap='Blues', xticklabels=classes, yticklabels=classes)\n",
        "\n",
        "# Agregar etiquetas y título\n",
        "plt.xlabel('Clases Predichas')\n",
        "plt.ylabel('Clases Reales')\n",
        "plt.title('Matriz de Confusión')\n",
        "\n",
        "plt.show()"
      ],
      "metadata": {
        "colab": {
          "base_uri": "https://localhost:8080/",
          "height": 570
        },
        "outputId": "00fc8e3e-9685-440a-aabd-e5c360bdf465",
        "id": "flKrJk4cg9pI"
      },
      "execution_count": null,
      "outputs": [
        {
          "output_type": "display_data",
          "data": {
            "text/plain": [
              "<Figure size 800x600 with 2 Axes>"
            ],
            "image/png": "[encoded data removed]"
          },
          "metadata": {
            "image/png": {
              "width": 662,
              "height": 553
            }
          }
        }
      ]
    },
    {
      "cell_type": "markdown",
      "source": [
        "Guardar el modelo"
      ],
      "metadata": {
        "id": "g-prh_gfHDAO"
      }
    },
    {
      "cell_type": "code",
      "source": [
        "import joblib\n",
        "import os\n",
        "# Directorio para guardar modelos entrenados\n",
        "model_dir = '/content/drive/MyDrive/Experimentación Python Tesis /Experimento Dataset Ansiedad Depresión/BOW/parametros de los modelos'\n",
        "model_filename = 'TWEETS_depresivos-ansiedad (BoW) (RN-CV=10).pkl'\n",
        "model_path_p = os.path.join(model_dir, model_filename)\n",
        "\n",
        "# Guardar el modelo entrenado\n",
        "joblib.dump(model, model_path_p)"
      ],
      "metadata": {
        "colab": {
          "base_uri": "https://localhost:8080/"
        },
        "id": "6c7TZlUjHCjW",
        "outputId": "09823e5e-793b-402b-fed3-81d24fadb1a7"
      },
      "execution_count": null,
      "outputs": [
        {
          "output_type": "execute_result",
          "data": {
            "text/plain": [
              "['/content/drive/MyDrive/Experimentación Python Tesis /Experimento Dataset Ansiedad Depresión/BOW/parametros de los modelos/TWEETS_depresivos-ansiedad (BoW) (RN-CV=10).pkl']"
            ]
          },
          "metadata": {},
          "execution_count": 132
        }
      ]
    }
  ],
  "metadata": {
    "colab": {
      "provenance": [],
      "machine_shape": "hm",
      "gpuType": "T4",
      "mount_file_id": "1JegXv37X864lSOgdQHJrThVY12W-z_-s",
      "authorship_tag": "ABX9TyNnvdodEfT2cG1PPkLIp7II"
    },
    "kernelspec": {
      "display_name": "Python 3",
      "name": "python3"
    },
    "language_info": {
      "name": "python"
    },
    "accelerator": "GPU"
  },
  "nbformat": 4,
  "nbformat_minor": 0
}
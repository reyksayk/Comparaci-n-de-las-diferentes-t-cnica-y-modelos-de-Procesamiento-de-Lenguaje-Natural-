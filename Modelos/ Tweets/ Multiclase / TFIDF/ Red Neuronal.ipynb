{
  "cells": [
    {
      "cell_type": "code",
      "execution_count": null,
      "metadata": {
        "id": "9yavBXdyiEWh"
      },
      "outputs": [],
      "source": [
        "!pip install nltk\n",
        "!pip install spacy\n",
        "!python -m spacy download es_core_news_sm\n",
        "!pip install -U imbalanced-learn\n",
        "!pip install pyspellchecker"
      ]
    },
    {
      "cell_type": "code",
      "execution_count": null,
      "metadata": {
        "id": "1uRSa1LYb7SG"
      },
      "outputs": [],
      "source": [
        "import pandas as pd\n",
        "import numpy as np\n",
        "\n",
        "import matplotlib.pyplot as plt\n",
        "import seaborn as sns; sns.set()\n",
        "%config InlineBackend.figure_format = 'retina'\n",
        "%matplotlib inline\n",
        "\n",
        "# Oculta warnings\n",
        "import warnings\n",
        "warnings.simplefilter('ignore')"
      ]
    },
    {
      "cell_type": "code",
      "execution_count": null,
      "metadata": {
        "colab": {
          "base_uri": "https://localhost:8080/",
          "height": 17
        },
        "id": "hzPoe11ed1Cn",
        "outputId": "36adeec2-1c42-4828-ae2f-fb83f8f1eb67"
      },
      "outputs": [
        {
          "output_type": "display_data",
          "data": {
            "text/plain": [
              "<IPython.core.display.HTML object>"
            ],
            "text/html": [
              "<style>.container { width:95% !important; }</style>"
            ]
          },
          "metadata": {}
        }
      ],
      "source": [
        "from IPython.core.display import display, HTML\n",
        "display(HTML(\"<style>.container { width:95% !important; }</style>\"))"
      ]
    },
    {
      "cell_type": "code",
      "source": [
        "# Tamaño del subconjunto de documentos con el que se va a trabajar.\n",
        "# Se tomarán num_docs para training/validadación y num_docs para test.\n",
        "num_docs = 20000\n",
        "num_docs_test = 10000\n"
      ],
      "metadata": {
        "id": "TIcjMiJyAxkM"
      },
      "execution_count": null,
      "outputs": []
    },
    {
      "cell_type": "markdown",
      "metadata": {
        "id": "CLArw93weAlq"
      },
      "source": [
        "# CARGAR DATOS"
      ]
    },
    {
      "cell_type": "markdown",
      "metadata": {
        "id": "B499esgwety5"
      },
      "source": [
        "**DATOS DE ENTRENAMIENTO**\n",
        "\n",
        "la columna de trastornos indica si el TWEET es de una persona con depresión o es de control.\n",
        "\n",
        "\n",
        "**control**:     0\n",
        "\n",
        "**depresión**:   1\n",
        "\n",
        "**ansiedad** :  2\n"
      ]
    },
    {
      "cell_type": "code",
      "execution_count": null,
      "metadata": {
        "colab": {
          "base_uri": "https://localhost:8080/",
          "height": 570
        },
        "id": "O7T2rh8Md6p2",
        "outputId": "7ff88635-d881-4ab1-d993-30cdc9f15b1d"
      },
      "outputs": [
        {
          "output_type": "stream",
          "name": "stdout",
          "text": [
            "<class 'pandas.core.frame.DataFrame'>\n",
            "RangeIndex: 97543 entries, 0 to 97542\n",
            "Data columns (total 4 columns):\n",
            " #   Column      Non-Null Count  Dtype  \n",
            "---  ------      --------------  -----  \n",
            " 0   USER_ID     65054 non-null  object \n",
            " 1   TWEET_ID    64990 non-null  float64\n",
            " 2   TWEET_TEXT  97479 non-null  object \n",
            " 3   trastorno   97543 non-null  int64  \n",
            "dtypes: float64(1), int64(1), object(2)\n",
            "memory usage: 3.0+ MB\n"
          ]
        },
        {
          "output_type": "execute_result",
          "data": {
            "text/plain": [
              "  USER_ID      TWEET_ID                                         TWEET_TEXT  \\\n",
              "0      47  2.147484e+09  RT @FraRocanroleras: Te estás destruyendo y lo...   \n",
              "1       6  2.147484e+09  No sé cómo estar sin ti pero tampoco sé cómo e...   \n",
              "2     NaN           NaN   Me pregunto por qué últimamente no me siento ...   \n",
              "3     NaN           NaN   Mi ansiedad en torno a toda esta enfermedad s...   \n",
              "4     NaN           NaN  Esto ha estado en mi mente bastante durante lo...   \n",
              "5     NaN           NaN  ¿Necesitas algunas ideas? Este canal es maravi...   \n",
              "6      31  2.147484e+09  Intenté decir algo pero no pude,sólo quedé con...   \n",
              "7      27  2.147484e+09  tumblrbot ha preguntado: ROBOTS OR DINOSAURS? ...   \n",
              "8      49  2.147484e+09  El smirnoff es la bebida mas traicionera que e...   \n",
              "9      36  2.147484e+09  ¿Por qué mis primas son delgadas y tan hermosa...   \n",
              "\n",
              "   trastorno  \n",
              "0          1  \n",
              "1          0  \n",
              "2          2  \n",
              "3          2  \n",
              "4          2  \n",
              "5          2  \n",
              "6          0  \n",
              "7          1  \n",
              "8          1  \n",
              "9          0  "
            ],
            "text/html": [
              "\n",
              "  <div id=\"df-00368e29-4c14-47f4-8a03-ed36bf0f3a83\" class=\"colab-df-container\">\n",
              "    <div>\n",
              "<style scoped>\n",
              "    .dataframe tbody tr th:only-of-type {\n",
              "        vertical-align: middle;\n",
              "    }\n",
              "\n",
              "    .dataframe tbody tr th {\n",
              "        vertical-align: top;\n",
              "    }\n",
              "\n",
              "    .dataframe thead th {\n",
              "        text-align: right;\n",
              "    }\n",
              "</style>\n",
              "<table border=\"1\" class=\"dataframe\">\n",
              "  <thead>\n",
              "    <tr style=\"text-align: right;\">\n",
              "      <th></th>\n",
              "      <th>USER_ID</th>\n",
              "      <th>TWEET_ID</th>\n",
              "      <th>TWEET_TEXT</th>\n",
              "      <th>trastorno</th>\n",
              "    </tr>\n",
              "  </thead>\n",
              "  <tbody>\n",
              "    <tr>\n",
              "      <th>0</th>\n",
              "      <td>47</td>\n",
              "      <td>2.147484e+09</td>\n",
              "      <td>RT @FraRocanroleras: Te estás destruyendo y lo...</td>\n",
              "      <td>1</td>\n",
              "    </tr>\n",
              "    <tr>\n",
              "      <th>1</th>\n",
              "      <td>6</td>\n",
              "      <td>2.147484e+09</td>\n",
              "      <td>No sé cómo estar sin ti pero tampoco sé cómo e...</td>\n",
              "      <td>0</td>\n",
              "    </tr>\n",
              "    <tr>\n",
              "      <th>2</th>\n",
              "      <td>NaN</td>\n",
              "      <td>NaN</td>\n",
              "      <td>Me pregunto por qué últimamente no me siento ...</td>\n",
              "      <td>2</td>\n",
              "    </tr>\n",
              "    <tr>\n",
              "      <th>3</th>\n",
              "      <td>NaN</td>\n",
              "      <td>NaN</td>\n",
              "      <td>Mi ansiedad en torno a toda esta enfermedad s...</td>\n",
              "      <td>2</td>\n",
              "    </tr>\n",
              "    <tr>\n",
              "      <th>4</th>\n",
              "      <td>NaN</td>\n",
              "      <td>NaN</td>\n",
              "      <td>Esto ha estado en mi mente bastante durante lo...</td>\n",
              "      <td>2</td>\n",
              "    </tr>\n",
              "    <tr>\n",
              "      <th>5</th>\n",
              "      <td>NaN</td>\n",
              "      <td>NaN</td>\n",
              "      <td>¿Necesitas algunas ideas? Este canal es maravi...</td>\n",
              "      <td>2</td>\n",
              "    </tr>\n",
              "    <tr>\n",
              "      <th>6</th>\n",
              "      <td>31</td>\n",
              "      <td>2.147484e+09</td>\n",
              "      <td>Intenté decir algo pero no pude,sólo quedé con...</td>\n",
              "      <td>0</td>\n",
              "    </tr>\n",
              "    <tr>\n",
              "      <th>7</th>\n",
              "      <td>27</td>\n",
              "      <td>2.147484e+09</td>\n",
              "      <td>tumblrbot ha preguntado: ROBOTS OR DINOSAURS? ...</td>\n",
              "      <td>1</td>\n",
              "    </tr>\n",
              "    <tr>\n",
              "      <th>8</th>\n",
              "      <td>49</td>\n",
              "      <td>2.147484e+09</td>\n",
              "      <td>El smirnoff es la bebida mas traicionera que e...</td>\n",
              "      <td>1</td>\n",
              "    </tr>\n",
              "    <tr>\n",
              "      <th>9</th>\n",
              "      <td>36</td>\n",
              "      <td>2.147484e+09</td>\n",
              "      <td>¿Por qué mis primas son delgadas y tan hermosa...</td>\n",
              "      <td>0</td>\n",
              "    </tr>\n",
              "  </tbody>\n",
              "</table>\n",
              "</div>\n",
              "    <div class=\"colab-df-buttons\">\n",
              "\n",
              "  <div class=\"colab-df-container\">\n",
              "    <button class=\"colab-df-convert\" onclick=\"convertToInteractive('df-00368e29-4c14-47f4-8a03-ed36bf0f3a83')\"\n",
              "            title=\"Convert this dataframe to an interactive table.\"\n",
              "            style=\"display:none;\">\n",
              "\n",
              "  <svg xmlns=\"http://www.w3.org/2000/svg\" height=\"24px\" viewBox=\"0 -960 960 960\">\n",
              "    <path d=\"M120-120v-720h720v720H120Zm60-500h600v-160H180v160Zm220 220h160v-160H400v160Zm0 220h160v-160H400v160ZM180-400h160v-160H180v160Zm440 0h160v-160H620v160ZM180-180h160v-160H180v160Zm440 0h160v-160H620v160Z\"/>\n",
              "  </svg>\n",
              "    </button>\n",
              "\n",
              "  <style>\n",
              "    .colab-df-container {\n",
              "      display:flex;\n",
              "      gap: 12px;\n",
              "    }\n",
              "\n",
              "    .colab-df-convert {\n",
              "      background-color: #E8F0FE;\n",
              "      border: none;\n",
              "      border-radius: 50%;\n",
              "      cursor: pointer;\n",
              "      display: none;\n",
              "      fill: #1967D2;\n",
              "      height: 32px;\n",
              "      padding: 0 0 0 0;\n",
              "      width: 32px;\n",
              "    }\n",
              "\n",
              "    .colab-df-convert:hover {\n",
              "      background-color: #E2EBFA;\n",
              "      box-shadow: 0px 1px 2px rgba(60, 64, 67, 0.3), 0px 1px 3px 1px rgba(60, 64, 67, 0.15);\n",
              "      fill: #174EA6;\n",
              "    }\n",
              "\n",
              "    .colab-df-buttons div {\n",
              "      margin-bottom: 4px;\n",
              "    }\n",
              "\n",
              "    [theme=dark] .colab-df-convert {\n",
              "      background-color: #3B4455;\n",
              "      fill: #D2E3FC;\n",
              "    }\n",
              "\n",
              "    [theme=dark] .colab-df-convert:hover {\n",
              "      background-color: #434B5C;\n",
              "      box-shadow: 0px 1px 3px 1px rgba(0, 0, 0, 0.15);\n",
              "      filter: drop-shadow(0px 1px 2px rgba(0, 0, 0, 0.3));\n",
              "      fill: #FFFFFF;\n",
              "    }\n",
              "  </style>\n",
              "\n",
              "    <script>\n",
              "      const buttonEl =\n",
              "        document.querySelector('#df-00368e29-4c14-47f4-8a03-ed36bf0f3a83 button.colab-df-convert');\n",
              "      buttonEl.style.display =\n",
              "        google.colab.kernel.accessAllowed ? 'block' : 'none';\n",
              "\n",
              "      async function convertToInteractive(key) {\n",
              "        const element = document.querySelector('#df-00368e29-4c14-47f4-8a03-ed36bf0f3a83');\n",
              "        const dataTable =\n",
              "          await google.colab.kernel.invokeFunction('convertToInteractive',\n",
              "                                                    [key], {});\n",
              "        if (!dataTable) return;\n",
              "\n",
              "        const docLinkHtml = 'Like what you see? Visit the ' +\n",
              "          '<a target=\"_blank\" href=https://colab.research.google.com/notebooks/data_table.ipynb>data table notebook</a>'\n",
              "          + ' to learn more about interactive tables.';\n",
              "        element.innerHTML = '';\n",
              "        dataTable['output_type'] = 'display_data';\n",
              "        await google.colab.output.renderOutput(dataTable, element);\n",
              "        const docLink = document.createElement('div');\n",
              "        docLink.innerHTML = docLinkHtml;\n",
              "        element.appendChild(docLink);\n",
              "      }\n",
              "    </script>\n",
              "  </div>\n",
              "\n",
              "\n",
              "<div id=\"df-900caa0d-49e4-4689-9757-390f40027640\">\n",
              "  <button class=\"colab-df-quickchart\" onclick=\"quickchart('df-900caa0d-49e4-4689-9757-390f40027640')\"\n",
              "            title=\"Suggest charts.\"\n",
              "            style=\"display:none;\">\n",
              "\n",
              "<svg xmlns=\"http://www.w3.org/2000/svg\" height=\"24px\"viewBox=\"0 0 24 24\"\n",
              "     width=\"24px\">\n",
              "    <g>\n",
              "        <path d=\"M19 3H5c-1.1 0-2 .9-2 2v14c0 1.1.9 2 2 2h14c1.1 0 2-.9 2-2V5c0-1.1-.9-2-2-2zM9 17H7v-7h2v7zm4 0h-2V7h2v10zm4 0h-2v-4h2v4z\"/>\n",
              "    </g>\n",
              "</svg>\n",
              "  </button>\n",
              "\n",
              "<style>\n",
              "  .colab-df-quickchart {\n",
              "      --bg-color: #E8F0FE;\n",
              "      --fill-color: #1967D2;\n",
              "      --hover-bg-color: #E2EBFA;\n",
              "      --hover-fill-color: #174EA6;\n",
              "      --disabled-fill-color: #AAA;\n",
              "      --disabled-bg-color: #DDD;\n",
              "  }\n",
              "\n",
              "  [theme=dark] .colab-df-quickchart {\n",
              "      --bg-color: #3B4455;\n",
              "      --fill-color: #D2E3FC;\n",
              "      --hover-bg-color: #434B5C;\n",
              "      --hover-fill-color: #FFFFFF;\n",
              "      --disabled-bg-color: #3B4455;\n",
              "      --disabled-fill-color: #666;\n",
              "  }\n",
              "\n",
              "  .colab-df-quickchart {\n",
              "    background-color: var(--bg-color);\n",
              "    border: none;\n",
              "    border-radius: 50%;\n",
              "    cursor: pointer;\n",
              "    display: none;\n",
              "    fill: var(--fill-color);\n",
              "    height: 32px;\n",
              "    padding: 0;\n",
              "    width: 32px;\n",
              "  }\n",
              "\n",
              "  .colab-df-quickchart:hover {\n",
              "    background-color: var(--hover-bg-color);\n",
              "    box-shadow: 0 1px 2px rgba(60, 64, 67, 0.3), 0 1px 3px 1px rgba(60, 64, 67, 0.15);\n",
              "    fill: var(--button-hover-fill-color);\n",
              "  }\n",
              "\n",
              "  .colab-df-quickchart-complete:disabled,\n",
              "  .colab-df-quickchart-complete:disabled:hover {\n",
              "    background-color: var(--disabled-bg-color);\n",
              "    fill: var(--disabled-fill-color);\n",
              "    box-shadow: none;\n",
              "  }\n",
              "\n",
              "  .colab-df-spinner {\n",
              "    border: 2px solid var(--fill-color);\n",
              "    border-color: transparent;\n",
              "    border-bottom-color: var(--fill-color);\n",
              "    animation:\n",
              "      spin 1s steps(1) infinite;\n",
              "  }\n",
              "\n",
              "  @keyframes spin {\n",
              "    0% {\n",
              "      border-color: transparent;\n",
              "      border-bottom-color: var(--fill-color);\n",
              "      border-left-color: var(--fill-color);\n",
              "    }\n",
              "    20% {\n",
              "      border-color: transparent;\n",
              "      border-left-color: var(--fill-color);\n",
              "      border-top-color: var(--fill-color);\n",
              "    }\n",
              "    30% {\n",
              "      border-color: transparent;\n",
              "      border-left-color: var(--fill-color);\n",
              "      border-top-color: var(--fill-color);\n",
              "      border-right-color: var(--fill-color);\n",
              "    }\n",
              "    40% {\n",
              "      border-color: transparent;\n",
              "      border-right-color: var(--fill-color);\n",
              "      border-top-color: var(--fill-color);\n",
              "    }\n",
              "    60% {\n",
              "      border-color: transparent;\n",
              "      border-right-color: var(--fill-color);\n",
              "    }\n",
              "    80% {\n",
              "      border-color: transparent;\n",
              "      border-right-color: var(--fill-color);\n",
              "      border-bottom-color: var(--fill-color);\n",
              "    }\n",
              "    90% {\n",
              "      border-color: transparent;\n",
              "      border-bottom-color: var(--fill-color);\n",
              "    }\n",
              "  }\n",
              "</style>\n",
              "\n",
              "  <script>\n",
              "    async function quickchart(key) {\n",
              "      const quickchartButtonEl =\n",
              "        document.querySelector('#' + key + ' button');\n",
              "      quickchartButtonEl.disabled = true;  // To prevent multiple clicks.\n",
              "      quickchartButtonEl.classList.add('colab-df-spinner');\n",
              "      try {\n",
              "        const charts = await google.colab.kernel.invokeFunction(\n",
              "            'suggestCharts', [key], {});\n",
              "      } catch (error) {\n",
              "        console.error('Error during call to suggestCharts:', error);\n",
              "      }\n",
              "      quickchartButtonEl.classList.remove('colab-df-spinner');\n",
              "      quickchartButtonEl.classList.add('colab-df-quickchart-complete');\n",
              "    }\n",
              "    (() => {\n",
              "      let quickchartButtonEl =\n",
              "        document.querySelector('#df-900caa0d-49e4-4689-9757-390f40027640 button');\n",
              "      quickchartButtonEl.style.display =\n",
              "        google.colab.kernel.accessAllowed ? 'block' : 'none';\n",
              "    })();\n",
              "  </script>\n",
              "</div>\n",
              "    </div>\n",
              "  </div>\n"
            ]
          },
          "metadata": {},
          "execution_count": 4
        }
      ],
      "source": [
        "ruta_archivo_entrenamiento = '/content/drive/MyDrive/Experimentación Python Tesis /Data: A D C/train.csv'\n",
        "data_train = pd.read_csv(ruta_archivo_entrenamiento, sep=',')\n",
        "#data_train = data.iloc[:num_docs, :]\n",
        "data_train.info()\n",
        "data_train.head(10)"
      ]
    },
    {
      "cell_type": "code",
      "execution_count": null,
      "metadata": {
        "colab": {
          "base_uri": "https://localhost:8080/"
        },
        "id": "U3yu15xZSi3G",
        "outputId": "506cadf2-c51e-4235-c10a-48dfd9523e0e"
      },
      "outputs": [
        {
          "output_type": "stream",
          "name": "stdout",
          "text": [
            "Número de filas nulas o vacías en la columna 'TWEET_TEXT': 64\n"
          ]
        }
      ],
      "source": [
        "# Verificar si hay filas nulas o vacías en la columna 'TWEET_TEXT'\n",
        "null_values = data_train['TWEET_TEXT'].isnull().sum()\n",
        "\n",
        "# Imprimir el número de filas nulas o vacías\n",
        "print(\"Número de filas nulas o vacías en la columna 'TWEET_TEXT':\", null_values)"
      ]
    },
    {
      "cell_type": "code",
      "source": [
        "data_train.dropna(subset=['TWEET_TEXT'], inplace=True)\n",
        "\n",
        "# Verificar si hay filas nulas o vacías en la columna 'TWEET_TEXT'\n",
        "null_values = data_train['TWEET_TEXT'].isnull().sum()\n",
        "\n",
        "# Imprimir el número de filas nulas o vacías\n",
        "print(\"Número de filas nulas o vacías en la columna 'TWEET_TEXT':\", null_values)\n",
        "data_train.info()"
      ],
      "metadata": {
        "colab": {
          "base_uri": "https://localhost:8080/"
        },
        "id": "C1koM-mfk7ys",
        "outputId": "8f992476-74ba-45d3-e519-7465d12451ec"
      },
      "execution_count": null,
      "outputs": [
        {
          "output_type": "stream",
          "name": "stdout",
          "text": [
            "Número de filas nulas o vacías en la columna 'TWEET_TEXT': 0\n",
            "<class 'pandas.core.frame.DataFrame'>\n",
            "Int64Index: 97479 entries, 0 to 97542\n",
            "Data columns (total 4 columns):\n",
            " #   Column      Non-Null Count  Dtype  \n",
            "---  ------      --------------  -----  \n",
            " 0   USER_ID     64990 non-null  object \n",
            " 1   TWEET_ID    64990 non-null  float64\n",
            " 2   TWEET_TEXT  97479 non-null  object \n",
            " 3   trastorno   97479 non-null  int64  \n",
            "dtypes: float64(1), int64(1), object(2)\n",
            "memory usage: 3.7+ MB\n"
          ]
        }
      ]
    },
    {
      "cell_type": "markdown",
      "metadata": {
        "id": "UHPt8Wqcfk6m"
      },
      "source": [
        "**DATOS DE PRUEBA**"
      ]
    },
    {
      "cell_type": "code",
      "execution_count": null,
      "metadata": {
        "colab": {
          "base_uri": "https://localhost:8080/",
          "height": 414
        },
        "id": "pKQ6-Kisfa1r",
        "outputId": "4c5753c4-8902-4fc5-b42c-a337e502f8d5"
      },
      "outputs": [
        {
          "output_type": "stream",
          "name": "stdout",
          "text": [
            "<class 'pandas.core.frame.DataFrame'>\n",
            "RangeIndex: 41805 entries, 0 to 41804\n",
            "Data columns (total 4 columns):\n",
            " #   Column      Non-Null Count  Dtype  \n",
            "---  ------      --------------  -----  \n",
            " 0   USER_ID     27874 non-null  object \n",
            " 1   TWEET_ID    27850 non-null  float64\n",
            " 2   TWEET_TEXT  41781 non-null  object \n",
            " 3   trastorno   41805 non-null  int64  \n",
            "dtypes: float64(1), int64(1), object(2)\n",
            "memory usage: 1.3+ MB\n"
          ]
        },
        {
          "output_type": "execute_result",
          "data": {
            "text/plain": [
              "  USER_ID      TWEET_ID                                         TWEET_TEXT  \\\n",
              "0      17  2.147484e+09  RT @_badcatt: Necesito una electiva que me ens...   \n",
              "1      32  2.147484e+09  Mañana empiezo mi primera clase de danza y no ...   \n",
              "2      69  2.147484e+09  RT @StxpidFat: Vivo ilusionandome con cosas qu...   \n",
              "3      48  2.147484e+09                                        me quda poc   \n",
              "4     NaN           NaN  3600.0, eso es algo como investigar, eventualm...   \n",
              "\n",
              "   trastorno  \n",
              "0          0  \n",
              "1          0  \n",
              "2          0  \n",
              "3          1  \n",
              "4          2  "
            ],
            "text/html": [
              "\n",
              "  <div id=\"df-c6b836ae-ad6b-460e-8d02-b67007b332be\" class=\"colab-df-container\">\n",
              "    <div>\n",
              "<style scoped>\n",
              "    .dataframe tbody tr th:only-of-type {\n",
              "        vertical-align: middle;\n",
              "    }\n",
              "\n",
              "    .dataframe tbody tr th {\n",
              "        vertical-align: top;\n",
              "    }\n",
              "\n",
              "    .dataframe thead th {\n",
              "        text-align: right;\n",
              "    }\n",
              "</style>\n",
              "<table border=\"1\" class=\"dataframe\">\n",
              "  <thead>\n",
              "    <tr style=\"text-align: right;\">\n",
              "      <th></th>\n",
              "      <th>USER_ID</th>\n",
              "      <th>TWEET_ID</th>\n",
              "      <th>TWEET_TEXT</th>\n",
              "      <th>trastorno</th>\n",
              "    </tr>\n",
              "  </thead>\n",
              "  <tbody>\n",
              "    <tr>\n",
              "      <th>0</th>\n",
              "      <td>17</td>\n",
              "      <td>2.147484e+09</td>\n",
              "      <td>RT @_badcatt: Necesito una electiva que me ens...</td>\n",
              "      <td>0</td>\n",
              "    </tr>\n",
              "    <tr>\n",
              "      <th>1</th>\n",
              "      <td>32</td>\n",
              "      <td>2.147484e+09</td>\n",
              "      <td>Mañana empiezo mi primera clase de danza y no ...</td>\n",
              "      <td>0</td>\n",
              "    </tr>\n",
              "    <tr>\n",
              "      <th>2</th>\n",
              "      <td>69</td>\n",
              "      <td>2.147484e+09</td>\n",
              "      <td>RT @StxpidFat: Vivo ilusionandome con cosas qu...</td>\n",
              "      <td>0</td>\n",
              "    </tr>\n",
              "    <tr>\n",
              "      <th>3</th>\n",
              "      <td>48</td>\n",
              "      <td>2.147484e+09</td>\n",
              "      <td>me quda poc</td>\n",
              "      <td>1</td>\n",
              "    </tr>\n",
              "    <tr>\n",
              "      <th>4</th>\n",
              "      <td>NaN</td>\n",
              "      <td>NaN</td>\n",
              "      <td>3600.0, eso es algo como investigar, eventualm...</td>\n",
              "      <td>2</td>\n",
              "    </tr>\n",
              "  </tbody>\n",
              "</table>\n",
              "</div>\n",
              "    <div class=\"colab-df-buttons\">\n",
              "\n",
              "  <div class=\"colab-df-container\">\n",
              "    <button class=\"colab-df-convert\" onclick=\"convertToInteractive('df-c6b836ae-ad6b-460e-8d02-b67007b332be')\"\n",
              "            title=\"Convert this dataframe to an interactive table.\"\n",
              "            style=\"display:none;\">\n",
              "\n",
              "  <svg xmlns=\"http://www.w3.org/2000/svg\" height=\"24px\" viewBox=\"0 -960 960 960\">\n",
              "    <path d=\"M120-120v-720h720v720H120Zm60-500h600v-160H180v160Zm220 220h160v-160H400v160Zm0 220h160v-160H400v160ZM180-400h160v-160H180v160Zm440 0h160v-160H620v160ZM180-180h160v-160H180v160Zm440 0h160v-160H620v160Z\"/>\n",
              "  </svg>\n",
              "    </button>\n",
              "\n",
              "  <style>\n",
              "    .colab-df-container {\n",
              "      display:flex;\n",
              "      gap: 12px;\n",
              "    }\n",
              "\n",
              "    .colab-df-convert {\n",
              "      background-color: #E8F0FE;\n",
              "      border: none;\n",
              "      border-radius: 50%;\n",
              "      cursor: pointer;\n",
              "      display: none;\n",
              "      fill: #1967D2;\n",
              "      height: 32px;\n",
              "      padding: 0 0 0 0;\n",
              "      width: 32px;\n",
              "    }\n",
              "\n",
              "    .colab-df-convert:hover {\n",
              "      background-color: #E2EBFA;\n",
              "      box-shadow: 0px 1px 2px rgba(60, 64, 67, 0.3), 0px 1px 3px 1px rgba(60, 64, 67, 0.15);\n",
              "      fill: #174EA6;\n",
              "    }\n",
              "\n",
              "    .colab-df-buttons div {\n",
              "      margin-bottom: 4px;\n",
              "    }\n",
              "\n",
              "    [theme=dark] .colab-df-convert {\n",
              "      background-color: #3B4455;\n",
              "      fill: #D2E3FC;\n",
              "    }\n",
              "\n",
              "    [theme=dark] .colab-df-convert:hover {\n",
              "      background-color: #434B5C;\n",
              "      box-shadow: 0px 1px 3px 1px rgba(0, 0, 0, 0.15);\n",
              "      filter: drop-shadow(0px 1px 2px rgba(0, 0, 0, 0.3));\n",
              "      fill: #FFFFFF;\n",
              "    }\n",
              "  </style>\n",
              "\n",
              "    <script>\n",
              "      const buttonEl =\n",
              "        document.querySelector('#df-c6b836ae-ad6b-460e-8d02-b67007b332be button.colab-df-convert');\n",
              "      buttonEl.style.display =\n",
              "        google.colab.kernel.accessAllowed ? 'block' : 'none';\n",
              "\n",
              "      async function convertToInteractive(key) {\n",
              "        const element = document.querySelector('#df-c6b836ae-ad6b-460e-8d02-b67007b332be');\n",
              "        const dataTable =\n",
              "          await google.colab.kernel.invokeFunction('convertToInteractive',\n",
              "                                                    [key], {});\n",
              "        if (!dataTable) return;\n",
              "\n",
              "        const docLinkHtml = 'Like what you see? Visit the ' +\n",
              "          '<a target=\"_blank\" href=https://colab.research.google.com/notebooks/data_table.ipynb>data table notebook</a>'\n",
              "          + ' to learn more about interactive tables.';\n",
              "        element.innerHTML = '';\n",
              "        dataTable['output_type'] = 'display_data';\n",
              "        await google.colab.output.renderOutput(dataTable, element);\n",
              "        const docLink = document.createElement('div');\n",
              "        docLink.innerHTML = docLinkHtml;\n",
              "        element.appendChild(docLink);\n",
              "      }\n",
              "    </script>\n",
              "  </div>\n",
              "\n",
              "\n",
              "<div id=\"df-e019ce08-f4b7-428d-9157-4d3cd0d61cdf\">\n",
              "  <button class=\"colab-df-quickchart\" onclick=\"quickchart('df-e019ce08-f4b7-428d-9157-4d3cd0d61cdf')\"\n",
              "            title=\"Suggest charts.\"\n",
              "            style=\"display:none;\">\n",
              "\n",
              "<svg xmlns=\"http://www.w3.org/2000/svg\" height=\"24px\"viewBox=\"0 0 24 24\"\n",
              "     width=\"24px\">\n",
              "    <g>\n",
              "        <path d=\"M19 3H5c-1.1 0-2 .9-2 2v14c0 1.1.9 2 2 2h14c1.1 0 2-.9 2-2V5c0-1.1-.9-2-2-2zM9 17H7v-7h2v7zm4 0h-2V7h2v10zm4 0h-2v-4h2v4z\"/>\n",
              "    </g>\n",
              "</svg>\n",
              "  </button>\n",
              "\n",
              "<style>\n",
              "  .colab-df-quickchart {\n",
              "      --bg-color: #E8F0FE;\n",
              "      --fill-color: #1967D2;\n",
              "      --hover-bg-color: #E2EBFA;\n",
              "      --hover-fill-color: #174EA6;\n",
              "      --disabled-fill-color: #AAA;\n",
              "      --disabled-bg-color: #DDD;\n",
              "  }\n",
              "\n",
              "  [theme=dark] .colab-df-quickchart {\n",
              "      --bg-color: #3B4455;\n",
              "      --fill-color: #D2E3FC;\n",
              "      --hover-bg-color: #434B5C;\n",
              "      --hover-fill-color: #FFFFFF;\n",
              "      --disabled-bg-color: #3B4455;\n",
              "      --disabled-fill-color: #666;\n",
              "  }\n",
              "\n",
              "  .colab-df-quickchart {\n",
              "    background-color: var(--bg-color);\n",
              "    border: none;\n",
              "    border-radius: 50%;\n",
              "    cursor: pointer;\n",
              "    display: none;\n",
              "    fill: var(--fill-color);\n",
              "    height: 32px;\n",
              "    padding: 0;\n",
              "    width: 32px;\n",
              "  }\n",
              "\n",
              "  .colab-df-quickchart:hover {\n",
              "    background-color: var(--hover-bg-color);\n",
              "    box-shadow: 0 1px 2px rgba(60, 64, 67, 0.3), 0 1px 3px 1px rgba(60, 64, 67, 0.15);\n",
              "    fill: var(--button-hover-fill-color);\n",
              "  }\n",
              "\n",
              "  .colab-df-quickchart-complete:disabled,\n",
              "  .colab-df-quickchart-complete:disabled:hover {\n",
              "    background-color: var(--disabled-bg-color);\n",
              "    fill: var(--disabled-fill-color);\n",
              "    box-shadow: none;\n",
              "  }\n",
              "\n",
              "  .colab-df-spinner {\n",
              "    border: 2px solid var(--fill-color);\n",
              "    border-color: transparent;\n",
              "    border-bottom-color: var(--fill-color);\n",
              "    animation:\n",
              "      spin 1s steps(1) infinite;\n",
              "  }\n",
              "\n",
              "  @keyframes spin {\n",
              "    0% {\n",
              "      border-color: transparent;\n",
              "      border-bottom-color: var(--fill-color);\n",
              "      border-left-color: var(--fill-color);\n",
              "    }\n",
              "    20% {\n",
              "      border-color: transparent;\n",
              "      border-left-color: var(--fill-color);\n",
              "      border-top-color: var(--fill-color);\n",
              "    }\n",
              "    30% {\n",
              "      border-color: transparent;\n",
              "      border-left-color: var(--fill-color);\n",
              "      border-top-color: var(--fill-color);\n",
              "      border-right-color: var(--fill-color);\n",
              "    }\n",
              "    40% {\n",
              "      border-color: transparent;\n",
              "      border-right-color: var(--fill-color);\n",
              "      border-top-color: var(--fill-color);\n",
              "    }\n",
              "    60% {\n",
              "      border-color: transparent;\n",
              "      border-right-color: var(--fill-color);\n",
              "    }\n",
              "    80% {\n",
              "      border-color: transparent;\n",
              "      border-right-color: var(--fill-color);\n",
              "      border-bottom-color: var(--fill-color);\n",
              "    }\n",
              "    90% {\n",
              "      border-color: transparent;\n",
              "      border-bottom-color: var(--fill-color);\n",
              "    }\n",
              "  }\n",
              "</style>\n",
              "\n",
              "  <script>\n",
              "    async function quickchart(key) {\n",
              "      const quickchartButtonEl =\n",
              "        document.querySelector('#' + key + ' button');\n",
              "      quickchartButtonEl.disabled = true;  // To prevent multiple clicks.\n",
              "      quickchartButtonEl.classList.add('colab-df-spinner');\n",
              "      try {\n",
              "        const charts = await google.colab.kernel.invokeFunction(\n",
              "            'suggestCharts', [key], {});\n",
              "      } catch (error) {\n",
              "        console.error('Error during call to suggestCharts:', error);\n",
              "      }\n",
              "      quickchartButtonEl.classList.remove('colab-df-spinner');\n",
              "      quickchartButtonEl.classList.add('colab-df-quickchart-complete');\n",
              "    }\n",
              "    (() => {\n",
              "      let quickchartButtonEl =\n",
              "        document.querySelector('#df-e019ce08-f4b7-428d-9157-4d3cd0d61cdf button');\n",
              "      quickchartButtonEl.style.display =\n",
              "        google.colab.kernel.accessAllowed ? 'block' : 'none';\n",
              "    })();\n",
              "  </script>\n",
              "</div>\n",
              "    </div>\n",
              "  </div>\n"
            ]
          },
          "metadata": {},
          "execution_count": 7
        }
      ],
      "source": [
        "ruta_archivo_prueba = '/content/drive/MyDrive/Experimentación Python Tesis /Data: A D C/test.csv'\n",
        "data_test = pd.read_csv(ruta_archivo_prueba, lineterminator='\\n')\n",
        "#data_test =data_t.iloc[:num_docs_test, :]\n",
        "data_test.info()\n",
        "data_test.head()"
      ]
    },
    {
      "cell_type": "code",
      "execution_count": null,
      "metadata": {
        "colab": {
          "base_uri": "https://localhost:8080/"
        },
        "id": "r3Hfxy7gSp17",
        "outputId": "14a18ef2-9e0a-455e-aef8-def481b3a662"
      },
      "outputs": [
        {
          "output_type": "stream",
          "name": "stdout",
          "text": [
            "Número de filas nulas o vacías en la columna 'trastorno': 0\n"
          ]
        }
      ],
      "source": [
        "# Verificar si hay filas nulas o vacías en la columna 'trastorno'\n",
        "null = data_test['trastorno'].isnull().sum()\n",
        "\n",
        "# Imprimir el número de filas nulas o vacías\n",
        "print(\"Número de filas nulas o vacías en la columna 'trastorno':\", null)"
      ]
    },
    {
      "cell_type": "markdown",
      "metadata": {
        "id": "pXrNY3sggdfA"
      },
      "source": [
        "# Preparación de los datos"
      ]
    },
    {
      "cell_type": "markdown",
      "metadata": {
        "id": "JobPUt6LgjH6"
      },
      "source": [
        "*Eliminar etiquedas HTML*"
      ]
    },
    {
      "cell_type": "code",
      "execution_count": null,
      "metadata": {
        "id": "knYz80SLgoq8"
      },
      "outputs": [],
      "source": [
        "import re\n",
        "\n",
        "def removeHTML(text):\n",
        "    if isinstance(text, str):  # Verificar si es de tipo string\n",
        "        cleanr = re.compile('<.*?>')\n",
        "        cleantext = re.sub(cleanr, '', text)\n",
        "        return cleantext\n",
        "    else:\n",
        "        return text  # Devolver el valor original si no es de tipo string"
      ]
    },
    {
      "cell_type": "code",
      "source": [
        "import nltk\n",
        "nltk.download('stopwords')  #Solamente se ha de descargar la primera vez.\n",
        "stopwords_en = nltk.corpus.stopwords.words('spanish')   # Extrae las stopwords en español"
      ],
      "metadata": {
        "colab": {
          "base_uri": "https://localhost:8080/"
        },
        "id": "1RVVq35A7oVy",
        "outputId": "a70ac335-59b9-4b57-b911-c0519e18c40a"
      },
      "execution_count": null,
      "outputs": [
        {
          "output_type": "stream",
          "name": "stderr",
          "text": [
            "[nltk_data] Downloading package stopwords to /root/nltk_data...\n",
            "[nltk_data]   Unzipping corpora/stopwords.zip.\n"
          ]
        }
      ]
    },
    {
      "cell_type": "markdown",
      "metadata": {
        "id": "tJie6Gpvg4gm"
      },
      "source": [
        "*Limpiar texto*"
      ]
    },
    {
      "cell_type": "code",
      "execution_count": null,
      "metadata": {
        "id": "m8RWQ81Yg7xM"
      },
      "outputs": [],
      "source": [
        "import re\n",
        "import string\n",
        "\n",
        "def clean(text):\n",
        "    if isinstance(text, str):  # Verificar si es de tipo string\n",
        "        # Eliminar hashtags\n",
        "        text = re.sub(r'#\\w+', '', text)\n",
        "\n",
        "        # Eliminar URLs o enlaces\n",
        "        text = re.sub(r'(https?://)?[a-zA-Z0-9]+\\.[a-zA-Z0-9]+\\S*', '', text)\n",
        "\n",
        "        # Eliminar nombres de usuarios de Twitter\n",
        "        text = re.sub(r'@\\w+', '', text)\n",
        "\n",
        "        # Eliminar Nombres propios\n",
        "        text = re.sub(r'\\b[A-Z][a-z]+\\b', '', text)\n",
        "\n",
        "        # Eliminar todos los caracteres especiales\n",
        "        text = re.sub(r'[^\\w\\s]+', '', text)\n",
        "\n",
        "        # Eliminar prefijos y números\n",
        "        text = re.sub(r'\\b\\w{1,2}\\b|\\d+', '', text)\n",
        "\n",
        "        # Eliminar palabras específicas\n",
        "        specific_words = ['retweet', 'retweets', 'hashtag', 'trending', 'mención', 'enlace', 'emoji', 'timeline', 'interacciones',\n",
        "                          'tuit', 'seguidores', 'notificaciones', 'seguir', 'favorito', 'perfil', 'tendencia', 'influencer',\n",
        "                          'compartir', 'actualización', 'explorar', 'seguir', 'comunidad', 'contenido', 'popular',\n",
        "                          'recomendar', 'experiencia', 'conectar', 'comentar', 'compartir', 'comunidad', 'actualización',\n",
        "                          'drk', 'followers', 'stats', 'for', 'new', 'little', 'unfollower', 'unfollowers', 'today', 'shit','twitter','nombre',\n",
        "                          'eric','story','great', 'short','squeeze','piggly','wiggly','hmv','even','follas','you','i','he','she',\n",
        "                          'it','we','they','the','and','that','these','those','tweet','followed','follower']\n",
        "        text = ' '.join([word for word in text.split() if word not in specific_words])\n",
        "\n",
        "        # Eliminar emojis\n",
        "        emojis = re.findall(r'[^\\w\\s,]', text)\n",
        "        cleaned_emojis = [emoji for emoji in emojis if emoji not in ['@', '#', '/', '?','¿','.','…','\"',':','“','!','¡','°','-',\"‘\",'’',\n",
        "                                                                     '=',';','(',')',\"'\",\"'\",'&','€','%','$','*','+','|', '”','🇦','🇷',',',\n",
        "                                                                     ', ','—','«',' »','»','« ','[, ]','[,]',',',', ','',' ',' ♀',' 🏽']]\n",
        "        for emoji in cleaned_emojis:\n",
        "            text = text.replace(emoji, '')\n",
        "\n",
        "        # Convertir el texto a minúsculas\n",
        "        text = text.lower()\n",
        "\n",
        "        # Eliminar signos de puntuación\n",
        "        text = re.sub(f\"[{re.escape(string.punctuation)}]\", \"\", text)\n",
        "\n",
        "        words = text.split() #divide el texto en palabras individuales, creando una lista de palabras.\n",
        "\n",
        "      # Combinar las stopwords en  español\n",
        "        all_stopwords = stopwords_en\n",
        "      # Filtrar las stopwords del texto\n",
        "        filtered_words = [word for word in words if word.lower() not in all_stopwords] #filtra las palabras vacías del texto que no están en la lista de palabras vacías\n",
        "\n",
        "        # Unir las palabras filtradas en un solo texto\n",
        "        filtered_text = ' '.join(filtered_words)\n",
        "\n",
        "        # Devuelve el texto limpio\n",
        "        return text\n",
        "    else:\n",
        "        return text  # Devolver el valor original si no es de tipo string\n",
        "\n"
      ]
    },
    {
      "cell_type": "markdown",
      "metadata": {
        "id": "5wya7mJ-CBlS"
      },
      "source": [
        "#Elaboración de la lista de palabras relevantes a partir de una bolsa de palabras del mismo conjunto de datos"
      ]
    },
    {
      "cell_type": "code",
      "execution_count": null,
      "metadata": {
        "id": "7B7p9zvoCk3k"
      },
      "outputs": [],
      "source": [
        "import pandas as pd\n",
        "import spacy\n",
        "from spacy.lang.es import Spanish\n",
        "from nltk.corpus import stopwords\n",
        "from nltk.stem import PorterStemmer\n",
        "\n",
        "# Cargar modelo de spaCy\n",
        "nlp = spacy.load(\"es_core_news_sm\")\n",
        "\n",
        "# Cargar stopwords en español\n",
        "stopwords_es = set(stopwords.words('spanish'))\n",
        "\n",
        "# Inicializar stemmer de NLTK\n",
        "stemmer = PorterStemmer()"
      ]
    },
    {
      "cell_type": "code",
      "execution_count": null,
      "metadata": {
        "colab": {
          "base_uri": "https://localhost:8080/"
        },
        "id": "8khn8vX4H4uh",
        "outputId": "6081aeca-c244-4090-9eae-71af1d39889e"
      },
      "outputs": [
        {
          "output_type": "stream",
          "name": "stdout",
          "text": [
            "['gato', 'saltar', 'valla']\n"
          ]
        }
      ],
      "source": [
        "import pandas as pd\n",
        "import spacy\n",
        "from spacy.lang.es import Spanish\n",
        "from nltk.corpus import stopwords\n",
        "\n",
        "\n",
        "# Cargar modelo de spaCy\n",
        "nlp = spacy.load(\"es_core_news_sm\")\n",
        "\n",
        "# Cargar stopwords en español\n",
        "stopwords_es = set(stopwords.words('spanish'))\n",
        "def extractTerms(text):\n",
        "    if isinstance(text, str):\n",
        "        # Tokenización y lematización con spaCy\n",
        "        doc = nlp(text)\n",
        "        lemmatized_terms = [token.lemma_ for token in doc if token.text.lower() not in stopwords_es]\n",
        "\n",
        "        return lemmatized_terms\n",
        "    else:\n",
        "        return []  # Devolver una lista vacía si el texto no es una cadena de texto\n",
        "\n",
        "# Ejemplo de uso\n",
        "texto_ejemplo = \"Los gatos están saltando sobre las vallas\"\n",
        "terminos_extraidos = extractTerms(texto_ejemplo)\n",
        "print(terminos_extraidos)"
      ]
    },
    {
      "cell_type": "markdown",
      "metadata": {
        "id": "DJrMwzbLMyNk"
      },
      "source": [
        "# Preprocesamieto del conjunto de datos de entrenamiento"
      ]
    },
    {
      "cell_type": "code",
      "execution_count": null,
      "metadata": {
        "colab": {
          "base_uri": "https://localhost:8080/",
          "height": 363
        },
        "id": "ZxAWUl3kM7db",
        "outputId": "20e6f726-f690-43a6-98ef-a67e3f2ffc66"
      },
      "outputs": [
        {
          "output_type": "execute_result",
          "data": {
            "text/plain": [
              "  USER_ID      TWEET_ID                                         TWEET_TEXT  \\\n",
              "0      47  2.147484e+09                   [destruir, único, hacer, reírte]   \n",
              "1       6  2.147484e+09                          [cómo, tampoco, cómo, tú]   \n",
              "2     NaN           NaN  [pregunto, últimamente, sentir, tranquilo, pun...   \n",
              "3     NaN           NaN     [ansiedad, torno, todo, enfermedad, disparado]   \n",
              "4     NaN           NaN  [mente, bastante, último, mes, compañero, cuar...   \n",
              "5     NaN           NaN  [idea, canal, maravilloso, aquí, historia, seg...   \n",
              "6      31  2.147484e+09  [intentar, decir, pudesólo, quedé, nudo, garga...   \n",
              "7      27  2.147484e+09          [tumblrbot, preguntado, robot, dinosaurs]   \n",
              "8      49  2.147484e+09  [smirnoff, bebido, mas, traicionero, existir, ...   \n",
              "9      36  2.147484e+09             [prima, delgado, tanto, hermosa, vida]   \n",
              "\n",
              "   trastorno  \n",
              "0          1  \n",
              "1          0  \n",
              "2          2  \n",
              "3          2  \n",
              "4          2  \n",
              "5          2  \n",
              "6          0  \n",
              "7          1  \n",
              "8          1  \n",
              "9          0  "
            ],
            "text/html": [
              "\n",
              "  <div id=\"df-0a12c156-6292-467d-880a-eecba38b0365\" class=\"colab-df-container\">\n",
              "    <div>\n",
              "<style scoped>\n",
              "    .dataframe tbody tr th:only-of-type {\n",
              "        vertical-align: middle;\n",
              "    }\n",
              "\n",
              "    .dataframe tbody tr th {\n",
              "        vertical-align: top;\n",
              "    }\n",
              "\n",
              "    .dataframe thead th {\n",
              "        text-align: right;\n",
              "    }\n",
              "</style>\n",
              "<table border=\"1\" class=\"dataframe\">\n",
              "  <thead>\n",
              "    <tr style=\"text-align: right;\">\n",
              "      <th></th>\n",
              "      <th>USER_ID</th>\n",
              "      <th>TWEET_ID</th>\n",
              "      <th>TWEET_TEXT</th>\n",
              "      <th>trastorno</th>\n",
              "    </tr>\n",
              "  </thead>\n",
              "  <tbody>\n",
              "    <tr>\n",
              "      <th>0</th>\n",
              "      <td>47</td>\n",
              "      <td>2.147484e+09</td>\n",
              "      <td>[destruir, único, hacer, reírte]</td>\n",
              "      <td>1</td>\n",
              "    </tr>\n",
              "    <tr>\n",
              "      <th>1</th>\n",
              "      <td>6</td>\n",
              "      <td>2.147484e+09</td>\n",
              "      <td>[cómo, tampoco, cómo, tú]</td>\n",
              "      <td>0</td>\n",
              "    </tr>\n",
              "    <tr>\n",
              "      <th>2</th>\n",
              "      <td>NaN</td>\n",
              "      <td>NaN</td>\n",
              "      <td>[pregunto, últimamente, sentir, tranquilo, pun...</td>\n",
              "      <td>2</td>\n",
              "    </tr>\n",
              "    <tr>\n",
              "      <th>3</th>\n",
              "      <td>NaN</td>\n",
              "      <td>NaN</td>\n",
              "      <td>[ansiedad, torno, todo, enfermedad, disparado]</td>\n",
              "      <td>2</td>\n",
              "    </tr>\n",
              "    <tr>\n",
              "      <th>4</th>\n",
              "      <td>NaN</td>\n",
              "      <td>NaN</td>\n",
              "      <td>[mente, bastante, último, mes, compañero, cuar...</td>\n",
              "      <td>2</td>\n",
              "    </tr>\n",
              "    <tr>\n",
              "      <th>5</th>\n",
              "      <td>NaN</td>\n",
              "      <td>NaN</td>\n",
              "      <td>[idea, canal, maravilloso, aquí, historia, seg...</td>\n",
              "      <td>2</td>\n",
              "    </tr>\n",
              "    <tr>\n",
              "      <th>6</th>\n",
              "      <td>31</td>\n",
              "      <td>2.147484e+09</td>\n",
              "      <td>[intentar, decir, pudesólo, quedé, nudo, garga...</td>\n",
              "      <td>0</td>\n",
              "    </tr>\n",
              "    <tr>\n",
              "      <th>7</th>\n",
              "      <td>27</td>\n",
              "      <td>2.147484e+09</td>\n",
              "      <td>[tumblrbot, preguntado, robot, dinosaurs]</td>\n",
              "      <td>1</td>\n",
              "    </tr>\n",
              "    <tr>\n",
              "      <th>8</th>\n",
              "      <td>49</td>\n",
              "      <td>2.147484e+09</td>\n",
              "      <td>[smirnoff, bebido, mas, traicionero, existir, ...</td>\n",
              "      <td>1</td>\n",
              "    </tr>\n",
              "    <tr>\n",
              "      <th>9</th>\n",
              "      <td>36</td>\n",
              "      <td>2.147484e+09</td>\n",
              "      <td>[prima, delgado, tanto, hermosa, vida]</td>\n",
              "      <td>0</td>\n",
              "    </tr>\n",
              "  </tbody>\n",
              "</table>\n",
              "</div>\n",
              "    <div class=\"colab-df-buttons\">\n",
              "\n",
              "  <div class=\"colab-df-container\">\n",
              "    <button class=\"colab-df-convert\" onclick=\"convertToInteractive('df-0a12c156-6292-467d-880a-eecba38b0365')\"\n",
              "            title=\"Convert this dataframe to an interactive table.\"\n",
              "            style=\"display:none;\">\n",
              "\n",
              "  <svg xmlns=\"http://www.w3.org/2000/svg\" height=\"24px\" viewBox=\"0 -960 960 960\">\n",
              "    <path d=\"M120-120v-720h720v720H120Zm60-500h600v-160H180v160Zm220 220h160v-160H400v160Zm0 220h160v-160H400v160ZM180-400h160v-160H180v160Zm440 0h160v-160H620v160ZM180-180h160v-160H180v160Zm440 0h160v-160H620v160Z\"/>\n",
              "  </svg>\n",
              "    </button>\n",
              "\n",
              "  <style>\n",
              "    .colab-df-container {\n",
              "      display:flex;\n",
              "      gap: 12px;\n",
              "    }\n",
              "\n",
              "    .colab-df-convert {\n",
              "      background-color: #E8F0FE;\n",
              "      border: none;\n",
              "      border-radius: 50%;\n",
              "      cursor: pointer;\n",
              "      display: none;\n",
              "      fill: #1967D2;\n",
              "      height: 32px;\n",
              "      padding: 0 0 0 0;\n",
              "      width: 32px;\n",
              "    }\n",
              "\n",
              "    .colab-df-convert:hover {\n",
              "      background-color: #E2EBFA;\n",
              "      box-shadow: 0px 1px 2px rgba(60, 64, 67, 0.3), 0px 1px 3px 1px rgba(60, 64, 67, 0.15);\n",
              "      fill: #174EA6;\n",
              "    }\n",
              "\n",
              "    .colab-df-buttons div {\n",
              "      margin-bottom: 4px;\n",
              "    }\n",
              "\n",
              "    [theme=dark] .colab-df-convert {\n",
              "      background-color: #3B4455;\n",
              "      fill: #D2E3FC;\n",
              "    }\n",
              "\n",
              "    [theme=dark] .colab-df-convert:hover {\n",
              "      background-color: #434B5C;\n",
              "      box-shadow: 0px 1px 3px 1px rgba(0, 0, 0, 0.15);\n",
              "      filter: drop-shadow(0px 1px 2px rgba(0, 0, 0, 0.3));\n",
              "      fill: #FFFFFF;\n",
              "    }\n",
              "  </style>\n",
              "\n",
              "    <script>\n",
              "      const buttonEl =\n",
              "        document.querySelector('#df-0a12c156-6292-467d-880a-eecba38b0365 button.colab-df-convert');\n",
              "      buttonEl.style.display =\n",
              "        google.colab.kernel.accessAllowed ? 'block' : 'none';\n",
              "\n",
              "      async function convertToInteractive(key) {\n",
              "        const element = document.querySelector('#df-0a12c156-6292-467d-880a-eecba38b0365');\n",
              "        const dataTable =\n",
              "          await google.colab.kernel.invokeFunction('convertToInteractive',\n",
              "                                                    [key], {});\n",
              "        if (!dataTable) return;\n",
              "\n",
              "        const docLinkHtml = 'Like what you see? Visit the ' +\n",
              "          '<a target=\"_blank\" href=https://colab.research.google.com/notebooks/data_table.ipynb>data table notebook</a>'\n",
              "          + ' to learn more about interactive tables.';\n",
              "        element.innerHTML = '';\n",
              "        dataTable['output_type'] = 'display_data';\n",
              "        await google.colab.output.renderOutput(dataTable, element);\n",
              "        const docLink = document.createElement('div');\n",
              "        docLink.innerHTML = docLinkHtml;\n",
              "        element.appendChild(docLink);\n",
              "      }\n",
              "    </script>\n",
              "  </div>\n",
              "\n",
              "\n",
              "<div id=\"df-822bbe0d-89d0-4a55-afca-85911754a39e\">\n",
              "  <button class=\"colab-df-quickchart\" onclick=\"quickchart('df-822bbe0d-89d0-4a55-afca-85911754a39e')\"\n",
              "            title=\"Suggest charts.\"\n",
              "            style=\"display:none;\">\n",
              "\n",
              "<svg xmlns=\"http://www.w3.org/2000/svg\" height=\"24px\"viewBox=\"0 0 24 24\"\n",
              "     width=\"24px\">\n",
              "    <g>\n",
              "        <path d=\"M19 3H5c-1.1 0-2 .9-2 2v14c0 1.1.9 2 2 2h14c1.1 0 2-.9 2-2V5c0-1.1-.9-2-2-2zM9 17H7v-7h2v7zm4 0h-2V7h2v10zm4 0h-2v-4h2v4z\"/>\n",
              "    </g>\n",
              "</svg>\n",
              "  </button>\n",
              "\n",
              "<style>\n",
              "  .colab-df-quickchart {\n",
              "      --bg-color: #E8F0FE;\n",
              "      --fill-color: #1967D2;\n",
              "      --hover-bg-color: #E2EBFA;\n",
              "      --hover-fill-color: #174EA6;\n",
              "      --disabled-fill-color: #AAA;\n",
              "      --disabled-bg-color: #DDD;\n",
              "  }\n",
              "\n",
              "  [theme=dark] .colab-df-quickchart {\n",
              "      --bg-color: #3B4455;\n",
              "      --fill-color: #D2E3FC;\n",
              "      --hover-bg-color: #434B5C;\n",
              "      --hover-fill-color: #FFFFFF;\n",
              "      --disabled-bg-color: #3B4455;\n",
              "      --disabled-fill-color: #666;\n",
              "  }\n",
              "\n",
              "  .colab-df-quickchart {\n",
              "    background-color: var(--bg-color);\n",
              "    border: none;\n",
              "    border-radius: 50%;\n",
              "    cursor: pointer;\n",
              "    display: none;\n",
              "    fill: var(--fill-color);\n",
              "    height: 32px;\n",
              "    padding: 0;\n",
              "    width: 32px;\n",
              "  }\n",
              "\n",
              "  .colab-df-quickchart:hover {\n",
              "    background-color: var(--hover-bg-color);\n",
              "    box-shadow: 0 1px 2px rgba(60, 64, 67, 0.3), 0 1px 3px 1px rgba(60, 64, 67, 0.15);\n",
              "    fill: var(--button-hover-fill-color);\n",
              "  }\n",
              "\n",
              "  .colab-df-quickchart-complete:disabled,\n",
              "  .colab-df-quickchart-complete:disabled:hover {\n",
              "    background-color: var(--disabled-bg-color);\n",
              "    fill: var(--disabled-fill-color);\n",
              "    box-shadow: none;\n",
              "  }\n",
              "\n",
              "  .colab-df-spinner {\n",
              "    border: 2px solid var(--fill-color);\n",
              "    border-color: transparent;\n",
              "    border-bottom-color: var(--fill-color);\n",
              "    animation:\n",
              "      spin 1s steps(1) infinite;\n",
              "  }\n",
              "\n",
              "  @keyframes spin {\n",
              "    0% {\n",
              "      border-color: transparent;\n",
              "      border-bottom-color: var(--fill-color);\n",
              "      border-left-color: var(--fill-color);\n",
              "    }\n",
              "    20% {\n",
              "      border-color: transparent;\n",
              "      border-left-color: var(--fill-color);\n",
              "      border-top-color: var(--fill-color);\n",
              "    }\n",
              "    30% {\n",
              "      border-color: transparent;\n",
              "      border-left-color: var(--fill-color);\n",
              "      border-top-color: var(--fill-color);\n",
              "      border-right-color: var(--fill-color);\n",
              "    }\n",
              "    40% {\n",
              "      border-color: transparent;\n",
              "      border-right-color: var(--fill-color);\n",
              "      border-top-color: var(--fill-color);\n",
              "    }\n",
              "    60% {\n",
              "      border-color: transparent;\n",
              "      border-right-color: var(--fill-color);\n",
              "    }\n",
              "    80% {\n",
              "      border-color: transparent;\n",
              "      border-right-color: var(--fill-color);\n",
              "      border-bottom-color: var(--fill-color);\n",
              "    }\n",
              "    90% {\n",
              "      border-color: transparent;\n",
              "      border-bottom-color: var(--fill-color);\n",
              "    }\n",
              "  }\n",
              "</style>\n",
              "\n",
              "  <script>\n",
              "    async function quickchart(key) {\n",
              "      const quickchartButtonEl =\n",
              "        document.querySelector('#' + key + ' button');\n",
              "      quickchartButtonEl.disabled = true;  // To prevent multiple clicks.\n",
              "      quickchartButtonEl.classList.add('colab-df-spinner');\n",
              "      try {\n",
              "        const charts = await google.colab.kernel.invokeFunction(\n",
              "            'suggestCharts', [key], {});\n",
              "      } catch (error) {\n",
              "        console.error('Error during call to suggestCharts:', error);\n",
              "      }\n",
              "      quickchartButtonEl.classList.remove('colab-df-spinner');\n",
              "      quickchartButtonEl.classList.add('colab-df-quickchart-complete');\n",
              "    }\n",
              "    (() => {\n",
              "      let quickchartButtonEl =\n",
              "        document.querySelector('#df-822bbe0d-89d0-4a55-afca-85911754a39e button');\n",
              "      quickchartButtonEl.style.display =\n",
              "        google.colab.kernel.accessAllowed ? 'block' : 'none';\n",
              "    })();\n",
              "  </script>\n",
              "</div>\n",
              "    </div>\n",
              "  </div>\n"
            ]
          },
          "metadata": {},
          "execution_count": 14
        }
      ],
      "source": [
        "data_train['TWEET_TEXT'] = data_train['TWEET_TEXT'].apply(removeHTML)\n",
        "data_train['TWEET_TEXT'] = data_train['TWEET_TEXT'].apply(clean)\n",
        "data_train['TWEET_TEXT'] = data_train['TWEET_TEXT'].apply(extractTerms)\n",
        "data_train.head(10)"
      ]
    },
    {
      "cell_type": "code",
      "execution_count": null,
      "metadata": {
        "colab": {
          "base_uri": "https://localhost:8080/"
        },
        "id": "MHSIQONUaDe9",
        "outputId": "2aaef710-4721-4ad9-adf5-644953dbbb20"
      },
      "outputs": [
        {
          "output_type": "stream",
          "name": "stdout",
          "text": [
            "Número de elementos vacíos en la columna 'TWEET_TEXT': 5408\n"
          ]
        }
      ],
      "source": [
        "# Verificar si hay elementos vacíos en la columna 'TWEET_TEXT'\n",
        "empty_count = (data_train['TWEET_TEXT'].apply(len) == 0).sum()\n",
        "\n",
        "# Imprimir el número de elementos vacíos en la columna 'TWEET_TEXT'\n",
        "print(\"Número de elementos vacíos en la columna 'TWEET_TEXT':\", empty_count)\n"
      ]
    },
    {
      "cell_type": "code",
      "execution_count": null,
      "metadata": {
        "id": "dOGbtn79afCA"
      },
      "outputs": [],
      "source": [
        "# Filtrar filas donde 'TWEET_TEXT' no sea una lista vacía\n",
        "data_train = data_train[data_train['TWEET_TEXT'].apply(len) > 0]\n",
        "\n",
        "# Reiniciar el índice del DataFrame después de eliminar filas\n",
        "data_train.reset_index(drop=True, inplace=True)"
      ]
    },
    {
      "cell_type": "code",
      "execution_count": null,
      "metadata": {
        "colab": {
          "base_uri": "https://localhost:8080/"
        },
        "id": "8weS3NF-ahFr",
        "outputId": "8fe94646-6f59-4e3d-93a4-92d12b1e9e98"
      },
      "outputs": [
        {
          "output_type": "stream",
          "name": "stdout",
          "text": [
            "Número de elementos vacíos en la columna 'TWEET_TEXT': 0\n"
          ]
        }
      ],
      "source": [
        "# Verificar si hay elementos vacíos en la columna 'TWEET_TEXT'\n",
        "empty_count = (data_train['TWEET_TEXT'].apply(len) == 0).sum()\n",
        "\n",
        "# Imprimir el número de elementos vacíos en la columna 'TWEET_TEXT'\n",
        "print(\"Número de elementos vacíos en la columna 'TWEET_TEXT':\", empty_count)"
      ]
    },
    {
      "cell_type": "code",
      "source": [
        "\n",
        "data_train['TWEET_TEXT'] = data_train['TWEET_TEXT'].apply(lambda x: ' '.join(x) if isinstance(x, list) else x) # Combinar los elementos de la lista en una sola cadena separados por espacios\n",
        "data_train.info()\n",
        "data_train.head(10)"
      ],
      "metadata": {
        "id": "sJ6nNPddZenY",
        "colab": {
          "base_uri": "https://localhost:8080/",
          "height": 570
        },
        "outputId": "6fa4f778-893f-4e94-f872-9680a15405d5"
      },
      "execution_count": null,
      "outputs": [
        {
          "output_type": "stream",
          "name": "stdout",
          "text": [
            "<class 'pandas.core.frame.DataFrame'>\n",
            "RangeIndex: 92071 entries, 0 to 92070\n",
            "Data columns (total 4 columns):\n",
            " #   Column      Non-Null Count  Dtype  \n",
            "---  ------      --------------  -----  \n",
            " 0   USER_ID     59713 non-null  object \n",
            " 1   TWEET_ID    59713 non-null  float64\n",
            " 2   TWEET_TEXT  92071 non-null  object \n",
            " 3   trastorno   92071 non-null  int64  \n",
            "dtypes: float64(1), int64(1), object(2)\n",
            "memory usage: 2.8+ MB\n"
          ]
        },
        {
          "output_type": "execute_result",
          "data": {
            "text/plain": [
              "  USER_ID      TWEET_ID                                         TWEET_TEXT  \\\n",
              "0      47  2.147484e+09                        destruir único hacer reírte   \n",
              "1       6  2.147484e+09                               cómo tampoco cómo tú   \n",
              "2     NaN           NaN  pregunto últimamente sentir tranquilo punto au...   \n",
              "3     NaN           NaN           ansiedad torno todo enfermedad disparado   \n",
              "4     NaN           NaN  mente bastante último mes compañero cuarto anc...   \n",
              "5     NaN           NaN  idea canal maravilloso aquí historia seguir vi...   \n",
              "6      31  2.147484e+09  intentar decir pudesólo quedé nudo gargantar l...   \n",
              "7      27  2.147484e+09               tumblrbot preguntado robot dinosaurs   \n",
              "8      49  2.147484e+09  smirnoff bebido mas traicionero existir chabon...   \n",
              "9      36  2.147484e+09                   prima delgado tanto hermosa vida   \n",
              "\n",
              "   trastorno  \n",
              "0          1  \n",
              "1          0  \n",
              "2          2  \n",
              "3          2  \n",
              "4          2  \n",
              "5          2  \n",
              "6          0  \n",
              "7          1  \n",
              "8          1  \n",
              "9          0  "
            ],
            "text/html": [
              "\n",
              "  <div id=\"df-54fdb30e-4d15-4df9-8b05-fc1e95adfab3\" class=\"colab-df-container\">\n",
              "    <div>\n",
              "<style scoped>\n",
              "    .dataframe tbody tr th:only-of-type {\n",
              "        vertical-align: middle;\n",
              "    }\n",
              "\n",
              "    .dataframe tbody tr th {\n",
              "        vertical-align: top;\n",
              "    }\n",
              "\n",
              "    .dataframe thead th {\n",
              "        text-align: right;\n",
              "    }\n",
              "</style>\n",
              "<table border=\"1\" class=\"dataframe\">\n",
              "  <thead>\n",
              "    <tr style=\"text-align: right;\">\n",
              "      <th></th>\n",
              "      <th>USER_ID</th>\n",
              "      <th>TWEET_ID</th>\n",
              "      <th>TWEET_TEXT</th>\n",
              "      <th>trastorno</th>\n",
              "    </tr>\n",
              "  </thead>\n",
              "  <tbody>\n",
              "    <tr>\n",
              "      <th>0</th>\n",
              "      <td>47</td>\n",
              "      <td>2.147484e+09</td>\n",
              "      <td>destruir único hacer reírte</td>\n",
              "      <td>1</td>\n",
              "    </tr>\n",
              "    <tr>\n",
              "      <th>1</th>\n",
              "      <td>6</td>\n",
              "      <td>2.147484e+09</td>\n",
              "      <td>cómo tampoco cómo tú</td>\n",
              "      <td>0</td>\n",
              "    </tr>\n",
              "    <tr>\n",
              "      <th>2</th>\n",
              "      <td>NaN</td>\n",
              "      <td>NaN</td>\n",
              "      <td>pregunto últimamente sentir tranquilo punto au...</td>\n",
              "      <td>2</td>\n",
              "    </tr>\n",
              "    <tr>\n",
              "      <th>3</th>\n",
              "      <td>NaN</td>\n",
              "      <td>NaN</td>\n",
              "      <td>ansiedad torno todo enfermedad disparado</td>\n",
              "      <td>2</td>\n",
              "    </tr>\n",
              "    <tr>\n",
              "      <th>4</th>\n",
              "      <td>NaN</td>\n",
              "      <td>NaN</td>\n",
              "      <td>mente bastante último mes compañero cuarto anc...</td>\n",
              "      <td>2</td>\n",
              "    </tr>\n",
              "    <tr>\n",
              "      <th>5</th>\n",
              "      <td>NaN</td>\n",
              "      <td>NaN</td>\n",
              "      <td>idea canal maravilloso aquí historia seguir vi...</td>\n",
              "      <td>2</td>\n",
              "    </tr>\n",
              "    <tr>\n",
              "      <th>6</th>\n",
              "      <td>31</td>\n",
              "      <td>2.147484e+09</td>\n",
              "      <td>intentar decir pudesólo quedé nudo gargantar l...</td>\n",
              "      <td>0</td>\n",
              "    </tr>\n",
              "    <tr>\n",
              "      <th>7</th>\n",
              "      <td>27</td>\n",
              "      <td>2.147484e+09</td>\n",
              "      <td>tumblrbot preguntado robot dinosaurs</td>\n",
              "      <td>1</td>\n",
              "    </tr>\n",
              "    <tr>\n",
              "      <th>8</th>\n",
              "      <td>49</td>\n",
              "      <td>2.147484e+09</td>\n",
              "      <td>smirnoff bebido mas traicionero existir chabon...</td>\n",
              "      <td>1</td>\n",
              "    </tr>\n",
              "    <tr>\n",
              "      <th>9</th>\n",
              "      <td>36</td>\n",
              "      <td>2.147484e+09</td>\n",
              "      <td>prima delgado tanto hermosa vida</td>\n",
              "      <td>0</td>\n",
              "    </tr>\n",
              "  </tbody>\n",
              "</table>\n",
              "</div>\n",
              "    <div class=\"colab-df-buttons\">\n",
              "\n",
              "  <div class=\"colab-df-container\">\n",
              "    <button class=\"colab-df-convert\" onclick=\"convertToInteractive('df-54fdb30e-4d15-4df9-8b05-fc1e95adfab3')\"\n",
              "            title=\"Convert this dataframe to an interactive table.\"\n",
              "            style=\"display:none;\">\n",
              "\n",
              "  <svg xmlns=\"http://www.w3.org/2000/svg\" height=\"24px\" viewBox=\"0 -960 960 960\">\n",
              "    <path d=\"M120-120v-720h720v720H120Zm60-500h600v-160H180v160Zm220 220h160v-160H400v160Zm0 220h160v-160H400v160ZM180-400h160v-160H180v160Zm440 0h160v-160H620v160ZM180-180h160v-160H180v160Zm440 0h160v-160H620v160Z\"/>\n",
              "  </svg>\n",
              "    </button>\n",
              "\n",
              "  <style>\n",
              "    .colab-df-container {\n",
              "      display:flex;\n",
              "      gap: 12px;\n",
              "    }\n",
              "\n",
              "    .colab-df-convert {\n",
              "      background-color: #E8F0FE;\n",
              "      border: none;\n",
              "      border-radius: 50%;\n",
              "      cursor: pointer;\n",
              "      display: none;\n",
              "      fill: #1967D2;\n",
              "      height: 32px;\n",
              "      padding: 0 0 0 0;\n",
              "      width: 32px;\n",
              "    }\n",
              "\n",
              "    .colab-df-convert:hover {\n",
              "      background-color: #E2EBFA;\n",
              "      box-shadow: 0px 1px 2px rgba(60, 64, 67, 0.3), 0px 1px 3px 1px rgba(60, 64, 67, 0.15);\n",
              "      fill: #174EA6;\n",
              "    }\n",
              "\n",
              "    .colab-df-buttons div {\n",
              "      margin-bottom: 4px;\n",
              "    }\n",
              "\n",
              "    [theme=dark] .colab-df-convert {\n",
              "      background-color: #3B4455;\n",
              "      fill: #D2E3FC;\n",
              "    }\n",
              "\n",
              "    [theme=dark] .colab-df-convert:hover {\n",
              "      background-color: #434B5C;\n",
              "      box-shadow: 0px 1px 3px 1px rgba(0, 0, 0, 0.15);\n",
              "      filter: drop-shadow(0px 1px 2px rgba(0, 0, 0, 0.3));\n",
              "      fill: #FFFFFF;\n",
              "    }\n",
              "  </style>\n",
              "\n",
              "    <script>\n",
              "      const buttonEl =\n",
              "        document.querySelector('#df-54fdb30e-4d15-4df9-8b05-fc1e95adfab3 button.colab-df-convert');\n",
              "      buttonEl.style.display =\n",
              "        google.colab.kernel.accessAllowed ? 'block' : 'none';\n",
              "\n",
              "      async function convertToInteractive(key) {\n",
              "        const element = document.querySelector('#df-54fdb30e-4d15-4df9-8b05-fc1e95adfab3');\n",
              "        const dataTable =\n",
              "          await google.colab.kernel.invokeFunction('convertToInteractive',\n",
              "                                                    [key], {});\n",
              "        if (!dataTable) return;\n",
              "\n",
              "        const docLinkHtml = 'Like what you see? Visit the ' +\n",
              "          '<a target=\"_blank\" href=https://colab.research.google.com/notebooks/data_table.ipynb>data table notebook</a>'\n",
              "          + ' to learn more about interactive tables.';\n",
              "        element.innerHTML = '';\n",
              "        dataTable['output_type'] = 'display_data';\n",
              "        await google.colab.output.renderOutput(dataTable, element);\n",
              "        const docLink = document.createElement('div');\n",
              "        docLink.innerHTML = docLinkHtml;\n",
              "        element.appendChild(docLink);\n",
              "      }\n",
              "    </script>\n",
              "  </div>\n",
              "\n",
              "\n",
              "<div id=\"df-2d345709-9abc-4d52-b33e-13e903510096\">\n",
              "  <button class=\"colab-df-quickchart\" onclick=\"quickchart('df-2d345709-9abc-4d52-b33e-13e903510096')\"\n",
              "            title=\"Suggest charts.\"\n",
              "            style=\"display:none;\">\n",
              "\n",
              "<svg xmlns=\"http://www.w3.org/2000/svg\" height=\"24px\"viewBox=\"0 0 24 24\"\n",
              "     width=\"24px\">\n",
              "    <g>\n",
              "        <path d=\"M19 3H5c-1.1 0-2 .9-2 2v14c0 1.1.9 2 2 2h14c1.1 0 2-.9 2-2V5c0-1.1-.9-2-2-2zM9 17H7v-7h2v7zm4 0h-2V7h2v10zm4 0h-2v-4h2v4z\"/>\n",
              "    </g>\n",
              "</svg>\n",
              "  </button>\n",
              "\n",
              "<style>\n",
              "  .colab-df-quickchart {\n",
              "      --bg-color: #E8F0FE;\n",
              "      --fill-color: #1967D2;\n",
              "      --hover-bg-color: #E2EBFA;\n",
              "      --hover-fill-color: #174EA6;\n",
              "      --disabled-fill-color: #AAA;\n",
              "      --disabled-bg-color: #DDD;\n",
              "  }\n",
              "\n",
              "  [theme=dark] .colab-df-quickchart {\n",
              "      --bg-color: #3B4455;\n",
              "      --fill-color: #D2E3FC;\n",
              "      --hover-bg-color: #434B5C;\n",
              "      --hover-fill-color: #FFFFFF;\n",
              "      --disabled-bg-color: #3B4455;\n",
              "      --disabled-fill-color: #666;\n",
              "  }\n",
              "\n",
              "  .colab-df-quickchart {\n",
              "    background-color: var(--bg-color);\n",
              "    border: none;\n",
              "    border-radius: 50%;\n",
              "    cursor: pointer;\n",
              "    display: none;\n",
              "    fill: var(--fill-color);\n",
              "    height: 32px;\n",
              "    padding: 0;\n",
              "    width: 32px;\n",
              "  }\n",
              "\n",
              "  .colab-df-quickchart:hover {\n",
              "    background-color: var(--hover-bg-color);\n",
              "    box-shadow: 0 1px 2px rgba(60, 64, 67, 0.3), 0 1px 3px 1px rgba(60, 64, 67, 0.15);\n",
              "    fill: var(--button-hover-fill-color);\n",
              "  }\n",
              "\n",
              "  .colab-df-quickchart-complete:disabled,\n",
              "  .colab-df-quickchart-complete:disabled:hover {\n",
              "    background-color: var(--disabled-bg-color);\n",
              "    fill: var(--disabled-fill-color);\n",
              "    box-shadow: none;\n",
              "  }\n",
              "\n",
              "  .colab-df-spinner {\n",
              "    border: 2px solid var(--fill-color);\n",
              "    border-color: transparent;\n",
              "    border-bottom-color: var(--fill-color);\n",
              "    animation:\n",
              "      spin 1s steps(1) infinite;\n",
              "  }\n",
              "\n",
              "  @keyframes spin {\n",
              "    0% {\n",
              "      border-color: transparent;\n",
              "      border-bottom-color: var(--fill-color);\n",
              "      border-left-color: var(--fill-color);\n",
              "    }\n",
              "    20% {\n",
              "      border-color: transparent;\n",
              "      border-left-color: var(--fill-color);\n",
              "      border-top-color: var(--fill-color);\n",
              "    }\n",
              "    30% {\n",
              "      border-color: transparent;\n",
              "      border-left-color: var(--fill-color);\n",
              "      border-top-color: var(--fill-color);\n",
              "      border-right-color: var(--fill-color);\n",
              "    }\n",
              "    40% {\n",
              "      border-color: transparent;\n",
              "      border-right-color: var(--fill-color);\n",
              "      border-top-color: var(--fill-color);\n",
              "    }\n",
              "    60% {\n",
              "      border-color: transparent;\n",
              "      border-right-color: var(--fill-color);\n",
              "    }\n",
              "    80% {\n",
              "      border-color: transparent;\n",
              "      border-right-color: var(--fill-color);\n",
              "      border-bottom-color: var(--fill-color);\n",
              "    }\n",
              "    90% {\n",
              "      border-color: transparent;\n",
              "      border-bottom-color: var(--fill-color);\n",
              "    }\n",
              "  }\n",
              "</style>\n",
              "\n",
              "  <script>\n",
              "    async function quickchart(key) {\n",
              "      const quickchartButtonEl =\n",
              "        document.querySelector('#' + key + ' button');\n",
              "      quickchartButtonEl.disabled = true;  // To prevent multiple clicks.\n",
              "      quickchartButtonEl.classList.add('colab-df-spinner');\n",
              "      try {\n",
              "        const charts = await google.colab.kernel.invokeFunction(\n",
              "            'suggestCharts', [key], {});\n",
              "      } catch (error) {\n",
              "        console.error('Error during call to suggestCharts:', error);\n",
              "      }\n",
              "      quickchartButtonEl.classList.remove('colab-df-spinner');\n",
              "      quickchartButtonEl.classList.add('colab-df-quickchart-complete');\n",
              "    }\n",
              "    (() => {\n",
              "      let quickchartButtonEl =\n",
              "        document.querySelector('#df-2d345709-9abc-4d52-b33e-13e903510096 button');\n",
              "      quickchartButtonEl.style.display =\n",
              "        google.colab.kernel.accessAllowed ? 'block' : 'none';\n",
              "    })();\n",
              "  </script>\n",
              "</div>\n",
              "    </div>\n",
              "  </div>\n"
            ]
          },
          "metadata": {},
          "execution_count": 18
        }
      ]
    },
    {
      "cell_type": "markdown",
      "metadata": {
        "id": "OaTP61UUXkUD"
      },
      "source": [
        "# Representación de los datos mediante una matriz TF-IDF\n",
        "\n",
        "se guardan los valores de la matriz TFIDF y los array X y para futuros entrenamientos"
      ]
    },
    {
      "cell_type": "markdown",
      "metadata": {
        "id": "4aO6IF_SX_rx"
      },
      "source": [
        "Se procederá a construir un conjunto de entrenamiento a partir de la representación de bolsa de palabras o inglés (Bag of Words.)"
      ]
    },
    {
      "cell_type": "code",
      "execution_count": null,
      "metadata": {
        "id": "m2Bz9av7Xw2d",
        "colab": {
          "base_uri": "https://localhost:8080/"
        },
        "outputId": "a69d1ad7-3fa9-4ee2-8181-a0adaf94607f"
      },
      "outputs": [
        {
          "output_type": "stream",
          "name": "stdout",
          "text": [
            "El tamaño del vocabulario es:  3631\n"
          ]
        }
      ],
      "source": [
        "import joblib\n",
        "from sklearn.feature_extraction.text import TfidfVectorizer\n",
        "\n",
        "def Tokenizer(text):\n",
        "    return text.split()  # Tokenizador simple: divide el texto en palabras\n",
        "# Crear un transformador CountVectorizer con el tokenizer Tokenizery rango de n-gramas (1, 1)\n",
        "# y un umbral de frecuencia mínimo de 200\n",
        "umbral = 20\n",
        "\n",
        "# Crear un transformador TfidfVectorizer con el tokenizer extractTerms y rango de n-gramas (1, 1)\n",
        "tfidf_vect  = TfidfVectorizer(tokenizer=Tokenizer, ngram_range=(1, 1), min_df=umbral)\n",
        "# Aplicar el TfidfVectorizer a la columna 'TWEET_TEXT' en data_train y obtener la matriz TF-IDF\n",
        "tfidf_train  = tfidf_vect.fit_transform(data_train['TWEET_TEXT'].values)\n",
        "# Imprimir el tamaño del vocabulario construido por TfidfVectorizer\n",
        "print(\"El tamaño del vocabulario es: \", len(tfidf_vect.vocabulary_))\n",
        "\n",
        "X = tfidf_train # Matriz TF-IDF\n",
        "y = data_train['trastorno'].values # Etiquetas de trastorno de la columna 'trastorno'\n"
      ]
    },
    {
      "cell_type": "code",
      "source": [
        "print(X.shape)\n",
        "print(y.shape)"
      ],
      "metadata": {
        "colab": {
          "base_uri": "https://localhost:8080/"
        },
        "id": "2VvgFGY4BE05",
        "outputId": "b6fc6ab8-3b5a-4209-8398-397168d1c08d"
      },
      "execution_count": null,
      "outputs": [
        {
          "output_type": "stream",
          "name": "stdout",
          "text": [
            "(92071, 3631)\n",
            "(92071,)\n"
          ]
        }
      ]
    },
    {
      "cell_type": "markdown",
      "source": [
        "#Dividir la matriz BoW en 10 secciones de 9,207 mil\n",
        "la matriz de divide en valores de X1 hasa X10 don sus estiquedas de y1 hasta y10, esto permite entrenar a la red neuronal con pequeños valores sin cambiar el numero de vacabulario total."
      ],
      "metadata": {
        "id": "e3QlxDD8BPr7"
      }
    },
    {
      "cell_type": "code",
      "source": [
        "# Se guardan los primeros 9207 datos de la matriz BoW con los respectivas etiquetas y en X1, y1 hasta X20,y20 así hasta\n",
        "# completar los 245524 datos del dataset\n",
        "\n",
        "# matrices bow_train\n",
        "total_datos = tfidf_train.shape[0]  # Número total de filas en la matriz bow_train.\n",
        "tamaño_conjunto = 9207 #  Tamaño deseado para cada conjunto\n",
        "\n",
        "# etiquetas están en la variable 'y'\n",
        "etiquetas = data_train['trastorno'].values\n",
        "\n",
        "# Crea variables para guardar los conjuntos\n",
        "conjuntos_X = []\n",
        "conjuntos_y = []\n",
        "\n",
        "# Divide tus datos en 20 conjuntos de 9207 filas cada uno\n",
        "for i in range(10):\n",
        "    inicio = i * tamaño_conjunto #calcula el índice de inicio del conjunto actual.\n",
        "    fin = (i + 1) * tamaño_conjunto # índice de finalización del conjunto actual i + 1 representa la siguiente iteración del bucle, por lo que se multiplica por tamaño_conjunto para obtener la fila de finalización.\n",
        "    #Generan nombres de variables dinámicos para los conjuntos de datos y etiquetas de cada conjunto.\n",
        "    X_nombre = f'X{i+1}'\n",
        "    y_nombre = f'y{i+1}'\n",
        "    conjunto_X = tfidf_train[inicio:fin, :]  # selecciona las filas correspondientes a este conjunto desde la matriz bow_train. Utiliza la notación de corte (slicing) para seleccionar las filas desde inicio hasta fin.\n",
        "    conjunto_y = etiquetas[inicio:fin]  # selecciona las etiquetas correspondientes a este conjunto. Estas etiquetas se toman de la variable etiquetas que contiene las etiquetas de sentimientos.\n",
        "    #  Asignan los conjuntos de datos y etiquetas a variables con nombres dinámicos (X1, y1, X2, y2, etc.)\n",
        "    globals()[X_nombre] = conjunto_X\n",
        "    globals()[y_nombre] = conjunto_y\n",
        "    # Agregan los conjuntos de datos y etiquetas a las listas, respectivamente, para mantener un registro de todos los conjuntos creados.\n",
        "    conjuntos_X.append(conjunto_X)\n",
        "    conjuntos_y.append(conjunto_y)"
      ],
      "metadata": {
        "id": "blN8auahBQ7P"
      },
      "execution_count": null,
      "outputs": []
    },
    {
      "cell_type": "markdown",
      "source": [
        "**genreal valores aleatorios de X, y para el entrenamiento de la red neuronal**"
      ],
      "metadata": {
        "id": "b3PIGe5ABseL"
      }
    },
    {
      "cell_type": "code",
      "source": [
        "import random\n",
        "\n",
        "# Genera un número aleatorio entre 1 y 10\n",
        "i = random.randint(1, 10)\n",
        "# Crea las variables Xi y yi con los datos seleccionados aleatoriamente\n",
        "Xi = globals()[f'X{i}']\n",
        "yi = globals()[f'y{i}']\n",
        "print(f'X{i}', Xi.shape)\n",
        "print(f'y{i}', yi.shape)"
      ],
      "metadata": {
        "colab": {
          "base_uri": "https://localhost:8080/"
        },
        "id": "Bn7Z5EvkBtPX",
        "outputId": "f77e17e6-f6c5-408c-da88-91942d78e344"
      },
      "execution_count": null,
      "outputs": [
        {
          "output_type": "stream",
          "name": "stdout",
          "text": [
            "X10 (9207, 3631)\n",
            "y10 (9207,)\n"
          ]
        }
      ]
    },
    {
      "cell_type": "markdown",
      "source": [
        "# Entrenamiento con validación 70 - 30"
      ],
      "metadata": {
        "id": "y_Py9ZuhuuOd"
      }
    },
    {
      "cell_type": "code",
      "source": [
        "import numpy as np\n",
        "import tensorflow as tf\n",
        "from tensorflow.keras.models import Sequential\n",
        "from tensorflow.keras.layers import Dense, Dropout\n",
        "from sklearn.metrics import accuracy_score, precision_score, recall_score, f1_score\n",
        "from sklearn.model_selection import train_test_split\n",
        "from sklearn.preprocessing import LabelEncoder\n",
        "from tensorflow.keras.models import load_model\n",
        "from sklearn.model_selection import cross_val_score\n",
        "from sklearn.model_selection import StratifiedKFold\n",
        "from tensorflow.keras.optimizers import Adam\n",
        "from tensorflow.keras.losses import CategoricalCrossentropy\n",
        "from tensorflow.keras.metrics import CategoricalAccuracy"
      ],
      "metadata": {
        "id": "D-YR_Lqtow4z"
      },
      "execution_count": null,
      "outputs": []
    },
    {
      "cell_type": "code",
      "source": [
        "\n",
        "\n",
        "# Convertir la matriz BoW a una matriz densa de Numpy\n",
        "X = Xi.toarray()\n",
        "y=yi\n",
        "# Dividir los datos en conjuntos de entrenamiento y validación\n",
        "X_train, X_val, y_train, y_val = train_test_split(X, y, test_size=0.25, random_state=42)\n",
        "# Verificar las dimensiones de los conjuntos de entrenamiento y validación\n",
        "print(\"Dimensiones de X_train:\", X_train.shape)\n",
        "print(\"Dimensiones de X_val:\", X_val.shape)\n",
        "print(\"Dimensiones de y_train:\", y_train.shape)\n",
        "print(\"Dimensiones de y_val:\", y_val.shape)"
      ],
      "metadata": {
        "colab": {
          "base_uri": "https://localhost:8080/"
        },
        "id": "lMzOk07qB4TS",
        "outputId": "0fa214e0-0fc1-49e7-b87d-72576c61d057"
      },
      "execution_count": null,
      "outputs": [
        {
          "output_type": "stream",
          "name": "stdout",
          "text": [
            "Dimensiones de X_train: (6905, 3631)\n",
            "Dimensiones de X_val: (2302, 3631)\n",
            "Dimensiones de y_train: (6905,)\n",
            "Dimensiones de y_val: (2302,)\n"
          ]
        }
      ]
    },
    {
      "cell_type": "markdown",
      "metadata": {
        "id": "Oss27T2Wz_TI"
      },
      "source": [
        "# Aprendizaje del modelo: Red Neuronal simple"
      ]
    },
    {
      "cell_type": "code",
      "source": [
        "\n",
        "from keras.utils import to_categorical\n",
        "# Crear una red neuronal secuencial\n",
        "model = Sequential()\n",
        "\n",
        "# Agregar una capa de entrada con el número de características (vocabulario) en tu matriz TF-IDF\n",
        "model.add(Dense(328, activation='relu', input_dim=X_train.shape[1]))\n",
        "model.add(Dropout(0.1))  # Dropout para regularización\n",
        "\n",
        "# Agregar una capa oculta\n",
        "model.add(Dense(164, activation='relu'))\n",
        "model.add(Dropout(0.1))  # Dropout para regularización\n",
        "# Convertir las etiquetas en codificación one-hot\n",
        "num_classes = 3  # Número de clases\n",
        "y_train_one_hot = to_categorical(y_train, num_classes)\n",
        "y_val_one_hot = to_categorical(y_val, num_classes)\n",
        "\n",
        "# Crear una red neuronal secuencial\n",
        "model = Sequential()\n",
        "\n",
        "# Agregar una capa de entrada con el número de características en X_train\n",
        "model.add(Dense(328, activation='relu', input_dim=X_train.shape[1]))\n",
        "model.add(Dropout(0.1))  # Dropout para regularización\n",
        "\n",
        "# Agregar una capa oculta\n",
        "model.add(Dense(164, activation='relu'))\n",
        "model.add(Dropout(0.1))  # Dropout para regularización\n",
        "\n",
        "# Agregar una capa de salida con el número de clases en tu clasificación multiclase\n",
        "model.add(Dense(num_classes, activation='softmax'))\n",
        "\n",
        "# Compilar el modelo\n",
        "model.compile(optimizer=Adam(learning_rate=0.001), loss=CategoricalCrossentropy(), metrics=[CategoricalAccuracy()])\n",
        "\n",
        "# Entrenar el modelo en los datos de entrenamiento\n",
        "history = model.fit(X_train, y_train_one_hot, epochs=50, batch_size=60, validation_data=(X_val, y_val_one_hot))\n",
        "\n",
        "y_val_pred = model.predict(X_val)\n",
        "\n",
        "y_val_pred_class = y_val_pred.argmax(axis=1)  # Obtener la clase con la mayor probabilidad\n",
        "y_val_true_class = y_val_one_hot.argmax(axis=1)  # Usar y_val_one_hot en lugar de y_val si está codificado en one-hot\n",
        "\n",
        "accuracy = accuracy_score(y_val_true_class, y_val_pred_class)\n",
        "precision = precision_score(y_val_true_class, y_val_pred_class, average='macro')\n",
        "recall = recall_score(y_val_true_class, y_val_pred_class, average='macro')\n",
        "f1 = f1_score(y_val_true_class, y_val_pred_class, average='macro')\n",
        "\n",
        "y_train_pred = model.predict(X_train)\n",
        "\n",
        "# Calcular métricas de evaluación en el conjunto de entrenamiento\n",
        "y_train_pred_class = y_train_pred.argmax(axis=1)  # Obtener la clase con la mayor probabilidad\n",
        "y_train_true_class = y_train_one_hot.argmax(axis=1)  # Usar y_train_one_hot en lugar de y_train si está codificado en one-hot\n",
        "\n",
        "accuracy_train = accuracy_score(y_train_true_class, y_train_pred_class)\n",
        "precision_train = precision_score(y_train_true_class, y_train_pred_class, average='macro')\n",
        "recall_train = recall_score(y_train_true_class, y_train_pred_class, average='macro')\n",
        "f1_train = f1_score(y_train_true_class, y_train_pred_class, average='macro')\n",
        "\n",
        "# Guardar el modelo entrenado\n",
        "model.save('/content/drive/MyDrive/Experimentación Python Tesis /Experimento Dataset Ansiedad Depresión/Modelos ya entrenadosmodelo_entrenado_multiclase.h5')\n",
        "\n",
        "# Cargar el modelo entrenado\n",
        "loaded_model = tf.keras.models.load_model('/content/drive/MyDrive/Experimentación Python Tesis /Experimento Dataset Ansiedad Depresión/Modelos ya entrenadosmodelo_entrenado_multiclase.h5')\n",
        "\n",
        "\n",
        "\n"
      ],
      "metadata": {
        "id": "d379t1yYbv8r"
      },
      "execution_count": null,
      "outputs": []
    },
    {
      "cell_type": "code",
      "source": [
        "# Imprimir métricas de entrenamiento\n",
        "print(\"\\nMétricas en el conjunto de entrenamiento:\")\n",
        "print(f\"Exactitud (entrenamiento): {round(accuracy_train, 2) * 100}%\")\n",
        "print(f\"Precisión (entrenamiento): {round(precision_train, 2) * 100}%\")\n",
        "print(f\"Recall (entrenamiento): {round(recall_train, 2) * 100}%\")\n",
        "print(f\"F1-score (entrenamiento): {round(f1_train, 2) * 100}%\")\n",
        "print('-------------------------------------------------------------------------')\n",
        "# Imprimir métricas de evaluación\n",
        "print(f\"Exactitud en el conjunto de validación: {round(accuracy, 2) * 100}%\")\n",
        "print(f\"Precisión en el conjunto de validación: {round(precision, 2) * 100}%\")\n",
        "print(f\"Recall en el conjunto de validación: {round(recall, 2) * 100}%\")\n",
        "print(f\"F1-score en el conjunto de validación: {round(f1, 2) * 100}%\")"
      ],
      "metadata": {
        "colab": {
          "base_uri": "https://localhost:8080/"
        },
        "id": "Vmmd-HZAGZ3G",
        "outputId": "ee358138-5772-4fbb-ade7-b4322a607bcd"
      },
      "execution_count": null,
      "outputs": [
        {
          "output_type": "stream",
          "name": "stdout",
          "text": [
            "\n",
            "Métricas en el conjunto de entrenamiento:\n",
            "Exactitud (entrenamiento): 96.0%\n",
            "Precisión (entrenamiento): 96.0%\n",
            "Recall (entrenamiento): 96.0%\n",
            "F1-score (entrenamiento): 96.0%\n",
            "-------------------------------------------------------------------------\n",
            "Exactitud en el conjunto de validación: 59.0%\n",
            "Precisión en el conjunto de validación: 57.99999999999999%\n",
            "Recall en el conjunto de validación: 57.99999999999999%\n",
            "F1-score en el conjunto de validación: 57.99999999999999%\n"
          ]
        }
      ]
    },
    {
      "cell_type": "markdown",
      "source": [
        "#Matriz de confusión"
      ],
      "metadata": {
        "id": "Bp8TINybrLMs"
      }
    },
    {
      "cell_type": "markdown",
      "source": [
        "entrenamiento"
      ],
      "metadata": {
        "id": "-Ek8P9HTdWni"
      }
    },
    {
      "cell_type": "code",
      "source": [
        "from sklearn.metrics import confusion_matrix\n",
        "\n",
        "cm = confusion_matrix(y_train_true_class, y_train_pred_class)\n",
        "\n",
        "# Imprimir la matriz de confusión\n",
        "print(\"Matriz de Confusión:\")\n",
        "print(cm)"
      ],
      "metadata": {
        "colab": {
          "base_uri": "https://localhost:8080/"
        },
        "id": "_cp5DgZABzxZ",
        "outputId": "e5dce85e-c4ca-42c5-87b8-b1bc630615a4"
      },
      "execution_count": null,
      "outputs": [
        {
          "output_type": "stream",
          "name": "stdout",
          "text": [
            "Matriz de Confusión:\n",
            "[[2101  107    5]\n",
            " [ 130 2088    4]\n",
            " [   3   11 2456]]\n"
          ]
        }
      ]
    },
    {
      "cell_type": "code",
      "source": [
        "import seaborn as sns\n",
        "import matplotlib.pyplot as plt\n",
        "\n",
        "# Definir etiquetas de las clases\n",
        "classes = ['Control', 'Depresión', 'Ansiedad']\n",
        "\n",
        "# Crear un mapa de calor de la matriz de confusión\n",
        "plt.figure(figsize=(8, 6))\n",
        "sns.heatmap(cm, annot=True, fmt='d', cmap='Blues', xticklabels=classes, yticklabels=classes)\n",
        "\n",
        "# Agregar etiquetas y título\n",
        "plt.xlabel('Clases Predichas')\n",
        "plt.ylabel('Clases Reales')\n",
        "plt.title('Matriz de Confusión')\n",
        "\n",
        "plt.show()"
      ],
      "metadata": {
        "colab": {
          "base_uri": "https://localhost:8080/",
          "height": 570
        },
        "outputId": "36ab3081-d835-42b6-8073-ed7574be5281",
        "id": "jh1blnNlrLMt"
      },
      "execution_count": null,
      "outputs": [
        {
          "output_type": "display_data",
          "data": {
            "text/plain": [
              "<Figure size 800x600 with 2 Axes>"
            ],
            "image/png": "[encoded data removed]"
          },
          "metadata": {
            "image/png": {
              "width": 672,
              "height": 553
            }
          }
        }
      ]
    },
    {
      "cell_type": "markdown",
      "source": [
        "validación"
      ],
      "metadata": {
        "id": "PMvCQGBEdZlp"
      }
    },
    {
      "cell_type": "code",
      "source": [
        "from sklearn.metrics import confusion_matrix\n",
        "\n",
        "cm = confusion_matrix(y_val_true_class, y_val_pred_class)\n",
        "\n",
        "# Imprimir la matriz de confusión\n",
        "print(\"Matriz de Confusión:\")\n",
        "print(cm)"
      ],
      "metadata": {
        "colab": {
          "base_uri": "https://localhost:8080/"
        },
        "id": "13VsEgDIdjWL",
        "outputId": "c60094ca-e822-4634-a7cd-46e8b01a4ee1"
      },
      "execution_count": null,
      "outputs": [
        {
          "output_type": "stream",
          "name": "stdout",
          "text": [
            "Matriz de Confusión:\n",
            "[[312 376  54]\n",
            " [329 357  65]\n",
            " [ 43  78 688]]\n"
          ]
        }
      ]
    },
    {
      "cell_type": "code",
      "source": [
        "import seaborn as sns\n",
        "import matplotlib.pyplot as plt\n",
        "\n",
        "# Definir etiquetas de las clases\n",
        "classes = ['Control', 'Depresión', 'Ansiedad']\n",
        "\n",
        "# Crear un mapa de calor de la matriz de confusión\n",
        "plt.figure(figsize=(8, 6))\n",
        "sns.heatmap(cm, annot=True, fmt='d', cmap='Blues', xticklabels=classes, yticklabels=classes)\n",
        "\n",
        "# Agregar etiquetas y título\n",
        "plt.xlabel('Clases Predichas')\n",
        "plt.ylabel('Clases Reales')\n",
        "plt.title('Matriz de Confusión')\n",
        "\n",
        "plt.show()"
      ],
      "metadata": {
        "colab": {
          "base_uri": "https://localhost:8080/",
          "height": 570
        },
        "id": "XmXF3LphdrE5",
        "outputId": "16264ed5-8557-433a-f008-b71b7ec66655"
      },
      "execution_count": null,
      "outputs": [
        {
          "output_type": "display_data",
          "data": {
            "text/plain": [
              "<Figure size 800x600 with 2 Axes>"
            ],
            "image/png": "[encoded data removed]"
          },
          "metadata": {
            "image/png": {
              "width": 662,
              "height": 553
            }
          }
        }
      ]
    },
    {
      "cell_type": "markdown",
      "source": [
        "# Entrenamiento con validación cruzada k=10"
      ],
      "metadata": {
        "id": "QTwJYz3guhTd"
      }
    },
    {
      "cell_type": "code",
      "source": [
        "# Convertir las etiquetas en codificación one-hot\n",
        "num_classes = 3  # Número de clases\n",
        "y_one_hot = to_categorical(y, num_classes)\n",
        "\n",
        "# Crear listas para almacenar las métricas de entrenamiento y validación\n",
        "train_accuracy_list = []\n",
        "train_precision_list = []\n",
        "train_recall_list = []\n",
        "train_f1_list = []\n",
        "val_accuracy_list = []\n",
        "val_precision_list = []\n",
        "val_recall_list = []\n",
        "val_f1_list = []\n",
        "\n",
        "# Realizar validación cruzada\n",
        "skf = StratifiedKFold(n_splits=5, shuffle=True, random_state=1)  # Puedes ajustar el número de divisiones según sea necesario\n",
        "\n",
        "for train_index, val_index in skf.split(X, y):\n",
        "    X_train, X_val = X[train_index], X[val_index]\n",
        "    y_train_one_hot, y_val_one_hot = y_one_hot[train_index], y_one_hot[val_index]\n",
        "\n",
        "    # Crear una red neuronal secuencial\n",
        "    model = Sequential()\n",
        "    model.add(Dense(328, activation='relu', input_dim=X.shape[1]))\n",
        "    model.add(Dropout(0.1))\n",
        "    model.add(Dense(164, activation='relu'))\n",
        "    model.add(Dropout(0.1))\n",
        "    model.add(Dense(num_classes, activation='softmax'))\n",
        "    model.compile(optimizer=Adam(learning_rate=0.001), loss=CategoricalCrossentropy(), metrics=[CategoricalAccuracy()])\n",
        "\n",
        "    # Entrenar el modelo en los datos de entrenamiento\n",
        "    model.fit(X_train, y_train_one_hot, epochs=10, batch_size=32)\n",
        "\n",
        "    # Evaluar el modelo en el conjunto de entrenamiento\n",
        "    y_train_pred = model.predict(X_train)\n",
        "    y_train_pred_class = y_train_pred.argmax(axis=1)\n",
        "    y_train_true_class = y_train_one_hot.argmax(axis=1)\n",
        "\n",
        "    train_accuracy = accuracy_score(y_train_true_class, y_train_pred_class)\n",
        "    train_precision = precision_score(y_train_true_class, y_train_pred_class, average='macro')\n",
        "    train_recall = recall_score(y_train_true_class, y_train_pred_class, average='macro')\n",
        "    train_f1 = f1_score(y_train_true_class, y_train_pred_class, average='macro')\n",
        "\n",
        "    # Evaluar el modelo en el conjunto de validación\n",
        "    y_val_pred = model.predict(X_val)\n",
        "    y_val_pred_class = y_val_pred.argmax(axis=1)\n",
        "    y_val_true_class = y_val_one_hot.argmax(axis=1)\n",
        "\n",
        "    val_accuracy = accuracy_score(y_val_true_class, y_val_pred_class)\n",
        "    val_precision = precision_score(y_val_true_class, y_val_pred_class, average='macro')\n",
        "    val_recall = recall_score(y_val_true_class, y_val_pred_class, average='macro')\n",
        "    val_f1 = f1_score(y_val_true_class, y_val_pred_class, average='macro')\n",
        "\n",
        "    # Almacenar las métricas en las listas\n",
        "    train_accuracy_list.append(train_accuracy)\n",
        "    train_precision_list.append(train_precision)\n",
        "    train_recall_list.append(train_recall)\n",
        "    train_f1_list.append(train_f1)\n",
        "    val_accuracy_list.append(val_accuracy)\n",
        "    val_precision_list.append(val_precision)\n",
        "    val_recall_list.append(val_recall)\n",
        "    val_f1_list.append(val_f1)\n",
        "\n",
        "# Guardar el modelo entrenado\n",
        "model.save('/content/drive/MyDrive/Experimentación Python Tesis /Experimento Dataset Ansiedad Depresión/Modelos ya entrenadosmodelo_entrenado_multiclase(k=10).h5')\n",
        "\n",
        "# Cargar el modelo entrenado\n",
        "loaded_model = tf.keras.models.load_model('/content/drive/MyDrive/Experimentación Python Tesis /Experimento Dataset Ansiedad Depresión/Modelos ya entrenadosmodelo_entrenado_multiclase(k=10).h5')\n",
        "\n",
        "\n"
      ],
      "metadata": {
        "colab": {
          "base_uri": "https://localhost:8080/"
        },
        "id": "asMGQWL7l0xP",
        "outputId": "167ef702-8c9f-4f99-90c5-db270b31e13b"
      },
      "execution_count": null,
      "outputs": [
        {
          "output_type": "stream",
          "name": "stdout",
          "text": [
            "Epoch 1/10\n",
            "231/231 [==============================] - 2s 4ms/step - loss: 0.7779 - categorical_accuracy: 0.5701\n",
            "Epoch 2/10\n",
            "231/231 [==============================] - 1s 4ms/step - loss: 0.5580 - categorical_accuracy: 0.6987\n",
            "Epoch 3/10\n",
            "231/231 [==============================] - 1s 4ms/step - loss: 0.4372 - categorical_accuracy: 0.7852\n",
            "Epoch 4/10\n",
            "231/231 [==============================] - 1s 4ms/step - loss: 0.3296 - categorical_accuracy: 0.8455\n",
            "Epoch 5/10\n",
            "231/231 [==============================] - 1s 4ms/step - loss: 0.2364 - categorical_accuracy: 0.8941\n",
            "Epoch 6/10\n",
            "231/231 [==============================] - 1s 4ms/step - loss: 0.1756 - categorical_accuracy: 0.9237\n",
            "Epoch 7/10\n",
            "231/231 [==============================] - 1s 4ms/step - loss: 0.1446 - categorical_accuracy: 0.9409\n",
            "Epoch 8/10\n",
            "231/231 [==============================] - 1s 4ms/step - loss: 0.1293 - categorical_accuracy: 0.9442\n",
            "Epoch 9/10\n",
            "231/231 [==============================] - 1s 4ms/step - loss: 0.1154 - categorical_accuracy: 0.9457\n",
            "Epoch 10/10\n",
            "231/231 [==============================] - 1s 4ms/step - loss: 0.1048 - categorical_accuracy: 0.9483\n",
            "231/231 [==============================] - 0s 2ms/step\n",
            "58/58 [==============================] - 0s 2ms/step\n",
            "Epoch 1/10\n",
            "231/231 [==============================] - 2s 4ms/step - loss: 0.7820 - categorical_accuracy: 0.5724\n",
            "Epoch 2/10\n",
            "231/231 [==============================] - 1s 4ms/step - loss: 0.5553 - categorical_accuracy: 0.7060\n",
            "Epoch 3/10\n",
            "231/231 [==============================] - 1s 4ms/step - loss: 0.4339 - categorical_accuracy: 0.7859\n",
            "Epoch 4/10\n",
            "231/231 [==============================] - 1s 4ms/step - loss: 0.3277 - categorical_accuracy: 0.8496\n",
            "Epoch 5/10\n",
            "231/231 [==============================] - 1s 4ms/step - loss: 0.2430 - categorical_accuracy: 0.8915\n",
            "Epoch 6/10\n",
            "231/231 [==============================] - 1s 4ms/step - loss: 0.1865 - categorical_accuracy: 0.9177\n",
            "Epoch 7/10\n",
            "231/231 [==============================] - 1s 4ms/step - loss: 0.1525 - categorical_accuracy: 0.9318\n",
            "Epoch 8/10\n",
            "231/231 [==============================] - 1s 4ms/step - loss: 0.1341 - categorical_accuracy: 0.9393\n",
            "Epoch 9/10\n",
            "231/231 [==============================] - 1s 4ms/step - loss: 0.1233 - categorical_accuracy: 0.9401\n",
            "Epoch 10/10\n",
            "231/231 [==============================] - 1s 4ms/step - loss: 0.1101 - categorical_accuracy: 0.9449\n",
            "231/231 [==============================] - 0s 2ms/step\n",
            "58/58 [==============================] - 0s 2ms/step\n",
            "Epoch 1/10\n",
            "231/231 [==============================] - 2s 4ms/step - loss: 0.7717 - categorical_accuracy: 0.5787\n",
            "Epoch 2/10\n",
            "231/231 [==============================] - 1s 4ms/step - loss: 0.5504 - categorical_accuracy: 0.7130\n",
            "Epoch 3/10\n",
            "231/231 [==============================] - 1s 4ms/step - loss: 0.4366 - categorical_accuracy: 0.7856\n",
            "Epoch 4/10\n",
            "231/231 [==============================] - 1s 4ms/step - loss: 0.3319 - categorical_accuracy: 0.8425\n",
            "Epoch 5/10\n",
            "231/231 [==============================] - 1s 4ms/step - loss: 0.2480 - categorical_accuracy: 0.8903\n",
            "Epoch 6/10\n",
            "231/231 [==============================] - 1s 4ms/step - loss: 0.1880 - categorical_accuracy: 0.9214\n",
            "Epoch 7/10\n",
            "231/231 [==============================] - 1s 4ms/step - loss: 0.1492 - categorical_accuracy: 0.9343\n",
            "Epoch 8/10\n",
            "231/231 [==============================] - 1s 4ms/step - loss: 0.1323 - categorical_accuracy: 0.9409\n",
            "Epoch 9/10\n",
            "231/231 [==============================] - 1s 4ms/step - loss: 0.1185 - categorical_accuracy: 0.9441\n",
            "Epoch 10/10\n",
            "231/231 [==============================] - 1s 4ms/step - loss: 0.1084 - categorical_accuracy: 0.9441\n",
            "231/231 [==============================] - 0s 2ms/step\n",
            "58/58 [==============================] - 0s 2ms/step\n",
            "Epoch 1/10\n",
            "231/231 [==============================] - 2s 4ms/step - loss: 0.7771 - categorical_accuracy: 0.5874\n",
            "Epoch 2/10\n",
            "231/231 [==============================] - 1s 4ms/step - loss: 0.5473 - categorical_accuracy: 0.7091\n",
            "Epoch 3/10\n",
            "231/231 [==============================] - 1s 4ms/step - loss: 0.4249 - categorical_accuracy: 0.7927\n",
            "Epoch 4/10\n",
            "231/231 [==============================] - 1s 4ms/step - loss: 0.3173 - categorical_accuracy: 0.8480\n",
            "Epoch 5/10\n",
            "231/231 [==============================] - 1s 4ms/step - loss: 0.2264 - categorical_accuracy: 0.8997\n",
            "Epoch 6/10\n",
            "231/231 [==============================] - 1s 4ms/step - loss: 0.1702 - categorical_accuracy: 0.9257\n",
            "Epoch 7/10\n",
            "231/231 [==============================] - 1s 4ms/step - loss: 0.1371 - categorical_accuracy: 0.9405\n",
            "Epoch 8/10\n",
            "231/231 [==============================] - 1s 4ms/step - loss: 0.1173 - categorical_accuracy: 0.9473\n",
            "Epoch 9/10\n",
            "231/231 [==============================] - 1s 4ms/step - loss: 0.1073 - categorical_accuracy: 0.9500\n",
            "Epoch 10/10\n",
            "231/231 [==============================] - 1s 4ms/step - loss: 0.0951 - categorical_accuracy: 0.9525\n",
            "231/231 [==============================] - 0s 2ms/step\n",
            "58/58 [==============================] - 0s 2ms/step\n",
            "Epoch 1/10\n",
            "231/231 [==============================] - 2s 4ms/step - loss: 0.7753 - categorical_accuracy: 0.5588\n",
            "Epoch 2/10\n",
            "231/231 [==============================] - 1s 4ms/step - loss: 0.5551 - categorical_accuracy: 0.6974\n",
            "Epoch 3/10\n",
            "231/231 [==============================] - 1s 4ms/step - loss: 0.4430 - categorical_accuracy: 0.7841\n",
            "Epoch 4/10\n",
            "231/231 [==============================] - 1s 4ms/step - loss: 0.3329 - categorical_accuracy: 0.8437\n",
            "Epoch 5/10\n",
            "231/231 [==============================] - 1s 4ms/step - loss: 0.2440 - categorical_accuracy: 0.8917\n",
            "Epoch 6/10\n",
            "231/231 [==============================] - 1s 4ms/step - loss: 0.1794 - categorical_accuracy: 0.9232\n",
            "Epoch 7/10\n",
            "231/231 [==============================] - 1s 4ms/step - loss: 0.1480 - categorical_accuracy: 0.9362\n",
            "Epoch 8/10\n",
            "231/231 [==============================] - 1s 4ms/step - loss: 0.1304 - categorical_accuracy: 0.9409\n",
            "Epoch 9/10\n",
            "231/231 [==============================] - 1s 4ms/step - loss: 0.1157 - categorical_accuracy: 0.9447\n",
            "Epoch 10/10\n",
            "231/231 [==============================] - 1s 3ms/step - loss: 0.1045 - categorical_accuracy: 0.9473\n",
            "231/231 [==============================] - 0s 1ms/step\n",
            "58/58 [==============================] - 0s 2ms/step\n"
          ]
        }
      ]
    },
    {
      "cell_type": "code",
      "source": [
        "# Imprimir\n",
        "print(\"Métricas de entrenamiento - Accuracy:\", np.mean(train_accuracy_list)*100)\n",
        "print(\"Métricas de entrenamiento - Precision:\", np.mean(train_precision_list)*100)\n",
        "print(\"Métricas de entrenamiento - Recall:\", np.mean(train_recall_list)*100)\n",
        "print(\"Métricas de entrenamiento - F1-score:\", np.mean(train_f1_list)*100)\n",
        "print('--'*100)\n",
        "print(\"Métricas de validación - Accuracy:\", np.mean(val_accuracy_list)*100)\n",
        "print(\"Métricas de validación - Precision:\", np.mean(val_precision_list)*100)\n",
        "print(\"Métricas de validación - Recall:\", np.mean(val_recall_list)*100)\n",
        "print(\"Métricas de validación - F1-score:\", np.mean(val_f1_list)*100)"
      ],
      "metadata": {
        "colab": {
          "base_uri": "https://localhost:8080/"
        },
        "id": "r6i86tHouOI8",
        "outputId": "b2972e83-fbef-479d-a797-ddac6dadb8d0"
      },
      "execution_count": null,
      "outputs": [
        {
          "output_type": "stream",
          "name": "stdout",
          "text": [
            "Métricas de entrenamiento - Accuracy: 95.95144716398477\n",
            "Métricas de entrenamiento - Precision: 95.85881905719758\n",
            "Métricas de entrenamiento - Recall: 95.82265097701284\n",
            "Métricas de entrenamiento - F1-score: 95.8240735446198\n",
            "--------------------------------------------------------------------------------------------------------------------------------------------------------------------------------------------------------\n",
            "Métricas de validación - Accuracy: 59.56311804765504\n",
            "Métricas de validación - Precision: 58.03464644102427\n",
            "Métricas de validación - Recall: 58.51604738717431\n",
            "Métricas de validación - F1-score: 58.185745619787824\n"
          ]
        }
      ]
    },
    {
      "cell_type": "markdown",
      "source": [
        "#Matriz de confusión"
      ],
      "metadata": {
        "id": "u4C1Kmyug9ow"
      }
    },
    {
      "cell_type": "markdown",
      "source": [
        "entrenamiento"
      ],
      "metadata": {
        "id": "4XrftE2-g9pF"
      }
    },
    {
      "cell_type": "code",
      "source": [
        "from sklearn.metrics import confusion_matrix\n",
        "\n",
        "cm = confusion_matrix(y_train_true_class, y_train_pred_class)\n",
        "\n",
        "# Imprimir la matriz de confusión\n",
        "print(\"Matriz de Confusión:\")\n",
        "print(cm)"
      ],
      "metadata": {
        "colab": {
          "base_uri": "https://localhost:8080/"
        },
        "outputId": "3218a9c5-0697-4a5b-ddab-db26ffab1941",
        "id": "yzlqBxd4g9pG"
      },
      "execution_count": null,
      "outputs": [
        {
          "output_type": "stream",
          "name": "stdout",
          "text": [
            "Matriz de Confusión:\n",
            "[[2199  161    4]\n",
            " [ 119 2257    3]\n",
            " [   4   11 2608]]\n"
          ]
        }
      ]
    },
    {
      "cell_type": "code",
      "source": [
        "import seaborn as sns\n",
        "import matplotlib.pyplot as plt\n",
        "\n",
        "# Definir etiquetas de las clases\n",
        "classes = ['Control', 'Depresión', 'Ansiedad']\n",
        "\n",
        "# Crear un mapa de calor de la matriz de confusión\n",
        "plt.figure(figsize=(8, 6))\n",
        "sns.heatmap(cm, annot=True, fmt='d', cmap='Blues', xticklabels=classes, yticklabels=classes)\n",
        "\n",
        "# Agregar etiquetas y título\n",
        "plt.xlabel('Clases Predichas')\n",
        "plt.ylabel('Clases Reales')\n",
        "plt.title('Matriz de Confusión')\n",
        "\n",
        "plt.show()"
      ],
      "metadata": {
        "colab": {
          "base_uri": "https://localhost:8080/",
          "height": 570
        },
        "outputId": "8da5390f-9dbf-4bd4-a79a-1a29797724d4",
        "id": "Zgd0T54gg9pG"
      },
      "execution_count": null,
      "outputs": [
        {
          "output_type": "display_data",
          "data": {
            "text/plain": [
              "<Figure size 800x600 with 2 Axes>"
            ],
            "image/png": "[encoded data removed]"
          },
          "metadata": {
            "image/png": {
              "width": 672,
              "height": 553
            }
          }
        }
      ]
    },
    {
      "cell_type": "markdown",
      "source": [
        "validación"
      ],
      "metadata": {
        "id": "1TR1ee4Ig9pH"
      }
    },
    {
      "cell_type": "code",
      "source": [
        "from sklearn.metrics import confusion_matrix\n",
        "\n",
        "cm = confusion_matrix(y_val_true_class, y_val_pred_class)\n",
        "\n",
        "# Imprimir la matriz de confusión\n",
        "print(\"Matriz de Confusión:\")\n",
        "print(cm)"
      ],
      "metadata": {
        "colab": {
          "base_uri": "https://localhost:8080/"
        },
        "outputId": "df1cacb5-39ca-4523-9552-d427a39bc6aa",
        "id": "7KTmG7Bpg9pH"
      },
      "execution_count": null,
      "outputs": [
        {
          "output_type": "stream",
          "name": "stdout",
          "text": [
            "Matriz de Confusión:\n",
            "[[262 271  58]\n",
            " [293 250  51]\n",
            " [ 39  37 580]]\n"
          ]
        }
      ]
    },
    {
      "cell_type": "code",
      "source": [
        "import seaborn as sns\n",
        "import matplotlib.pyplot as plt\n",
        "\n",
        "# Definir etiquetas de las clases\n",
        "classes = ['Control', 'Depresión', 'Ansiedad']\n",
        "\n",
        "# Crear un mapa de calor de la matriz de confusión\n",
        "plt.figure(figsize=(8, 6))\n",
        "sns.heatmap(cm, annot=True, fmt='d', cmap='Blues', xticklabels=classes, yticklabels=classes)\n",
        "\n",
        "# Agregar etiquetas y título\n",
        "plt.xlabel('Clases Predichas')\n",
        "plt.ylabel('Clases Reales')\n",
        "plt.title('Matriz de Confusión')\n",
        "\n",
        "plt.show()"
      ],
      "metadata": {
        "colab": {
          "base_uri": "https://localhost:8080/",
          "height": 570
        },
        "outputId": "ae2e6791-13db-499a-fcea-e4fd3f4db160",
        "id": "flKrJk4cg9pI"
      },
      "execution_count": null,
      "outputs": [
        {
          "output_type": "display_data",
          "data": {
            "text/plain": [
              "<Figure size 800x600 with 2 Axes>"
            ],
            "image/png": "[encoded data removed]"
          },
          "metadata": {
            "image/png": {
              "width": 662,
              "height": 553
            }
          }
        }
      ]
    },
    {
      "cell_type": "markdown",
      "source": [
        "Guardar el modelo"
      ],
      "metadata": {
        "id": "g-prh_gfHDAO"
      }
    },
    {
      "cell_type": "code",
      "source": [
        "import joblib\n",
        "import os\n",
        "# Directorio para guardar modelos entrenados\n",
        "model_dir = '/content/drive/MyDrive/Experimentación Python Tesis /Experimento Dataset Ansiedad Depresión/BOW/parametros de los modelos'\n",
        "model_filename = 'TWEETS_depresivos-ansiedad (BoW) (RN-CV=10).pkl'\n",
        "model_path_p = os.path.join(model_dir, model_filename)\n",
        "\n",
        "# Guardar el modelo entrenado\n",
        "joblib.dump(model, model_path_p)"
      ],
      "metadata": {
        "colab": {
          "base_uri": "https://localhost:8080/"
        },
        "id": "6c7TZlUjHCjW",
        "outputId": "09823e5e-793b-402b-fed3-81d24fadb1a7"
      },
      "execution_count": null,
      "outputs": [
        {
          "output_type": "execute_result",
          "data": {
            "text/plain": [
              "['/content/drive/MyDrive/Experimentación Python Tesis /Experimento Dataset Ansiedad Depresión/BOW/parametros de los modelos/TWEETS_depresivos-ansiedad (BoW) (RN-CV=10).pkl']"
            ]
          },
          "metadata": {},
          "execution_count": 132
        }
      ]
    }
  ],
  "metadata": {
    "colab": {
      "provenance": [],
      "machine_shape": "hm",
      "gpuType": "T4",
      "mount_file_id": "1IDiwtw11elpkGOVcNq_Do2muWUc2Nvmg",
      "authorship_tag": "ABX9TyOeu9owju9vNvNaFrZ254Z0"
    },
    "kernelspec": {
      "display_name": "Python 3",
      "name": "python3"
    },
    "language_info": {
      "name": "python"
    },
    "accelerator": "GPU"
  },
  "nbformat": 4,
  "nbformat_minor": 0
}
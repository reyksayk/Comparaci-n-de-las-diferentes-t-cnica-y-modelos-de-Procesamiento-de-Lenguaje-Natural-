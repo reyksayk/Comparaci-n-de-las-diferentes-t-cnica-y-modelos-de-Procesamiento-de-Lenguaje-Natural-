{
  "nbformat": 4,
  "nbformat_minor": 0,
  "metadata": {
    "colab": {
      "provenance": [],
      "mount_file_id": "1M3s10G01Gip1qFsfQjGcIfNRTNg2Dusf",
      "authorship_tag": "ABX9TyOzpRezwA7W6HuhsQEBzUwg"
    },
    "kernelspec": {
      "name": "python3",
      "display_name": "Python 3"
    },
    "language_info": {
      "name": "python"
    }
  },
  "cells": [
    {
      "cell_type": "code",
      "source": [
        "import numpy as np\n",
        "import pandas as pd\n",
        "\n",
        "import tensorflow as tf\n",
        "from tensorflow.keras.models import Sequential\n",
        "from tensorflow.keras.layers import Dense, Dropout\n",
        "from sklearn.metrics import accuracy_score, precision_score, recall_score, f1_score\n",
        "from sklearn.model_selection import train_test_split\n",
        "from sklearn.preprocessing import LabelEncoder\n",
        "from tensorflow.keras.models import load_model\n",
        "from sklearn.model_selection import cross_val_score\n",
        "from sklearn.model_selection import StratifiedKFold\n",
        "import os\n",
        "from gensim.models import Word2Vec\n",
        "from sklearn.model_selection import train_test_split"
      ],
      "metadata": {
        "id": "U7C1X_GgdSjj"
      },
      "execution_count": null,
      "outputs": []
    },
    {
      "cell_type": "code",
      "source": [
        "from google.colab import drive\n",
        "drive.mount('/content/drive')"
      ],
      "metadata": {
        "colab": {
          "base_uri": "https://localhost:8080/"
        },
        "id": "OPBO-tFog7K6",
        "outputId": "907d6e14-fc2c-42a7-8b65-1d91aec37859"
      },
      "execution_count": null,
      "outputs": [
        {
          "output_type": "stream",
          "name": "stdout",
          "text": [
            "Drive already mounted at /content/drive; to attempt to forcibly remount, call drive.mount(\"/content/drive\", force_remount=True).\n"
          ]
        }
      ]
    },
    {
      "cell_type": "markdown",
      "source": [
        "# datos"
      ],
      "metadata": {
        "id": "Qc7qpw2GdPhD"
      }
    },
    {
      "cell_type": "markdown",
      "source": [
        "**usarios con Control** = 0\n",
        "\n",
        "**usarios con Depresión** = 1\n",
        "\n",
        "\n",
        "**usarios con Ansiedad** = 2"
      ],
      "metadata": {
        "id": "BmpzI8EBdbB4"
      }
    },
    {
      "cell_type": "markdown",
      "source": [
        "**PREPARACIÓN DE DATOS**"
      ],
      "metadata": {
        "id": "7I0KbpBsDLMD"
      }
    },
    {
      "cell_type": "markdown",
      "source": [
        "*Cargar y limpiar*"
      ],
      "metadata": {
        "id": "A2424AfYDN7Y"
      }
    },
    {
      "cell_type": "code",
      "source": [
        "!pip install pyspellchecker\n",
        "!pip install spacy\n",
        "!python -m spacy download es_core_news_sm"
      ],
      "metadata": {
        "id": "J-67yml1ImB8"
      },
      "execution_count": null,
      "outputs": []
    },
    {
      "cell_type": "markdown",
      "source": [
        "# limpiar texto y Crear Tokens"
      ],
      "metadata": {
        "id": "KxVGxamuXRIb"
      }
    },
    {
      "cell_type": "code",
      "source": [
        "import re\n",
        "import string\n",
        "import pandas as pd\n",
        "from nltk.corpus import stopwords\n",
        "from nltk.tokenize import word_tokenize\n",
        "\n",
        "def load_doc(filename):\n",
        "    try:\n",
        "        data = pd.read_csv(filename, delimiter='\\t')  # Indicamos el delimitador como '\\t' para TSV\n",
        "        return data\n",
        "    except Exception as e:\n",
        "        print(\"Error:\", e)\n",
        "        return None\n",
        "\n",
        "#Creamos un función de limpieza del texto y  los guarde en tokens indivicuales o lista de palabras\n",
        "def clean_doc(text):\n",
        "    # Eliminar hashtags\n",
        "    text = re.sub(r'#\\w+', '', text)\n",
        "\n",
        "    # Eliminar URLs o enlaces\n",
        "    text = re.sub(r'(https?://)?[a-zA-Z0-9]+\\.[a-zA-Z0-9]+\\S*', '', text)\n",
        "\n",
        "    # Eliminar nombres de usuarios de Twitter\n",
        "    text = re.sub(r'@\\w+', '', text)\n",
        "\n",
        "    # Eliminar Nombres propios\n",
        "    text = re.sub(r'\\b[A-Z][a-z]+\\b', '', text)\n",
        "\n",
        "    # Eliminar todos los caracteres especiales\n",
        "    text = re.sub(r'[^\\w\\s]+', '', text)\n",
        "\n",
        "    # Eliminar prefijos y números\n",
        "    text = re.sub(r'\\b\\w{1,2}\\b|\\d+', '', text)\n",
        "\n",
        "    # Eliminar palabras específicas\n",
        "    specific_words = ['retweet', 'retweets', 'hashtag', 'trending', 'mención', 'enlace', 'emoji', 'timeline', 'interacciones',\n",
        "                      'tuit', 'seguidores', 'notificaciones', 'seguir', 'favorito', 'perfil', 'tendencia', 'influencer',\n",
        "                      'compartir', 'actualización', 'explorar', 'seguir', 'comunidad', 'contenido', 'popular',\n",
        "                      'recomendar', 'experiencia', 'conectar', 'comentar', 'compartir', 'comunidad', 'actualización',\n",
        "                      'drk', 'followers', 'stats', 'for', 'new', 'little', 'unfollower', 'unfollowers', 'today', 'shit','twitter','nombre',\n",
        "                      'eric','story','great', 'short','squeeze','piggly','wiggly','hmv','even','follas','you','i','he','she',\n",
        "                      'it','we','they','the','and','that','these','those','tweet','followed','follower']\n",
        "    text = ' '.join([word for word in text.split() if word not in specific_words])\n",
        "\n",
        "    # Eliminar emojis\n",
        "    emojis = re.findall(r'[^\\w\\s,]', text)\n",
        "    cleaned_emojis = [emoji for emoji in emojis if emoji not in ['@', '#', '/', '?','¿','.','…','\"',':','“','!','¡','°','-',\"‘\",'’',\n",
        "                                                                 '=',';','(',')',\"'\",\"'\",'&','€','%','$','*','+','|', '”','🇦','🇷',',',\n",
        "                                                                 ', ','—','«',' »','»','« ','[, ]','[,]',',',', ','',' ',' ♀',' 🏽']]\n",
        "    for emoji in cleaned_emojis:\n",
        "        text = text.replace(emoji, '')\n",
        "\n",
        "    # Convertir el texto a minúsculas\n",
        "    text = text.lower()\n",
        "\n",
        "    return text\n",
        "\n",
        "def removeHTML(text):\n",
        "    if isinstance(text, str):  # Verificar si es de tipo string\n",
        "        cleanr = re.compile('<.*?>')\n",
        "        cleantext = re.sub(cleanr, '', text)\n",
        "        return cleantext\n",
        "    else:\n",
        "        return text  # Devolver el valor original si no es de tipo string\n"
      ],
      "metadata": {
        "id": "12y4sbQ3EnQy"
      },
      "execution_count": null,
      "outputs": []
    },
    {
      "cell_type": "code",
      "source": [
        "def cargar_documentos(ruta, etiqueta):\n",
        "    documentos = []\n",
        "    etiquetas = []\n",
        "\n",
        "    for archivo in os.listdir(ruta):\n",
        "        if archivo.endswith(\".csv\"):\n",
        "            # Leer el archivo CSV usando pandas\n",
        "            df = pd.read_csv(os.path.join(ruta, archivo))\n",
        "\n",
        "            # Verificar si la columna \"tweet\" existe en el DataFrame\n",
        "            if 'tweet' in df.columns:\n",
        "                # Obtener solo la columna \"tweet\"\n",
        "                tweets = df['tweet'].tolist()\n",
        "\n",
        "                # Agregar los tweets y etiquetas a las listas\n",
        "                documentos.extend(tweets)\n",
        "                etiquetas.extend([etiqueta] * len(tweets))\n",
        "\n",
        "    return documentos, etiquetas"
      ],
      "metadata": {
        "id": "n1IquwaXD_cF"
      },
      "execution_count": null,
      "outputs": []
    },
    {
      "cell_type": "code",
      "source": [
        "# Rutas de las carpetas\n",
        "ruta_dep = '/content/drive/MyDrive/Experimentación Python Tesis /Experimento por agrupación de usuarios/Usarios de depresión 2/'\n",
        "ruta_ans = '/content/drive/MyDrive/Experimentación Python Tesis /Experimento por agrupación de usuarios/Usuarios con ansiedad/'\n",
        "ruta_cont = '/content/drive/MyDrive/Experimentación Python Tesis /Experimento por agrupación de usuarios/Usarios de control 2/'"
      ],
      "metadata": {
        "id": "ZFPxTLcQEVGA"
      },
      "execution_count": null,
      "outputs": []
    },
    {
      "cell_type": "code",
      "source": [
        "# Cargar documentos y etiquetas\n",
        "Ans, etiquetas_ans = cargar_documentos(ruta_ans, etiqueta=2) # Ansiedad  = 2\n",
        "Dep, etiquetas_dep = cargar_documentos(ruta_dep, etiqueta=1) # Ansiedad  = 1\n",
        "Cont, etiquetas_cont = cargar_documentos(ruta_cont, etiqueta=0) # Control = 0\n"
      ],
      "metadata": {
        "id": "SUICMTtr4Y9H"
      },
      "execution_count": null,
      "outputs": []
    },
    {
      "cell_type": "code",
      "source": [
        "# Crear un DataFrame usando pandas\n",
        "data_tweet = pd.DataFrame({'tweets': Ans + Cont + Dep, 'trastorno': etiquetas_ans + etiquetas_dep + etiquetas_cont})"
      ],
      "metadata": {
        "id": "-jGOL3877rBe"
      },
      "execution_count": null,
      "outputs": []
    },
    {
      "cell_type": "code",
      "source": [
        "data_tweet['tweets'] = data_tweet['tweets'].astype(str)\n",
        "data_tweet.info()\n",
        "data_tweet.head(10)"
      ],
      "metadata": {
        "colab": {
          "base_uri": "https://localhost:8080/",
          "height": 533
        },
        "id": "9cob3UVR728H",
        "outputId": "f3641234-e217-4d06-adc5-abd573ceba35"
      },
      "execution_count": null,
      "outputs": [
        {
          "output_type": "stream",
          "name": "stdout",
          "text": [
            "<class 'pandas.core.frame.DataFrame'>\n",
            "RangeIndex: 197248 entries, 0 to 197247\n",
            "Data columns (total 2 columns):\n",
            " #   Column     Non-Null Count   Dtype \n",
            "---  ------     --------------   ----- \n",
            " 0   tweets     197248 non-null  object\n",
            " 1   trastorno  197248 non-null  int64 \n",
            "dtypes: int64(1), object(1)\n",
            "memory usage: 3.0+ MB\n"
          ]
        },
        {
          "output_type": "execute_result",
          "data": {
            "text/plain": [
              "                                              tweets  trastorno\n",
              "0  @USUARIO JAJAJAJAJA esa es una historia mal co...          2\n",
              "1  @USUARIO al menos no atrasé a mi causa con su ...          2\n",
              "2                                     que sería sino          2\n",
              "3                 me gusta la calle cuando hay gente          2\n",
              "4  odio que me manden audios de más de 2min, teng...          2\n",
              "5  Icardi no puede jugar en este PSG, no está al ...          2\n",
              "6  Que bien le hace a Neymar jugar al lado de Mes...          2\n",
              "7  @USUARIO hermano muchas veces nuestro error es...          2\n",
              "8                   máscara pa los bobos yo te avisé          2\n",
              "9          @USUARIO Prepara las ideas pal vacunafest          2"
            ],
            "text/html": [
              "\n",
              "  <div id=\"df-caf546bb-15bd-422f-a175-5d3cd717472c\" class=\"colab-df-container\">\n",
              "    <div>\n",
              "<style scoped>\n",
              "    .dataframe tbody tr th:only-of-type {\n",
              "        vertical-align: middle;\n",
              "    }\n",
              "\n",
              "    .dataframe tbody tr th {\n",
              "        vertical-align: top;\n",
              "    }\n",
              "\n",
              "    .dataframe thead th {\n",
              "        text-align: right;\n",
              "    }\n",
              "</style>\n",
              "<table border=\"1\" class=\"dataframe\">\n",
              "  <thead>\n",
              "    <tr style=\"text-align: right;\">\n",
              "      <th></th>\n",
              "      <th>tweets</th>\n",
              "      <th>trastorno</th>\n",
              "    </tr>\n",
              "  </thead>\n",
              "  <tbody>\n",
              "    <tr>\n",
              "      <th>0</th>\n",
              "      <td>@USUARIO JAJAJAJAJA esa es una historia mal co...</td>\n",
              "      <td>2</td>\n",
              "    </tr>\n",
              "    <tr>\n",
              "      <th>1</th>\n",
              "      <td>@USUARIO al menos no atrasé a mi causa con su ...</td>\n",
              "      <td>2</td>\n",
              "    </tr>\n",
              "    <tr>\n",
              "      <th>2</th>\n",
              "      <td>que sería sino</td>\n",
              "      <td>2</td>\n",
              "    </tr>\n",
              "    <tr>\n",
              "      <th>3</th>\n",
              "      <td>me gusta la calle cuando hay gente</td>\n",
              "      <td>2</td>\n",
              "    </tr>\n",
              "    <tr>\n",
              "      <th>4</th>\n",
              "      <td>odio que me manden audios de más de 2min, teng...</td>\n",
              "      <td>2</td>\n",
              "    </tr>\n",
              "    <tr>\n",
              "      <th>5</th>\n",
              "      <td>Icardi no puede jugar en este PSG, no está al ...</td>\n",
              "      <td>2</td>\n",
              "    </tr>\n",
              "    <tr>\n",
              "      <th>6</th>\n",
              "      <td>Que bien le hace a Neymar jugar al lado de Mes...</td>\n",
              "      <td>2</td>\n",
              "    </tr>\n",
              "    <tr>\n",
              "      <th>7</th>\n",
              "      <td>@USUARIO hermano muchas veces nuestro error es...</td>\n",
              "      <td>2</td>\n",
              "    </tr>\n",
              "    <tr>\n",
              "      <th>8</th>\n",
              "      <td>máscara pa los bobos yo te avisé</td>\n",
              "      <td>2</td>\n",
              "    </tr>\n",
              "    <tr>\n",
              "      <th>9</th>\n",
              "      <td>@USUARIO Prepara las ideas pal vacunafest</td>\n",
              "      <td>2</td>\n",
              "    </tr>\n",
              "  </tbody>\n",
              "</table>\n",
              "</div>\n",
              "    <div class=\"colab-df-buttons\">\n",
              "\n",
              "  <div class=\"colab-df-container\">\n",
              "    <button class=\"colab-df-convert\" onclick=\"convertToInteractive('df-caf546bb-15bd-422f-a175-5d3cd717472c')\"\n",
              "            title=\"Convert this dataframe to an interactive table.\"\n",
              "            style=\"display:none;\">\n",
              "\n",
              "  <svg xmlns=\"http://www.w3.org/2000/svg\" height=\"24px\" viewBox=\"0 -960 960 960\">\n",
              "    <path d=\"M120-120v-720h720v720H120Zm60-500h600v-160H180v160Zm220 220h160v-160H400v160Zm0 220h160v-160H400v160ZM180-400h160v-160H180v160Zm440 0h160v-160H620v160ZM180-180h160v-160H180v160Zm440 0h160v-160H620v160Z\"/>\n",
              "  </svg>\n",
              "    </button>\n",
              "\n",
              "  <style>\n",
              "    .colab-df-container {\n",
              "      display:flex;\n",
              "      gap: 12px;\n",
              "    }\n",
              "\n",
              "    .colab-df-convert {\n",
              "      background-color: #E8F0FE;\n",
              "      border: none;\n",
              "      border-radius: 50%;\n",
              "      cursor: pointer;\n",
              "      display: none;\n",
              "      fill: #1967D2;\n",
              "      height: 32px;\n",
              "      padding: 0 0 0 0;\n",
              "      width: 32px;\n",
              "    }\n",
              "\n",
              "    .colab-df-convert:hover {\n",
              "      background-color: #E2EBFA;\n",
              "      box-shadow: 0px 1px 2px rgba(60, 64, 67, 0.3), 0px 1px 3px 1px rgba(60, 64, 67, 0.15);\n",
              "      fill: #174EA6;\n",
              "    }\n",
              "\n",
              "    .colab-df-buttons div {\n",
              "      margin-bottom: 4px;\n",
              "    }\n",
              "\n",
              "    [theme=dark] .colab-df-convert {\n",
              "      background-color: #3B4455;\n",
              "      fill: #D2E3FC;\n",
              "    }\n",
              "\n",
              "    [theme=dark] .colab-df-convert:hover {\n",
              "      background-color: #434B5C;\n",
              "      box-shadow: 0px 1px 3px 1px rgba(0, 0, 0, 0.15);\n",
              "      filter: drop-shadow(0px 1px 2px rgba(0, 0, 0, 0.3));\n",
              "      fill: #FFFFFF;\n",
              "    }\n",
              "  </style>\n",
              "\n",
              "    <script>\n",
              "      const buttonEl =\n",
              "        document.querySelector('#df-caf546bb-15bd-422f-a175-5d3cd717472c button.colab-df-convert');\n",
              "      buttonEl.style.display =\n",
              "        google.colab.kernel.accessAllowed ? 'block' : 'none';\n",
              "\n",
              "      async function convertToInteractive(key) {\n",
              "        const element = document.querySelector('#df-caf546bb-15bd-422f-a175-5d3cd717472c');\n",
              "        const dataTable =\n",
              "          await google.colab.kernel.invokeFunction('convertToInteractive',\n",
              "                                                    [key], {});\n",
              "        if (!dataTable) return;\n",
              "\n",
              "        const docLinkHtml = 'Like what you see? Visit the ' +\n",
              "          '<a target=\"_blank\" href=https://colab.research.google.com/notebooks/data_table.ipynb>data table notebook</a>'\n",
              "          + ' to learn more about interactive tables.';\n",
              "        element.innerHTML = '';\n",
              "        dataTable['output_type'] = 'display_data';\n",
              "        await google.colab.output.renderOutput(dataTable, element);\n",
              "        const docLink = document.createElement('div');\n",
              "        docLink.innerHTML = docLinkHtml;\n",
              "        element.appendChild(docLink);\n",
              "      }\n",
              "    </script>\n",
              "  </div>\n",
              "\n",
              "\n",
              "<div id=\"df-a0d6f944-22e8-490a-9b0f-c396fee9a9fc\">\n",
              "  <button class=\"colab-df-quickchart\" onclick=\"quickchart('df-a0d6f944-22e8-490a-9b0f-c396fee9a9fc')\"\n",
              "            title=\"Suggest charts\"\n",
              "            style=\"display:none;\">\n",
              "\n",
              "<svg xmlns=\"http://www.w3.org/2000/svg\" height=\"24px\"viewBox=\"0 0 24 24\"\n",
              "     width=\"24px\">\n",
              "    <g>\n",
              "        <path d=\"M19 3H5c-1.1 0-2 .9-2 2v14c0 1.1.9 2 2 2h14c1.1 0 2-.9 2-2V5c0-1.1-.9-2-2-2zM9 17H7v-7h2v7zm4 0h-2V7h2v10zm4 0h-2v-4h2v4z\"/>\n",
              "    </g>\n",
              "</svg>\n",
              "  </button>\n",
              "\n",
              "<style>\n",
              "  .colab-df-quickchart {\n",
              "      --bg-color: #E8F0FE;\n",
              "      --fill-color: #1967D2;\n",
              "      --hover-bg-color: #E2EBFA;\n",
              "      --hover-fill-color: #174EA6;\n",
              "      --disabled-fill-color: #AAA;\n",
              "      --disabled-bg-color: #DDD;\n",
              "  }\n",
              "\n",
              "  [theme=dark] .colab-df-quickchart {\n",
              "      --bg-color: #3B4455;\n",
              "      --fill-color: #D2E3FC;\n",
              "      --hover-bg-color: #434B5C;\n",
              "      --hover-fill-color: #FFFFFF;\n",
              "      --disabled-bg-color: #3B4455;\n",
              "      --disabled-fill-color: #666;\n",
              "  }\n",
              "\n",
              "  .colab-df-quickchart {\n",
              "    background-color: var(--bg-color);\n",
              "    border: none;\n",
              "    border-radius: 50%;\n",
              "    cursor: pointer;\n",
              "    display: none;\n",
              "    fill: var(--fill-color);\n",
              "    height: 32px;\n",
              "    padding: 0;\n",
              "    width: 32px;\n",
              "  }\n",
              "\n",
              "  .colab-df-quickchart:hover {\n",
              "    background-color: var(--hover-bg-color);\n",
              "    box-shadow: 0 1px 2px rgba(60, 64, 67, 0.3), 0 1px 3px 1px rgba(60, 64, 67, 0.15);\n",
              "    fill: var(--button-hover-fill-color);\n",
              "  }\n",
              "\n",
              "  .colab-df-quickchart-complete:disabled,\n",
              "  .colab-df-quickchart-complete:disabled:hover {\n",
              "    background-color: var(--disabled-bg-color);\n",
              "    fill: var(--disabled-fill-color);\n",
              "    box-shadow: none;\n",
              "  }\n",
              "\n",
              "  .colab-df-spinner {\n",
              "    border: 2px solid var(--fill-color);\n",
              "    border-color: transparent;\n",
              "    border-bottom-color: var(--fill-color);\n",
              "    animation:\n",
              "      spin 1s steps(1) infinite;\n",
              "  }\n",
              "\n",
              "  @keyframes spin {\n",
              "    0% {\n",
              "      border-color: transparent;\n",
              "      border-bottom-color: var(--fill-color);\n",
              "      border-left-color: var(--fill-color);\n",
              "    }\n",
              "    20% {\n",
              "      border-color: transparent;\n",
              "      border-left-color: var(--fill-color);\n",
              "      border-top-color: var(--fill-color);\n",
              "    }\n",
              "    30% {\n",
              "      border-color: transparent;\n",
              "      border-left-color: var(--fill-color);\n",
              "      border-top-color: var(--fill-color);\n",
              "      border-right-color: var(--fill-color);\n",
              "    }\n",
              "    40% {\n",
              "      border-color: transparent;\n",
              "      border-right-color: var(--fill-color);\n",
              "      border-top-color: var(--fill-color);\n",
              "    }\n",
              "    60% {\n",
              "      border-color: transparent;\n",
              "      border-right-color: var(--fill-color);\n",
              "    }\n",
              "    80% {\n",
              "      border-color: transparent;\n",
              "      border-right-color: var(--fill-color);\n",
              "      border-bottom-color: var(--fill-color);\n",
              "    }\n",
              "    90% {\n",
              "      border-color: transparent;\n",
              "      border-bottom-color: var(--fill-color);\n",
              "    }\n",
              "  }\n",
              "</style>\n",
              "\n",
              "  <script>\n",
              "    async function quickchart(key) {\n",
              "      const quickchartButtonEl =\n",
              "        document.querySelector('#' + key + ' button');\n",
              "      quickchartButtonEl.disabled = true;  // To prevent multiple clicks.\n",
              "      quickchartButtonEl.classList.add('colab-df-spinner');\n",
              "      try {\n",
              "        const charts = await google.colab.kernel.invokeFunction(\n",
              "            'suggestCharts', [key], {});\n",
              "      } catch (error) {\n",
              "        console.error('Error during call to suggestCharts:', error);\n",
              "      }\n",
              "      quickchartButtonEl.classList.remove('colab-df-spinner');\n",
              "      quickchartButtonEl.classList.add('colab-df-quickchart-complete');\n",
              "    }\n",
              "    (() => {\n",
              "      let quickchartButtonEl =\n",
              "        document.querySelector('#df-a0d6f944-22e8-490a-9b0f-c396fee9a9fc button');\n",
              "      quickchartButtonEl.style.display =\n",
              "        google.colab.kernel.accessAllowed ? 'block' : 'none';\n",
              "    })();\n",
              "  </script>\n",
              "</div>\n",
              "    </div>\n",
              "  </div>\n"
            ]
          },
          "metadata": {},
          "execution_count": 11
        }
      ]
    },
    {
      "cell_type": "code",
      "source": [
        "data_tweet['tweets'] = data_tweet['tweets'].apply(removeHTML)\n",
        "data_tweet['tweets'] = data_tweet['tweets'].apply(clean_doc)\n",
        "data_tweet"
      ],
      "metadata": {
        "colab": {
          "base_uri": "https://localhost:8080/",
          "height": 424
        },
        "id": "wBhks1fY-a4z",
        "outputId": "467003bb-08a7-44c0-d065-baf634080f21"
      },
      "execution_count": null,
      "outputs": [
        {
          "output_type": "execute_result",
          "data": {
            "text/plain": [
              "                                                   tweets  trastorno\n",
              "0                 jajajajaja esa una historia mal contada          2\n",
              "1                            menos atrasé causa con flaca          2\n",
              "2                                          que sería sino          2\n",
              "3                            gusta calle cuando hay gente          2\n",
              "4       odio que manden audios más min tengo tdah pued...          2\n",
              "...                                                   ...        ...\n",
              "197243            ala cola con teaser lisa viene poderoso          0\n",
              "197244                             esto homofobia httpurl          0\n",
              "197245                                    bueno irme priv          0\n",
              "197246                               pon fea prox httpurl          0\n",
              "197247                                             exacto          0\n",
              "\n",
              "[197248 rows x 2 columns]"
            ],
            "text/html": [
              "\n",
              "  <div id=\"df-9e2929f1-a769-46ba-8d9a-f98e829b486c\" class=\"colab-df-container\">\n",
              "    <div>\n",
              "<style scoped>\n",
              "    .dataframe tbody tr th:only-of-type {\n",
              "        vertical-align: middle;\n",
              "    }\n",
              "\n",
              "    .dataframe tbody tr th {\n",
              "        vertical-align: top;\n",
              "    }\n",
              "\n",
              "    .dataframe thead th {\n",
              "        text-align: right;\n",
              "    }\n",
              "</style>\n",
              "<table border=\"1\" class=\"dataframe\">\n",
              "  <thead>\n",
              "    <tr style=\"text-align: right;\">\n",
              "      <th></th>\n",
              "      <th>tweets</th>\n",
              "      <th>trastorno</th>\n",
              "    </tr>\n",
              "  </thead>\n",
              "  <tbody>\n",
              "    <tr>\n",
              "      <th>0</th>\n",
              "      <td>jajajajaja esa una historia mal contada</td>\n",
              "      <td>2</td>\n",
              "    </tr>\n",
              "    <tr>\n",
              "      <th>1</th>\n",
              "      <td>menos atrasé causa con flaca</td>\n",
              "      <td>2</td>\n",
              "    </tr>\n",
              "    <tr>\n",
              "      <th>2</th>\n",
              "      <td>que sería sino</td>\n",
              "      <td>2</td>\n",
              "    </tr>\n",
              "    <tr>\n",
              "      <th>3</th>\n",
              "      <td>gusta calle cuando hay gente</td>\n",
              "      <td>2</td>\n",
              "    </tr>\n",
              "    <tr>\n",
              "      <th>4</th>\n",
              "      <td>odio que manden audios más min tengo tdah pued...</td>\n",
              "      <td>2</td>\n",
              "    </tr>\n",
              "    <tr>\n",
              "      <th>...</th>\n",
              "      <td>...</td>\n",
              "      <td>...</td>\n",
              "    </tr>\n",
              "    <tr>\n",
              "      <th>197243</th>\n",
              "      <td>ala cola con teaser lisa viene poderoso</td>\n",
              "      <td>0</td>\n",
              "    </tr>\n",
              "    <tr>\n",
              "      <th>197244</th>\n",
              "      <td>esto homofobia httpurl</td>\n",
              "      <td>0</td>\n",
              "    </tr>\n",
              "    <tr>\n",
              "      <th>197245</th>\n",
              "      <td>bueno irme priv</td>\n",
              "      <td>0</td>\n",
              "    </tr>\n",
              "    <tr>\n",
              "      <th>197246</th>\n",
              "      <td>pon fea prox httpurl</td>\n",
              "      <td>0</td>\n",
              "    </tr>\n",
              "    <tr>\n",
              "      <th>197247</th>\n",
              "      <td>exacto</td>\n",
              "      <td>0</td>\n",
              "    </tr>\n",
              "  </tbody>\n",
              "</table>\n",
              "<p>197248 rows × 2 columns</p>\n",
              "</div>\n",
              "    <div class=\"colab-df-buttons\">\n",
              "\n",
              "  <div class=\"colab-df-container\">\n",
              "    <button class=\"colab-df-convert\" onclick=\"convertToInteractive('df-9e2929f1-a769-46ba-8d9a-f98e829b486c')\"\n",
              "            title=\"Convert this dataframe to an interactive table.\"\n",
              "            style=\"display:none;\">\n",
              "\n",
              "  <svg xmlns=\"http://www.w3.org/2000/svg\" height=\"24px\" viewBox=\"0 -960 960 960\">\n",
              "    <path d=\"M120-120v-720h720v720H120Zm60-500h600v-160H180v160Zm220 220h160v-160H400v160Zm0 220h160v-160H400v160ZM180-400h160v-160H180v160Zm440 0h160v-160H620v160ZM180-180h160v-160H180v160Zm440 0h160v-160H620v160Z\"/>\n",
              "  </svg>\n",
              "    </button>\n",
              "\n",
              "  <style>\n",
              "    .colab-df-container {\n",
              "      display:flex;\n",
              "      gap: 12px;\n",
              "    }\n",
              "\n",
              "    .colab-df-convert {\n",
              "      background-color: #E8F0FE;\n",
              "      border: none;\n",
              "      border-radius: 50%;\n",
              "      cursor: pointer;\n",
              "      display: none;\n",
              "      fill: #1967D2;\n",
              "      height: 32px;\n",
              "      padding: 0 0 0 0;\n",
              "      width: 32px;\n",
              "    }\n",
              "\n",
              "    .colab-df-convert:hover {\n",
              "      background-color: #E2EBFA;\n",
              "      box-shadow: 0px 1px 2px rgba(60, 64, 67, 0.3), 0px 1px 3px 1px rgba(60, 64, 67, 0.15);\n",
              "      fill: #174EA6;\n",
              "    }\n",
              "\n",
              "    .colab-df-buttons div {\n",
              "      margin-bottom: 4px;\n",
              "    }\n",
              "\n",
              "    [theme=dark] .colab-df-convert {\n",
              "      background-color: #3B4455;\n",
              "      fill: #D2E3FC;\n",
              "    }\n",
              "\n",
              "    [theme=dark] .colab-df-convert:hover {\n",
              "      background-color: #434B5C;\n",
              "      box-shadow: 0px 1px 3px 1px rgba(0, 0, 0, 0.15);\n",
              "      filter: drop-shadow(0px 1px 2px rgba(0, 0, 0, 0.3));\n",
              "      fill: #FFFFFF;\n",
              "    }\n",
              "  </style>\n",
              "\n",
              "    <script>\n",
              "      const buttonEl =\n",
              "        document.querySelector('#df-9e2929f1-a769-46ba-8d9a-f98e829b486c button.colab-df-convert');\n",
              "      buttonEl.style.display =\n",
              "        google.colab.kernel.accessAllowed ? 'block' : 'none';\n",
              "\n",
              "      async function convertToInteractive(key) {\n",
              "        const element = document.querySelector('#df-9e2929f1-a769-46ba-8d9a-f98e829b486c');\n",
              "        const dataTable =\n",
              "          await google.colab.kernel.invokeFunction('convertToInteractive',\n",
              "                                                    [key], {});\n",
              "        if (!dataTable) return;\n",
              "\n",
              "        const docLinkHtml = 'Like what you see? Visit the ' +\n",
              "          '<a target=\"_blank\" href=https://colab.research.google.com/notebooks/data_table.ipynb>data table notebook</a>'\n",
              "          + ' to learn more about interactive tables.';\n",
              "        element.innerHTML = '';\n",
              "        dataTable['output_type'] = 'display_data';\n",
              "        await google.colab.output.renderOutput(dataTable, element);\n",
              "        const docLink = document.createElement('div');\n",
              "        docLink.innerHTML = docLinkHtml;\n",
              "        element.appendChild(docLink);\n",
              "      }\n",
              "    </script>\n",
              "  </div>\n",
              "\n",
              "\n",
              "<div id=\"df-310d7683-8aa6-40b3-ab76-49610a23b462\">\n",
              "  <button class=\"colab-df-quickchart\" onclick=\"quickchart('df-310d7683-8aa6-40b3-ab76-49610a23b462')\"\n",
              "            title=\"Suggest charts\"\n",
              "            style=\"display:none;\">\n",
              "\n",
              "<svg xmlns=\"http://www.w3.org/2000/svg\" height=\"24px\"viewBox=\"0 0 24 24\"\n",
              "     width=\"24px\">\n",
              "    <g>\n",
              "        <path d=\"M19 3H5c-1.1 0-2 .9-2 2v14c0 1.1.9 2 2 2h14c1.1 0 2-.9 2-2V5c0-1.1-.9-2-2-2zM9 17H7v-7h2v7zm4 0h-2V7h2v10zm4 0h-2v-4h2v4z\"/>\n",
              "    </g>\n",
              "</svg>\n",
              "  </button>\n",
              "\n",
              "<style>\n",
              "  .colab-df-quickchart {\n",
              "      --bg-color: #E8F0FE;\n",
              "      --fill-color: #1967D2;\n",
              "      --hover-bg-color: #E2EBFA;\n",
              "      --hover-fill-color: #174EA6;\n",
              "      --disabled-fill-color: #AAA;\n",
              "      --disabled-bg-color: #DDD;\n",
              "  }\n",
              "\n",
              "  [theme=dark] .colab-df-quickchart {\n",
              "      --bg-color: #3B4455;\n",
              "      --fill-color: #D2E3FC;\n",
              "      --hover-bg-color: #434B5C;\n",
              "      --hover-fill-color: #FFFFFF;\n",
              "      --disabled-bg-color: #3B4455;\n",
              "      --disabled-fill-color: #666;\n",
              "  }\n",
              "\n",
              "  .colab-df-quickchart {\n",
              "    background-color: var(--bg-color);\n",
              "    border: none;\n",
              "    border-radius: 50%;\n",
              "    cursor: pointer;\n",
              "    display: none;\n",
              "    fill: var(--fill-color);\n",
              "    height: 32px;\n",
              "    padding: 0;\n",
              "    width: 32px;\n",
              "  }\n",
              "\n",
              "  .colab-df-quickchart:hover {\n",
              "    background-color: var(--hover-bg-color);\n",
              "    box-shadow: 0 1px 2px rgba(60, 64, 67, 0.3), 0 1px 3px 1px rgba(60, 64, 67, 0.15);\n",
              "    fill: var(--button-hover-fill-color);\n",
              "  }\n",
              "\n",
              "  .colab-df-quickchart-complete:disabled,\n",
              "  .colab-df-quickchart-complete:disabled:hover {\n",
              "    background-color: var(--disabled-bg-color);\n",
              "    fill: var(--disabled-fill-color);\n",
              "    box-shadow: none;\n",
              "  }\n",
              "\n",
              "  .colab-df-spinner {\n",
              "    border: 2px solid var(--fill-color);\n",
              "    border-color: transparent;\n",
              "    border-bottom-color: var(--fill-color);\n",
              "    animation:\n",
              "      spin 1s steps(1) infinite;\n",
              "  }\n",
              "\n",
              "  @keyframes spin {\n",
              "    0% {\n",
              "      border-color: transparent;\n",
              "      border-bottom-color: var(--fill-color);\n",
              "      border-left-color: var(--fill-color);\n",
              "    }\n",
              "    20% {\n",
              "      border-color: transparent;\n",
              "      border-left-color: var(--fill-color);\n",
              "      border-top-color: var(--fill-color);\n",
              "    }\n",
              "    30% {\n",
              "      border-color: transparent;\n",
              "      border-left-color: var(--fill-color);\n",
              "      border-top-color: var(--fill-color);\n",
              "      border-right-color: var(--fill-color);\n",
              "    }\n",
              "    40% {\n",
              "      border-color: transparent;\n",
              "      border-right-color: var(--fill-color);\n",
              "      border-top-color: var(--fill-color);\n",
              "    }\n",
              "    60% {\n",
              "      border-color: transparent;\n",
              "      border-right-color: var(--fill-color);\n",
              "    }\n",
              "    80% {\n",
              "      border-color: transparent;\n",
              "      border-right-color: var(--fill-color);\n",
              "      border-bottom-color: var(--fill-color);\n",
              "    }\n",
              "    90% {\n",
              "      border-color: transparent;\n",
              "      border-bottom-color: var(--fill-color);\n",
              "    }\n",
              "  }\n",
              "</style>\n",
              "\n",
              "  <script>\n",
              "    async function quickchart(key) {\n",
              "      const quickchartButtonEl =\n",
              "        document.querySelector('#' + key + ' button');\n",
              "      quickchartButtonEl.disabled = true;  // To prevent multiple clicks.\n",
              "      quickchartButtonEl.classList.add('colab-df-spinner');\n",
              "      try {\n",
              "        const charts = await google.colab.kernel.invokeFunction(\n",
              "            'suggestCharts', [key], {});\n",
              "      } catch (error) {\n",
              "        console.error('Error during call to suggestCharts:', error);\n",
              "      }\n",
              "      quickchartButtonEl.classList.remove('colab-df-spinner');\n",
              "      quickchartButtonEl.classList.add('colab-df-quickchart-complete');\n",
              "    }\n",
              "    (() => {\n",
              "      let quickchartButtonEl =\n",
              "        document.querySelector('#df-310d7683-8aa6-40b3-ab76-49610a23b462 button');\n",
              "      quickchartButtonEl.style.display =\n",
              "        google.colab.kernel.accessAllowed ? 'block' : 'none';\n",
              "    })();\n",
              "  </script>\n",
              "</div>\n",
              "    </div>\n",
              "  </div>\n"
            ]
          },
          "metadata": {},
          "execution_count": 12
        }
      ]
    },
    {
      "cell_type": "markdown",
      "source": [
        "# **LIWC**"
      ],
      "metadata": {
        "id": "GQU96F9y4dva"
      }
    },
    {
      "cell_type": "code",
      "source": [
        "!pip install liwc\n",
        "import liwc"
      ],
      "metadata": {
        "colab": {
          "base_uri": "https://localhost:8080/"
        },
        "id": "aPGxkB0X4f_G",
        "outputId": "a7c41935-19ad-40f5-991e-365dd4f6e960"
      },
      "execution_count": null,
      "outputs": [
        {
          "output_type": "stream",
          "name": "stdout",
          "text": [
            "Collecting liwc\n",
            "  Downloading liwc-0.5.0-py2.py3-none-any.whl (5.1 kB)\n",
            "Installing collected packages: liwc\n",
            "Successfully installed liwc-0.5.0\n"
          ]
        }
      ]
    },
    {
      "cell_type": "code",
      "source": [
        "liwcPath= r'/content/drive/MyDrive/Experimentación Python Tesis /Diccionarios español/Spanish_LIWC2007_Dictionary.dic'\n",
        "parse, category_names = liwc.load_token_parser(liwcPath)\n",
        "print(f'Categorias del diccionario: {category_names}')"
      ],
      "metadata": {
        "colab": {
          "base_uri": "https://localhost:8080/"
        },
        "id": "dfpDeplh444y",
        "outputId": "f6221994-e011-4c67-9d9e-42929761835e"
      },
      "execution_count": null,
      "outputs": [
        {
          "output_type": "stream",
          "name": "stdout",
          "text": [
            "Categorias del diccionario: ['Funct', 'TotPron', 'PronPer', 'Yo', 'Nosotro', 'TuUtd', 'ElElla', 'Ellos', 'PronImp', 'Articulo', 'Verbos', 'VerbAux', 'Pasado', 'Present', 'Futuro', 'Adverb', 'Prepos', 'Conjunc', 'Negacio', 'Cuantif', 'Numeros', 'Maldec', 'verbYO', 'verbTU', 'verbNOS', 'verbosEL', 'verbELLOS', 'Subjuntiv', 'VosUtds', 'formal', 'informal', 'verbVos', 'Social', 'Familia', 'Amigos', 'Humanos', 'Afect', 'EmoPos', 'EmoNeg', 'Ansiedad', 'Enfado', 'Triste', 'MecCog', 'Insight', 'Causa', 'Discrep', 'Tentat', 'Certeza', 'Inhib', 'Incl', 'Excl', 'Percept', 'Ver', 'Oir', 'Sentir', 'Biolog', 'Cuerpo', 'Salud', 'Sexual', 'Ingerir', 'Relativ', 'Movim', 'Espacio', 'Tiempo', 'Trabajo', 'Logro', 'Placer', 'Hogar', 'Dinero', 'Relig', 'Muerte', 'Asentir', 'NoFluen', 'Relleno']\n"
          ]
        }
      ]
    },
    {
      "cell_type": "code",
      "source": [
        "corpus = []\n",
        "words = []\n",
        "\n",
        "for i in range(0,len(data_tweet)):\n",
        "    review = re.sub('[^a-zA-Z0-9]',' ',data_tweet['tweets'][i])\n",
        "    review = review.lower()\n",
        "    review = review.split()\n",
        "\n",
        "    review = list(category for token in review for category in parse(token))\n",
        "    statements = ' '.join(review)\n",
        "    corpus.append(statements)\n",
        "    words.append(review)"
      ],
      "metadata": {
        "id": "ZqqpNuq35C6u"
      },
      "execution_count": null,
      "outputs": []
    },
    {
      "cell_type": "markdown",
      "source": [
        "# **Vectorización a través BOW**"
      ],
      "metadata": {
        "id": "O_HQgZ-9_k-I"
      }
    },
    {
      "cell_type": "code",
      "source": [
        "import numpy as np\n",
        "from sklearn.feature_extraction.text import CountVectorizer\n",
        "\n",
        "# Crear una instancia de CountVectorizer\n",
        "count_vect = CountVectorizer()\n",
        "\n",
        "# Aplicar CountVectorizer al corpus\n",
        "count_train = count_vect.fit_transform(corpus)\n",
        "\n",
        "# Convertir la matriz dispersa a un array de numpy\n",
        "X_array = count_train.toarray()\n",
        "\n",
        "# Imprimir el tamaño del vocabulario construido por CountVectorizer\n",
        "print(\"El tamaño del vocabulario es: \", len(count_vect.vocabulary_))\n",
        "\n",
        "X = X_array  # Array de numpy\n",
        "y = data_tweet['trastorno'].values  # Etiquetas de trastorno de la columna 'trastorno'\n",
        "\n",
        "features = count_vect.get_feature_names_out()\n",
        "\n",
        "# Crear un DataFrame con la matriz de conteo\n",
        "df_count = pd.DataFrame(X, columns=features)\n",
        "df_count"
      ],
      "metadata": {
        "colab": {
          "base_uri": "https://localhost:8080/",
          "height": 442
        },
        "id": "54tXL0Uy_pZG",
        "outputId": "eeea815c-30f0-497c-ab8f-cfba1b4f89f4"
      },
      "execution_count": null,
      "outputs": [
        {
          "output_type": "stream",
          "name": "stdout",
          "text": [
            "El tamaño del vocabulario es:  73\n"
          ]
        },
        {
          "output_type": "execute_result",
          "data": {
            "text/plain": [
              "        adverb  afect  amigos  ansiedad  articulo  asentir  biolog  causa  \\\n",
              "0            1      1       0         0         1        0       0      0   \n",
              "1            0      0       0         0         0        0       1      1   \n",
              "2            0      0       0         0         0        0       0      0   \n",
              "3            1      1       0         0         0        0       0      0   \n",
              "4            1      1       0         0         0        0       0      0   \n",
              "...        ...    ...     ...       ...       ...      ...     ...    ...   \n",
              "197243       0      1       0         0         0        0       0      0   \n",
              "197244       0      0       0         0         0        0       0      0   \n",
              "197245       0      1       0         0         0        0       0      0   \n",
              "197246       0      1       0         0         0        0       0      0   \n",
              "197247       0      0       0         0         0        0       0      0   \n",
              "\n",
              "        certeza  conjunc  ...  verbaux  verbellos  verbnos  verbos  verbosel  \\\n",
              "0             0        0  ...        0          0        0       0         0   \n",
              "1             0        1  ...        0          0        0       0         0   \n",
              "2             0        1  ...        0          0        0       0         0   \n",
              "3             0        1  ...        0          0        0       3         0   \n",
              "4             0        1  ...        1          0        0       4         0   \n",
              "...         ...      ...  ...      ...        ...      ...     ...       ...   \n",
              "197243        0        0  ...        0          0        0       1         1   \n",
              "197244        0        0  ...        0          0        0       0         0   \n",
              "197245        0        0  ...        0          0        0       1         0   \n",
              "197246        0        0  ...        0          0        0       0         0   \n",
              "197247        1        0  ...        0          0        0       0         0   \n",
              "\n",
              "        verbtu  verbvos  verbyo  vosutds  yo  \n",
              "0            0        0       0        0   0  \n",
              "1            0        0       0        0   0  \n",
              "2            0        0       0        0   0  \n",
              "3            0        0       0        0   0  \n",
              "4            0        0       2        0   0  \n",
              "...        ...      ...     ...      ...  ..  \n",
              "197243       0        0       0        0   0  \n",
              "197244       0        0       0        0   0  \n",
              "197245       0        0       0        0   0  \n",
              "197246       0        0       0        0   0  \n",
              "197247       0        0       0        0   0  \n",
              "\n",
              "[197248 rows x 73 columns]"
            ],
            "text/html": [
              "\n",
              "  <div id=\"df-f53c8a5d-8e97-4012-b121-ff0b252cc3bc\" class=\"colab-df-container\">\n",
              "    <div>\n",
              "<style scoped>\n",
              "    .dataframe tbody tr th:only-of-type {\n",
              "        vertical-align: middle;\n",
              "    }\n",
              "\n",
              "    .dataframe tbody tr th {\n",
              "        vertical-align: top;\n",
              "    }\n",
              "\n",
              "    .dataframe thead th {\n",
              "        text-align: right;\n",
              "    }\n",
              "</style>\n",
              "<table border=\"1\" class=\"dataframe\">\n",
              "  <thead>\n",
              "    <tr style=\"text-align: right;\">\n",
              "      <th></th>\n",
              "      <th>adverb</th>\n",
              "      <th>afect</th>\n",
              "      <th>amigos</th>\n",
              "      <th>ansiedad</th>\n",
              "      <th>articulo</th>\n",
              "      <th>asentir</th>\n",
              "      <th>biolog</th>\n",
              "      <th>causa</th>\n",
              "      <th>certeza</th>\n",
              "      <th>conjunc</th>\n",
              "      <th>...</th>\n",
              "      <th>verbaux</th>\n",
              "      <th>verbellos</th>\n",
              "      <th>verbnos</th>\n",
              "      <th>verbos</th>\n",
              "      <th>verbosel</th>\n",
              "      <th>verbtu</th>\n",
              "      <th>verbvos</th>\n",
              "      <th>verbyo</th>\n",
              "      <th>vosutds</th>\n",
              "      <th>yo</th>\n",
              "    </tr>\n",
              "  </thead>\n",
              "  <tbody>\n",
              "    <tr>\n",
              "      <th>0</th>\n",
              "      <td>1</td>\n",
              "      <td>1</td>\n",
              "      <td>0</td>\n",
              "      <td>0</td>\n",
              "      <td>1</td>\n",
              "      <td>0</td>\n",
              "      <td>0</td>\n",
              "      <td>0</td>\n",
              "      <td>0</td>\n",
              "      <td>0</td>\n",
              "      <td>...</td>\n",
              "      <td>0</td>\n",
              "      <td>0</td>\n",
              "      <td>0</td>\n",
              "      <td>0</td>\n",
              "      <td>0</td>\n",
              "      <td>0</td>\n",
              "      <td>0</td>\n",
              "      <td>0</td>\n",
              "      <td>0</td>\n",
              "      <td>0</td>\n",
              "    </tr>\n",
              "    <tr>\n",
              "      <th>1</th>\n",
              "      <td>0</td>\n",
              "      <td>0</td>\n",
              "      <td>0</td>\n",
              "      <td>0</td>\n",
              "      <td>0</td>\n",
              "      <td>0</td>\n",
              "      <td>1</td>\n",
              "      <td>1</td>\n",
              "      <td>0</td>\n",
              "      <td>1</td>\n",
              "      <td>...</td>\n",
              "      <td>0</td>\n",
              "      <td>0</td>\n",
              "      <td>0</td>\n",
              "      <td>0</td>\n",
              "      <td>0</td>\n",
              "      <td>0</td>\n",
              "      <td>0</td>\n",
              "      <td>0</td>\n",
              "      <td>0</td>\n",
              "      <td>0</td>\n",
              "    </tr>\n",
              "    <tr>\n",
              "      <th>2</th>\n",
              "      <td>0</td>\n",
              "      <td>0</td>\n",
              "      <td>0</td>\n",
              "      <td>0</td>\n",
              "      <td>0</td>\n",
              "      <td>0</td>\n",
              "      <td>0</td>\n",
              "      <td>0</td>\n",
              "      <td>0</td>\n",
              "      <td>1</td>\n",
              "      <td>...</td>\n",
              "      <td>0</td>\n",
              "      <td>0</td>\n",
              "      <td>0</td>\n",
              "      <td>0</td>\n",
              "      <td>0</td>\n",
              "      <td>0</td>\n",
              "      <td>0</td>\n",
              "      <td>0</td>\n",
              "      <td>0</td>\n",
              "      <td>0</td>\n",
              "    </tr>\n",
              "    <tr>\n",
              "      <th>3</th>\n",
              "      <td>1</td>\n",
              "      <td>1</td>\n",
              "      <td>0</td>\n",
              "      <td>0</td>\n",
              "      <td>0</td>\n",
              "      <td>0</td>\n",
              "      <td>0</td>\n",
              "      <td>0</td>\n",
              "      <td>0</td>\n",
              "      <td>1</td>\n",
              "      <td>...</td>\n",
              "      <td>0</td>\n",
              "      <td>0</td>\n",
              "      <td>0</td>\n",
              "      <td>3</td>\n",
              "      <td>0</td>\n",
              "      <td>0</td>\n",
              "      <td>0</td>\n",
              "      <td>0</td>\n",
              "      <td>0</td>\n",
              "      <td>0</td>\n",
              "    </tr>\n",
              "    <tr>\n",
              "      <th>4</th>\n",
              "      <td>1</td>\n",
              "      <td>1</td>\n",
              "      <td>0</td>\n",
              "      <td>0</td>\n",
              "      <td>0</td>\n",
              "      <td>0</td>\n",
              "      <td>0</td>\n",
              "      <td>0</td>\n",
              "      <td>0</td>\n",
              "      <td>1</td>\n",
              "      <td>...</td>\n",
              "      <td>1</td>\n",
              "      <td>0</td>\n",
              "      <td>0</td>\n",
              "      <td>4</td>\n",
              "      <td>0</td>\n",
              "      <td>0</td>\n",
              "      <td>0</td>\n",
              "      <td>2</td>\n",
              "      <td>0</td>\n",
              "      <td>0</td>\n",
              "    </tr>\n",
              "    <tr>\n",
              "      <th>...</th>\n",
              "      <td>...</td>\n",
              "      <td>...</td>\n",
              "      <td>...</td>\n",
              "      <td>...</td>\n",
              "      <td>...</td>\n",
              "      <td>...</td>\n",
              "      <td>...</td>\n",
              "      <td>...</td>\n",
              "      <td>...</td>\n",
              "      <td>...</td>\n",
              "      <td>...</td>\n",
              "      <td>...</td>\n",
              "      <td>...</td>\n",
              "      <td>...</td>\n",
              "      <td>...</td>\n",
              "      <td>...</td>\n",
              "      <td>...</td>\n",
              "      <td>...</td>\n",
              "      <td>...</td>\n",
              "      <td>...</td>\n",
              "      <td>...</td>\n",
              "    </tr>\n",
              "    <tr>\n",
              "      <th>197243</th>\n",
              "      <td>0</td>\n",
              "      <td>1</td>\n",
              "      <td>0</td>\n",
              "      <td>0</td>\n",
              "      <td>0</td>\n",
              "      <td>0</td>\n",
              "      <td>0</td>\n",
              "      <td>0</td>\n",
              "      <td>0</td>\n",
              "      <td>0</td>\n",
              "      <td>...</td>\n",
              "      <td>0</td>\n",
              "      <td>0</td>\n",
              "      <td>0</td>\n",
              "      <td>1</td>\n",
              "      <td>1</td>\n",
              "      <td>0</td>\n",
              "      <td>0</td>\n",
              "      <td>0</td>\n",
              "      <td>0</td>\n",
              "      <td>0</td>\n",
              "    </tr>\n",
              "    <tr>\n",
              "      <th>197244</th>\n",
              "      <td>0</td>\n",
              "      <td>0</td>\n",
              "      <td>0</td>\n",
              "      <td>0</td>\n",
              "      <td>0</td>\n",
              "      <td>0</td>\n",
              "      <td>0</td>\n",
              "      <td>0</td>\n",
              "      <td>0</td>\n",
              "      <td>0</td>\n",
              "      <td>...</td>\n",
              "      <td>0</td>\n",
              "      <td>0</td>\n",
              "      <td>0</td>\n",
              "      <td>0</td>\n",
              "      <td>0</td>\n",
              "      <td>0</td>\n",
              "      <td>0</td>\n",
              "      <td>0</td>\n",
              "      <td>0</td>\n",
              "      <td>0</td>\n",
              "    </tr>\n",
              "    <tr>\n",
              "      <th>197245</th>\n",
              "      <td>0</td>\n",
              "      <td>1</td>\n",
              "      <td>0</td>\n",
              "      <td>0</td>\n",
              "      <td>0</td>\n",
              "      <td>0</td>\n",
              "      <td>0</td>\n",
              "      <td>0</td>\n",
              "      <td>0</td>\n",
              "      <td>0</td>\n",
              "      <td>...</td>\n",
              "      <td>0</td>\n",
              "      <td>0</td>\n",
              "      <td>0</td>\n",
              "      <td>1</td>\n",
              "      <td>0</td>\n",
              "      <td>0</td>\n",
              "      <td>0</td>\n",
              "      <td>0</td>\n",
              "      <td>0</td>\n",
              "      <td>0</td>\n",
              "    </tr>\n",
              "    <tr>\n",
              "      <th>197246</th>\n",
              "      <td>0</td>\n",
              "      <td>1</td>\n",
              "      <td>0</td>\n",
              "      <td>0</td>\n",
              "      <td>0</td>\n",
              "      <td>0</td>\n",
              "      <td>0</td>\n",
              "      <td>0</td>\n",
              "      <td>0</td>\n",
              "      <td>0</td>\n",
              "      <td>...</td>\n",
              "      <td>0</td>\n",
              "      <td>0</td>\n",
              "      <td>0</td>\n",
              "      <td>0</td>\n",
              "      <td>0</td>\n",
              "      <td>0</td>\n",
              "      <td>0</td>\n",
              "      <td>0</td>\n",
              "      <td>0</td>\n",
              "      <td>0</td>\n",
              "    </tr>\n",
              "    <tr>\n",
              "      <th>197247</th>\n",
              "      <td>0</td>\n",
              "      <td>0</td>\n",
              "      <td>0</td>\n",
              "      <td>0</td>\n",
              "      <td>0</td>\n",
              "      <td>0</td>\n",
              "      <td>0</td>\n",
              "      <td>0</td>\n",
              "      <td>1</td>\n",
              "      <td>0</td>\n",
              "      <td>...</td>\n",
              "      <td>0</td>\n",
              "      <td>0</td>\n",
              "      <td>0</td>\n",
              "      <td>0</td>\n",
              "      <td>0</td>\n",
              "      <td>0</td>\n",
              "      <td>0</td>\n",
              "      <td>0</td>\n",
              "      <td>0</td>\n",
              "      <td>0</td>\n",
              "    </tr>\n",
              "  </tbody>\n",
              "</table>\n",
              "<p>197248 rows × 73 columns</p>\n",
              "</div>\n",
              "    <div class=\"colab-df-buttons\">\n",
              "\n",
              "  <div class=\"colab-df-container\">\n",
              "    <button class=\"colab-df-convert\" onclick=\"convertToInteractive('df-f53c8a5d-8e97-4012-b121-ff0b252cc3bc')\"\n",
              "            title=\"Convert this dataframe to an interactive table.\"\n",
              "            style=\"display:none;\">\n",
              "\n",
              "  <svg xmlns=\"http://www.w3.org/2000/svg\" height=\"24px\" viewBox=\"0 -960 960 960\">\n",
              "    <path d=\"M120-120v-720h720v720H120Zm60-500h600v-160H180v160Zm220 220h160v-160H400v160Zm0 220h160v-160H400v160ZM180-400h160v-160H180v160Zm440 0h160v-160H620v160ZM180-180h160v-160H180v160Zm440 0h160v-160H620v160Z\"/>\n",
              "  </svg>\n",
              "    </button>\n",
              "\n",
              "  <style>\n",
              "    .colab-df-container {\n",
              "      display:flex;\n",
              "      gap: 12px;\n",
              "    }\n",
              "\n",
              "    .colab-df-convert {\n",
              "      background-color: #E8F0FE;\n",
              "      border: none;\n",
              "      border-radius: 50%;\n",
              "      cursor: pointer;\n",
              "      display: none;\n",
              "      fill: #1967D2;\n",
              "      height: 32px;\n",
              "      padding: 0 0 0 0;\n",
              "      width: 32px;\n",
              "    }\n",
              "\n",
              "    .colab-df-convert:hover {\n",
              "      background-color: #E2EBFA;\n",
              "      box-shadow: 0px 1px 2px rgba(60, 64, 67, 0.3), 0px 1px 3px 1px rgba(60, 64, 67, 0.15);\n",
              "      fill: #174EA6;\n",
              "    }\n",
              "\n",
              "    .colab-df-buttons div {\n",
              "      margin-bottom: 4px;\n",
              "    }\n",
              "\n",
              "    [theme=dark] .colab-df-convert {\n",
              "      background-color: #3B4455;\n",
              "      fill: #D2E3FC;\n",
              "    }\n",
              "\n",
              "    [theme=dark] .colab-df-convert:hover {\n",
              "      background-color: #434B5C;\n",
              "      box-shadow: 0px 1px 3px 1px rgba(0, 0, 0, 0.15);\n",
              "      filter: drop-shadow(0px 1px 2px rgba(0, 0, 0, 0.3));\n",
              "      fill: #FFFFFF;\n",
              "    }\n",
              "  </style>\n",
              "\n",
              "    <script>\n",
              "      const buttonEl =\n",
              "        document.querySelector('#df-f53c8a5d-8e97-4012-b121-ff0b252cc3bc button.colab-df-convert');\n",
              "      buttonEl.style.display =\n",
              "        google.colab.kernel.accessAllowed ? 'block' : 'none';\n",
              "\n",
              "      async function convertToInteractive(key) {\n",
              "        const element = document.querySelector('#df-f53c8a5d-8e97-4012-b121-ff0b252cc3bc');\n",
              "        const dataTable =\n",
              "          await google.colab.kernel.invokeFunction('convertToInteractive',\n",
              "                                                    [key], {});\n",
              "        if (!dataTable) return;\n",
              "\n",
              "        const docLinkHtml = 'Like what you see? Visit the ' +\n",
              "          '<a target=\"_blank\" href=https://colab.research.google.com/notebooks/data_table.ipynb>data table notebook</a>'\n",
              "          + ' to learn more about interactive tables.';\n",
              "        element.innerHTML = '';\n",
              "        dataTable['output_type'] = 'display_data';\n",
              "        await google.colab.output.renderOutput(dataTable, element);\n",
              "        const docLink = document.createElement('div');\n",
              "        docLink.innerHTML = docLinkHtml;\n",
              "        element.appendChild(docLink);\n",
              "      }\n",
              "    </script>\n",
              "  </div>\n",
              "\n",
              "\n",
              "<div id=\"df-b267e3ce-c6c7-49f4-8ee7-8e32099fe32d\">\n",
              "  <button class=\"colab-df-quickchart\" onclick=\"quickchart('df-b267e3ce-c6c7-49f4-8ee7-8e32099fe32d')\"\n",
              "            title=\"Suggest charts\"\n",
              "            style=\"display:none;\">\n",
              "\n",
              "<svg xmlns=\"http://www.w3.org/2000/svg\" height=\"24px\"viewBox=\"0 0 24 24\"\n",
              "     width=\"24px\">\n",
              "    <g>\n",
              "        <path d=\"M19 3H5c-1.1 0-2 .9-2 2v14c0 1.1.9 2 2 2h14c1.1 0 2-.9 2-2V5c0-1.1-.9-2-2-2zM9 17H7v-7h2v7zm4 0h-2V7h2v10zm4 0h-2v-4h2v4z\"/>\n",
              "    </g>\n",
              "</svg>\n",
              "  </button>\n",
              "\n",
              "<style>\n",
              "  .colab-df-quickchart {\n",
              "      --bg-color: #E8F0FE;\n",
              "      --fill-color: #1967D2;\n",
              "      --hover-bg-color: #E2EBFA;\n",
              "      --hover-fill-color: #174EA6;\n",
              "      --disabled-fill-color: #AAA;\n",
              "      --disabled-bg-color: #DDD;\n",
              "  }\n",
              "\n",
              "  [theme=dark] .colab-df-quickchart {\n",
              "      --bg-color: #3B4455;\n",
              "      --fill-color: #D2E3FC;\n",
              "      --hover-bg-color: #434B5C;\n",
              "      --hover-fill-color: #FFFFFF;\n",
              "      --disabled-bg-color: #3B4455;\n",
              "      --disabled-fill-color: #666;\n",
              "  }\n",
              "\n",
              "  .colab-df-quickchart {\n",
              "    background-color: var(--bg-color);\n",
              "    border: none;\n",
              "    border-radius: 50%;\n",
              "    cursor: pointer;\n",
              "    display: none;\n",
              "    fill: var(--fill-color);\n",
              "    height: 32px;\n",
              "    padding: 0;\n",
              "    width: 32px;\n",
              "  }\n",
              "\n",
              "  .colab-df-quickchart:hover {\n",
              "    background-color: var(--hover-bg-color);\n",
              "    box-shadow: 0 1px 2px rgba(60, 64, 67, 0.3), 0 1px 3px 1px rgba(60, 64, 67, 0.15);\n",
              "    fill: var(--button-hover-fill-color);\n",
              "  }\n",
              "\n",
              "  .colab-df-quickchart-complete:disabled,\n",
              "  .colab-df-quickchart-complete:disabled:hover {\n",
              "    background-color: var(--disabled-bg-color);\n",
              "    fill: var(--disabled-fill-color);\n",
              "    box-shadow: none;\n",
              "  }\n",
              "\n",
              "  .colab-df-spinner {\n",
              "    border: 2px solid var(--fill-color);\n",
              "    border-color: transparent;\n",
              "    border-bottom-color: var(--fill-color);\n",
              "    animation:\n",
              "      spin 1s steps(1) infinite;\n",
              "  }\n",
              "\n",
              "  @keyframes spin {\n",
              "    0% {\n",
              "      border-color: transparent;\n",
              "      border-bottom-color: var(--fill-color);\n",
              "      border-left-color: var(--fill-color);\n",
              "    }\n",
              "    20% {\n",
              "      border-color: transparent;\n",
              "      border-left-color: var(--fill-color);\n",
              "      border-top-color: var(--fill-color);\n",
              "    }\n",
              "    30% {\n",
              "      border-color: transparent;\n",
              "      border-left-color: var(--fill-color);\n",
              "      border-top-color: var(--fill-color);\n",
              "      border-right-color: var(--fill-color);\n",
              "    }\n",
              "    40% {\n",
              "      border-color: transparent;\n",
              "      border-right-color: var(--fill-color);\n",
              "      border-top-color: var(--fill-color);\n",
              "    }\n",
              "    60% {\n",
              "      border-color: transparent;\n",
              "      border-right-color: var(--fill-color);\n",
              "    }\n",
              "    80% {\n",
              "      border-color: transparent;\n",
              "      border-right-color: var(--fill-color);\n",
              "      border-bottom-color: var(--fill-color);\n",
              "    }\n",
              "    90% {\n",
              "      border-color: transparent;\n",
              "      border-bottom-color: var(--fill-color);\n",
              "    }\n",
              "  }\n",
              "</style>\n",
              "\n",
              "  <script>\n",
              "    async function quickchart(key) {\n",
              "      const quickchartButtonEl =\n",
              "        document.querySelector('#' + key + ' button');\n",
              "      quickchartButtonEl.disabled = true;  // To prevent multiple clicks.\n",
              "      quickchartButtonEl.classList.add('colab-df-spinner');\n",
              "      try {\n",
              "        const charts = await google.colab.kernel.invokeFunction(\n",
              "            'suggestCharts', [key], {});\n",
              "      } catch (error) {\n",
              "        console.error('Error during call to suggestCharts:', error);\n",
              "      }\n",
              "      quickchartButtonEl.classList.remove('colab-df-spinner');\n",
              "      quickchartButtonEl.classList.add('colab-df-quickchart-complete');\n",
              "    }\n",
              "    (() => {\n",
              "      let quickchartButtonEl =\n",
              "        document.querySelector('#df-b267e3ce-c6c7-49f4-8ee7-8e32099fe32d button');\n",
              "      quickchartButtonEl.style.display =\n",
              "        google.colab.kernel.accessAllowed ? 'block' : 'none';\n",
              "    })();\n",
              "  </script>\n",
              "</div>\n",
              "    </div>\n",
              "  </div>\n"
            ]
          },
          "metadata": {},
          "execution_count": 16
        }
      ]
    },
    {
      "cell_type": "code",
      "source": [
        "X\n"
      ],
      "metadata": {
        "colab": {
          "base_uri": "https://localhost:8080/"
        },
        "id": "CW5qqGwdBsGb",
        "outputId": "99b9bbfe-a569-4c9f-8efc-e5df6ea1e93e"
      },
      "execution_count": null,
      "outputs": [
        {
          "output_type": "execute_result",
          "data": {
            "text/plain": [
              "array([[1, 1, 0, ..., 0, 0, 0],\n",
              "       [0, 0, 0, ..., 0, 0, 0],\n",
              "       [0, 0, 0, ..., 0, 0, 0],\n",
              "       ...,\n",
              "       [0, 1, 0, ..., 0, 0, 0],\n",
              "       [0, 1, 0, ..., 0, 0, 0],\n",
              "       [0, 0, 0, ..., 0, 0, 0]])"
            ]
          },
          "metadata": {},
          "execution_count": 17
        }
      ]
    },
    {
      "cell_type": "markdown",
      "source": [
        "# **Dividir los datos de entrenamiento y prueba**"
      ],
      "metadata": {
        "id": "BXM_P5yq_6g8"
      }
    },
    {
      "cell_type": "code",
      "source": [
        "\n",
        "# Dividir datos en conjuntos de entrenamiento y prueba\n",
        "X_train, X_val, y_train, y_val = train_test_split(X, y, test_size=0.3, random_state=42)\n",
        "\n",
        "# Verificar las dimensiones después de la división\n",
        "print(\"Dimensiones de X_train:\", X_train.shape)\n",
        "print(\"Dimensiones de y_train:\", y_train.shape)\n",
        "print(\"Dimensiones de X_val:\", X_val.shape)\n",
        "print(\"Dimensiones de y_val:\", y_val.shape)\n"
      ],
      "metadata": {
        "colab": {
          "base_uri": "https://localhost:8080/"
        },
        "id": "EHDkTTX9G0zV",
        "outputId": "7435eab4-12a2-4822-cbe6-2567918f812b"
      },
      "execution_count": null,
      "outputs": [
        {
          "output_type": "stream",
          "name": "stdout",
          "text": [
            "Dimensiones de X_train: (138073, 73)\n",
            "Dimensiones de y_train: (138073,)\n",
            "Dimensiones de X_val: (59175, 73)\n",
            "Dimensiones de y_val: (59175,)\n"
          ]
        }
      ]
    },
    {
      "cell_type": "code",
      "source": [
        "X_train"
      ],
      "metadata": {
        "colab": {
          "base_uri": "https://localhost:8080/"
        },
        "id": "9z5o_nhYBm3V",
        "outputId": "d1b4c363-ef25-436f-e997-d57b8a206e3a"
      },
      "execution_count": null,
      "outputs": [
        {
          "output_type": "execute_result",
          "data": {
            "text/plain": [
              "array([[2, 2, 0, ..., 1, 0, 0],\n",
              "       [0, 1, 0, ..., 0, 0, 0],\n",
              "       [4, 0, 0, ..., 0, 0, 0],\n",
              "       ...,\n",
              "       [0, 1, 0, ..., 0, 0, 0],\n",
              "       [0, 0, 0, ..., 0, 0, 0],\n",
              "       [0, 1, 0, ..., 0, 0, 0]])"
            ]
          },
          "metadata": {},
          "execution_count": 19
        }
      ]
    },
    {
      "cell_type": "markdown",
      "source": [
        "#Redución de dimensionalidad con LDA"
      ],
      "metadata": {
        "id": "eGsKoqVhzZyn"
      }
    },
    {
      "cell_type": "code",
      "source": [
        "from sklearn.decomposition import LatentDirichletAllocation as LDA\n",
        "# Aplicar LDA para reducir la dimensionalidad\n",
        "n_topics = 10  # Define el número de tópicos (componentes)\n",
        "lda = LDA(n_components=n_topics)\n",
        "X_train = lda.fit_transform(X_train, y_train)\n",
        "X_val = lda.transform(X_val)"
      ],
      "metadata": {
        "id": "NXK8Vs6Ez8Qx"
      },
      "execution_count": null,
      "outputs": []
    },
    {
      "cell_type": "code",
      "source": [
        "print(X_train.shape)\n",
        "print(X_val.shape)\n",
        "print(y_train.shape)\n",
        "print(y_val.shape)"
      ],
      "metadata": {
        "colab": {
          "base_uri": "https://localhost:8080/"
        },
        "id": "XPqrFRMw97fT",
        "outputId": "479b90b4-2eb6-40b1-911c-cda7ade9bc04"
      },
      "execution_count": null,
      "outputs": [
        {
          "output_type": "stream",
          "name": "stdout",
          "text": [
            "(138073, 10)\n",
            "(59175, 10)\n",
            "(138073,)\n",
            "(59175,)\n"
          ]
        }
      ]
    },
    {
      "cell_type": "markdown",
      "source": [
        "**Modelo análisis de texto**"
      ],
      "metadata": {
        "id": "42176aZnCQAz"
      }
    },
    {
      "cell_type": "markdown",
      "source": [
        "#Red neuronal"
      ],
      "metadata": {
        "id": "biZew38mWzN_"
      }
    },
    {
      "cell_type": "code",
      "source": [
        "from keras.utils import to_categorical\n",
        "from tensorflow.keras.optimizers import Adam\n",
        "from tensorflow.keras.losses import CategoricalCrossentropy\n",
        "from tensorflow.keras.metrics import CategoricalAccuracy\n",
        "# Crear una red neuronal secuencial\n",
        "model = Sequential()\n",
        "\n",
        "# Convertir las etiquetas en codificación one-hot\n",
        "num_classes = 3  # Número de clases\n",
        "y_train_one_hot = to_categorical(y_train, num_classes)\n",
        "y_val_one_hot = to_categorical(y_val, num_classes)\n",
        "\n",
        "\n",
        "# Agregar una capa de entrada con el número de características (vocabulario) en tu matriz TF-IDF\n",
        "model.add(Dense(928, activation='relu', input_dim=X_train.shape[1]))\n",
        "model.add(Dropout(0.5))  # Dropout para regularización\n",
        "\n",
        "# Agregar una capa oculta\n",
        "model.add(Dense(164, activation='relu'))\n",
        "model.add(Dropout(0.5))  # Dropout para regularización\n",
        "\n",
        "\n",
        "# Agregar una capa oculta\n",
        "model.add(Dense(164, activation='relu'))\n",
        "model.add(Dropout(0.5))  # Dropout para regularización\n",
        "\n",
        "# Agregar una capa de salida con el número de clases en tu clasificación multiclase\n",
        "model.add(Dense(num_classes, activation='softmax'))\n",
        "\n",
        "# Compilar el modelo\n",
        "model.compile(optimizer=Adam(learning_rate=0.001), loss=CategoricalCrossentropy(), metrics=[CategoricalAccuracy()])\n",
        "\n",
        "# Entrenar el modelo en los datos de entrenamiento\n",
        "history = model.fit(X_train, y_train_one_hot, epochs=30, batch_size=200, validation_data=(X_val, y_val_one_hot))\n",
        "\n",
        "y_val_pred = model.predict(X_val)\n",
        "\n",
        "y_val_pred_class = y_val_pred.argmax(axis=1)  # Obtener la clase con la mayor probabilidad\n",
        "y_val_true_class = y_val_one_hot.argmax(axis=1)  # Usar y_val_one_hot en lugar de y_val si está codificado en one-hot\n",
        "\n",
        "accuracy = accuracy_score(y_val_true_class, y_val_pred_class)\n",
        "precision = precision_score(y_val_true_class, y_val_pred_class, average='macro')\n",
        "recall = recall_score(y_val_true_class, y_val_pred_class, average='macro')\n",
        "f1 = f1_score(y_val_true_class, y_val_pred_class, average='macro')\n",
        "\n",
        "y_train_pred = model.predict(X_train)\n",
        "\n",
        "# Calcular métricas de evaluación en el conjunto de entrenamiento\n",
        "y_train_pred_class = y_train_pred.argmax(axis=1)  # Obtener la clase con la mayor probabilidad\n",
        "y_train_true_class = y_train_one_hot.argmax(axis=1)  # Usar y_train_one_hot en lugar de y_train si está codificado en one-hot\n",
        "\n",
        "accuracy_train = accuracy_score(y_train_true_class, y_train_pred_class)\n",
        "precision_train = precision_score(y_train_true_class, y_train_pred_class, average='macro')\n",
        "recall_train = recall_score(y_train_true_class, y_train_pred_class, average='macro')\n",
        "f1_train = f1_score(y_train_true_class, y_train_pred_class, average='macro')"
      ],
      "metadata": {
        "id": "A76ubucGY005"
      },
      "execution_count": null,
      "outputs": []
    },
    {
      "cell_type": "code",
      "source": [
        "# Imprimir métricas de entrenamiento\n",
        "print(\"\\nMétricas en el conjunto de entrenamiento:\")\n",
        "print(f\"Exactitud (entrenamiento): {round(accuracy_train, 2) * 100}%\")\n",
        "print(f\"Precisión (entrenamiento): {round(precision_train, 2) * 100}%\")\n",
        "print(f\"Recall (entrenamiento): {round(recall_train, 2) * 100}%\")\n",
        "print(f\"F1-score (entrenamiento): {round(f1_train, 2) * 100}%\")\n",
        "print('-------------------------------------------------------------------------')\n",
        "# Imprimir métricas de evaluación\n",
        "print(f\"Exactitud en el conjunto de validación: {round(accuracy, 2) * 100}%\")\n",
        "print(f\"Precisión en el conjunto de validación: {round(precision, 2) * 100}%\")\n",
        "print(f\"Recall en el conjunto de validación: {round(recall, 2) * 100}%\")\n",
        "print(f\"F1-score en el conjunto de validación: {round(f1, 2) * 100}%\")"
      ],
      "metadata": {
        "colab": {
          "base_uri": "https://localhost:8080/"
        },
        "id": "hXVDgU6vY6IL",
        "outputId": "9ea81c35-ec5f-4220-a5de-88ebb605ecb4"
      },
      "execution_count": null,
      "outputs": [
        {
          "output_type": "stream",
          "name": "stdout",
          "text": [
            "\n",
            "Métricas en el conjunto de entrenamiento:\n",
            "Exactitud (entrenamiento): 37.0%\n",
            "Precisión (entrenamiento): 37.0%\n",
            "Recall (entrenamiento): 37.0%\n",
            "F1-score (entrenamiento): 36.0%\n",
            "-------------------------------------------------------------------------\n",
            "Exactitud en el conjunto de validación: 37.0%\n",
            "Precisión en el conjunto de validación: 37.0%\n",
            "Recall en el conjunto de validación: 36.0%\n",
            "F1-score en el conjunto de validación: 35.0%\n"
          ]
        }
      ]
    },
    {
      "cell_type": "markdown",
      "source": [
        "# **Matriz de confusión**"
      ],
      "metadata": {
        "id": "zrnag9LChBJk"
      }
    },
    {
      "cell_type": "code",
      "source": [
        "from sklearn.metrics import confusion_matrix\n",
        "\n",
        "cm = confusion_matrix(y_train_true_class, y_train_pred_class)\n",
        "\n",
        "# Imprimir la matriz de confusión\n",
        "print(\"Matriz de Confusión:\")\n",
        "print(cm)"
      ],
      "metadata": {
        "colab": {
          "base_uri": "https://localhost:8080/"
        },
        "id": "7jAmF9ruhK_z",
        "outputId": "2bee6666-4afa-47e6-ecdd-8de884be13c0"
      },
      "execution_count": null,
      "outputs": [
        {
          "output_type": "stream",
          "name": "stdout",
          "text": [
            "Matriz de Confusión:\n",
            "[[25943 11007  9684]\n",
            " [21564 14896  9383]\n",
            " [24674 10452 10470]]\n"
          ]
        }
      ]
    },
    {
      "cell_type": "code",
      "source": [
        "import seaborn as sns\n",
        "import matplotlib.pyplot as plt\n",
        "\n",
        "# Definir etiquetas de las clases\n",
        "classes = ['Control', 'Depresión', 'Ansiedad']\n",
        "\n",
        "# Crear un mapa de calor de la matriz de confusión\n",
        "plt.figure(figsize=(8, 6))\n",
        "sns.heatmap(cm, annot=True, fmt='d', cmap='Blues', xticklabels=classes, yticklabels=classes)\n",
        "\n",
        "# Agregar etiquetas y título\n",
        "plt.xlabel('Clases Predichas')\n",
        "plt.ylabel('Clases Reales')\n",
        "plt.title('Matriz de Confusión')\n",
        "\n",
        "plt.show()"
      ],
      "metadata": {
        "colab": {
          "base_uri": "https://localhost:8080/",
          "height": 565
        },
        "id": "JkILkBO4hc1r",
        "outputId": "ef277e5f-b824-4fc6-976c-b4aa5c57f1d7"
      },
      "execution_count": null,
      "outputs": [
        {
          "output_type": "display_data",
          "data": {
            "text/plain": [
              "<Figure size 800x600 with 2 Axes>"
            ],
            "image/png": "[encoded data removed]"
          },
          "metadata": {}
        }
      ]
    },
    {
      "cell_type": "markdown",
      "source": [
        "#Modelo Bosque Aleatorio"
      ],
      "metadata": {
        "id": "Jr7wkaLH8D9Y"
      }
    },
    {
      "cell_type": "code",
      "source": [
        "from sklearn.ensemble import RandomForestClassifier\n",
        "from sklearn.metrics import accuracy_score, precision_score, recall_score, f1_score\n",
        "\n",
        "# Importa las librerías necesarias y divide los datos en conjuntos de entrenamiento y validación\n",
        "from sklearn.model_selection import train_test_split\n",
        "\n",
        "# X_train, X_val, y_train, y_val\n",
        "\n",
        "# Crea un modelo de Random Forest\n",
        "random_forest_model = RandomForestClassifier(n_estimators=300,  # Numero de alboles\n",
        "                                             max_depth=100, # profunidad máxima\n",
        "                                             random_state=42)  # selección de la semilla de manera aleatoria\n",
        "\n",
        "\n",
        "# Entrena el modelo en los datos de entrenamiento\n",
        "random_forest_model.fit(X_train, y_train)\n",
        "\n",
        "# Realiza predicciones en los datos de validación\n",
        "y_val_pred = random_forest_model.predict(X_val)\n",
        "\n",
        "# Calcula la precisión (accuracy) del modelo en los datos de validación\n",
        "accuracy = accuracy_score(y_val, y_val_pred)\n",
        "print(\"Accuracy (validación): {:.2f}\".format(accuracy))\n",
        "\n",
        "# Calcula la precisión del modelo en los datos de validación\n",
        "precision = precision_score(y_val, y_val_pred, average='micro')\n",
        "print(\"Precision (validación): {:.2f}\".format(precision))\n",
        "\n",
        "# Calcula la exactitud (recall) del modelo en los datos de validación\n",
        "recall = recall_score(y_val, y_val_pred, average='micro')\n",
        "print(\"Recall (validación): {:.2f}\".format(recall))\n",
        "\n",
        "# Calcula el F1-score del modelo en los datos de validación\n",
        "f1 = f1_score(y_val, y_val_pred, average='micro')\n",
        "print(\"F1-score (validación): {:.2f}\".format(f1))\n",
        "\n",
        "# Calcula y muestra métricas en el conjunto de entrenamiento\n",
        "y_train_pred = random_forest_model.predict(X_train)\n",
        "\n",
        "\n",
        "accuracy_train = accuracy_score(y_train, y_train_pred)\n",
        "precision_train = precision_score(y_train, y_train_pred, average='macro' )\n",
        "recall_train = recall_score(y_train, y_train_pred, average='macro')\n",
        "f1_train = f1_score(y_train, y_train_pred, average='macro')\n",
        "\n",
        "#"
      ],
      "metadata": {
        "id": "Yf9iwokE-QqU",
        "colab": {
          "base_uri": "https://localhost:8080/"
        },
        "outputId": "bc74679d-7c0c-4331-8ee3-525f640fa88c"
      },
      "execution_count": null,
      "outputs": [
        {
          "output_type": "stream",
          "name": "stdout",
          "text": [
            "Accuracy (validación): 0.36\n",
            "Precision (validación): 0.36\n",
            "Recall (validación): 0.36\n",
            "F1-score (validación): 0.36\n"
          ]
        }
      ]
    },
    {
      "cell_type": "code",
      "source": [],
      "metadata": {
        "id": "4t2xa2hg6f5F"
      },
      "execution_count": null,
      "outputs": []
    },
    {
      "cell_type": "code",
      "source": [
        "# Imprimir las métricas de entrenamiento\n",
        "print(f'Accuracy entrenamiento: {accuracy_train * 100:.2f}%')\n",
        "print(f'Precisión  entrenamiento: {precision_train * 100:.2f}%')\n",
        "print(f'Recall  entrenamiento: {recall_train * 100:.2f}%')\n",
        "print(f'Puntuación F1  entrenamiento: {f1_train * 100:.2f}%')\n",
        "print('\\n')\n",
        "# Imprimir las métricas de validación\n",
        "print(f'Accuracy  validación: {accuracy * 100:.2f}%')\n",
        "print(f'Precisión  validación: {precision* 100:.2f}%')\n",
        "print(f'Recall  validación: {recall* 100:.2f}%')\n",
        "print(f'Puntuación F1 validación: {f1 * 100:.2f}%')"
      ],
      "metadata": {
        "colab": {
          "base_uri": "https://localhost:8080/"
        },
        "id": "NkRDcwJA-Vto",
        "outputId": "cd2ebdf9-e754-4c66-cfcb-6582f602664d"
      },
      "execution_count": null,
      "outputs": [
        {
          "output_type": "stream",
          "name": "stdout",
          "text": [
            "Accuracy entrenamiento: 83.42%\n",
            "Precisión  entrenamiento: 83.79%\n",
            "Recall  entrenamiento: 83.42%\n",
            "Puntuación F1  entrenamiento: 83.43%\n",
            "\n",
            "\n",
            "Accuracy  validación: 36.39%\n",
            "Precisión  validación: 36.39%\n",
            "Recall  validación: 36.39%\n",
            "Puntuación F1 validación: 36.39%\n"
          ]
        }
      ]
    },
    {
      "cell_type": "markdown",
      "source": [
        "# **Matriz de confusión**"
      ],
      "metadata": {
        "id": "PnsoHsgnjbBL"
      }
    },
    {
      "cell_type": "code",
      "source": [
        "from sklearn.metrics import confusion_matrix\n",
        "\n",
        "y_pred = random_forest_model.predict(X_val)\n",
        "\n",
        "#\n",
        "cm = confusion_matrix(y_val, y_pred)\n",
        "\n",
        "\n",
        "#\n",
        "prop_real = np.sum(y_val)/len(y_val)\n",
        "prop_etiqutados = (cm[0,1]+cm[1,1])/len(y_val)\n",
        "print(\"Matriz de confusión: \\n\\n\", cm, \"\\n\")"
      ],
      "metadata": {
        "colab": {
          "base_uri": "https://localhost:8080/"
        },
        "outputId": "8c7c9631-859d-4131-fd95-4855bd1a0575",
        "id": "ge2kdDirjbBU"
      },
      "execution_count": null,
      "outputs": [
        {
          "output_type": "stream",
          "name": "stdout",
          "text": [
            "Matriz de confusión: \n",
            "\n",
            " [[6972 7385 5997]\n",
            " [5703 8563 5245]\n",
            " [6240 7073 5997]] \n",
            "\n"
          ]
        }
      ]
    },
    {
      "cell_type": "code",
      "source": [
        "import seaborn as sns\n",
        "import matplotlib.pyplot as plt\n",
        "\n",
        "# Definir etiquetas de las clases\n",
        "classes = ['Control', 'Depresión', 'Ansiedad']\n",
        "\n",
        "# Crear un mapa de calor de la matriz de confusión\n",
        "plt.figure(figsize=(8, 6))\n",
        "sns.heatmap(cm, annot=True, fmt='d', cmap='Blues', xticklabels=classes, yticklabels=classes)\n",
        "\n",
        "# Agregar etiquetas y título\n",
        "plt.xlabel('Clases Predichas')\n",
        "plt.ylabel('Clases Reales')\n",
        "plt.title('Matriz de Confusión')\n",
        "\n",
        "plt.show()"
      ],
      "metadata": {
        "colab": {
          "base_uri": "https://localhost:8080/",
          "height": 565
        },
        "outputId": "b4bfe4eb-3d4d-4ce9-b611-fc09fc1a051a",
        "id": "gUFypmG1jbBV"
      },
      "execution_count": null,
      "outputs": [
        {
          "output_type": "display_data",
          "data": {
            "text/plain": [
              "<Figure size 800x600 with 2 Axes>"
            ],
            "image/png": "[encoded data removed]"
          },
          "metadata": {}
        }
      ]
    },
    {
      "cell_type": "markdown",
      "source": [
        "#Modelo SVM"
      ],
      "metadata": {
        "id": "tpe64XnkBjMZ"
      }
    },
    {
      "cell_type": "code",
      "source": [
        "from sklearn.svm import SVC\n",
        "from sklearn.metrics import accuracy_score, precision_score, recall_score, f1_score\n",
        "import joblib\n",
        "import os\n",
        "\n",
        "# Suponiendo que ya tienes tus datos de entrenamiento y validación: X_train, X_val, y_train, y_val\n",
        "\n",
        "# Crear un modelo SVM para clasificación multiclase con kernel polinómico\n",
        "svm_model_p = SVC(kernel='linear', degree=4, C=1000,max_iter=10000,  probability=False, gamma='scale', coef0=2.5)\n",
        "\n",
        "# Entrenar el modelo en los datos de entrenamiento\n",
        "svm_model_p.fit(X_train, y_train)\n",
        "\n",
        "# Predecir etiquetas en el conjunto de validación\n",
        "y_val_pred = svm_model_p.predict(X_val)\n",
        "\n",
        "# Calcular las métricas en el conjunto de validación\n",
        "accuracy = accuracy_score(y_val, y_val_pred)\n",
        "precision = precision_score(y_val, y_val_pred, average='weighted')\n",
        "recall = recall_score(y_val, y_val_pred, average='weighted')\n",
        "f1 = f1_score(y_val, y_val_pred, average='weighted')\n",
        "\n",
        "# Calcular y mostrar métricas en el conjunto de entrenamiento\n",
        "y_train_pred = svm_model_p.predict(X_train)\n",
        "accuracy_train = accuracy_score(y_train, y_train_pred)\n",
        "precision_train = precision_score(y_train, y_train_pred, average='weighted')\n",
        "recall_train = recall_score(y_train, y_train_pred, average='weighted')\n",
        "f1_train = f1_score(y_train, y_train_pred, average='weighted')\n",
        "\n",
        "# Imprimir las métricas en el conjunto de entrenamiento\n",
        "print(\"\\nMétricas en el conjunto de entrenamiento:\")\n",
        "print(\"Exactitud (entrenamiento): {:.2%}\".format(accuracy_train))\n",
        "print(\"Precisión (entrenamiento): {:.2%}\".format(precision_train))\n",
        "print(\"Recall (entrenamiento): {:.2%}\".format(recall_train))\n",
        "print(\"F1-score (entrenamiento): {:.2%}\".format(f1_train))\n",
        "print('--'*50)\n",
        "# Imprimir las métricas en el conjunto de validación\n",
        "print(\"Exactitud en el conjunto de validación: {:.2%}\".format(accuracy))\n",
        "print(\"Precisión en el conjunto de validación: {:.2%}\".format(precision))\n",
        "print(\"Recall en el conjunto de validación: {:.2%}\".format(recall))\n",
        "print(\"F1-score en el conjunto de validación: {:.2%}\".format(f1))\n",
        "\n"
      ],
      "metadata": {
        "colab": {
          "base_uri": "https://localhost:8080/"
        },
        "id": "abWDh27ABtdx",
        "outputId": "d6f0172f-aba2-444d-cb66-fa176249f18b"
      },
      "execution_count": null,
      "outputs": [
        {
          "output_type": "stream",
          "name": "stderr",
          "text": [
            "/usr/local/lib/python3.10/dist-packages/sklearn/svm/_base.py:299: ConvergenceWarning: Solver terminated early (max_iter=10000).  Consider pre-processing your data with StandardScaler or MinMaxScaler.\n",
            "  warnings.warn(\n"
          ]
        },
        {
          "output_type": "stream",
          "name": "stdout",
          "text": [
            "\n",
            "Métricas en el conjunto de entrenamiento:\n",
            "Exactitud (entrenamiento): 33.48%\n",
            "Precisión (entrenamiento): 33.51%\n",
            "Recall (entrenamiento): 33.48%\n",
            "F1-score (entrenamiento): 33.20%\n",
            "----------------------------------------------------------------------------------------------------\n",
            "Exactitud en el conjunto de validación: 33.73%\n",
            "Precisión en el conjunto de validación: 33.74%\n",
            "Recall en el conjunto de validación: 33.73%\n",
            "F1-score en el conjunto de validación: 33.46%\n"
          ]
        }
      ]
    },
    {
      "cell_type": "markdown",
      "source": [
        "# **Matriz de confusión**"
      ],
      "metadata": {
        "id": "UQJHYe_5mFmL"
      }
    },
    {
      "cell_type": "code",
      "source": [
        "from sklearn.metrics import confusion_matrix\n",
        "\n",
        "y_pred = svm_model_p.predict(X_val)\n",
        "\n",
        "#\n",
        "cm = confusion_matrix(y_val, y_pred)\n",
        "\n",
        "\n",
        "#\n",
        "prop_real = np.sum(y_val)/len(y_val)\n",
        "prop_etiqutados = (cm[0,1]+cm[1,1])/len(y_val)\n",
        "print(\"Matriz de confusión: \\n\\n\", cm, \"\\n\")"
      ],
      "metadata": {
        "colab": {
          "base_uri": "https://localhost:8080/"
        },
        "outputId": "c01da5e8-a3f7-4740-8c0f-bf76fcc1c6f4",
        "id": "bEh8aTdumFmT"
      },
      "execution_count": null,
      "outputs": [
        {
          "output_type": "stream",
          "name": "stdout",
          "text": [
            "Matriz de confusión: \n",
            "\n",
            " [[7794 5024 7536]\n",
            " [7541 4940 7030]\n",
            " [7429 4654 7227]] \n",
            "\n"
          ]
        }
      ]
    },
    {
      "cell_type": "code",
      "source": [
        "import seaborn as sns\n",
        "import matplotlib.pyplot as plt\n",
        "\n",
        "# Definir etiquetas de las clases\n",
        "classes = ['Control', 'Depresión', 'Ansiedad']\n",
        "\n",
        "# Crear un mapa de calor de la matriz de confusión\n",
        "plt.figure(figsize=(8, 6))\n",
        "sns.heatmap(cm, annot=True, fmt='d', cmap='Blues', xticklabels=classes, yticklabels=classes)\n",
        "\n",
        "# Agregar etiquetas y título\n",
        "plt.xlabel('Clases Predichas')\n",
        "plt.ylabel('Clases Reales')\n",
        "plt.title('Matriz de Confusión')\n",
        "\n",
        "plt.show()"
      ],
      "metadata": {
        "colab": {
          "base_uri": "https://localhost:8080/",
          "height": 565
        },
        "outputId": "f2f09a4b-5d84-4d80-c166-8838215481c5",
        "id": "xAQ-K-AImFmT"
      },
      "execution_count": null,
      "outputs": [
        {
          "output_type": "display_data",
          "data": {
            "text/plain": [
              "<Figure size 800x600 with 2 Axes>"
            ],
            "image/png": "[encoded data removed]"
          },
          "metadata": {}
        }
      ]
    }
  ]
}
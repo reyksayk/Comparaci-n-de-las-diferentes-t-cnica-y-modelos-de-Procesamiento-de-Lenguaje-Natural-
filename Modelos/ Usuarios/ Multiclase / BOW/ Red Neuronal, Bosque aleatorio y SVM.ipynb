{
  "nbformat": 4,
  "nbformat_minor": 0,
  "metadata": {
    "colab": {
      "provenance": [],
      "machine_shape": "hm",
      "mount_file_id": "1is0dJX3WUdFK7W7DM9NHF9QCStGhHYTF",
      "authorship_tag": "ABX9TyNHHWahLp7Ru4mn2BDJrzNJ"
    },
    "kernelspec": {
      "name": "python3",
      "display_name": "Python 3"
    },
    "language_info": {
      "name": "python"
    }
  },
  "cells": [
    {
      "cell_type": "code",
      "source": [
        "import numpy as np\n",
        "import pandas as pd\n",
        "\n",
        "import tensorflow as tf\n",
        "from tensorflow.keras.models import Sequential\n",
        "from tensorflow.keras.layers import Dense, Dropout\n",
        "from sklearn.metrics import accuracy_score, precision_score, recall_score, f1_score\n",
        "from sklearn.model_selection import train_test_split\n",
        "from sklearn.preprocessing import LabelEncoder\n",
        "from tensorflow.keras.models import load_model\n",
        "from sklearn.model_selection import cross_val_score\n",
        "from sklearn.model_selection import StratifiedKFold"
      ],
      "metadata": {
        "id": "U7C1X_GgdSjj"
      },
      "execution_count": null,
      "outputs": []
    },
    {
      "cell_type": "markdown",
      "source": [
        "# datos"
      ],
      "metadata": {
        "id": "Qc7qpw2GdPhD"
      }
    },
    {
      "cell_type": "markdown",
      "source": [
        "\n",
        "**usarios con Control** = 0\n",
        "\n",
        "**usarios con Depresión** = 1\n",
        "\n",
        "\n",
        "**usarios con Ansiedad** = 2"
      ],
      "metadata": {
        "id": "BmpzI8EBdbB4"
      }
    },
    {
      "cell_type": "markdown",
      "source": [
        "**PREPARACIÓN DE DATOS**"
      ],
      "metadata": {
        "id": "7I0KbpBsDLMD"
      }
    },
    {
      "cell_type": "markdown",
      "source": [
        "*Cargar y limpiar*"
      ],
      "metadata": {
        "id": "A2424AfYDN7Y"
      }
    },
    {
      "cell_type": "code",
      "source": [
        "!pip install pyspellchecker\n",
        "!pip install spacy\n",
        "!python -m spacy download es_core_news_sm"
      ],
      "metadata": {
        "id": "J-67yml1ImB8"
      },
      "execution_count": null,
      "outputs": []
    },
    {
      "cell_type": "code",
      "execution_count": null,
      "metadata": {
        "colab": {
          "base_uri": "https://localhost:8080/"
        },
        "id": "UB37ChrOCyoT",
        "outputId": "6cf78aed-3a32-492f-d616-ea3d45c24555"
      },
      "outputs": [
        {
          "output_type": "stream",
          "name": "stderr",
          "text": [
            "[nltk_data] Downloading package stopwords to /root/nltk_data...\n",
            "[nltk_data]   Unzipping corpora/stopwords.zip.\n",
            "[nltk_data] Downloading package punkt to /root/nltk_data...\n",
            "[nltk_data]   Unzipping tokenizers/punkt.zip.\n"
          ]
        },
        {
          "output_type": "execute_result",
          "data": {
            "text/plain": [
              "True"
            ]
          },
          "metadata": {},
          "execution_count": 3
        }
      ],
      "source": [
        "import string\n",
        "import re\n",
        "import os\n",
        "from os import listdir\n",
        "from collections import Counter\n",
        "from nltk.corpus import stopwords\n",
        "import nltk\n",
        "nltk.download('stopwords')\n",
        "import nltk\n",
        "nltk.download('punkt')"
      ]
    },
    {
      "cell_type": "markdown",
      "source": [
        "# limpiar texto y Crear Tokens"
      ],
      "metadata": {
        "id": "KxVGxamuXRIb"
      }
    },
    {
      "cell_type": "code",
      "source": [
        "import re\n",
        "import string\n",
        "import pandas as pd\n",
        "from nltk.corpus import stopwords\n",
        "from nltk.tokenize import word_tokenize\n",
        "\n",
        "def load_doc(filename):\n",
        "    try:\n",
        "        data = pd.read_csv(filename, delimiter='\\t')  # Indicamos el delimitador como '\\t' para TSV\n",
        "        return data\n",
        "    except Exception as e:\n",
        "        print(\"Error:\", e)\n",
        "        return None\n",
        "\n",
        "#Creamos un función de limpieza del texto y  los guarde en tokens indivicuales o lista de palabras\n",
        "def clean_doc(text):\n",
        "    # Eliminar hashtags\n",
        "    text = re.sub(r'#\\w+', '', text)\n",
        "\n",
        "    # Eliminar URLs o enlaces\n",
        "    text = re.sub(r'(https?://)?[a-zA-Z0-9]+\\.[a-zA-Z0-9]+\\S*', '', text)\n",
        "\n",
        "    # Eliminar nombres de usuarios de Twitter\n",
        "    text = re.sub(r'@\\w+', '', text)\n",
        "\n",
        "    # Eliminar Nombres propios\n",
        "    text = re.sub(r'\\b[A-Z][a-z]+\\b', '', text)\n",
        "\n",
        "    # Eliminar todos los caracteres especiales\n",
        "    text = re.sub(r'[^\\w\\s]+', '', text)\n",
        "\n",
        "    # Eliminar prefijos y números\n",
        "    text = re.sub(r'\\b\\w{1,2}\\b|\\d+', '', text)\n",
        "\n",
        "    # Eliminar palabras específicas\n",
        "    specific_words = ['retweet', 'retweets', 'hashtag', 'trending', 'mención', 'enlace', 'emoji', 'timeline', 'interacciones',\n",
        "                      'tuit', 'seguidores', 'notificaciones', 'seguir', 'favorito', 'perfil', 'tendencia', 'influencer',\n",
        "                      'compartir', 'actualización', 'explorar', 'seguir', 'comunidad', 'contenido', 'popular',\n",
        "                      'recomendar', 'experiencia', 'conectar', 'comentar', 'compartir', 'comunidad', 'actualización',\n",
        "                      'drk', 'followers', 'stats', 'for', 'new', 'little', 'unfollower', 'unfollowers', 'today', 'shit','twitter','nombre',\n",
        "                      'eric','story','great', 'short','squeeze','piggly','wiggly','hmv','even','follas','you','i','he','she',\n",
        "                      'it','we','they','the','and','that','these','those','tweet','followed','follower']\n",
        "    text = ' '.join([word for word in text.split() if word not in specific_words])\n",
        "\n",
        "    # Eliminar emojis\n",
        "    emojis = re.findall(r'[^\\w\\s,]', text)\n",
        "    cleaned_emojis = [emoji for emoji in emojis if emoji not in ['@', '#', '/', '?','¿','.','…','\"',':','“','!','¡','°','-',\"‘\",'’',\n",
        "                                                                 '=',';','(',')',\"'\",\"'\",'&','€','%','$','*','+','|', '”','🇦','🇷',',',\n",
        "                                                                 ', ','—','«',' »','»','« ','[, ]','[,]',',',', ','',' ',' ♀',' 🏽']]\n",
        "    for emoji in cleaned_emojis:\n",
        "        text = text.replace(emoji, '')\n",
        "\n",
        "    # Convertir el texto a minúsculas\n",
        "    text = text.lower()\n",
        "\n",
        "    # Eliminar signos de puntuación\n",
        "    text = re.sub(f\"[{re.escape(string.punctuation)}]\", \"\", text)\n",
        "\n",
        "    # Tokenización de palabras\n",
        "    tokens = word_tokenize(text)\n",
        "\n",
        "    # Eliminar palabras vacías en español\n",
        "    stop_words = set(stopwords.words('spanish'))\n",
        "    tokens = [word for word in tokens if not word in stop_words]\n",
        "\n",
        "    # Eliminar tokens de un solo carácter\n",
        "    tokens = [word for word in tokens if len(word) > 1]\n",
        "\n",
        "    return tokens\n"
      ],
      "metadata": {
        "id": "12y4sbQ3EnQy"
      },
      "execution_count": null,
      "outputs": []
    },
    {
      "cell_type": "code",
      "source": [
        "# #Aplicamos las funciones ya creadas en el conjunto de datos de depresión\n",
        "# # Cargar el archivo CSV en un DataFrame\n",
        "# filename = '/content/drive/MyDrive/base de datos/Cont/90_usuarios_de_control.csv'\n",
        "# data = load_doc(filename)\n",
        "\n",
        "# # Aplicar la limpieza de texto a la columna \"TWEET_TEXT\" y mostrar los tokens\n",
        "# data['TWEET_tokens'] = data['TWEET_TEXT'].apply(clean_doc)\n",
        "# print(data['TWEET_tokens'])"
      ],
      "metadata": {
        "id": "LcpRe5beKSJG"
      },
      "execution_count": null,
      "outputs": []
    },
    {
      "cell_type": "markdown",
      "source": [
        "*Extraer y Definir vocabulario*"
      ],
      "metadata": {
        "id": "inODpKOUMwR-"
      }
    },
    {
      "cell_type": "code",
      "source": [
        "# Función para agregar tokens al vocabulario a partir de un archivo csv\n",
        "def add_doc_vocab_from(filename, vocab):\n",
        "    data = pd.read_csv(filename, sep=',')  # Especificamos el separador\n",
        "    tokens_list = data['tweet'].apply(clean_doc)\n",
        "    for tokens in tokens_list:\n",
        "        vocab.update(tokens)\n",
        "\n",
        "# Función para procesar documentos en un directorio a partir de archivos csv\n",
        "def process_docs_in_directory(directory, vocab):\n",
        "    for filename in os.listdir(directory):\n",
        "        if filename.endswith(\".csv\"):  # Verificamos si el archivo tiene extensión .csv\n",
        "            path = os.path.join(directory, filename)\n",
        "            add_doc_vocab_from(path, vocab)"
      ],
      "metadata": {
        "id": "tXmvwOvvZ3vh"
      },
      "execution_count": null,
      "outputs": []
    },
    {
      "cell_type": "code",
      "source": [
        "# Inicializar el contador de vocabulario\n",
        "vocab = Counter()\n",
        "# Procesar documentos en el directorio 'Control'\n",
        "process_docs_in_directory('/content/drive/MyDrive/Experimentación Python Tesis /Experimento por agrupación de usuarios/Usarios de control 2/', vocab)\n",
        "# Procesar documentos en el directorio 'Ansiedad'\n",
        "process_docs_in_directory('/content/drive/MyDrive/Experimentación Python Tesis /Experimento por agrupación de usuarios/Usuarios con ansiedad/', vocab)\n",
        "# Procesar documentos en el directorio 'Depresión'\n",
        "process_docs_in_directory('/content/drive/MyDrive/Experimentación Python Tesis /Experimento por agrupación de usuarios/Usarios de depresión 2/', vocab)\n",
        "# Imprimir la longitud del vocabulario y los 50 tokens más comunes\n",
        "print(f'Tokens totales: {len(vocab)}')\n",
        "print('los 50 Tokens más frecuentes')\n",
        "print(vocab.most_common(50))\n"
      ],
      "metadata": {
        "colab": {
          "base_uri": "https://localhost:8080/"
        },
        "id": "H0eHTlzgV75o",
        "outputId": "9eca8703-11a7-4260-9345-31476ce2349f"
      },
      "execution_count": null,
      "outputs": [
        {
          "output_type": "stream",
          "name": "stdout",
          "text": [
            "Tokens totales: 100085\n",
            "los 50 Tokens más frecuentes\n",
            "[('httpurl', 45669), ('ser', 6363), ('bien', 6156), ('así', 5263), ('quiero', 5254), ('vida', 4876), ('día', 4794), ('solo', 4773), ('ver', 4681), ('voy', 4438), ('hace', 4367), ('gente', 4267), ('siempre', 4208), ('hacer', 4203), ('mejor', 4197), ('tan', 4149), ('vez', 3914), ('ahora', 3755), ('hoy', 3574), ('amo', 3485), ('mas', 3422), ('años', 3402), ('cosas', 3262), ('mal', 3258), ('puede', 2916), ('puedo', 2916), ('tener', 2828), ('verdad', 2730), ('nunca', 2594), ('gracias', 2548), ('alguien', 2515), ('menos', 2485), ('dos', 2427), ('días', 2425), ('mismo', 2339), ('cada', 2262), ('casa', 2250), ('cómo', 2247), ('bueno', 2230), ('tiempo', 2220), ('cuenta', 2218), ('amor', 2212), ('después', 2169), ('siento', 2122), ('personas', 2110), ('nadie', 2096), ('decir', 2090), ('veces', 2087), ('ganas', 2072), ('mundo', 2062)]\n"
          ]
        }
      ]
    },
    {
      "cell_type": "code",
      "source": [
        "#Reducimos el numero de tokens eliminando Tokens que solo tengan 2 o menos frecuencia en las bases de datos\n",
        "umbral = 10 # elimanamos la palabras que tengan 50 o menos frecuencia\n",
        "tokens =[k for k,c in vocab.items() if c >= umbral]\n",
        "print(len(tokens))"
      ],
      "metadata": {
        "id": "o8bdFaQaYnyP",
        "colab": {
          "base_uri": "https://localhost:8080/"
        },
        "outputId": "afcfb507-be22-4208-b7d5-7b81b26b4454"
      },
      "execution_count": null,
      "outputs": [
        {
          "output_type": "stream",
          "name": "stdout",
          "text": [
            "13358\n"
          ]
        }
      ]
    },
    {
      "cell_type": "code",
      "source": [
        "# Función para guardar los tokens en una lista de palabras\n",
        "#guardar archivo preparado\n",
        "def save_list(lines, filename):\n",
        "  data = '\\n'.join(lines)\n",
        "  file = open(filename,'w')\n",
        "  file.write(data)\n",
        "  file.close()"
      ],
      "metadata": {
        "id": "sFje3ll76saL"
      },
      "execution_count": null,
      "outputs": []
    },
    {
      "cell_type": "code",
      "source": [
        "#Guardar los tokens en una lista de palabra o bolsa de palabras en un archivo llamdo vocab.txt\n",
        "import string\n",
        "import re\n",
        "from os import listdir\n",
        "from collections import Counter\n",
        "from nltk.corpus import stopwords\n",
        "\n",
        "# Inicializar el contador de vocabulario\n",
        "vocab = Counter()\n",
        "process_docs_in_directory('/content/drive/MyDrive/Experimentación Python Tesis /Experimento por agrupación de usuarios/Usarios de control 2/', vocab)\n",
        "# Procesar documentos en el directorio 'Ansiedad'\n",
        "process_docs_in_directory('/content/drive/MyDrive/Experimentación Python Tesis /Experimento por agrupación de usuarios/Usuarios con ansiedad/', vocab)\n",
        "# Procesar documentos en el directorio 'Depresión'\n",
        "process_docs_in_directory('/content/drive/MyDrive/Experimentación Python Tesis /Experimento por agrupación de usuarios/Usarios de depresión 2/', vocab)\n",
        "print(f'Vocabulario: {len(vocab)}')\n",
        "umbral = 10 # elimanamos la palabras que tengan 10 o menos frecuencia\n",
        "tokens =[k for k,c in vocab.items() if c >= umbral]\n",
        "print(f'Vocabulario con tokens más frecuentes:{len(tokens)}')\n",
        "\n",
        "#Guardar la lista de Vocabulario con los tokens más frecuentes\n",
        "save_list(tokens, '/content/drive/MyDrive/Experimentación Python Tesis /Experimento por agrupación de usuarios/vocab_C.txt')\n"
      ],
      "metadata": {
        "colab": {
          "base_uri": "https://localhost:8080/"
        },
        "id": "tjY6I3B37hMA",
        "outputId": "fe76997f-9be1-4306-9414-725b2173d264"
      },
      "execution_count": null,
      "outputs": [
        {
          "output_type": "stream",
          "name": "stdout",
          "text": [
            "Vocabulario: 100085\n",
            "Vocabulario con tokens más frecuentes:13358\n"
          ]
        }
      ]
    },
    {
      "cell_type": "code",
      "source": [
        "archivo = open(\"/content/drive/MyDrive/Experimentación Python Tesis /Experimento por agrupación de usuarios/vocab_C.txt\")\n",
        "print(archivo.read())"
      ],
      "metadata": {
        "id": "ALD1qAQf--Bs"
      },
      "execution_count": null,
      "outputs": []
    },
    {
      "cell_type": "code",
      "source": [
        "import pandas as pd\n",
        "import spacy\n",
        "from spacy.lang.es import Spanish\n",
        "from nltk.corpus import stopwords\n",
        "# Cargar modelo de spaCy\n",
        "nlp = spacy.load(\"es_core_news_sm\")\n",
        "# Función para lematizar y extraer términos\n",
        "\n",
        "# Cargar stopwords en español\n",
        "stopwords_es = set(stopwords.words('spanish'))\n",
        "\n",
        "def extractTerms(text):\n",
        "    # Tokenización y lematización con spaCy\n",
        "    doc = nlp(text)\n",
        "    lemmatized_terms = [token.lemma_ for token in doc if token.text.lower() not in stopwords_es]\n",
        "\n",
        "    return lemmatized_terms"
      ],
      "metadata": {
        "id": "HTrH6He6dI6v"
      },
      "execution_count": null,
      "outputs": []
    },
    {
      "cell_type": "markdown",
      "source": [
        "**Representación de bolsa de palabras (representación vectorial)**"
      ],
      "metadata": {
        "id": "EfuRJnJGlv7a"
      }
    },
    {
      "cell_type": "markdown",
      "source": [
        "*Revisiones a Lineas de Tokens*"
      ],
      "metadata": {
        "id": "GhLs5dqjmYCc"
      }
    },
    {
      "cell_type": "code",
      "source": [
        "def doc_to_line(filename, vocab):\n",
        "  doc = load_doc(filename)\n",
        "  tokens = clean_doc(doc)\n",
        "  tokens = [w for w in tokens if w in vocab]\n",
        "  return ' '.join(tokens)"
      ],
      "metadata": {
        "id": "-1y3UNcplQgV"
      },
      "execution_count": null,
      "outputs": []
    },
    {
      "cell_type": "code",
      "source": [
        "import os\n",
        "import pandas as pd\n",
        "from nltk.classify.senna import path\n",
        "\n",
        "def process_docs(directory, vocab):\n",
        "    lines = []\n",
        "    for filename in os.listdir(directory):\n",
        "        if not filename.endswith('.csv'):\n",
        "            continue\n",
        "        path = os.path.join(directory, filename)\n",
        "\n",
        "        # Cargar el archivo en un DataFrame\n",
        "        data = pd.read_csv(path, sep=',')  # Usamos sep=',' para especificar que el archivo es tsv\n",
        "\n",
        "        # Procesar la columna TWEET_TEXT para obtener los tokens\n",
        "        tokens_list = data['tweet'].apply(clean_doc)\n",
        "        #tokens_list = data['TWEET_TEXT'].apply(extractTerms)\n",
        "\n",
        "        for tokens in tokens_list:\n",
        "            line = ' '.join(tokens)\n",
        "            lines.append(line)\n",
        "\n",
        "    return lines"
      ],
      "metadata": {
        "id": "U9wHwN7TnrKw"
      },
      "execution_count": null,
      "outputs": []
    },
    {
      "cell_type": "code",
      "source": [
        "def load_clean_dataset(vocab):\n",
        "  Cont = process_docs('/content/drive/MyDrive/Experimentación Python Tesis /Experimento por agrupación de usuarios/Usarios de control 2/',vocab)\n",
        "  Ans = process_docs('/content/drive/MyDrive/Experimentación Python Tesis /Experimento por agrupación de usuarios/Usuarios con ansiedad/',vocab)\n",
        "  Dep = process_docs('/content/drive/MyDrive/Experimentación Python Tesis /Experimento por agrupación de usuarios/Usarios de depresión 2/',vocab)\n",
        "  docs = Ans + Cont + Dep\n",
        "\n",
        "  labels = [1 for _ in range(len(Ans))] + [2 for _ in range(len(Dep))] + [0 for _ in range(len(Cont))]\n",
        "  return docs, labels"
      ],
      "metadata": {
        "id": "fTwpI2z8oABs"
      },
      "execution_count": null,
      "outputs": []
    },
    {
      "cell_type": "code",
      "source": [
        "vocab_filename = '/content/drive/MyDrive/Experimentación Python Tesis /Experimento por agrupación de usuarios/vocab_C.txt'\n",
        "with open(vocab_filename, 'r') as file:\n",
        "    vocab_content = file.read()\n",
        "\n",
        "vocab = vocab_content.split()\n",
        "vocab = set(vocab)\n",
        "print(vocab)\n"
      ],
      "metadata": {
        "id": "VabYxNeVo5e9"
      },
      "execution_count": null,
      "outputs": []
    },
    {
      "cell_type": "markdown",
      "source": [
        "*Revisiones de los tweets a vectores de bolsa de palabras*"
      ],
      "metadata": {
        "id": "ba4tH-6Tp8IT"
      }
    },
    {
      "cell_type": "code",
      "source": [
        "# implementamos todo pero usando directamente las funciones creadas\n",
        "import string\n",
        "import re\n",
        "from os import listdir\n",
        "from collections import Counter\n",
        "from nltk.corpus import stopwords\n",
        "\n",
        "docs, labels = load_clean_dataset(vocab)\n",
        "print(len(docs), len(labels))"
      ],
      "metadata": {
        "colab": {
          "base_uri": "https://localhost:8080/"
        },
        "id": "D6rbIJDep7jj",
        "outputId": "b1581723-0aa1-4d5e-df16-7126ec1aca86"
      },
      "execution_count": null,
      "outputs": [
        {
          "output_type": "stream",
          "name": "stdout",
          "text": [
            "197248 197248\n"
          ]
        }
      ]
    },
    {
      "cell_type": "markdown",
      "source": [
        "**Convertir y tranformar el documento a vectores codigicados**"
      ],
      "metadata": {
        "id": "Z3b-8ljcq-k3"
      }
    },
    {
      "cell_type": "code",
      "source": [
        "from keras.preprocessing.text import Tokenizer\n",
        "def create_tokenizer(lines):\n",
        "  tokenizer = Tokenizer()\n",
        "  tokenizer.fit_on_texts(lines)\n",
        "  return tokenizer"
      ],
      "metadata": {
        "id": "1CVD2aFtq5N7"
      },
      "execution_count": null,
      "outputs": []
    },
    {
      "cell_type": "code",
      "source": [
        "def process_docs(directory, vocab, is_train):\n",
        "    lines = list()\n",
        "    for filename in os.listdir(directory):\n",
        "        if is_train and filename.startswith('(72)'):\n",
        "            continue  # Omitir archivos de prueba en el conjunto de entrenamiento\n",
        "        if not is_train and not filename.startswith('(72)'):\n",
        "            continue  # Omitir archivos de entrenamiento en el conjunto de prueba\n",
        "        path = os.path.join(directory, filename)\n",
        "        doc = load_doc(path)\n",
        "        line = doc_to_line(doc, vocab)\n",
        "        lines.append(line)\n",
        "    return lines"
      ],
      "metadata": {
        "id": "2EjjOY4CtKGF"
      },
      "execution_count": null,
      "outputs": []
    },
    {
      "cell_type": "code",
      "source": [
        "import array\n",
        "#Del mismo modo, la función load_clean_dataset() debe actualizarse para cargar el entrenamiento o prueba\n",
        "# y asegúrarse de que devuelva una matriz Numpy\n",
        "def load_clean_dataset(vocab, is_train):\n",
        "\n",
        "  Ans = process_docs('/content/drive/MyDrive/Experimentación Python Tesis /Experimento por agrupación de usuarios/Usuarios con ansiedad/'   , vocab, is_train)\n",
        "  Cont = process_docs('/content/drive/MyDrive/Experimentación Python Tesis /Experimento por agrupación de usuarios/Usuario de control/'     , vocab, is_train)\n",
        "  Dep = process_docs('/content/drive/MyDrive/Experimentación Python Tesis /Experimento por agrupación de usuarios/Usuarios con depresión/'    , vocab, is_train)\n",
        "  docs = Ans + Cont +Dep\n",
        "  labels = np.array([1 for _ in range(len(Ans))] + [2 for _ in range(len(Dep))] + [0 for _ in range(len(Cont))])\n",
        "\n",
        "  return docs, labels"
      ],
      "metadata": {
        "id": "lmjhudEytddp"
      },
      "execution_count": null,
      "outputs": []
    },
    {
      "cell_type": "code",
      "source": [
        "def process_docs(directory, vocab, is_train):\n",
        "    lines = list()\n",
        "    for filename in os.listdir(directory):\n",
        "        path = os.path.join(directory, filename)\n",
        "        if os.path.isfile(path):  # Verificar si es un archivo antes de procesarlo\n",
        "            doc = load_doc(path)\n",
        "            line = ' '.join(clean_doc(doc))\n",
        "            lines.append(line)\n",
        "    return lines\n",
        "\n",
        "def load_doc(filename):\n",
        "    with open(filename, 'r') as file:\n",
        "        text = file.read()\n",
        "    return text\n"
      ],
      "metadata": {
        "id": "F7IIABcBuG8p"
      },
      "execution_count": null,
      "outputs": []
    },
    {
      "cell_type": "code",
      "source": [
        "import string\n",
        "import re\n",
        "from os import listdir\n",
        "import numpy as np\n",
        "from numpy import array\n",
        "from nltk.corpus import stopwords\n",
        "from keras.preprocessing.text import Tokenizer\n",
        "from sklearn.model_selection import train_test_split\n",
        "\n",
        "vocab_filename = '/content/drive/MyDrive/Experimentación Python Tesis /Experimento por agrupación de usuarios/vocab_C.txt'\n",
        "vocab = load_doc(vocab_filename)\n",
        "vocab = set(vocab.split())\n",
        "\n",
        "train_docs, y_train = load_clean_dataset(vocab, True)\n",
        "test_docs, y_test = load_clean_dataset(vocab, False)\n",
        "\n",
        "tokenizer = create_tokenizer(train_docs)\n",
        "x_train = tokenizer.texts_to_matrix(train_docs, mode='freq')\n",
        "x_test = tokenizer.texts_to_matrix(test_docs, mode='freq')\n"
      ],
      "metadata": {
        "id": "ouS-gkQhuH0e"
      },
      "execution_count": null,
      "outputs": []
    },
    {
      "cell_type": "code",
      "source": [
        "print(x_train.shape)\n",
        "print(x_test.shape)\n",
        "print(y_train.shape)\n",
        "print(y_test.shape)"
      ],
      "metadata": {
        "colab": {
          "base_uri": "https://localhost:8080/"
        },
        "id": "Ge0Guoyfarrs",
        "outputId": "49632b9d-c2f4-4951-dc9c-a781e71c996a"
      },
      "execution_count": null,
      "outputs": [
        {
          "output_type": "stream",
          "name": "stdout",
          "text": [
            "(270, 106877)\n",
            "(270, 106877)\n",
            "(270,)\n",
            "(270,)\n"
          ]
        }
      ]
    },
    {
      "cell_type": "markdown",
      "source": [
        "**Modelo análisis de texto**"
      ],
      "metadata": {
        "id": "42176aZnCQAz"
      }
    },
    {
      "cell_type": "markdown",
      "source": [
        "#Red neuronal"
      ],
      "metadata": {
        "id": "biZew38mWzN_"
      }
    },
    {
      "cell_type": "code",
      "source": [
        "import os\n",
        "import joblib\n",
        "import numpy as np\n",
        "from sklearn.metrics import accuracy_score, precision_score, recall_score, f1_score\n",
        "from sklearn.model_selection import train_test_split\n",
        "\n",
        "from sklearn.model_selection import StratifiedKFold\n",
        "from sklearn.model_selection import cross_val_score\n",
        "from sklearn.metrics import make_scorer\n",
        "\n",
        "# Cargar los datos limpios (entrenamiento y prueba)\n",
        "vocab_filename = '/content/drive/MyDrive/Experimentación Python Tesis /Experimento por agrupación de usuarios/vocab_C.txt'\n",
        "vocab = load_doc(vocab_filename)\n",
        "vocab = set(vocab.split())\n",
        "\n",
        "train_docs, y_train = load_clean_dataset(vocab, True)\n",
        "test_docs, y_test = load_clean_dataset(vocab, False)\n",
        "\n",
        "tokenizer = create_tokenizer(train_docs)\n",
        "x_train = tokenizer.texts_to_matrix(train_docs, mode='binary')\n",
        "x_test = tokenizer.texts_to_matrix(test_docs, mode='binary')\n",
        "\n",
        "n_words = x_test.shape[1]\n",
        "\n",
        "# Dividir los datos en conjuntos de entrenamiento (70%) y validación (30%)\n",
        "X_train, X_val, y_train, y_val = train_test_split(x_train, y_train, test_size=0.3, random_state=42)\n"
      ],
      "metadata": {
        "id": "mvWsv2RAYdTL"
      },
      "execution_count": null,
      "outputs": []
    },
    {
      "cell_type": "code",
      "source": [
        "print(x_train.shape)\n",
        "print(X_val.shape)\n",
        "print(y_train.shape)\n",
        "print(y_val.shape)"
      ],
      "metadata": {
        "colab": {
          "base_uri": "https://localhost:8080/"
        },
        "id": "G8-gpxN1gcMM",
        "outputId": "8edef613-427e-41a3-d4a0-e908e3e39c94"
      },
      "execution_count": null,
      "outputs": [
        {
          "output_type": "stream",
          "name": "stdout",
          "text": [
            "(270, 141593)\n",
            "(81, 141593)\n",
            "(189,)\n",
            "(81,)\n"
          ]
        }
      ]
    },
    {
      "cell_type": "code",
      "source": [
        "from keras.utils import to_categorical\n",
        "from tensorflow.keras.optimizers import Adam\n",
        "from tensorflow.keras.losses import CategoricalCrossentropy\n",
        "from tensorflow.keras.metrics import CategoricalAccuracy\n",
        "# Crear una red neuronal secuencial\n",
        "model = Sequential()\n",
        "\n",
        "# Agregar una capa de entrada con el número de características (vocabulario) en tu matriz TF-IDF\n",
        "model.add(Dense(328, activation='relu', input_dim=X_train.shape[1]))\n",
        "model.add(Dropout(0.1))  # Dropout para regularización\n",
        "\n",
        "# Agregar una capa oculta\n",
        "model.add(Dense(164, activation='relu'))\n",
        "model.add(Dropout(0.1))  # Dropout para regularización\n",
        "# Convertir las etiquetas en codificación one-hot\n",
        "num_classes = 3  # Número de clases\n",
        "y_train_one_hot = to_categorical(y_train, num_classes)\n",
        "y_val_one_hot = to_categorical(y_val, num_classes)\n",
        "\n",
        "# Crear una red neuronal secuencial\n",
        "model = Sequential()\n",
        "\n",
        "# Agregar una capa de entrada con el número de características en X_train\n",
        "model.add(Dense(328, activation='relu', input_dim=X_train.shape[1]))\n",
        "model.add(Dropout(0.1))  # Dropout para regularización\n",
        "\n",
        "# Agregar una capa oculta\n",
        "model.add(Dense(164, activation='relu'))\n",
        "model.add(Dropout(0.1))  # Dropout para regularización\n",
        "\n",
        "# Agregar una capa de salida con el número de clases en tu clasificación multiclase\n",
        "model.add(Dense(num_classes, activation='softmax'))\n",
        "\n",
        "# Compilar el modelo\n",
        "model.compile(optimizer=Adam(learning_rate=0.001), loss=CategoricalCrossentropy(), metrics=[CategoricalAccuracy()])\n",
        "\n",
        "# Entrenar el modelo en los datos de entrenamiento\n",
        "history = model.fit(X_train, y_train_one_hot, epochs=30, batch_size=20, validation_data=(X_val, y_val_one_hot))\n",
        "\n",
        "y_val_pred = model.predict(X_val)\n",
        "\n",
        "y_val_pred_class = y_val_pred.argmax(axis=1)  # Obtener la clase con la mayor probabilidad\n",
        "y_val_true_class = y_val_one_hot.argmax(axis=1)  # Usar y_val_one_hot en lugar de y_val si está codificado en one-hot\n",
        "\n",
        "accuracy = accuracy_score(y_val_true_class, y_val_pred_class)\n",
        "precision = precision_score(y_val_true_class, y_val_pred_class, average='macro')\n",
        "recall = recall_score(y_val_true_class, y_val_pred_class, average='macro')\n",
        "f1 = f1_score(y_val_true_class, y_val_pred_class, average='macro')\n",
        "\n",
        "y_train_pred = model.predict(X_train)\n",
        "\n",
        "# Calcular métricas de evaluación en el conjunto de entrenamiento\n",
        "y_train_pred_class = y_train_pred.argmax(axis=1)  # Obtener la clase con la mayor probabilidad\n",
        "y_train_true_class = y_train_one_hot.argmax(axis=1)  # Usar y_train_one_hot en lugar de y_train si está codificado en one-hot\n",
        "\n",
        "accuracy_train = accuracy_score(y_train_true_class, y_train_pred_class)\n",
        "precision_train = precision_score(y_train_true_class, y_train_pred_class, average='macro')\n",
        "recall_train = recall_score(y_train_true_class, y_train_pred_class, average='macro')\n",
        "f1_train = f1_score(y_train_true_class, y_train_pred_class, average='macro')"
      ],
      "metadata": {
        "colab": {
          "base_uri": "https://localhost:8080/"
        },
        "id": "A76ubucGY005",
        "outputId": "468370f8-ff1d-4329-8f29-56ef55f44b2f"
      },
      "execution_count": null,
      "outputs": [
        {
          "output_type": "stream",
          "name": "stdout",
          "text": [
            "Epoch 1/30\n",
            "10/10 [==============================] - 11s 1s/step - loss: 1.0396 - categorical_accuracy: 0.6772 - val_loss: 0.2912 - val_categorical_accuracy: 0.9383\n",
            "Epoch 2/30\n",
            "10/10 [==============================] - 8s 813ms/step - loss: 0.2050 - categorical_accuracy: 0.9683 - val_loss: 0.5471 - val_categorical_accuracy: 0.8889\n",
            "Epoch 3/30\n",
            "10/10 [==============================] - 9s 902ms/step - loss: 0.0604 - categorical_accuracy: 0.9788 - val_loss: 0.3289 - val_categorical_accuracy: 0.8765\n",
            "Epoch 4/30\n",
            "10/10 [==============================] - 9s 925ms/step - loss: 7.6441e-04 - categorical_accuracy: 1.0000 - val_loss: 0.4422 - val_categorical_accuracy: 0.8395\n",
            "Epoch 5/30\n",
            "10/10 [==============================] - 8s 786ms/step - loss: 0.0038 - categorical_accuracy: 1.0000 - val_loss: 0.3150 - val_categorical_accuracy: 0.8765\n",
            "Epoch 6/30\n",
            "10/10 [==============================] - 10s 1s/step - loss: 4.4861e-04 - categorical_accuracy: 1.0000 - val_loss: 0.2369 - val_categorical_accuracy: 0.9136\n",
            "Epoch 7/30\n",
            "10/10 [==============================] - 8s 759ms/step - loss: 2.9041e-04 - categorical_accuracy: 1.0000 - val_loss: 0.2576 - val_categorical_accuracy: 0.9383\n",
            "Epoch 8/30\n",
            "10/10 [==============================] - 10s 1s/step - loss: 2.0564e-04 - categorical_accuracy: 1.0000 - val_loss: 0.2700 - val_categorical_accuracy: 0.9506\n",
            "Epoch 9/30\n",
            "10/10 [==============================] - 8s 752ms/step - loss: 1.1438e-04 - categorical_accuracy: 1.0000 - val_loss: 0.2713 - val_categorical_accuracy: 0.9506\n",
            "Epoch 10/30\n",
            "10/10 [==============================] - 10s 1s/step - loss: 8.1610e-05 - categorical_accuracy: 1.0000 - val_loss: 0.2734 - val_categorical_accuracy: 0.9506\n",
            "Epoch 11/30\n",
            "10/10 [==============================] - 8s 797ms/step - loss: 1.9771e-04 - categorical_accuracy: 1.0000 - val_loss: 0.2731 - val_categorical_accuracy: 0.9506\n",
            "Epoch 12/30\n",
            "10/10 [==============================] - 10s 928ms/step - loss: 8.2436e-05 - categorical_accuracy: 1.0000 - val_loss: 0.2752 - val_categorical_accuracy: 0.9506\n",
            "Epoch 13/30\n",
            "10/10 [==============================] - 9s 907ms/step - loss: 2.0480e-04 - categorical_accuracy: 1.0000 - val_loss: 0.2784 - val_categorical_accuracy: 0.9506\n",
            "Epoch 14/30\n",
            "10/10 [==============================] - 8s 812ms/step - loss: 9.7054e-05 - categorical_accuracy: 1.0000 - val_loss: 0.2813 - val_categorical_accuracy: 0.9506\n",
            "Epoch 15/30\n",
            "10/10 [==============================] - 10s 1s/step - loss: 1.4780e-04 - categorical_accuracy: 1.0000 - val_loss: 0.2832 - val_categorical_accuracy: 0.9506\n",
            "Epoch 16/30\n",
            "10/10 [==============================] - 8s 760ms/step - loss: 7.7288e-05 - categorical_accuracy: 1.0000 - val_loss: 0.2817 - val_categorical_accuracy: 0.9506\n",
            "Epoch 17/30\n",
            "10/10 [==============================] - 10s 1s/step - loss: 5.3587e-05 - categorical_accuracy: 1.0000 - val_loss: 0.2808 - val_categorical_accuracy: 0.9506\n",
            "Epoch 18/30\n",
            "10/10 [==============================] - 8s 758ms/step - loss: 4.8168e-05 - categorical_accuracy: 1.0000 - val_loss: 0.2809 - val_categorical_accuracy: 0.9506\n",
            "Epoch 19/30\n",
            "10/10 [==============================] - 10s 1s/step - loss: 7.2530e-05 - categorical_accuracy: 1.0000 - val_loss: 0.2808 - val_categorical_accuracy: 0.9506\n",
            "Epoch 20/30\n",
            "10/10 [==============================] - 8s 805ms/step - loss: 3.2510e-05 - categorical_accuracy: 1.0000 - val_loss: 0.2807 - val_categorical_accuracy: 0.9506\n",
            "Epoch 21/30\n",
            "10/10 [==============================] - 10s 1s/step - loss: 3.7552e-05 - categorical_accuracy: 1.0000 - val_loss: 0.2800 - val_categorical_accuracy: 0.9506\n",
            "Epoch 22/30\n",
            "10/10 [==============================] - 9s 905ms/step - loss: 1.4350e-04 - categorical_accuracy: 1.0000 - val_loss: 0.2814 - val_categorical_accuracy: 0.9506\n",
            "Epoch 23/30\n",
            "10/10 [==============================] - 8s 801ms/step - loss: 3.7142e-05 - categorical_accuracy: 1.0000 - val_loss: 0.2830 - val_categorical_accuracy: 0.9506\n",
            "Epoch 24/30\n",
            "10/10 [==============================] - 10s 1s/step - loss: 5.7913e-05 - categorical_accuracy: 1.0000 - val_loss: 0.2827 - val_categorical_accuracy: 0.9506\n",
            "Epoch 25/30\n",
            "10/10 [==============================] - 7s 752ms/step - loss: 5.5356e-05 - categorical_accuracy: 1.0000 - val_loss: 0.2819 - val_categorical_accuracy: 0.9506\n",
            "Epoch 26/30\n",
            "10/10 [==============================] - 10s 1s/step - loss: 6.0633e-05 - categorical_accuracy: 1.0000 - val_loss: 0.2821 - val_categorical_accuracy: 0.9506\n",
            "Epoch 27/30\n",
            "10/10 [==============================] - 8s 761ms/step - loss: 2.0977e-05 - categorical_accuracy: 1.0000 - val_loss: 0.2804 - val_categorical_accuracy: 0.9506\n",
            "Epoch 28/30\n",
            "10/10 [==============================] - 10s 1s/step - loss: 7.0857e-05 - categorical_accuracy: 1.0000 - val_loss: 0.2787 - val_categorical_accuracy: 0.9506\n",
            "Epoch 29/30\n",
            "10/10 [==============================] - 8s 794ms/step - loss: 3.2844e-05 - categorical_accuracy: 1.0000 - val_loss: 0.2779 - val_categorical_accuracy: 0.9506\n",
            "Epoch 30/30\n",
            "10/10 [==============================] - 10s 933ms/step - loss: 2.0751e-05 - categorical_accuracy: 1.0000 - val_loss: 0.2798 - val_categorical_accuracy: 0.9506\n",
            "3/3 [==============================] - 0s 59ms/step\n",
            "6/6 [==============================] - 1s 78ms/step\n"
          ]
        }
      ]
    },
    {
      "cell_type": "code",
      "source": [
        "# Imprimir métricas de entrenamiento\n",
        "print(\"\\nMétricas en el conjunto de entrenamiento:\")\n",
        "print(f\"Exactitud (entrenamiento): {round(accuracy_train, 2) * 100}%\")\n",
        "print(f\"Precisión (entrenamiento): {round(precision_train, 2) * 100}%\")\n",
        "print(f\"Recall (entrenamiento): {round(recall_train, 2) * 100}%\")\n",
        "print(f\"F1-score (entrenamiento): {round(f1_train, 2) * 100}%\")\n",
        "print('-------------------------------------------------------------------------')\n",
        "# Imprimir métricas de evaluación\n",
        "print(f\"Exactitud en el conjunto de validación: {round(accuracy, 2) * 100}%\")\n",
        "print(f\"Precisión en el conjunto de validación: {round(precision, 2) * 100}%\")\n",
        "print(f\"Recall en el conjunto de validación: {round(recall, 2) * 100}%\")\n",
        "print(f\"F1-score en el conjunto de validación: {round(f1, 2) * 100}%\")"
      ],
      "metadata": {
        "colab": {
          "base_uri": "https://localhost:8080/"
        },
        "id": "hXVDgU6vY6IL",
        "outputId": "3d736148-355e-4b4d-c84f-85efb3ed824b"
      },
      "execution_count": null,
      "outputs": [
        {
          "output_type": "stream",
          "name": "stdout",
          "text": [
            "\n",
            "Métricas en el conjunto de entrenamiento:\n",
            "Exactitud (entrenamiento): 100.0%\n",
            "Precisión (entrenamiento): 100.0%\n",
            "Recall (entrenamiento): 100.0%\n",
            "F1-score (entrenamiento): 100.0%\n",
            "-------------------------------------------------------------------------\n",
            "Exactitud en el conjunto de validación: 95.0%\n",
            "Precisión en el conjunto de validación: 95.0%\n",
            "Recall en el conjunto de validación: 95.0%\n",
            "F1-score en el conjunto de validación: 95.0%\n"
          ]
        }
      ]
    },
    {
      "cell_type": "markdown",
      "source": [
        "# **Matriz de confusión**"
      ],
      "metadata": {
        "id": "zrnag9LChBJk"
      }
    },
    {
      "cell_type": "code",
      "source": [
        "from sklearn.metrics import confusion_matrix\n",
        "\n",
        "cm = confusion_matrix(y_train_true_class, y_train_pred_class)\n",
        "\n",
        "# Imprimir la matriz de confusión\n",
        "print(\"Matriz de Confusión:\")\n",
        "print(cm)"
      ],
      "metadata": {
        "colab": {
          "base_uri": "https://localhost:8080/"
        },
        "id": "7jAmF9ruhK_z",
        "outputId": "0bc2b0d4-a053-4625-edcd-8713d7e001b4"
      },
      "execution_count": null,
      "outputs": [
        {
          "output_type": "stream",
          "name": "stdout",
          "text": [
            "Matriz de Confusión:\n",
            "[[62  0  0]\n",
            " [ 0 62  0]\n",
            " [ 0  0 65]]\n"
          ]
        }
      ]
    },
    {
      "cell_type": "code",
      "source": [
        "import seaborn as sns\n",
        "import matplotlib.pyplot as plt\n",
        "\n",
        "# Definir etiquetas de las clases\n",
        "classes = ['Control', 'Depresión', 'Ansiedad']\n",
        "\n",
        "# Crear un mapa de calor de la matriz de confusión\n",
        "plt.figure(figsize=(8, 6))\n",
        "sns.heatmap(cm, annot=True, fmt='d', cmap='Blues', xticklabels=classes, yticklabels=classes)\n",
        "\n",
        "# Agregar etiquetas y título\n",
        "plt.xlabel('Clases Predichas')\n",
        "plt.ylabel('Clases Reales')\n",
        "plt.title('Matriz de Confusión')\n",
        "\n",
        "plt.show()"
      ],
      "metadata": {
        "colab": {
          "base_uri": "https://localhost:8080/",
          "height": 565
        },
        "id": "JkILkBO4hc1r",
        "outputId": "14ffef03-d421-4a81-89a5-4a07a22e2b32"
      },
      "execution_count": null,
      "outputs": [
        {
          "output_type": "display_data",
          "data": {
            "text/plain": [
              "<Figure size 800x600 with 2 Axes>"
            ],
            "image/png": "[encoded data removed]"
          },
          "metadata": {}
        }
      ]
    },
    {
      "cell_type": "markdown",
      "source": [
        "#Modelo Arbol Aleatorio"
      ],
      "metadata": {
        "id": "Jr7wkaLH8D9Y"
      }
    },
    {
      "cell_type": "code",
      "source": [
        "from sklearn.ensemble import RandomForestClassifier\n",
        "from sklearn.metrics import accuracy_score, precision_score, recall_score, f1_score\n",
        "from sklearn.model_selection import train_test_split\n",
        "\n",
        "# Crea un modelo de Random Forest\n",
        "random_forest_model = RandomForestClassifier(\n",
        "    n_estimators=300,  # Número de árboles\n",
        "    max_depth=100,  # Profundidad máxima de los árboles\n",
        "    random_state=42,  # Semilla aleatoria para reproducibilidad\n",
        "    n_jobs=-1  # Utilizar todos los núcleos de la CPU para procesamiento en paralelo\n",
        ")\n",
        "\n",
        "# Entrena el modelo con los datos de entrenamiento\n",
        "random_forest_model.fit(X_train, y_train)\n",
        "\n",
        "# Realiza predicciones en los datos de validación\n",
        "y_val_pred = random_forest_model.predict(X_val)\n",
        "\n",
        "# Calcula e imprime la precisión del modelo en los datos de validación\n",
        "accuracy = accuracy_score(y_val, y_val_pred)\n",
        "print(\"Precisión (Validación): {:.2f}\".format(accuracy))\n",
        "\n",
        "# Calcula e imprime la precisión del modelo en los datos de validación\n",
        "precision = precision_score(y_val, y_val_pred, average='weighted')\n",
        "print(\"Precisión (Validación): {:.2f}\".format(precision))\n",
        "\n",
        "# Calcula e imprime la exhaustividad del modelo en los datos de validación\n",
        "recall = recall_score(y_val, y_val_pred, average='weighted')\n",
        "print(\"Exhaustividad (Validación): {:.2f}\".format(recall))\n",
        "\n",
        "# Calcula e imprime la puntuación F1 del modelo en los datos de validación\n",
        "f1 = f1_score(y_val, y_val_pred, average='weighted')\n",
        "print(\"Puntuación F1 (Validación): {:.2f}\".format(f1))\n",
        "\n",
        "# Calcula e imprime métricas en el conjunto de entrenamiento\n",
        "y_train_pred = random_forest_model.predict(X_train)\n",
        "\n",
        "accuracy_train = accuracy_score(y_train, y_train_pred)\n",
        "precision_train = precision_score(y_train, y_train_pred, average='weighted')\n",
        "recall_train = recall_score(y_train, y_train_pred, average='weighted')\n",
        "f1_train = f1_score(y_train, y_train_pred, average='weighted')\n",
        "\n",
        "print(\"\\nMétricas en el conjunto de entrenamiento:\")\n",
        "print(\"Precisión: {:.2f}\".format(precision_train))\n",
        "print(\"Exhaustividad: {:.2f}\".format(recall_train))\n",
        "print(\"Puntuación F1: {:.2f}\".format(f1_train))"
      ],
      "metadata": {
        "id": "Yf9iwokE-QqU",
        "colab": {
          "base_uri": "https://localhost:8080/"
        },
        "outputId": "32b303a1-c978-4ef0-de59-163f5f798977"
      },
      "execution_count": null,
      "outputs": [
        {
          "output_type": "stream",
          "name": "stdout",
          "text": [
            "Precisión (Validación): 0.90\n",
            "Precisión (Validación): 0.92\n",
            "Exhaustividad (Validación): 0.90\n",
            "Puntuación F1 (Validación): 0.90\n",
            "\n",
            "Métricas en el conjunto de entrenamiento:\n",
            "Precisión: 1.00\n",
            "Exhaustividad: 1.00\n",
            "Puntuación F1: 1.00\n"
          ]
        }
      ]
    },
    {
      "cell_type": "code",
      "source": [
        "# Imprimir las métricas de entrenamiento\n",
        "print(f'Accuracy entrenamiento: {accuracy_train * 100:.2f}%')\n",
        "print(f'Precisión  entrenamiento: {precision_train * 100:.2f}%')\n",
        "print(f'Recall  entrenamiento: {recall_train * 100:.2f}%')\n",
        "print(f'Puntuación F1  entrenamiento: {f1_train * 100:.2f}%')\n",
        "print('\\n')\n",
        "# Imprimir las métricas de validación\n",
        "print(f'Accuracy  validación: {accuracy * 100:.2f}%')\n",
        "print(f'Precisión  validación: {precision* 100:.2f}%')\n",
        "print(f'Recall  validación: {recall* 100:.2f}%')\n",
        "print(f'Puntuación F1 validación: {f1 * 100:.2f}%')"
      ],
      "metadata": {
        "colab": {
          "base_uri": "https://localhost:8080/"
        },
        "id": "NkRDcwJA-Vto",
        "outputId": "a3681f1b-47b5-491f-d6bb-34020f740196"
      },
      "execution_count": null,
      "outputs": [
        {
          "output_type": "stream",
          "name": "stdout",
          "text": [
            "Accuracy entrenamiento: 100.00%\n",
            "Precisión  entrenamiento: 100.00%\n",
            "Recall  entrenamiento: 100.00%\n",
            "Puntuación F1  entrenamiento: 100.00%\n",
            "\n",
            "\n",
            "Accuracy  validación: 90.12%\n",
            "Precisión  validación: 91.70%\n",
            "Recall  validación: 90.12%\n",
            "Puntuación F1 validación: 90.21%\n"
          ]
        }
      ]
    },
    {
      "cell_type": "markdown",
      "source": [
        "# **Matriz de confusión**"
      ],
      "metadata": {
        "id": "PnsoHsgnjbBL"
      }
    },
    {
      "cell_type": "code",
      "source": [
        "from sklearn.metrics import confusion_matrix\n",
        "\n",
        "y_pred = random_forest_model.predict(X_val)\n",
        "\n",
        "#\n",
        "cm = confusion_matrix(y_val, y_pred)\n",
        "\n",
        "\n",
        "#\n",
        "prop_real = np.sum(y_val)/len(y_val)\n",
        "prop_etiqutados = (cm[0,1]+cm[1,1])/len(y_val)\n",
        "print(\"Matriz de confusión: \\n\\n\", cm, \"\\n\")"
      ],
      "metadata": {
        "colab": {
          "base_uri": "https://localhost:8080/"
        },
        "outputId": "4cc2eb58-c560-4349-dd60-cb30eb1f8601",
        "id": "ge2kdDirjbBU"
      },
      "execution_count": null,
      "outputs": [
        {
          "output_type": "stream",
          "name": "stdout",
          "text": [
            "Matriz de confusión: \n",
            "\n",
            " [[24  4  0]\n",
            " [ 0 28  0]\n",
            " [ 1  3 21]] \n",
            "\n"
          ]
        }
      ]
    },
    {
      "cell_type": "code",
      "source": [
        "import seaborn as sns\n",
        "import matplotlib.pyplot as plt\n",
        "\n",
        "# Definir etiquetas de las clases\n",
        "classes = ['Control', 'Depresión', 'Ansiedad']\n",
        "\n",
        "# Crear un mapa de calor de la matriz de confusión\n",
        "plt.figure(figsize=(8, 6))\n",
        "sns.heatmap(cm, annot=True, fmt='d', cmap='Blues', xticklabels=classes, yticklabels=classes)\n",
        "\n",
        "# Agregar etiquetas y título\n",
        "plt.xlabel('Clases Predichas')\n",
        "plt.ylabel('Clases Reales')\n",
        "plt.title('Matriz de Confusión')\n",
        "\n",
        "plt.show()"
      ],
      "metadata": {
        "colab": {
          "base_uri": "https://localhost:8080/",
          "height": 565
        },
        "outputId": "3d131991-f687-430b-9338-8f2462e6da55",
        "id": "gUFypmG1jbBV"
      },
      "execution_count": null,
      "outputs": [
        {
          "output_type": "display_data",
          "data": {
            "text/plain": [
              "<Figure size 800x600 with 2 Axes>"
            ],
            "image/png": "[encoded data removed]"
          },
          "metadata": {}
        }
      ]
    },
    {
      "cell_type": "markdown",
      "source": [
        "#Modelo SVM"
      ],
      "metadata": {
        "id": "tpe64XnkBjMZ"
      }
    },
    {
      "cell_type": "code",
      "source": [
        "from sklearn.svm import SVC\n",
        "from sklearn.metrics import accuracy_score, precision_score, recall_score, f1_score\n",
        "import joblib\n",
        "import os\n",
        "\n",
        "# Suponiendo que ya tienes tus datos de entrenamiento y validación: X_train, X_val, y_train, y_val\n",
        "\n",
        "# Crear un modelo SVM para clasificación multiclase con kernel polinómico\n",
        "svm_model_p = SVC(kernel='linear', degree=4, C=100,max_iter=500000,  probability=False)\n",
        "\n",
        "# Entrenar el modelo en los datos de entrenamiento\n",
        "svm_model_p.fit(X_train, y_train)\n",
        "\n",
        "# Predecir etiquetas en el conjunto de validación\n",
        "y_val_pred = svm_model_p.predict(X_val)\n",
        "\n",
        "# Calcular las métricas en el conjunto de validación\n",
        "accuracy = accuracy_score(y_val, y_val_pred)\n",
        "precision = precision_score(y_val, y_val_pred, average='weighted')\n",
        "recall = recall_score(y_val, y_val_pred, average='weighted')\n",
        "f1 = f1_score(y_val, y_val_pred, average='weighted')\n",
        "\n",
        "# Calcular y mostrar métricas en el conjunto de entrenamiento\n",
        "y_train_pred = svm_model_p.predict(X_train)\n",
        "accuracy_train = accuracy_score(y_train, y_train_pred)\n",
        "precision_train = precision_score(y_train, y_train_pred, average='weighted')\n",
        "recall_train = recall_score(y_train, y_train_pred, average='weighted')\n",
        "f1_train = f1_score(y_train, y_train_pred, average='weighted')\n",
        "\n",
        "# Imprimir las métricas en el conjunto de entrenamiento\n",
        "print(\"\\nMétricas en el conjunto de entrenamiento:\")\n",
        "print(\"Exactitud (entrenamiento): {:.2%}\".format(accuracy_train))\n",
        "print(\"Precisión (entrenamiento): {:.2%}\".format(precision_train))\n",
        "print(\"Recall (entrenamiento): {:.2%}\".format(recall_train))\n",
        "print(\"F1-score (entrenamiento): {:.2%}\".format(f1_train))\n",
        "print('--'*50)\n",
        "# Imprimir las métricas en el conjunto de validación\n",
        "print(\"Exactitud en el conjunto de validación: {:.2%}\".format(accuracy))\n",
        "print(\"Precisión en el conjunto de validación: {:.2%}\".format(precision))\n",
        "print(\"Recall en el conjunto de validación: {:.2%}\".format(recall))\n",
        "print(\"F1-score en el conjunto de validación: {:.2%}\".format(f1))\n"
      ],
      "metadata": {
        "colab": {
          "base_uri": "https://localhost:8080/"
        },
        "id": "abWDh27ABtdx",
        "outputId": "e35495ea-d423-43c6-e881-dcf7d2fb8a1e"
      },
      "execution_count": null,
      "outputs": [
        {
          "output_type": "stream",
          "name": "stdout",
          "text": [
            "\n",
            "Métricas en el conjunto de entrenamiento:\n",
            "Exactitud (entrenamiento): 100.00%\n",
            "Precisión (entrenamiento): 100.00%\n",
            "Recall (entrenamiento): 100.00%\n",
            "F1-score (entrenamiento): 100.00%\n",
            "----------------------------------------------------------------------------------------------------\n",
            "Exactitud en el conjunto de validación: 96.30%\n",
            "Precisión en el conjunto de validación: 96.50%\n",
            "Recall en el conjunto de validación: 96.30%\n",
            "F1-score en el conjunto de validación: 96.23%\n"
          ]
        }
      ]
    },
    {
      "cell_type": "markdown",
      "source": [
        "# **Matriz de confusión**"
      ],
      "metadata": {
        "id": "iiAvA4-qDbwd"
      }
    },
    {
      "cell_type": "code",
      "source": [
        "from sklearn.metrics import confusion_matrix\n",
        "\n",
        "y_pred = svm_model_p.predict(X_val)\n",
        "\n",
        "#\n",
        "cm = confusion_matrix(y_val, y_pred)\n",
        "\n",
        "\n",
        "#\n",
        "prop_real = np.sum(y_val)/len(y_val)\n",
        "prop_etiqutados = (cm[0,1]+cm[1,1])/len(y_val)\n",
        "print(\"Matriz de confusión: \\n\\n\", cm, \"\\n\")"
      ],
      "metadata": {
        "colab": {
          "base_uri": "https://localhost:8080/"
        },
        "outputId": "647853fb-1f05-4ae2-f344-816f766ab169",
        "id": "dtLkgvzCDbw3"
      },
      "execution_count": null,
      "outputs": [
        {
          "output_type": "stream",
          "name": "stdout",
          "text": [
            "Matriz de confusión: \n",
            "\n",
            " [[28  0  0]\n",
            " [ 0 28  0]\n",
            " [ 1  2 22]] \n",
            "\n"
          ]
        }
      ]
    },
    {
      "cell_type": "code",
      "source": [
        "import seaborn as sns\n",
        "import matplotlib.pyplot as plt\n",
        "\n",
        "# Definir etiquetas de las clases\n",
        "classes = ['Control', 'Depresión', 'Ansiedad']\n",
        "\n",
        "# Crear un mapa de calor de la matriz de confusión\n",
        "plt.figure(figsize=(8, 6))\n",
        "sns.heatmap(cm, annot=True, fmt='d', cmap='Blues', xticklabels=classes, yticklabels=classes)\n",
        "\n",
        "# Agregar etiquetas y título\n",
        "plt.xlabel('Clases Predichas')\n",
        "plt.ylabel('Clases Reales')\n",
        "plt.title('Matriz de Confusión')\n",
        "\n",
        "plt.show()"
      ],
      "metadata": {
        "colab": {
          "base_uri": "https://localhost:8080/",
          "height": 565
        },
        "outputId": "d11db11f-12f1-4d52-fe5f-936203644532",
        "id": "RKUQBsA0Dbw4"
      },
      "execution_count": null,
      "outputs": [
        {
          "output_type": "display_data",
          "data": {
            "text/plain": [
              "<Figure size 800x600 with 2 Axes>"
            ],
            "image/png": "[encoded data removed]"
          },
          "metadata": {}
        }
      ]
    }
  ]
}
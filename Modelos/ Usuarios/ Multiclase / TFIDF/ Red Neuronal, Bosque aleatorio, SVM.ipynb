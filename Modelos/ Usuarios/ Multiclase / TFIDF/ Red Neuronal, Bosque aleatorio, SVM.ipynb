{
  "cells": [
    {
      "cell_type": "code",
      "execution_count": null,
      "metadata": {
        "id": "U7C1X_GgdSjj"
      },
      "outputs": [],
      "source": [
        "import numpy as np\n",
        "import pandas as pd\n",
        "\n",
        "import tensorflow as tf\n",
        "from tensorflow.keras.models import Sequential\n",
        "from tensorflow.keras.layers import Dense, Dropout\n",
        "from sklearn.metrics import accuracy_score, precision_score, recall_score, f1_score\n",
        "from sklearn.model_selection import train_test_split\n",
        "from sklearn.preprocessing import LabelEncoder\n",
        "from tensorflow.keras.models import load_model\n",
        "from sklearn.model_selection import cross_val_score\n",
        "from sklearn.model_selection import StratifiedKFold"
      ]
    },
    {
      "cell_type": "markdown",
      "metadata": {
        "id": "Qc7qpw2GdPhD"
      },
      "source": [
        "# datos\n",
        "\n",
        "**control** = 0\n",
        "**Depresión** = 1\n",
        "**Ansiedad** = 2"
      ]
    },
    {
      "cell_type": "markdown",
      "metadata": {
        "id": "7I0KbpBsDLMD"
      },
      "source": [
        "**PREPARACIÓN DE DATOS**"
      ]
    },
    {
      "cell_type": "markdown",
      "metadata": {
        "id": "A2424AfYDN7Y"
      },
      "source": [
        "*Cargar y limpiar*"
      ]
    },
    {
      "cell_type": "code",
      "execution_count": null,
      "metadata": {
        "id": "J-67yml1ImB8"
      },
      "outputs": [],
      "source": [
        "!pip install pyspellchecker\n",
        "!pip install spacy\n",
        "!python -m spacy download es_core_news_sm"
      ]
    },
    {
      "cell_type": "code",
      "execution_count": null,
      "metadata": {
        "colab": {
          "base_uri": "https://localhost:8080/"
        },
        "id": "UB37ChrOCyoT",
        "outputId": "e509edbb-e6ee-4d98-966b-7e2f60256173"
      },
      "outputs": [
        {
          "output_type": "stream",
          "name": "stderr",
          "text": [
            "[nltk_data] Downloading package stopwords to /root/nltk_data...\n",
            "[nltk_data]   Unzipping corpora/stopwords.zip.\n",
            "[nltk_data] Downloading package punkt to /root/nltk_data...\n",
            "[nltk_data]   Unzipping tokenizers/punkt.zip.\n"
          ]
        },
        {
          "output_type": "execute_result",
          "data": {
            "text/plain": [
              "True"
            ]
          },
          "metadata": {},
          "execution_count": 3
        }
      ],
      "source": [
        "import string\n",
        "import re\n",
        "import os\n",
        "from os import listdir\n",
        "from collections import Counter\n",
        "from nltk.corpus import stopwords\n",
        "import nltk\n",
        "nltk.download('stopwords')\n",
        "import nltk\n",
        "nltk.download('punkt')"
      ]
    },
    {
      "cell_type": "markdown",
      "metadata": {
        "id": "KxVGxamuXRIb"
      },
      "source": [
        "# limpiar texto y Crear Tokens"
      ]
    },
    {
      "cell_type": "code",
      "execution_count": null,
      "metadata": {
        "id": "12y4sbQ3EnQy"
      },
      "outputs": [],
      "source": [
        "import re\n",
        "import string\n",
        "import pandas as pd\n",
        "from nltk.corpus import stopwords\n",
        "from nltk.tokenize import word_tokenize\n",
        "\n",
        "def load_doc(filename):\n",
        "    try:\n",
        "        data = pd.read_csv(filename, delimiter='\\t')  # Indicamos el delimitador como '\\t' para TSV\n",
        "        return data\n",
        "    except Exception as e:\n",
        "        print(\"Error:\", e)\n",
        "        return None\n",
        "\n",
        "#Creamos un función de limpieza del texto y  los guarde en tokens indivicuales o lista de palabras\n",
        "def clean_doc(text):\n",
        "    # Eliminar hashtags\n",
        "    text = re.sub(r'#\\w+', '', text)\n",
        "\n",
        "    # Eliminar URLs o enlaces\n",
        "    text = re.sub(r'(https?://)?[a-zA-Z0-9]+\\.[a-zA-Z0-9]+\\S*', '', text)\n",
        "\n",
        "    # Eliminar nombres de usuarios de Twitter\n",
        "    text = re.sub(r'@\\w+', '', text)\n",
        "\n",
        "    # Eliminar Nombres propios\n",
        "    text = re.sub(r'\\b[A-Z][a-z]+\\b', '', text)\n",
        "\n",
        "    # Eliminar todos los caracteres especiales\n",
        "    text = re.sub(r'[^\\w\\s]+', '', text)\n",
        "\n",
        "    # Eliminar prefijos y números\n",
        "    text = re.sub(r'\\b\\w{1,2}\\b|\\d+', '', text)\n",
        "\n",
        "    # Eliminar palabras específicas\n",
        "    specific_words = ['retweet', 'retweets', 'hashtag', 'trending', 'mención', 'enlace', 'emoji', 'timeline', 'interacciones',\n",
        "                      'tuit', 'seguidores', 'notificaciones', 'seguir', 'favorito', 'perfil', 'tendencia', 'influencer',\n",
        "                      'compartir', 'actualización', 'explorar', 'seguir', 'comunidad', 'contenido', 'popular',\n",
        "                      'recomendar', 'experiencia', 'conectar', 'comentar', 'compartir', 'comunidad', 'actualización',\n",
        "                      'drk', 'followers', 'stats', 'for', 'new', 'little', 'unfollower', 'unfollowers', 'today', 'shit','twitter','nombre',\n",
        "                      'eric','story','great', 'short','squeeze','piggly','wiggly','hmv','even','follas','you','i','he','she',\n",
        "                      'it','we','they','the','and','that','these','those','tweet','followed','follower']\n",
        "    text = ' '.join([word for word in text.split() if word not in specific_words])\n",
        "\n",
        "    # Eliminar emojis\n",
        "    emojis = re.findall(r'[^\\w\\s,]', text)\n",
        "    cleaned_emojis = [emoji for emoji in emojis if emoji not in ['@', '#', '/', '?','¿','.','…','\"',':','“','!','¡','°','-',\"‘\",'’',\n",
        "                                                                 '=',';','(',')',\"'\",\"'\",'&','€','%','$','*','+','|', '”','🇦','🇷',',',\n",
        "                                                                 ', ','—','«',' »','»','« ','[, ]','[,]',',',', ','',' ',' ♀',' 🏽']]\n",
        "    for emoji in cleaned_emojis:\n",
        "        text = text.replace(emoji, '')\n",
        "\n",
        "    # Convertir el texto a minúsculas\n",
        "    text = text.lower()\n",
        "\n",
        "    # Eliminar signos de puntuación\n",
        "    text = re.sub(f\"[{re.escape(string.punctuation)}]\", \"\", text)\n",
        "\n",
        "    # Tokenización de palabras\n",
        "    tokens = word_tokenize(text)\n",
        "\n",
        "    # Eliminar palabras vacías en español\n",
        "    stop_words = set(stopwords.words('spanish'))\n",
        "    tokens = [word for word in tokens if not word in stop_words]\n",
        "\n",
        "    # Eliminar tokens de un solo carácter\n",
        "    tokens = [word for word in tokens if len(word) > 1]\n",
        "\n",
        "    return tokens\n"
      ]
    },
    {
      "cell_type": "markdown",
      "metadata": {
        "id": "inODpKOUMwR-"
      },
      "source": [
        "*Extraer y Definir vocabulario*"
      ]
    },
    {
      "cell_type": "code",
      "execution_count": null,
      "metadata": {
        "id": "tXmvwOvvZ3vh"
      },
      "outputs": [],
      "source": [
        "# Función para agregar documentos al vocabulario usando TF-IDF\n",
        "def add_doc_vocab_from_tsv_tfidf(filename, vectorizer, vocab):\n",
        "    data = pd.read_csv(filename, sep=',')\n",
        "    docs = data['tweet'].apply(clean_doc)\n",
        "    docs_joined = [' '.join(tokens) for tokens in docs]\n",
        "    vectorizer.fit(docs_joined)\n",
        "    feature_names = vectorizer.get_feature_names_out()\n",
        "    vocab.update(feature_names)\n",
        "\n",
        "# Función para procesar documentos en un directorio usando TF-IDF\n",
        "def process_docs_in_directory_tfidf(directory, vectorizer, vocab):\n",
        "    for filename in os.listdir(directory):\n",
        "        if filename.endswith(\".csv\"):\n",
        "            path = os.path.join(directory, filename)\n",
        "            add_doc_vocab_from_tsv_tfidf(path, vectorizer, vocab)"
      ]
    },
    {
      "cell_type": "code",
      "source": [
        "from collections import Counter\n",
        "from sklearn.feature_extraction.text import TfidfVectorizer\n",
        "from keras.preprocessing.text import Tokenizer\n",
        "# Inicializar el vectorizador TF-IDF\n",
        "tfidf_vectorizer = TfidfVectorizer()"
      ],
      "metadata": {
        "id": "qumweUnsFT7Z"
      },
      "execution_count": null,
      "outputs": []
    },
    {
      "cell_type": "code",
      "execution_count": null,
      "metadata": {
        "colab": {
          "base_uri": "https://localhost:8080/"
        },
        "id": "V5ptDhDcOwfW",
        "outputId": "7997e9c6-f610-459a-c40f-798ba6f6c8ac"
      },
      "outputs": [
        {
          "name": "stdout",
          "output_type": "stream",
          "text": [
            "Términos totales: 100085\n",
            "Vocabulario con tokens más frecuentes:10591\n",
            "Los 50 términos más frecuentes\n",
            "[('httpurl', 268), ('bien', 267), ('hace', 266), ('mejor', 266), ('ser', 266), ('vez', 266), ('siempre', 265), ('hacer', 264), ('cosas', 263), ('solo', 263), ('ver', 263), ('ahora', 262), ('mal', 260), ('tan', 260), ('alguien', 259), ('cada', 259), ('gente', 259), ('tener', 259), ('así', 258), ('años', 258), ('gusta', 258), ('mismo', 258), ('nadie', 258), ('nunca', 258), ('puede', 258), ('tiempo', 258), ('vida', 258), ('cuenta', 257), ('puedo', 257), ('quiero', 257), ('día', 256), ('verdad', 256), ('voy', 256), ('hoy', 255), ('veces', 254), ('bueno', 253), ('creo', 253), ('menos', 253), ('van', 253), ('decir', 252), ('gracias', 252), ('mañana', 252), ('mundo', 251), ('igual', 250), ('pasa', 250), ('persona', 250), ('año', 249), ('casa', 249), ('dice', 249), ('veo', 248)]\n"
          ]
        }
      ],
      "source": [
        "\n",
        "\n",
        "# Inicializar el contador de vocabulario\n",
        "vocab = Counter()\n",
        "\n",
        "# Procesar documentos en el directorio 'Control'\n",
        "process_docs_in_directory_tfidf('/content/drive/MyDrive/Experimentación Python Tesis /Experimento por agrupación de usuarios/Usarios de control 2/', tfidf_vectorizer, vocab)\n",
        "\n",
        "# Procesar documentos en el directorio 'Ansiedad'\n",
        "process_docs_in_directory_tfidf('/content/drive/MyDrive/Experimentación Python Tesis /Experimento por agrupación de usuarios/Usuarios con ansiedad', tfidf_vectorizer, vocab)\n",
        "# Procesar documentos en el directorio 'Depresión'\n",
        "process_docs_in_directory_tfidf('/content/drive/MyDrive/Experimentación Python Tesis /Experimento por agrupación de usuarios/Usarios de depresión 2', tfidf_vectorizer, vocab)\n",
        "umbral = 10 # elimanamos la palabras que tengan 10 o menos frecuencia\n",
        "tokens =[k for k,c in vocab.items() if c >= umbral]\n",
        "\n",
        "# Imprimir la longitud del vocabulario y los 50 términos más comunes\n",
        "print(f'Términos totales: {len(vocab)}')\n",
        "print(f'Vocabulario con tokens más frecuentes:{len(tokens)}')\n",
        "print('Los 50 términos más frecuentes')\n",
        "print(vocab.most_common(50))"
      ]
    },
    {
      "cell_type": "code",
      "execution_count": null,
      "metadata": {
        "id": "sFje3ll76saL"
      },
      "outputs": [],
      "source": [
        "# Función para guardar los términos en una lista de palabras\n",
        "def save_list(lines, filename):\n",
        "    data = '\\n'.join(lines)\n",
        "    with open(filename, 'w') as file:\n",
        "        file.write(data)"
      ]
    },
    {
      "cell_type": "code",
      "execution_count": null,
      "metadata": {
        "id": "o8bdFaQaYnyP"
      },
      "outputs": [],
      "source": [
        "# Guardar la lista de términos o vocabulario en un archivo llamado vocab.txt\n",
        "save_list(vocab.keys(), '/content/drive/MyDrive/Experimentación Python Tesis /Experimento por agrupación de usuarios/vocab_tfidf.txt')"
      ]
    },
    {
      "cell_type": "code",
      "execution_count": null,
      "metadata": {
        "id": "ALD1qAQf--Bs"
      },
      "outputs": [],
      "source": [
        "archivo = open(\"/content/drive/MyDrive/Experimentación Python Tesis /Experimento por agrupación de usuarios/vocab_tfidf.txt\")\n",
        "print(archivo.read())"
      ]
    },
    {
      "cell_type": "code",
      "execution_count": null,
      "metadata": {
        "id": "HTrH6He6dI6v"
      },
      "outputs": [],
      "source": [
        "import pandas as pd\n",
        "import spacy\n",
        "from spacy.lang.es import Spanish\n",
        "from nltk.corpus import stopwords\n",
        "# Cargar modelo de spaCy\n",
        "nlp = spacy.load(\"es_core_news_sm\")\n",
        "# Función para lematizar y extraer términos\n",
        "\n",
        "# Cargar stopwords en español\n",
        "stopwords_es = set(stopwords.words('spanish'))\n",
        "\n",
        "def extractTerms(text):\n",
        "    # Tokenización y lematización con spaCy\n",
        "    doc = nlp(text)\n",
        "    lemmatized_terms = [token.lemma_ for token in doc if token.text.lower() not in stopwords_es]\n",
        "\n",
        "    return lemmatized_terms"
      ]
    },
    {
      "cell_type": "markdown",
      "metadata": {
        "id": "EfuRJnJGlv7a"
      },
      "source": [
        "**Representación de bolsa de palabras (representación vectorial)**"
      ]
    },
    {
      "cell_type": "markdown",
      "metadata": {
        "id": "GhLs5dqjmYCc"
      },
      "source": [
        "*Revisiones a Lineas de Tokens*"
      ]
    },
    {
      "cell_type": "code",
      "execution_count": null,
      "metadata": {
        "id": "-1y3UNcplQgV"
      },
      "outputs": [],
      "source": [
        "def doc_to_line(filename, vocab):\n",
        "  doc = load_doc(filename)\n",
        "  tokens = clean_doc(doc)\n",
        "  tokens = [w for w in tokens if w in vocab]\n",
        "  return ' '.join(tokens)"
      ]
    },
    {
      "cell_type": "code",
      "execution_count": null,
      "metadata": {
        "id": "U9wHwN7TnrKw"
      },
      "outputs": [],
      "source": [
        "import os\n",
        "import pandas as pd\n",
        "from nltk.classify.senna import path\n",
        "\n",
        "def process_docs(directory, vocab):\n",
        "    lines = []\n",
        "    for filename in os.listdir(directory):\n",
        "        if not filename.endswith('.tsv'):\n",
        "            continue\n",
        "        path = os.path.join(directory, filename)\n",
        "\n",
        "        # Cargar el archivo TSV en un DataFrame\n",
        "        data = pd.read_csv(path, sep='\\t')  # Usamos sep='\\t' para especificar que el archivo es tsv\n",
        "\n",
        "        # Procesar la columna TWEET_TEXT para obtener los tokens\n",
        "        tokens_list = data['TWEET_TEXT'].apply(clean_doc)\n",
        "        #tokens_list = data['TWEET_TEXT'].apply(extractTerms)\n",
        "\n",
        "        for tokens in tokens_list:\n",
        "            line = ' '.join(tokens)\n",
        "            lines.append(line)\n",
        "\n",
        "    return lines"
      ]
    },
    {
      "cell_type": "code",
      "execution_count": null,
      "metadata": {
        "id": "fTwpI2z8oABs"
      },
      "outputs": [],
      "source": [
        "def load_clean_dataset(vocab):\n",
        "  Cont = process_docs('/content/drive/MyDrive/Experimentación Python Tesis /Experimento por agrupación de usuarios/Usarios de control 2/', tfidf_vectorizer, vocab)\n",
        "  Ans = process_docs('/content/drive/MyDrive/Experimentación Python Tesis /Experimento por agrupación de usuarios/Usuarios con ansiedad/',tfidf_vectorizer, vocab)\n",
        "  Dep = process_docs('/content/drive/MyDrive/Experimentación Python Tesis /Experimento por agrupación de usuarios/Usarios de depresión 2',tfidf_vectorizer, vocab)\n",
        "  docs = Ans + Cont +Dep\n",
        "\n",
        "  labels = [1 for _ in range(len(Ans))] + [2 for _ in range(len(Dep))] + [0 for _ in range(len(Cont))]\n",
        "  return docs, labels"
      ]
    },
    {
      "cell_type": "code",
      "execution_count": null,
      "metadata": {
        "id": "VabYxNeVo5e9"
      },
      "outputs": [],
      "source": [
        "vocab_filename = '/content/drive/MyDrive/Experimentación Python Tesis /Experimento por agrupación de usuarios/vocab_tfidf.txt'\n",
        "with open(vocab_filename, 'r') as file:\n",
        "    vocab_content = file.read()\n",
        "\n",
        "vocab = vocab_content.split()\n",
        "vocab = set(vocab)\n",
        "print(vocab)\n"
      ]
    },
    {
      "cell_type": "markdown",
      "metadata": {
        "id": "ba4tH-6Tp8IT"
      },
      "source": [
        "*Revisiones de los tweets a vectores*"
      ]
    },
    {
      "cell_type": "markdown",
      "metadata": {
        "id": "Z3b-8ljcq-k3"
      },
      "source": [
        "**Convertir y tranformar el documento a vectores codigicados**"
      ]
    },
    {
      "cell_type": "code",
      "execution_count": null,
      "metadata": {
        "id": "2EjjOY4CtKGF"
      },
      "outputs": [],
      "source": [
        "def process_docs(directory, vocab, is_train):\n",
        "    lines = list()\n",
        "    for filename in os.listdir(directory):\n",
        "        if is_train and filename.startswith('(72)'):\n",
        "            continue  # Omitir archivos de prueba en el conjunto de entrenamiento\n",
        "        if not is_train and not filename.startswith('(72)'):\n",
        "            continue  # Omitir archivos de entrenamiento en el conjunto de prueba\n",
        "        path = os.path.join(directory, filename)\n",
        "        doc = load_doc(path)\n",
        "        line = doc_to_line(doc, vocab)\n",
        "        lines.append(line)\n",
        "    return lines"
      ]
    },
    {
      "cell_type": "code",
      "execution_count": null,
      "metadata": {
        "id": "lmjhudEytddp"
      },
      "outputs": [],
      "source": [
        "import array\n",
        "#Del mismo modo, la función load_clean_dataset() debe actualizarse para cargar el entrenamiento o prueba\n",
        "# y asegúrarse de que devuelva una matriz Numpy\n",
        "def load_clean_dataset(vocab, is_train):\n",
        "\n",
        "  Ans = process_docs('/content/drive/MyDrive/Experimentación Python Tesis /Experimento por agrupación de usuarios/Usuarios con ansiedad/'   , vocab, is_train)\n",
        "  Cont = process_docs('/content/drive/MyDrive/Experimentación Python Tesis /Experimento por agrupación de usuarios/Usuario de control/'     , vocab, is_train)\n",
        "  Dep = process_docs('/content/drive/MyDrive/Experimentación Python Tesis /Experimento por agrupación de usuarios/Usuarios con depresión/'    , vocab, is_train)\n",
        "  docs = Ans + Cont +Dep\n",
        "  labels = np.array([1 for _ in range(len(Ans))] + [2 for _ in range(len(Dep))] + [0 for _ in range(len(Cont))])\n",
        "\n",
        "  return docs, labels\n"
      ]
    },
    {
      "cell_type": "code",
      "execution_count": null,
      "metadata": {
        "id": "F7IIABcBuG8p"
      },
      "outputs": [],
      "source": [
        "def process_docs(directory, vocab, is_train):\n",
        "    lines = list()\n",
        "    for filename in os.listdir(directory):\n",
        "        path = os.path.join(directory, filename)\n",
        "        if os.path.isfile(path):  # Verificar si es un archivo antes de procesarlo\n",
        "            doc = load_doc(path)\n",
        "            line = ' '.join(clean_doc(doc))\n",
        "            lines.append(line)\n",
        "    return lines\n",
        "\n",
        "def load_doc(filename):\n",
        "    with open(filename, 'r') as file:\n",
        "        text = file.read()\n",
        "    return text\n"
      ]
    },
    {
      "cell_type": "markdown",
      "metadata": {
        "id": "42176aZnCQAz"
      },
      "source": [
        "**Modelo análisis de texto**"
      ]
    },
    {
      "cell_type": "code",
      "execution_count": null,
      "metadata": {
        "id": "mvWsv2RAYdTL"
      },
      "outputs": [],
      "source": [
        "import os\n",
        "import joblib\n",
        "import numpy as np\n",
        "from sklearn.metrics import accuracy_score, precision_score, recall_score, f1_score\n",
        "from sklearn.model_selection import train_test_split\n",
        "\n",
        "from sklearn.model_selection import StratifiedKFold\n",
        "from sklearn.model_selection import cross_val_score\n",
        "from sklearn.metrics import make_scorer\n",
        "\n",
        "# Cargar los datos limpios (entrenamiento y prueba)\n",
        "vocab_filename = '/content/drive/MyDrive/Experimentación Python Tesis /Experimento por agrupación de usuarios/vocab_tfidf.txt'\n",
        "vocab = load_doc(vocab_filename)\n",
        "vocab = set(vocab.split())\n",
        "\n",
        "train_docs, y_train = load_clean_dataset(vocab, True)\n",
        "\n",
        "tokenizer = Tokenizer()\n",
        "tokenizer.fit_on_texts(train_docs)\n",
        "\n",
        "x_train = tokenizer.texts_to_matrix(train_docs, mode='tfidf')\n",
        "# Dividir los datos en conjuntos de entrenamiento (70%) y validación (30%)\n",
        "X_train, X_val, y_train, y_val = train_test_split(x_train, y_train, test_size=0.3, random_state=42)\n"
      ]
    },
    {
      "cell_type": "code",
      "execution_count": null,
      "metadata": {
        "colab": {
          "base_uri": "https://localhost:8080/"
        },
        "id": "G8-gpxN1gcMM",
        "outputId": "022456ff-20ff-4358-be07-301df21089f7"
      },
      "outputs": [
        {
          "output_type": "stream",
          "name": "stdout",
          "text": [
            "(270, 141593)\n",
            "(81, 141593)\n",
            "(189,)\n",
            "(81,)\n"
          ]
        }
      ],
      "source": [
        "print(x_train.shape)\n",
        "print(X_val.shape)\n",
        "print(y_train.shape)\n",
        "print(y_val.shape)"
      ]
    },
    {
      "cell_type": "code",
      "execution_count": null,
      "metadata": {
        "colab": {
          "base_uri": "https://localhost:8080/"
        },
        "id": "F2_hosNDmspo",
        "outputId": "fb90eeec-9d75-4f49-d799-f85d257b5314"
      },
      "outputs": [
        {
          "output_type": "execute_result",
          "data": {
            "text/plain": [
              "array([1, 0, 2, 0, 2, 2, 1, 0, 2, 0, 0, 0, 0, 0, 2, 1, 1, 1, 2, 2, 2, 2,\n",
              "       2, 2, 2, 0, 1, 2, 1, 0, 0, 0, 2, 0, 1, 1, 0, 2, 2, 1, 2, 1, 2, 0,\n",
              "       2, 1, 1, 1, 1, 2, 1, 2, 2, 2, 1, 0, 2, 2, 1, 0, 2, 2, 1, 0, 2, 0,\n",
              "       0, 2, 1, 1, 2, 0, 0, 1, 0, 0, 1, 2, 1, 2, 1, 0, 2, 2, 0, 2, 1, 2,\n",
              "       2, 0, 0, 1, 0, 1, 1, 0, 2, 1, 2, 2, 1, 0, 0, 1, 1, 0, 1, 2, 0, 0,\n",
              "       2, 1, 2, 0, 0, 1, 2, 1, 2, 1, 0, 2, 1, 2, 1, 0, 1, 0, 1, 2, 0, 0,\n",
              "       2, 2, 1, 2, 1, 1, 1, 1, 1, 0, 2, 1, 2, 1, 0, 2, 0, 0, 0, 1, 1, 2,\n",
              "       1, 0, 2, 0, 0, 1, 0, 0, 0, 2, 1, 0, 1, 1, 0, 1, 1, 0, 2, 0, 0, 0,\n",
              "       2, 2, 2, 2, 1, 0, 2, 0, 1, 0, 1, 2, 2])"
            ]
          },
          "metadata": {},
          "execution_count": 56
        }
      ],
      "source": [
        "y_train"
      ]
    },
    {
      "cell_type": "markdown",
      "metadata": {
        "id": "biZew38mWzN_"
      },
      "source": [
        "#Red neuronal"
      ]
    },
    {
      "cell_type": "markdown",
      "metadata": {
        "id": "JsexrmCkjD5s"
      },
      "source": [
        "#Red neuronal"
      ]
    },
    {
      "cell_type": "code",
      "execution_count": null,
      "metadata": {
        "colab": {
          "base_uri": "https://localhost:8080/"
        },
        "id": "A76ubucGY005",
        "outputId": "05f083e5-164e-4e79-d300-0f4b9cc6f93e"
      },
      "outputs": [
        {
          "output_type": "stream",
          "name": "stdout",
          "text": [
            "Epoch 1/30\n",
            "10/10 [==============================] - 12s 1s/step - loss: 1.5758 - categorical_accuracy: 0.6984 - val_loss: 0.1821 - val_categorical_accuracy: 0.9630\n",
            "Epoch 2/30\n",
            "10/10 [==============================] - 10s 1s/step - loss: 0.1213 - categorical_accuracy: 0.9841 - val_loss: 0.1790 - val_categorical_accuracy: 0.9630\n",
            "Epoch 3/30\n",
            "10/10 [==============================] - 9s 841ms/step - loss: 4.9462e-04 - categorical_accuracy: 1.0000 - val_loss: 0.2860 - val_categorical_accuracy: 0.9506\n",
            "Epoch 4/30\n",
            "10/10 [==============================] - 11s 1s/step - loss: 2.7156e-04 - categorical_accuracy: 1.0000 - val_loss: 0.3519 - val_categorical_accuracy: 0.9630\n",
            "Epoch 5/30\n",
            "10/10 [==============================] - 8s 818ms/step - loss: 0.0945 - categorical_accuracy: 0.9947 - val_loss: 0.2602 - val_categorical_accuracy: 0.9259\n",
            "Epoch 6/30\n",
            "10/10 [==============================] - 11s 1s/step - loss: 6.8172e-05 - categorical_accuracy: 1.0000 - val_loss: 0.9543 - val_categorical_accuracy: 0.8519\n",
            "Epoch 7/30\n",
            "10/10 [==============================] - 10s 987ms/step - loss: 1.3714e-04 - categorical_accuracy: 1.0000 - val_loss: 1.5338 - val_categorical_accuracy: 0.8025\n",
            "Epoch 8/30\n",
            "10/10 [==============================] - 9s 883ms/step - loss: 9.7980e-05 - categorical_accuracy: 1.0000 - val_loss: 1.7425 - val_categorical_accuracy: 0.7901\n",
            "Epoch 9/30\n",
            "10/10 [==============================] - 11s 1s/step - loss: 7.2726e-05 - categorical_accuracy: 1.0000 - val_loss: 1.7130 - val_categorical_accuracy: 0.8025\n",
            "Epoch 10/30\n",
            "10/10 [==============================] - 8s 822ms/step - loss: 1.3031e-04 - categorical_accuracy: 1.0000 - val_loss: 1.5919 - val_categorical_accuracy: 0.8025\n",
            "Epoch 11/30\n",
            "10/10 [==============================] - 11s 1s/step - loss: 5.1021e-05 - categorical_accuracy: 1.0000 - val_loss: 1.5408 - val_categorical_accuracy: 0.8025\n",
            "Epoch 12/30\n",
            "10/10 [==============================] - 9s 888ms/step - loss: 1.2974e-04 - categorical_accuracy: 1.0000 - val_loss: 1.5009 - val_categorical_accuracy: 0.8025\n",
            "Epoch 13/30\n",
            "10/10 [==============================] - 10s 980ms/step - loss: 1.7117e-05 - categorical_accuracy: 1.0000 - val_loss: 1.4815 - val_categorical_accuracy: 0.8025\n",
            "Epoch 14/30\n",
            "10/10 [==============================] - 10s 1s/step - loss: 2.3282e-05 - categorical_accuracy: 1.0000 - val_loss: 1.4632 - val_categorical_accuracy: 0.8025\n",
            "Epoch 15/30\n",
            "10/10 [==============================] - 9s 823ms/step - loss: 1.4049e-05 - categorical_accuracy: 1.0000 - val_loss: 1.4485 - val_categorical_accuracy: 0.8025\n",
            "Epoch 16/30\n",
            "10/10 [==============================] - 11s 1s/step - loss: 3.5740e-05 - categorical_accuracy: 1.0000 - val_loss: 1.4391 - val_categorical_accuracy: 0.8025\n",
            "Epoch 17/30\n",
            "10/10 [==============================] - 8s 818ms/step - loss: 1.3302e-05 - categorical_accuracy: 1.0000 - val_loss: 1.4287 - val_categorical_accuracy: 0.8025\n",
            "Epoch 18/30\n",
            "10/10 [==============================] - 11s 1s/step - loss: 5.7454e-06 - categorical_accuracy: 1.0000 - val_loss: 1.4210 - val_categorical_accuracy: 0.8025\n",
            "Epoch 19/30\n",
            "10/10 [==============================] - 9s 953ms/step - loss: 8.4704e-06 - categorical_accuracy: 1.0000 - val_loss: 1.4160 - val_categorical_accuracy: 0.8025\n",
            "Epoch 20/30\n",
            "10/10 [==============================] - 9s 900ms/step - loss: 3.0911e-06 - categorical_accuracy: 1.0000 - val_loss: 1.4067 - val_categorical_accuracy: 0.8025\n",
            "Epoch 21/30\n",
            "10/10 [==============================] - 11s 1s/step - loss: 4.3644e-06 - categorical_accuracy: 1.0000 - val_loss: 1.4001 - val_categorical_accuracy: 0.8025\n",
            "Epoch 22/30\n",
            "10/10 [==============================] - 8s 824ms/step - loss: 6.4860e-06 - categorical_accuracy: 1.0000 - val_loss: 1.3944 - val_categorical_accuracy: 0.8025\n",
            "Epoch 23/30\n",
            "10/10 [==============================] - 11s 1s/step - loss: 7.2809e-06 - categorical_accuracy: 1.0000 - val_loss: 1.3849 - val_categorical_accuracy: 0.8025\n",
            "Epoch 24/30\n",
            "10/10 [==============================] - 9s 882ms/step - loss: 3.3860e-06 - categorical_accuracy: 1.0000 - val_loss: 1.3650 - val_categorical_accuracy: 0.8025\n",
            "Epoch 25/30\n",
            "10/10 [==============================] - 10s 982ms/step - loss: 2.2693e-05 - categorical_accuracy: 1.0000 - val_loss: 1.3531 - val_categorical_accuracy: 0.8025\n",
            "Epoch 26/30\n",
            "10/10 [==============================] - 10s 1s/step - loss: 2.8166e-05 - categorical_accuracy: 1.0000 - val_loss: 1.3074 - val_categorical_accuracy: 0.7901\n",
            "Epoch 27/30\n",
            "10/10 [==============================] - 9s 819ms/step - loss: 6.2122e-06 - categorical_accuracy: 1.0000 - val_loss: 1.2631 - val_categorical_accuracy: 0.7901\n",
            "Epoch 28/30\n",
            "10/10 [==============================] - 11s 1s/step - loss: 2.5070e-06 - categorical_accuracy: 1.0000 - val_loss: 1.2444 - val_categorical_accuracy: 0.7901\n",
            "Epoch 29/30\n",
            "10/10 [==============================] - 8s 816ms/step - loss: 2.9825e-06 - categorical_accuracy: 1.0000 - val_loss: 1.2360 - val_categorical_accuracy: 0.8025\n",
            "Epoch 30/30\n",
            "10/10 [==============================] - 11s 1s/step - loss: 4.9404e-06 - categorical_accuracy: 1.0000 - val_loss: 1.2333 - val_categorical_accuracy: 0.8025\n",
            "3/3 [==============================] - 0s 67ms/step\n",
            "6/6 [==============================] - 1s 83ms/step\n"
          ]
        }
      ],
      "source": [
        "from keras.utils import to_categorical\n",
        "from tensorflow.keras.optimizers import Adam\n",
        "from tensorflow.keras.losses import CategoricalCrossentropy\n",
        "from tensorflow.keras.metrics import CategoricalAccuracy\n",
        "# Crear una red neuronal secuencial\n",
        "model = Sequential()\n",
        "\n",
        "# Agregar una capa de entrada con el número de características (vocabulario) en tu matriz TF-IDF\n",
        "model.add(Dense(328, activation='relu', input_dim=X_train.shape[1]))\n",
        "model.add(Dropout(0.1))  # Dropout para regularización\n",
        "\n",
        "# Agregar una capa oculta\n",
        "model.add(Dense(164, activation='relu'))\n",
        "model.add(Dropout(0.1))  # Dropout para regularización\n",
        "# Convertir las etiquetas en codificación one-hot\n",
        "num_classes = 3  # Número de clases\n",
        "y_train_one_hot = to_categorical(y_train, num_classes)\n",
        "y_val_one_hot = to_categorical(y_val, num_classes)\n",
        "\n",
        "# Crear una red neuronal secuencial\n",
        "model = Sequential()\n",
        "\n",
        "# Agregar una capa de entrada con el número de características en X_train\n",
        "model.add(Dense(328, activation='relu', input_dim=X_train.shape[1]))\n",
        "model.add(Dropout(0.1))  # Dropout para regularización\n",
        "\n",
        "# Agregar una capa oculta\n",
        "model.add(Dense(164, activation='relu'))\n",
        "model.add(Dropout(0.1))  # Dropout para regularización\n",
        "\n",
        "# Agregar una capa de salida con el número de clases en tu clasificación multiclase\n",
        "model.add(Dense(num_classes, activation='softmax'))\n",
        "\n",
        "# Compilar el modelo\n",
        "model.compile(optimizer=Adam(learning_rate=0.001), loss=CategoricalCrossentropy(), metrics=[CategoricalAccuracy()])\n",
        "\n",
        "# Entrenar el modelo en los datos de entrenamiento\n",
        "history = model.fit(X_train, y_train_one_hot, epochs=30, batch_size=20, validation_data=(X_val, y_val_one_hot))\n",
        "\n",
        "y_val_pred = model.predict(X_val)\n",
        "\n",
        "y_val_pred_class = y_val_pred.argmax(axis=1)  # Obtener la clase con la mayor probabilidad\n",
        "y_val_true_class = y_val_one_hot.argmax(axis=1)  # Usar y_val_one_hot en lugar de y_val si está codificado en one-hot\n",
        "\n",
        "accuracy = accuracy_score(y_val_true_class, y_val_pred_class)\n",
        "precision = precision_score(y_val_true_class, y_val_pred_class, average='macro')\n",
        "recall = recall_score(y_val_true_class, y_val_pred_class, average='macro')\n",
        "f1 = f1_score(y_val_true_class, y_val_pred_class, average='macro')\n",
        "\n",
        "y_train_pred = model.predict(X_train)\n",
        "\n",
        "# Calcular métricas de evaluación en el conjunto de entrenamiento\n",
        "y_train_pred_class = y_train_pred.argmax(axis=1)  # Obtener la clase con la mayor probabilidad\n",
        "y_train_true_class = y_train_one_hot.argmax(axis=1)  # Usar y_train_one_hot en lugar de y_train si está codificado en one-hot\n",
        "\n",
        "accuracy_train = accuracy_score(y_train_true_class, y_train_pred_class)\n",
        "precision_train = precision_score(y_train_true_class, y_train_pred_class, average='macro')\n",
        "recall_train = recall_score(y_train_true_class, y_train_pred_class, average='macro')\n",
        "f1_train = f1_score(y_train_true_class, y_train_pred_class, average='macro')"
      ]
    },
    {
      "cell_type": "code",
      "execution_count": null,
      "metadata": {
        "colab": {
          "base_uri": "https://localhost:8080/"
        },
        "id": "hXVDgU6vY6IL",
        "outputId": "16f25b2f-5e7a-4d8c-be5b-d821ef1362c9"
      },
      "outputs": [
        {
          "output_type": "stream",
          "name": "stdout",
          "text": [
            "\n",
            "Métricas en el conjunto de entrenamiento:\n",
            "Exactitud (entrenamiento): 100.0%\n",
            "Precisión (entrenamiento): 100.0%\n",
            "Recall (entrenamiento): 100.0%\n",
            "F1-score (entrenamiento): 100.0%\n",
            "-------------------------------------------------------------------------\n",
            "Exactitud en el conjunto de validación: 80.0%\n",
            "Precisión en el conjunto de validación: 84.0%\n",
            "Recall en el conjunto de validación: 81.0%\n",
            "F1-score en el conjunto de validación: 79.0%\n"
          ]
        }
      ],
      "source": [
        "# Imprimir métricas de entrenamiento\n",
        "print(\"\\nMétricas en el conjunto de entrenamiento:\")\n",
        "print(f\"Exactitud (entrenamiento): {round(accuracy_train, 2) * 100}%\")\n",
        "print(f\"Precisión (entrenamiento): {round(precision_train, 2) * 100}%\")\n",
        "print(f\"Recall (entrenamiento): {round(recall_train, 2) * 100}%\")\n",
        "print(f\"F1-score (entrenamiento): {round(f1_train, 2) * 100}%\")\n",
        "print('-------------------------------------------------------------------------')\n",
        "# Imprimir métricas de evaluación\n",
        "print(f\"Exactitud en el conjunto de validación: {round(accuracy, 2) * 100}%\")\n",
        "print(f\"Precisión en el conjunto de validación: {round(precision, 2) * 100}%\")\n",
        "print(f\"Recall en el conjunto de validación: {round(recall, 2) * 100}%\")\n",
        "print(f\"F1-score en el conjunto de validación: {round(f1, 2) * 100}%\")"
      ]
    },
    {
      "cell_type": "markdown",
      "metadata": {
        "id": "zrnag9LChBJk"
      },
      "source": [
        "# **Matriz de confusión**"
      ]
    },
    {
      "cell_type": "code",
      "execution_count": null,
      "metadata": {
        "colab": {
          "base_uri": "https://localhost:8080/"
        },
        "id": "7jAmF9ruhK_z",
        "outputId": "a188ae8f-06de-4a6b-a54a-e87fa9d7f574"
      },
      "outputs": [
        {
          "output_type": "stream",
          "name": "stdout",
          "text": [
            "Matriz de Confusión:\n",
            "[[62  0  0]\n",
            " [ 0 62  0]\n",
            " [ 0  0 65]]\n"
          ]
        }
      ],
      "source": [
        "from sklearn.metrics import confusion_matrix\n",
        "\n",
        "cm = confusion_matrix(y_train_true_class, y_train_pred_class)\n",
        "\n",
        "# Imprimir la matriz de confusión\n",
        "print(\"Matriz de Confusión:\")\n",
        "print(cm)"
      ]
    },
    {
      "cell_type": "code",
      "execution_count": null,
      "metadata": {
        "colab": {
          "base_uri": "https://localhost:8080/",
          "height": 555
        },
        "id": "JkILkBO4hc1r",
        "outputId": "48ad3f64-994e-429b-d264-4d1fa4c13f02"
      },
      "outputs": [
        {
          "output_type": "display_data",
          "data": {
            "text/plain": [
              "<Figure size 800x600 with 2 Axes>"
            ],
            "image/png": "[encoded data removed]"
          },
          "metadata": {}
        }
      ],
      "source": [
        "import seaborn as sns\n",
        "import matplotlib.pyplot as plt\n",
        "\n",
        "# Definir etiquetas de las clases\n",
        "classes = ['Control', 'Depresión', 'Ansiedad']\n",
        "\n",
        "# Crear un mapa de calor de la matriz de confusión\n",
        "plt.figure(figsize=(8, 6))\n",
        "sns.heatmap(cm, annot=True, fmt='d', cmap='Blues', xticklabels=classes, yticklabels=classes)\n",
        "\n",
        "# Agregar etiquetas y título\n",
        "plt.xlabel('Clases Predichas')\n",
        "plt.ylabel('Clases Reales')\n",
        "plt.title('Matriz de Confusión')\n",
        "\n",
        "plt.show()"
      ]
    },
    {
      "cell_type": "markdown",
      "metadata": {
        "id": "Jr7wkaLH8D9Y"
      },
      "source": [
        "#Modelo Bosque Aleatorio"
      ]
    },
    {
      "cell_type": "code",
      "execution_count": null,
      "metadata": {
        "colab": {
          "base_uri": "https://localhost:8080/"
        },
        "id": "Yf9iwokE-QqU",
        "outputId": "68776c8c-fbb8-47a3-ad1c-c32d9b2110a7"
      },
      "outputs": [
        {
          "output_type": "stream",
          "name": "stdout",
          "text": [
            "Precisión (Validación): 0.91\n",
            "Precisión (Validación): 0.93\n",
            "Exhaustividad (Validación): 0.91\n",
            "Puntuación F1 (Validación): 0.91\n",
            "\n",
            "Métricas en el conjunto de entrenamiento:\n",
            "Precisión: 1.00\n",
            "Exhaustividad: 1.00\n",
            "Puntuación F1: 1.00\n"
          ]
        }
      ],
      "source": [
        "from sklearn.ensemble import RandomForestClassifier\n",
        "\n",
        "# Crea un modelo de Random Forest\n",
        "random_forest_model = RandomForestClassifier(\n",
        "    n_estimators=300,  # Número de árboles\n",
        "    max_depth=100,  # Profundidad máxima de los árboles\n",
        "    random_state=42,  # Semilla aleatoria para reproducibilidad\n",
        "    n_jobs=-1  # Utilizar todos los núcleos de la CPU para procesamiento en paralelo\n",
        ")\n",
        "\n",
        "# Entrena el modelo con los datos de entrenamiento\n",
        "random_forest_model.fit(X_train, y_train)\n",
        "\n",
        "# Realiza predicciones en los datos de validación\n",
        "y_val_pred = random_forest_model.predict(X_val)\n",
        "\n",
        "# Calcula e imprime la precisión del modelo en los datos de validación\n",
        "accuracy = accuracy_score(y_val, y_val_pred)\n",
        "print(\"Precisión (Validación): {:.2f}\".format(accuracy))\n",
        "\n",
        "# Calcula e imprime la precisión del modelo en los datos de validación\n",
        "precision = precision_score(y_val, y_val_pred, average='weighted')\n",
        "print(\"Precisión (Validación): {:.2f}\".format(precision))\n",
        "\n",
        "# Calcula e imprime la exhaustividad del modelo en los datos de validación\n",
        "recall = recall_score(y_val, y_val_pred, average='weighted')\n",
        "print(\"Exhaustividad (Validación): {:.2f}\".format(recall))\n",
        "\n",
        "# Calcula e imprime la puntuación F1 del modelo en los datos de validación\n",
        "f1 = f1_score(y_val, y_val_pred, average='weighted')\n",
        "print(\"Puntuación F1 (Validación): {:.2f}\".format(f1))\n",
        "\n",
        "# Calcula e imprime métricas en el conjunto de entrenamiento\n",
        "y_train_pred = random_forest_model.predict(X_train)\n",
        "\n",
        "accuracy_train = accuracy_score(y_train, y_train_pred)\n",
        "precision_train = precision_score(y_train, y_train_pred, average='weighted')\n",
        "recall_train = recall_score(y_train, y_train_pred, average='weighted')\n",
        "f1_train = f1_score(y_train, y_train_pred, average='weighted')\n",
        "\n",
        "print(\"\\nMétricas en el conjunto de entrenamiento:\")\n",
        "print(\"Precisión: {:.2f}\".format(precision_train))\n",
        "print(\"Exhaustividad: {:.2f}\".format(recall_train))\n",
        "print(\"Puntuación F1: {:.2f}\".format(f1_train))"
      ]
    },
    {
      "cell_type": "code",
      "execution_count": null,
      "metadata": {
        "colab": {
          "base_uri": "https://localhost:8080/"
        },
        "id": "NkRDcwJA-Vto",
        "outputId": "4f9424bc-c937-46ab-916f-a7e2998103dc"
      },
      "outputs": [
        {
          "output_type": "stream",
          "name": "stdout",
          "text": [
            "Accuracy entrenamiento: 100.00%\n",
            "Precisión  entrenamiento: 100.00%\n",
            "Recall  entrenamiento: 100.00%\n",
            "Puntuación F1  entrenamiento: 100.00%\n",
            "\n",
            "\n",
            "Accuracy  validación: 91.36%\n",
            "Precisión  validación: 92.52%\n",
            "Recall  validación: 91.36%\n",
            "Puntuación F1 validación: 91.42%\n"
          ]
        }
      ],
      "source": [
        "# Imprimir las métricas de entrenamiento\n",
        "print(f'Accuracy entrenamiento: {accuracy_train * 100:.2f}%')\n",
        "print(f'Precisión  entrenamiento: {precision_train * 100:.2f}%')\n",
        "print(f'Recall  entrenamiento: {recall_train * 100:.2f}%')\n",
        "print(f'Puntuación F1  entrenamiento: {f1_train * 100:.2f}%')\n",
        "print('\\n')\n",
        "# Imprimir las métricas de validación\n",
        "print(f'Accuracy  validación: {accuracy * 100:.2f}%')\n",
        "print(f'Precisión  validación: {precision* 100:.2f}%')\n",
        "print(f'Recall  validación: {recall* 100:.2f}%')\n",
        "print(f'Puntuación F1 validación: {f1 * 100:.2f}%')"
      ]
    },
    {
      "cell_type": "markdown",
      "metadata": {
        "id": "D5BWqH6iWjWS"
      },
      "source": [
        "# **Matriz de confusión**"
      ]
    },
    {
      "cell_type": "code",
      "execution_count": null,
      "metadata": {
        "colab": {
          "base_uri": "https://localhost:8080/"
        },
        "id": "RHd0PFhKWjWw",
        "outputId": "7e3298eb-d10d-499c-bd6d-5c71b8ee055b"
      },
      "outputs": [
        {
          "output_type": "stream",
          "name": "stdout",
          "text": [
            "Matriz de confusión: \n",
            "\n",
            " [[24  4  0]\n",
            " [ 0 28  0]\n",
            " [ 1  2 22]] \n",
            "\n"
          ]
        }
      ],
      "source": [
        "from sklearn.metrics import confusion_matrix\n",
        "\n",
        "y_pred = random_forest_model.predict(X_val)\n",
        "\n",
        "#\n",
        "cm = confusion_matrix(y_val, y_pred)\n",
        "\n",
        "\n",
        "#\n",
        "prop_real = np.sum(y_val)/len(y_val)\n",
        "prop_etiqutados = (cm[0,1]+cm[1,1])/len(y_val)\n",
        "print(\"Matriz de confusión: \\n\\n\", cm, \"\\n\")"
      ]
    },
    {
      "cell_type": "code",
      "execution_count": null,
      "metadata": {
        "colab": {
          "base_uri": "https://localhost:8080/",
          "height": 555
        },
        "id": "Nb8FBs2hWjWx",
        "outputId": "21795872-565b-4249-9675-fcda63e4d26c"
      },
      "outputs": [
        {
          "output_type": "display_data",
          "data": {
            "text/plain": [
              "<Figure size 800x600 with 2 Axes>"
            ],
            "image/png": "[encoded data removed]"
          },
          "metadata": {}
        }
      ],
      "source": [
        "import seaborn as sns\n",
        "import matplotlib.pyplot as plt\n",
        "\n",
        "# Definir etiquetas de las clases\n",
        "classes = ['Control', 'Depresión', 'Ansiedad']\n",
        "\n",
        "# Crear un mapa de calor de la matriz de confusión\n",
        "plt.figure(figsize=(8, 6))\n",
        "sns.heatmap(cm, annot=True, fmt='d', cmap='Blues', xticklabels=classes, yticklabels=classes)\n",
        "\n",
        "# Agregar etiquetas y título\n",
        "plt.xlabel('Clases Predichas')\n",
        "plt.ylabel('Clases Reales')\n",
        "plt.title('Matriz de Confusión')\n",
        "\n",
        "plt.show()"
      ]
    },
    {
      "cell_type": "markdown",
      "metadata": {
        "id": "tpe64XnkBjMZ"
      },
      "source": [
        "#Modelo SVM"
      ]
    },
    {
      "cell_type": "code",
      "execution_count": null,
      "metadata": {
        "colab": {
          "base_uri": "https://localhost:8080/"
        },
        "id": "abWDh27ABtdx",
        "outputId": "6c1169e7-fc6f-41da-a42e-8ea5af99478f"
      },
      "outputs": [
        {
          "output_type": "stream",
          "name": "stderr",
          "text": [
            "/usr/local/lib/python3.10/dist-packages/sklearn/metrics/_classification.py:1344: UndefinedMetricWarning: Precision is ill-defined and being set to 0.0 in labels with no predicted samples. Use `zero_division` parameter to control this behavior.\n",
            "  _warn_prf(average, modifier, msg_start, len(result))\n"
          ]
        },
        {
          "output_type": "stream",
          "name": "stdout",
          "text": [
            "\n",
            "Métricas en el conjunto de entrenamiento:\n",
            "Exactitud (entrenamiento): 93.65%\n",
            "Precisión (entrenamiento): 94.68%\n",
            "Recall (entrenamiento): 93.65%\n",
            "F1-score (entrenamiento): 93.65%\n",
            "----------------------------------------------------------------------------------------------------\n",
            "Exactitud en el conjunto de validación: 35.80%\n",
            "Precisión en el conjunto de validación: 46.67%\n",
            "Recall en el conjunto de validación: 35.80%\n",
            "F1-score en el conjunto de validación: 20.31%\n"
          ]
        }
      ],
      "source": [
        "from sklearn.svm import SVC\n",
        "\n",
        "\n",
        "# Crear un modelo SVM para clasificación multiclase con kernel polinómico\n",
        "svm_model_p = SVC(kernel='poly', degree=4, C=100,max_iter=500000,  probability=False)\n",
        "\n",
        "# Entrenar el modelo en los datos de entrenamiento\n",
        "svm_model_p.fit(X_train, y_train)\n",
        "\n",
        "# Predecir etiquetas en el conjunto de validación\n",
        "y_val_pred = svm_model_p.predict(X_val)\n",
        "\n",
        "# Calcular las métricas en el conjunto de validación\n",
        "accuracy = accuracy_score(y_val, y_val_pred)\n",
        "precision = precision_score(y_val, y_val_pred, average='weighted')\n",
        "recall = recall_score(y_val, y_val_pred, average='weighted')\n",
        "f1 = f1_score(y_val, y_val_pred, average='weighted')\n",
        "\n",
        "# Calcular y mostrar métricas en el conjunto de entrenamiento\n",
        "y_train_pred = svm_model_p.predict(X_train)\n",
        "accuracy_train = accuracy_score(y_train, y_train_pred)\n",
        "precision_train = precision_score(y_train, y_train_pred, average='weighted')\n",
        "recall_train = recall_score(y_train, y_train_pred, average='weighted')\n",
        "f1_train = f1_score(y_train, y_train_pred, average='weighted')\n",
        "\n",
        "# Imprimir las métricas en el conjunto de entrenamiento\n",
        "print(\"\\nMétricas en el conjunto de entrenamiento:\")\n",
        "print(\"Exactitud (entrenamiento): {:.2%}\".format(accuracy_train))\n",
        "print(\"Precisión (entrenamiento): {:.2%}\".format(precision_train))\n",
        "print(\"Recall (entrenamiento): {:.2%}\".format(recall_train))\n",
        "print(\"F1-score (entrenamiento): {:.2%}\".format(f1_train))\n",
        "print('--'*50)\n",
        "# Imprimir las métricas en el conjunto de validación\n",
        "print(\"Exactitud en el conjunto de validación: {:.2%}\".format(accuracy))\n",
        "print(\"Precisión en el conjunto de validación: {:.2%}\".format(precision))\n",
        "print(\"Recall en el conjunto de validación: {:.2%}\".format(recall))\n",
        "print(\"F1-score en el conjunto de validación: {:.2%}\".format(f1))\n"
      ]
    },
    {
      "cell_type": "markdown",
      "metadata": {
        "id": "4PDz1vd4Wri3"
      },
      "source": [
        "# **Matriz de confusión**"
      ]
    },
    {
      "cell_type": "code",
      "execution_count": null,
      "metadata": {
        "colab": {
          "base_uri": "https://localhost:8080/"
        },
        "id": "U0EO1C9LWrjI",
        "outputId": "f822b5fe-d4f3-424c-a2c1-69369c9239aa"
      },
      "outputs": [
        {
          "output_type": "stream",
          "name": "stdout",
          "text": [
            "Matriz de confusión: \n",
            "\n",
            " [[ 1 27  0]\n",
            " [ 0 28  0]\n",
            " [ 0 25  0]] \n",
            "\n"
          ]
        }
      ],
      "source": [
        "from sklearn.metrics import confusion_matrix\n",
        "\n",
        "y_pred = svm_model_p.predict(X_val)\n",
        "\n",
        "#\n",
        "cm = confusion_matrix(y_val, y_pred)\n",
        "\n",
        "\n",
        "#\n",
        "prop_real = np.sum(y_val)/len(y_val)\n",
        "prop_etiqutados = (cm[0,1]+cm[1,1])/len(y_val)\n",
        "print(\"Matriz de confusión: \\n\\n\", cm, \"\\n\")"
      ]
    },
    {
      "cell_type": "code",
      "execution_count": null,
      "metadata": {
        "colab": {
          "base_uri": "https://localhost:8080/",
          "height": 555
        },
        "id": "kwscoNQeWrjJ",
        "outputId": "d7302680-9f79-4e01-b6bd-f4f919d400b6"
      },
      "outputs": [
        {
          "output_type": "display_data",
          "data": {
            "text/plain": [
              "<Figure size 800x600 with 2 Axes>"
            ],
            "image/png": "[encoded data removed]"
          },
          "metadata": {}
        }
      ],
      "source": [
        "import seaborn as sns\n",
        "import matplotlib.pyplot as plt\n",
        "\n",
        "# Definir etiquetas de las clases\n",
        "classes = ['Control', 'Depresión', 'Ansiedad']\n",
        "\n",
        "# Crear un mapa de calor de la matriz de confusión\n",
        "plt.figure(figsize=(8, 6))\n",
        "sns.heatmap(cm, annot=True, fmt='d', cmap='Blues', xticklabels=classes, yticklabels=classes)\n",
        "\n",
        "# Agregar etiquetas y título\n",
        "plt.xlabel('Clases Predichas')\n",
        "plt.ylabel('Clases Reales')\n",
        "plt.title('Matriz de Confusión')\n",
        "\n",
        "plt.show()"
      ]
    }
  ],
  "metadata": {
    "colab": {
      "provenance": [],
      "mount_file_id": "15ICDYeLQFHkwfMgJ9tTu1pMG4uhoFKop",
      "authorship_tag": "ABX9TyPJcC/Hj4kyPeCmosieVyCC"
    },
    "kernelspec": {
      "display_name": "Python 3",
      "name": "python3"
    },
    "language_info": {
      "name": "python"
    }
  },
  "nbformat": 4,
  "nbformat_minor": 0
}
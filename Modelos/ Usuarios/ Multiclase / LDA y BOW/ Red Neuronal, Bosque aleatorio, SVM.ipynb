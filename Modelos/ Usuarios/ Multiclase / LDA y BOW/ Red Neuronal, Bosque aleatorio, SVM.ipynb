{
  "nbformat": 4,
  "nbformat_minor": 0,
  "metadata": {
    "colab": {
      "provenance": [],
      "machine_shape": "hm",
      "mount_file_id": "1XhjWu9HN063P1PvIAvgYe74hLJxmhBd2",
      "authorship_tag": "ABX9TyPTHZh7GfdpkLruvnyqGoQ2"
    },
    "kernelspec": {
      "name": "python3",
      "display_name": "Python 3"
    },
    "language_info": {
      "name": "python"
    }
  },
  "cells": [
    {
      "cell_type": "code",
      "source": [
        "import numpy as np\n",
        "import pandas as pd\n",
        "\n",
        "import tensorflow as tf\n",
        "from tensorflow.keras.models import Sequential\n",
        "from tensorflow.keras.layers import Dense, Dropout\n",
        "from sklearn.metrics import accuracy_score, precision_score, recall_score, f1_score\n",
        "from sklearn.model_selection import train_test_split\n",
        "from sklearn.preprocessing import LabelEncoder\n",
        "from tensorflow.keras.models import load_model\n",
        "from sklearn.model_selection import cross_val_score\n",
        "from sklearn.model_selection import StratifiedKFold"
      ],
      "metadata": {
        "id": "U7C1X_GgdSjj"
      },
      "execution_count": null,
      "outputs": []
    },
    {
      "cell_type": "markdown",
      "source": [
        "# datos"
      ],
      "metadata": {
        "id": "Qc7qpw2GdPhD"
      }
    },
    {
      "cell_type": "markdown",
      "source": [
        "\n",
        "**usarios con Control** = 0\n",
        "\n",
        "**usarios con Depresión** = 1\n",
        "\n",
        "\n",
        "**usarios con Ansiedad** = 2"
      ],
      "metadata": {
        "id": "BmpzI8EBdbB4"
      }
    },
    {
      "cell_type": "markdown",
      "source": [
        "**PREPARACIÓN DE DATOS**"
      ],
      "metadata": {
        "id": "7I0KbpBsDLMD"
      }
    },
    {
      "cell_type": "markdown",
      "source": [
        "*Cargar y limpiar*"
      ],
      "metadata": {
        "id": "A2424AfYDN7Y"
      }
    },
    {
      "cell_type": "code",
      "source": [
        "!pip install pyspellchecker\n",
        "!pip install spacy\n",
        "!python -m spacy download es_core_news_sm"
      ],
      "metadata": {
        "id": "J-67yml1ImB8"
      },
      "execution_count": null,
      "outputs": []
    },
    {
      "cell_type": "code",
      "execution_count": null,
      "metadata": {
        "colab": {
          "base_uri": "https://localhost:8080/"
        },
        "id": "UB37ChrOCyoT",
        "outputId": "e47af726-c310-4bed-881f-4a982676c28e"
      },
      "outputs": [
        {
          "output_type": "stream",
          "name": "stderr",
          "text": [
            "[nltk_data] Downloading package stopwords to /root/nltk_data...\n",
            "[nltk_data]   Package stopwords is already up-to-date!\n",
            "[nltk_data] Downloading package punkt to /root/nltk_data...\n",
            "[nltk_data]   Package punkt is already up-to-date!\n"
          ]
        },
        {
          "output_type": "execute_result",
          "data": {
            "text/plain": [
              "True"
            ]
          },
          "metadata": {},
          "execution_count": 53
        }
      ],
      "source": [
        "import string\n",
        "import re\n",
        "import os\n",
        "from os import listdir\n",
        "from collections import Counter\n",
        "from nltk.corpus import stopwords\n",
        "import nltk\n",
        "nltk.download('stopwords')\n",
        "import nltk\n",
        "nltk.download('punkt')"
      ]
    },
    {
      "cell_type": "markdown",
      "source": [
        "# limpiar texto y Crear Tokens"
      ],
      "metadata": {
        "id": "KxVGxamuXRIb"
      }
    },
    {
      "cell_type": "code",
      "source": [
        "import re\n",
        "import string\n",
        "import pandas as pd\n",
        "from nltk.corpus import stopwords\n",
        "from nltk.tokenize import word_tokenize\n",
        "\n",
        "def load_doc(filename):\n",
        "    try:\n",
        "        data = pd.read_csv(filename, delimiter='\\t')  # Indicamos el delimitador como '\\t' para TSV\n",
        "        return data\n",
        "    except Exception as e:\n",
        "        print(\"Error:\", e)\n",
        "        return None\n",
        "\n",
        "#Creamos un función de limpieza del texto y  los guarde en tokens indivicuales o lista de palabras\n",
        "def clean_doc(text):\n",
        "    # Eliminar hashtags\n",
        "    text = re.sub(r'#\\w+', '', text)\n",
        "\n",
        "    # Eliminar URLs o enlaces\n",
        "    text = re.sub(r'(https?://)?[a-zA-Z0-9]+\\.[a-zA-Z0-9]+\\S*', '', text)\n",
        "\n",
        "    # Eliminar nombres de usuarios de Twitter\n",
        "    text = re.sub(r'@\\w+', '', text)\n",
        "\n",
        "    # Eliminar Nombres propios\n",
        "    text = re.sub(r'\\b[A-Z][a-z]+\\b', '', text)\n",
        "\n",
        "    # Eliminar todos los caracteres especiales\n",
        "    text = re.sub(r'[^\\w\\s]+', '', text)\n",
        "\n",
        "    # Eliminar prefijos y números\n",
        "    text = re.sub(r'\\b\\w{1,2}\\b|\\d+', '', text)\n",
        "\n",
        "    # Eliminar palabras específicas\n",
        "    specific_words = ['retweet', 'retweets', 'hashtag', 'trending', 'mención', 'enlace', 'emoji', 'timeline', 'interacciones',\n",
        "                      'tuit', 'seguidores', 'notificaciones', 'seguir', 'favorito', 'perfil', 'tendencia', 'influencer',\n",
        "                      'compartir', 'actualización', 'explorar', 'seguir', 'comunidad', 'contenido', 'popular',\n",
        "                      'recomendar', 'experiencia', 'conectar', 'comentar', 'compartir', 'comunidad', 'actualización',\n",
        "                      'drk', 'followers', 'stats', 'for', 'new', 'little', 'unfollower', 'unfollowers', 'today', 'shit','twitter','nombre',\n",
        "                      'eric','story','great', 'short','squeeze','piggly','wiggly','hmv','even','follas','you','i','he','she',\n",
        "                      'it','we','they','the','and','that','these','those','tweet','followed','follower']\n",
        "    text = ' '.join([word for word in text.split() if word not in specific_words])\n",
        "\n",
        "    # Eliminar emojis\n",
        "    emojis = re.findall(r'[^\\w\\s,]', text)\n",
        "    cleaned_emojis = [emoji for emoji in emojis if emoji not in ['@', '#', '/', '?','¿','.','…','\"',':','“','!','¡','°','-',\"‘\",'’',\n",
        "                                                                 '=',';','(',')',\"'\",\"'\",'&','€','%','$','*','+','|', '”','🇦','🇷',',',\n",
        "                                                                 ', ','—','«',' »','»','« ','[, ]','[,]',',',', ','',' ',' ♀',' 🏽']]\n",
        "    for emoji in cleaned_emojis:\n",
        "        text = text.replace(emoji, '')\n",
        "\n",
        "    # Convertir el texto a minúsculas\n",
        "    text = text.lower()\n",
        "\n",
        "    # Eliminar signos de puntuación\n",
        "    text = re.sub(f\"[{re.escape(string.punctuation)}]\", \"\", text)\n",
        "\n",
        "    # Tokenización de palabras\n",
        "    tokens = word_tokenize(text)\n",
        "\n",
        "    # Eliminar palabras vacías en español\n",
        "    stop_words = set(stopwords.words('spanish'))\n",
        "    tokens = [word for word in tokens if not word in stop_words]\n",
        "\n",
        "    # Eliminar tokens de un solo carácter\n",
        "    tokens = [word for word in tokens if len(word) > 1]\n",
        "\n",
        "    return tokens\n"
      ],
      "metadata": {
        "id": "12y4sbQ3EnQy"
      },
      "execution_count": null,
      "outputs": []
    },
    {
      "cell_type": "code",
      "source": [
        "# #Aplicamos las funciones ya creadas en el conjunto de datos de depresión\n",
        "# # Cargar el archivo CSV en un DataFrame\n",
        "# filename = '/content/drive/MyDrive/base de datos/Cont/90_usuarios_de_control.csv'\n",
        "# data = load_doc(filename)\n",
        "\n",
        "# # Aplicar la limpieza de texto a la columna \"TWEET_TEXT\" y mostrar los tokens\n",
        "# data['TWEET_tokens'] = data['TWEET_TEXT'].apply(clean_doc)\n",
        "# print(data['TWEET_tokens'])"
      ],
      "metadata": {
        "id": "LcpRe5beKSJG"
      },
      "execution_count": null,
      "outputs": []
    },
    {
      "cell_type": "markdown",
      "source": [
        "*Extraer y Definir vocabulario*"
      ],
      "metadata": {
        "id": "inODpKOUMwR-"
      }
    },
    {
      "cell_type": "code",
      "source": [
        "# Función para agregar tokens al vocabulario a partir de un archivo csv\n",
        "def add_doc_vocab_from(filename, vocab):\n",
        "    data = pd.read_csv(filename, sep=',')  # Especificamos el separador\n",
        "    tokens_list = data['tweet'].apply(clean_doc)\n",
        "    for tokens in tokens_list:\n",
        "        vocab.update(tokens)\n",
        "\n",
        "# Función para procesar documentos en un directorio a partir de archivos csv\n",
        "def process_docs_in_directory(directory, vocab):\n",
        "    for filename in os.listdir(directory):\n",
        "        if filename.endswith(\".csv\"):  # Verificamos si el archivo tiene extensión .csv\n",
        "            path = os.path.join(directory, filename)\n",
        "            add_doc_vocab_from(path, vocab)"
      ],
      "metadata": {
        "id": "tXmvwOvvZ3vh"
      },
      "execution_count": null,
      "outputs": []
    },
    {
      "cell_type": "code",
      "source": [
        "# Inicializar el contador de vocabulario\n",
        "vocab = Counter()\n",
        "# Procesar documentos en el directorio 'Control'\n",
        "process_docs_in_directory('/content/drive/MyDrive/Experimentación Python Tesis /Experimento por agrupación de usuarios/Usarios de control 2/', vocab)\n",
        "# Procesar documentos en el directorio 'Ansiedad'\n",
        "process_docs_in_directory('/content/drive/MyDrive/Experimentación Python Tesis /Experimento por agrupación de usuarios/Usuarios con ansiedad/', vocab)\n",
        "# Procesar documentos en el directorio 'Depresión'\n",
        "process_docs_in_directory('/content/drive/MyDrive/Experimentación Python Tesis /Experimento por agrupación de usuarios/Usarios de depresión 2/', vocab)\n",
        "# Imprimir la longitud del vocabulario y los 50 tokens más comunes\n",
        "print(f'Tokens totales: {len(vocab)}')\n",
        "print('los 50 Tokens más frecuentes')\n",
        "print(vocab.most_common(50))\n"
      ],
      "metadata": {
        "colab": {
          "base_uri": "https://localhost:8080/"
        },
        "id": "H0eHTlzgV75o",
        "outputId": "075ce41c-24ab-49e6-cbbd-bc4bd7896319"
      },
      "execution_count": null,
      "outputs": [
        {
          "output_type": "stream",
          "name": "stdout",
          "text": [
            "Tokens totales: 100085\n",
            "los 50 Tokens más frecuentes\n",
            "[('httpurl', 45669), ('ser', 6363), ('bien', 6156), ('así', 5263), ('quiero', 5254), ('vida', 4876), ('día', 4794), ('solo', 4773), ('ver', 4681), ('voy', 4438), ('hace', 4367), ('gente', 4267), ('siempre', 4208), ('hacer', 4203), ('mejor', 4197), ('tan', 4149), ('vez', 3914), ('ahora', 3755), ('hoy', 3574), ('amo', 3485), ('mas', 3422), ('años', 3402), ('cosas', 3262), ('mal', 3258), ('puede', 2916), ('puedo', 2916), ('tener', 2828), ('verdad', 2730), ('nunca', 2594), ('gracias', 2548), ('alguien', 2515), ('menos', 2485), ('dos', 2427), ('días', 2425), ('mismo', 2339), ('cada', 2262), ('casa', 2250), ('cómo', 2247), ('bueno', 2230), ('tiempo', 2220), ('cuenta', 2218), ('amor', 2212), ('después', 2169), ('siento', 2122), ('personas', 2110), ('nadie', 2096), ('decir', 2090), ('veces', 2087), ('ganas', 2072), ('mundo', 2062)]\n"
          ]
        }
      ]
    },
    {
      "cell_type": "code",
      "source": [
        "#Reducimos el numero de tokens eliminando Tokens que solo tengan 2 o menos frecuencia en las bases de datos\n",
        "umbral = 10 # elimanamos la palabras que tengan 50 o menos frecuencia\n",
        "tokens =[k for k,c in vocab.items() if c >= umbral]\n",
        "print(len(tokens))"
      ],
      "metadata": {
        "id": "o8bdFaQaYnyP",
        "colab": {
          "base_uri": "https://localhost:8080/"
        },
        "outputId": "f359ff70-b0f5-4b9b-88b4-73a35d8dfc3f"
      },
      "execution_count": null,
      "outputs": [
        {
          "output_type": "stream",
          "name": "stdout",
          "text": [
            "13358\n"
          ]
        }
      ]
    },
    {
      "cell_type": "code",
      "source": [
        "# Función para guardar los tokens en una lista de palabras\n",
        "#guardar archivo preparado\n",
        "def save_list(lines, filename):\n",
        "  data = '\\n'.join(lines)\n",
        "  file = open(filename,'w')\n",
        "  file.write(data)\n",
        "  file.close()"
      ],
      "metadata": {
        "id": "sFje3ll76saL"
      },
      "execution_count": null,
      "outputs": []
    },
    {
      "cell_type": "code",
      "source": [
        "#Guardar los tokens en una lista de palabra o bolsa de palabras en un archivo llamdo vocab.txt\n",
        "import string\n",
        "import re\n",
        "from os import listdir\n",
        "from collections import Counter\n",
        "from nltk.corpus import stopwords\n",
        "\n",
        "# Inicializar el contador de vocabulario\n",
        "vocab = Counter()\n",
        "process_docs_in_directory('/content/drive/MyDrive/Experimentación Python Tesis /Experimento por agrupación de usuarios/Usarios de control 2/', vocab)\n",
        "# Procesar documentos en el directorio 'Ansiedad'\n",
        "process_docs_in_directory('/content/drive/MyDrive/Experimentación Python Tesis /Experimento por agrupación de usuarios/Usuarios con ansiedad/', vocab)\n",
        "# Procesar documentos en el directorio 'Depresión'\n",
        "process_docs_in_directory('/content/drive/MyDrive/Experimentación Python Tesis /Experimento por agrupación de usuarios/Usarios de depresión 2/', vocab)\n",
        "print(f'Vocabulario: {len(vocab)}')\n",
        "umbral = 10 # elimanamos la palabras que tengan 10 o menos frecuencia\n",
        "tokens =[k for k,c in vocab.items() if c >= umbral]\n",
        "print(f'Vocabulario con tokens más frecuentes:{len(tokens)}')\n",
        "\n",
        "#Guardar la lista de Vocabulario con los tokens más frecuentes\n",
        "save_list(tokens, '/content/drive/MyDrive/Experimentación Python Tesis /Experimento por agrupación de usuarios/vocab_C.txt')\n"
      ],
      "metadata": {
        "colab": {
          "base_uri": "https://localhost:8080/"
        },
        "id": "tjY6I3B37hMA",
        "outputId": "88c556d1-2bd0-4414-ddd6-d27f4641cffe"
      },
      "execution_count": null,
      "outputs": [
        {
          "output_type": "stream",
          "name": "stdout",
          "text": [
            "Vocabulario: 100085\n",
            "Vocabulario con tokens más frecuentes:13358\n"
          ]
        }
      ]
    },
    {
      "cell_type": "code",
      "source": [
        "archivo = open(\"/content/drive/MyDrive/Experimentación Python Tesis /Experimento por agrupación de usuarios/vocab_C.txt\")\n",
        "print(archivo.read())"
      ],
      "metadata": {
        "id": "ALD1qAQf--Bs"
      },
      "execution_count": null,
      "outputs": []
    },
    {
      "cell_type": "code",
      "source": [
        "import pandas as pd\n",
        "import spacy\n",
        "from spacy.lang.es import Spanish\n",
        "from nltk.corpus import stopwords\n",
        "# Cargar modelo de spaCy\n",
        "nlp = spacy.load(\"es_core_news_sm\")\n",
        "# Función para lematizar y extraer términos\n",
        "\n",
        "# Cargar stopwords en español\n",
        "stopwords_es = set(stopwords.words('spanish'))\n",
        "\n",
        "def extractTerms(text):\n",
        "    # Tokenización y lematización con spaCy\n",
        "    doc = nlp(text)\n",
        "    lemmatized_terms = [token.lemma_ for token in doc if token.text.lower() not in stopwords_es]\n",
        "\n",
        "    return lemmatized_terms"
      ],
      "metadata": {
        "id": "HTrH6He6dI6v"
      },
      "execution_count": null,
      "outputs": []
    },
    {
      "cell_type": "markdown",
      "source": [
        "**Representación de bolsa de palabras (representación vectorial)**"
      ],
      "metadata": {
        "id": "EfuRJnJGlv7a"
      }
    },
    {
      "cell_type": "markdown",
      "source": [
        "*Revisiones a Lineas de Tokens*"
      ],
      "metadata": {
        "id": "GhLs5dqjmYCc"
      }
    },
    {
      "cell_type": "code",
      "source": [
        "def doc_to_line(filename, vocab):\n",
        "  doc = load_doc(filename)\n",
        "  tokens = clean_doc(doc)\n",
        "  tokens = [w for w in tokens if w in vocab]\n",
        "  return ' '.join(tokens)"
      ],
      "metadata": {
        "id": "-1y3UNcplQgV"
      },
      "execution_count": null,
      "outputs": []
    },
    {
      "cell_type": "code",
      "source": [
        "import os\n",
        "import pandas as pd\n",
        "from nltk.classify.senna import path\n",
        "\n",
        "def process_docs(directory, vocab):\n",
        "    lines = []\n",
        "    for filename in os.listdir(directory):\n",
        "        if not filename.endswith('.csv'):\n",
        "            continue\n",
        "        path = os.path.join(directory, filename)\n",
        "\n",
        "        # Cargar el archivo en un DataFrame\n",
        "        data = pd.read_csv(path, sep=',')  # Usamos sep=',' para especificar que el archivo es tsv\n",
        "\n",
        "        # Procesar la columna TWEET_TEXT para obtener los tokens\n",
        "        tokens_list = data['tweet'].apply(clean_doc)\n",
        "        #tokens_list = data['TWEET_TEXT'].apply(extractTerms)\n",
        "\n",
        "        for tokens in tokens_list:\n",
        "            line = ' '.join(tokens)\n",
        "            lines.append(line)\n",
        "\n",
        "    return lines"
      ],
      "metadata": {
        "id": "U9wHwN7TnrKw"
      },
      "execution_count": null,
      "outputs": []
    },
    {
      "cell_type": "code",
      "source": [
        "def load_clean_dataset(vocab):\n",
        "  Cont = process_docs('/content/drive/MyDrive/Experimentación Python Tesis /Experimento por agrupación de usuarios/Usarios de control 2/',vocab)\n",
        "  Ans = process_docs('/content/drive/MyDrive/Experimentación Python Tesis /Experimento por agrupación de usuarios/Usuarios con ansiedad/',vocab)\n",
        "  Dep = process_docs('/content/drive/MyDrive/Experimentación Python Tesis /Experimento por agrupación de usuarios/Usarios de depresión 2/',vocab)\n",
        "  docs = Ans + Cont + Dep\n",
        "\n",
        "  labels = [1 for _ in range(len(Ans))] + [2 for _ in range(len(Dep))] + [0 for _ in range(len(Cont))]\n",
        "  return docs, labels"
      ],
      "metadata": {
        "id": "fTwpI2z8oABs"
      },
      "execution_count": null,
      "outputs": []
    },
    {
      "cell_type": "code",
      "source": [
        "vocab_filename = '/content/drive/MyDrive/Experimentación Python Tesis /Experimento por agrupación de usuarios/vocab_C.txt'\n",
        "with open(vocab_filename, 'r') as file:\n",
        "    vocab_content = file.read()\n",
        "\n",
        "vocab = vocab_content.split()\n",
        "vocab = set(vocab)\n",
        "print(vocab)\n"
      ],
      "metadata": {
        "id": "VabYxNeVo5e9"
      },
      "execution_count": null,
      "outputs": []
    },
    {
      "cell_type": "markdown",
      "source": [
        "*Revisiones de los tweets a vectores de bolsa de palabras*"
      ],
      "metadata": {
        "id": "ba4tH-6Tp8IT"
      }
    },
    {
      "cell_type": "code",
      "source": [
        "# implementamos todo pero usando directamente las funciones creadas\n",
        "import string\n",
        "import re\n",
        "from os import listdir\n",
        "from collections import Counter\n",
        "from nltk.corpus import stopwords\n",
        "\n",
        "docs, labels = load_clean_dataset(vocab)\n",
        "print(len(docs), len(labels))"
      ],
      "metadata": {
        "colab": {
          "base_uri": "https://localhost:8080/"
        },
        "id": "D6rbIJDep7jj",
        "outputId": "0b157913-2263-427c-89b1-0e291f93c85e"
      },
      "execution_count": null,
      "outputs": [
        {
          "output_type": "stream",
          "name": "stdout",
          "text": [
            "197248 197248\n"
          ]
        }
      ]
    },
    {
      "cell_type": "markdown",
      "source": [
        "**Convertir y tranformar el documento a vectores codigicados**"
      ],
      "metadata": {
        "id": "Z3b-8ljcq-k3"
      }
    },
    {
      "cell_type": "code",
      "source": [
        "from keras.preprocessing.text import Tokenizer\n",
        "def create_tokenizer(lines):\n",
        "  tokenizer = Tokenizer()\n",
        "  tokenizer.fit_on_texts(lines)\n",
        "  return tokenizer"
      ],
      "metadata": {
        "id": "1CVD2aFtq5N7"
      },
      "execution_count": null,
      "outputs": []
    },
    {
      "cell_type": "code",
      "source": [
        "def process_docs(directory, vocab, is_train):\n",
        "    lines = list()\n",
        "    for filename in os.listdir(directory):\n",
        "        if is_train and filename.startswith('(72)'):\n",
        "            continue  # Omitir archivos de prueba en el conjunto de entrenamiento\n",
        "        if not is_train and not filename.startswith('(72)'):\n",
        "            continue  # Omitir archivos de entrenamiento en el conjunto de prueba\n",
        "        path = os.path.join(directory, filename)\n",
        "        doc = load_doc(path)\n",
        "        line = doc_to_line(doc, vocab)\n",
        "        lines.append(line)\n",
        "    return lines"
      ],
      "metadata": {
        "id": "2EjjOY4CtKGF"
      },
      "execution_count": null,
      "outputs": []
    },
    {
      "cell_type": "code",
      "source": [
        "import array\n",
        "#Del mismo modo, la función load_clean_dataset() debe actualizarse para cargar el entrenamiento o prueba\n",
        "# y asegúrarse de que devuelva una matriz Numpy\n",
        "def load_clean_dataset(vocab, is_train):\n",
        "  Ans = process_docs('/content/drive/MyDrive/Experimentación Python Tesis /Experimento por agrupación de usuarios/Usuarios con ansiedad/', vocab, is_train)\n",
        "  Cont = process_docs('/content/drive/MyDrive/Experimentación Python Tesis /Experimento por agrupación de usuarios/Usarios de control 2/', vocab, is_train)\n",
        "  Dep = process_docs('/content/drive/MyDrive/Experimentación Python Tesis /Experimento por agrupación de usuarios/Usarios de depresión 2/', vocab, is_train)\n",
        "  docs = Ans + Cont +Dep\n",
        "  labels = np.array([2 for _ in range(len(Ans))] + [1 for _ in range(len(Dep))] + [0 for _ in range(len(Cont))])\n",
        "  return docs, labels"
      ],
      "metadata": {
        "id": "lmjhudEytddp"
      },
      "execution_count": null,
      "outputs": []
    },
    {
      "cell_type": "code",
      "source": [
        "def process_docs(directory, vocab, is_train):\n",
        "    lines = list()\n",
        "    for filename in os.listdir(directory):\n",
        "        path = os.path.join(directory, filename)\n",
        "        if os.path.isfile(path):  # Verificar si es un archivo antes de procesarlo\n",
        "            doc = load_doc(path)\n",
        "            line = ' '.join(clean_doc(doc))\n",
        "            lines.append(line)\n",
        "    return lines\n",
        "\n",
        "def load_doc(filename):\n",
        "    with open(filename, 'r') as file:\n",
        "        text = file.read()\n",
        "    return text\n"
      ],
      "metadata": {
        "id": "F7IIABcBuG8p"
      },
      "execution_count": null,
      "outputs": []
    },
    {
      "cell_type": "markdown",
      "source": [
        "**Modelo análisis de texto**"
      ],
      "metadata": {
        "id": "42176aZnCQAz"
      }
    },
    {
      "cell_type": "code",
      "source": [
        "import os\n",
        "import joblib\n",
        "import numpy as np\n",
        "from sklearn.metrics import accuracy_score, precision_score, recall_score, f1_score\n",
        "from sklearn.model_selection import train_test_split\n",
        "\n",
        "from sklearn.model_selection import StratifiedKFold\n",
        "from sklearn.model_selection import cross_val_score\n",
        "from sklearn.metrics import make_scorer\n",
        "\n",
        "# Cargar los datos limpios (entrenamiento y prueba)\n",
        "vocab_filename = '/content/drive/MyDrive/Experimentación Python Tesis /Experimento por agrupación de usuarios/vocab_C.txt'\n",
        "vocab = load_doc(vocab_filename)\n",
        "vocab = set(vocab.split())\n",
        "\n",
        "train_docs, y = load_clean_dataset(vocab, True)\n",
        "\n",
        "\n",
        "tokenizer = create_tokenizer(train_docs)\n",
        "x = tokenizer.texts_to_matrix(train_docs, mode='binary')\n",
        "\n",
        "\n",
        "# Dividir los datos en conjuntos de entrenamiento (70%) y validación (30%)\n",
        "X_train, X_val, y_train, y_val = train_test_split(x, y, test_size=0.3, random_state=20)\n"
      ],
      "metadata": {
        "id": "mvWsv2RAYdTL"
      },
      "execution_count": null,
      "outputs": []
    },
    {
      "cell_type": "code",
      "source": [
        "print(X_train.shape)\n",
        "print(X_val.shape)\n",
        "print(y_train.shape)\n",
        "print(y_val.shape)"
      ],
      "metadata": {
        "colab": {
          "base_uri": "https://localhost:8080/"
        },
        "id": "vOwtPn3jcS_z",
        "outputId": "84439205-5b1a-494f-af9b-2f7bfbd697e3"
      },
      "execution_count": null,
      "outputs": [
        {
          "output_type": "stream",
          "name": "stdout",
          "text": [
            "(189, 106877)\n",
            "(81, 106877)\n",
            "(189,)\n",
            "(81,)\n"
          ]
        }
      ]
    },
    {
      "cell_type": "code",
      "source": [
        "y_train"
      ],
      "metadata": {
        "colab": {
          "base_uri": "https://localhost:8080/"
        },
        "id": "7R8WSjEmdE_Z",
        "outputId": "46ab998c-0dbf-493e-e9fa-4b78f2f11556"
      },
      "execution_count": null,
      "outputs": [
        {
          "output_type": "execute_result",
          "data": {
            "text/plain": [
              "array([0, 2, 0, 0, 1, 2, 1, 2, 1, 1, 1, 0, 0, 1, 0, 2, 0, 0, 0, 2, 2, 1,\n",
              "       1, 1, 2, 2, 0, 2, 2, 0, 1, 0, 2, 0, 1, 1, 1, 2, 1, 0, 2, 0, 1, 2,\n",
              "       0, 1, 2, 2, 2, 1, 2, 0, 0, 1, 0, 2, 1, 1, 1, 2, 2, 2, 1, 1, 1, 2,\n",
              "       2, 2, 1, 1, 1, 2, 0, 1, 1, 1, 2, 1, 2, 1, 1, 1, 1, 0, 2, 1, 2, 0,\n",
              "       1, 1, 2, 0, 2, 1, 0, 2, 2, 0, 2, 2, 1, 1, 2, 1, 1, 1, 2, 0, 0, 0,\n",
              "       2, 1, 1, 1, 1, 0, 2, 0, 0, 2, 0, 2, 2, 1, 2, 0, 2, 0, 0, 1, 2, 0,\n",
              "       2, 1, 1, 2, 2, 0, 0, 1, 1, 0, 0, 0, 0, 0, 2, 0, 0, 2, 1, 0, 2, 2,\n",
              "       2, 0, 0, 2, 2, 1, 0, 0, 2, 0, 2, 0, 0, 1, 2, 0, 0, 1, 2, 2, 0, 0,\n",
              "       1, 1, 0, 0, 0, 0, 0, 2, 1, 1, 2, 0, 0])"
            ]
          },
          "metadata": {},
          "execution_count": 126
        }
      ]
    },
    {
      "cell_type": "code",
      "source": [
        "X_train"
      ],
      "metadata": {
        "colab": {
          "base_uri": "https://localhost:8080/"
        },
        "id": "2AaukQOldJB3",
        "outputId": "05918f1a-4466-4fa7-ecc9-f29381a90da4"
      },
      "execution_count": null,
      "outputs": [
        {
          "output_type": "execute_result",
          "data": {
            "text/plain": [
              "array([[0., 1., 0., ..., 0., 0., 0.],\n",
              "       [0., 1., 0., ..., 0., 0., 0.],\n",
              "       [0., 0., 0., ..., 0., 0., 0.],\n",
              "       ...,\n",
              "       [0., 1., 1., ..., 0., 0., 0.],\n",
              "       [0., 1., 0., ..., 0., 0., 0.],\n",
              "       [0., 1., 0., ..., 0., 0., 0.]])"
            ]
          },
          "metadata": {},
          "execution_count": 125
        }
      ]
    },
    {
      "cell_type": "markdown",
      "source": [
        "#Redución de dimensionalidad con LDA"
      ],
      "metadata": {
        "id": "eGsKoqVhzZyn"
      }
    },
    {
      "cell_type": "code",
      "source": [
        "from sklearn.decomposition import LatentDirichletAllocation as LDA\n",
        "# Aplicar LDA para reducir la dimensionalidad\n",
        "n_topics = 70  # Define el número de tópicos (componentes)\n",
        "lda = LDA(n_components=n_topics)\n",
        "X_train = lda.fit_transform(X_train, y_train)\n",
        "X_val = lda.transform(X_val)"
      ],
      "metadata": {
        "id": "NXK8Vs6Ez8Qx"
      },
      "execution_count": null,
      "outputs": []
    },
    {
      "cell_type": "code",
      "source": [
        "print(X_train.shape)\n",
        "print(X_val.shape)\n",
        "print(y_train.shape)\n",
        "print(y_val.shape)"
      ],
      "metadata": {
        "colab": {
          "base_uri": "https://localhost:8080/"
        },
        "id": "XPqrFRMw97fT",
        "outputId": "0084beb6-f595-4255-908b-b0810b6e8b40"
      },
      "execution_count": null,
      "outputs": [
        {
          "output_type": "stream",
          "name": "stdout",
          "text": [
            "(189, 70)\n",
            "(81, 70)\n",
            "(189,)\n",
            "(81,)\n"
          ]
        }
      ]
    },
    {
      "cell_type": "code",
      "source": [
        "y_train"
      ],
      "metadata": {
        "colab": {
          "base_uri": "https://localhost:8080/"
        },
        "id": "a7iJAzWddb6f",
        "outputId": "7e8a3176-ffb2-44e1-8462-b7e4165847aa"
      },
      "execution_count": null,
      "outputs": [
        {
          "output_type": "execute_result",
          "data": {
            "text/plain": [
              "array([0, 2, 0, 0, 1, 2, 1, 2, 1, 1, 1, 0, 0, 1, 0, 2, 0, 0, 0, 2, 2, 1,\n",
              "       1, 1, 2, 2, 0, 2, 2, 0, 1, 0, 2, 0, 1, 1, 1, 2, 1, 0, 2, 0, 1, 2,\n",
              "       0, 1, 2, 2, 2, 1, 2, 0, 0, 1, 0, 2, 1, 1, 1, 2, 2, 2, 1, 1, 1, 2,\n",
              "       2, 2, 1, 1, 1, 2, 0, 1, 1, 1, 2, 1, 2, 1, 1, 1, 1, 0, 2, 1, 2, 0,\n",
              "       1, 1, 2, 0, 2, 1, 0, 2, 2, 0, 2, 2, 1, 1, 2, 1, 1, 1, 2, 0, 0, 0,\n",
              "       2, 1, 1, 1, 1, 0, 2, 0, 0, 2, 0, 2, 2, 1, 2, 0, 2, 0, 0, 1, 2, 0,\n",
              "       2, 1, 1, 2, 2, 0, 0, 1, 1, 0, 0, 0, 0, 0, 2, 0, 0, 2, 1, 0, 2, 2,\n",
              "       2, 0, 0, 2, 2, 1, 0, 0, 2, 0, 2, 0, 0, 1, 2, 0, 0, 1, 2, 2, 0, 0,\n",
              "       1, 1, 0, 0, 0, 0, 0, 2, 1, 1, 2, 0, 0])"
            ]
          },
          "metadata": {},
          "execution_count": 129
        }
      ]
    },
    {
      "cell_type": "code",
      "source": [
        "X_train"
      ],
      "metadata": {
        "colab": {
          "base_uri": "https://localhost:8080/"
        },
        "id": "G52T24Uidf-m",
        "outputId": "30b5cda4-3b38-48e5-bf30-c553a54c01a3"
      },
      "execution_count": null,
      "outputs": [
        {
          "output_type": "execute_result",
          "data": {
            "text/plain": [
              "array([[5.25596552e-06, 5.25596552e-06, 5.25596552e-06, ...,\n",
              "        5.25596552e-06, 5.25596552e-06, 5.25596552e-06],\n",
              "       [7.60282825e-06, 7.60282825e-06, 7.60282825e-06, ...,\n",
              "        7.60282825e-06, 7.60282825e-06, 7.60282825e-06],\n",
              "       [4.55975560e-06, 4.55975560e-06, 4.55975560e-06, ...,\n",
              "        4.55975560e-06, 4.55975560e-06, 4.55975560e-06],\n",
              "       ...,\n",
              "       [5.13320671e-06, 5.13320671e-06, 5.13320671e-06, ...,\n",
              "        5.13320671e-06, 5.13320671e-06, 5.13320671e-06],\n",
              "       [3.99936010e-06, 3.99936010e-06, 3.99936010e-06, ...,\n",
              "        3.99936010e-06, 3.99936010e-06, 3.99936010e-06],\n",
              "       [8.79662210e-06, 8.79662210e-06, 8.79662210e-06, ...,\n",
              "        8.79662210e-06, 8.79662210e-06, 8.79662210e-06]])"
            ]
          },
          "metadata": {},
          "execution_count": 130
        }
      ]
    },
    {
      "cell_type": "markdown",
      "source": [
        "#Red neuronal"
      ],
      "metadata": {
        "id": "biZew38mWzN_"
      }
    },
    {
      "cell_type": "code",
      "source": [
        "from keras.utils import to_categorical\n",
        "from tensorflow.keras.optimizers import Adam\n",
        "from tensorflow.keras.losses import CategoricalCrossentropy\n",
        "from tensorflow.keras.metrics import CategoricalAccuracy\n",
        "# Crear una red neuronal secuencial\n",
        "model = Sequential()\n",
        "\n",
        "# Agregar una capa de entrada con el número de características (vocabulario) en tu matriz TF-IDF\n",
        "model.add(Dense(328, activation='relu', input_dim=X_train.shape[1]))\n",
        "model.add(Dropout(0.1))  # Dropout para regularización\n",
        "\n",
        "# Agregar una capa oculta\n",
        "model.add(Dense(164, activation='relu'))\n",
        "model.add(Dropout(0.1))  # Dropout para regularización\n",
        "# Convertir las etiquetas en codificación one-hot\n",
        "num_classes = 3  # Número de clases\n",
        "y_train_one_hot = to_categorical(y_train, num_classes)\n",
        "y_val_one_hot = to_categorical(y_val, num_classes)\n",
        "\n",
        "# Crear una red neuronal secuencial\n",
        "model = Sequential()\n",
        "\n",
        "# Agregar una capa de entrada con el número de características en X_train\n",
        "model.add(Dense(328, activation='relu', input_dim=X_train.shape[1]))\n",
        "model.add(Dropout(0.2))  # Dropout para regularización\n",
        "\n",
        "# Agregar una capa oculta\n",
        "model.add(Dense(264, activation='relu'))\n",
        "model.add(Dropout(0.2))  # Dropout para regularización\n",
        "# Agregar una capa oculta\n",
        "model.add(Dense(164, activation='relu'))\n",
        "model.add(Dropout(0.2))  # Dropout para regularización\n",
        "model.add(Dense(164, activation='relu'))\n",
        "model.add(Dropout(0.2))  # Dropout para regularización\n",
        "\n",
        "# Agregar una capa de salida con el número de clases en tu clasificación multiclase\n",
        "model.add(Dense(num_classes, activation='softmax'))\n",
        "\n",
        "# Compilar el modelo\n",
        "model.compile(optimizer=Adam(learning_rate=0.001), loss=CategoricalCrossentropy(), metrics=[CategoricalAccuracy()])\n",
        "\n",
        "# Entrenar el modelo en los datos de entrenamiento\n",
        "history = model.fit(X_train, y_train_one_hot, epochs=50, batch_size=30, validation_data=(X_val, y_val_one_hot))\n",
        "\n",
        "y_val_pred = model.predict(X_val)\n",
        "\n",
        "y_val_pred_class = y_val_pred.argmax(axis=1)  # Obtener la clase con la mayor probabilidad\n",
        "y_val_true_class = y_val_one_hot.argmax(axis=1)  # Usar y_val_one_hot en lugar de y_val si está codificado en one-hot\n",
        "\n",
        "accuracy = accuracy_score(y_val_true_class, y_val_pred_class)\n",
        "precision = precision_score(y_val_true_class, y_val_pred_class, average='macro')\n",
        "recall = recall_score(y_val_true_class, y_val_pred_class, average='macro')\n",
        "f1 = f1_score(y_val_true_class, y_val_pred_class, average='macro')\n",
        "\n",
        "y_train_pred = model.predict(X_train)\n",
        "\n",
        "# Calcular métricas de evaluación en el conjunto de entrenamiento\n",
        "y_train_pred_class = y_train_pred.argmax(axis=1)  # Obtener la clase con la mayor probabilidad\n",
        "y_train_true_class = y_train_one_hot.argmax(axis=1)  # Usar y_train_one_hot en lugar de y_train si está codificado en one-hot\n",
        "\n",
        "accuracy_train = accuracy_score(y_train_true_class, y_train_pred_class)\n",
        "precision_train = precision_score(y_train_true_class, y_train_pred_class, average='macro')\n",
        "recall_train = recall_score(y_train_true_class, y_train_pred_class, average='macro')\n",
        "f1_train = f1_score(y_train_true_class, y_train_pred_class, average='macro')"
      ],
      "metadata": {
        "colab": {
          "base_uri": "https://localhost:8080/"
        },
        "id": "A76ubucGY005",
        "outputId": "01adb597-b7e9-442f-e0bd-21c8d316fdbb"
      },
      "execution_count": null,
      "outputs": [
        {
          "output_type": "stream",
          "name": "stdout",
          "text": [
            "Epoch 1/50\n",
            "7/7 [==============================] - 1s 39ms/step - loss: 1.0999 - categorical_accuracy: 0.3704 - val_loss: 1.1001 - val_categorical_accuracy: 0.3210\n",
            "Epoch 2/50\n",
            "7/7 [==============================] - 0s 10ms/step - loss: 1.0874 - categorical_accuracy: 0.4021 - val_loss: 1.1025 - val_categorical_accuracy: 0.3210\n",
            "Epoch 3/50\n",
            "7/7 [==============================] - 0s 10ms/step - loss: 1.0747 - categorical_accuracy: 0.3862 - val_loss: 1.1095 - val_categorical_accuracy: 0.3951\n",
            "Epoch 4/50\n",
            "7/7 [==============================] - 0s 15ms/step - loss: 1.0639 - categorical_accuracy: 0.3968 - val_loss: 1.1174 - val_categorical_accuracy: 0.3333\n",
            "Epoch 5/50\n",
            "7/7 [==============================] - 0s 13ms/step - loss: 1.0304 - categorical_accuracy: 0.4656 - val_loss: 1.1157 - val_categorical_accuracy: 0.3210\n",
            "Epoch 6/50\n",
            "7/7 [==============================] - 0s 10ms/step - loss: 1.0153 - categorical_accuracy: 0.4815 - val_loss: 1.1381 - val_categorical_accuracy: 0.3210\n",
            "Epoch 7/50\n",
            "7/7 [==============================] - 0s 10ms/step - loss: 0.9817 - categorical_accuracy: 0.4868 - val_loss: 1.1436 - val_categorical_accuracy: 0.3210\n",
            "Epoch 8/50\n",
            "7/7 [==============================] - 0s 9ms/step - loss: 0.9759 - categorical_accuracy: 0.4656 - val_loss: 1.1526 - val_categorical_accuracy: 0.3210\n",
            "Epoch 9/50\n",
            "7/7 [==============================] - 0s 9ms/step - loss: 0.9333 - categorical_accuracy: 0.5132 - val_loss: 1.1160 - val_categorical_accuracy: 0.3827\n",
            "Epoch 10/50\n",
            "7/7 [==============================] - 0s 9ms/step - loss: 0.9087 - categorical_accuracy: 0.5556 - val_loss: 1.1217 - val_categorical_accuracy: 0.3333\n",
            "Epoch 11/50\n",
            "7/7 [==============================] - 0s 9ms/step - loss: 0.9120 - categorical_accuracy: 0.5238 - val_loss: 1.2548 - val_categorical_accuracy: 0.3210\n",
            "Epoch 12/50\n",
            "7/7 [==============================] - 0s 9ms/step - loss: 0.9093 - categorical_accuracy: 0.5608 - val_loss: 1.0258 - val_categorical_accuracy: 0.4691\n",
            "Epoch 13/50\n",
            "7/7 [==============================] - 0s 9ms/step - loss: 0.8872 - categorical_accuracy: 0.5661 - val_loss: 1.2993 - val_categorical_accuracy: 0.3210\n",
            "Epoch 14/50\n",
            "7/7 [==============================] - 0s 9ms/step - loss: 0.9388 - categorical_accuracy: 0.5397 - val_loss: 1.2597 - val_categorical_accuracy: 0.4074\n",
            "Epoch 15/50\n",
            "7/7 [==============================] - 0s 9ms/step - loss: 0.8524 - categorical_accuracy: 0.5608 - val_loss: 1.0506 - val_categorical_accuracy: 0.4198\n",
            "Epoch 16/50\n",
            "7/7 [==============================] - 0s 10ms/step - loss: 0.8388 - categorical_accuracy: 0.5556 - val_loss: 1.1961 - val_categorical_accuracy: 0.3210\n",
            "Epoch 17/50\n",
            "7/7 [==============================] - 0s 9ms/step - loss: 0.8122 - categorical_accuracy: 0.6085 - val_loss: 1.1080 - val_categorical_accuracy: 0.4198\n",
            "Epoch 18/50\n",
            "7/7 [==============================] - 0s 11ms/step - loss: 0.8000 - categorical_accuracy: 0.5608 - val_loss: 1.0926 - val_categorical_accuracy: 0.4568\n",
            "Epoch 19/50\n",
            "7/7 [==============================] - 0s 10ms/step - loss: 0.7973 - categorical_accuracy: 0.5873 - val_loss: 1.1539 - val_categorical_accuracy: 0.3827\n",
            "Epoch 20/50\n",
            "7/7 [==============================] - 0s 9ms/step - loss: 0.7634 - categorical_accuracy: 0.5979 - val_loss: 1.1467 - val_categorical_accuracy: 0.3951\n",
            "Epoch 21/50\n",
            "7/7 [==============================] - 0s 9ms/step - loss: 0.7528 - categorical_accuracy: 0.6032 - val_loss: 1.3069 - val_categorical_accuracy: 0.3333\n",
            "Epoch 22/50\n",
            "7/7 [==============================] - 0s 9ms/step - loss: 0.7127 - categorical_accuracy: 0.6614 - val_loss: 1.0121 - val_categorical_accuracy: 0.4691\n",
            "Epoch 23/50\n",
            "7/7 [==============================] - 0s 9ms/step - loss: 0.7518 - categorical_accuracy: 0.6243 - val_loss: 1.2944 - val_categorical_accuracy: 0.3580\n",
            "Epoch 24/50\n",
            "7/7 [==============================] - 0s 9ms/step - loss: 0.7217 - categorical_accuracy: 0.6667 - val_loss: 1.1571 - val_categorical_accuracy: 0.3827\n",
            "Epoch 25/50\n",
            "7/7 [==============================] - 0s 9ms/step - loss: 0.6945 - categorical_accuracy: 0.6720 - val_loss: 1.2768 - val_categorical_accuracy: 0.4568\n",
            "Epoch 26/50\n",
            "7/7 [==============================] - 0s 9ms/step - loss: 0.7112 - categorical_accuracy: 0.6614 - val_loss: 1.1535 - val_categorical_accuracy: 0.4568\n",
            "Epoch 27/50\n",
            "7/7 [==============================] - 0s 9ms/step - loss: 0.6972 - categorical_accuracy: 0.6455 - val_loss: 1.2950 - val_categorical_accuracy: 0.3827\n",
            "Epoch 28/50\n",
            "7/7 [==============================] - 0s 9ms/step - loss: 0.7130 - categorical_accuracy: 0.6402 - val_loss: 1.0718 - val_categorical_accuracy: 0.3951\n",
            "Epoch 29/50\n",
            "7/7 [==============================] - 0s 10ms/step - loss: 0.7118 - categorical_accuracy: 0.6402 - val_loss: 1.2668 - val_categorical_accuracy: 0.4198\n",
            "Epoch 30/50\n",
            "7/7 [==============================] - 0s 9ms/step - loss: 0.6642 - categorical_accuracy: 0.6772 - val_loss: 1.1028 - val_categorical_accuracy: 0.5309\n",
            "Epoch 31/50\n",
            "7/7 [==============================] - 0s 9ms/step - loss: 0.6752 - categorical_accuracy: 0.6825 - val_loss: 1.2283 - val_categorical_accuracy: 0.4321\n",
            "Epoch 32/50\n",
            "7/7 [==============================] - 0s 10ms/step - loss: 0.6754 - categorical_accuracy: 0.6349 - val_loss: 1.2336 - val_categorical_accuracy: 0.3580\n",
            "Epoch 33/50\n",
            "7/7 [==============================] - 0s 9ms/step - loss: 0.6962 - categorical_accuracy: 0.7037 - val_loss: 1.1455 - val_categorical_accuracy: 0.3951\n",
            "Epoch 34/50\n",
            "7/7 [==============================] - 0s 10ms/step - loss: 0.6689 - categorical_accuracy: 0.6984 - val_loss: 1.2592 - val_categorical_accuracy: 0.3827\n",
            "Epoch 35/50\n",
            "7/7 [==============================] - 0s 9ms/step - loss: 0.6326 - categorical_accuracy: 0.7037 - val_loss: 1.1398 - val_categorical_accuracy: 0.3951\n",
            "Epoch 36/50\n",
            "7/7 [==============================] - 0s 9ms/step - loss: 0.6219 - categorical_accuracy: 0.7249 - val_loss: 1.1787 - val_categorical_accuracy: 0.4198\n",
            "Epoch 37/50\n",
            "7/7 [==============================] - 0s 9ms/step - loss: 0.6573 - categorical_accuracy: 0.6720 - val_loss: 1.2350 - val_categorical_accuracy: 0.4568\n",
            "Epoch 38/50\n",
            "7/7 [==============================] - 0s 9ms/step - loss: 0.6083 - categorical_accuracy: 0.7090 - val_loss: 1.2100 - val_categorical_accuracy: 0.3704\n",
            "Epoch 39/50\n",
            "7/7 [==============================] - 0s 9ms/step - loss: 0.6215 - categorical_accuracy: 0.7037 - val_loss: 1.1942 - val_categorical_accuracy: 0.3704\n",
            "Epoch 40/50\n",
            "7/7 [==============================] - 0s 9ms/step - loss: 0.6684 - categorical_accuracy: 0.7090 - val_loss: 1.0680 - val_categorical_accuracy: 0.5062\n",
            "Epoch 41/50\n",
            "7/7 [==============================] - 0s 9ms/step - loss: 0.6165 - categorical_accuracy: 0.6720 - val_loss: 1.4534 - val_categorical_accuracy: 0.3333\n",
            "Epoch 42/50\n",
            "7/7 [==============================] - 0s 9ms/step - loss: 0.6340 - categorical_accuracy: 0.7037 - val_loss: 1.1821 - val_categorical_accuracy: 0.4198\n",
            "Epoch 43/50\n",
            "7/7 [==============================] - 0s 9ms/step - loss: 0.6487 - categorical_accuracy: 0.6984 - val_loss: 1.2171 - val_categorical_accuracy: 0.3951\n",
            "Epoch 44/50\n",
            "7/7 [==============================] - 0s 10ms/step - loss: 0.5819 - categorical_accuracy: 0.7513 - val_loss: 1.0858 - val_categorical_accuracy: 0.4074\n",
            "Epoch 45/50\n",
            "7/7 [==============================] - 0s 10ms/step - loss: 0.6350 - categorical_accuracy: 0.7302 - val_loss: 1.3417 - val_categorical_accuracy: 0.4321\n",
            "Epoch 46/50\n",
            "7/7 [==============================] - 0s 9ms/step - loss: 0.5730 - categorical_accuracy: 0.6931 - val_loss: 1.0766 - val_categorical_accuracy: 0.4444\n",
            "Epoch 47/50\n",
            "7/7 [==============================] - 0s 9ms/step - loss: 0.5690 - categorical_accuracy: 0.7196 - val_loss: 1.3143 - val_categorical_accuracy: 0.3704\n",
            "Epoch 48/50\n",
            "7/7 [==============================] - 0s 10ms/step - loss: 0.5947 - categorical_accuracy: 0.7090 - val_loss: 1.3126 - val_categorical_accuracy: 0.4321\n",
            "Epoch 49/50\n",
            "7/7 [==============================] - 0s 9ms/step - loss: 0.5319 - categorical_accuracy: 0.7460 - val_loss: 1.0750 - val_categorical_accuracy: 0.4568\n",
            "Epoch 50/50\n",
            "7/7 [==============================] - 0s 10ms/step - loss: 0.5430 - categorical_accuracy: 0.7196 - val_loss: 1.2143 - val_categorical_accuracy: 0.4938\n",
            "3/3 [==============================] - 0s 3ms/step\n",
            "6/6 [==============================] - 0s 2ms/step\n"
          ]
        }
      ]
    },
    {
      "cell_type": "code",
      "source": [
        "# Imprimir métricas de entrenamiento\n",
        "print(\"\\nMétricas en el conjunto de entrenamiento:\")\n",
        "print(f\"Exactitud (entrenamiento): {round(accuracy_train, 2) * 100}%\")\n",
        "print(f\"Precisión (entrenamiento): {round(precision_train, 2) * 100}%\")\n",
        "print(f\"Recall (entrenamiento): {round(recall_train, 2) * 100}%\")\n",
        "print(f\"F1-score (entrenamiento): {round(f1_train, 2) * 100}%\")\n",
        "print('-------------------------------------------------------------------------')\n",
        "# Imprimir métricas de evaluación\n",
        "print(f\"Exactitud en el conjunto de validación: {round(accuracy, 2) * 100}%\")\n",
        "print(f\"Precisión en el conjunto de validación: {round(precision, 2) * 100}%\")\n",
        "print(f\"Recall en el conjunto de validación: {round(recall, 2) * 100}%\")\n",
        "print(f\"F1-score en el conjunto de validación: {round(f1, 2) * 100}%\")"
      ],
      "metadata": {
        "colab": {
          "base_uri": "https://localhost:8080/"
        },
        "id": "hXVDgU6vY6IL",
        "outputId": "a9dc3baf-7883-4b90-b022-1448ce5f5d69"
      },
      "execution_count": null,
      "outputs": [
        {
          "output_type": "stream",
          "name": "stdout",
          "text": [
            "\n",
            "Métricas en el conjunto de entrenamiento:\n",
            "Exactitud (entrenamiento): 77.0%\n",
            "Precisión (entrenamiento): 79.0%\n",
            "Recall (entrenamiento): 77.0%\n",
            "F1-score (entrenamiento): 76.0%\n",
            "-------------------------------------------------------------------------\n",
            "Exactitud en el conjunto de validación: 56.99999999999999%\n",
            "Precisión en el conjunto de validación: 76.0%\n",
            "Recall en el conjunto de validación: 56.99999999999999%\n",
            "F1-score en el conjunto de validación: 56.00000000000001%\n"
          ]
        }
      ]
    },
    {
      "cell_type": "markdown",
      "source": [
        "# **Matriz de confusión**"
      ],
      "metadata": {
        "id": "zrnag9LChBJk"
      }
    },
    {
      "cell_type": "code",
      "source": [
        "from sklearn.metrics import confusion_matrix\n",
        "\n",
        "cm = confusion_matrix(y_train_true_class, y_train_pred_class)\n",
        "\n",
        "# Imprimir la matriz de confusión\n",
        "print(\"Matriz de Confusión:\")\n",
        "print(cm)\n",
        "26 0 2\n",
        "3 20 5\n",
        "9 0 19"
      ],
      "metadata": {
        "colab": {
          "base_uri": "https://localhost:8080/"
        },
        "id": "7jAmF9ruhK_z",
        "outputId": "710d6a4f-0169-440c-eed2-13d063567ce6"
      },
      "execution_count": null,
      "outputs": [
        {
          "output_type": "stream",
          "name": "stdout",
          "text": [
            "Matriz de Confusión:\n",
            "[[58  1  5]\n",
            " [ 7 44 11]\n",
            " [19  2 42]]\n"
          ]
        }
      ]
    },
    {
      "cell_type": "code",
      "source": [
        "import seaborn as sns\n",
        "import matplotlib.pyplot as plt\n",
        "\n",
        "# Definir etiquetas de las clases\n",
        "classes = ['Control', 'Depresión', 'Ansiedad']\n",
        "\n",
        "# Crear un mapa de calor de la matriz de confusión\n",
        "plt.figure(figsize=(8, 6))\n",
        "sns.heatmap(cm, annot=True, fmt='d', cmap='Blues', xticklabels=classes, yticklabels=classes)\n",
        "\n",
        "# Agregar etiquetas y título\n",
        "plt.xlabel('Clases Predichas')\n",
        "plt.ylabel('Clases Reales')\n",
        "plt.title('Matriz de Confusión')\n",
        "\n",
        "plt.show()"
      ],
      "metadata": {
        "colab": {
          "base_uri": "https://localhost:8080/",
          "height": 565
        },
        "id": "JkILkBO4hc1r",
        "outputId": "9bab5b3a-099d-4208-c63b-d48661271a34"
      },
      "execution_count": null,
      "outputs": [
        {
          "output_type": "display_data",
          "data": {
            "text/plain": [
              "<Figure size 800x600 with 2 Axes>"
            ],
            "image/png": "[encoded data removed]"
          },
          "metadata": {}
        }
      ]
    },
    {
      "cell_type": "markdown",
      "source": [
        "#Modelo Arbol Aleatorio"
      ],
      "metadata": {
        "id": "Jr7wkaLH8D9Y"
      }
    },
    {
      "cell_type": "code",
      "source": [
        "from sklearn.ensemble import RandomForestClassifier\n",
        "from sklearn.metrics import accuracy_score, precision_score, recall_score, f1_score\n",
        "from sklearn.model_selection import train_test_split\n",
        "\n",
        "# Crea un modelo de Random Forest\n",
        "random_forest_model = RandomForestClassifier(\n",
        "    n_estimators=1000,  # Número de árboles\n",
        "    max_depth=1000,  # Profundidad máxima de los árboles\n",
        "    random_state=20,  # Semilla aleatoria para reproducibilidad\n",
        "    n_jobs=-1  # Utilizar todos los núcleos de la CPU para procesamiento en paralelo\n",
        ")\n",
        "\n",
        "# Entrena el modelo con los datos de entrenamiento\n",
        "random_forest_model.fit(X_train, y_train)\n",
        "\n",
        "# Realiza predicciones en los datos de validación\n",
        "y_val_pred = random_forest_model.predict(X_val)\n",
        "\n",
        "# Calcula e imprime la precisión del modelo en los datos de validación\n",
        "accuracy = accuracy_score(y_val, y_val_pred)\n",
        "print(\"Precisión (Validación): {:.2f}\".format(accuracy))\n",
        "\n",
        "# Calcula e imprime la precisión del modelo en los datos de validación\n",
        "precision = precision_score(y_val, y_val_pred, average='weighted')\n",
        "print(\"Precisión (Validación): {:.2f}\".format(precision))\n",
        "\n",
        "# Calcula e imprime la exhaustividad del modelo en los datos de validación\n",
        "recall = recall_score(y_val, y_val_pred, average='weighted')\n",
        "print(\"Exhaustividad (Validación): {:.2f}\".format(recall))\n",
        "\n",
        "# Calcula e imprime la puntuación F1 del modelo en los datos de validación\n",
        "f1 = f1_score(y_val, y_val_pred, average='weighted')\n",
        "print(\"Puntuación F1 (Validación): {:.2f}\".format(f1))\n",
        "\n",
        "# Calcula e imprime métricas en el conjunto de entrenamiento\n",
        "y_train_pred = random_forest_model.predict(X_train)\n",
        "\n",
        "accuracy_train = accuracy_score(y_train, y_train_pred)\n",
        "precision_train = precision_score(y_train, y_train_pred, average='weighted')\n",
        "recall_train = recall_score(y_train, y_train_pred, average='weighted')\n",
        "f1_train = f1_score(y_train, y_train_pred, average='weighted')\n",
        "\n",
        "print(\"\\nMétricas en el conjunto de entrenamiento:\")\n",
        "print(\"Precisión: {:.2f}\".format(precision_train))\n",
        "print(\"Exhaustividad: {:.2f}\".format(recall_train))\n",
        "print(\"Puntuación F1: {:.2f}\".format(f1_train))"
      ],
      "metadata": {
        "id": "Yf9iwokE-QqU",
        "colab": {
          "base_uri": "https://localhost:8080/"
        },
        "outputId": "ac024ddc-fc19-4337-cd8d-920eb71cc29d"
      },
      "execution_count": null,
      "outputs": [
        {
          "output_type": "stream",
          "name": "stdout",
          "text": [
            "Precisión (Validación): 0.43\n",
            "Precisión (Validación): 0.62\n",
            "Exhaustividad (Validación): 0.43\n",
            "Puntuación F1 (Validación): 0.37\n",
            "\n",
            "Métricas en el conjunto de entrenamiento:\n",
            "Precisión: 1.00\n",
            "Exhaustividad: 1.00\n",
            "Puntuación F1: 1.00\n"
          ]
        }
      ]
    },
    {
      "cell_type": "code",
      "source": [
        "# Imprimir las métricas de entrenamiento\n",
        "print(f'Accuracy entrenamiento: {accuracy_train * 100:.2f}%')\n",
        "print(f'Precisión  entrenamiento: {precision_train * 100:.2f}%')\n",
        "print(f'Recall  entrenamiento: {recall_train * 100:.2f}%')\n",
        "print(f'Puntuación F1  entrenamiento: {f1_train * 100:.2f}%')\n",
        "print('\\n')\n",
        "# Imprimir las métricas de validación\n",
        "print(f'Accuracy  validación: {accuracy * 100:.2f}%')\n",
        "print(f'Precisión  validación: {precision* 100:.2f}%')\n",
        "print(f'Recall  validación: {recall* 100:.2f}%')\n",
        "print(f'Puntuación F1 validación: {f1 * 100:.2f}%')"
      ],
      "metadata": {
        "colab": {
          "base_uri": "https://localhost:8080/"
        },
        "id": "NkRDcwJA-Vto",
        "outputId": "c27dc465-fc5a-4cb2-a5af-7f372a2d03b6"
      },
      "execution_count": null,
      "outputs": [
        {
          "output_type": "stream",
          "name": "stdout",
          "text": [
            "Accuracy entrenamiento: 100.00%\n",
            "Precisión  entrenamiento: 100.00%\n",
            "Recall  entrenamiento: 100.00%\n",
            "Puntuación F1  entrenamiento: 100.00%\n",
            "\n",
            "\n",
            "Accuracy  validación: 43.21%\n",
            "Precisión  validación: 61.78%\n",
            "Recall  validación: 43.21%\n",
            "Puntuación F1 validación: 37.20%\n"
          ]
        }
      ]
    },
    {
      "cell_type": "markdown",
      "source": [
        "# **Matriz de confusión**"
      ],
      "metadata": {
        "id": "PnsoHsgnjbBL"
      }
    },
    {
      "cell_type": "code",
      "source": [
        "from sklearn.metrics import confusion_matrix\n",
        "\n",
        "y_pred = random_forest_model.predict(X_val)\n",
        "\n",
        "#\n",
        "cm = confusion_matrix(y_val, y_pred)\n",
        "\n",
        "\n",
        "#\n",
        "prop_real = np.sum(y_val)/len(y_val)\n",
        "prop_etiqutados = (cm[0,1]+cm[1,1])/len(y_val)\n",
        "print(\"Matriz de confusión: \\n\\n\", cm, \"\\n\")"
      ],
      "metadata": {
        "colab": {
          "base_uri": "https://localhost:8080/"
        },
        "outputId": "843ffe92-9677-482e-fbec-3ad19357b250",
        "id": "ge2kdDirjbBU"
      },
      "execution_count": null,
      "outputs": [
        {
          "output_type": "stream",
          "name": "stdout",
          "text": [
            "Matriz de confusión: \n",
            "\n",
            " [[24  0  2]\n",
            " [17  4  7]\n",
            " [20  0  7]] \n",
            "\n"
          ]
        }
      ]
    },
    {
      "cell_type": "code",
      "source": [
        "import seaborn as sns\n",
        "import matplotlib.pyplot as plt\n",
        "\n",
        "# Definir etiquetas de las clases\n",
        "classes = ['Control', 'Depresión', 'Ansiedad']\n",
        "\n",
        "# Crear un mapa de calor de la matriz de confusión\n",
        "plt.figure(figsize=(8, 6))\n",
        "sns.heatmap(cm, annot=True, fmt='d', cmap='Blues', xticklabels=classes, yticklabels=classes)\n",
        "\n",
        "# Agregar etiquetas y título\n",
        "plt.xlabel('Clases Predichas')\n",
        "plt.ylabel('Clases Reales')\n",
        "plt.title('Matriz de Confusión')\n",
        "\n",
        "plt.show()"
      ],
      "metadata": {
        "colab": {
          "base_uri": "https://localhost:8080/",
          "height": 565
        },
        "outputId": "b99059c9-b244-4429-c9e5-3ef50140d44e",
        "id": "gUFypmG1jbBV"
      },
      "execution_count": null,
      "outputs": [
        {
          "output_type": "display_data",
          "data": {
            "text/plain": [
              "<Figure size 800x600 with 2 Axes>"
            ],
            "image/png": "[encoded data removed]"
          },
          "metadata": {}
        }
      ]
    },
    {
      "cell_type": "markdown",
      "source": [
        "#Modelo SVM"
      ],
      "metadata": {
        "id": "tpe64XnkBjMZ"
      }
    },
    {
      "cell_type": "code",
      "source": [
        "from sklearn.svm import SVC\n",
        "from sklearn.metrics import accuracy_score, precision_score, recall_score, f1_score\n",
        "import joblib\n",
        "import os\n",
        "\n",
        "# Suponiendo que ya tienes tus datos de entrenamiento y validación: X_train, X_val, y_train, y_val\n",
        "\n",
        "# Crear un modelo SVM para clasificación multiclase con kernel polinómico\n",
        "svm_model_p = SVC(kernel='sigmoid', C=100, gamma='scale', coef0=2.5)\n",
        "\n",
        "# Entrenar el modelo en los datos de entrenamiento\n",
        "svm_model_p.fit(X_train, y_train)\n",
        "\n",
        "# Predecir etiquetas en el conjunto de validación\n",
        "y_val_pred = svm_model_p.predict(X_val)\n",
        "\n",
        "# Calcular las métricas en el conjunto de validación\n",
        "accuracy = accuracy_score(y_val, y_val_pred)\n",
        "precision = precision_score(y_val, y_val_pred, average='weighted')\n",
        "recall = recall_score(y_val, y_val_pred, average='weighted')\n",
        "f1 = f1_score(y_val, y_val_pred, average='weighted')\n",
        "\n",
        "# Calcular y mostrar métricas en el conjunto de entrenamiento\n",
        "y_train_pred = svm_model_p.predict(X_train)\n",
        "accuracy_train = accuracy_score(y_train, y_train_pred)\n",
        "precision_train = precision_score(y_train, y_train_pred, average='weighted')\n",
        "recall_train = recall_score(y_train, y_train_pred, average='weighted')\n",
        "f1_train = f1_score(y_train, y_train_pred, average='weighted')\n",
        "\n",
        "# Imprimir las métricas en el conjunto de entrenamiento\n",
        "print(\"\\nMétricas en el conjunto de entrenamiento:\")\n",
        "print(\"Exactitud (entrenamiento): {:.2%}\".format(accuracy_train))\n",
        "print(\"Precisión (entrenamiento): {:.2%}\".format(precision_train))\n",
        "print(\"Recall (entrenamiento): {:.2%}\".format(recall_train))\n",
        "print(\"F1-score (entrenamiento): {:.2%}\".format(f1_train))\n",
        "print('--'*50)\n",
        "# Imprimir las métricas en el conjunto de validación\n",
        "print(\"Exactitud en el conjunto de validación: {:.2%}\".format(accuracy))\n",
        "print(\"Precisión en el conjunto de validación: {:.2%}\".format(precision))\n",
        "print(\"Recall en el conjunto de validación: {:.2%}\".format(recall))\n",
        "print(\"F1-score en el conjunto de validación: {:.2%}\".format(f1))\n"
      ],
      "metadata": {
        "id": "abWDh27ABtdx"
      },
      "execution_count": null,
      "outputs": []
    },
    {
      "cell_type": "markdown",
      "source": [
        "# **Matriz de confusión**"
      ],
      "metadata": {
        "id": "iiAvA4-qDbwd"
      }
    },
    {
      "cell_type": "code",
      "source": [
        "from sklearn.metrics import confusion_matrix\n",
        "\n",
        "y_pred = svm_model_p.predict(X_val)\n",
        "\n",
        "#\n",
        "cm = confusion_matrix(y_val, y_pred)\n",
        "\n",
        "\n",
        "#\n",
        "prop_real = np.sum(y_val)/len(y_val)\n",
        "prop_etiqutados = (cm[0,1]+cm[1,1])/len(y_val)\n",
        "print(\"Matriz de confusión: \\n\\n\", cm, \"\\n\")"
      ],
      "metadata": {
        "colab": {
          "base_uri": "https://localhost:8080/"
        },
        "outputId": "1ecb2f59-00a2-4ddd-c2df-630556e2cf03",
        "id": "dtLkgvzCDbw3"
      },
      "execution_count": null,
      "outputs": [
        {
          "output_type": "stream",
          "name": "stdout",
          "text": [
            "Matriz de confusión: \n",
            "\n",
            " [[15  2  9]\n",
            " [ 7 12  9]\n",
            " [ 7  1 19]] \n",
            "\n"
          ]
        }
      ]
    },
    {
      "cell_type": "code",
      "source": [
        "import seaborn as sns\n",
        "import matplotlib.pyplot as plt\n",
        "\n",
        "# Definir etiquetas de las clases\n",
        "classes = ['Control', 'Depresión', 'Ansiedad']\n",
        "\n",
        "# Crear un mapa de calor de la matriz de confusión\n",
        "plt.figure(figsize=(8, 6))\n",
        "sns.heatmap(cm, annot=True, fmt='d', cmap='Blues', xticklabels=classes, yticklabels=classes)\n",
        "\n",
        "# Agregar etiquetas y título\n",
        "plt.xlabel('Clases Predichas')\n",
        "plt.ylabel('Clases Reales')\n",
        "plt.title('Matriz de Confusión')\n",
        "\n",
        "plt.show()"
      ],
      "metadata": {
        "colab": {
          "base_uri": "https://localhost:8080/",
          "height": 565
        },
        "outputId": "49461839-0e37-4ff9-f3b7-797b5fc19971",
        "id": "RKUQBsA0Dbw4"
      },
      "execution_count": null,
      "outputs": [
        {
          "output_type": "display_data",
          "data": {
            "text/plain": [
              "<Figure size 800x600 with 2 Axes>"
            ],
            "image/png": "[encoded data removed]"
          },
          "metadata": {}
        }
      ]
    }
  ]
}
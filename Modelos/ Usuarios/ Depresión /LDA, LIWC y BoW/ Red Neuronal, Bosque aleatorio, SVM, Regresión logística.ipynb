{
  "nbformat": 4,
  "nbformat_minor": 0,
  "metadata": {
    "colab": {
      "provenance": [],
      "mount_file_id": "1XfbwHxqLxim_WGBDnCTQbQ0F7JVsyJGj",
      "authorship_tag": "ABX9TyNNxROJyZndJ5VgSffnvNvH"
    },
    "kernelspec": {
      "name": "python3",
      "display_name": "Python 3"
    },
    "language_info": {
      "name": "python"
    }
  },
  "cells": [
    {
      "cell_type": "code",
      "source": [
        "import numpy as np\n",
        "import pandas as pd\n",
        "\n",
        "import tensorflow as tf\n",
        "from tensorflow.keras.models import Sequential\n",
        "from tensorflow.keras.layers import Dense, Dropout\n",
        "from sklearn.metrics import accuracy_score, precision_score, recall_score, f1_score\n",
        "from sklearn.model_selection import train_test_split\n",
        "from sklearn.preprocessing import LabelEncoder\n",
        "from tensorflow.keras.models import load_model\n",
        "from sklearn.model_selection import cross_val_score\n",
        "from sklearn.model_selection import StratifiedKFold\n",
        "import os\n",
        "from gensim.models import Word2Vec\n",
        "from sklearn.model_selection import train_test_split"
      ],
      "metadata": {
        "id": "U7C1X_GgdSjj"
      },
      "execution_count": null,
      "outputs": []
    },
    {
      "cell_type": "markdown",
      "source": [
        "# datos"
      ],
      "metadata": {
        "id": "Qc7qpw2GdPhD"
      }
    },
    {
      "cell_type": "markdown",
      "source": [
        "**usarios con Depresión** = 1\n",
        "**usarios con Control** = 0"
      ],
      "metadata": {
        "id": "BmpzI8EBdbB4"
      }
    },
    {
      "cell_type": "markdown",
      "source": [
        "**PREPARACIÓN DE DATOS**"
      ],
      "metadata": {
        "id": "7I0KbpBsDLMD"
      }
    },
    {
      "cell_type": "markdown",
      "source": [
        "*Cargar y limpiar*"
      ],
      "metadata": {
        "id": "A2424AfYDN7Y"
      }
    },
    {
      "cell_type": "code",
      "source": [
        "!pip install pyspellchecker\n",
        "!pip install spacy\n",
        "!python -m spacy download es_core_news_sm"
      ],
      "metadata": {
        "id": "J-67yml1ImB8"
      },
      "execution_count": null,
      "outputs": []
    },
    {
      "cell_type": "markdown",
      "source": [
        "# limpiar texto y Crear Tokens"
      ],
      "metadata": {
        "id": "KxVGxamuXRIb"
      }
    },
    {
      "cell_type": "code",
      "source": [
        "import re\n",
        "import string\n",
        "import pandas as pd\n",
        "from nltk.corpus import stopwords\n",
        "from nltk.tokenize import word_tokenize\n",
        "\n",
        "def load_doc(filename):\n",
        "    try:\n",
        "        data = pd.read_csv(filename, delimiter='\\t')  # Indicamos el delimitador como '\\t' para TSV\n",
        "        return data\n",
        "    except Exception as e:\n",
        "        print(\"Error:\", e)\n",
        "        return None\n",
        "\n",
        "#Creamos un función de limpieza del texto y  los guarde en tokens indivicuales o lista de palabras\n",
        "def clean_doc(text):\n",
        "    # Eliminar hashtags\n",
        "    text = re.sub(r'#\\w+', '', text)\n",
        "\n",
        "    # Eliminar URLs o enlaces\n",
        "    text = re.sub(r'(https?://)?[a-zA-Z0-9]+\\.[a-zA-Z0-9]+\\S*', '', text)\n",
        "\n",
        "    # Eliminar nombres de usuarios de Twitter\n",
        "    text = re.sub(r'@\\w+', '', text)\n",
        "\n",
        "    # Eliminar Nombres propios\n",
        "    text = re.sub(r'\\b[A-Z][a-z]+\\b', '', text)\n",
        "\n",
        "    # Eliminar todos los caracteres especiales\n",
        "    text = re.sub(r'[^\\w\\s]+', '', text)\n",
        "\n",
        "    # Eliminar prefijos y números\n",
        "    text = re.sub(r'\\b\\w{1,2}\\b|\\d+', '', text)\n",
        "\n",
        "    # Eliminar palabras específicas\n",
        "    specific_words = ['retweet', 'retweets', 'hashtag', 'trending', 'mención', 'enlace', 'emoji', 'timeline', 'interacciones',\n",
        "                      'tuit', 'seguidores', 'notificaciones', 'seguir', 'favorito', 'perfil', 'tendencia', 'influencer',\n",
        "                      'compartir', 'actualización', 'explorar', 'seguir', 'comunidad', 'contenido', 'popular',\n",
        "                      'recomendar', 'experiencia', 'conectar', 'comentar', 'compartir', 'comunidad', 'actualización',\n",
        "                      'drk', 'followers', 'stats', 'for', 'new', 'little', 'unfollower', 'unfollowers', 'today', 'shit','twitter','nombre',\n",
        "                      'eric','story','great', 'short','squeeze','piggly','wiggly','hmv','even','follas','you','i','he','she',\n",
        "                      'it','we','they','the','and','that','these','those','tweet','followed','follower']\n",
        "    text = ' '.join([word for word in text.split() if word not in specific_words])\n",
        "\n",
        "    # Eliminar emojis\n",
        "    emojis = re.findall(r'[^\\w\\s,]', text)\n",
        "    cleaned_emojis = [emoji for emoji in emojis if emoji not in ['@', '#', '/', '?','¿','.','…','\"',':','“','!','¡','°','-',\"‘\",'’',\n",
        "                                                                 '=',';','(',')',\"'\",\"'\",'&','€','%','$','*','+','|', '”','🇦','🇷',',',\n",
        "                                                                 ', ','—','«',' »','»','« ','[, ]','[,]',',',', ','',' ',' ♀',' 🏽']]\n",
        "    for emoji in cleaned_emojis:\n",
        "        text = text.replace(emoji, '')\n",
        "\n",
        "    # Convertir el texto a minúsculas\n",
        "    text = text.lower()\n",
        "\n",
        "    return text\n",
        "\n",
        "def removeHTML(text):\n",
        "    if isinstance(text, str):  # Verificar si es de tipo string\n",
        "        cleanr = re.compile('<.*?>')\n",
        "        cleantext = re.sub(cleanr, '', text)\n",
        "        return cleantext\n",
        "    else:\n",
        "        return text  # Devolver el valor original si no es de tipo string\n"
      ],
      "metadata": {
        "id": "12y4sbQ3EnQy"
      },
      "execution_count": null,
      "outputs": []
    },
    {
      "cell_type": "code",
      "source": [
        "def cargar_documentos(ruta, etiqueta):\n",
        "    documentos = []\n",
        "    etiquetas = []\n",
        "\n",
        "    for archivo in os.listdir(ruta):\n",
        "        if archivo.endswith(\".tsv\"):\n",
        "            # Leer el archivo CSV usando pandas\n",
        "            df = pd.read_csv(os.path.join(ruta, archivo), sep='\\t')\n",
        "\n",
        "            # Verificar si la columna \"TWEET_TEXT\" existe en el DataFrame\n",
        "            if 'TWEET_TEXT' in df.columns:\n",
        "                # Obtener solo la columna \"tweet\"\n",
        "                tweets = df['TWEET_TEXT'].tolist()\n",
        "\n",
        "                # Agregar los tweets y etiquetas a las listas\n",
        "                documentos.extend(tweets)\n",
        "                etiquetas.extend([etiqueta] * len(tweets))\n",
        "\n",
        "    return documentos, etiquetas"
      ],
      "metadata": {
        "id": "n1IquwaXD_cF"
      },
      "execution_count": null,
      "outputs": []
    },
    {
      "cell_type": "code",
      "source": [
        "# Rutas de las carpetas\n",
        "ruta_Dep = '/content/drive/MyDrive/Experimentación Python Tesis /Experimento por agrupación de usuarios/Usuarios con depresión/'\n",
        "ruta_cont = '/content/drive/MyDrive/Experimentación Python Tesis /Experimento por agrupación de usuarios/Usuario de control/'"
      ],
      "metadata": {
        "id": "ZFPxTLcQEVGA"
      },
      "execution_count": null,
      "outputs": []
    },
    {
      "cell_type": "code",
      "source": [
        "# Cargar documentos y etiquetas\n",
        "Dep, etiquetas_ans = cargar_documentos(ruta_Dep, etiqueta=1) # Ansiedad  = 1\n",
        "Cont, etiquetas_cont = cargar_documentos(ruta_cont, etiqueta=0) # Control = 0\n"
      ],
      "metadata": {
        "id": "SUICMTtr4Y9H"
      },
      "execution_count": null,
      "outputs": []
    },
    {
      "cell_type": "code",
      "source": [
        "# Crear un DataFrame usando pandas\n",
        "data_tweet = pd.DataFrame({'TWEET_TEXT': Dep + Cont, 'trastorno': etiquetas_ans + etiquetas_cont})"
      ],
      "metadata": {
        "id": "-jGOL3877rBe"
      },
      "execution_count": null,
      "outputs": []
    },
    {
      "cell_type": "code",
      "source": [
        "data_tweet['TWEET_TEXT'] = data_tweet['TWEET_TEXT'].astype(str)\n",
        "data_tweet.info()\n",
        "data_tweet.head(10)"
      ],
      "metadata": {
        "colab": {
          "base_uri": "https://localhost:8080/",
          "height": 533
        },
        "id": "9cob3UVR728H",
        "outputId": "beb572aa-145a-4694-98b9-dd6b3e8f7346"
      },
      "execution_count": null,
      "outputs": [
        {
          "output_type": "stream",
          "name": "stdout",
          "text": [
            "<class 'pandas.core.frame.DataFrame'>\n",
            "RangeIndex: 428792 entries, 0 to 428791\n",
            "Data columns (total 2 columns):\n",
            " #   Column      Non-Null Count   Dtype \n",
            "---  ------      --------------   ----- \n",
            " 0   TWEET_TEXT  428792 non-null  object\n",
            " 1   trastorno   428792 non-null  int64 \n",
            "dtypes: int64(1), object(1)\n",
            "memory usage: 6.5+ MB\n"
          ]
        },
        {
          "output_type": "execute_result",
          "data": {
            "text/plain": [
              "                                          TWEET_TEXT  trastorno\n",
              "0  Empiezo a trabajar en una semana y no se de do...          1\n",
              "1                                   Pronto lo sabré.          1\n",
              "2           Me quiero morir si no estás donde estoy.          1\n",
              "3                                  Que asco de vida.          1\n",
              "4                          Unos cuantos y a la cama.          1\n",
              "5  Ojala todas las mierdas que me meto acaben ráp...          1\n",
              "6  RT @YourFaveMuse: Nada peor que una mujer cria...          1\n",
              "7                   Ninguna actividad te entretiene.          1\n",
              "8  La ansiedad se ha apoderado de mi vida, y grac...          1\n",
              "9  RT @beiirr97_: hoy tengo un bajón, que no me a...          1"
            ],
            "text/html": [
              "\n",
              "  <div id=\"df-c5c21e80-3b1b-475c-a226-aed334cc1fda\" class=\"colab-df-container\">\n",
              "    <div>\n",
              "<style scoped>\n",
              "    .dataframe tbody tr th:only-of-type {\n",
              "        vertical-align: middle;\n",
              "    }\n",
              "\n",
              "    .dataframe tbody tr th {\n",
              "        vertical-align: top;\n",
              "    }\n",
              "\n",
              "    .dataframe thead th {\n",
              "        text-align: right;\n",
              "    }\n",
              "</style>\n",
              "<table border=\"1\" class=\"dataframe\">\n",
              "  <thead>\n",
              "    <tr style=\"text-align: right;\">\n",
              "      <th></th>\n",
              "      <th>TWEET_TEXT</th>\n",
              "      <th>trastorno</th>\n",
              "    </tr>\n",
              "  </thead>\n",
              "  <tbody>\n",
              "    <tr>\n",
              "      <th>0</th>\n",
              "      <td>Empiezo a trabajar en una semana y no se de do...</td>\n",
              "      <td>1</td>\n",
              "    </tr>\n",
              "    <tr>\n",
              "      <th>1</th>\n",
              "      <td>Pronto lo sabré.</td>\n",
              "      <td>1</td>\n",
              "    </tr>\n",
              "    <tr>\n",
              "      <th>2</th>\n",
              "      <td>Me quiero morir si no estás donde estoy.</td>\n",
              "      <td>1</td>\n",
              "    </tr>\n",
              "    <tr>\n",
              "      <th>3</th>\n",
              "      <td>Que asco de vida.</td>\n",
              "      <td>1</td>\n",
              "    </tr>\n",
              "    <tr>\n",
              "      <th>4</th>\n",
              "      <td>Unos cuantos y a la cama.</td>\n",
              "      <td>1</td>\n",
              "    </tr>\n",
              "    <tr>\n",
              "      <th>5</th>\n",
              "      <td>Ojala todas las mierdas que me meto acaben ráp...</td>\n",
              "      <td>1</td>\n",
              "    </tr>\n",
              "    <tr>\n",
              "      <th>6</th>\n",
              "      <td>RT @YourFaveMuse: Nada peor que una mujer cria...</td>\n",
              "      <td>1</td>\n",
              "    </tr>\n",
              "    <tr>\n",
              "      <th>7</th>\n",
              "      <td>Ninguna actividad te entretiene.</td>\n",
              "      <td>1</td>\n",
              "    </tr>\n",
              "    <tr>\n",
              "      <th>8</th>\n",
              "      <td>La ansiedad se ha apoderado de mi vida, y grac...</td>\n",
              "      <td>1</td>\n",
              "    </tr>\n",
              "    <tr>\n",
              "      <th>9</th>\n",
              "      <td>RT @beiirr97_: hoy tengo un bajón, que no me a...</td>\n",
              "      <td>1</td>\n",
              "    </tr>\n",
              "  </tbody>\n",
              "</table>\n",
              "</div>\n",
              "    <div class=\"colab-df-buttons\">\n",
              "\n",
              "  <div class=\"colab-df-container\">\n",
              "    <button class=\"colab-df-convert\" onclick=\"convertToInteractive('df-c5c21e80-3b1b-475c-a226-aed334cc1fda')\"\n",
              "            title=\"Convert this dataframe to an interactive table.\"\n",
              "            style=\"display:none;\">\n",
              "\n",
              "  <svg xmlns=\"http://www.w3.org/2000/svg\" height=\"24px\" viewBox=\"0 -960 960 960\">\n",
              "    <path d=\"M120-120v-720h720v720H120Zm60-500h600v-160H180v160Zm220 220h160v-160H400v160Zm0 220h160v-160H400v160ZM180-400h160v-160H180v160Zm440 0h160v-160H620v160ZM180-180h160v-160H180v160Zm440 0h160v-160H620v160Z\"/>\n",
              "  </svg>\n",
              "    </button>\n",
              "\n",
              "  <style>\n",
              "    .colab-df-container {\n",
              "      display:flex;\n",
              "      gap: 12px;\n",
              "    }\n",
              "\n",
              "    .colab-df-convert {\n",
              "      background-color: #E8F0FE;\n",
              "      border: none;\n",
              "      border-radius: 50%;\n",
              "      cursor: pointer;\n",
              "      display: none;\n",
              "      fill: #1967D2;\n",
              "      height: 32px;\n",
              "      padding: 0 0 0 0;\n",
              "      width: 32px;\n",
              "    }\n",
              "\n",
              "    .colab-df-convert:hover {\n",
              "      background-color: #E2EBFA;\n",
              "      box-shadow: 0px 1px 2px rgba(60, 64, 67, 0.3), 0px 1px 3px 1px rgba(60, 64, 67, 0.15);\n",
              "      fill: #174EA6;\n",
              "    }\n",
              "\n",
              "    .colab-df-buttons div {\n",
              "      margin-bottom: 4px;\n",
              "    }\n",
              "\n",
              "    [theme=dark] .colab-df-convert {\n",
              "      background-color: #3B4455;\n",
              "      fill: #D2E3FC;\n",
              "    }\n",
              "\n",
              "    [theme=dark] .colab-df-convert:hover {\n",
              "      background-color: #434B5C;\n",
              "      box-shadow: 0px 1px 3px 1px rgba(0, 0, 0, 0.15);\n",
              "      filter: drop-shadow(0px 1px 2px rgba(0, 0, 0, 0.3));\n",
              "      fill: #FFFFFF;\n",
              "    }\n",
              "  </style>\n",
              "\n",
              "    <script>\n",
              "      const buttonEl =\n",
              "        document.querySelector('#df-c5c21e80-3b1b-475c-a226-aed334cc1fda button.colab-df-convert');\n",
              "      buttonEl.style.display =\n",
              "        google.colab.kernel.accessAllowed ? 'block' : 'none';\n",
              "\n",
              "      async function convertToInteractive(key) {\n",
              "        const element = document.querySelector('#df-c5c21e80-3b1b-475c-a226-aed334cc1fda');\n",
              "        const dataTable =\n",
              "          await google.colab.kernel.invokeFunction('convertToInteractive',\n",
              "                                                    [key], {});\n",
              "        if (!dataTable) return;\n",
              "\n",
              "        const docLinkHtml = 'Like what you see? Visit the ' +\n",
              "          '<a target=\"_blank\" href=https://colab.research.google.com/notebooks/data_table.ipynb>data table notebook</a>'\n",
              "          + ' to learn more about interactive tables.';\n",
              "        element.innerHTML = '';\n",
              "        dataTable['output_type'] = 'display_data';\n",
              "        await google.colab.output.renderOutput(dataTable, element);\n",
              "        const docLink = document.createElement('div');\n",
              "        docLink.innerHTML = docLinkHtml;\n",
              "        element.appendChild(docLink);\n",
              "      }\n",
              "    </script>\n",
              "  </div>\n",
              "\n",
              "\n",
              "<div id=\"df-d518f9fe-efe5-427f-890e-bf6676c813de\">\n",
              "  <button class=\"colab-df-quickchart\" onclick=\"quickchart('df-d518f9fe-efe5-427f-890e-bf6676c813de')\"\n",
              "            title=\"Suggest charts\"\n",
              "            style=\"display:none;\">\n",
              "\n",
              "<svg xmlns=\"http://www.w3.org/2000/svg\" height=\"24px\"viewBox=\"0 0 24 24\"\n",
              "     width=\"24px\">\n",
              "    <g>\n",
              "        <path d=\"M19 3H5c-1.1 0-2 .9-2 2v14c0 1.1.9 2 2 2h14c1.1 0 2-.9 2-2V5c0-1.1-.9-2-2-2zM9 17H7v-7h2v7zm4 0h-2V7h2v10zm4 0h-2v-4h2v4z\"/>\n",
              "    </g>\n",
              "</svg>\n",
              "  </button>\n",
              "\n",
              "<style>\n",
              "  .colab-df-quickchart {\n",
              "      --bg-color: #E8F0FE;\n",
              "      --fill-color: #1967D2;\n",
              "      --hover-bg-color: #E2EBFA;\n",
              "      --hover-fill-color: #174EA6;\n",
              "      --disabled-fill-color: #AAA;\n",
              "      --disabled-bg-color: #DDD;\n",
              "  }\n",
              "\n",
              "  [theme=dark] .colab-df-quickchart {\n",
              "      --bg-color: #3B4455;\n",
              "      --fill-color: #D2E3FC;\n",
              "      --hover-bg-color: #434B5C;\n",
              "      --hover-fill-color: #FFFFFF;\n",
              "      --disabled-bg-color: #3B4455;\n",
              "      --disabled-fill-color: #666;\n",
              "  }\n",
              "\n",
              "  .colab-df-quickchart {\n",
              "    background-color: var(--bg-color);\n",
              "    border: none;\n",
              "    border-radius: 50%;\n",
              "    cursor: pointer;\n",
              "    display: none;\n",
              "    fill: var(--fill-color);\n",
              "    height: 32px;\n",
              "    padding: 0;\n",
              "    width: 32px;\n",
              "  }\n",
              "\n",
              "  .colab-df-quickchart:hover {\n",
              "    background-color: var(--hover-bg-color);\n",
              "    box-shadow: 0 1px 2px rgba(60, 64, 67, 0.3), 0 1px 3px 1px rgba(60, 64, 67, 0.15);\n",
              "    fill: var(--button-hover-fill-color);\n",
              "  }\n",
              "\n",
              "  .colab-df-quickchart-complete:disabled,\n",
              "  .colab-df-quickchart-complete:disabled:hover {\n",
              "    background-color: var(--disabled-bg-color);\n",
              "    fill: var(--disabled-fill-color);\n",
              "    box-shadow: none;\n",
              "  }\n",
              "\n",
              "  .colab-df-spinner {\n",
              "    border: 2px solid var(--fill-color);\n",
              "    border-color: transparent;\n",
              "    border-bottom-color: var(--fill-color);\n",
              "    animation:\n",
              "      spin 1s steps(1) infinite;\n",
              "  }\n",
              "\n",
              "  @keyframes spin {\n",
              "    0% {\n",
              "      border-color: transparent;\n",
              "      border-bottom-color: var(--fill-color);\n",
              "      border-left-color: var(--fill-color);\n",
              "    }\n",
              "    20% {\n",
              "      border-color: transparent;\n",
              "      border-left-color: var(--fill-color);\n",
              "      border-top-color: var(--fill-color);\n",
              "    }\n",
              "    30% {\n",
              "      border-color: transparent;\n",
              "      border-left-color: var(--fill-color);\n",
              "      border-top-color: var(--fill-color);\n",
              "      border-right-color: var(--fill-color);\n",
              "    }\n",
              "    40% {\n",
              "      border-color: transparent;\n",
              "      border-right-color: var(--fill-color);\n",
              "      border-top-color: var(--fill-color);\n",
              "    }\n",
              "    60% {\n",
              "      border-color: transparent;\n",
              "      border-right-color: var(--fill-color);\n",
              "    }\n",
              "    80% {\n",
              "      border-color: transparent;\n",
              "      border-right-color: var(--fill-color);\n",
              "      border-bottom-color: var(--fill-color);\n",
              "    }\n",
              "    90% {\n",
              "      border-color: transparent;\n",
              "      border-bottom-color: var(--fill-color);\n",
              "    }\n",
              "  }\n",
              "</style>\n",
              "\n",
              "  <script>\n",
              "    async function quickchart(key) {\n",
              "      const quickchartButtonEl =\n",
              "        document.querySelector('#' + key + ' button');\n",
              "      quickchartButtonEl.disabled = true;  // To prevent multiple clicks.\n",
              "      quickchartButtonEl.classList.add('colab-df-spinner');\n",
              "      try {\n",
              "        const charts = await google.colab.kernel.invokeFunction(\n",
              "            'suggestCharts', [key], {});\n",
              "      } catch (error) {\n",
              "        console.error('Error during call to suggestCharts:', error);\n",
              "      }\n",
              "      quickchartButtonEl.classList.remove('colab-df-spinner');\n",
              "      quickchartButtonEl.classList.add('colab-df-quickchart-complete');\n",
              "    }\n",
              "    (() => {\n",
              "      let quickchartButtonEl =\n",
              "        document.querySelector('#df-d518f9fe-efe5-427f-890e-bf6676c813de button');\n",
              "      quickchartButtonEl.style.display =\n",
              "        google.colab.kernel.accessAllowed ? 'block' : 'none';\n",
              "    })();\n",
              "  </script>\n",
              "</div>\n",
              "    </div>\n",
              "  </div>\n"
            ]
          },
          "metadata": {},
          "execution_count": 10
        }
      ]
    },
    {
      "cell_type": "code",
      "source": [
        "data_tweet['TWEET_TEXT'] = data_tweet['TWEET_TEXT'].apply(removeHTML)\n",
        "data_tweet['TWEET_TEXT'] = data_tweet['TWEET_TEXT'].apply(clean_doc)\n",
        "data_tweet"
      ],
      "metadata": {
        "colab": {
          "base_uri": "https://localhost:8080/",
          "height": 424
        },
        "id": "wBhks1fY-a4z",
        "outputId": "f52fb712-f527-4646-d920-c9d4c9c80240"
      },
      "execution_count": null,
      "outputs": [
        {
          "output_type": "execute_result",
          "data": {
            "text/plain": [
              "                                               TWEET_TEXT  trastorno\n",
              "0       trabajar una semana donde voy sacar las ganas ...          1\n",
              "1                                                   sabré          1\n",
              "2                          quiero morir estás donde estoy          1\n",
              "3                                               asco vida          1\n",
              "4                                            cuantos cama          1\n",
              "...                                                   ...        ...\n",
              "428787                  cerveza tus ojos rezo locura piel          0\n",
              "428788  perdón por gol ídolo sonrió como nene con cami...          0\n",
              "428789  familia gorda dejé celular laburo estuve todo ...          0\n",
              "428790       podía ser otra manera cague mamando otra vez          0\n",
              "428791                      gustaría entrar boliche suena          0\n",
              "\n",
              "[428792 rows x 2 columns]"
            ],
            "text/html": [
              "\n",
              "  <div id=\"df-ed8bbcbb-1619-4ffb-92de-556b2e4a9dcb\" class=\"colab-df-container\">\n",
              "    <div>\n",
              "<style scoped>\n",
              "    .dataframe tbody tr th:only-of-type {\n",
              "        vertical-align: middle;\n",
              "    }\n",
              "\n",
              "    .dataframe tbody tr th {\n",
              "        vertical-align: top;\n",
              "    }\n",
              "\n",
              "    .dataframe thead th {\n",
              "        text-align: right;\n",
              "    }\n",
              "</style>\n",
              "<table border=\"1\" class=\"dataframe\">\n",
              "  <thead>\n",
              "    <tr style=\"text-align: right;\">\n",
              "      <th></th>\n",
              "      <th>TWEET_TEXT</th>\n",
              "      <th>trastorno</th>\n",
              "    </tr>\n",
              "  </thead>\n",
              "  <tbody>\n",
              "    <tr>\n",
              "      <th>0</th>\n",
              "      <td>trabajar una semana donde voy sacar las ganas ...</td>\n",
              "      <td>1</td>\n",
              "    </tr>\n",
              "    <tr>\n",
              "      <th>1</th>\n",
              "      <td>sabré</td>\n",
              "      <td>1</td>\n",
              "    </tr>\n",
              "    <tr>\n",
              "      <th>2</th>\n",
              "      <td>quiero morir estás donde estoy</td>\n",
              "      <td>1</td>\n",
              "    </tr>\n",
              "    <tr>\n",
              "      <th>3</th>\n",
              "      <td>asco vida</td>\n",
              "      <td>1</td>\n",
              "    </tr>\n",
              "    <tr>\n",
              "      <th>4</th>\n",
              "      <td>cuantos cama</td>\n",
              "      <td>1</td>\n",
              "    </tr>\n",
              "    <tr>\n",
              "      <th>...</th>\n",
              "      <td>...</td>\n",
              "      <td>...</td>\n",
              "    </tr>\n",
              "    <tr>\n",
              "      <th>428787</th>\n",
              "      <td>cerveza tus ojos rezo locura piel</td>\n",
              "      <td>0</td>\n",
              "    </tr>\n",
              "    <tr>\n",
              "      <th>428788</th>\n",
              "      <td>perdón por gol ídolo sonrió como nene con cami...</td>\n",
              "      <td>0</td>\n",
              "    </tr>\n",
              "    <tr>\n",
              "      <th>428789</th>\n",
              "      <td>familia gorda dejé celular laburo estuve todo ...</td>\n",
              "      <td>0</td>\n",
              "    </tr>\n",
              "    <tr>\n",
              "      <th>428790</th>\n",
              "      <td>podía ser otra manera cague mamando otra vez</td>\n",
              "      <td>0</td>\n",
              "    </tr>\n",
              "    <tr>\n",
              "      <th>428791</th>\n",
              "      <td>gustaría entrar boliche suena</td>\n",
              "      <td>0</td>\n",
              "    </tr>\n",
              "  </tbody>\n",
              "</table>\n",
              "<p>428792 rows × 2 columns</p>\n",
              "</div>\n",
              "    <div class=\"colab-df-buttons\">\n",
              "\n",
              "  <div class=\"colab-df-container\">\n",
              "    <button class=\"colab-df-convert\" onclick=\"convertToInteractive('df-ed8bbcbb-1619-4ffb-92de-556b2e4a9dcb')\"\n",
              "            title=\"Convert this dataframe to an interactive table.\"\n",
              "            style=\"display:none;\">\n",
              "\n",
              "  <svg xmlns=\"http://www.w3.org/2000/svg\" height=\"24px\" viewBox=\"0 -960 960 960\">\n",
              "    <path d=\"M120-120v-720h720v720H120Zm60-500h600v-160H180v160Zm220 220h160v-160H400v160Zm0 220h160v-160H400v160ZM180-400h160v-160H180v160Zm440 0h160v-160H620v160ZM180-180h160v-160H180v160Zm440 0h160v-160H620v160Z\"/>\n",
              "  </svg>\n",
              "    </button>\n",
              "\n",
              "  <style>\n",
              "    .colab-df-container {\n",
              "      display:flex;\n",
              "      gap: 12px;\n",
              "    }\n",
              "\n",
              "    .colab-df-convert {\n",
              "      background-color: #E8F0FE;\n",
              "      border: none;\n",
              "      border-radius: 50%;\n",
              "      cursor: pointer;\n",
              "      display: none;\n",
              "      fill: #1967D2;\n",
              "      height: 32px;\n",
              "      padding: 0 0 0 0;\n",
              "      width: 32px;\n",
              "    }\n",
              "\n",
              "    .colab-df-convert:hover {\n",
              "      background-color: #E2EBFA;\n",
              "      box-shadow: 0px 1px 2px rgba(60, 64, 67, 0.3), 0px 1px 3px 1px rgba(60, 64, 67, 0.15);\n",
              "      fill: #174EA6;\n",
              "    }\n",
              "\n",
              "    .colab-df-buttons div {\n",
              "      margin-bottom: 4px;\n",
              "    }\n",
              "\n",
              "    [theme=dark] .colab-df-convert {\n",
              "      background-color: #3B4455;\n",
              "      fill: #D2E3FC;\n",
              "    }\n",
              "\n",
              "    [theme=dark] .colab-df-convert:hover {\n",
              "      background-color: #434B5C;\n",
              "      box-shadow: 0px 1px 3px 1px rgba(0, 0, 0, 0.15);\n",
              "      filter: drop-shadow(0px 1px 2px rgba(0, 0, 0, 0.3));\n",
              "      fill: #FFFFFF;\n",
              "    }\n",
              "  </style>\n",
              "\n",
              "    <script>\n",
              "      const buttonEl =\n",
              "        document.querySelector('#df-ed8bbcbb-1619-4ffb-92de-556b2e4a9dcb button.colab-df-convert');\n",
              "      buttonEl.style.display =\n",
              "        google.colab.kernel.accessAllowed ? 'block' : 'none';\n",
              "\n",
              "      async function convertToInteractive(key) {\n",
              "        const element = document.querySelector('#df-ed8bbcbb-1619-4ffb-92de-556b2e4a9dcb');\n",
              "        const dataTable =\n",
              "          await google.colab.kernel.invokeFunction('convertToInteractive',\n",
              "                                                    [key], {});\n",
              "        if (!dataTable) return;\n",
              "\n",
              "        const docLinkHtml = 'Like what you see? Visit the ' +\n",
              "          '<a target=\"_blank\" href=https://colab.research.google.com/notebooks/data_table.ipynb>data table notebook</a>'\n",
              "          + ' to learn more about interactive tables.';\n",
              "        element.innerHTML = '';\n",
              "        dataTable['output_type'] = 'display_data';\n",
              "        await google.colab.output.renderOutput(dataTable, element);\n",
              "        const docLink = document.createElement('div');\n",
              "        docLink.innerHTML = docLinkHtml;\n",
              "        element.appendChild(docLink);\n",
              "      }\n",
              "    </script>\n",
              "  </div>\n",
              "\n",
              "\n",
              "<div id=\"df-32fbb735-0066-4073-9a6b-fa2100e8b482\">\n",
              "  <button class=\"colab-df-quickchart\" onclick=\"quickchart('df-32fbb735-0066-4073-9a6b-fa2100e8b482')\"\n",
              "            title=\"Suggest charts\"\n",
              "            style=\"display:none;\">\n",
              "\n",
              "<svg xmlns=\"http://www.w3.org/2000/svg\" height=\"24px\"viewBox=\"0 0 24 24\"\n",
              "     width=\"24px\">\n",
              "    <g>\n",
              "        <path d=\"M19 3H5c-1.1 0-2 .9-2 2v14c0 1.1.9 2 2 2h14c1.1 0 2-.9 2-2V5c0-1.1-.9-2-2-2zM9 17H7v-7h2v7zm4 0h-2V7h2v10zm4 0h-2v-4h2v4z\"/>\n",
              "    </g>\n",
              "</svg>\n",
              "  </button>\n",
              "\n",
              "<style>\n",
              "  .colab-df-quickchart {\n",
              "      --bg-color: #E8F0FE;\n",
              "      --fill-color: #1967D2;\n",
              "      --hover-bg-color: #E2EBFA;\n",
              "      --hover-fill-color: #174EA6;\n",
              "      --disabled-fill-color: #AAA;\n",
              "      --disabled-bg-color: #DDD;\n",
              "  }\n",
              "\n",
              "  [theme=dark] .colab-df-quickchart {\n",
              "      --bg-color: #3B4455;\n",
              "      --fill-color: #D2E3FC;\n",
              "      --hover-bg-color: #434B5C;\n",
              "      --hover-fill-color: #FFFFFF;\n",
              "      --disabled-bg-color: #3B4455;\n",
              "      --disabled-fill-color: #666;\n",
              "  }\n",
              "\n",
              "  .colab-df-quickchart {\n",
              "    background-color: var(--bg-color);\n",
              "    border: none;\n",
              "    border-radius: 50%;\n",
              "    cursor: pointer;\n",
              "    display: none;\n",
              "    fill: var(--fill-color);\n",
              "    height: 32px;\n",
              "    padding: 0;\n",
              "    width: 32px;\n",
              "  }\n",
              "\n",
              "  .colab-df-quickchart:hover {\n",
              "    background-color: var(--hover-bg-color);\n",
              "    box-shadow: 0 1px 2px rgba(60, 64, 67, 0.3), 0 1px 3px 1px rgba(60, 64, 67, 0.15);\n",
              "    fill: var(--button-hover-fill-color);\n",
              "  }\n",
              "\n",
              "  .colab-df-quickchart-complete:disabled,\n",
              "  .colab-df-quickchart-complete:disabled:hover {\n",
              "    background-color: var(--disabled-bg-color);\n",
              "    fill: var(--disabled-fill-color);\n",
              "    box-shadow: none;\n",
              "  }\n",
              "\n",
              "  .colab-df-spinner {\n",
              "    border: 2px solid var(--fill-color);\n",
              "    border-color: transparent;\n",
              "    border-bottom-color: var(--fill-color);\n",
              "    animation:\n",
              "      spin 1s steps(1) infinite;\n",
              "  }\n",
              "\n",
              "  @keyframes spin {\n",
              "    0% {\n",
              "      border-color: transparent;\n",
              "      border-bottom-color: var(--fill-color);\n",
              "      border-left-color: var(--fill-color);\n",
              "    }\n",
              "    20% {\n",
              "      border-color: transparent;\n",
              "      border-left-color: var(--fill-color);\n",
              "      border-top-color: var(--fill-color);\n",
              "    }\n",
              "    30% {\n",
              "      border-color: transparent;\n",
              "      border-left-color: var(--fill-color);\n",
              "      border-top-color: var(--fill-color);\n",
              "      border-right-color: var(--fill-color);\n",
              "    }\n",
              "    40% {\n",
              "      border-color: transparent;\n",
              "      border-right-color: var(--fill-color);\n",
              "      border-top-color: var(--fill-color);\n",
              "    }\n",
              "    60% {\n",
              "      border-color: transparent;\n",
              "      border-right-color: var(--fill-color);\n",
              "    }\n",
              "    80% {\n",
              "      border-color: transparent;\n",
              "      border-right-color: var(--fill-color);\n",
              "      border-bottom-color: var(--fill-color);\n",
              "    }\n",
              "    90% {\n",
              "      border-color: transparent;\n",
              "      border-bottom-color: var(--fill-color);\n",
              "    }\n",
              "  }\n",
              "</style>\n",
              "\n",
              "  <script>\n",
              "    async function quickchart(key) {\n",
              "      const quickchartButtonEl =\n",
              "        document.querySelector('#' + key + ' button');\n",
              "      quickchartButtonEl.disabled = true;  // To prevent multiple clicks.\n",
              "      quickchartButtonEl.classList.add('colab-df-spinner');\n",
              "      try {\n",
              "        const charts = await google.colab.kernel.invokeFunction(\n",
              "            'suggestCharts', [key], {});\n",
              "      } catch (error) {\n",
              "        console.error('Error during call to suggestCharts:', error);\n",
              "      }\n",
              "      quickchartButtonEl.classList.remove('colab-df-spinner');\n",
              "      quickchartButtonEl.classList.add('colab-df-quickchart-complete');\n",
              "    }\n",
              "    (() => {\n",
              "      let quickchartButtonEl =\n",
              "        document.querySelector('#df-32fbb735-0066-4073-9a6b-fa2100e8b482 button');\n",
              "      quickchartButtonEl.style.display =\n",
              "        google.colab.kernel.accessAllowed ? 'block' : 'none';\n",
              "    })();\n",
              "  </script>\n",
              "</div>\n",
              "    </div>\n",
              "  </div>\n"
            ]
          },
          "metadata": {},
          "execution_count": 11
        }
      ]
    },
    {
      "cell_type": "markdown",
      "source": [
        "# **LIWC**"
      ],
      "metadata": {
        "id": "GQU96F9y4dva"
      }
    },
    {
      "cell_type": "code",
      "source": [
        "!pip install liwc\n",
        "import liwc"
      ],
      "metadata": {
        "colab": {
          "base_uri": "https://localhost:8080/"
        },
        "id": "aPGxkB0X4f_G",
        "outputId": "314846ba-189d-439a-c141-8b0fda564711"
      },
      "execution_count": null,
      "outputs": [
        {
          "output_type": "stream",
          "name": "stdout",
          "text": [
            "Collecting liwc\n",
            "  Downloading liwc-0.5.0-py2.py3-none-any.whl (5.1 kB)\n",
            "Installing collected packages: liwc\n",
            "Successfully installed liwc-0.5.0\n"
          ]
        }
      ]
    },
    {
      "cell_type": "code",
      "source": [
        "liwcPath= r'/content/drive/MyDrive/Experimentación Python Tesis /Diccionarios español/Spanish_LIWC2007_Dictionary.dic'\n",
        "parse, category_names = liwc.load_token_parser(liwcPath)\n",
        "print(f'Categorias del diccionario: {category_names}')"
      ],
      "metadata": {
        "colab": {
          "base_uri": "https://localhost:8080/"
        },
        "id": "dfpDeplh444y",
        "outputId": "5a97cea4-af71-4d78-d0ee-31a97a209e51"
      },
      "execution_count": null,
      "outputs": [
        {
          "output_type": "stream",
          "name": "stdout",
          "text": [
            "Categorias del diccionario: ['Funct', 'TotPron', 'PronPer', 'Yo', 'Nosotro', 'TuUtd', 'ElElla', 'Ellos', 'PronImp', 'Articulo', 'Verbos', 'VerbAux', 'Pasado', 'Present', 'Futuro', 'Adverb', 'Prepos', 'Conjunc', 'Negacio', 'Cuantif', 'Numeros', 'Maldec', 'verbYO', 'verbTU', 'verbNOS', 'verbosEL', 'verbELLOS', 'Subjuntiv', 'VosUtds', 'formal', 'informal', 'verbVos', 'Social', 'Familia', 'Amigos', 'Humanos', 'Afect', 'EmoPos', 'EmoNeg', 'Ansiedad', 'Enfado', 'Triste', 'MecCog', 'Insight', 'Causa', 'Discrep', 'Tentat', 'Certeza', 'Inhib', 'Incl', 'Excl', 'Percept', 'Ver', 'Oir', 'Sentir', 'Biolog', 'Cuerpo', 'Salud', 'Sexual', 'Ingerir', 'Relativ', 'Movim', 'Espacio', 'Tiempo', 'Trabajo', 'Logro', 'Placer', 'Hogar', 'Dinero', 'Relig', 'Muerte', 'Asentir', 'NoFluen', 'Relleno']\n"
          ]
        }
      ]
    },
    {
      "cell_type": "code",
      "source": [
        "corpus = []\n",
        "words = []\n",
        "\n",
        "for i in range(0,len(data_tweet)):\n",
        "    review = re.sub('[^a-zA-Z0-9]',' ',data_tweet['TWEET_TEXT'][i])\n",
        "    review = review.lower()\n",
        "    review = review.split()\n",
        "\n",
        "    review = list(category for token in review for category in parse(token))\n",
        "    statements = ' '.join(review)\n",
        "    corpus.append(statements)\n",
        "    words.append(review)"
      ],
      "metadata": {
        "id": "ZqqpNuq35C6u"
      },
      "execution_count": null,
      "outputs": []
    },
    {
      "cell_type": "markdown",
      "source": [
        "# **Vectorización a través BOW**"
      ],
      "metadata": {
        "id": "O_HQgZ-9_k-I"
      }
    },
    {
      "cell_type": "code",
      "source": [
        "import numpy as np\n",
        "from sklearn.feature_extraction.text import CountVectorizer\n",
        "\n",
        "# Crear una instancia de CountVectorizer\n",
        "count_vect = CountVectorizer()\n",
        "\n",
        "# Aplicar CountVectorizer al corpus\n",
        "count_train = count_vect.fit_transform(corpus)\n",
        "\n",
        "# Convertir la matriz dispersa a un array de numpy\n",
        "X_array = count_train.toarray()\n",
        "\n",
        "# Imprimir el tamaño del vocabulario construido por CountVectorizer\n",
        "print(\"El tamaño del vocabulario es: \", len(count_vect.vocabulary_))\n",
        "\n",
        "X = X_array  # Array de numpy\n",
        "y = data_tweet['trastorno'].values  # Etiquetas de trastorno de la columna 'trastorno'\n",
        "\n",
        "features = count_vect.get_feature_names_out()\n",
        "\n",
        "# Crear un DataFrame con la matriz de conteo\n",
        "df_count = pd.DataFrame(X, columns=features)\n",
        "df_count"
      ],
      "metadata": {
        "colab": {
          "base_uri": "https://localhost:8080/",
          "height": 442
        },
        "id": "54tXL0Uy_pZG",
        "outputId": "a9afa292-6d06-4b6f-ab68-667210b35cbe"
      },
      "execution_count": null,
      "outputs": [
        {
          "output_type": "stream",
          "name": "stdout",
          "text": [
            "El tamaño del vocabulario es:  73\n"
          ]
        },
        {
          "output_type": "execute_result",
          "data": {
            "text/plain": [
              "        adverb  afect  amigos  ansiedad  articulo  asentir  biolog  causa  \\\n",
              "0            1      0       0         0         2        0       0      0   \n",
              "1            0      0       0         0         0        0       0      0   \n",
              "2            1      0       0         0         0        0       0      0   \n",
              "3            0      1       0         0         0        0       2      0   \n",
              "4            0      0       0         0         0        0       0      0   \n",
              "...        ...    ...     ...       ...       ...      ...     ...    ...   \n",
              "428787       0      0       0         0         0        0       2      0   \n",
              "428788       1      0       1         0         0        0       1      0   \n",
              "428789       0      1       0         0         0        0       1      0   \n",
              "428790       0      1       0         0         0        0       0      0   \n",
              "428791       0      1       0         0         0        0       0      0   \n",
              "\n",
              "        certeza  conjunc  ...  verbaux  verbellos  verbnos  verbos  verbosel  \\\n",
              "0             0        1  ...        0          0        0       1         0   \n",
              "1             0        0  ...        0          0        0       0         0   \n",
              "2             0        1  ...        0          0        0       0         0   \n",
              "3             0        0  ...        0          0        0       0         0   \n",
              "4             0        0  ...        0          0        0       0         0   \n",
              "...         ...      ...  ...      ...        ...      ...     ...       ...   \n",
              "428787        0        0  ...        0          0        0       0         0   \n",
              "428788        0        1  ...        0          0        0       2         1   \n",
              "428789        0        0  ...        0          0        0       1         0   \n",
              "428790        0        0  ...        0          0        0       0         0   \n",
              "428791        0        0  ...        0          0        0       0         0   \n",
              "\n",
              "        verbtu  verbvos  verbyo  vosutds  yo  \n",
              "0            0        0       1        0   0  \n",
              "1            0        0       0        0   0  \n",
              "2            0        0       0        0   0  \n",
              "3            0        0       0        0   0  \n",
              "4            0        0       0        0   0  \n",
              "...        ...      ...     ...      ...  ..  \n",
              "428787       0        0       0        0   0  \n",
              "428788       0        0       0        0   0  \n",
              "428789       0        0       1        0   0  \n",
              "428790       0        0       0        0   0  \n",
              "428791       0        0       0        0   0  \n",
              "\n",
              "[428792 rows x 73 columns]"
            ],
            "text/html": [
              "\n",
              "  <div id=\"df-039c55b2-3ad1-4786-a978-65f755178363\" class=\"colab-df-container\">\n",
              "    <div>\n",
              "<style scoped>\n",
              "    .dataframe tbody tr th:only-of-type {\n",
              "        vertical-align: middle;\n",
              "    }\n",
              "\n",
              "    .dataframe tbody tr th {\n",
              "        vertical-align: top;\n",
              "    }\n",
              "\n",
              "    .dataframe thead th {\n",
              "        text-align: right;\n",
              "    }\n",
              "</style>\n",
              "<table border=\"1\" class=\"dataframe\">\n",
              "  <thead>\n",
              "    <tr style=\"text-align: right;\">\n",
              "      <th></th>\n",
              "      <th>adverb</th>\n",
              "      <th>afect</th>\n",
              "      <th>amigos</th>\n",
              "      <th>ansiedad</th>\n",
              "      <th>articulo</th>\n",
              "      <th>asentir</th>\n",
              "      <th>biolog</th>\n",
              "      <th>causa</th>\n",
              "      <th>certeza</th>\n",
              "      <th>conjunc</th>\n",
              "      <th>...</th>\n",
              "      <th>verbaux</th>\n",
              "      <th>verbellos</th>\n",
              "      <th>verbnos</th>\n",
              "      <th>verbos</th>\n",
              "      <th>verbosel</th>\n",
              "      <th>verbtu</th>\n",
              "      <th>verbvos</th>\n",
              "      <th>verbyo</th>\n",
              "      <th>vosutds</th>\n",
              "      <th>yo</th>\n",
              "    </tr>\n",
              "  </thead>\n",
              "  <tbody>\n",
              "    <tr>\n",
              "      <th>0</th>\n",
              "      <td>1</td>\n",
              "      <td>0</td>\n",
              "      <td>0</td>\n",
              "      <td>0</td>\n",
              "      <td>2</td>\n",
              "      <td>0</td>\n",
              "      <td>0</td>\n",
              "      <td>0</td>\n",
              "      <td>0</td>\n",
              "      <td>1</td>\n",
              "      <td>...</td>\n",
              "      <td>0</td>\n",
              "      <td>0</td>\n",
              "      <td>0</td>\n",
              "      <td>1</td>\n",
              "      <td>0</td>\n",
              "      <td>0</td>\n",
              "      <td>0</td>\n",
              "      <td>1</td>\n",
              "      <td>0</td>\n",
              "      <td>0</td>\n",
              "    </tr>\n",
              "    <tr>\n",
              "      <th>1</th>\n",
              "      <td>0</td>\n",
              "      <td>0</td>\n",
              "      <td>0</td>\n",
              "      <td>0</td>\n",
              "      <td>0</td>\n",
              "      <td>0</td>\n",
              "      <td>0</td>\n",
              "      <td>0</td>\n",
              "      <td>0</td>\n",
              "      <td>0</td>\n",
              "      <td>...</td>\n",
              "      <td>0</td>\n",
              "      <td>0</td>\n",
              "      <td>0</td>\n",
              "      <td>0</td>\n",
              "      <td>0</td>\n",
              "      <td>0</td>\n",
              "      <td>0</td>\n",
              "      <td>0</td>\n",
              "      <td>0</td>\n",
              "      <td>0</td>\n",
              "    </tr>\n",
              "    <tr>\n",
              "      <th>2</th>\n",
              "      <td>1</td>\n",
              "      <td>0</td>\n",
              "      <td>0</td>\n",
              "      <td>0</td>\n",
              "      <td>0</td>\n",
              "      <td>0</td>\n",
              "      <td>0</td>\n",
              "      <td>0</td>\n",
              "      <td>0</td>\n",
              "      <td>1</td>\n",
              "      <td>...</td>\n",
              "      <td>0</td>\n",
              "      <td>0</td>\n",
              "      <td>0</td>\n",
              "      <td>0</td>\n",
              "      <td>0</td>\n",
              "      <td>0</td>\n",
              "      <td>0</td>\n",
              "      <td>0</td>\n",
              "      <td>0</td>\n",
              "      <td>0</td>\n",
              "    </tr>\n",
              "    <tr>\n",
              "      <th>3</th>\n",
              "      <td>0</td>\n",
              "      <td>1</td>\n",
              "      <td>0</td>\n",
              "      <td>0</td>\n",
              "      <td>0</td>\n",
              "      <td>0</td>\n",
              "      <td>2</td>\n",
              "      <td>0</td>\n",
              "      <td>0</td>\n",
              "      <td>0</td>\n",
              "      <td>...</td>\n",
              "      <td>0</td>\n",
              "      <td>0</td>\n",
              "      <td>0</td>\n",
              "      <td>0</td>\n",
              "      <td>0</td>\n",
              "      <td>0</td>\n",
              "      <td>0</td>\n",
              "      <td>0</td>\n",
              "      <td>0</td>\n",
              "      <td>0</td>\n",
              "    </tr>\n",
              "    <tr>\n",
              "      <th>4</th>\n",
              "      <td>0</td>\n",
              "      <td>0</td>\n",
              "      <td>0</td>\n",
              "      <td>0</td>\n",
              "      <td>0</td>\n",
              "      <td>0</td>\n",
              "      <td>0</td>\n",
              "      <td>0</td>\n",
              "      <td>0</td>\n",
              "      <td>0</td>\n",
              "      <td>...</td>\n",
              "      <td>0</td>\n",
              "      <td>0</td>\n",
              "      <td>0</td>\n",
              "      <td>0</td>\n",
              "      <td>0</td>\n",
              "      <td>0</td>\n",
              "      <td>0</td>\n",
              "      <td>0</td>\n",
              "      <td>0</td>\n",
              "      <td>0</td>\n",
              "    </tr>\n",
              "    <tr>\n",
              "      <th>...</th>\n",
              "      <td>...</td>\n",
              "      <td>...</td>\n",
              "      <td>...</td>\n",
              "      <td>...</td>\n",
              "      <td>...</td>\n",
              "      <td>...</td>\n",
              "      <td>...</td>\n",
              "      <td>...</td>\n",
              "      <td>...</td>\n",
              "      <td>...</td>\n",
              "      <td>...</td>\n",
              "      <td>...</td>\n",
              "      <td>...</td>\n",
              "      <td>...</td>\n",
              "      <td>...</td>\n",
              "      <td>...</td>\n",
              "      <td>...</td>\n",
              "      <td>...</td>\n",
              "      <td>...</td>\n",
              "      <td>...</td>\n",
              "      <td>...</td>\n",
              "    </tr>\n",
              "    <tr>\n",
              "      <th>428787</th>\n",
              "      <td>0</td>\n",
              "      <td>0</td>\n",
              "      <td>0</td>\n",
              "      <td>0</td>\n",
              "      <td>0</td>\n",
              "      <td>0</td>\n",
              "      <td>2</td>\n",
              "      <td>0</td>\n",
              "      <td>0</td>\n",
              "      <td>0</td>\n",
              "      <td>...</td>\n",
              "      <td>0</td>\n",
              "      <td>0</td>\n",
              "      <td>0</td>\n",
              "      <td>0</td>\n",
              "      <td>0</td>\n",
              "      <td>0</td>\n",
              "      <td>0</td>\n",
              "      <td>0</td>\n",
              "      <td>0</td>\n",
              "      <td>0</td>\n",
              "    </tr>\n",
              "    <tr>\n",
              "      <th>428788</th>\n",
              "      <td>1</td>\n",
              "      <td>0</td>\n",
              "      <td>1</td>\n",
              "      <td>0</td>\n",
              "      <td>0</td>\n",
              "      <td>0</td>\n",
              "      <td>1</td>\n",
              "      <td>0</td>\n",
              "      <td>0</td>\n",
              "      <td>1</td>\n",
              "      <td>...</td>\n",
              "      <td>0</td>\n",
              "      <td>0</td>\n",
              "      <td>0</td>\n",
              "      <td>2</td>\n",
              "      <td>1</td>\n",
              "      <td>0</td>\n",
              "      <td>0</td>\n",
              "      <td>0</td>\n",
              "      <td>0</td>\n",
              "      <td>0</td>\n",
              "    </tr>\n",
              "    <tr>\n",
              "      <th>428789</th>\n",
              "      <td>0</td>\n",
              "      <td>1</td>\n",
              "      <td>0</td>\n",
              "      <td>0</td>\n",
              "      <td>0</td>\n",
              "      <td>0</td>\n",
              "      <td>1</td>\n",
              "      <td>0</td>\n",
              "      <td>0</td>\n",
              "      <td>0</td>\n",
              "      <td>...</td>\n",
              "      <td>0</td>\n",
              "      <td>0</td>\n",
              "      <td>0</td>\n",
              "      <td>1</td>\n",
              "      <td>0</td>\n",
              "      <td>0</td>\n",
              "      <td>0</td>\n",
              "      <td>1</td>\n",
              "      <td>0</td>\n",
              "      <td>0</td>\n",
              "    </tr>\n",
              "    <tr>\n",
              "      <th>428790</th>\n",
              "      <td>0</td>\n",
              "      <td>1</td>\n",
              "      <td>0</td>\n",
              "      <td>0</td>\n",
              "      <td>0</td>\n",
              "      <td>0</td>\n",
              "      <td>0</td>\n",
              "      <td>0</td>\n",
              "      <td>0</td>\n",
              "      <td>0</td>\n",
              "      <td>...</td>\n",
              "      <td>0</td>\n",
              "      <td>0</td>\n",
              "      <td>0</td>\n",
              "      <td>0</td>\n",
              "      <td>0</td>\n",
              "      <td>0</td>\n",
              "      <td>0</td>\n",
              "      <td>0</td>\n",
              "      <td>0</td>\n",
              "      <td>0</td>\n",
              "    </tr>\n",
              "    <tr>\n",
              "      <th>428791</th>\n",
              "      <td>0</td>\n",
              "      <td>1</td>\n",
              "      <td>0</td>\n",
              "      <td>0</td>\n",
              "      <td>0</td>\n",
              "      <td>0</td>\n",
              "      <td>0</td>\n",
              "      <td>0</td>\n",
              "      <td>0</td>\n",
              "      <td>0</td>\n",
              "      <td>...</td>\n",
              "      <td>0</td>\n",
              "      <td>0</td>\n",
              "      <td>0</td>\n",
              "      <td>0</td>\n",
              "      <td>0</td>\n",
              "      <td>0</td>\n",
              "      <td>0</td>\n",
              "      <td>0</td>\n",
              "      <td>0</td>\n",
              "      <td>0</td>\n",
              "    </tr>\n",
              "  </tbody>\n",
              "</table>\n",
              "<p>428792 rows × 73 columns</p>\n",
              "</div>\n",
              "    <div class=\"colab-df-buttons\">\n",
              "\n",
              "  <div class=\"colab-df-container\">\n",
              "    <button class=\"colab-df-convert\" onclick=\"convertToInteractive('df-039c55b2-3ad1-4786-a978-65f755178363')\"\n",
              "            title=\"Convert this dataframe to an interactive table.\"\n",
              "            style=\"display:none;\">\n",
              "\n",
              "  <svg xmlns=\"http://www.w3.org/2000/svg\" height=\"24px\" viewBox=\"0 -960 960 960\">\n",
              "    <path d=\"M120-120v-720h720v720H120Zm60-500h600v-160H180v160Zm220 220h160v-160H400v160Zm0 220h160v-160H400v160ZM180-400h160v-160H180v160Zm440 0h160v-160H620v160ZM180-180h160v-160H180v160Zm440 0h160v-160H620v160Z\"/>\n",
              "  </svg>\n",
              "    </button>\n",
              "\n",
              "  <style>\n",
              "    .colab-df-container {\n",
              "      display:flex;\n",
              "      gap: 12px;\n",
              "    }\n",
              "\n",
              "    .colab-df-convert {\n",
              "      background-color: #E8F0FE;\n",
              "      border: none;\n",
              "      border-radius: 50%;\n",
              "      cursor: pointer;\n",
              "      display: none;\n",
              "      fill: #1967D2;\n",
              "      height: 32px;\n",
              "      padding: 0 0 0 0;\n",
              "      width: 32px;\n",
              "    }\n",
              "\n",
              "    .colab-df-convert:hover {\n",
              "      background-color: #E2EBFA;\n",
              "      box-shadow: 0px 1px 2px rgba(60, 64, 67, 0.3), 0px 1px 3px 1px rgba(60, 64, 67, 0.15);\n",
              "      fill: #174EA6;\n",
              "    }\n",
              "\n",
              "    .colab-df-buttons div {\n",
              "      margin-bottom: 4px;\n",
              "    }\n",
              "\n",
              "    [theme=dark] .colab-df-convert {\n",
              "      background-color: #3B4455;\n",
              "      fill: #D2E3FC;\n",
              "    }\n",
              "\n",
              "    [theme=dark] .colab-df-convert:hover {\n",
              "      background-color: #434B5C;\n",
              "      box-shadow: 0px 1px 3px 1px rgba(0, 0, 0, 0.15);\n",
              "      filter: drop-shadow(0px 1px 2px rgba(0, 0, 0, 0.3));\n",
              "      fill: #FFFFFF;\n",
              "    }\n",
              "  </style>\n",
              "\n",
              "    <script>\n",
              "      const buttonEl =\n",
              "        document.querySelector('#df-039c55b2-3ad1-4786-a978-65f755178363 button.colab-df-convert');\n",
              "      buttonEl.style.display =\n",
              "        google.colab.kernel.accessAllowed ? 'block' : 'none';\n",
              "\n",
              "      async function convertToInteractive(key) {\n",
              "        const element = document.querySelector('#df-039c55b2-3ad1-4786-a978-65f755178363');\n",
              "        const dataTable =\n",
              "          await google.colab.kernel.invokeFunction('convertToInteractive',\n",
              "                                                    [key], {});\n",
              "        if (!dataTable) return;\n",
              "\n",
              "        const docLinkHtml = 'Like what you see? Visit the ' +\n",
              "          '<a target=\"_blank\" href=https://colab.research.google.com/notebooks/data_table.ipynb>data table notebook</a>'\n",
              "          + ' to learn more about interactive tables.';\n",
              "        element.innerHTML = '';\n",
              "        dataTable['output_type'] = 'display_data';\n",
              "        await google.colab.output.renderOutput(dataTable, element);\n",
              "        const docLink = document.createElement('div');\n",
              "        docLink.innerHTML = docLinkHtml;\n",
              "        element.appendChild(docLink);\n",
              "      }\n",
              "    </script>\n",
              "  </div>\n",
              "\n",
              "\n",
              "<div id=\"df-481f93b1-df61-44b3-8f8b-64aab705264a\">\n",
              "  <button class=\"colab-df-quickchart\" onclick=\"quickchart('df-481f93b1-df61-44b3-8f8b-64aab705264a')\"\n",
              "            title=\"Suggest charts\"\n",
              "            style=\"display:none;\">\n",
              "\n",
              "<svg xmlns=\"http://www.w3.org/2000/svg\" height=\"24px\"viewBox=\"0 0 24 24\"\n",
              "     width=\"24px\">\n",
              "    <g>\n",
              "        <path d=\"M19 3H5c-1.1 0-2 .9-2 2v14c0 1.1.9 2 2 2h14c1.1 0 2-.9 2-2V5c0-1.1-.9-2-2-2zM9 17H7v-7h2v7zm4 0h-2V7h2v10zm4 0h-2v-4h2v4z\"/>\n",
              "    </g>\n",
              "</svg>\n",
              "  </button>\n",
              "\n",
              "<style>\n",
              "  .colab-df-quickchart {\n",
              "      --bg-color: #E8F0FE;\n",
              "      --fill-color: #1967D2;\n",
              "      --hover-bg-color: #E2EBFA;\n",
              "      --hover-fill-color: #174EA6;\n",
              "      --disabled-fill-color: #AAA;\n",
              "      --disabled-bg-color: #DDD;\n",
              "  }\n",
              "\n",
              "  [theme=dark] .colab-df-quickchart {\n",
              "      --bg-color: #3B4455;\n",
              "      --fill-color: #D2E3FC;\n",
              "      --hover-bg-color: #434B5C;\n",
              "      --hover-fill-color: #FFFFFF;\n",
              "      --disabled-bg-color: #3B4455;\n",
              "      --disabled-fill-color: #666;\n",
              "  }\n",
              "\n",
              "  .colab-df-quickchart {\n",
              "    background-color: var(--bg-color);\n",
              "    border: none;\n",
              "    border-radius: 50%;\n",
              "    cursor: pointer;\n",
              "    display: none;\n",
              "    fill: var(--fill-color);\n",
              "    height: 32px;\n",
              "    padding: 0;\n",
              "    width: 32px;\n",
              "  }\n",
              "\n",
              "  .colab-df-quickchart:hover {\n",
              "    background-color: var(--hover-bg-color);\n",
              "    box-shadow: 0 1px 2px rgba(60, 64, 67, 0.3), 0 1px 3px 1px rgba(60, 64, 67, 0.15);\n",
              "    fill: var(--button-hover-fill-color);\n",
              "  }\n",
              "\n",
              "  .colab-df-quickchart-complete:disabled,\n",
              "  .colab-df-quickchart-complete:disabled:hover {\n",
              "    background-color: var(--disabled-bg-color);\n",
              "    fill: var(--disabled-fill-color);\n",
              "    box-shadow: none;\n",
              "  }\n",
              "\n",
              "  .colab-df-spinner {\n",
              "    border: 2px solid var(--fill-color);\n",
              "    border-color: transparent;\n",
              "    border-bottom-color: var(--fill-color);\n",
              "    animation:\n",
              "      spin 1s steps(1) infinite;\n",
              "  }\n",
              "\n",
              "  @keyframes spin {\n",
              "    0% {\n",
              "      border-color: transparent;\n",
              "      border-bottom-color: var(--fill-color);\n",
              "      border-left-color: var(--fill-color);\n",
              "    }\n",
              "    20% {\n",
              "      border-color: transparent;\n",
              "      border-left-color: var(--fill-color);\n",
              "      border-top-color: var(--fill-color);\n",
              "    }\n",
              "    30% {\n",
              "      border-color: transparent;\n",
              "      border-left-color: var(--fill-color);\n",
              "      border-top-color: var(--fill-color);\n",
              "      border-right-color: var(--fill-color);\n",
              "    }\n",
              "    40% {\n",
              "      border-color: transparent;\n",
              "      border-right-color: var(--fill-color);\n",
              "      border-top-color: var(--fill-color);\n",
              "    }\n",
              "    60% {\n",
              "      border-color: transparent;\n",
              "      border-right-color: var(--fill-color);\n",
              "    }\n",
              "    80% {\n",
              "      border-color: transparent;\n",
              "      border-right-color: var(--fill-color);\n",
              "      border-bottom-color: var(--fill-color);\n",
              "    }\n",
              "    90% {\n",
              "      border-color: transparent;\n",
              "      border-bottom-color: var(--fill-color);\n",
              "    }\n",
              "  }\n",
              "</style>\n",
              "\n",
              "  <script>\n",
              "    async function quickchart(key) {\n",
              "      const quickchartButtonEl =\n",
              "        document.querySelector('#' + key + ' button');\n",
              "      quickchartButtonEl.disabled = true;  // To prevent multiple clicks.\n",
              "      quickchartButtonEl.classList.add('colab-df-spinner');\n",
              "      try {\n",
              "        const charts = await google.colab.kernel.invokeFunction(\n",
              "            'suggestCharts', [key], {});\n",
              "      } catch (error) {\n",
              "        console.error('Error during call to suggestCharts:', error);\n",
              "      }\n",
              "      quickchartButtonEl.classList.remove('colab-df-spinner');\n",
              "      quickchartButtonEl.classList.add('colab-df-quickchart-complete');\n",
              "    }\n",
              "    (() => {\n",
              "      let quickchartButtonEl =\n",
              "        document.querySelector('#df-481f93b1-df61-44b3-8f8b-64aab705264a button');\n",
              "      quickchartButtonEl.style.display =\n",
              "        google.colab.kernel.accessAllowed ? 'block' : 'none';\n",
              "    })();\n",
              "  </script>\n",
              "</div>\n",
              "    </div>\n",
              "  </div>\n"
            ]
          },
          "metadata": {},
          "execution_count": 15
        }
      ]
    },
    {
      "cell_type": "code",
      "source": [
        "X\n"
      ],
      "metadata": {
        "colab": {
          "base_uri": "https://localhost:8080/"
        },
        "id": "CW5qqGwdBsGb",
        "outputId": "65051a32-2430-409b-cee5-5ecc6c200aab"
      },
      "execution_count": null,
      "outputs": [
        {
          "output_type": "execute_result",
          "data": {
            "text/plain": [
              "array([[1, 0, 0, ..., 1, 0, 0],\n",
              "       [0, 0, 0, ..., 0, 0, 0],\n",
              "       [1, 0, 0, ..., 0, 0, 0],\n",
              "       ...,\n",
              "       [0, 1, 0, ..., 1, 0, 0],\n",
              "       [0, 1, 0, ..., 0, 0, 0],\n",
              "       [0, 1, 0, ..., 0, 0, 0]])"
            ]
          },
          "metadata": {},
          "execution_count": 16
        }
      ]
    },
    {
      "cell_type": "markdown",
      "source": [
        "# **Dividir los datos de entrenamiento y prueba**"
      ],
      "metadata": {
        "id": "BXM_P5yq_6g8"
      }
    },
    {
      "cell_type": "code",
      "source": [
        "\n",
        "# Dividir datos en conjuntos de entrenamiento y prueba\n",
        "X_train, X_val, y_train, y_val = train_test_split(X, y, test_size=0.3, random_state=42)\n",
        "\n",
        "# Verificar las dimensiones después de la división\n",
        "print(\"Dimensiones de X_train:\", X_train.shape)\n",
        "print(\"Dimensiones de y_train:\", y_train.shape)\n",
        "print(\"Dimensiones de X_val:\", X_val.shape)\n",
        "print(\"Dimensiones de y_val:\", y_val.shape)\n"
      ],
      "metadata": {
        "colab": {
          "base_uri": "https://localhost:8080/"
        },
        "id": "EHDkTTX9G0zV",
        "outputId": "e66b1e0a-cf90-48aa-d976-0bd7c42dc446"
      },
      "execution_count": null,
      "outputs": [
        {
          "output_type": "stream",
          "name": "stdout",
          "text": [
            "Dimensiones de X_train: (300154, 73)\n",
            "Dimensiones de y_train: (300154,)\n",
            "Dimensiones de X_val: (128638, 73)\n",
            "Dimensiones de y_val: (128638,)\n"
          ]
        }
      ]
    },
    {
      "cell_type": "code",
      "source": [
        "X_train"
      ],
      "metadata": {
        "colab": {
          "base_uri": "https://localhost:8080/"
        },
        "id": "9z5o_nhYBm3V",
        "outputId": "d0d3b513-b9cd-46fd-c842-5060b14cc587"
      },
      "execution_count": null,
      "outputs": [
        {
          "output_type": "execute_result",
          "data": {
            "text/plain": [
              "array([[0, 0, 0, ..., 0, 0, 0],\n",
              "       [1, 0, 0, ..., 0, 0, 0],\n",
              "       [0, 0, 0, ..., 0, 0, 0],\n",
              "       ...,\n",
              "       [0, 1, 0, ..., 0, 0, 0],\n",
              "       [0, 0, 0, ..., 0, 0, 0],\n",
              "       [1, 0, 0, ..., 1, 0, 0]])"
            ]
          },
          "metadata": {},
          "execution_count": 18
        }
      ]
    },
    {
      "cell_type": "markdown",
      "source": [
        "#Redución de dimensionalidad con LDA"
      ],
      "metadata": {
        "id": "eGsKoqVhzZyn"
      }
    },
    {
      "cell_type": "code",
      "source": [
        "from sklearn.decomposition import LatentDirichletAllocation as LDA\n",
        "# Aplicar LDA para reducir la dimensionalidad\n",
        "n_topics = 10  # Define el número de tópicos (componentes)\n",
        "lda = LDA(n_components=n_topics)\n",
        "X_train = lda.fit_transform(X_train, y_train)\n",
        "X_val = lda.transform(X_val)"
      ],
      "metadata": {
        "id": "NXK8Vs6Ez8Qx"
      },
      "execution_count": null,
      "outputs": []
    },
    {
      "cell_type": "code",
      "source": [
        "print(X_train.shape)\n",
        "print(X_val.shape)\n",
        "print(y_train.shape)\n",
        "print(y_val.shape)"
      ],
      "metadata": {
        "colab": {
          "base_uri": "https://localhost:8080/"
        },
        "id": "XPqrFRMw97fT",
        "outputId": "25533946-8f67-4833-98cf-ac5e30da8e03"
      },
      "execution_count": null,
      "outputs": [
        {
          "output_type": "stream",
          "name": "stdout",
          "text": [
            "(300154, 10)\n",
            "(128638, 10)\n",
            "(300154,)\n",
            "(128638,)\n"
          ]
        }
      ]
    },
    {
      "cell_type": "markdown",
      "source": [
        "**Modelo análisis de texto**"
      ],
      "metadata": {
        "id": "42176aZnCQAz"
      }
    },
    {
      "cell_type": "markdown",
      "source": [
        "#Red neuronal"
      ],
      "metadata": {
        "id": "biZew38mWzN_"
      }
    },
    {
      "cell_type": "code",
      "source": [
        "# Crear una red neuronal secuencial\n",
        "\n",
        "model = Sequential()\n",
        "\n",
        "# Agregar una capa de entrada con el número de características\n",
        "model.add(Dense(328, activation='relu', input_dim=X_train.shape[1]))\n",
        "model.add(Dropout(0.1))  # Dropout para regularización\n",
        "\n",
        "# Agregar una capa oculta\n",
        "model.add(Dense(264, activation='relu'))\n",
        "model.add(Dropout(0.1))  # Dropout para regularización\n",
        "\n",
        "# Agregar una capa oculta\n",
        "model.add(Dense(164, activation='relu'))\n",
        "model.add(Dropout(0.1))  # Dropout para regularización\n",
        "\n",
        "# Agregar una capa oculta\n",
        "model.add(Dense(100, activation='relu'))\n",
        "model.add(Dropout(0.1))  # Dropout para regularización\n",
        "\n",
        "# Agregar una capa oculta\n",
        "model.add(Dense(64, activation='relu'))\n",
        "model.add(Dropout(0.1))  # Dropout para regularización\n",
        "\n",
        "\n",
        "# Agregar una capa de salida con una neurona y función de activación sigmoide para clasificación binaria\n",
        "model.add(Dense(1, activation='sigmoid'))\n",
        "\n",
        "# Compilar el modelo\n",
        "model.compile(optimizer='adam', loss='binary_crossentropy', metrics=['accuracy'])\n",
        "\n",
        "# Entrenar el modelo en los datos de entrenamiento\n",
        "history = model.fit(X_train, y_train, epochs=10, batch_size=50, validation_data=(X_val, y_val))\n",
        "\n",
        "# Evaluar el modelo en el conjunto de validación\n",
        "y_val_pred = (model.predict(X_val) > 0.5).astype(int)\n",
        "\n",
        "# Calcular métricas de evaluación en el conjunto de validación\n",
        "accuracy = accuracy_score(y_val, y_val_pred)\n",
        "precision = precision_score(y_val, y_val_pred)\n",
        "recall = recall_score(y_val, y_val_pred)\n",
        "f1 = f1_score(y_val, y_val_pred)\n",
        "\n",
        "# Calcular métricas de evaluación en el conjunto de entrenamiento\n",
        "y_train_pred = (model.predict(X_train) > 0.5).astype(int)\n",
        "\n",
        "accuracy_train = accuracy_score(y_train, y_train_pred)\n",
        "precision_train = precision_score(y_train, y_train_pred)\n",
        "recall_train = recall_score(y_train, y_train_pred)\n",
        "f1_train = f1_score(y_train, y_train_pred)"
      ],
      "metadata": {
        "colab": {
          "base_uri": "https://localhost:8080/"
        },
        "id": "A76ubucGY005",
        "outputId": "ff5b69d7-9b61-4816-9630-5c8f4e4311a9"
      },
      "execution_count": null,
      "outputs": [
        {
          "output_type": "stream",
          "name": "stdout",
          "text": [
            "Epoch 1/10\n",
            "6004/6004 [==============================] - 62s 9ms/step - loss: 0.6380 - accuracy: 0.6200 - val_loss: 0.6327 - val_accuracy: 0.6233\n",
            "Epoch 2/10\n",
            "6004/6004 [==============================] - 53s 9ms/step - loss: 0.6338 - accuracy: 0.6226 - val_loss: 0.6324 - val_accuracy: 0.6253\n",
            "Epoch 3/10\n",
            "6004/6004 [==============================] - 54s 9ms/step - loss: 0.6324 - accuracy: 0.6244 - val_loss: 0.6336 - val_accuracy: 0.6246\n",
            "Epoch 4/10\n",
            "6004/6004 [==============================] - 60s 10ms/step - loss: 0.6312 - accuracy: 0.6264 - val_loss: 0.6293 - val_accuracy: 0.6291\n",
            "Epoch 5/10\n",
            "6004/6004 [==============================] - 56s 9ms/step - loss: 0.6300 - accuracy: 0.6288 - val_loss: 0.6327 - val_accuracy: 0.6302\n",
            "Epoch 6/10\n",
            "6004/6004 [==============================] - 55s 9ms/step - loss: 0.6294 - accuracy: 0.6296 - val_loss: 0.6293 - val_accuracy: 0.6308\n",
            "Epoch 7/10\n",
            "6004/6004 [==============================] - 57s 9ms/step - loss: 0.6284 - accuracy: 0.6312 - val_loss: 0.6286 - val_accuracy: 0.6318\n",
            "Epoch 8/10\n",
            "6004/6004 [==============================] - 60s 10ms/step - loss: 0.6279 - accuracy: 0.6314 - val_loss: 0.6286 - val_accuracy: 0.6302\n",
            "Epoch 9/10\n",
            "6004/6004 [==============================] - 55s 9ms/step - loss: 0.6278 - accuracy: 0.6317 - val_loss: 0.6276 - val_accuracy: 0.6327\n",
            "Epoch 10/10\n",
            "6004/6004 [==============================] - 55s 9ms/step - loss: 0.6276 - accuracy: 0.6327 - val_loss: 0.6278 - val_accuracy: 0.6297\n",
            "4020/4020 [==============================] - 8s 2ms/step\n",
            "9380/9380 [==============================] - 21s 2ms/step\n"
          ]
        }
      ]
    },
    {
      "cell_type": "code",
      "source": [
        "# Imprimir métricas de entrenamiento\n",
        "print(\"\\nMétricas en el conjunto de entrenamiento:\")\n",
        "print(f\"Exactitud (entrenamiento): {round(accuracy_train, 2) * 100}%\")\n",
        "print(f\"Precisión (entrenamiento): {round(precision_train, 2) * 100}%\")\n",
        "print(f\"Recall (entrenamiento): {round(recall_train, 2) * 100}%\")\n",
        "print(f\"F1-score (entrenamiento): {round(f1_train, 2) * 100}%\")\n",
        "print('-------------------------------------------------------------------------')\n",
        "# Imprimir métricas de evaluación\n",
        "print(f\"Exactitud en el conjunto de validación: {round(accuracy, 2) * 100}%\")\n",
        "print(f\"Precisión en el conjunto de validación: {round(precision, 2) * 100}%\")\n",
        "print(f\"Recall en el conjunto de validación: {round(recall, 2) * 100}%\")\n",
        "print(f\"F1-score en el conjunto de validación: {round(f1, 2) * 100}%\")"
      ],
      "metadata": {
        "colab": {
          "base_uri": "https://localhost:8080/"
        },
        "id": "hXVDgU6vY6IL",
        "outputId": "2224f345-c6a0-417b-b6c1-f302c96c42fd"
      },
      "execution_count": null,
      "outputs": [
        {
          "output_type": "stream",
          "name": "stdout",
          "text": [
            "\n",
            "Métricas en el conjunto de entrenamiento:\n",
            "Exactitud (entrenamiento): 63.0%\n",
            "Precisión (entrenamiento): 60.0%\n",
            "Recall (entrenamiento): 50.0%\n",
            "F1-score (entrenamiento): 54.0%\n",
            "-------------------------------------------------------------------------\n",
            "Exactitud en el conjunto de validación: 63.0%\n",
            "Precisión en el conjunto de validación: 60.0%\n",
            "Recall en el conjunto de validación: 50.0%\n",
            "F1-score en el conjunto de validación: 54.0%\n"
          ]
        }
      ]
    },
    {
      "cell_type": "markdown",
      "source": [
        "# **Matriz de confusión**"
      ],
      "metadata": {
        "id": "zrnag9LChBJk"
      }
    },
    {
      "cell_type": "code",
      "source": [
        "from sklearn.metrics import confusion_matrix\n",
        "\n",
        "y_pred = model.predict(X_val)\n",
        "\n",
        "# Obtiene la matriz de confusión. Las filas corresponden a las clases reales,\n",
        "umbral = 0.5  # Puedes ajustar este umbral según tus necesidades\n",
        "y_pred_binario = (y_pred > umbral).astype(int)\n",
        "\n",
        "# Calcular la matriz de confusión con las etiquetas binarias\n",
        "cm = confusion_matrix(y_val, y_pred_binario)\n",
        "prop_real = np.sum(y_val)/len(y_val)\n",
        "prop_etiqutados = (cm[0,1]+cm[1,1])/len(y_val)\n",
        "\n",
        "print(\"Matriz de confusión: \\n\\n\", cm, \"\\n\")\n",
        "print('Proporción de comentarios positivos: %.2f'% prop_real)\n",
        "print('Proporción de comentarios positivos etiquetados: %.2f'% prop_etiqutados)"
      ],
      "metadata": {
        "colab": {
          "base_uri": "https://localhost:8080/"
        },
        "id": "7jAmF9ruhK_z",
        "outputId": "feef3775-1930-4383-b2cb-cfccfca4490f"
      },
      "execution_count": null,
      "outputs": [
        {
          "output_type": "stream",
          "name": "stdout",
          "text": [
            "4020/4020 [==============================] - 8s 2ms/step\n",
            "Matriz de confusión: \n",
            "\n",
            " [[52682 19173]\n",
            " [28464 28319]] \n",
            "\n",
            "Proporción de comentarios positivos: 0.44\n",
            "Proporción de comentarios positivos etiquetados: 0.37\n"
          ]
        }
      ]
    },
    {
      "cell_type": "code",
      "source": [
        "import seaborn as sns\n",
        "import matplotlib.pyplot as plt\n",
        "\n",
        "# Crear una figura para la matriz de confusión\n",
        "plt.figure(figsize=(8, 6))\n",
        "\n",
        "# Crear una matriz de confusión usando el heatmap de Seaborn\n",
        "sns.heatmap(cm, annot=True, fmt=\"d\", cmap=\"Blues\", xticklabels=['Control', 'Ansiedad'], yticklabels=['Control', 'Ansiedad'])\n",
        "\n",
        "# Etiquetas y título\n",
        "plt.xlabel('Predicción')\n",
        "plt.ylabel('Valor Real')\n",
        "plt.title('Matriz de Confusión (Usarios con Ansiedad vs de control)')\n",
        "\n",
        "# Mostrar la gráfica\n",
        "plt.show()"
      ],
      "metadata": {
        "colab": {
          "base_uri": "https://localhost:8080/",
          "height": 564
        },
        "id": "JkILkBO4hc1r",
        "outputId": "5be34a10-b16e-4337-9a24-9f4ec55b10dc"
      },
      "execution_count": null,
      "outputs": [
        {
          "output_type": "display_data",
          "data": {
            "text/plain": [
              "<Figure size 800x600 with 2 Axes>"
            ],
            "image/png": "[encoded data removed]"
          },
          "metadata": {}
        }
      ]
    },
    {
      "cell_type": "markdown",
      "source": [
        "#Modelo Bosque Aleatorio"
      ],
      "metadata": {
        "id": "Jr7wkaLH8D9Y"
      }
    },
    {
      "cell_type": "code",
      "source": [
        "from sklearn.ensemble import RandomForestClassifier\n",
        "from sklearn.metrics import accuracy_score, precision_score, recall_score, f1_score\n",
        "\n",
        "# Importa las librerías necesarias y divide los datos en conjuntos de entrenamiento y validación\n",
        "from sklearn.model_selection import train_test_split\n",
        "\n",
        "# X_train, X_val, y_train, y_val\n",
        "\n",
        "# Crea un modelo de Random Forest\n",
        "random_forest_model = RandomForestClassifier(n_estimators=300,  # Numero de alboles\n",
        "                                             max_depth=100, # profunidad máxima\n",
        "                                             random_state=42)  # selección de la semilla de manera aleatoria\n",
        "\n",
        "\n",
        "# Entrena el modelo en los datos de entrenamiento\n",
        "random_forest_model.fit(X_train, y_train)\n",
        "\n",
        "# Realiza predicciones en los datos de validación\n",
        "y_val_pred = random_forest_model.predict(X_val)\n",
        "\n",
        "# Calcula la precisión (accuracy) del modelo en los datos de validación\n",
        "accuracy = accuracy_score(y_val, y_val_pred)\n",
        "print(\"Accuracy (validación): {:.2f}\".format(accuracy))\n",
        "\n",
        "# Calcula la precisión del modelo en los datos de validación\n",
        "precision = precision_score(y_val, y_val_pred)\n",
        "print(\"Precision (validación): {:.2f}\".format(precision))\n",
        "\n",
        "# Calcula la exactitud (recall) del modelo en los datos de validación\n",
        "recall = recall_score(y_val, y_val_pred)\n",
        "print(\"Recall (validación): {:.2f}\".format(recall))\n",
        "\n",
        "# Calcula el F1-score del modelo en los datos de validación\n",
        "f1 = f1_score(y_val, y_val_pred)\n",
        "print(\"F1-score (validación): {:.2f}\".format(f1))\n",
        "\n",
        "# Calcula y muestra métricas en el conjunto de entrenamiento\n",
        "y_train_pred = random_forest_model.predict(X_train)\n",
        "\n",
        "accuracy_train = accuracy_score(y_train, y_train_pred)\n",
        "precision_train = precision_score(y_train, y_train_pred)\n",
        "recall_train = recall_score(y_train, y_train_pred)\n",
        "f1_train = f1_score(y_train, y_train_pred)\n",
        "\n",
        "#\n",
        "\n",
        "\n"
      ],
      "metadata": {
        "id": "Yf9iwokE-QqU",
        "colab": {
          "base_uri": "https://localhost:8080/"
        },
        "outputId": "252f86fc-ea62-4017-8148-535fb2ce347f"
      },
      "execution_count": null,
      "outputs": [
        {
          "output_type": "stream",
          "name": "stdout",
          "text": [
            "Accuracy (validación): 0.65\n",
            "Precision (validación): 0.62\n",
            "Recall (validación): 0.51\n",
            "F1-score (validación): 0.56\n"
          ]
        }
      ]
    },
    {
      "cell_type": "code",
      "source": [
        "# Imprimir las métricas de entrenamiento\n",
        "print(f'Accuracy entrenamiento: {accuracy_train * 100:.2f}%')\n",
        "print(f'Precisión  entrenamiento: {precision_train * 100:.2f}%')\n",
        "print(f'Recall  entrenamiento: {recall_train * 100:.2f}%')\n",
        "print(f'Puntuación F1  entrenamiento: {f1_train * 100:.2f}%')\n",
        "print('\\n')\n",
        "# Imprimir las métricas de validación\n",
        "print(f'Accuracy  validación: {accuracy * 100:.2f}%')\n",
        "print(f'Precisión  validación: {precision* 100:.2f}%')\n",
        "print(f'Recall  validación: {recall* 100:.2f}%')\n",
        "print(f'Puntuación F1 validación: {f1 * 100:.2f}%')"
      ],
      "metadata": {
        "colab": {
          "base_uri": "https://localhost:8080/"
        },
        "id": "NkRDcwJA-Vto",
        "outputId": "8bd2c518-b535-4865-91b4-1100c3dfab71"
      },
      "execution_count": null,
      "outputs": [
        {
          "output_type": "stream",
          "name": "stdout",
          "text": [
            "Accuracy entrenamiento: 89.59%\n",
            "Precisión  entrenamiento: 96.10%\n",
            "Recall  entrenamiento: 79.72%\n",
            "Puntuación F1  entrenamiento: 87.14%\n",
            "\n",
            "\n",
            "Accuracy  validación: 64.75%\n",
            "Precisión  validación: 62.23%\n",
            "Recall  validación: 51.25%\n",
            "Puntuación F1 validación: 56.21%\n"
          ]
        }
      ]
    },
    {
      "cell_type": "markdown",
      "source": [
        "# **Matriz de confusión**"
      ],
      "metadata": {
        "id": "PnsoHsgnjbBL"
      }
    },
    {
      "cell_type": "code",
      "source": [
        "from sklearn.metrics import confusion_matrix\n",
        "\n",
        "y_pred_RF = random_forest_model.predict(X_val)\n",
        "\n",
        "# Obtiene la matriz de confusión. Las filas corresponden a las clases reales,\n",
        "umbral = 0.5  # Puedes ajustar este umbral según tus necesidades\n",
        "y_pred_binario = (y_pred_RF > umbral).astype(int)\n",
        "\n",
        "# Calcular la matriz de confusión con las etiquetas binarias\n",
        "cm = confusion_matrix(y_val, y_pred_binario)\n",
        "prop_real = np.sum(y_val)/len(y_val)\n",
        "prop_etiqutados = (cm[0,1]+cm[1,1])/len(y_val)\n",
        "\n",
        "print(\"Matriz de confusión: \\n\\n\", cm, \"\\n\")\n",
        "print('Proporción de comentarios positivos: %.2f'% prop_real)\n",
        "print('Proporción de comentarios positivos etiquetados: %.2f'% prop_etiqutados)"
      ],
      "metadata": {
        "colab": {
          "base_uri": "https://localhost:8080/"
        },
        "outputId": "7b3526c0-dc2e-4a71-ad67-21e5ca1ac808",
        "id": "ge2kdDirjbBU"
      },
      "execution_count": null,
      "outputs": [
        {
          "output_type": "stream",
          "name": "stdout",
          "text": [
            "Matriz de confusión: \n",
            "\n",
            " [[54197 17658]\n",
            " [27684 29099]] \n",
            "\n",
            "Proporción de comentarios positivos: 0.44\n",
            "Proporción de comentarios positivos etiquetados: 0.36\n"
          ]
        }
      ]
    },
    {
      "cell_type": "code",
      "source": [
        "import seaborn as sns\n",
        "import matplotlib.pyplot as plt\n",
        "\n",
        "# Crear una figura para la matriz de confusión\n",
        "plt.figure(figsize=(8, 6))\n",
        "\n",
        "# Crear una matriz de confusión usando el heatmap de Seaborn\n",
        "sns.heatmap(cm, annot=True, fmt=\"d\", cmap=\"Blues\", xticklabels=['Control', 'Ansiedad'], yticklabels=['Control', 'Ansiedad'])\n",
        "\n",
        "# Etiquetas y título\n",
        "plt.xlabel('Predicción')\n",
        "plt.ylabel('Valor Real')\n",
        "plt.title('Matriz de Confusión (Usarios con Ansiedad vs de control)')\n",
        "\n",
        "# Mostrar la gráfica\n",
        "plt.show()"
      ],
      "metadata": {
        "colab": {
          "base_uri": "https://localhost:8080/",
          "height": 564
        },
        "outputId": "60fc7ff5-a08b-425a-a95a-92b11cfe0044",
        "id": "gUFypmG1jbBV"
      },
      "execution_count": null,
      "outputs": [
        {
          "output_type": "display_data",
          "data": {
            "text/plain": [
              "<Figure size 800x600 with 2 Axes>"
            ],
            "image/png": "[encoded data removed]"
          },
          "metadata": {}
        }
      ]
    },
    {
      "cell_type": "markdown",
      "source": [
        "#Modelo SVM"
      ],
      "metadata": {
        "id": "tpe64XnkBjMZ"
      }
    },
    {
      "cell_type": "code",
      "source": [
        "from sklearn.svm import SVC\n",
        "from sklearn.metrics import accuracy_score, precision_score, recall_score, f1_score\n",
        "import joblib\n",
        "import os\n",
        "\n",
        "svm_model_p = SVC(kernel='poly', degree=4, C=50000,  max_iter=10000, probability=False, gamma='scale', coef0=2.5)\n",
        "\n",
        "# Entrenar el modelo en los datos de entrenamiento\n",
        "svm_model_p.fit(X_train, y_train)\n",
        "\n",
        "# Predecir etiquetas en el conjunto de validación\n",
        "y_val_pred = svm_model_p.predict(X_val)\n",
        "\n",
        "# Calcula la precisión del modelo en el conjunto de validación\n",
        "accuracy = accuracy_score(y_val, y_val_pred)\n",
        "\n",
        "\n",
        "# Calcula precisión, exhaustividad y puntuación F1 en el conjunto de validación\n",
        "precision = precision_score(y_val, y_val_pred)\n",
        "recall = recall_score(y_val, y_val_pred)\n",
        "f1 = f1_score(y_val, y_val_pred)\n",
        "\n",
        "# Calcula y muestra métricas en el conjunto de entrenamiento\n",
        "y_train_pred = svm_model_p.predict(X_train)\n",
        "\n",
        "accuracy_train = accuracy_score(y_train, y_train_pred)\n",
        "precision_train = precision_score(y_train, y_train_pred)\n",
        "recall_train = recall_score(y_train, y_train_pred)\n",
        "f1_train = f1_score(y_train, y_train_pred)\n",
        "\n",
        "print(\"\\nEntrenamiento:\")\n",
        "print(\"Exactitud (entrenamiento): {:.2f}%\".format(accuracy_train*100))\n",
        "print(\"Precision (entrenamiento): {:.2f}%\".format(precision_train*100))\n",
        "print(\"Recall (entrenamiento): {:.2f}%\".format(recall_train*100))\n",
        "print(\"F1-score (entrenamiento): {:.2f}%\".format(f1_train*100))\n",
        "print(\"\\nValidación:\")\n",
        "print(f\"Exactitud en el conjunto de validación: {round(accuracy,2)*100}%\")\n",
        "print(f\"Precisión en el conjunto de validación:{round(precision,2)*100}%\")\n",
        "print(f\"Recall en el conjunto de validación: {round(recall,2)*100}%\")\n",
        "print(f\"F1-score en el conjunto de validación:{round(f1,2)*100}%\")\n",
        "\n"
      ],
      "metadata": {
        "colab": {
          "base_uri": "https://localhost:8080/"
        },
        "id": "abWDh27ABtdx",
        "outputId": "99fe6326-aa16-4241-c373-74abd366f42a"
      },
      "execution_count": null,
      "outputs": [
        {
          "output_type": "stream",
          "name": "stderr",
          "text": [
            "/usr/local/lib/python3.10/dist-packages/sklearn/svm/_base.py:299: ConvergenceWarning: Solver terminated early (max_iter=10000).  Consider pre-processing your data with StandardScaler or MinMaxScaler.\n",
            "  warnings.warn(\n"
          ]
        },
        {
          "output_type": "stream",
          "name": "stdout",
          "text": [
            "\n",
            "Entrenamiento:\n",
            "Exactitud (entrenamiento): 49.27%\n",
            "Precision (entrenamiento): 43.24%\n",
            "Recall (entrenamiento): 46.61%\n",
            "F1-score (entrenamiento): 44.86%\n",
            "\n",
            "Validación:\n",
            "Exactitud en el conjunto de validación: 49.0%\n",
            "Precisión en el conjunto de validación:43.0%\n",
            "Recall en el conjunto de validación: 47.0%\n",
            "F1-score en el conjunto de validación:45.0%\n"
          ]
        }
      ]
    },
    {
      "cell_type": "markdown",
      "source": [
        "# **Matriz de confusión**"
      ],
      "metadata": {
        "id": "UQJHYe_5mFmL"
      }
    },
    {
      "cell_type": "code",
      "source": [
        "from sklearn.metrics import confusion_matrix\n",
        "\n",
        "y_pred_RF = svm_model_p.predict(X_val)\n",
        "\n",
        "# Obtiene la matriz de confusión. Las filas corresponden a las clases reales,\n",
        "umbral = 0.5  # Puedes ajustar este umbral según tus necesidades\n",
        "y_pred_binario = (y_pred_RF > umbral).astype(int)\n",
        "\n",
        "# Calcular la matriz de confusión con las etiquetas binarias\n",
        "cm = confusion_matrix(y_val, y_pred_binario)\n",
        "prop_real = np.sum(y_val)/len(y_val)\n",
        "prop_etiqutados = (cm[0,1]+cm[1,1])/len(y_val)\n",
        "\n",
        "print(\"Matriz de confusión: \\n\\n\", cm, \"\\n\")\n",
        "print('Proporción de comentarios positivos: %.2f'% prop_real)\n",
        "print('Proporción de comentarios positivos etiquetados: %.2f'% prop_etiqutados)"
      ],
      "metadata": {
        "colab": {
          "base_uri": "https://localhost:8080/"
        },
        "outputId": "e47c99d7-ee3e-4c2c-e629-441f336355e8",
        "id": "bEh8aTdumFmT"
      },
      "execution_count": null,
      "outputs": [
        {
          "output_type": "stream",
          "name": "stdout",
          "text": [
            "Matriz de confusión: \n",
            "\n",
            " [[36800 35055]\n",
            " [30131 26652]] \n",
            "\n",
            "Proporción de comentarios positivos: 0.44\n",
            "Proporción de comentarios positivos etiquetados: 0.48\n"
          ]
        }
      ]
    },
    {
      "cell_type": "code",
      "source": [
        "import seaborn as sns\n",
        "import matplotlib.pyplot as plt\n",
        "\n",
        "# Crear una figura para la matriz de confusión\n",
        "plt.figure(figsize=(8, 6))\n",
        "\n",
        "# Crear una matriz de confusión usando el heatmap de Seaborn\n",
        "sns.heatmap(cm, annot=True, fmt=\"d\", cmap=\"Blues\", xticklabels=['Control', 'Ansiedad'], yticklabels=['Control', 'Ansiedad'])\n",
        "\n",
        "# Etiquetas y título\n",
        "plt.xlabel('Predicción')\n",
        "plt.ylabel('Valor Real')\n",
        "plt.title('Matriz de Confusión (Usarios con Ansiedad vs de control)')\n",
        "\n",
        "# Mostrar la gráfica\n",
        "plt.show()"
      ],
      "metadata": {
        "colab": {
          "base_uri": "https://localhost:8080/",
          "height": 564
        },
        "outputId": "7a7d1186-8578-4eb8-9943-46c738777201",
        "id": "xAQ-K-AImFmT"
      },
      "execution_count": null,
      "outputs": [
        {
          "output_type": "display_data",
          "data": {
            "text/plain": [
              "<Figure size 800x600 with 2 Axes>"
            ],
            "image/png": "[encoded data removed]"
          },
          "metadata": {}
        }
      ]
    },
    {
      "cell_type": "markdown",
      "source": [
        "# **Regresión Logistica**"
      ],
      "metadata": {
        "id": "Ef6U8YQNp2SW"
      }
    },
    {
      "cell_type": "code",
      "source": [
        "from sklearn.linear_model import LogisticRegression\n",
        "from sklearn.metrics import precision_score, recall_score, f1_score\n",
        "# Crear el modelo de regresión logística\n",
        "lr_model = LogisticRegression(C=100)\n",
        "lr_model.fit(X_train, y_train)\n",
        "\n",
        "# Calcular el porcentaje de acierto en el conjunto de entrenamiento\n",
        "accuracy_train = lr_model.score(X_train, y_train) * 100\n",
        "\n",
        "# Calcular el porcentaje de acierto en el conjunto de validación\n",
        "accuracy_val = lr_model.score(X_val, y_val) * 100\n",
        "\n",
        "# Predicciones en el conjunto de entrenamiento y validación\n",
        "y_train_pred = lr_model.predict(X_train)\n",
        "y_val_pred = lr_model.predict(X_val)\n",
        "\n",
        "# Calcular precisión en el conjunto de entrenamiento y validación\n",
        "precision_train = precision_score(y_train, y_train_pred)* 100\n",
        "precision_val = precision_score(y_val, y_val_pred)* 100\n",
        "\n",
        "# Calcular exhaustividad (recall) en el conjunto de entrenamiento y validación\n",
        "recall_train = recall_score(y_train, y_train_pred)* 100\n",
        "recall_val = recall_score(y_val, y_val_pred)* 100\n",
        "\n",
        "# Calcular puntuación F1 en el conjunto de entrenamiento y validación\n",
        "f1_train = f1_score(y_train, y_train_pred)* 100\n",
        "f1_val = f1_score(y_val, y_val_pred)* 100\n"
      ],
      "metadata": {
        "id": "OnNzX1e9RNoJ"
      },
      "execution_count": null,
      "outputs": []
    },
    {
      "cell_type": "code",
      "source": [
        "# Mostrar métricas de entrenamiento\n",
        "print(\"Métricas de entrenamiento:\")\n",
        "print(\"Exactitud (entrenamiento): {:.2f}%\".format(accuracy_train))\n",
        "print(\"Precisión (entrenamiento): {:.2f}%\".format(precision_train))\n",
        "print(\"Exhaustividad (entrenamiento): {:.2f}%\".format(recall_train))\n",
        "print(\"Puntuación F1 (entrenamiento): {:.2f}%\".format(f1_train))\n",
        "print('-'*40)\n",
        "# Mostrar métricas de validación\n",
        "print(\"\\nMétricas de validación:\")\n",
        "print(\"Exactitud (validación): {:.2f}%\".format(accuracy_val))\n",
        "print(\"Precisión (validación): {:.2f}%\".format(precision_val))\n",
        "print(\"Exhaustividad (validación): {:.2f}%\".format(recall_val))\n",
        "print(\"Puntuación F1 (validación): {:.2f}%\".format(f1_val))"
      ],
      "metadata": {
        "colab": {
          "base_uri": "https://localhost:8080/"
        },
        "id": "qwl9Ndehm4o3",
        "outputId": "e7331dcb-0af4-49c0-a108-3bdb560bb831"
      },
      "execution_count": null,
      "outputs": [
        {
          "output_type": "stream",
          "name": "stdout",
          "text": [
            "Métricas de entrenamiento:\n",
            "Exactitud (entrenamiento): 60.32%\n",
            "Precisión (entrenamiento): 56.40%\n",
            "Exhaustividad (entrenamiento): 45.65%\n",
            "Puntuación F1 (entrenamiento): 50.46%\n",
            "----------------------------------------\n",
            "\n",
            "Métricas de validación:\n",
            "Exactitud (validación): 60.43%\n",
            "Precisión (validación): 56.37%\n",
            "Exhaustividad (validación): 45.80%\n",
            "Puntuación F1 (validación): 50.54%\n"
          ]
        }
      ]
    },
    {
      "cell_type": "markdown",
      "source": [
        "# **Matriz de confusión**"
      ],
      "metadata": {
        "id": "C5K5W5kWnQrg"
      }
    },
    {
      "cell_type": "code",
      "source": [
        "from sklearn.metrics import confusion_matrix\n",
        "\n",
        "y_pred_RF = lr_model.predict(X_val)\n",
        "\n",
        "# Obtiene la matriz de confusión. Las filas corresponden a las clases reales,\n",
        "umbral = 0.5  # Puedes ajustar este umbral según tus necesidades\n",
        "y_pred_binario = (y_pred_RF > umbral).astype(int)\n",
        "\n",
        "# Calcular la matriz de confusión con las etiquetas binarias\n",
        "cm = confusion_matrix(y_val, y_pred_binario)\n",
        "prop_real = np.sum(y_val)/len(y_val)\n",
        "prop_etiqutados = (cm[0,1]+cm[1,1])/len(y_val)\n",
        "\n",
        "print(\"Matriz de confusión: \\n\\n\", cm, \"\\n\")\n",
        "print('Proporción de comentarios positivos: %.2f'% prop_real)\n",
        "print('Proporción de comentarios positivos etiquetados: %.2f'% prop_etiqutados)"
      ],
      "metadata": {
        "colab": {
          "base_uri": "https://localhost:8080/"
        },
        "outputId": "7f043bc7-2cc3-4b4a-da62-71766776ad60",
        "id": "35gIxGVMnQro"
      },
      "execution_count": null,
      "outputs": [
        {
          "output_type": "stream",
          "name": "stdout",
          "text": [
            "Matriz de confusión: \n",
            "\n",
            " [[51727 20128]\n",
            " [30776 26007]] \n",
            "\n",
            "Proporción de comentarios positivos: 0.44\n",
            "Proporción de comentarios positivos etiquetados: 0.36\n"
          ]
        }
      ]
    },
    {
      "cell_type": "code",
      "source": [
        "import seaborn as sns\n",
        "import matplotlib.pyplot as plt\n",
        "\n",
        "# Crear una figura para la matriz de confusión\n",
        "plt.figure(figsize=(8, 6))\n",
        "\n",
        "# Crear una matriz de confusión usando el heatmap de Seaborn\n",
        "sns.heatmap(cm, annot=True, fmt=\"d\", cmap=\"Blues\", xticklabels=['Control', 'Ansiedad'], yticklabels=['Control', 'Ansiedad'])\n",
        "\n",
        "# Etiquetas y título\n",
        "plt.xlabel('Predicción')\n",
        "plt.ylabel('Valor Real')\n",
        "plt.title('Matriz de Confusión (Usarios con Ansiedad vs de control)')\n",
        "\n",
        "# Mostrar la gráfica\n",
        "plt.show()"
      ],
      "metadata": {
        "colab": {
          "base_uri": "https://localhost:8080/",
          "height": 564
        },
        "outputId": "b952ca8d-453e-4b5b-a31e-931a7292c651",
        "id": "iTWL0FkxnQrp"
      },
      "execution_count": null,
      "outputs": [
        {
          "output_type": "display_data",
          "data": {
            "text/plain": [
              "<Figure size 800x600 with 2 Axes>"
            ],
            "image/png": "[encoded data removed]"
          },
          "metadata": {}
        }
      ]
    }
  ]
}
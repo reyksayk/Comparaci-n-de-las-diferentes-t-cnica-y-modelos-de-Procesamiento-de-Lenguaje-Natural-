{
  "nbformat": 4,
  "nbformat_minor": 0,
  "metadata": {
    "colab": {
      "provenance": [],
      "mount_file_id": "1dEOb5A7iFNm3WxsW_Nloz0wz18Kk3auH",
      "authorship_tag": "ABX9TyOEpoWj8hZ960Gw4wVpNQo3"
    },
    "kernelspec": {
      "name": "python3",
      "display_name": "Python 3"
    },
    "language_info": {
      "name": "python"
    }
  },
  "cells": [
    {
      "cell_type": "code",
      "source": [
        "import numpy as np\n",
        "import pandas as pd\n",
        "\n",
        "import tensorflow as tf\n",
        "from tensorflow.keras.models import Sequential\n",
        "from tensorflow.keras.layers import Dense, Dropout\n",
        "from sklearn.metrics import accuracy_score, precision_score, recall_score, f1_score\n",
        "from sklearn.model_selection import train_test_split\n",
        "from sklearn.preprocessing import LabelEncoder\n",
        "from tensorflow.keras.models import load_model\n",
        "from sklearn.model_selection import cross_val_score\n",
        "from sklearn.model_selection import StratifiedKFold"
      ],
      "metadata": {
        "id": "U7C1X_GgdSjj"
      },
      "execution_count": null,
      "outputs": []
    },
    {
      "cell_type": "markdown",
      "source": [
        "# datos"
      ],
      "metadata": {
        "id": "Qc7qpw2GdPhD"
      }
    },
    {
      "cell_type": "markdown",
      "source": [
        "**usarios con Depresión**"
      ],
      "metadata": {
        "id": "BmpzI8EBdbB4"
      }
    },
    {
      "cell_type": "code",
      "source": [
        "archivo = '/content/drive/MyDrive/Experimentación Python Tesis /Experimento por agrupación de usuarios/Usuarios con depresión/User_depresion (1).tsv'\n",
        "ansiedad = pd.read_csv(archivo, sep ='\\t')\n",
        "ansiedad.head(10)"
      ],
      "metadata": {
        "colab": {
          "base_uri": "https://localhost:8080/",
          "height": 363
        },
        "id": "H7xomni0dabC",
        "outputId": "4824207b-80fd-48e7-cec9-b5aaf3d3f453"
      },
      "execution_count": null,
      "outputs": [
        {
          "output_type": "execute_result",
          "data": {
            "text/plain": [
              "   USER_ID            TWEET_ID  \\\n",
              "0        1  820809508935049216   \n",
              "1        1  779730304500011008   \n",
              "2        1  772600684478926849   \n",
              "3        1  805186101413560321   \n",
              "4        1  815302056533774336   \n",
              "5        1  658016589053345792   \n",
              "6        1  946718429825961985   \n",
              "7        1  758339344209965056   \n",
              "8        1  868645902680027136   \n",
              "9        1  820464030468939777   \n",
              "\n",
              "                                          TWEET_TEXT  \n",
              "0  Soy de esas que escuchan canciones tristes, cu...  \n",
              "1  Latest Stats = 11 Followers and 3 Unfollowers ...  \n",
              "2       RT @chicosuicidamas: Me canse de ser fuerte.  \n",
              "3  En el agua donde centro mis emociones, todo el...  \n",
              "4  RT @MrMenteSuicida: Es lindo cuando después de...  \n",
              "5  RT @_HappyDark_: Mírame a los ojos.\\nAquí es d...  \n",
              "6          Un brindis por ese lugar vacío en la mesa  \n",
              "7  RT @Chicosuicidamas: Cuando un verdadero amigo...  \n",
              "8          RT @Chicobip0lar: https://t.co/gC49F6naPP  \n",
              "9  Cuando le dije a mi mejor amiga que me autolas...  "
            ],
            "text/html": [
              "\n",
              "  <div id=\"df-8a3cb1a4-867e-484f-a185-099fb9e1bdb5\" class=\"colab-df-container\">\n",
              "    <div>\n",
              "<style scoped>\n",
              "    .dataframe tbody tr th:only-of-type {\n",
              "        vertical-align: middle;\n",
              "    }\n",
              "\n",
              "    .dataframe tbody tr th {\n",
              "        vertical-align: top;\n",
              "    }\n",
              "\n",
              "    .dataframe thead th {\n",
              "        text-align: right;\n",
              "    }\n",
              "</style>\n",
              "<table border=\"1\" class=\"dataframe\">\n",
              "  <thead>\n",
              "    <tr style=\"text-align: right;\">\n",
              "      <th></th>\n",
              "      <th>USER_ID</th>\n",
              "      <th>TWEET_ID</th>\n",
              "      <th>TWEET_TEXT</th>\n",
              "    </tr>\n",
              "  </thead>\n",
              "  <tbody>\n",
              "    <tr>\n",
              "      <th>0</th>\n",
              "      <td>1</td>\n",
              "      <td>820809508935049216</td>\n",
              "      <td>Soy de esas que escuchan canciones tristes, cu...</td>\n",
              "    </tr>\n",
              "    <tr>\n",
              "      <th>1</th>\n",
              "      <td>1</td>\n",
              "      <td>779730304500011008</td>\n",
              "      <td>Latest Stats = 11 Followers and 3 Unfollowers ...</td>\n",
              "    </tr>\n",
              "    <tr>\n",
              "      <th>2</th>\n",
              "      <td>1</td>\n",
              "      <td>772600684478926849</td>\n",
              "      <td>RT @chicosuicidamas: Me canse de ser fuerte.</td>\n",
              "    </tr>\n",
              "    <tr>\n",
              "      <th>3</th>\n",
              "      <td>1</td>\n",
              "      <td>805186101413560321</td>\n",
              "      <td>En el agua donde centro mis emociones, todo el...</td>\n",
              "    </tr>\n",
              "    <tr>\n",
              "      <th>4</th>\n",
              "      <td>1</td>\n",
              "      <td>815302056533774336</td>\n",
              "      <td>RT @MrMenteSuicida: Es lindo cuando después de...</td>\n",
              "    </tr>\n",
              "    <tr>\n",
              "      <th>5</th>\n",
              "      <td>1</td>\n",
              "      <td>658016589053345792</td>\n",
              "      <td>RT @_HappyDark_: Mírame a los ojos.\\nAquí es d...</td>\n",
              "    </tr>\n",
              "    <tr>\n",
              "      <th>6</th>\n",
              "      <td>1</td>\n",
              "      <td>946718429825961985</td>\n",
              "      <td>Un brindis por ese lugar vacío en la mesa</td>\n",
              "    </tr>\n",
              "    <tr>\n",
              "      <th>7</th>\n",
              "      <td>1</td>\n",
              "      <td>758339344209965056</td>\n",
              "      <td>RT @Chicosuicidamas: Cuando un verdadero amigo...</td>\n",
              "    </tr>\n",
              "    <tr>\n",
              "      <th>8</th>\n",
              "      <td>1</td>\n",
              "      <td>868645902680027136</td>\n",
              "      <td>RT @Chicobip0lar: https://t.co/gC49F6naPP</td>\n",
              "    </tr>\n",
              "    <tr>\n",
              "      <th>9</th>\n",
              "      <td>1</td>\n",
              "      <td>820464030468939777</td>\n",
              "      <td>Cuando le dije a mi mejor amiga que me autolas...</td>\n",
              "    </tr>\n",
              "  </tbody>\n",
              "</table>\n",
              "</div>\n",
              "    <div class=\"colab-df-buttons\">\n",
              "\n",
              "  <div class=\"colab-df-container\">\n",
              "    <button class=\"colab-df-convert\" onclick=\"convertToInteractive('df-8a3cb1a4-867e-484f-a185-099fb9e1bdb5')\"\n",
              "            title=\"Convert this dataframe to an interactive table.\"\n",
              "            style=\"display:none;\">\n",
              "\n",
              "  <svg xmlns=\"http://www.w3.org/2000/svg\" height=\"24px\" viewBox=\"0 -960 960 960\">\n",
              "    <path d=\"M120-120v-720h720v720H120Zm60-500h600v-160H180v160Zm220 220h160v-160H400v160Zm0 220h160v-160H400v160ZM180-400h160v-160H180v160Zm440 0h160v-160H620v160ZM180-180h160v-160H180v160Zm440 0h160v-160H620v160Z\"/>\n",
              "  </svg>\n",
              "    </button>\n",
              "\n",
              "  <style>\n",
              "    .colab-df-container {\n",
              "      display:flex;\n",
              "      gap: 12px;\n",
              "    }\n",
              "\n",
              "    .colab-df-convert {\n",
              "      background-color: #E8F0FE;\n",
              "      border: none;\n",
              "      border-radius: 50%;\n",
              "      cursor: pointer;\n",
              "      display: none;\n",
              "      fill: #1967D2;\n",
              "      height: 32px;\n",
              "      padding: 0 0 0 0;\n",
              "      width: 32px;\n",
              "    }\n",
              "\n",
              "    .colab-df-convert:hover {\n",
              "      background-color: #E2EBFA;\n",
              "      box-shadow: 0px 1px 2px rgba(60, 64, 67, 0.3), 0px 1px 3px 1px rgba(60, 64, 67, 0.15);\n",
              "      fill: #174EA6;\n",
              "    }\n",
              "\n",
              "    .colab-df-buttons div {\n",
              "      margin-bottom: 4px;\n",
              "    }\n",
              "\n",
              "    [theme=dark] .colab-df-convert {\n",
              "      background-color: #3B4455;\n",
              "      fill: #D2E3FC;\n",
              "    }\n",
              "\n",
              "    [theme=dark] .colab-df-convert:hover {\n",
              "      background-color: #434B5C;\n",
              "      box-shadow: 0px 1px 3px 1px rgba(0, 0, 0, 0.15);\n",
              "      filter: drop-shadow(0px 1px 2px rgba(0, 0, 0, 0.3));\n",
              "      fill: #FFFFFF;\n",
              "    }\n",
              "  </style>\n",
              "\n",
              "    <script>\n",
              "      const buttonEl =\n",
              "        document.querySelector('#df-8a3cb1a4-867e-484f-a185-099fb9e1bdb5 button.colab-df-convert');\n",
              "      buttonEl.style.display =\n",
              "        google.colab.kernel.accessAllowed ? 'block' : 'none';\n",
              "\n",
              "      async function convertToInteractive(key) {\n",
              "        const element = document.querySelector('#df-8a3cb1a4-867e-484f-a185-099fb9e1bdb5');\n",
              "        const dataTable =\n",
              "          await google.colab.kernel.invokeFunction('convertToInteractive',\n",
              "                                                    [key], {});\n",
              "        if (!dataTable) return;\n",
              "\n",
              "        const docLinkHtml = 'Like what you see? Visit the ' +\n",
              "          '<a target=\"_blank\" href=https://colab.research.google.com/notebooks/data_table.ipynb>data table notebook</a>'\n",
              "          + ' to learn more about interactive tables.';\n",
              "        element.innerHTML = '';\n",
              "        dataTable['output_type'] = 'display_data';\n",
              "        await google.colab.output.renderOutput(dataTable, element);\n",
              "        const docLink = document.createElement('div');\n",
              "        docLink.innerHTML = docLinkHtml;\n",
              "        element.appendChild(docLink);\n",
              "      }\n",
              "    </script>\n",
              "  </div>\n",
              "\n",
              "\n",
              "<div id=\"df-df70b7cf-dc34-4de7-a2c3-603fb4faed18\">\n",
              "  <button class=\"colab-df-quickchart\" onclick=\"quickchart('df-df70b7cf-dc34-4de7-a2c3-603fb4faed18')\"\n",
              "            title=\"Suggest charts\"\n",
              "            style=\"display:none;\">\n",
              "\n",
              "<svg xmlns=\"http://www.w3.org/2000/svg\" height=\"24px\"viewBox=\"0 0 24 24\"\n",
              "     width=\"24px\">\n",
              "    <g>\n",
              "        <path d=\"M19 3H5c-1.1 0-2 .9-2 2v14c0 1.1.9 2 2 2h14c1.1 0 2-.9 2-2V5c0-1.1-.9-2-2-2zM9 17H7v-7h2v7zm4 0h-2V7h2v10zm4 0h-2v-4h2v4z\"/>\n",
              "    </g>\n",
              "</svg>\n",
              "  </button>\n",
              "\n",
              "<style>\n",
              "  .colab-df-quickchart {\n",
              "      --bg-color: #E8F0FE;\n",
              "      --fill-color: #1967D2;\n",
              "      --hover-bg-color: #E2EBFA;\n",
              "      --hover-fill-color: #174EA6;\n",
              "      --disabled-fill-color: #AAA;\n",
              "      --disabled-bg-color: #DDD;\n",
              "  }\n",
              "\n",
              "  [theme=dark] .colab-df-quickchart {\n",
              "      --bg-color: #3B4455;\n",
              "      --fill-color: #D2E3FC;\n",
              "      --hover-bg-color: #434B5C;\n",
              "      --hover-fill-color: #FFFFFF;\n",
              "      --disabled-bg-color: #3B4455;\n",
              "      --disabled-fill-color: #666;\n",
              "  }\n",
              "\n",
              "  .colab-df-quickchart {\n",
              "    background-color: var(--bg-color);\n",
              "    border: none;\n",
              "    border-radius: 50%;\n",
              "    cursor: pointer;\n",
              "    display: none;\n",
              "    fill: var(--fill-color);\n",
              "    height: 32px;\n",
              "    padding: 0;\n",
              "    width: 32px;\n",
              "  }\n",
              "\n",
              "  .colab-df-quickchart:hover {\n",
              "    background-color: var(--hover-bg-color);\n",
              "    box-shadow: 0 1px 2px rgba(60, 64, 67, 0.3), 0 1px 3px 1px rgba(60, 64, 67, 0.15);\n",
              "    fill: var(--button-hover-fill-color);\n",
              "  }\n",
              "\n",
              "  .colab-df-quickchart-complete:disabled,\n",
              "  .colab-df-quickchart-complete:disabled:hover {\n",
              "    background-color: var(--disabled-bg-color);\n",
              "    fill: var(--disabled-fill-color);\n",
              "    box-shadow: none;\n",
              "  }\n",
              "\n",
              "  .colab-df-spinner {\n",
              "    border: 2px solid var(--fill-color);\n",
              "    border-color: transparent;\n",
              "    border-bottom-color: var(--fill-color);\n",
              "    animation:\n",
              "      spin 1s steps(1) infinite;\n",
              "  }\n",
              "\n",
              "  @keyframes spin {\n",
              "    0% {\n",
              "      border-color: transparent;\n",
              "      border-bottom-color: var(--fill-color);\n",
              "      border-left-color: var(--fill-color);\n",
              "    }\n",
              "    20% {\n",
              "      border-color: transparent;\n",
              "      border-left-color: var(--fill-color);\n",
              "      border-top-color: var(--fill-color);\n",
              "    }\n",
              "    30% {\n",
              "      border-color: transparent;\n",
              "      border-left-color: var(--fill-color);\n",
              "      border-top-color: var(--fill-color);\n",
              "      border-right-color: var(--fill-color);\n",
              "    }\n",
              "    40% {\n",
              "      border-color: transparent;\n",
              "      border-right-color: var(--fill-color);\n",
              "      border-top-color: var(--fill-color);\n",
              "    }\n",
              "    60% {\n",
              "      border-color: transparent;\n",
              "      border-right-color: var(--fill-color);\n",
              "    }\n",
              "    80% {\n",
              "      border-color: transparent;\n",
              "      border-right-color: var(--fill-color);\n",
              "      border-bottom-color: var(--fill-color);\n",
              "    }\n",
              "    90% {\n",
              "      border-color: transparent;\n",
              "      border-bottom-color: var(--fill-color);\n",
              "    }\n",
              "  }\n",
              "</style>\n",
              "\n",
              "  <script>\n",
              "    async function quickchart(key) {\n",
              "      const quickchartButtonEl =\n",
              "        document.querySelector('#' + key + ' button');\n",
              "      quickchartButtonEl.disabled = true;  // To prevent multiple clicks.\n",
              "      quickchartButtonEl.classList.add('colab-df-spinner');\n",
              "      try {\n",
              "        const charts = await google.colab.kernel.invokeFunction(\n",
              "            'suggestCharts', [key], {});\n",
              "      } catch (error) {\n",
              "        console.error('Error during call to suggestCharts:', error);\n",
              "      }\n",
              "      quickchartButtonEl.classList.remove('colab-df-spinner');\n",
              "      quickchartButtonEl.classList.add('colab-df-quickchart-complete');\n",
              "    }\n",
              "    (() => {\n",
              "      let quickchartButtonEl =\n",
              "        document.querySelector('#df-df70b7cf-dc34-4de7-a2c3-603fb4faed18 button');\n",
              "      quickchartButtonEl.style.display =\n",
              "        google.colab.kernel.accessAllowed ? 'block' : 'none';\n",
              "    })();\n",
              "  </script>\n",
              "</div>\n",
              "    </div>\n",
              "  </div>\n"
            ]
          },
          "metadata": {},
          "execution_count": 3
        }
      ]
    },
    {
      "cell_type": "markdown",
      "source": [
        "**Usarios de control**"
      ],
      "metadata": {
        "id": "JwK9CHJEeD7r"
      }
    },
    {
      "cell_type": "code",
      "source": [
        "archivo_c = '/content/drive/MyDrive/Experimentación Python Tesis /Experimento por agrupación de usuarios/Usuario de control/User_control (1).tsv'\n",
        "control = pd.read_csv(archivo, sep ='\\t')\n",
        "control.head(10)"
      ],
      "metadata": {
        "colab": {
          "base_uri": "https://localhost:8080/",
          "height": 363
        },
        "id": "fLeOS7_BdUzZ",
        "outputId": "79351263-4148-4c5f-de9e-27e318bcf81c"
      },
      "execution_count": null,
      "outputs": [
        {
          "output_type": "execute_result",
          "data": {
            "text/plain": [
              "   USER_ID            TWEET_ID  \\\n",
              "0        1  820809508935049216   \n",
              "1        1  779730304500011008   \n",
              "2        1  772600684478926849   \n",
              "3        1  805186101413560321   \n",
              "4        1  815302056533774336   \n",
              "5        1  658016589053345792   \n",
              "6        1  946718429825961985   \n",
              "7        1  758339344209965056   \n",
              "8        1  868645902680027136   \n",
              "9        1  820464030468939777   \n",
              "\n",
              "                                          TWEET_TEXT  \n",
              "0  Soy de esas que escuchan canciones tristes, cu...  \n",
              "1  Latest Stats = 11 Followers and 3 Unfollowers ...  \n",
              "2       RT @chicosuicidamas: Me canse de ser fuerte.  \n",
              "3  En el agua donde centro mis emociones, todo el...  \n",
              "4  RT @MrMenteSuicida: Es lindo cuando después de...  \n",
              "5  RT @_HappyDark_: Mírame a los ojos.\\nAquí es d...  \n",
              "6          Un brindis por ese lugar vacío en la mesa  \n",
              "7  RT @Chicosuicidamas: Cuando un verdadero amigo...  \n",
              "8          RT @Chicobip0lar: https://t.co/gC49F6naPP  \n",
              "9  Cuando le dije a mi mejor amiga que me autolas...  "
            ],
            "text/html": [
              "\n",
              "  <div id=\"df-892294ef-f371-48c4-8e13-dc71ebf7e601\" class=\"colab-df-container\">\n",
              "    <div>\n",
              "<style scoped>\n",
              "    .dataframe tbody tr th:only-of-type {\n",
              "        vertical-align: middle;\n",
              "    }\n",
              "\n",
              "    .dataframe tbody tr th {\n",
              "        vertical-align: top;\n",
              "    }\n",
              "\n",
              "    .dataframe thead th {\n",
              "        text-align: right;\n",
              "    }\n",
              "</style>\n",
              "<table border=\"1\" class=\"dataframe\">\n",
              "  <thead>\n",
              "    <tr style=\"text-align: right;\">\n",
              "      <th></th>\n",
              "      <th>USER_ID</th>\n",
              "      <th>TWEET_ID</th>\n",
              "      <th>TWEET_TEXT</th>\n",
              "    </tr>\n",
              "  </thead>\n",
              "  <tbody>\n",
              "    <tr>\n",
              "      <th>0</th>\n",
              "      <td>1</td>\n",
              "      <td>820809508935049216</td>\n",
              "      <td>Soy de esas que escuchan canciones tristes, cu...</td>\n",
              "    </tr>\n",
              "    <tr>\n",
              "      <th>1</th>\n",
              "      <td>1</td>\n",
              "      <td>779730304500011008</td>\n",
              "      <td>Latest Stats = 11 Followers and 3 Unfollowers ...</td>\n",
              "    </tr>\n",
              "    <tr>\n",
              "      <th>2</th>\n",
              "      <td>1</td>\n",
              "      <td>772600684478926849</td>\n",
              "      <td>RT @chicosuicidamas: Me canse de ser fuerte.</td>\n",
              "    </tr>\n",
              "    <tr>\n",
              "      <th>3</th>\n",
              "      <td>1</td>\n",
              "      <td>805186101413560321</td>\n",
              "      <td>En el agua donde centro mis emociones, todo el...</td>\n",
              "    </tr>\n",
              "    <tr>\n",
              "      <th>4</th>\n",
              "      <td>1</td>\n",
              "      <td>815302056533774336</td>\n",
              "      <td>RT @MrMenteSuicida: Es lindo cuando después de...</td>\n",
              "    </tr>\n",
              "    <tr>\n",
              "      <th>5</th>\n",
              "      <td>1</td>\n",
              "      <td>658016589053345792</td>\n",
              "      <td>RT @_HappyDark_: Mírame a los ojos.\\nAquí es d...</td>\n",
              "    </tr>\n",
              "    <tr>\n",
              "      <th>6</th>\n",
              "      <td>1</td>\n",
              "      <td>946718429825961985</td>\n",
              "      <td>Un brindis por ese lugar vacío en la mesa</td>\n",
              "    </tr>\n",
              "    <tr>\n",
              "      <th>7</th>\n",
              "      <td>1</td>\n",
              "      <td>758339344209965056</td>\n",
              "      <td>RT @Chicosuicidamas: Cuando un verdadero amigo...</td>\n",
              "    </tr>\n",
              "    <tr>\n",
              "      <th>8</th>\n",
              "      <td>1</td>\n",
              "      <td>868645902680027136</td>\n",
              "      <td>RT @Chicobip0lar: https://t.co/gC49F6naPP</td>\n",
              "    </tr>\n",
              "    <tr>\n",
              "      <th>9</th>\n",
              "      <td>1</td>\n",
              "      <td>820464030468939777</td>\n",
              "      <td>Cuando le dije a mi mejor amiga que me autolas...</td>\n",
              "    </tr>\n",
              "  </tbody>\n",
              "</table>\n",
              "</div>\n",
              "    <div class=\"colab-df-buttons\">\n",
              "\n",
              "  <div class=\"colab-df-container\">\n",
              "    <button class=\"colab-df-convert\" onclick=\"convertToInteractive('df-892294ef-f371-48c4-8e13-dc71ebf7e601')\"\n",
              "            title=\"Convert this dataframe to an interactive table.\"\n",
              "            style=\"display:none;\">\n",
              "\n",
              "  <svg xmlns=\"http://www.w3.org/2000/svg\" height=\"24px\" viewBox=\"0 -960 960 960\">\n",
              "    <path d=\"M120-120v-720h720v720H120Zm60-500h600v-160H180v160Zm220 220h160v-160H400v160Zm0 220h160v-160H400v160ZM180-400h160v-160H180v160Zm440 0h160v-160H620v160ZM180-180h160v-160H180v160Zm440 0h160v-160H620v160Z\"/>\n",
              "  </svg>\n",
              "    </button>\n",
              "\n",
              "  <style>\n",
              "    .colab-df-container {\n",
              "      display:flex;\n",
              "      gap: 12px;\n",
              "    }\n",
              "\n",
              "    .colab-df-convert {\n",
              "      background-color: #E8F0FE;\n",
              "      border: none;\n",
              "      border-radius: 50%;\n",
              "      cursor: pointer;\n",
              "      display: none;\n",
              "      fill: #1967D2;\n",
              "      height: 32px;\n",
              "      padding: 0 0 0 0;\n",
              "      width: 32px;\n",
              "    }\n",
              "\n",
              "    .colab-df-convert:hover {\n",
              "      background-color: #E2EBFA;\n",
              "      box-shadow: 0px 1px 2px rgba(60, 64, 67, 0.3), 0px 1px 3px 1px rgba(60, 64, 67, 0.15);\n",
              "      fill: #174EA6;\n",
              "    }\n",
              "\n",
              "    .colab-df-buttons div {\n",
              "      margin-bottom: 4px;\n",
              "    }\n",
              "\n",
              "    [theme=dark] .colab-df-convert {\n",
              "      background-color: #3B4455;\n",
              "      fill: #D2E3FC;\n",
              "    }\n",
              "\n",
              "    [theme=dark] .colab-df-convert:hover {\n",
              "      background-color: #434B5C;\n",
              "      box-shadow: 0px 1px 3px 1px rgba(0, 0, 0, 0.15);\n",
              "      filter: drop-shadow(0px 1px 2px rgba(0, 0, 0, 0.3));\n",
              "      fill: #FFFFFF;\n",
              "    }\n",
              "  </style>\n",
              "\n",
              "    <script>\n",
              "      const buttonEl =\n",
              "        document.querySelector('#df-892294ef-f371-48c4-8e13-dc71ebf7e601 button.colab-df-convert');\n",
              "      buttonEl.style.display =\n",
              "        google.colab.kernel.accessAllowed ? 'block' : 'none';\n",
              "\n",
              "      async function convertToInteractive(key) {\n",
              "        const element = document.querySelector('#df-892294ef-f371-48c4-8e13-dc71ebf7e601');\n",
              "        const dataTable =\n",
              "          await google.colab.kernel.invokeFunction('convertToInteractive',\n",
              "                                                    [key], {});\n",
              "        if (!dataTable) return;\n",
              "\n",
              "        const docLinkHtml = 'Like what you see? Visit the ' +\n",
              "          '<a target=\"_blank\" href=https://colab.research.google.com/notebooks/data_table.ipynb>data table notebook</a>'\n",
              "          + ' to learn more about interactive tables.';\n",
              "        element.innerHTML = '';\n",
              "        dataTable['output_type'] = 'display_data';\n",
              "        await google.colab.output.renderOutput(dataTable, element);\n",
              "        const docLink = document.createElement('div');\n",
              "        docLink.innerHTML = docLinkHtml;\n",
              "        element.appendChild(docLink);\n",
              "      }\n",
              "    </script>\n",
              "  </div>\n",
              "\n",
              "\n",
              "<div id=\"df-8fa59681-d5f8-4b55-8aa2-6a32cfd31060\">\n",
              "  <button class=\"colab-df-quickchart\" onclick=\"quickchart('df-8fa59681-d5f8-4b55-8aa2-6a32cfd31060')\"\n",
              "            title=\"Suggest charts\"\n",
              "            style=\"display:none;\">\n",
              "\n",
              "<svg xmlns=\"http://www.w3.org/2000/svg\" height=\"24px\"viewBox=\"0 0 24 24\"\n",
              "     width=\"24px\">\n",
              "    <g>\n",
              "        <path d=\"M19 3H5c-1.1 0-2 .9-2 2v14c0 1.1.9 2 2 2h14c1.1 0 2-.9 2-2V5c0-1.1-.9-2-2-2zM9 17H7v-7h2v7zm4 0h-2V7h2v10zm4 0h-2v-4h2v4z\"/>\n",
              "    </g>\n",
              "</svg>\n",
              "  </button>\n",
              "\n",
              "<style>\n",
              "  .colab-df-quickchart {\n",
              "      --bg-color: #E8F0FE;\n",
              "      --fill-color: #1967D2;\n",
              "      --hover-bg-color: #E2EBFA;\n",
              "      --hover-fill-color: #174EA6;\n",
              "      --disabled-fill-color: #AAA;\n",
              "      --disabled-bg-color: #DDD;\n",
              "  }\n",
              "\n",
              "  [theme=dark] .colab-df-quickchart {\n",
              "      --bg-color: #3B4455;\n",
              "      --fill-color: #D2E3FC;\n",
              "      --hover-bg-color: #434B5C;\n",
              "      --hover-fill-color: #FFFFFF;\n",
              "      --disabled-bg-color: #3B4455;\n",
              "      --disabled-fill-color: #666;\n",
              "  }\n",
              "\n",
              "  .colab-df-quickchart {\n",
              "    background-color: var(--bg-color);\n",
              "    border: none;\n",
              "    border-radius: 50%;\n",
              "    cursor: pointer;\n",
              "    display: none;\n",
              "    fill: var(--fill-color);\n",
              "    height: 32px;\n",
              "    padding: 0;\n",
              "    width: 32px;\n",
              "  }\n",
              "\n",
              "  .colab-df-quickchart:hover {\n",
              "    background-color: var(--hover-bg-color);\n",
              "    box-shadow: 0 1px 2px rgba(60, 64, 67, 0.3), 0 1px 3px 1px rgba(60, 64, 67, 0.15);\n",
              "    fill: var(--button-hover-fill-color);\n",
              "  }\n",
              "\n",
              "  .colab-df-quickchart-complete:disabled,\n",
              "  .colab-df-quickchart-complete:disabled:hover {\n",
              "    background-color: var(--disabled-bg-color);\n",
              "    fill: var(--disabled-fill-color);\n",
              "    box-shadow: none;\n",
              "  }\n",
              "\n",
              "  .colab-df-spinner {\n",
              "    border: 2px solid var(--fill-color);\n",
              "    border-color: transparent;\n",
              "    border-bottom-color: var(--fill-color);\n",
              "    animation:\n",
              "      spin 1s steps(1) infinite;\n",
              "  }\n",
              "\n",
              "  @keyframes spin {\n",
              "    0% {\n",
              "      border-color: transparent;\n",
              "      border-bottom-color: var(--fill-color);\n",
              "      border-left-color: var(--fill-color);\n",
              "    }\n",
              "    20% {\n",
              "      border-color: transparent;\n",
              "      border-left-color: var(--fill-color);\n",
              "      border-top-color: var(--fill-color);\n",
              "    }\n",
              "    30% {\n",
              "      border-color: transparent;\n",
              "      border-left-color: var(--fill-color);\n",
              "      border-top-color: var(--fill-color);\n",
              "      border-right-color: var(--fill-color);\n",
              "    }\n",
              "    40% {\n",
              "      border-color: transparent;\n",
              "      border-right-color: var(--fill-color);\n",
              "      border-top-color: var(--fill-color);\n",
              "    }\n",
              "    60% {\n",
              "      border-color: transparent;\n",
              "      border-right-color: var(--fill-color);\n",
              "    }\n",
              "    80% {\n",
              "      border-color: transparent;\n",
              "      border-right-color: var(--fill-color);\n",
              "      border-bottom-color: var(--fill-color);\n",
              "    }\n",
              "    90% {\n",
              "      border-color: transparent;\n",
              "      border-bottom-color: var(--fill-color);\n",
              "    }\n",
              "  }\n",
              "</style>\n",
              "\n",
              "  <script>\n",
              "    async function quickchart(key) {\n",
              "      const quickchartButtonEl =\n",
              "        document.querySelector('#' + key + ' button');\n",
              "      quickchartButtonEl.disabled = true;  // To prevent multiple clicks.\n",
              "      quickchartButtonEl.classList.add('colab-df-spinner');\n",
              "      try {\n",
              "        const charts = await google.colab.kernel.invokeFunction(\n",
              "            'suggestCharts', [key], {});\n",
              "      } catch (error) {\n",
              "        console.error('Error during call to suggestCharts:', error);\n",
              "      }\n",
              "      quickchartButtonEl.classList.remove('colab-df-spinner');\n",
              "      quickchartButtonEl.classList.add('colab-df-quickchart-complete');\n",
              "    }\n",
              "    (() => {\n",
              "      let quickchartButtonEl =\n",
              "        document.querySelector('#df-8fa59681-d5f8-4b55-8aa2-6a32cfd31060 button');\n",
              "      quickchartButtonEl.style.display =\n",
              "        google.colab.kernel.accessAllowed ? 'block' : 'none';\n",
              "    })();\n",
              "  </script>\n",
              "</div>\n",
              "    </div>\n",
              "  </div>\n"
            ]
          },
          "metadata": {},
          "execution_count": 4
        }
      ]
    },
    {
      "cell_type": "markdown",
      "source": [
        "**PREPARACIÓN DE DATOS**"
      ],
      "metadata": {
        "id": "7I0KbpBsDLMD"
      }
    },
    {
      "cell_type": "markdown",
      "source": [
        "*Cargar y limpiar*"
      ],
      "metadata": {
        "id": "A2424AfYDN7Y"
      }
    },
    {
      "cell_type": "code",
      "source": [
        "!pip install pyspellchecker\n",
        "!pip install spacy\n",
        "!python -m spacy download es_core_news_sm"
      ],
      "metadata": {
        "id": "J-67yml1ImB8"
      },
      "execution_count": null,
      "outputs": []
    },
    {
      "cell_type": "code",
      "execution_count": null,
      "metadata": {
        "colab": {
          "base_uri": "https://localhost:8080/"
        },
        "id": "UB37ChrOCyoT",
        "outputId": "ec82636e-c20a-4bf7-ac55-03e4ff8761dc"
      },
      "outputs": [
        {
          "output_type": "stream",
          "name": "stderr",
          "text": [
            "[nltk_data] Downloading package stopwords to /root/nltk_data...\n",
            "[nltk_data]   Unzipping corpora/stopwords.zip.\n",
            "[nltk_data] Downloading package punkt to /root/nltk_data...\n",
            "[nltk_data]   Unzipping tokenizers/punkt.zip.\n"
          ]
        },
        {
          "output_type": "execute_result",
          "data": {
            "text/plain": [
              "True"
            ]
          },
          "metadata": {},
          "execution_count": 6
        }
      ],
      "source": [
        "import string\n",
        "import re\n",
        "import os\n",
        "from os import listdir\n",
        "from collections import Counter\n",
        "from nltk.corpus import stopwords\n",
        "import nltk\n",
        "nltk.download('stopwords')\n",
        "import nltk\n",
        "nltk.download('punkt')"
      ]
    },
    {
      "cell_type": "markdown",
      "source": [
        "# limpiar texto y Crear Tokens"
      ],
      "metadata": {
        "id": "KxVGxamuXRIb"
      }
    },
    {
      "cell_type": "code",
      "source": [
        "import re\n",
        "import string\n",
        "import pandas as pd\n",
        "from nltk.corpus import stopwords\n",
        "from nltk.tokenize import word_tokenize\n",
        "\n",
        "def load_doc(filename):\n",
        "    try:\n",
        "        data = pd.read_csv(filename, delimiter='\\t')  # Indicamos el delimitador como '\\t' para TSV\n",
        "        return data\n",
        "    except Exception as e:\n",
        "        print(\"Error:\", e)\n",
        "        return None\n",
        "\n",
        "#Creamos un función de limpieza del texto y  los guarde en tokens indivicuales o lista de palabras\n",
        "def clean_doc(text):\n",
        "    # Eliminar hashtags\n",
        "    text = re.sub(r'#\\w+', '', text)\n",
        "\n",
        "    # Eliminar URLs o enlaces\n",
        "    text = re.sub(r'(https?://)?[a-zA-Z0-9]+\\.[a-zA-Z0-9]+\\S*', '', text)\n",
        "\n",
        "    # Eliminar nombres de usuarios de Twitter\n",
        "    text = re.sub(r'@\\w+', '', text)\n",
        "\n",
        "    # Eliminar Nombres propios\n",
        "    text = re.sub(r'\\b[A-Z][a-z]+\\b', '', text)\n",
        "\n",
        "    # Eliminar todos los caracteres especiales\n",
        "    text = re.sub(r'[^\\w\\s]+', '', text)\n",
        "\n",
        "    # Eliminar prefijos y números\n",
        "    text = re.sub(r'\\b\\w{1,2}\\b|\\d+', '', text)\n",
        "\n",
        "    # Eliminar palabras específicas\n",
        "    specific_words = ['retweet', 'retweets', 'hashtag', 'trending', 'mención', 'enlace', 'emoji', 'timeline', 'interacciones',\n",
        "                      'tuit', 'seguidores', 'notificaciones', 'seguir', 'favorito', 'perfil', 'tendencia', 'influencer',\n",
        "                      'compartir', 'actualización', 'explorar', 'seguir', 'comunidad', 'contenido', 'popular',\n",
        "                      'recomendar', 'experiencia', 'conectar', 'comentar', 'compartir', 'comunidad', 'actualización',\n",
        "                      'drk', 'followers', 'stats', 'for', 'new', 'little', 'unfollower', 'unfollowers', 'today', 'shit','twitter','nombre',\n",
        "                      'eric','story','great', 'short','squeeze','piggly','wiggly','hmv','even','follas','you','i','he','she',\n",
        "                      'it','we','they','the','and','that','these','those','tweet','followed','follower']\n",
        "    text = ' '.join([word for word in text.split() if word not in specific_words])\n",
        "\n",
        "    # Eliminar emojis\n",
        "    emojis = re.findall(r'[^\\w\\s,]', text)\n",
        "    cleaned_emojis = [emoji for emoji in emojis if emoji not in ['@', '#', '/', '?','¿','.','…','\"',':','“','!','¡','°','-',\"‘\",'’',\n",
        "                                                                 '=',';','(',')',\"'\",\"'\",'&','€','%','$','*','+','|', '”','🇦','🇷',',',\n",
        "                                                                 ', ','—','«',' »','»','« ','[, ]','[,]',',',', ','',' ',' ♀',' 🏽']]\n",
        "    for emoji in cleaned_emojis:\n",
        "        text = text.replace(emoji, '')\n",
        "\n",
        "    # Convertir el texto a minúsculas\n",
        "    text = text.lower()\n",
        "\n",
        "    # Eliminar signos de puntuación\n",
        "    text = re.sub(f\"[{re.escape(string.punctuation)}]\", \"\", text)\n",
        "\n",
        "    # Tokenización de palabras\n",
        "    tokens = word_tokenize(text)\n",
        "\n",
        "    # Eliminar palabras vacías en español\n",
        "    stop_words = set(stopwords.words('spanish'))\n",
        "    tokens = [word for word in tokens if not word in stop_words]\n",
        "\n",
        "    # Eliminar tokens de un solo carácter\n",
        "    tokens = [word for word in tokens if len(word) > 1]\n",
        "\n",
        "    return tokens\n"
      ],
      "metadata": {
        "id": "12y4sbQ3EnQy"
      },
      "execution_count": null,
      "outputs": []
    },
    {
      "cell_type": "markdown",
      "source": [
        "*Extraer y Definir vocabulario*"
      ],
      "metadata": {
        "id": "inODpKOUMwR-"
      }
    },
    {
      "cell_type": "code",
      "source": [
        "def add_doc_vocab_from_tsv(filename, vocab):\n",
        "    data = pd.read_csv(filename, sep='\\t')  # Especificamos el separador como '\\t' para archivos TSV\n",
        "    tokens_list = data['TWEET_TEXT'].apply(clean_doc)\n",
        "    for tokens in tokens_list:\n",
        "        vocab.update(tokens)\n",
        "\n",
        "# Función para procesar documentos en un directorio a partir de archivos TSV\n",
        "def process_docs_in_directory(directory, vocab):\n",
        "    for filename in os.listdir(directory):\n",
        "        if filename.endswith(\".tsv\"):  # Verificamos si el archivo tiene extensión .tsv\n",
        "            path = os.path.join(directory, filename)\n",
        "            add_doc_vocab_from_tsv(path, vocab)"
      ],
      "metadata": {
        "id": "tXmvwOvvZ3vh"
      },
      "execution_count": null,
      "outputs": []
    },
    {
      "cell_type": "code",
      "source": [
        "# Inicializar el contador de vocabulario\n",
        "vocab = Counter()\n",
        "# Procesar documentos en el directorio 'Control'\n",
        "process_docs_in_directory('/content/drive/MyDrive/Experimentación Python Tesis /Experimento por agrupación de usuarios/Usuario de control/', vocab)\n",
        "# Procesar documentos en el directorio 'Depresión'\n",
        "process_docs_in_directory('/content/drive/MyDrive/Experimentación Python Tesis /Experimento por agrupación de usuarios/Depresión/', vocab)\n",
        "# Imprimir la longitud del vocabulario y los 50 tokens más comunes\n",
        "print(f'Tokens totales: {len(vocab)}')\n",
        "print('los 50 Tokens más frecuentes')\n",
        "print(vocab.most_common(50))\n"
      ],
      "metadata": {
        "colab": {
          "base_uri": "https://localhost:8080/"
        },
        "id": "H0eHTlzgV75o",
        "outputId": "24812dc2-f23b-4fca-b47a-c69f85611fe0"
      },
      "execution_count": null,
      "outputs": [
        {
          "output_type": "stream",
          "name": "stdout",
          "text": [
            "Tokens totales: 100384\n",
            "los 50 Tokens más frecuentes\n",
            "[('día', 9230), ('ser', 5066), ('vida', 4335), ('hoy', 4253), ('fotos', 4194), ('mejor', 4016), ('años', 3727), ('bien', 3657), ('días', 3531), ('así', 3368), ('mas', 3347), ('recuperar', 3340), ('preocupes', 3281), ('ver', 3276), ('hace', 3257), ('siempre', 3250), ('antigua', 3241), ('mostraré', 3227), ('laptop', 3224), ('hacer', 3001), ('gente', 2852), ('solo', 2827), ('hermosa', 2793), ('quiero', 2776), ('tan', 2731), ('vez', 2671), ('mañana', 2513), ('ahora', 2449), ('puede', 2393), ('voy', 2375), ('amor', 2359), ('https', 2315), ('personas', 2300), ('mundo', 2291), ('cosas', 2254), ('nunca', 2131), ('dos', 2128), ('mal', 2106), ('saludos', 2092), ('vía', 2060), ('partido', 2059), ('tiempo', 2046), ('semana', 1977), ('vivir', 1973), ('año', 1969), ('vos', 1961), ('cómo', 1927), ('gracias', 1918), ('alguien', 1873), ('país', 1860)]\n"
          ]
        }
      ]
    },
    {
      "cell_type": "code",
      "source": [
        "#Reducimos el numero de tokens eliminando Tokens que solo tengan 2 o menos frecuencia en las bases de datos\n",
        "umbral = 10 # elimanamos la palabras que tengan 50 o menos frecuencia\n",
        "tokens =[k for k,c in vocab.items() if c >= umbral]\n",
        "print(len(tokens))"
      ],
      "metadata": {
        "id": "o8bdFaQaYnyP",
        "colab": {
          "base_uri": "https://localhost:8080/"
        },
        "outputId": "3248ffce-5839-4a61-9f8f-c26a5cfa2140"
      },
      "execution_count": null,
      "outputs": [
        {
          "output_type": "stream",
          "name": "stdout",
          "text": [
            "13509\n"
          ]
        }
      ]
    },
    {
      "cell_type": "code",
      "source": [
        "# Función para guardar los tokens en una lista de palabras\n",
        "#guardar archivo preparado\n",
        "def save_list(lines, filename):\n",
        "  data = '\\n'.join(lines)\n",
        "  file = open(filename,'w')\n",
        "  file.write(data)\n",
        "  file.close()"
      ],
      "metadata": {
        "id": "sFje3ll76saL"
      },
      "execution_count": null,
      "outputs": []
    },
    {
      "cell_type": "code",
      "source": [
        "#Guardar los tokens en una lista de palabra o bolsa de palabras en un archivo llamdo vocab.txt\n",
        "import string\n",
        "import re\n",
        "from os import listdir\n",
        "from collections import Counter\n",
        "from nltk.corpus import stopwords\n",
        "\n",
        "# Inicializar el contador de vocabulario\n",
        "vocab = Counter()\n",
        "process_docs_in_directory('/content/drive/MyDrive/Experimentación Python Tesis /Experimento por agrupación de usuarios/Usuario de control/', vocab)\n",
        "# Procesar documentos en el directorio 'Ansiedad'\n",
        "process_docs_in_directory('/content/drive/MyDrive/Experimentación Python Tesis /Experimento por agrupación de usuarios/Depresión/', vocab)\n",
        "print(f'Vocabulario: {len(vocab)}')\n",
        "umbral = 10 # elimanamos la palabras que tengan 10 o menos frecuencia\n",
        "tokens =[k for k,c in vocab.items() if c >= umbral]\n",
        "print(f'Vocabulario con tokens más frecuentes:{len(tokens)}')\n",
        "\n",
        "#Guardar la lista de Vocabulario con los tokens más frecuentes\n",
        "save_list(tokens, '/content/drive/MyDrive/Experimentación Python Tesis /Experimento por agrupación de usuarios/vocab_d.txt')\n"
      ],
      "metadata": {
        "colab": {
          "base_uri": "https://localhost:8080/"
        },
        "id": "tjY6I3B37hMA",
        "outputId": "787f9c35-5daa-4e68-e0a7-b1ead9989240"
      },
      "execution_count": null,
      "outputs": [
        {
          "output_type": "stream",
          "name": "stdout",
          "text": [
            "Vocabulario: 100384\n",
            "Vocabulario con tokens más frecuentes:13509\n"
          ]
        }
      ]
    },
    {
      "cell_type": "code",
      "source": [
        "archivo = open(\"/content/drive/MyDrive/Experimentación Python Tesis /Experimento por agrupación de usuarios/vocab_d.txt\")\n",
        "print(archivo.read())"
      ],
      "metadata": {
        "id": "ALD1qAQf--Bs"
      },
      "execution_count": null,
      "outputs": []
    },
    {
      "cell_type": "code",
      "source": [
        "import pandas as pd\n",
        "import spacy\n",
        "from spacy.lang.es import Spanish\n",
        "from nltk.corpus import stopwords\n",
        "# Cargar modelo de spaCy\n",
        "nlp = spacy.load(\"es_core_news_sm\")\n",
        "# Función para lematizar y extraer términos\n",
        "\n",
        "# Cargar stopwords en español\n",
        "stopwords_es = set(stopwords.words('spanish'))\n",
        "\n",
        "def extractTerms(text):\n",
        "    # Tokenización y lematización con spaCy\n",
        "    doc = nlp(text)\n",
        "    lemmatized_terms = [token.lemma_ for token in doc if token.text.lower() not in stopwords_es]\n",
        "\n",
        "    return lemmatized_terms"
      ],
      "metadata": {
        "id": "HTrH6He6dI6v"
      },
      "execution_count": null,
      "outputs": []
    },
    {
      "cell_type": "markdown",
      "source": [
        "**Representación de bolsa de palabras (representación vectorial)**"
      ],
      "metadata": {
        "id": "EfuRJnJGlv7a"
      }
    },
    {
      "cell_type": "markdown",
      "source": [
        "*Revisiones a Lineas de Tokens*"
      ],
      "metadata": {
        "id": "GhLs5dqjmYCc"
      }
    },
    {
      "cell_type": "code",
      "source": [
        "def doc_to_line(filename, vocab):\n",
        "  doc = load_doc(filename)\n",
        "  tokens = clean_doc(doc)\n",
        "  tokens = [w for w in tokens if w in vocab]\n",
        "  return ' '.join(tokens)"
      ],
      "metadata": {
        "id": "-1y3UNcplQgV"
      },
      "execution_count": null,
      "outputs": []
    },
    {
      "cell_type": "code",
      "source": [
        "import os\n",
        "import pandas as pd\n",
        "from nltk.classify.senna import path\n",
        "\n",
        "def process_docs(directory, vocab):\n",
        "    lines = []\n",
        "    for filename in os.listdir(directory):\n",
        "        if not filename.endswith('.tsv'):\n",
        "            continue\n",
        "        path = os.path.join(directory, filename)\n",
        "\n",
        "        # Cargar el archivo TSV en un DataFrame\n",
        "        data = pd.read_csv(path, sep='\\t')  # Usamos sep='\\t' para especificar que el archivo es tsv\n",
        "\n",
        "        # Procesar la columna TWEET_TEXT para obtener los tokens\n",
        "        tokens_list = data['TWEET_TEXT'].apply(clean_doc)\n",
        "        #tokens_list = data['TWEET_TEXT'].apply(extractTerms)\n",
        "\n",
        "        for tokens in tokens_list:\n",
        "            line = ' '.join(tokens)\n",
        "            lines.append(line)\n",
        "\n",
        "    return lines"
      ],
      "metadata": {
        "id": "U9wHwN7TnrKw"
      },
      "execution_count": null,
      "outputs": []
    },
    {
      "cell_type": "code",
      "source": [
        "def load_clean_dataset(vocab):\n",
        "  Cont = process_docs('/content/drive/MyDrive/Experimentación Python Tesis /Experimento por agrupación de usuarios/Usuario de control/',vocab)\n",
        "  Dep = process_docs('/content/drive/MyDrive/Experimentación Python Tesis /Experimento por agrupación de usuarios/Usuarios con depresión/',vocab)\n",
        "\n",
        "  docs = Dep + Cont\n",
        "\n",
        "  labels = [1 for _ in range(len(Dep))] + [0 for _ in range(len(Cont))]\n",
        "  return docs, labels"
      ],
      "metadata": {
        "id": "fTwpI2z8oABs"
      },
      "execution_count": null,
      "outputs": []
    },
    {
      "cell_type": "code",
      "source": [
        "vocab_filename = '/content/drive/MyDrive/Experimentación Python Tesis /Experimento por agrupación de usuarios/vocab_d.txt'\n",
        "with open(vocab_filename, 'r') as file:\n",
        "    vocab_content = file.read()\n",
        "\n",
        "vocab = vocab_content.split()\n",
        "vocab = set(vocab)\n",
        "print(vocab)\n"
      ],
      "metadata": {
        "id": "VabYxNeVo5e9"
      },
      "execution_count": null,
      "outputs": []
    },
    {
      "cell_type": "markdown",
      "source": [
        "*Revisiones de los tweets a vectores de bolsa de palabras*"
      ],
      "metadata": {
        "id": "ba4tH-6Tp8IT"
      }
    },
    {
      "cell_type": "code",
      "source": [
        "# implementamos todo pero usando directamente las funciones creadas\n",
        "import string\n",
        "import re\n",
        "from os import listdir\n",
        "from collections import Counter\n",
        "from nltk.corpus import stopwords\n",
        "\n",
        "docs, labels = load_clean_dataset(vocab)\n",
        "print(len(docs), len(labels))"
      ],
      "metadata": {
        "colab": {
          "base_uri": "https://localhost:8080/"
        },
        "id": "D6rbIJDep7jj",
        "outputId": "15e0635f-2306-4625-c858-056504455b89"
      },
      "execution_count": null,
      "outputs": [
        {
          "output_type": "stream",
          "name": "stdout",
          "text": [
            "428792 428792\n"
          ]
        }
      ]
    },
    {
      "cell_type": "markdown",
      "source": [
        "**Convertir y tranformar el documento a vectores codigicados**"
      ],
      "metadata": {
        "id": "Z3b-8ljcq-k3"
      }
    },
    {
      "cell_type": "code",
      "source": [
        "from keras.preprocessing.text import Tokenizer\n",
        "def create_tokenizer(lines):\n",
        "  tokenizer = Tokenizer()\n",
        "  tokenizer.fit_on_texts(lines)\n",
        "  return tokenizer"
      ],
      "metadata": {
        "id": "1CVD2aFtq5N7"
      },
      "execution_count": null,
      "outputs": []
    },
    {
      "cell_type": "code",
      "source": [
        "def process_docs(directory, vocab, is_train):\n",
        "    lines = list()\n",
        "    for filename in os.listdir(directory):\n",
        "        if is_train and filename.startswith('(72)'):\n",
        "            continue  # Omitir archivos de prueba en el conjunto de entrenamiento\n",
        "        if not is_train and not filename.startswith('(72)'):\n",
        "            continue  # Omitir archivos de entrenamiento en el conjunto de prueba\n",
        "        path = os.path.join(directory, filename)\n",
        "        doc = load_doc(path)\n",
        "        line = doc_to_line(doc, vocab)\n",
        "        lines.append(line)\n",
        "    return lines"
      ],
      "metadata": {
        "id": "2EjjOY4CtKGF"
      },
      "execution_count": null,
      "outputs": []
    },
    {
      "cell_type": "code",
      "source": [
        "import array\n",
        "#Del mismo modo, la función load_clean_dataset() debe actualizarse para cargar el entrenamiento o prueba\n",
        "# y asegúrarse de que devuelva una matriz Numpy\n",
        "def load_clean_dataset(vocab, is_train):\n",
        "  Dep = process_docs('/content/drive/MyDrive/Experimentación Python Tesis /Experimento por agrupación de usuarios/Usuarios con depresión/', vocab, is_train)\n",
        "  Cont = process_docs('/content/drive/MyDrive/Experimentación Python Tesis /Experimento por agrupación de usuarios/Usarios de control 2/', vocab, is_train)\n",
        "  docs = Dep + Cont\n",
        "  labels = array([1 for _ in range(len(Dep))] + [0 for _ in range(len(Cont))])\n",
        "  return docs, labels\n"
      ],
      "metadata": {
        "id": "lmjhudEytddp"
      },
      "execution_count": null,
      "outputs": []
    },
    {
      "cell_type": "code",
      "source": [
        "def process_docs(directory, vocab, is_train):\n",
        "    lines = list()\n",
        "    for filename in os.listdir(directory):\n",
        "        path = os.path.join(directory, filename)\n",
        "        if os.path.isfile(path):  # Verificar si es un archivo antes de procesarlo\n",
        "            doc = load_doc(path)\n",
        "            line = ' '.join(clean_doc(doc))\n",
        "            lines.append(line)\n",
        "    return lines\n",
        "\n",
        "def load_doc(filename):\n",
        "    with open(filename, 'r') as file:\n",
        "        text = file.read()\n",
        "    return text\n"
      ],
      "metadata": {
        "id": "F7IIABcBuG8p"
      },
      "execution_count": null,
      "outputs": []
    },
    {
      "cell_type": "code",
      "source": [
        "import string\n",
        "import re\n",
        "from os import listdir\n",
        "import numpy as np\n",
        "from numpy import array\n",
        "from nltk.corpus import stopwords\n",
        "from keras.preprocessing.text import Tokenizer\n",
        "from sklearn.model_selection import train_test_split\n",
        "\n",
        "vocab_filename = '/content/drive/MyDrive/Experimentación Python Tesis /Experimento por agrupación de usuarios/vocab_d.txt'\n",
        "vocab = load_doc(vocab_filename)\n",
        "vocab = set(vocab.split())\n",
        "\n",
        "train_docs, y_train = load_clean_dataset(vocab, True)\n",
        "test_docs, y_test = load_clean_dataset(vocab, False)\n",
        "\n",
        "tokenizer = create_tokenizer(train_docs)\n",
        "x_train = tokenizer.texts_to_matrix(train_docs, mode='freq')\n",
        "x_test = tokenizer.texts_to_matrix(test_docs, mode='freq')\n"
      ],
      "metadata": {
        "id": "ouS-gkQhuH0e"
      },
      "execution_count": null,
      "outputs": []
    },
    {
      "cell_type": "code",
      "source": [
        "print(x_train.shape)\n",
        "print(x_test.shape)\n",
        "print(y_train.shape)\n",
        "print(y_test.shape)"
      ],
      "metadata": {
        "colab": {
          "base_uri": "https://localhost:8080/"
        },
        "id": "Ge0Guoyfarrs",
        "outputId": "1ba4e893-a667-4458-b26a-3688b6bef73f"
      },
      "execution_count": null,
      "outputs": [
        {
          "output_type": "stream",
          "name": "stdout",
          "text": [
            "(180, 88701)\n",
            "(180, 88701)\n",
            "(180,)\n",
            "(180,)\n"
          ]
        }
      ]
    },
    {
      "cell_type": "markdown",
      "source": [
        "**Modelo análisis de texto**"
      ],
      "metadata": {
        "id": "42176aZnCQAz"
      }
    },
    {
      "cell_type": "markdown",
      "source": [
        "#Red neuronal"
      ],
      "metadata": {
        "id": "biZew38mWzN_"
      }
    },
    {
      "cell_type": "code",
      "source": [
        "#percertron multicapa\n",
        "from keras.models import Sequential\n",
        "from keras.layers import Dense\n",
        "from keras.utils import plot_model\n",
        "def Rn_model(n_words):\n",
        "  model = Sequential()\n",
        "  model.add(Dense(150, input_shape = (n_words, ), activation='relu'))\n",
        "  model.add(Dense(1, activation='sigmoid'))\n",
        "\n",
        "  model.compile(loss='binary_crossentropy', optimizer = 'adam', metrics =['accuracy'])\n",
        "  model.summary()\n",
        "  plot_model(model, to_file='model.png', show_shapes=True)\n",
        "  return model"
      ],
      "metadata": {
        "id": "5V6mldBLWyk5"
      },
      "execution_count": null,
      "outputs": []
    },
    {
      "cell_type": "code",
      "source": [
        "n_words = x_test.shape[1]\n",
        "model_r = Rn_model(n_words)\n",
        "\n",
        "model_r.fit(x_train, y_train, epochs=10, verbose=2)\n",
        "loss, acc = model_r.evaluate(x_test, y_test, verbose=0)\n",
        "\n"
      ],
      "metadata": {
        "colab": {
          "base_uri": "https://localhost:8080/"
        },
        "id": "Uj2etsz3XKYs",
        "outputId": "455ff4ef-0770-48de-c719-708d108f4df6"
      },
      "execution_count": null,
      "outputs": [
        {
          "output_type": "stream",
          "name": "stdout",
          "text": [
            "Model: \"sequential\"\n",
            "_________________________________________________________________\n",
            " Layer (type)                Output Shape              Param #   \n",
            "=================================================================\n",
            " dense (Dense)               (None, 150)               13305300  \n",
            "                                                                 \n",
            " dense_1 (Dense)             (None, 1)                 151       \n",
            "                                                                 \n",
            "=================================================================\n",
            "Total params: 13305451 (50.76 MB)\n",
            "Trainable params: 13305451 (50.76 MB)\n",
            "Non-trainable params: 0 (0.00 Byte)\n",
            "_________________________________________________________________\n",
            "Epoch 1/10\n",
            "6/6 - 3s - loss: 0.6909 - accuracy: 0.5111 - 3s/epoch - 438ms/step\n",
            "Epoch 2/10\n",
            "6/6 - 2s - loss: 0.6829 - accuracy: 0.8167 - 2s/epoch - 293ms/step\n",
            "Epoch 3/10\n",
            "6/6 - 2s - loss: 0.6737 - accuracy: 0.9333 - 2s/epoch - 375ms/step\n",
            "Epoch 4/10\n",
            "6/6 - 3s - loss: 0.6632 - accuracy: 0.9667 - 3s/epoch - 426ms/step\n",
            "Epoch 5/10\n",
            "6/6 - 3s - loss: 0.6510 - accuracy: 0.9833 - 3s/epoch - 437ms/step\n",
            "Epoch 6/10\n",
            "6/6 - 2s - loss: 0.6382 - accuracy: 0.9500 - 2s/epoch - 332ms/step\n",
            "Epoch 7/10\n",
            "6/6 - 2s - loss: 0.6230 - accuracy: 0.9611 - 2s/epoch - 289ms/step\n",
            "Epoch 8/10\n",
            "6/6 - 2s - loss: 0.6065 - accuracy: 0.9833 - 2s/epoch - 287ms/step\n",
            "Epoch 9/10\n",
            "6/6 - 2s - loss: 0.5892 - accuracy: 0.9833 - 2s/epoch - 288ms/step\n",
            "Epoch 10/10\n",
            "6/6 - 2s - loss: 0.5703 - accuracy: 0.9833 - 2s/epoch - 284ms/step\n"
          ]
        }
      ]
    },
    {
      "cell_type": "code",
      "source": [
        "print('accuracy en test: %f' % (acc*100))"
      ],
      "metadata": {
        "colab": {
          "base_uri": "https://localhost:8080/"
        },
        "id": "9tqasID-XbcG",
        "outputId": "f70f9891-eaa7-4883-d46f-9e8ba4205bb9"
      },
      "execution_count": null,
      "outputs": [
        {
          "output_type": "stream",
          "name": "stdout",
          "text": [
            "accuracy en test: 98.333335\n"
          ]
        }
      ]
    },
    {
      "cell_type": "code",
      "source": [
        "import os\n",
        "import joblib\n",
        "import numpy as np\n",
        "from sklearn.metrics import accuracy_score, precision_score, recall_score, f1_score\n",
        "from sklearn.model_selection import train_test_split\n",
        "\n",
        "from sklearn.model_selection import StratifiedKFold\n",
        "from sklearn.model_selection import cross_val_score\n",
        "from sklearn.metrics import make_scorer\n",
        "\n",
        "# Cargar los datos limpios (entrenamiento y prueba)\n",
        "vocab_filename = '/content/drive/MyDrive/Experimentación Python Tesis /Experimento por agrupación de usuarios/vocab_d.txt'\n",
        "vocab = load_doc(vocab_filename)\n",
        "vocab = set(vocab.split())\n",
        "\n",
        "train_docs, y_train = load_clean_dataset(vocab, True)\n",
        "test_docs, y_test = load_clean_dataset(vocab, False)\n",
        "\n",
        "tokenizer = create_tokenizer(train_docs)\n",
        "x_train = tokenizer.texts_to_matrix(train_docs, mode='binary')\n",
        "x_test = tokenizer.texts_to_matrix(test_docs, mode='binary')\n",
        "\n",
        "\n",
        "# Dividir los datos en conjuntos de entrenamiento (70%) y validación (30%)\n",
        "X_train, X_val, y_train, y_val = train_test_split(x_train, y_train, test_size=0.3, random_state=42)\n"
      ],
      "metadata": {
        "id": "mvWsv2RAYdTL"
      },
      "execution_count": null,
      "outputs": []
    },
    {
      "cell_type": "code",
      "source": [
        "print(x_train.shape)\n",
        "print(X_val.shape)\n",
        "print(y_train.shape)\n",
        "print(y_val.shape)"
      ],
      "metadata": {
        "colab": {
          "base_uri": "https://localhost:8080/"
        },
        "id": "G8-gpxN1gcMM",
        "outputId": "015bc22c-efa1-4bc9-f738-9ad840f81cbe"
      },
      "execution_count": null,
      "outputs": [
        {
          "output_type": "stream",
          "name": "stdout",
          "text": [
            "(180, 88701)\n",
            "(54, 88701)\n",
            "(126,)\n",
            "(54,)\n"
          ]
        }
      ]
    },
    {
      "cell_type": "code",
      "source": [
        "# Crear una red neuronal secuencial\n",
        "model = Sequential()\n",
        "\n",
        "# Agregar una capa de entrada con el número de características (vocabulario) en tu matriz TF-IDF\n",
        "model.add(Dense(328, activation='relu', input_dim=X_train.shape[1]))\n",
        "model.add(Dropout(0.1))  # Dropout para regularización\n",
        "\n",
        "# Agregar una capa oculta\n",
        "model.add(Dense(164, activation='relu'))\n",
        "model.add(Dropout(0.1))  # Dropout para regularización\n",
        "\n",
        "# Agregar una capa de salida con una neurona y función de activación sigmoide para clasificación binaria\n",
        "model.add(Dense(1, activation='sigmoid'))\n",
        "\n",
        "# Compilar el modelo\n",
        "model.compile(optimizer='adam', loss='binary_crossentropy', metrics=['accuracy'])\n",
        "\n",
        "# Entrenar el modelo en los datos de entrenamiento\n",
        "history = model.fit(X_train, y_train, epochs=100, batch_size=50, validation_data=(X_val, y_val))\n",
        "\n",
        "# Evaluar el modelo en el conjunto de validación\n",
        "y_val_pred = (model.predict(X_val) > 0.5).astype(int)\n",
        "\n",
        "# Calcular métricas de evaluación en el conjunto de validación\n",
        "accuracy = accuracy_score(y_val, y_val_pred)\n",
        "precision = precision_score(y_val, y_val_pred)\n",
        "recall = recall_score(y_val, y_val_pred)\n",
        "f1 = f1_score(y_val, y_val_pred)\n",
        "\n",
        "# Calcular métricas de evaluación en el conjunto de entrenamiento\n",
        "y_train_pred = (model.predict(X_train) > 0.5).astype(int)\n",
        "\n",
        "accuracy_train = accuracy_score(y_train, y_train_pred)\n",
        "precision_train = precision_score(y_train, y_train_pred)\n",
        "recall_train = recall_score(y_train, y_train_pred)\n",
        "f1_train = f1_score(y_train, y_train_pred)"
      ],
      "metadata": {
        "colab": {
          "base_uri": "https://localhost:8080/"
        },
        "id": "A76ubucGY005",
        "outputId": "039005da-b2b1-479e-9727-f9c69ed61103"
      },
      "execution_count": null,
      "outputs": [
        {
          "output_type": "stream",
          "name": "stdout",
          "text": [
            "Epoch 1/100\n",
            "3/3 [==============================] - 4s 1s/step - loss: 0.7665 - accuracy: 0.5714 - val_loss: 0.5938 - val_accuracy: 0.7222\n",
            "Epoch 2/100\n",
            "3/3 [==============================] - 4s 2s/step - loss: 0.0285 - accuracy: 1.0000 - val_loss: 0.0645 - val_accuracy: 0.9815\n",
            "Epoch 3/100\n",
            "3/3 [==============================] - 2s 776ms/step - loss: 0.0408 - accuracy: 0.9921 - val_loss: 0.1315 - val_accuracy: 0.9630\n",
            "Epoch 4/100\n",
            "3/3 [==============================] - 2s 670ms/step - loss: 0.0099 - accuracy: 1.0000 - val_loss: 0.0320 - val_accuracy: 0.9815\n",
            "Epoch 5/100\n",
            "3/3 [==============================] - 2s 658ms/step - loss: 0.0049 - accuracy: 1.0000 - val_loss: 0.0817 - val_accuracy: 0.9630\n",
            "Epoch 6/100\n",
            "3/3 [==============================] - 2s 670ms/step - loss: 0.0044 - accuracy: 1.0000 - val_loss: 0.1527 - val_accuracy: 0.9444\n",
            "Epoch 7/100\n",
            "3/3 [==============================] - 2s 668ms/step - loss: 0.0041 - accuracy: 1.0000 - val_loss: 0.2258 - val_accuracy: 0.9444\n",
            "Epoch 8/100\n",
            "3/3 [==============================] - 2s 788ms/step - loss: 0.0037 - accuracy: 1.0000 - val_loss: 0.2911 - val_accuracy: 0.9259\n",
            "Epoch 9/100\n",
            "3/3 [==============================] - 3s 1s/step - loss: 0.0036 - accuracy: 1.0000 - val_loss: 0.3457 - val_accuracy: 0.9259\n",
            "Epoch 10/100\n",
            "3/3 [==============================] - 3s 978ms/step - loss: 0.0032 - accuracy: 1.0000 - val_loss: 0.3893 - val_accuracy: 0.9259\n",
            "Epoch 11/100\n",
            "3/3 [==============================] - 2s 751ms/step - loss: 0.0032 - accuracy: 1.0000 - val_loss: 0.4228 - val_accuracy: 0.9259\n",
            "Epoch 12/100\n",
            "3/3 [==============================] - 2s 655ms/step - loss: 0.0031 - accuracy: 1.0000 - val_loss: 0.4481 - val_accuracy: 0.9074\n",
            "Epoch 13/100\n",
            "3/3 [==============================] - 2s 672ms/step - loss: 0.0030 - accuracy: 1.0000 - val_loss: 0.4661 - val_accuracy: 0.9074\n",
            "Epoch 14/100\n",
            "3/3 [==============================] - 2s 664ms/step - loss: 0.0025 - accuracy: 1.0000 - val_loss: 0.4782 - val_accuracy: 0.9074\n",
            "Epoch 15/100\n",
            "3/3 [==============================] - 2s 661ms/step - loss: 0.0026 - accuracy: 1.0000 - val_loss: 0.4863 - val_accuracy: 0.9074\n",
            "Epoch 16/100\n",
            "3/3 [==============================] - 2s 843ms/step - loss: 0.0022 - accuracy: 1.0000 - val_loss: 0.4918 - val_accuracy: 0.9074\n",
            "Epoch 17/100\n",
            "3/3 [==============================] - 3s 987ms/step - loss: 0.0021 - accuracy: 1.0000 - val_loss: 0.4939 - val_accuracy: 0.9074\n",
            "Epoch 18/100\n",
            "3/3 [==============================] - 3s 1s/step - loss: 0.0019 - accuracy: 1.0000 - val_loss: 0.4935 - val_accuracy: 0.9074\n",
            "Epoch 19/100\n",
            "3/3 [==============================] - 2s 674ms/step - loss: 0.0019 - accuracy: 1.0000 - val_loss: 0.4924 - val_accuracy: 0.9074\n",
            "Epoch 20/100\n",
            "3/3 [==============================] - 3s 1s/step - loss: 0.0016 - accuracy: 1.0000 - val_loss: 0.4896 - val_accuracy: 0.9074\n",
            "Epoch 21/100\n",
            "3/3 [==============================] - 2s 669ms/step - loss: 0.0017 - accuracy: 1.0000 - val_loss: 0.4860 - val_accuracy: 0.9074\n",
            "Epoch 22/100\n",
            "3/3 [==============================] - 2s 665ms/step - loss: 0.0017 - accuracy: 1.0000 - val_loss: 0.4818 - val_accuracy: 0.9074\n",
            "Epoch 23/100\n",
            "3/3 [==============================] - 2s 754ms/step - loss: 0.0014 - accuracy: 1.0000 - val_loss: 0.4770 - val_accuracy: 0.9074\n",
            "Epoch 24/100\n",
            "3/3 [==============================] - 3s 1s/step - loss: 0.0013 - accuracy: 1.0000 - val_loss: 0.4726 - val_accuracy: 0.9074\n",
            "Epoch 25/100\n",
            "3/3 [==============================] - 3s 1s/step - loss: 0.0011 - accuracy: 1.0000 - val_loss: 0.4668 - val_accuracy: 0.9074\n",
            "Epoch 26/100\n",
            "3/3 [==============================] - 2s 678ms/step - loss: 0.0012 - accuracy: 1.0000 - val_loss: 0.4596 - val_accuracy: 0.9259\n",
            "Epoch 27/100\n",
            "3/3 [==============================] - 2s 665ms/step - loss: 9.3037e-04 - accuracy: 1.0000 - val_loss: 0.4527 - val_accuracy: 0.9259\n",
            "Epoch 28/100\n",
            "3/3 [==============================] - 2s 668ms/step - loss: 8.3002e-04 - accuracy: 1.0000 - val_loss: 0.4468 - val_accuracy: 0.9259\n",
            "Epoch 29/100\n",
            "3/3 [==============================] - 2s 659ms/step - loss: 5.1094e-04 - accuracy: 1.0000 - val_loss: 0.4405 - val_accuracy: 0.9259\n",
            "Epoch 30/100\n",
            "3/3 [==============================] - 2s 656ms/step - loss: 6.8315e-04 - accuracy: 1.0000 - val_loss: 0.4342 - val_accuracy: 0.9259\n",
            "Epoch 31/100\n",
            "3/3 [==============================] - 2s 920ms/step - loss: 3.7011e-04 - accuracy: 1.0000 - val_loss: 0.4279 - val_accuracy: 0.9259\n",
            "Epoch 32/100\n",
            "3/3 [==============================] - 10s 4s/step - loss: 5.8540e-04 - accuracy: 1.0000 - val_loss: 0.4213 - val_accuracy: 0.9259\n",
            "Epoch 33/100\n",
            "3/3 [==============================] - 7s 2s/step - loss: 2.9442e-04 - accuracy: 1.0000 - val_loss: 0.4158 - val_accuracy: 0.9259\n",
            "Epoch 34/100\n",
            "3/3 [==============================] - 5s 1s/step - loss: 3.2955e-04 - accuracy: 1.0000 - val_loss: 0.4112 - val_accuracy: 0.9259\n",
            "Epoch 35/100\n",
            "3/3 [==============================] - 3s 1s/step - loss: 3.1391e-04 - accuracy: 1.0000 - val_loss: 0.4067 - val_accuracy: 0.9259\n",
            "Epoch 36/100\n",
            "3/3 [==============================] - 3s 1s/step - loss: 2.3085e-04 - accuracy: 1.0000 - val_loss: 0.4028 - val_accuracy: 0.9259\n",
            "Epoch 37/100\n",
            "3/3 [==============================] - 2s 679ms/step - loss: 4.1082e-04 - accuracy: 1.0000 - val_loss: 0.3994 - val_accuracy: 0.9259\n",
            "Epoch 38/100\n",
            "3/3 [==============================] - 2s 627ms/step - loss: 4.1564e-04 - accuracy: 1.0000 - val_loss: 0.3957 - val_accuracy: 0.9259\n",
            "Epoch 39/100\n",
            "3/3 [==============================] - 2s 626ms/step - loss: 1.7571e-04 - accuracy: 1.0000 - val_loss: 0.3926 - val_accuracy: 0.9259\n",
            "Epoch 40/100\n",
            "3/3 [==============================] - 2s 608ms/step - loss: 2.4805e-04 - accuracy: 1.0000 - val_loss: 0.3899 - val_accuracy: 0.9259\n",
            "Epoch 41/100\n",
            "3/3 [==============================] - 2s 603ms/step - loss: 2.0725e-04 - accuracy: 1.0000 - val_loss: 0.3873 - val_accuracy: 0.9259\n",
            "Epoch 42/100\n",
            "3/3 [==============================] - 2s 620ms/step - loss: 2.1394e-04 - accuracy: 1.0000 - val_loss: 0.3848 - val_accuracy: 0.9259\n",
            "Epoch 43/100\n",
            "3/3 [==============================] - 3s 1s/step - loss: 1.4461e-04 - accuracy: 1.0000 - val_loss: 0.3826 - val_accuracy: 0.9259\n",
            "Epoch 44/100\n",
            "3/3 [==============================] - 3s 1s/step - loss: 1.8269e-04 - accuracy: 1.0000 - val_loss: 0.3806 - val_accuracy: 0.9259\n",
            "Epoch 45/100\n",
            "3/3 [==============================] - 3s 809ms/step - loss: 1.9864e-04 - accuracy: 1.0000 - val_loss: 0.3780 - val_accuracy: 0.9259\n",
            "Epoch 46/100\n",
            "3/3 [==============================] - 2s 615ms/step - loss: 1.9602e-04 - accuracy: 1.0000 - val_loss: 0.3755 - val_accuracy: 0.9259\n",
            "Epoch 47/100\n",
            "3/3 [==============================] - 2s 626ms/step - loss: 1.1420e-04 - accuracy: 1.0000 - val_loss: 0.3735 - val_accuracy: 0.9259\n",
            "Epoch 48/100\n",
            "3/3 [==============================] - 2s 608ms/step - loss: 9.5167e-05 - accuracy: 1.0000 - val_loss: 0.3714 - val_accuracy: 0.9259\n",
            "Epoch 49/100\n",
            "3/3 [==============================] - 2s 603ms/step - loss: 1.2753e-04 - accuracy: 1.0000 - val_loss: 0.3696 - val_accuracy: 0.9259\n",
            "Epoch 50/100\n",
            "3/3 [==============================] - 2s 620ms/step - loss: 1.2883e-04 - accuracy: 1.0000 - val_loss: 0.3680 - val_accuracy: 0.9259\n",
            "Epoch 51/100\n",
            "3/3 [==============================] - 3s 1s/step - loss: 1.2640e-04 - accuracy: 1.0000 - val_loss: 0.3663 - val_accuracy: 0.9259\n",
            "Epoch 52/100\n",
            "3/3 [==============================] - 3s 998ms/step - loss: 7.3808e-05 - accuracy: 1.0000 - val_loss: 0.3650 - val_accuracy: 0.9259\n",
            "Epoch 53/100\n",
            "3/3 [==============================] - 3s 878ms/step - loss: 1.8898e-04 - accuracy: 1.0000 - val_loss: 0.3636 - val_accuracy: 0.9259\n",
            "Epoch 54/100\n",
            "3/3 [==============================] - 2s 625ms/step - loss: 9.5803e-05 - accuracy: 1.0000 - val_loss: 0.3619 - val_accuracy: 0.9259\n",
            "Epoch 55/100\n",
            "3/3 [==============================] - 2s 601ms/step - loss: 1.9738e-04 - accuracy: 1.0000 - val_loss: 0.3603 - val_accuracy: 0.9259\n",
            "Epoch 56/100\n",
            "3/3 [==============================] - 2s 608ms/step - loss: 1.4842e-04 - accuracy: 1.0000 - val_loss: 0.3588 - val_accuracy: 0.9259\n",
            "Epoch 57/100\n",
            "3/3 [==============================] - 2s 601ms/step - loss: 7.5634e-05 - accuracy: 1.0000 - val_loss: 0.3575 - val_accuracy: 0.9259\n",
            "Epoch 58/100\n",
            "3/3 [==============================] - 2s 616ms/step - loss: 7.2440e-05 - accuracy: 1.0000 - val_loss: 0.3564 - val_accuracy: 0.9259\n",
            "Epoch 59/100\n",
            "3/3 [==============================] - 2s 817ms/step - loss: 1.2344e-04 - accuracy: 1.0000 - val_loss: 0.3553 - val_accuracy: 0.9259\n",
            "Epoch 60/100\n",
            "3/3 [==============================] - 3s 993ms/step - loss: 7.2598e-05 - accuracy: 1.0000 - val_loss: 0.3542 - val_accuracy: 0.9259\n",
            "Epoch 61/100\n",
            "3/3 [==============================] - 3s 974ms/step - loss: 6.7411e-05 - accuracy: 1.0000 - val_loss: 0.3533 - val_accuracy: 0.9259\n",
            "Epoch 62/100\n",
            "3/3 [==============================] - 2s 619ms/step - loss: 7.6294e-05 - accuracy: 1.0000 - val_loss: 0.3523 - val_accuracy: 0.9259\n",
            "Epoch 63/100\n",
            "3/3 [==============================] - 2s 615ms/step - loss: 5.6499e-05 - accuracy: 1.0000 - val_loss: 0.3514 - val_accuracy: 0.9259\n",
            "Epoch 64/100\n",
            "3/3 [==============================] - 2s 604ms/step - loss: 5.0557e-05 - accuracy: 1.0000 - val_loss: 0.3504 - val_accuracy: 0.9259\n",
            "Epoch 65/100\n",
            "3/3 [==============================] - 2s 591ms/step - loss: 4.8438e-05 - accuracy: 1.0000 - val_loss: 0.3495 - val_accuracy: 0.9259\n",
            "Epoch 66/100\n",
            "3/3 [==============================] - 2s 616ms/step - loss: 4.1183e-05 - accuracy: 1.0000 - val_loss: 0.3485 - val_accuracy: 0.9259\n",
            "Epoch 67/100\n",
            "3/3 [==============================] - 2s 724ms/step - loss: 9.0291e-05 - accuracy: 1.0000 - val_loss: 0.3477 - val_accuracy: 0.9259\n",
            "Epoch 68/100\n",
            "3/3 [==============================] - 3s 980ms/step - loss: 4.4708e-05 - accuracy: 1.0000 - val_loss: 0.3468 - val_accuracy: 0.9259\n",
            "Epoch 69/100\n",
            "3/3 [==============================] - 3s 971ms/step - loss: 4.8300e-05 - accuracy: 1.0000 - val_loss: 0.3460 - val_accuracy: 0.9259\n",
            "Epoch 70/100\n",
            "3/3 [==============================] - 2s 737ms/step - loss: 8.3261e-05 - accuracy: 1.0000 - val_loss: 0.3451 - val_accuracy: 0.9259\n",
            "Epoch 71/100\n",
            "3/3 [==============================] - 2s 615ms/step - loss: 4.0795e-05 - accuracy: 1.0000 - val_loss: 0.3444 - val_accuracy: 0.9259\n",
            "Epoch 72/100\n",
            "3/3 [==============================] - 2s 603ms/step - loss: 4.7718e-05 - accuracy: 1.0000 - val_loss: 0.3437 - val_accuracy: 0.9259\n",
            "Epoch 73/100\n",
            "3/3 [==============================] - 2s 623ms/step - loss: 4.0001e-05 - accuracy: 1.0000 - val_loss: 0.3431 - val_accuracy: 0.9259\n",
            "Epoch 74/100\n",
            "3/3 [==============================] - 2s 622ms/step - loss: 4.2396e-05 - accuracy: 1.0000 - val_loss: 0.3425 - val_accuracy: 0.9259\n",
            "Epoch 75/100\n",
            "3/3 [==============================] - 2s 605ms/step - loss: 4.7851e-05 - accuracy: 1.0000 - val_loss: 0.3419 - val_accuracy: 0.9259\n",
            "Epoch 76/100\n",
            "3/3 [==============================] - 3s 1s/step - loss: 4.3011e-05 - accuracy: 1.0000 - val_loss: 0.3413 - val_accuracy: 0.9444\n",
            "Epoch 77/100\n",
            "3/3 [==============================] - 3s 988ms/step - loss: 4.9323e-05 - accuracy: 1.0000 - val_loss: 0.3408 - val_accuracy: 0.9444\n",
            "Epoch 78/100\n",
            "3/3 [==============================] - 3s 863ms/step - loss: 2.8565e-05 - accuracy: 1.0000 - val_loss: 0.3400 - val_accuracy: 0.9444\n",
            "Epoch 79/100\n",
            "3/3 [==============================] - 2s 598ms/step - loss: 3.2846e-05 - accuracy: 1.0000 - val_loss: 0.3393 - val_accuracy: 0.9444\n",
            "Epoch 80/100\n",
            "3/3 [==============================] - 2s 605ms/step - loss: 5.0823e-05 - accuracy: 1.0000 - val_loss: 0.3386 - val_accuracy: 0.9444\n",
            "Epoch 81/100\n",
            "3/3 [==============================] - 2s 616ms/step - loss: 4.4267e-05 - accuracy: 1.0000 - val_loss: 0.3380 - val_accuracy: 0.9444\n",
            "Epoch 82/100\n",
            "3/3 [==============================] - 2s 617ms/step - loss: 3.8307e-05 - accuracy: 1.0000 - val_loss: 0.3375 - val_accuracy: 0.9444\n",
            "Epoch 83/100\n",
            "3/3 [==============================] - 2s 632ms/step - loss: 3.7388e-05 - accuracy: 1.0000 - val_loss: 0.3368 - val_accuracy: 0.9444\n",
            "Epoch 84/100\n",
            "3/3 [==============================] - 2s 871ms/step - loss: 5.0027e-05 - accuracy: 1.0000 - val_loss: 0.3362 - val_accuracy: 0.9444\n",
            "Epoch 85/100\n",
            "3/3 [==============================] - 3s 941ms/step - loss: 2.7802e-05 - accuracy: 1.0000 - val_loss: 0.3355 - val_accuracy: 0.9444\n",
            "Epoch 86/100\n",
            "3/3 [==============================] - 3s 1s/step - loss: 3.5286e-05 - accuracy: 1.0000 - val_loss: 0.3349 - val_accuracy: 0.9444\n",
            "Epoch 87/100\n",
            "3/3 [==============================] - 2s 619ms/step - loss: 5.2773e-05 - accuracy: 1.0000 - val_loss: 0.3341 - val_accuracy: 0.9444\n",
            "Epoch 88/100\n",
            "3/3 [==============================] - 2s 608ms/step - loss: 3.3347e-05 - accuracy: 1.0000 - val_loss: 0.3334 - val_accuracy: 0.9444\n",
            "Epoch 89/100\n",
            "3/3 [==============================] - 2s 614ms/step - loss: 7.5253e-05 - accuracy: 1.0000 - val_loss: 0.3327 - val_accuracy: 0.9444\n",
            "Epoch 90/100\n",
            "3/3 [==============================] - 2s 617ms/step - loss: 5.2384e-05 - accuracy: 1.0000 - val_loss: 0.3322 - val_accuracy: 0.9444\n",
            "Epoch 91/100\n",
            "3/3 [==============================] - 2s 614ms/step - loss: 2.1356e-05 - accuracy: 1.0000 - val_loss: 0.3319 - val_accuracy: 0.9444\n",
            "Epoch 92/100\n",
            "3/3 [==============================] - 2s 733ms/step - loss: 2.5719e-05 - accuracy: 1.0000 - val_loss: 0.3317 - val_accuracy: 0.9444\n",
            "Epoch 93/100\n",
            "3/3 [==============================] - 3s 965ms/step - loss: 8.6607e-05 - accuracy: 1.0000 - val_loss: 0.3314 - val_accuracy: 0.9444\n",
            "Epoch 94/100\n",
            "3/3 [==============================] - 3s 973ms/step - loss: 2.6780e-05 - accuracy: 1.0000 - val_loss: 0.3309 - val_accuracy: 0.9444\n",
            "Epoch 95/100\n",
            "3/3 [==============================] - 2s 688ms/step - loss: 2.3877e-05 - accuracy: 1.0000 - val_loss: 0.3304 - val_accuracy: 0.9444\n",
            "Epoch 96/100\n",
            "3/3 [==============================] - 2s 607ms/step - loss: 8.3959e-05 - accuracy: 1.0000 - val_loss: 0.3296 - val_accuracy: 0.9444\n",
            "Epoch 97/100\n",
            "3/3 [==============================] - 2s 613ms/step - loss: 4.8036e-05 - accuracy: 1.0000 - val_loss: 0.3289 - val_accuracy: 0.9444\n",
            "Epoch 98/100\n",
            "3/3 [==============================] - 2s 602ms/step - loss: 2.4560e-05 - accuracy: 1.0000 - val_loss: 0.3282 - val_accuracy: 0.9444\n",
            "Epoch 99/100\n",
            "3/3 [==============================] - 2s 612ms/step - loss: 4.2806e-05 - accuracy: 1.0000 - val_loss: 0.3277 - val_accuracy: 0.9444\n",
            "Epoch 100/100\n",
            "3/3 [==============================] - 2s 598ms/step - loss: 5.1682e-05 - accuracy: 1.0000 - val_loss: 0.3273 - val_accuracy: 0.9444\n",
            "2/2 [==============================] - 0s 39ms/step\n",
            "4/4 [==============================] - 0s 58ms/step\n"
          ]
        }
      ]
    },
    {
      "cell_type": "code",
      "source": [
        "# Imprimir métricas de entrenamiento\n",
        "print(\"\\nMétricas en el conjunto de entrenamiento:\")\n",
        "print(f\"Exactitud (entrenamiento): {round(accuracy_train, 2) * 100}%\")\n",
        "print(f\"Precisión (entrenamiento): {round(precision_train, 2) * 100}%\")\n",
        "print(f\"Recall (entrenamiento): {round(recall_train, 2) * 100}%\")\n",
        "print(f\"F1-score (entrenamiento): {round(f1_train, 2) * 100}%\")\n",
        "print('-------------------------------------------------------------------------')\n",
        "# Imprimir métricas de evaluación\n",
        "print(f\"Exactitud en el conjunto de validación: {round(accuracy, 2) * 100}%\")\n",
        "print(f\"Precisión en el conjunto de validación: {round(precision, 2) * 100}%\")\n",
        "print(f\"Recall en el conjunto de validación: {round(recall, 2) * 100}%\")\n",
        "print(f\"F1-score en el conjunto de validación: {round(f1, 2) * 100}%\")"
      ],
      "metadata": {
        "colab": {
          "base_uri": "https://localhost:8080/"
        },
        "id": "hXVDgU6vY6IL",
        "outputId": "435d8698-1d5c-4b9d-aefd-caa1b73d973f"
      },
      "execution_count": null,
      "outputs": [
        {
          "output_type": "stream",
          "name": "stdout",
          "text": [
            "\n",
            "Métricas en el conjunto de entrenamiento:\n",
            "Exactitud (entrenamiento): 100.0%\n",
            "Precisión (entrenamiento): 100.0%\n",
            "Recall (entrenamiento): 100.0%\n",
            "F1-score (entrenamiento): 100.0%\n",
            "-------------------------------------------------------------------------\n",
            "Exactitud en el conjunto de validación: 94.0%\n",
            "Precisión en el conjunto de validación: 89.0%\n",
            "Recall en el conjunto de validación: 100.0%\n",
            "F1-score en el conjunto de validación: 94.0%\n"
          ]
        }
      ]
    },
    {
      "cell_type": "markdown",
      "source": [
        "# **Matriz de confusión**"
      ],
      "metadata": {
        "id": "zrnag9LChBJk"
      }
    },
    {
      "cell_type": "code",
      "source": [
        "from sklearn.metrics import confusion_matrix\n",
        "\n",
        "y_pred = model.predict(X_val)\n",
        "\n",
        "# Obtiene la matriz de confusión. Las filas corresponden a las clases reales,\n",
        "umbral = 0.5  # Puedes ajustar este umbral según tus necesidades\n",
        "y_pred_binario = (y_pred > umbral).astype(int)\n",
        "\n",
        "# Calcular la matriz de confusión con las etiquetas binarias\n",
        "cm = confusion_matrix(y_val, y_pred_binario)\n",
        "prop_real = np.sum(y_val)/len(y_val)\n",
        "prop_etiqutados = (cm[0,1]+cm[1,1])/len(y_val)\n",
        "\n",
        "print(\"Matriz de confusión: \\n\\n\", cm, \"\\n\")\n",
        "print('Proporción de comentarios positivos: %.2f'% prop_real)\n",
        "print('Proporción de comentarios positivos etiquetados: %.2f'% prop_etiqutados)"
      ],
      "metadata": {
        "colab": {
          "base_uri": "https://localhost:8080/"
        },
        "id": "7jAmF9ruhK_z",
        "outputId": "8bb81983-efcc-4425-da02-9cdb397ac52d"
      },
      "execution_count": null,
      "outputs": [
        {
          "output_type": "stream",
          "name": "stdout",
          "text": [
            "2/2 [==============================] - 0s 38ms/step\n",
            "Matriz de confusión: \n",
            "\n",
            " [[26  3]\n",
            " [ 0 25]] \n",
            "\n",
            "Proporción de comentarios positivos: 0.46\n",
            "Proporción de comentarios positivos etiquetados: 0.52\n"
          ]
        }
      ]
    },
    {
      "cell_type": "code",
      "source": [
        "import seaborn as sns\n",
        "import matplotlib.pyplot as plt\n",
        "\n",
        "# Crear una figura para la matriz de confusión\n",
        "plt.figure(figsize=(8, 6))\n",
        "\n",
        "# Crear una matriz de confusión usando el heatmap de Seaborn\n",
        "sns.heatmap(cm, annot=True, fmt=\"d\", cmap=\"Blues\", xticklabels=['Control', 'Depresión'], yticklabels=['Control', 'Depresión'])\n",
        "\n",
        "# Etiquetas y título\n",
        "plt.xlabel('Predicción')\n",
        "plt.ylabel('Valor Real')\n",
        "plt.title('Matriz de Confusión (Usarios con Depresión vs de control)')\n",
        "\n",
        "# Mostrar la gráfica\n",
        "plt.show()"
      ],
      "metadata": {
        "colab": {
          "base_uri": "https://localhost:8080/",
          "height": 565
        },
        "id": "JkILkBO4hc1r",
        "outputId": "fdfb3185-4fe4-4e4b-8303-7b13f5296ab3"
      },
      "execution_count": null,
      "outputs": [
        {
          "output_type": "display_data",
          "data": {
            "text/plain": [
              "<Figure size 800x600 with 2 Axes>"
            ],
            "image/png": "[encoded data removed]"
          },
          "metadata": {}
        }
      ]
    },
    {
      "cell_type": "markdown",
      "source": [
        "#Modelo Arbol Aleatorio"
      ],
      "metadata": {
        "id": "Jr7wkaLH8D9Y"
      }
    },
    {
      "cell_type": "code",
      "source": [
        "from sklearn.ensemble import RandomForestClassifier\n",
        "from sklearn.metrics import accuracy_score, precision_score, recall_score, f1_score\n",
        "\n",
        "# Importa las librerías necesarias y divide los datos en conjuntos de entrenamiento y validación\n",
        "from sklearn.model_selection import train_test_split\n",
        "\n",
        "# X_train, X_val, y_train, y_val\n",
        "\n",
        "# Crea un modelo de Random Forest\n",
        "random_forest_model = RandomForestClassifier(n_estimators=300,  # Numero de alboles\n",
        "                                             max_depth=100, # profunidad máxima\n",
        "                                             random_state=42)  # selección de la semilla de manera aleatoria\n",
        "\n",
        "\n",
        "# Entrena el modelo en los datos de entrenamiento\n",
        "random_forest_model.fit(X_train, y_train)\n",
        "\n",
        "# Realiza predicciones en los datos de validación\n",
        "y_val_pred = random_forest_model.predict(X_val)\n",
        "\n",
        "# Calcula la precisión (accuracy) del modelo en los datos de validación\n",
        "accuracy = accuracy_score(y_val, y_val_pred)\n",
        "print(\"Accuracy (validación): {:.2f}\".format(accuracy))\n",
        "\n",
        "# Calcula la precisión del modelo en los datos de validación\n",
        "precision = precision_score(y_val, y_val_pred)\n",
        "print(\"Precision (validación): {:.2f}\".format(precision))\n",
        "\n",
        "# Calcula la exactitud (recall) del modelo en los datos de validación\n",
        "recall = recall_score(y_val, y_val_pred)\n",
        "print(\"Recall (validación): {:.2f}\".format(recall))\n",
        "\n",
        "# Calcula el F1-score del modelo en los datos de validación\n",
        "f1 = f1_score(y_val, y_val_pred)\n",
        "print(\"F1-score (validación): {:.2f}\".format(f1))\n",
        "\n",
        "# Calcula y muestra métricas en el conjunto de entrenamiento\n",
        "y_train_pred = random_forest_model.predict(X_train)\n",
        "\n",
        "accuracy_train = accuracy_score(y_train, y_train_pred)\n",
        "precision_train = precision_score(y_train, y_train_pred)\n",
        "recall_train = recall_score(y_train, y_train_pred)\n",
        "f1_train = f1_score(y_train, y_train_pred)\n",
        "\n",
        "#\n",
        "\n",
        "\n"
      ],
      "metadata": {
        "id": "Yf9iwokE-QqU",
        "colab": {
          "base_uri": "https://localhost:8080/"
        },
        "outputId": "be1dbc8f-c216-46b2-a7d6-e9e082789f42"
      },
      "execution_count": null,
      "outputs": [
        {
          "output_type": "stream",
          "name": "stdout",
          "text": [
            "Accuracy (validación): 0.96\n",
            "Precision (validación): 0.96\n",
            "Recall (validación): 0.96\n",
            "F1-score (validación): 0.96\n"
          ]
        }
      ]
    },
    {
      "cell_type": "code",
      "source": [
        "# Imprimir las métricas de entrenamiento\n",
        "print(f'Accuracy entrenamiento: {accuracy_train * 100:.2f}%')\n",
        "print(f'Precisión  entrenamiento: {precision_train * 100:.2f}%')\n",
        "print(f'Recall  entrenamiento: {recall_train * 100:.2f}%')\n",
        "print(f'Puntuación F1  entrenamiento: {f1_train * 100:.2f}%')\n",
        "print('\\n')\n",
        "# Imprimir las métricas de validación\n",
        "print(f'Accuracy  validación: {accuracy * 100:.2f}%')\n",
        "print(f'Precisión  validación: {precision* 100:.2f}%')\n",
        "print(f'Recall  validación: {recall* 100:.2f}%')\n",
        "print(f'Puntuación F1 validación: {f1 * 100:.2f}%')"
      ],
      "metadata": {
        "colab": {
          "base_uri": "https://localhost:8080/"
        },
        "id": "NkRDcwJA-Vto",
        "outputId": "b94e1398-5b44-42cb-c3f8-6b1438e1f7bf"
      },
      "execution_count": null,
      "outputs": [
        {
          "output_type": "stream",
          "name": "stdout",
          "text": [
            "Accuracy entrenamiento: 100.00%\n",
            "Precisión  entrenamiento: 100.00%\n",
            "Recall  entrenamiento: 100.00%\n",
            "Puntuación F1  entrenamiento: 100.00%\n",
            "\n",
            "\n",
            "Accuracy  validación: 96.30%\n",
            "Precisión  validación: 96.00%\n",
            "Recall  validación: 96.00%\n",
            "Puntuación F1 validación: 96.00%\n"
          ]
        }
      ]
    },
    {
      "cell_type": "markdown",
      "source": [
        "# **Matriz de confusión**"
      ],
      "metadata": {
        "id": "PnsoHsgnjbBL"
      }
    },
    {
      "cell_type": "code",
      "source": [
        "from sklearn.metrics import confusion_matrix\n",
        "\n",
        "y_pred_RF = model.predict(X_val)\n",
        "\n",
        "# Obtiene la matriz de confusión. Las filas corresponden a las clases reales,\n",
        "umbral = 0.5  # Puedes ajustar este umbral según tus necesidades\n",
        "y_pred_binario = (y_pred_RF > umbral).astype(int)\n",
        "\n",
        "# Calcular la matriz de confusión con las etiquetas binarias\n",
        "cm = confusion_matrix(y_val, y_pred_binario)\n",
        "prop_real = np.sum(y_val)/len(y_val)\n",
        "prop_etiqutados = (cm[0,1]+cm[1,1])/len(y_val)\n",
        "\n",
        "print(\"Matriz de confusión: \\n\\n\", cm, \"\\n\")\n",
        "print('Proporción de comentarios positivos: %.2f'% prop_real)\n",
        "print('Proporción de comentarios positivos etiquetados: %.2f'% prop_etiqutados)"
      ],
      "metadata": {
        "colab": {
          "base_uri": "https://localhost:8080/"
        },
        "outputId": "e9352bde-adf2-4cc4-ad32-7a467f5f2d15",
        "id": "ge2kdDirjbBU"
      },
      "execution_count": null,
      "outputs": [
        {
          "output_type": "stream",
          "name": "stdout",
          "text": [
            "2/2 [==============================] - 0s 38ms/step\n",
            "Matriz de confusión: \n",
            "\n",
            " [[26  3]\n",
            " [ 0 25]] \n",
            "\n",
            "Proporción de comentarios positivos: 0.46\n",
            "Proporción de comentarios positivos etiquetados: 0.52\n"
          ]
        }
      ]
    },
    {
      "cell_type": "code",
      "source": [
        "import seaborn as sns\n",
        "import matplotlib.pyplot as plt\n",
        "\n",
        "# Crear una figura para la matriz de confusión\n",
        "plt.figure(figsize=(8, 6))\n",
        "\n",
        "# Crear una matriz de confusión usando el heatmap de Seaborn\n",
        "sns.heatmap(cm, annot=True, fmt=\"d\", cmap=\"Blues\", xticklabels=['Control', 'Depresión'], yticklabels=['Control', 'Depresión'])\n",
        "\n",
        "# Etiquetas y título\n",
        "plt.xlabel('Predicción')\n",
        "plt.ylabel('Valor Real')\n",
        "plt.title('Matriz de Confusión (Usarios con Depresión vs de control)')\n",
        "\n",
        "# Mostrar la gráfica\n",
        "plt.show()"
      ],
      "metadata": {
        "colab": {
          "base_uri": "https://localhost:8080/",
          "height": 565
        },
        "outputId": "81f34057-ccef-4cf7-95ff-7ffa50aff3e1",
        "id": "gUFypmG1jbBV"
      },
      "execution_count": null,
      "outputs": [
        {
          "output_type": "display_data",
          "data": {
            "text/plain": [
              "<Figure size 800x600 with 2 Axes>"
            ],
            "image/png": "[encoded data removed]"
          },
          "metadata": {}
        }
      ]
    },
    {
      "cell_type": "markdown",
      "source": [
        "#Modelo SVM"
      ],
      "metadata": {
        "id": "tpe64XnkBjMZ"
      }
    },
    {
      "cell_type": "code",
      "source": [
        "from sklearn.svm import SVC\n",
        "from sklearn.metrics import accuracy_score, precision_score, recall_score, f1_score\n",
        "import joblib\n",
        "import os\n",
        "\n",
        "svm_model_p = SVC(kernel='linear', degree=4, C=100, max_iter=100000, probability=False)\n",
        "\n",
        "# Entrenar el modelo en los datos de entrenamiento\n",
        "svm_model_p.fit(X_train, y_train)\n",
        "\n",
        "# Predecir etiquetas en el conjunto de validación\n",
        "y_val_pred = svm_model_p.predict(X_val)\n",
        "\n",
        "# Calcula la precisión del modelo en el conjunto de validación\n",
        "accuracy = accuracy_score(y_val, y_val_pred)\n",
        "\n",
        "\n",
        "# Calcula precisión, exhaustividad y puntuación F1 en el conjunto de validación\n",
        "precision = precision_score(y_val, y_val_pred)\n",
        "recall = recall_score(y_val, y_val_pred)\n",
        "f1 = f1_score(y_val, y_val_pred)\n",
        "\n",
        "# Calcula y muestra métricas en el conjunto de entrenamiento\n",
        "y_train_pred = svm_model_p.predict(X_train)\n",
        "\n",
        "accuracy_train = accuracy_score(y_train, y_train_pred)\n",
        "precision_train = precision_score(y_train, y_train_pred)\n",
        "recall_train = recall_score(y_train, y_train_pred)\n",
        "f1_train = f1_score(y_train, y_train_pred)\n",
        "\n",
        "print(\"\\nEntrenamiento:\")\n",
        "print(\"Exactitud (entrenamiento): {:.2f}%\".format(accuracy_train*100))\n",
        "print(\"Precision (entrenamiento): {:.2f}%\".format(precision_train*100))\n",
        "print(\"Recall (entrenamiento): {:.2f}%\".format(recall_train*100))\n",
        "print(\"F1-score (entrenamiento): {:.2f}%\".format(f1_train*100))\n",
        "print(\"\\nValidación:\")\n",
        "print(f\"Exactitud en el conjunto de validación: {round(accuracy,2)*100}%\")\n",
        "print(f\"Precisión en el conjunto de validación:{round(precision,2)*100}%\")\n",
        "print(f\"Recall en el conjunto de validación: {round(recall,2)*100}%\")\n",
        "print(f\"F1-score en el conjunto de validación:{round(f1,2)*100}%\")\n",
        "\n"
      ],
      "metadata": {
        "colab": {
          "base_uri": "https://localhost:8080/"
        },
        "id": "abWDh27ABtdx",
        "outputId": "9783f5b4-b32a-4a97-e61f-c1e4c329cf4a"
      },
      "execution_count": null,
      "outputs": [
        {
          "output_type": "stream",
          "name": "stdout",
          "text": [
            "\n",
            "Entrenamiento:\n",
            "Exactitud (entrenamiento): 100.00%\n",
            "Precision (entrenamiento): 100.00%\n",
            "Recall (entrenamiento): 100.00%\n",
            "F1-score (entrenamiento): 100.00%\n",
            "\n",
            "Validación:\n",
            "Exactitud en el conjunto de validación: 96.0%\n",
            "Precisión en el conjunto de validación:96.0%\n",
            "Recall en el conjunto de validación: 96.0%\n",
            "F1-score en el conjunto de validación:96.0%\n"
          ]
        }
      ]
    },
    {
      "cell_type": "markdown",
      "source": [
        "# **Matriz de confusión**"
      ],
      "metadata": {
        "id": "UQJHYe_5mFmL"
      }
    },
    {
      "cell_type": "code",
      "source": [
        "from sklearn.metrics import confusion_matrix\n",
        "\n",
        "y_pred_RF = model.predict(X_val)\n",
        "\n",
        "# Obtiene la matriz de confusión. Las filas corresponden a las clases reales,\n",
        "umbral = 0.5  # Puedes ajustar este umbral según tus necesidades\n",
        "y_pred_binario = (y_pred_RF > umbral).astype(int)\n",
        "\n",
        "# Calcular la matriz de confusión con las etiquetas binarias\n",
        "cm = confusion_matrix(y_val, y_pred_binario)\n",
        "prop_real = np.sum(y_val)/len(y_val)\n",
        "prop_etiqutados = (cm[0,1]+cm[1,1])/len(y_val)\n",
        "\n",
        "print(\"Matriz de confusión: \\n\\n\", cm, \"\\n\")\n",
        "print('Proporción de comentarios positivos: %.2f'% prop_real)\n",
        "print('Proporción de comentarios positivos etiquetados: %.2f'% prop_etiqutados)"
      ],
      "metadata": {
        "colab": {
          "base_uri": "https://localhost:8080/"
        },
        "outputId": "ae8cc851-57e0-4ac6-c1d9-d31c1ecc8f47",
        "id": "bEh8aTdumFmT"
      },
      "execution_count": null,
      "outputs": [
        {
          "output_type": "stream",
          "name": "stdout",
          "text": [
            "2/2 [==============================] - 0s 38ms/step\n",
            "Matriz de confusión: \n",
            "\n",
            " [[26  3]\n",
            " [ 0 25]] \n",
            "\n",
            "Proporción de comentarios positivos: 0.46\n",
            "Proporción de comentarios positivos etiquetados: 0.52\n"
          ]
        }
      ]
    },
    {
      "cell_type": "code",
      "source": [
        "import seaborn as sns\n",
        "import matplotlib.pyplot as plt\n",
        "\n",
        "# Crear una figura para la matriz de confusión\n",
        "plt.figure(figsize=(8, 6))\n",
        "\n",
        "# Crear una matriz de confusión usando el heatmap de Seaborn\n",
        "sns.heatmap(cm, annot=True, fmt=\"d\", cmap=\"Blues\", xticklabels=['Control', 'Depresión'], yticklabels=['Control', 'Depresión'])\n",
        "\n",
        "# Etiquetas y título\n",
        "plt.xlabel('Predicción')\n",
        "plt.ylabel('Valor Real')\n",
        "plt.title('Matriz de Confusión (Usarios con Depresión vs de control)')\n",
        "\n",
        "# Mostrar la gráfica\n",
        "plt.show()"
      ],
      "metadata": {
        "colab": {
          "base_uri": "https://localhost:8080/",
          "height": 565
        },
        "outputId": "e26aa5cf-fa8b-4fe1-acc8-2903f8717208",
        "id": "xAQ-K-AImFmT"
      },
      "execution_count": null,
      "outputs": [
        {
          "output_type": "display_data",
          "data": {
            "text/plain": [
              "<Figure size 800x600 with 2 Axes>"
            ],
            "image/png": "[encoded data removed]"
          },
          "metadata": {}
        }
      ]
    },
    {
      "cell_type": "markdown",
      "source": [
        "# **Regresión Logistica**"
      ],
      "metadata": {
        "id": "Ef6U8YQNp2SW"
      }
    },
    {
      "cell_type": "code",
      "source": [
        "from sklearn.linear_model import LogisticRegression\n",
        "from sklearn.metrics import precision_score, recall_score, f1_score\n",
        "# Crear el modelo de regresión logística\n",
        "lr_model = LogisticRegression(C=10)\n",
        "lr_model.fit(X_train, y_train)\n",
        "\n",
        "# Calcular el porcentaje de acierto en el conjunto de entrenamiento\n",
        "accuracy_train = lr_model.score(X_train, y_train) * 100\n",
        "\n",
        "# Calcular el porcentaje de acierto en el conjunto de validación\n",
        "accuracy_val = lr_model.score(X_val, y_val) * 100\n",
        "\n",
        "# Predicciones en el conjunto de entrenamiento y validación\n",
        "y_train_pred = lr_model.predict(X_train)\n",
        "y_val_pred = lr_model.predict(X_val)\n",
        "\n",
        "# Calcular precisión en el conjunto de entrenamiento y validación\n",
        "precision_train = precision_score(y_train, y_train_pred)* 100\n",
        "precision_val = precision_score(y_val, y_val_pred)* 100\n",
        "\n",
        "# Calcular exhaustividad (recall) en el conjunto de entrenamiento y validación\n",
        "recall_train = recall_score(y_train, y_train_pred)* 100\n",
        "recall_val = recall_score(y_val, y_val_pred)* 100\n",
        "\n",
        "# Calcular puntuación F1 en el conjunto de entrenamiento y validación\n",
        "f1_train = f1_score(y_train, y_train_pred)* 100\n",
        "f1_val = f1_score(y_val, y_val_pred)* 100\n"
      ],
      "metadata": {
        "id": "OnNzX1e9RNoJ"
      },
      "execution_count": null,
      "outputs": []
    },
    {
      "cell_type": "code",
      "source": [
        "# Mostrar métricas de entrenamiento\n",
        "print(\"Métricas de entrenamiento:\")\n",
        "print(\"Exactitud (entrenamiento): {:.2f}%\".format(accuracy_train))\n",
        "print(\"Precisión (entrenamiento): {:.2f}%\".format(precision_train))\n",
        "print(\"Exhaustividad (entrenamiento): {:.2f}%\".format(recall_train))\n",
        "print(\"Puntuación F1 (entrenamiento): {:.2f}%\".format(f1_train))\n",
        "print('-'*40)\n",
        "# Mostrar métricas de validación\n",
        "print(\"\\nMétricas de validación:\")\n",
        "print(\"Exactitud (validación): {:.2f}%\".format(accuracy_val))\n",
        "print(\"Precisión (validación): {:.2f}%\".format(precision_val))\n",
        "print(\"Exhaustividad (validación): {:.2f}%\".format(recall_val))\n",
        "print(\"Puntuación F1 (validación): {:.2f}%\".format(f1_val))"
      ],
      "metadata": {
        "colab": {
          "base_uri": "https://localhost:8080/"
        },
        "id": "qwl9Ndehm4o3",
        "outputId": "930b6417-cbee-477b-c4de-fd5a89ea3736"
      },
      "execution_count": null,
      "outputs": [
        {
          "output_type": "stream",
          "name": "stdout",
          "text": [
            "Métricas de entrenamiento:\n",
            "Exactitud (entrenamiento): 100.00%\n",
            "Precisión (entrenamiento): 100.00%\n",
            "Exhaustividad (entrenamiento): 100.00%\n",
            "Puntuación F1 (entrenamiento): 100.00%\n",
            "----------------------------------------\n",
            "\n",
            "Métricas de validación:\n",
            "Exactitud (validación): 96.30%\n",
            "Precisión (validación): 96.00%\n",
            "Exhaustividad (validación): 96.00%\n",
            "Puntuación F1 (validación): 96.00%\n"
          ]
        }
      ]
    },
    {
      "cell_type": "markdown",
      "source": [
        "# **Matriz de confusión**"
      ],
      "metadata": {
        "id": "C5K5W5kWnQrg"
      }
    },
    {
      "cell_type": "code",
      "source": [
        "from sklearn.metrics import confusion_matrix\n",
        "\n",
        "y_pred_RF = model.predict(X_val)\n",
        "\n",
        "# Obtiene la matriz de confusión. Las filas corresponden a las clases reales,\n",
        "umbral = 0.5  # Puedes ajustar este umbral según tus necesidades\n",
        "y_pred_binario = (y_pred_RF > umbral).astype(int)\n",
        "\n",
        "# Calcular la matriz de confusión con las etiquetas binarias\n",
        "cm = confusion_matrix(y_val, y_pred_binario)\n",
        "prop_real = np.sum(y_val)/len(y_val)\n",
        "prop_etiqutados = (cm[0,1]+cm[1,1])/len(y_val)\n",
        "\n",
        "print(\"Matriz de confusión: \\n\\n\", cm, \"\\n\")\n",
        "print('Proporción de comentarios positivos: %.2f'% prop_real)\n",
        "print('Proporción de comentarios positivos etiquetados: %.2f'% prop_etiqutados)"
      ],
      "metadata": {
        "colab": {
          "base_uri": "https://localhost:8080/"
        },
        "outputId": "6e2e0207-b64f-41a6-9d6e-e99ffb2e75ef",
        "id": "35gIxGVMnQro"
      },
      "execution_count": null,
      "outputs": [
        {
          "output_type": "stream",
          "name": "stdout",
          "text": [
            "2/2 [==============================] - 0s 39ms/step\n",
            "Matriz de confusión: \n",
            "\n",
            " [[26  3]\n",
            " [ 0 25]] \n",
            "\n",
            "Proporción de comentarios positivos: 0.46\n",
            "Proporción de comentarios positivos etiquetados: 0.52\n"
          ]
        }
      ]
    },
    {
      "cell_type": "code",
      "source": [
        "import seaborn as sns\n",
        "import matplotlib.pyplot as plt\n",
        "\n",
        "# Crear una figura para la matriz de confusión\n",
        "plt.figure(figsize=(8, 6))\n",
        "\n",
        "# Crear una matriz de confusión usando el heatmap de Seaborn\n",
        "sns.heatmap(cm, annot=True, fmt=\"d\", cmap=\"Blues\", xticklabels=['Control', 'Depresión'], yticklabels=['Control', 'Depresión'])\n",
        "\n",
        "# Etiquetas y título\n",
        "plt.xlabel('Predicción')\n",
        "plt.ylabel('Valor Real')\n",
        "plt.title('Matriz de Confusión (Usarios con Depresión vs de control)')\n",
        "\n",
        "# Mostrar la gráfica\n",
        "plt.show()"
      ],
      "metadata": {
        "colab": {
          "base_uri": "https://localhost:8080/",
          "height": 565
        },
        "outputId": "7733e8dd-c838-4b2c-8af7-be4944a6dc2d",
        "id": "iTWL0FkxnQrp"
      },
      "execution_count": null,
      "outputs": [
        {
          "output_type": "display_data",
          "data": {
            "text/plain": [
              "<Figure size 800x600 with 2 Axes>"
            ],
            "image/png": "[encoded data removed]"
          },
          "metadata": {}
        }
      ]
    }
  ]
}
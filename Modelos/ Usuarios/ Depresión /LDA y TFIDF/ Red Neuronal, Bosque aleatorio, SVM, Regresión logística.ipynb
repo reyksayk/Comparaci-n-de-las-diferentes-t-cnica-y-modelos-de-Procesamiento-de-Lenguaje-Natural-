{
  "nbformat": 4,
  "nbformat_minor": 0,
  "metadata": {
    "colab": {
      "provenance": [],
      "mount_file_id": "1T_J1mRf03aiYYYdmDDLr-4lgKZlM4STo",
      "authorship_tag": "ABX9TyOFS27PU59EEgRona1LfzrJ"
    },
    "kernelspec": {
      "name": "python3",
      "display_name": "Python 3"
    },
    "language_info": {
      "name": "python"
    }
  },
  "cells": [
    {
      "cell_type": "code",
      "source": [
        "import numpy as np\n",
        "import pandas as pd\n",
        "\n",
        "import tensorflow as tf\n",
        "from tensorflow.keras.models import Sequential\n",
        "from tensorflow.keras.layers import Dense, Dropout\n",
        "from sklearn.metrics import accuracy_score, precision_score, recall_score, f1_score\n",
        "from sklearn.model_selection import train_test_split\n",
        "from sklearn.preprocessing import LabelEncoder\n",
        "from tensorflow.keras.models import load_model\n",
        "from sklearn.model_selection import cross_val_score\n",
        "from sklearn.model_selection import StratifiedKFold"
      ],
      "metadata": {
        "id": "U7C1X_GgdSjj"
      },
      "execution_count": null,
      "outputs": []
    },
    {
      "cell_type": "markdown",
      "source": [
        "# datos"
      ],
      "metadata": {
        "id": "Qc7qpw2GdPhD"
      }
    },
    {
      "cell_type": "markdown",
      "source": [
        "**usarios con Depresión**"
      ],
      "metadata": {
        "id": "BmpzI8EBdbB4"
      }
    },
    {
      "cell_type": "code",
      "source": [
        "archivo = '/content/drive/MyDrive/Experimentación Python Tesis /Experimento por agrupación de usuarios/Usuarios con depresión/User_depresion (1).tsv'\n",
        "ansiedad = pd.read_csv(archivo, sep ='\\t')\n",
        "ansiedad.head(10)"
      ],
      "metadata": {
        "colab": {
          "base_uri": "https://localhost:8080/",
          "height": 363
        },
        "id": "H7xomni0dabC",
        "outputId": "0bcb4643-ad2b-4a57-e8ff-43d667a6cf40"
      },
      "execution_count": null,
      "outputs": [
        {
          "output_type": "execute_result",
          "data": {
            "text/plain": [
              "   USER_ID            TWEET_ID  \\\n",
              "0        1  820809508935049216   \n",
              "1        1  779730304500011008   \n",
              "2        1  772600684478926849   \n",
              "3        1  805186101413560321   \n",
              "4        1  815302056533774336   \n",
              "5        1  658016589053345792   \n",
              "6        1  946718429825961985   \n",
              "7        1  758339344209965056   \n",
              "8        1  868645902680027136   \n",
              "9        1  820464030468939777   \n",
              "\n",
              "                                          TWEET_TEXT  \n",
              "0  Soy de esas que escuchan canciones tristes, cu...  \n",
              "1  Latest Stats = 11 Followers and 3 Unfollowers ...  \n",
              "2       RT @chicosuicidamas: Me canse de ser fuerte.  \n",
              "3  En el agua donde centro mis emociones, todo el...  \n",
              "4  RT @MrMenteSuicida: Es lindo cuando después de...  \n",
              "5  RT @_HappyDark_: Mírame a los ojos.\\nAquí es d...  \n",
              "6          Un brindis por ese lugar vacío en la mesa  \n",
              "7  RT @Chicosuicidamas: Cuando un verdadero amigo...  \n",
              "8          RT @Chicobip0lar: https://t.co/gC49F6naPP  \n",
              "9  Cuando le dije a mi mejor amiga que me autolas...  "
            ],
            "text/html": [
              "\n",
              "  <div id=\"df-946f1577-688a-4f06-9177-674d41995ab8\" class=\"colab-df-container\">\n",
              "    <div>\n",
              "<style scoped>\n",
              "    .dataframe tbody tr th:only-of-type {\n",
              "        vertical-align: middle;\n",
              "    }\n",
              "\n",
              "    .dataframe tbody tr th {\n",
              "        vertical-align: top;\n",
              "    }\n",
              "\n",
              "    .dataframe thead th {\n",
              "        text-align: right;\n",
              "    }\n",
              "</style>\n",
              "<table border=\"1\" class=\"dataframe\">\n",
              "  <thead>\n",
              "    <tr style=\"text-align: right;\">\n",
              "      <th></th>\n",
              "      <th>USER_ID</th>\n",
              "      <th>TWEET_ID</th>\n",
              "      <th>TWEET_TEXT</th>\n",
              "    </tr>\n",
              "  </thead>\n",
              "  <tbody>\n",
              "    <tr>\n",
              "      <th>0</th>\n",
              "      <td>1</td>\n",
              "      <td>820809508935049216</td>\n",
              "      <td>Soy de esas que escuchan canciones tristes, cu...</td>\n",
              "    </tr>\n",
              "    <tr>\n",
              "      <th>1</th>\n",
              "      <td>1</td>\n",
              "      <td>779730304500011008</td>\n",
              "      <td>Latest Stats = 11 Followers and 3 Unfollowers ...</td>\n",
              "    </tr>\n",
              "    <tr>\n",
              "      <th>2</th>\n",
              "      <td>1</td>\n",
              "      <td>772600684478926849</td>\n",
              "      <td>RT @chicosuicidamas: Me canse de ser fuerte.</td>\n",
              "    </tr>\n",
              "    <tr>\n",
              "      <th>3</th>\n",
              "      <td>1</td>\n",
              "      <td>805186101413560321</td>\n",
              "      <td>En el agua donde centro mis emociones, todo el...</td>\n",
              "    </tr>\n",
              "    <tr>\n",
              "      <th>4</th>\n",
              "      <td>1</td>\n",
              "      <td>815302056533774336</td>\n",
              "      <td>RT @MrMenteSuicida: Es lindo cuando después de...</td>\n",
              "    </tr>\n",
              "    <tr>\n",
              "      <th>5</th>\n",
              "      <td>1</td>\n",
              "      <td>658016589053345792</td>\n",
              "      <td>RT @_HappyDark_: Mírame a los ojos.\\nAquí es d...</td>\n",
              "    </tr>\n",
              "    <tr>\n",
              "      <th>6</th>\n",
              "      <td>1</td>\n",
              "      <td>946718429825961985</td>\n",
              "      <td>Un brindis por ese lugar vacío en la mesa</td>\n",
              "    </tr>\n",
              "    <tr>\n",
              "      <th>7</th>\n",
              "      <td>1</td>\n",
              "      <td>758339344209965056</td>\n",
              "      <td>RT @Chicosuicidamas: Cuando un verdadero amigo...</td>\n",
              "    </tr>\n",
              "    <tr>\n",
              "      <th>8</th>\n",
              "      <td>1</td>\n",
              "      <td>868645902680027136</td>\n",
              "      <td>RT @Chicobip0lar: https://t.co/gC49F6naPP</td>\n",
              "    </tr>\n",
              "    <tr>\n",
              "      <th>9</th>\n",
              "      <td>1</td>\n",
              "      <td>820464030468939777</td>\n",
              "      <td>Cuando le dije a mi mejor amiga que me autolas...</td>\n",
              "    </tr>\n",
              "  </tbody>\n",
              "</table>\n",
              "</div>\n",
              "    <div class=\"colab-df-buttons\">\n",
              "\n",
              "  <div class=\"colab-df-container\">\n",
              "    <button class=\"colab-df-convert\" onclick=\"convertToInteractive('df-946f1577-688a-4f06-9177-674d41995ab8')\"\n",
              "            title=\"Convert this dataframe to an interactive table.\"\n",
              "            style=\"display:none;\">\n",
              "\n",
              "  <svg xmlns=\"http://www.w3.org/2000/svg\" height=\"24px\" viewBox=\"0 -960 960 960\">\n",
              "    <path d=\"M120-120v-720h720v720H120Zm60-500h600v-160H180v160Zm220 220h160v-160H400v160Zm0 220h160v-160H400v160ZM180-400h160v-160H180v160Zm440 0h160v-160H620v160ZM180-180h160v-160H180v160Zm440 0h160v-160H620v160Z\"/>\n",
              "  </svg>\n",
              "    </button>\n",
              "\n",
              "  <style>\n",
              "    .colab-df-container {\n",
              "      display:flex;\n",
              "      gap: 12px;\n",
              "    }\n",
              "\n",
              "    .colab-df-convert {\n",
              "      background-color: #E8F0FE;\n",
              "      border: none;\n",
              "      border-radius: 50%;\n",
              "      cursor: pointer;\n",
              "      display: none;\n",
              "      fill: #1967D2;\n",
              "      height: 32px;\n",
              "      padding: 0 0 0 0;\n",
              "      width: 32px;\n",
              "    }\n",
              "\n",
              "    .colab-df-convert:hover {\n",
              "      background-color: #E2EBFA;\n",
              "      box-shadow: 0px 1px 2px rgba(60, 64, 67, 0.3), 0px 1px 3px 1px rgba(60, 64, 67, 0.15);\n",
              "      fill: #174EA6;\n",
              "    }\n",
              "\n",
              "    .colab-df-buttons div {\n",
              "      margin-bottom: 4px;\n",
              "    }\n",
              "\n",
              "    [theme=dark] .colab-df-convert {\n",
              "      background-color: #3B4455;\n",
              "      fill: #D2E3FC;\n",
              "    }\n",
              "\n",
              "    [theme=dark] .colab-df-convert:hover {\n",
              "      background-color: #434B5C;\n",
              "      box-shadow: 0px 1px 3px 1px rgba(0, 0, 0, 0.15);\n",
              "      filter: drop-shadow(0px 1px 2px rgba(0, 0, 0, 0.3));\n",
              "      fill: #FFFFFF;\n",
              "    }\n",
              "  </style>\n",
              "\n",
              "    <script>\n",
              "      const buttonEl =\n",
              "        document.querySelector('#df-946f1577-688a-4f06-9177-674d41995ab8 button.colab-df-convert');\n",
              "      buttonEl.style.display =\n",
              "        google.colab.kernel.accessAllowed ? 'block' : 'none';\n",
              "\n",
              "      async function convertToInteractive(key) {\n",
              "        const element = document.querySelector('#df-946f1577-688a-4f06-9177-674d41995ab8');\n",
              "        const dataTable =\n",
              "          await google.colab.kernel.invokeFunction('convertToInteractive',\n",
              "                                                    [key], {});\n",
              "        if (!dataTable) return;\n",
              "\n",
              "        const docLinkHtml = 'Like what you see? Visit the ' +\n",
              "          '<a target=\"_blank\" href=https://colab.research.google.com/notebooks/data_table.ipynb>data table notebook</a>'\n",
              "          + ' to learn more about interactive tables.';\n",
              "        element.innerHTML = '';\n",
              "        dataTable['output_type'] = 'display_data';\n",
              "        await google.colab.output.renderOutput(dataTable, element);\n",
              "        const docLink = document.createElement('div');\n",
              "        docLink.innerHTML = docLinkHtml;\n",
              "        element.appendChild(docLink);\n",
              "      }\n",
              "    </script>\n",
              "  </div>\n",
              "\n",
              "\n",
              "<div id=\"df-b9d4cd31-6dae-49ad-b248-b90d05d9276d\">\n",
              "  <button class=\"colab-df-quickchart\" onclick=\"quickchart('df-b9d4cd31-6dae-49ad-b248-b90d05d9276d')\"\n",
              "            title=\"Suggest charts\"\n",
              "            style=\"display:none;\">\n",
              "\n",
              "<svg xmlns=\"http://www.w3.org/2000/svg\" height=\"24px\"viewBox=\"0 0 24 24\"\n",
              "     width=\"24px\">\n",
              "    <g>\n",
              "        <path d=\"M19 3H5c-1.1 0-2 .9-2 2v14c0 1.1.9 2 2 2h14c1.1 0 2-.9 2-2V5c0-1.1-.9-2-2-2zM9 17H7v-7h2v7zm4 0h-2V7h2v10zm4 0h-2v-4h2v4z\"/>\n",
              "    </g>\n",
              "</svg>\n",
              "  </button>\n",
              "\n",
              "<style>\n",
              "  .colab-df-quickchart {\n",
              "      --bg-color: #E8F0FE;\n",
              "      --fill-color: #1967D2;\n",
              "      --hover-bg-color: #E2EBFA;\n",
              "      --hover-fill-color: #174EA6;\n",
              "      --disabled-fill-color: #AAA;\n",
              "      --disabled-bg-color: #DDD;\n",
              "  }\n",
              "\n",
              "  [theme=dark] .colab-df-quickchart {\n",
              "      --bg-color: #3B4455;\n",
              "      --fill-color: #D2E3FC;\n",
              "      --hover-bg-color: #434B5C;\n",
              "      --hover-fill-color: #FFFFFF;\n",
              "      --disabled-bg-color: #3B4455;\n",
              "      --disabled-fill-color: #666;\n",
              "  }\n",
              "\n",
              "  .colab-df-quickchart {\n",
              "    background-color: var(--bg-color);\n",
              "    border: none;\n",
              "    border-radius: 50%;\n",
              "    cursor: pointer;\n",
              "    display: none;\n",
              "    fill: var(--fill-color);\n",
              "    height: 32px;\n",
              "    padding: 0;\n",
              "    width: 32px;\n",
              "  }\n",
              "\n",
              "  .colab-df-quickchart:hover {\n",
              "    background-color: var(--hover-bg-color);\n",
              "    box-shadow: 0 1px 2px rgba(60, 64, 67, 0.3), 0 1px 3px 1px rgba(60, 64, 67, 0.15);\n",
              "    fill: var(--button-hover-fill-color);\n",
              "  }\n",
              "\n",
              "  .colab-df-quickchart-complete:disabled,\n",
              "  .colab-df-quickchart-complete:disabled:hover {\n",
              "    background-color: var(--disabled-bg-color);\n",
              "    fill: var(--disabled-fill-color);\n",
              "    box-shadow: none;\n",
              "  }\n",
              "\n",
              "  .colab-df-spinner {\n",
              "    border: 2px solid var(--fill-color);\n",
              "    border-color: transparent;\n",
              "    border-bottom-color: var(--fill-color);\n",
              "    animation:\n",
              "      spin 1s steps(1) infinite;\n",
              "  }\n",
              "\n",
              "  @keyframes spin {\n",
              "    0% {\n",
              "      border-color: transparent;\n",
              "      border-bottom-color: var(--fill-color);\n",
              "      border-left-color: var(--fill-color);\n",
              "    }\n",
              "    20% {\n",
              "      border-color: transparent;\n",
              "      border-left-color: var(--fill-color);\n",
              "      border-top-color: var(--fill-color);\n",
              "    }\n",
              "    30% {\n",
              "      border-color: transparent;\n",
              "      border-left-color: var(--fill-color);\n",
              "      border-top-color: var(--fill-color);\n",
              "      border-right-color: var(--fill-color);\n",
              "    }\n",
              "    40% {\n",
              "      border-color: transparent;\n",
              "      border-right-color: var(--fill-color);\n",
              "      border-top-color: var(--fill-color);\n",
              "    }\n",
              "    60% {\n",
              "      border-color: transparent;\n",
              "      border-right-color: var(--fill-color);\n",
              "    }\n",
              "    80% {\n",
              "      border-color: transparent;\n",
              "      border-right-color: var(--fill-color);\n",
              "      border-bottom-color: var(--fill-color);\n",
              "    }\n",
              "    90% {\n",
              "      border-color: transparent;\n",
              "      border-bottom-color: var(--fill-color);\n",
              "    }\n",
              "  }\n",
              "</style>\n",
              "\n",
              "  <script>\n",
              "    async function quickchart(key) {\n",
              "      const quickchartButtonEl =\n",
              "        document.querySelector('#' + key + ' button');\n",
              "      quickchartButtonEl.disabled = true;  // To prevent multiple clicks.\n",
              "      quickchartButtonEl.classList.add('colab-df-spinner');\n",
              "      try {\n",
              "        const charts = await google.colab.kernel.invokeFunction(\n",
              "            'suggestCharts', [key], {});\n",
              "      } catch (error) {\n",
              "        console.error('Error during call to suggestCharts:', error);\n",
              "      }\n",
              "      quickchartButtonEl.classList.remove('colab-df-spinner');\n",
              "      quickchartButtonEl.classList.add('colab-df-quickchart-complete');\n",
              "    }\n",
              "    (() => {\n",
              "      let quickchartButtonEl =\n",
              "        document.querySelector('#df-b9d4cd31-6dae-49ad-b248-b90d05d9276d button');\n",
              "      quickchartButtonEl.style.display =\n",
              "        google.colab.kernel.accessAllowed ? 'block' : 'none';\n",
              "    })();\n",
              "  </script>\n",
              "</div>\n",
              "    </div>\n",
              "  </div>\n"
            ]
          },
          "metadata": {},
          "execution_count": 2
        }
      ]
    },
    {
      "cell_type": "markdown",
      "source": [
        "**Usarios de control**"
      ],
      "metadata": {
        "id": "JwK9CHJEeD7r"
      }
    },
    {
      "cell_type": "code",
      "source": [
        "archivo_c = '/content/drive/MyDrive/Experimentación Python Tesis /Experimento por agrupación de usuarios/Usuario de control/User_control (1).tsv'\n",
        "control = pd.read_csv(archivo, sep ='\\t')\n",
        "control.head(10)"
      ],
      "metadata": {
        "colab": {
          "base_uri": "https://localhost:8080/",
          "height": 363
        },
        "id": "fLeOS7_BdUzZ",
        "outputId": "873e51c5-c40d-4d70-97f9-502e7d566fa6"
      },
      "execution_count": null,
      "outputs": [
        {
          "output_type": "execute_result",
          "data": {
            "text/plain": [
              "   USER_ID            TWEET_ID  \\\n",
              "0        1  820809508935049216   \n",
              "1        1  779730304500011008   \n",
              "2        1  772600684478926849   \n",
              "3        1  805186101413560321   \n",
              "4        1  815302056533774336   \n",
              "5        1  658016589053345792   \n",
              "6        1  946718429825961985   \n",
              "7        1  758339344209965056   \n",
              "8        1  868645902680027136   \n",
              "9        1  820464030468939777   \n",
              "\n",
              "                                          TWEET_TEXT  \n",
              "0  Soy de esas que escuchan canciones tristes, cu...  \n",
              "1  Latest Stats = 11 Followers and 3 Unfollowers ...  \n",
              "2       RT @chicosuicidamas: Me canse de ser fuerte.  \n",
              "3  En el agua donde centro mis emociones, todo el...  \n",
              "4  RT @MrMenteSuicida: Es lindo cuando después de...  \n",
              "5  RT @_HappyDark_: Mírame a los ojos.\\nAquí es d...  \n",
              "6          Un brindis por ese lugar vacío en la mesa  \n",
              "7  RT @Chicosuicidamas: Cuando un verdadero amigo...  \n",
              "8          RT @Chicobip0lar: https://t.co/gC49F6naPP  \n",
              "9  Cuando le dije a mi mejor amiga que me autolas...  "
            ],
            "text/html": [
              "\n",
              "  <div id=\"df-953eb038-a2fb-4713-b4b9-9053d82dd45a\" class=\"colab-df-container\">\n",
              "    <div>\n",
              "<style scoped>\n",
              "    .dataframe tbody tr th:only-of-type {\n",
              "        vertical-align: middle;\n",
              "    }\n",
              "\n",
              "    .dataframe tbody tr th {\n",
              "        vertical-align: top;\n",
              "    }\n",
              "\n",
              "    .dataframe thead th {\n",
              "        text-align: right;\n",
              "    }\n",
              "</style>\n",
              "<table border=\"1\" class=\"dataframe\">\n",
              "  <thead>\n",
              "    <tr style=\"text-align: right;\">\n",
              "      <th></th>\n",
              "      <th>USER_ID</th>\n",
              "      <th>TWEET_ID</th>\n",
              "      <th>TWEET_TEXT</th>\n",
              "    </tr>\n",
              "  </thead>\n",
              "  <tbody>\n",
              "    <tr>\n",
              "      <th>0</th>\n",
              "      <td>1</td>\n",
              "      <td>820809508935049216</td>\n",
              "      <td>Soy de esas que escuchan canciones tristes, cu...</td>\n",
              "    </tr>\n",
              "    <tr>\n",
              "      <th>1</th>\n",
              "      <td>1</td>\n",
              "      <td>779730304500011008</td>\n",
              "      <td>Latest Stats = 11 Followers and 3 Unfollowers ...</td>\n",
              "    </tr>\n",
              "    <tr>\n",
              "      <th>2</th>\n",
              "      <td>1</td>\n",
              "      <td>772600684478926849</td>\n",
              "      <td>RT @chicosuicidamas: Me canse de ser fuerte.</td>\n",
              "    </tr>\n",
              "    <tr>\n",
              "      <th>3</th>\n",
              "      <td>1</td>\n",
              "      <td>805186101413560321</td>\n",
              "      <td>En el agua donde centro mis emociones, todo el...</td>\n",
              "    </tr>\n",
              "    <tr>\n",
              "      <th>4</th>\n",
              "      <td>1</td>\n",
              "      <td>815302056533774336</td>\n",
              "      <td>RT @MrMenteSuicida: Es lindo cuando después de...</td>\n",
              "    </tr>\n",
              "    <tr>\n",
              "      <th>5</th>\n",
              "      <td>1</td>\n",
              "      <td>658016589053345792</td>\n",
              "      <td>RT @_HappyDark_: Mírame a los ojos.\\nAquí es d...</td>\n",
              "    </tr>\n",
              "    <tr>\n",
              "      <th>6</th>\n",
              "      <td>1</td>\n",
              "      <td>946718429825961985</td>\n",
              "      <td>Un brindis por ese lugar vacío en la mesa</td>\n",
              "    </tr>\n",
              "    <tr>\n",
              "      <th>7</th>\n",
              "      <td>1</td>\n",
              "      <td>758339344209965056</td>\n",
              "      <td>RT @Chicosuicidamas: Cuando un verdadero amigo...</td>\n",
              "    </tr>\n",
              "    <tr>\n",
              "      <th>8</th>\n",
              "      <td>1</td>\n",
              "      <td>868645902680027136</td>\n",
              "      <td>RT @Chicobip0lar: https://t.co/gC49F6naPP</td>\n",
              "    </tr>\n",
              "    <tr>\n",
              "      <th>9</th>\n",
              "      <td>1</td>\n",
              "      <td>820464030468939777</td>\n",
              "      <td>Cuando le dije a mi mejor amiga que me autolas...</td>\n",
              "    </tr>\n",
              "  </tbody>\n",
              "</table>\n",
              "</div>\n",
              "    <div class=\"colab-df-buttons\">\n",
              "\n",
              "  <div class=\"colab-df-container\">\n",
              "    <button class=\"colab-df-convert\" onclick=\"convertToInteractive('df-953eb038-a2fb-4713-b4b9-9053d82dd45a')\"\n",
              "            title=\"Convert this dataframe to an interactive table.\"\n",
              "            style=\"display:none;\">\n",
              "\n",
              "  <svg xmlns=\"http://www.w3.org/2000/svg\" height=\"24px\" viewBox=\"0 -960 960 960\">\n",
              "    <path d=\"M120-120v-720h720v720H120Zm60-500h600v-160H180v160Zm220 220h160v-160H400v160Zm0 220h160v-160H400v160ZM180-400h160v-160H180v160Zm440 0h160v-160H620v160ZM180-180h160v-160H180v160Zm440 0h160v-160H620v160Z\"/>\n",
              "  </svg>\n",
              "    </button>\n",
              "\n",
              "  <style>\n",
              "    .colab-df-container {\n",
              "      display:flex;\n",
              "      gap: 12px;\n",
              "    }\n",
              "\n",
              "    .colab-df-convert {\n",
              "      background-color: #E8F0FE;\n",
              "      border: none;\n",
              "      border-radius: 50%;\n",
              "      cursor: pointer;\n",
              "      display: none;\n",
              "      fill: #1967D2;\n",
              "      height: 32px;\n",
              "      padding: 0 0 0 0;\n",
              "      width: 32px;\n",
              "    }\n",
              "\n",
              "    .colab-df-convert:hover {\n",
              "      background-color: #E2EBFA;\n",
              "      box-shadow: 0px 1px 2px rgba(60, 64, 67, 0.3), 0px 1px 3px 1px rgba(60, 64, 67, 0.15);\n",
              "      fill: #174EA6;\n",
              "    }\n",
              "\n",
              "    .colab-df-buttons div {\n",
              "      margin-bottom: 4px;\n",
              "    }\n",
              "\n",
              "    [theme=dark] .colab-df-convert {\n",
              "      background-color: #3B4455;\n",
              "      fill: #D2E3FC;\n",
              "    }\n",
              "\n",
              "    [theme=dark] .colab-df-convert:hover {\n",
              "      background-color: #434B5C;\n",
              "      box-shadow: 0px 1px 3px 1px rgba(0, 0, 0, 0.15);\n",
              "      filter: drop-shadow(0px 1px 2px rgba(0, 0, 0, 0.3));\n",
              "      fill: #FFFFFF;\n",
              "    }\n",
              "  </style>\n",
              "\n",
              "    <script>\n",
              "      const buttonEl =\n",
              "        document.querySelector('#df-953eb038-a2fb-4713-b4b9-9053d82dd45a button.colab-df-convert');\n",
              "      buttonEl.style.display =\n",
              "        google.colab.kernel.accessAllowed ? 'block' : 'none';\n",
              "\n",
              "      async function convertToInteractive(key) {\n",
              "        const element = document.querySelector('#df-953eb038-a2fb-4713-b4b9-9053d82dd45a');\n",
              "        const dataTable =\n",
              "          await google.colab.kernel.invokeFunction('convertToInteractive',\n",
              "                                                    [key], {});\n",
              "        if (!dataTable) return;\n",
              "\n",
              "        const docLinkHtml = 'Like what you see? Visit the ' +\n",
              "          '<a target=\"_blank\" href=https://colab.research.google.com/notebooks/data_table.ipynb>data table notebook</a>'\n",
              "          + ' to learn more about interactive tables.';\n",
              "        element.innerHTML = '';\n",
              "        dataTable['output_type'] = 'display_data';\n",
              "        await google.colab.output.renderOutput(dataTable, element);\n",
              "        const docLink = document.createElement('div');\n",
              "        docLink.innerHTML = docLinkHtml;\n",
              "        element.appendChild(docLink);\n",
              "      }\n",
              "    </script>\n",
              "  </div>\n",
              "\n",
              "\n",
              "<div id=\"df-8bc292c1-287b-41b2-9919-d4ed5338cb4a\">\n",
              "  <button class=\"colab-df-quickchart\" onclick=\"quickchart('df-8bc292c1-287b-41b2-9919-d4ed5338cb4a')\"\n",
              "            title=\"Suggest charts\"\n",
              "            style=\"display:none;\">\n",
              "\n",
              "<svg xmlns=\"http://www.w3.org/2000/svg\" height=\"24px\"viewBox=\"0 0 24 24\"\n",
              "     width=\"24px\">\n",
              "    <g>\n",
              "        <path d=\"M19 3H5c-1.1 0-2 .9-2 2v14c0 1.1.9 2 2 2h14c1.1 0 2-.9 2-2V5c0-1.1-.9-2-2-2zM9 17H7v-7h2v7zm4 0h-2V7h2v10zm4 0h-2v-4h2v4z\"/>\n",
              "    </g>\n",
              "</svg>\n",
              "  </button>\n",
              "\n",
              "<style>\n",
              "  .colab-df-quickchart {\n",
              "      --bg-color: #E8F0FE;\n",
              "      --fill-color: #1967D2;\n",
              "      --hover-bg-color: #E2EBFA;\n",
              "      --hover-fill-color: #174EA6;\n",
              "      --disabled-fill-color: #AAA;\n",
              "      --disabled-bg-color: #DDD;\n",
              "  }\n",
              "\n",
              "  [theme=dark] .colab-df-quickchart {\n",
              "      --bg-color: #3B4455;\n",
              "      --fill-color: #D2E3FC;\n",
              "      --hover-bg-color: #434B5C;\n",
              "      --hover-fill-color: #FFFFFF;\n",
              "      --disabled-bg-color: #3B4455;\n",
              "      --disabled-fill-color: #666;\n",
              "  }\n",
              "\n",
              "  .colab-df-quickchart {\n",
              "    background-color: var(--bg-color);\n",
              "    border: none;\n",
              "    border-radius: 50%;\n",
              "    cursor: pointer;\n",
              "    display: none;\n",
              "    fill: var(--fill-color);\n",
              "    height: 32px;\n",
              "    padding: 0;\n",
              "    width: 32px;\n",
              "  }\n",
              "\n",
              "  .colab-df-quickchart:hover {\n",
              "    background-color: var(--hover-bg-color);\n",
              "    box-shadow: 0 1px 2px rgba(60, 64, 67, 0.3), 0 1px 3px 1px rgba(60, 64, 67, 0.15);\n",
              "    fill: var(--button-hover-fill-color);\n",
              "  }\n",
              "\n",
              "  .colab-df-quickchart-complete:disabled,\n",
              "  .colab-df-quickchart-complete:disabled:hover {\n",
              "    background-color: var(--disabled-bg-color);\n",
              "    fill: var(--disabled-fill-color);\n",
              "    box-shadow: none;\n",
              "  }\n",
              "\n",
              "  .colab-df-spinner {\n",
              "    border: 2px solid var(--fill-color);\n",
              "    border-color: transparent;\n",
              "    border-bottom-color: var(--fill-color);\n",
              "    animation:\n",
              "      spin 1s steps(1) infinite;\n",
              "  }\n",
              "\n",
              "  @keyframes spin {\n",
              "    0% {\n",
              "      border-color: transparent;\n",
              "      border-bottom-color: var(--fill-color);\n",
              "      border-left-color: var(--fill-color);\n",
              "    }\n",
              "    20% {\n",
              "      border-color: transparent;\n",
              "      border-left-color: var(--fill-color);\n",
              "      border-top-color: var(--fill-color);\n",
              "    }\n",
              "    30% {\n",
              "      border-color: transparent;\n",
              "      border-left-color: var(--fill-color);\n",
              "      border-top-color: var(--fill-color);\n",
              "      border-right-color: var(--fill-color);\n",
              "    }\n",
              "    40% {\n",
              "      border-color: transparent;\n",
              "      border-right-color: var(--fill-color);\n",
              "      border-top-color: var(--fill-color);\n",
              "    }\n",
              "    60% {\n",
              "      border-color: transparent;\n",
              "      border-right-color: var(--fill-color);\n",
              "    }\n",
              "    80% {\n",
              "      border-color: transparent;\n",
              "      border-right-color: var(--fill-color);\n",
              "      border-bottom-color: var(--fill-color);\n",
              "    }\n",
              "    90% {\n",
              "      border-color: transparent;\n",
              "      border-bottom-color: var(--fill-color);\n",
              "    }\n",
              "  }\n",
              "</style>\n",
              "\n",
              "  <script>\n",
              "    async function quickchart(key) {\n",
              "      const quickchartButtonEl =\n",
              "        document.querySelector('#' + key + ' button');\n",
              "      quickchartButtonEl.disabled = true;  // To prevent multiple clicks.\n",
              "      quickchartButtonEl.classList.add('colab-df-spinner');\n",
              "      try {\n",
              "        const charts = await google.colab.kernel.invokeFunction(\n",
              "            'suggestCharts', [key], {});\n",
              "      } catch (error) {\n",
              "        console.error('Error during call to suggestCharts:', error);\n",
              "      }\n",
              "      quickchartButtonEl.classList.remove('colab-df-spinner');\n",
              "      quickchartButtonEl.classList.add('colab-df-quickchart-complete');\n",
              "    }\n",
              "    (() => {\n",
              "      let quickchartButtonEl =\n",
              "        document.querySelector('#df-8bc292c1-287b-41b2-9919-d4ed5338cb4a button');\n",
              "      quickchartButtonEl.style.display =\n",
              "        google.colab.kernel.accessAllowed ? 'block' : 'none';\n",
              "    })();\n",
              "  </script>\n",
              "</div>\n",
              "    </div>\n",
              "  </div>\n"
            ]
          },
          "metadata": {},
          "execution_count": 3
        }
      ]
    },
    {
      "cell_type": "markdown",
      "source": [
        "**PREPARACIÓN DE DATOS**"
      ],
      "metadata": {
        "id": "7I0KbpBsDLMD"
      }
    },
    {
      "cell_type": "markdown",
      "source": [
        "*Cargar y limpiar*"
      ],
      "metadata": {
        "id": "A2424AfYDN7Y"
      }
    },
    {
      "cell_type": "code",
      "source": [
        "!pip install pyspellchecker\n",
        "!pip install spacy\n",
        "!python -m spacy download es_core_news_sm"
      ],
      "metadata": {
        "id": "J-67yml1ImB8"
      },
      "execution_count": null,
      "outputs": []
    },
    {
      "cell_type": "code",
      "execution_count": null,
      "metadata": {
        "colab": {
          "base_uri": "https://localhost:8080/"
        },
        "id": "UB37ChrOCyoT",
        "outputId": "b244745c-14f0-4581-cce9-1345de5422b7"
      },
      "outputs": [
        {
          "output_type": "stream",
          "name": "stderr",
          "text": [
            "[nltk_data] Downloading package stopwords to /root/nltk_data...\n",
            "[nltk_data]   Unzipping corpora/stopwords.zip.\n",
            "[nltk_data] Downloading package punkt to /root/nltk_data...\n",
            "[nltk_data]   Unzipping tokenizers/punkt.zip.\n"
          ]
        },
        {
          "output_type": "execute_result",
          "data": {
            "text/plain": [
              "True"
            ]
          },
          "metadata": {},
          "execution_count": 5
        }
      ],
      "source": [
        "import string\n",
        "import re\n",
        "import os\n",
        "from os import listdir\n",
        "from collections import Counter\n",
        "from nltk.corpus import stopwords\n",
        "import nltk\n",
        "nltk.download('stopwords')\n",
        "import nltk\n",
        "nltk.download('punkt')"
      ]
    },
    {
      "cell_type": "markdown",
      "source": [
        "# limpiar texto y Crear Tokens"
      ],
      "metadata": {
        "id": "KxVGxamuXRIb"
      }
    },
    {
      "cell_type": "code",
      "source": [
        "import re\n",
        "import string\n",
        "import pandas as pd\n",
        "from nltk.corpus import stopwords\n",
        "from nltk.tokenize import word_tokenize\n",
        "\n",
        "def load_doc(filename):\n",
        "    try:\n",
        "        data = pd.read_csv(filename, delimiter='\\t')  # Indicamos el delimitador como '\\t' para TSV\n",
        "        return data\n",
        "    except Exception as e:\n",
        "        print(\"Error:\", e)\n",
        "        return None\n",
        "\n",
        "#Creamos un función de limpieza del texto y  los guarde en tokens indivicuales o lista de palabras\n",
        "def clean_doc(text):\n",
        "    # Eliminar hashtags\n",
        "    text = re.sub(r'#\\w+', '', text)\n",
        "\n",
        "    # Eliminar URLs o enlaces\n",
        "    text = re.sub(r'(https?://)?[a-zA-Z0-9]+\\.[a-zA-Z0-9]+\\S*', '', text)\n",
        "\n",
        "    # Eliminar nombres de usuarios de Twitter\n",
        "    text = re.sub(r'@\\w+', '', text)\n",
        "\n",
        "    # Eliminar Nombres propios\n",
        "    text = re.sub(r'\\b[A-Z][a-z]+\\b', '', text)\n",
        "\n",
        "    # Eliminar todos los caracteres especiales\n",
        "    text = re.sub(r'[^\\w\\s]+', '', text)\n",
        "\n",
        "    # Eliminar prefijos y números\n",
        "    text = re.sub(r'\\b\\w{1,2}\\b|\\d+', '', text)\n",
        "\n",
        "    # Eliminar palabras específicas\n",
        "    specific_words = ['retweet', 'retweets', 'hashtag', 'trending', 'mención', 'enlace', 'emoji', 'timeline', 'interacciones',\n",
        "                      'tuit', 'seguidores', 'notificaciones', 'seguir', 'favorito', 'perfil', 'tendencia', 'influencer',\n",
        "                      'compartir', 'actualización', 'explorar', 'seguir', 'comunidad', 'contenido', 'popular',\n",
        "                      'recomendar', 'experiencia', 'conectar', 'comentar', 'compartir', 'comunidad', 'actualización',\n",
        "                      'drk', 'followers', 'stats', 'for', 'new', 'little', 'unfollower', 'unfollowers', 'today', 'shit','twitter','nombre',\n",
        "                      'eric','story','great', 'short','squeeze','piggly','wiggly','hmv','even','follas','you','i','he','she',\n",
        "                      'it','we','they','the','and','that','these','those','tweet','followed','follower']\n",
        "    text = ' '.join([word for word in text.split() if word not in specific_words])\n",
        "\n",
        "    # Eliminar emojis\n",
        "    emojis = re.findall(r'[^\\w\\s,]', text)\n",
        "    cleaned_emojis = [emoji for emoji in emojis if emoji not in ['@', '#', '/', '?','¿','.','…','\"',':','“','!','¡','°','-',\"‘\",'’',\n",
        "                                                                 '=',';','(',')',\"'\",\"'\",'&','€','%','$','*','+','|', '”','🇦','🇷',',',\n",
        "                                                                 ', ','—','«',' »','»','« ','[, ]','[,]',',',', ','',' ',' ♀',' 🏽']]\n",
        "    for emoji in cleaned_emojis:\n",
        "        text = text.replace(emoji, '')\n",
        "\n",
        "    # Convertir el texto a minúsculas\n",
        "    text = text.lower()\n",
        "\n",
        "    # Eliminar signos de puntuación\n",
        "    text = re.sub(f\"[{re.escape(string.punctuation)}]\", \"\", text)\n",
        "\n",
        "    # Tokenización de palabras\n",
        "    tokens = word_tokenize(text)\n",
        "\n",
        "    # Eliminar palabras vacías en español\n",
        "    stop_words = set(stopwords.words('spanish'))\n",
        "    tokens = [word for word in tokens if not word in stop_words]\n",
        "\n",
        "    # Eliminar tokens de un solo carácter\n",
        "    tokens = [word for word in tokens if len(word) > 1]\n",
        "\n",
        "    return tokens\n"
      ],
      "metadata": {
        "id": "12y4sbQ3EnQy"
      },
      "execution_count": null,
      "outputs": []
    },
    {
      "cell_type": "markdown",
      "source": [
        "*Extraer y Definir vocabulario*"
      ],
      "metadata": {
        "id": "inODpKOUMwR-"
      }
    },
    {
      "cell_type": "code",
      "source": [
        "# Función para agregar documentos al vocabulario usando TF-IDF\n",
        "def add_doc_vocab_from_tsv_tfidf(filename, vectorizer, vocab):\n",
        "    data = pd.read_csv(filename, sep='\\t')\n",
        "    docs = data['TWEET_TEXT'].apply(clean_doc)\n",
        "    docs_joined = [' '.join(tokens) for tokens in docs]\n",
        "    vectorizer.fit(docs_joined)\n",
        "    feature_names = vectorizer.get_feature_names_out()\n",
        "    vocab.update(feature_names)\n",
        "\n",
        "# Función para procesar documentos en un directorio usando TF-IDF\n",
        "def process_docs_in_directory_tfidf(directory, vectorizer, vocab):\n",
        "    for filename in os.listdir(directory):\n",
        "        if filename.endswith(\".tsv\"):\n",
        "            path = os.path.join(directory, filename)\n",
        "            add_doc_vocab_from_tsv_tfidf(path, vectorizer, vocab)"
      ],
      "metadata": {
        "id": "tXmvwOvvZ3vh"
      },
      "execution_count": null,
      "outputs": []
    },
    {
      "cell_type": "code",
      "source": [
        "from collections import Counter\n",
        "from sklearn.feature_extraction.text import TfidfVectorizer\n",
        "from keras.preprocessing.text import Tokenizer\n",
        "# Inicializar el vectorizador TF-IDF\n",
        "tfidf_vectorizer = TfidfVectorizer()\n",
        "\n",
        "# Inicializar el contador de vocabulario\n",
        "vocab = Counter()\n",
        "\n",
        "# Procesar documentos en el directorio 'Control'\n",
        "process_docs_in_directory_tfidf('/content/drive/MyDrive/Experimentación Python Tesis /Experimento por agrupación de usuarios/Usuario de control/', tfidf_vectorizer, vocab)\n",
        "\n",
        "# Procesar documentos en el directorio 'Depresión'\n",
        "process_docs_in_directory_tfidf('/content/drive/MyDrive/Experimentación Python Tesis /Experimento por agrupación de usuarios/Depresión/', tfidf_vectorizer, vocab)\n",
        "umbral = 10 # elimanamos la palabras que tengan 10 o menos frecuencia\n",
        "tokens =[k for k,c in vocab.items() if c >= umbral]\n",
        "\n",
        "# Imprimir la longitud del vocabulario y los 50 términos más comunes\n",
        "print(f'Términos totales: {len(vocab)}')\n",
        "print(f'Vocabulario con tokens más frecuentes:{len(tokens)}')\n",
        "print('Los 50 términos más frecuentes')\n",
        "print(vocab.most_common(50))"
      ],
      "metadata": {
        "colab": {
          "base_uri": "https://localhost:8080/"
        },
        "id": "V5ptDhDcOwfW",
        "outputId": "737d2971-c6c9-46ce-ef50-cf00c970bf4a"
      },
      "execution_count": null,
      "outputs": [
        {
          "output_type": "stream",
          "name": "stdout",
          "text": [
            "Términos totales: 100384\n",
            "Vocabulario con tokens más frecuentes:9597\n",
            "Los 50 términos más frecuentes\n",
            "[('día', 90), ('bien', 89), ('gracias', 89), ('hoy', 89), ('mejor', 89), ('puede', 89), ('siempre', 89), ('tiempo', 89), ('ver', 89), ('vida', 89), ('así', 88), ('año', 88), ('años', 88), ('final', 88), ('hace', 88), ('hacer', 88), ('mañana', 88), ('noche', 88), ('nuevo', 88), ('ser', 88), ('solo', 88), ('sólo', 88), ('vez', 88), ('buen', 87), ('bueno', 87), ('cada', 87), ('cosas', 87), ('cómo', 87), ('después', 87), ('dos', 87), ('días', 87), ('fin', 87), ('historia', 87), ('mejores', 87), ('mismo', 87), ('nunca', 87), ('personas', 87), ('primera', 87), ('pueden', 87), ('tan', 87), ('tener', 87), ('todas', 87), ('ahora', 86), ('buena', 86), ('cuenta', 86), ('dice', 86), ('fotos', 86), ('gente', 86), ('gran', 86), ('menos', 86)]\n"
          ]
        }
      ]
    },
    {
      "cell_type": "code",
      "source": [
        "# Función para guardar los términos en una lista de palabras\n",
        "def save_list(lines, filename):\n",
        "    data = '\\n'.join(lines)\n",
        "    with open(filename, 'w') as file:\n",
        "        file.write(data)"
      ],
      "metadata": {
        "id": "sFje3ll76saL"
      },
      "execution_count": null,
      "outputs": []
    },
    {
      "cell_type": "code",
      "source": [
        "# Guardar la lista de términos o vocabulario en un archivo llamado vocab.txt\n",
        "save_list(vocab.keys(), '/content/drive/MyDrive/Experimentación Python Tesis /Experimento por agrupación de usuarios/vocab_tfidf.txt')"
      ],
      "metadata": {
        "id": "o8bdFaQaYnyP"
      },
      "execution_count": null,
      "outputs": []
    },
    {
      "cell_type": "code",
      "source": [
        "archivo = open(\"/content/drive/MyDrive/Experimentación Python Tesis /Experimento por agrupación de usuarios/vocab_tfidf.txt\")\n",
        "print(archivo.read())"
      ],
      "metadata": {
        "id": "ALD1qAQf--Bs"
      },
      "execution_count": null,
      "outputs": []
    },
    {
      "cell_type": "code",
      "source": [
        "import pandas as pd\n",
        "import spacy\n",
        "from spacy.lang.es import Spanish\n",
        "from nltk.corpus import stopwords\n",
        "# Cargar modelo de spaCy\n",
        "nlp = spacy.load(\"es_core_news_sm\")\n",
        "# Función para lematizar y extraer términos\n",
        "\n",
        "# Cargar stopwords en español\n",
        "stopwords_es = set(stopwords.words('spanish'))\n",
        "\n",
        "def extractTerms(text):\n",
        "    # Tokenización y lematización con spaCy\n",
        "    doc = nlp(text)\n",
        "    lemmatized_terms = [token.lemma_ for token in doc if token.text.lower() not in stopwords_es]\n",
        "\n",
        "    return lemmatized_terms"
      ],
      "metadata": {
        "id": "HTrH6He6dI6v"
      },
      "execution_count": null,
      "outputs": []
    },
    {
      "cell_type": "markdown",
      "source": [
        "**Representación de bolsa de palabras (representación vectorial)**"
      ],
      "metadata": {
        "id": "EfuRJnJGlv7a"
      }
    },
    {
      "cell_type": "markdown",
      "source": [
        "*Revisiones a Lineas de Tokens*"
      ],
      "metadata": {
        "id": "GhLs5dqjmYCc"
      }
    },
    {
      "cell_type": "code",
      "source": [
        "def doc_to_line(filename, vocab):\n",
        "  doc = load_doc(filename)\n",
        "  tokens = clean_doc(doc)\n",
        "  tokens = [w for w in tokens if w in vocab]\n",
        "  return ' '.join(tokens)"
      ],
      "metadata": {
        "id": "-1y3UNcplQgV"
      },
      "execution_count": null,
      "outputs": []
    },
    {
      "cell_type": "code",
      "source": [
        "import os\n",
        "import pandas as pd\n",
        "from nltk.classify.senna import path\n",
        "\n",
        "def process_docs(directory, vocab):\n",
        "    lines = []\n",
        "    for filename in os.listdir(directory):\n",
        "        if not filename.endswith('.tsv'):\n",
        "            continue\n",
        "        path = os.path.join(directory, filename)\n",
        "\n",
        "        # Cargar el archivo TSV en un DataFrame\n",
        "        data = pd.read_csv(path, sep='\\t')  # Usamos sep='\\t' para especificar que el archivo es tsv\n",
        "\n",
        "        # Procesar la columna TWEET_TEXT para obtener los tokens\n",
        "        tokens_list = data['TWEET_TEXT'].apply(clean_doc)\n",
        "        #tokens_list = data['TWEET_TEXT'].apply(extractTerms)\n",
        "\n",
        "        for tokens in tokens_list:\n",
        "            line = ' '.join(tokens)\n",
        "            lines.append(line)\n",
        "\n",
        "    return lines"
      ],
      "metadata": {
        "id": "U9wHwN7TnrKw"
      },
      "execution_count": null,
      "outputs": []
    },
    {
      "cell_type": "code",
      "source": [
        "def load_clean_dataset(vocab):\n",
        "  Cont = process_docs('/content/drive/MyDrive/Experimentación Python Tesis /Experimento por agrupación de usuarios/Usuario de control/', tfidf_vectorizer, vocab)\n",
        "  Dep = process_docs('/content/drive/MyDrive/Experimentación Python Tesis /Experimento por agrupación de usuarios/Usuarios con depresión/',tfidf_vectorizer, vocab)\n",
        "\n",
        "  docs = Dep + Cont\n",
        "\n",
        "  labels = [1 for _ in range(len(Dep))] + [0 for _ in range(len(Cont))]\n",
        "  return docs, labels"
      ],
      "metadata": {
        "id": "fTwpI2z8oABs"
      },
      "execution_count": null,
      "outputs": []
    },
    {
      "cell_type": "code",
      "source": [
        "vocab_filename = '/content/drive/MyDrive/Experimentación Python Tesis /Experimento por agrupación de usuarios/vocab_tfidf.txt'\n",
        "with open(vocab_filename, 'r') as file:\n",
        "    vocab_content = file.read()\n",
        "\n",
        "vocab = vocab_content.split()\n",
        "vocab = set(vocab)\n",
        "print(vocab)\n"
      ],
      "metadata": {
        "id": "VabYxNeVo5e9"
      },
      "execution_count": null,
      "outputs": []
    },
    {
      "cell_type": "markdown",
      "source": [
        "*Revisiones de los tweets a vectores de bolsa de palabras*"
      ],
      "metadata": {
        "id": "ba4tH-6Tp8IT"
      }
    },
    {
      "cell_type": "markdown",
      "source": [
        "**Convertir y tranformar el documento a vectores codigicados**"
      ],
      "metadata": {
        "id": "Z3b-8ljcq-k3"
      }
    },
    {
      "cell_type": "code",
      "source": [
        "def process_docs(directory, vocab, is_train):\n",
        "    lines = list()\n",
        "    for filename in os.listdir(directory):\n",
        "        if is_train and filename.startswith('(72)'):\n",
        "            continue  # Omitir archivos de prueba en el conjunto de entrenamiento\n",
        "        if not is_train and not filename.startswith('(72)'):\n",
        "            continue  # Omitir archivos de entrenamiento en el conjunto de prueba\n",
        "        path = os.path.join(directory, filename)\n",
        "        doc = load_doc(path)\n",
        "        line = doc_to_line(doc, vocab)\n",
        "        lines.append(line)\n",
        "    return lines"
      ],
      "metadata": {
        "id": "2EjjOY4CtKGF"
      },
      "execution_count": null,
      "outputs": []
    },
    {
      "cell_type": "code",
      "source": [
        "#Del mismo modo, la función load_clean_dataset() debe actualizarse para cargar el entrenamiento o prueba\n",
        "# y asegúrarse de que devuelva una matriz Numpy\n",
        "def load_clean_dataset(vocab, is_train):\n",
        "  Dep = process_docs('/content/drive/MyDrive/Experimentación Python Tesis /Experimento por agrupación de usuarios/Usuarios con depresión/', vocab, is_train)\n",
        "  Cont = process_docs('/content/drive/MyDrive/Experimentación Python Tesis /Experimento por agrupación de usuarios/Usuario de control/', vocab, is_train)\n",
        "  docs = Dep + Cont\n",
        "  labels = np.array([1] * len(Dep) + [0] * len(Cont))\n",
        "  return docs, labels\n"
      ],
      "metadata": {
        "id": "lmjhudEytddp"
      },
      "execution_count": null,
      "outputs": []
    },
    {
      "cell_type": "code",
      "source": [
        "def process_docs(directory, vocab, is_train):\n",
        "    lines = list()\n",
        "    for filename in os.listdir(directory):\n",
        "        path = os.path.join(directory, filename)\n",
        "        if os.path.isfile(path):  # Verificar si es un archivo antes de procesarlo\n",
        "            doc = load_doc(path)\n",
        "            line = ' '.join(clean_doc(doc))\n",
        "            lines.append(line)\n",
        "    return lines\n",
        "\n",
        "def load_doc(filename):\n",
        "    with open(filename, 'r') as file:\n",
        "        text = file.read()\n",
        "    return text\n"
      ],
      "metadata": {
        "id": "F7IIABcBuG8p"
      },
      "execution_count": null,
      "outputs": []
    },
    {
      "cell_type": "markdown",
      "source": [
        "**Modelo análisis de texto**"
      ],
      "metadata": {
        "id": "42176aZnCQAz"
      }
    },
    {
      "cell_type": "code",
      "source": [
        "import os\n",
        "import joblib\n",
        "import numpy as np\n",
        "from sklearn.metrics import accuracy_score, precision_score, recall_score, f1_score\n",
        "from sklearn.model_selection import train_test_split\n",
        "\n",
        "from sklearn.model_selection import StratifiedKFold\n",
        "from sklearn.model_selection import cross_val_score\n",
        "from sklearn.metrics import make_scorer\n",
        "\n",
        "# Cargar los datos limpios (entrenamiento y prueba)\n",
        "vocab_filename = '/content/drive/MyDrive/Experimentación Python Tesis /Experimento por agrupación de usuarios/vocab_tfidf.txt'\n",
        "vocab = load_doc(vocab_filename)\n",
        "vocab = set(vocab.split())\n",
        "\n",
        "train_docs, y = load_clean_dataset(vocab, True)\n",
        "\n",
        "tokenizer = Tokenizer()\n",
        "tokenizer.fit_on_texts(train_docs)\n",
        "\n",
        "x = tokenizer.texts_to_matrix(train_docs, mode='tfidf')\n",
        "# Dividir los datos en conjuntos de entrenamiento (70%) y validación (30%)\n",
        "X_train, X_val, y_train, y_val = train_test_split(x, y, test_size=0.3, random_state=42)\n"
      ],
      "metadata": {
        "id": "mvWsv2RAYdTL"
      },
      "execution_count": null,
      "outputs": []
    },
    {
      "cell_type": "code",
      "source": [
        "print(X_train.shape)\n",
        "print(X_val.shape)\n",
        "print(y_train.shape)\n",
        "print(y_val.shape)"
      ],
      "metadata": {
        "colab": {
          "base_uri": "https://localhost:8080/"
        },
        "id": "G8-gpxN1gcMM",
        "outputId": "3bbca370-0209-4908-d352-94df3072aec5"
      },
      "execution_count": null,
      "outputs": [
        {
          "output_type": "stream",
          "name": "stdout",
          "text": [
            "(126, 122897)\n",
            "(54, 122897)\n",
            "(126,)\n",
            "(54,)\n"
          ]
        }
      ]
    },
    {
      "cell_type": "markdown",
      "source": [
        "#Redución de dimensionalidad con LDA"
      ],
      "metadata": {
        "id": "eGsKoqVhzZyn"
      }
    },
    {
      "cell_type": "code",
      "source": [
        "from sklearn.decomposition import LatentDirichletAllocation as LDA\n",
        "# Aplicar LDA para reducir la dimensionalidad\n",
        "n_topics = 70  # Define el número de tópicos (componentes)\n",
        "lda = LDA(n_components=n_topics)\n",
        "X_train = lda.fit_transform(X_train, y_train)\n",
        "X_val = lda.transform(X_val)"
      ],
      "metadata": {
        "id": "NXK8Vs6Ez8Qx"
      },
      "execution_count": null,
      "outputs": []
    },
    {
      "cell_type": "code",
      "source": [
        "print(X_train.shape)\n",
        "print(X_val.shape)\n",
        "print(y_train.shape)\n",
        "print(y_val.shape)"
      ],
      "metadata": {
        "colab": {
          "base_uri": "https://localhost:8080/"
        },
        "id": "XPqrFRMw97fT",
        "outputId": "7f43066c-a01f-4a15-9647-9b08320ad5f7"
      },
      "execution_count": null,
      "outputs": [
        {
          "output_type": "stream",
          "name": "stdout",
          "text": [
            "(126, 70)\n",
            "(54, 70)\n",
            "(126,)\n",
            "(54,)\n"
          ]
        }
      ]
    },
    {
      "cell_type": "markdown",
      "source": [
        "#Red neuronal"
      ],
      "metadata": {
        "id": "biZew38mWzN_"
      }
    },
    {
      "cell_type": "code",
      "source": [
        "# Crear una red neuronal secuencial\n",
        "model = Sequential()\n",
        "\n",
        "# Agregar una capa de entrada con el número de características (vocabulario) en tu matriz TF-IDF\n",
        "model.add(Dense(328, activation='relu', input_dim=X_train.shape[1]))\n",
        "model.add(Dropout(0.1))  # Dropout para regularización\n",
        "\n",
        "# Agregar una capa oculta\n",
        "model.add(Dense(164, activation='relu'))\n",
        "model.add(Dropout(0.1))  # Dropout para regularización\n",
        "\n",
        "# Agregar una capa de salida con una neurona y función de activación sigmoide para clasificación binaria\n",
        "model.add(Dense(1, activation='sigmoid'))\n",
        "\n",
        "# Compilar el modelo\n",
        "model.compile(optimizer='adam', loss='binary_crossentropy', metrics=['accuracy'])\n",
        "\n",
        "# Entrenar el modelo en los datos de entrenamiento\n",
        "history = model.fit(X_train, y_train, epochs=20, batch_size=30, validation_data=(X_val, y_val))\n",
        "\n",
        "# Evaluar el modelo en el conjunto de validación\n",
        "y_val_pred = (model.predict(X_val) > 0.5).astype(int)\n",
        "\n",
        "# Calcular métricas de evaluación en el conjunto de validación\n",
        "accuracy = accuracy_score(y_val, y_val_pred)\n",
        "precision = precision_score(y_val, y_val_pred)\n",
        "recall = recall_score(y_val, y_val_pred)\n",
        "f1 = f1_score(y_val, y_val_pred)\n",
        "\n",
        "# Calcular métricas de evaluación en el conjunto de entrenamiento\n",
        "y_train_pred = (model.predict(X_train) > 0.5).astype(int)\n",
        "\n",
        "accuracy_train = accuracy_score(y_train, y_train_pred)\n",
        "precision_train = precision_score(y_train, y_train_pred)\n",
        "recall_train = recall_score(y_train, y_train_pred)\n",
        "f1_train = f1_score(y_train, y_train_pred)"
      ],
      "metadata": {
        "colab": {
          "base_uri": "https://localhost:8080/"
        },
        "id": "A76ubucGY005",
        "outputId": "6047268f-2a6e-4156-c7f1-c26623bc4e4d"
      },
      "execution_count": null,
      "outputs": [
        {
          "output_type": "stream",
          "name": "stdout",
          "text": [
            "Epoch 1/20\n",
            "5/5 [==============================] - 1s 58ms/step - loss: 0.6879 - accuracy: 0.5556 - val_loss: 0.6566 - val_accuracy: 0.6852\n",
            "Epoch 2/20\n",
            "5/5 [==============================] - 0s 16ms/step - loss: 0.6346 - accuracy: 0.8175 - val_loss: 0.6227 - val_accuracy: 0.7037\n",
            "Epoch 3/20\n",
            "5/5 [==============================] - 0s 11ms/step - loss: 0.5895 - accuracy: 0.8333 - val_loss: 0.5868 - val_accuracy: 0.7222\n",
            "Epoch 4/20\n",
            "5/5 [==============================] - 0s 12ms/step - loss: 0.5419 - accuracy: 0.8810 - val_loss: 0.5482 - val_accuracy: 0.7407\n",
            "Epoch 5/20\n",
            "5/5 [==============================] - 0s 11ms/step - loss: 0.4871 - accuracy: 0.9048 - val_loss: 0.4999 - val_accuracy: 0.8148\n",
            "Epoch 6/20\n",
            "5/5 [==============================] - 0s 10ms/step - loss: 0.4319 - accuracy: 0.8968 - val_loss: 0.4570 - val_accuracy: 0.8148\n",
            "Epoch 7/20\n",
            "5/5 [==============================] - 0s 15ms/step - loss: 0.3788 - accuracy: 0.8889 - val_loss: 0.4313 - val_accuracy: 0.8148\n",
            "Epoch 8/20\n",
            "5/5 [==============================] - 0s 14ms/step - loss: 0.3212 - accuracy: 0.9365 - val_loss: 0.4239 - val_accuracy: 0.8148\n",
            "Epoch 9/20\n",
            "5/5 [==============================] - 0s 11ms/step - loss: 0.2833 - accuracy: 0.9286 - val_loss: 0.4226 - val_accuracy: 0.8148\n",
            "Epoch 10/20\n",
            "5/5 [==============================] - 0s 11ms/step - loss: 0.2420 - accuracy: 0.9524 - val_loss: 0.4185 - val_accuracy: 0.8148\n",
            "Epoch 11/20\n",
            "5/5 [==============================] - 0s 10ms/step - loss: 0.2163 - accuracy: 0.9524 - val_loss: 0.3936 - val_accuracy: 0.8519\n",
            "Epoch 12/20\n",
            "5/5 [==============================] - 0s 10ms/step - loss: 0.1839 - accuracy: 0.9524 - val_loss: 0.3499 - val_accuracy: 0.8519\n",
            "Epoch 13/20\n",
            "5/5 [==============================] - 0s 10ms/step - loss: 0.1817 - accuracy: 0.9524 - val_loss: 0.3657 - val_accuracy: 0.8519\n",
            "Epoch 14/20\n",
            "5/5 [==============================] - 0s 12ms/step - loss: 0.1652 - accuracy: 0.9524 - val_loss: 0.3416 - val_accuracy: 0.8519\n",
            "Epoch 15/20\n",
            "5/5 [==============================] - 0s 11ms/step - loss: 0.1551 - accuracy: 0.9524 - val_loss: 0.3466 - val_accuracy: 0.8519\n",
            "Epoch 16/20\n",
            "5/5 [==============================] - 0s 14ms/step - loss: 0.1487 - accuracy: 0.9524 - val_loss: 0.3586 - val_accuracy: 0.8519\n",
            "Epoch 17/20\n",
            "5/5 [==============================] - 0s 11ms/step - loss: 0.1385 - accuracy: 0.9603 - val_loss: 0.3430 - val_accuracy: 0.8519\n",
            "Epoch 18/20\n",
            "5/5 [==============================] - 0s 13ms/step - loss: 0.1317 - accuracy: 0.9603 - val_loss: 0.3104 - val_accuracy: 0.8519\n",
            "Epoch 19/20\n",
            "5/5 [==============================] - 0s 11ms/step - loss: 0.1300 - accuracy: 0.9603 - val_loss: 0.3092 - val_accuracy: 0.8519\n",
            "Epoch 20/20\n",
            "5/5 [==============================] - 0s 15ms/step - loss: 0.1257 - accuracy: 0.9603 - val_loss: 0.3253 - val_accuracy: 0.8519\n",
            "2/2 [==============================] - 0s 6ms/step\n",
            "4/4 [==============================] - 0s 3ms/step\n"
          ]
        }
      ]
    },
    {
      "cell_type": "code",
      "source": [
        "# Imprimir métricas de entrenamiento\n",
        "print(\"\\nMétricas en el conjunto de entrenamiento:\")\n",
        "print(f\"Exactitud (entrenamiento): {round(accuracy_train, 2) * 100}%\")\n",
        "print(f\"Precisión (entrenamiento): {round(precision_train, 2) * 100}%\")\n",
        "print(f\"Recall (entrenamiento): {round(recall_train, 2) * 100}%\")\n",
        "print(f\"F1-score (entrenamiento): {round(f1_train, 2) * 100}%\")\n",
        "print('-------------------------------------------------------------------------')\n",
        "# Imprimir métricas de evaluación\n",
        "print(f\"Exactitud en el conjunto de validación: {round(accuracy, 2) * 100}%\")\n",
        "print(f\"Precisión en el conjunto de validación: {round(precision, 2) * 100}%\")\n",
        "print(f\"Recall en el conjunto de validación: {round(recall, 2) * 100}%\")\n",
        "print(f\"F1-score en el conjunto de validación: {round(f1, 2) * 100}%\")"
      ],
      "metadata": {
        "colab": {
          "base_uri": "https://localhost:8080/"
        },
        "id": "hXVDgU6vY6IL",
        "outputId": "fc2f549f-3ac0-447a-e8af-b769a9481532"
      },
      "execution_count": null,
      "outputs": [
        {
          "output_type": "stream",
          "name": "stdout",
          "text": [
            "\n",
            "Métricas en el conjunto de entrenamiento:\n",
            "Exactitud (entrenamiento): 96.0%\n",
            "Precisión (entrenamiento): 93.0%\n",
            "Recall (entrenamiento): 100.0%\n",
            "F1-score (entrenamiento): 96.0%\n",
            "-------------------------------------------------------------------------\n",
            "Exactitud en el conjunto de validación: 85.0%\n",
            "Precisión en el conjunto de validación: 76.0%\n",
            "Recall en el conjunto de validación: 100.0%\n",
            "F1-score en el conjunto de validación: 86.0%\n"
          ]
        }
      ]
    },
    {
      "cell_type": "markdown",
      "source": [
        "# **Matriz de confusión**"
      ],
      "metadata": {
        "id": "zrnag9LChBJk"
      }
    },
    {
      "cell_type": "code",
      "source": [
        "from sklearn.metrics import confusion_matrix\n",
        "\n",
        "y_pred = model.predict(X_val)\n",
        "\n",
        "# Obtiene la matriz de confusión. Las filas corresponden a las clases reales,\n",
        "umbral = 0.5  # Puedes ajustar este umbral según tus necesidades\n",
        "y_pred_binario = (y_pred > umbral).astype(int)\n",
        "\n",
        "# Calcular la matriz de confusión con las etiquetas binarias\n",
        "cm = confusion_matrix(y_val, y_pred_binario)\n",
        "prop_real = np.sum(y_val)/len(y_val)\n",
        "prop_etiqutados = (cm[0,1]+cm[1,1])/len(y_val)\n",
        "\n",
        "print(\"Matriz de confusión: \\n\\n\", cm, \"\\n\")\n",
        "print('Proporción de comentarios positivos: %.2f'% prop_real)\n",
        "print('Proporción de comentarios positivos etiquetados: %.2f'% prop_etiqutados)"
      ],
      "metadata": {
        "colab": {
          "base_uri": "https://localhost:8080/"
        },
        "id": "7jAmF9ruhK_z",
        "outputId": "5e9bc5c4-6921-4fc1-bd34-be8ea4ad0586"
      },
      "execution_count": null,
      "outputs": [
        {
          "output_type": "stream",
          "name": "stdout",
          "text": [
            "2/2 [==============================] - 0s 4ms/step\n",
            "Matriz de confusión: \n",
            "\n",
            " [[21  8]\n",
            " [ 0 25]] \n",
            "\n",
            "Proporción de comentarios positivos: 0.46\n",
            "Proporción de comentarios positivos etiquetados: 0.61\n"
          ]
        }
      ]
    },
    {
      "cell_type": "code",
      "source": [
        "import seaborn as sns\n",
        "import matplotlib.pyplot as plt\n",
        "\n",
        "# Crear una figura para la matriz de confusión\n",
        "plt.figure(figsize=(8, 6))\n",
        "\n",
        "# Crear una matriz de confusión usando el heatmap de Seaborn\n",
        "sns.heatmap(cm, annot=True, fmt=\"d\", cmap=\"Blues\", xticklabels=['Control', 'Depresión'], yticklabels=['Control', 'Depresión'])\n",
        "\n",
        "# Etiquetas y título\n",
        "plt.xlabel('Predicción')\n",
        "plt.ylabel('Valor Real')\n",
        "plt.title('Matriz de Confusión (Usarios con Depresión vs de control)')\n",
        "\n",
        "# Mostrar la gráfica\n",
        "plt.show()"
      ],
      "metadata": {
        "colab": {
          "base_uri": "https://localhost:8080/",
          "height": 565
        },
        "id": "JkILkBO4hc1r",
        "outputId": "4ea5ec09-31ee-4892-e58e-56ad4de0a154"
      },
      "execution_count": null,
      "outputs": [
        {
          "output_type": "display_data",
          "data": {
            "text/plain": [
              "<Figure size 800x600 with 2 Axes>"
            ],
            "image/png": "[encoded data removed]"
          },
          "metadata": {}
        }
      ]
    },
    {
      "cell_type": "markdown",
      "source": [
        "#Modelo Bosque Aleatorio"
      ],
      "metadata": {
        "id": "Jr7wkaLH8D9Y"
      }
    },
    {
      "cell_type": "code",
      "source": [
        "from sklearn.ensemble import RandomForestClassifier\n",
        "from sklearn.metrics import accuracy_score, precision_score, recall_score, f1_score\n",
        "\n",
        "# Importa las librerías necesarias y divide los datos en conjuntos de entrenamiento y validación\n",
        "from sklearn.model_selection import train_test_split\n",
        "\n",
        "# X_train, X_val, y_train, y_val\n",
        "\n",
        "# Crea un modelo de Random Forest\n",
        "random_forest_model = RandomForestClassifier(n_estimators=300,  # Numero de alboles\n",
        "                                             max_depth=100, # profunidad máxima\n",
        "                                             random_state=42)  # selección de la semilla de manera aleatoria\n",
        "\n",
        "\n",
        "# Entrena el modelo en los datos de entrenamiento\n",
        "random_forest_model.fit(X_train, y_train)\n",
        "\n",
        "# Realiza predicciones en los datos de validación\n",
        "y_val_pred = random_forest_model.predict(X_val)\n",
        "\n",
        "# Calcula la precisión (accuracy) del modelo en los datos de validación\n",
        "accuracy = accuracy_score(y_val, y_val_pred)\n",
        "print(\"Accuracy (validación): {:.2f}\".format(accuracy))\n",
        "\n",
        "# Calcula la precisión del modelo en los datos de validación\n",
        "precision = precision_score(y_val, y_val_pred)\n",
        "print(\"Precision (validación): {:.2f}\".format(precision))\n",
        "\n",
        "# Calcula la exactitud (recall) del modelo en los datos de validación\n",
        "recall = recall_score(y_val, y_val_pred)\n",
        "print(\"Recall (validación): {:.2f}\".format(recall))\n",
        "\n",
        "# Calcula el F1-score del modelo en los datos de validación\n",
        "f1 = f1_score(y_val, y_val_pred)\n",
        "print(\"F1-score (validación): {:.2f}\".format(f1))\n",
        "\n",
        "# Calcula y muestra métricas en el conjunto de entrenamiento\n",
        "y_train_pred = random_forest_model.predict(X_train)\n",
        "\n",
        "accuracy_train = accuracy_score(y_train, y_train_pred)\n",
        "precision_train = precision_score(y_train, y_train_pred)\n",
        "recall_train = recall_score(y_train, y_train_pred)\n",
        "f1_train = f1_score(y_train, y_train_pred)\n",
        "\n",
        "#\n",
        "\n",
        "\n"
      ],
      "metadata": {
        "id": "Yf9iwokE-QqU",
        "colab": {
          "base_uri": "https://localhost:8080/"
        },
        "outputId": "a66e14b8-4828-4a06-bd02-72b94d8873d8"
      },
      "execution_count": null,
      "outputs": [
        {
          "output_type": "stream",
          "name": "stdout",
          "text": [
            "Accuracy (validación): 0.89\n",
            "Precision (validación): 0.91\n",
            "Recall (validación): 0.84\n",
            "F1-score (validación): 0.87\n"
          ]
        }
      ]
    },
    {
      "cell_type": "code",
      "source": [
        "# Imprimir las métricas de entrenamiento\n",
        "print(f'Accuracy entrenamiento: {accuracy_train * 100:.2f}%')\n",
        "print(f'Precisión  entrenamiento: {precision_train * 100:.2f}%')\n",
        "print(f'Recall  entrenamiento: {recall_train * 100:.2f}%')\n",
        "print(f'Puntuación F1  entrenamiento: {f1_train * 100:.2f}%')\n",
        "print('\\n')\n",
        "# Imprimir las métricas de validación\n",
        "print(f'Accuracy  validación: {accuracy * 100:.2f}%')\n",
        "print(f'Precisión  validación: {precision* 100:.2f}%')\n",
        "print(f'Recall  validación: {recall* 100:.2f}%')\n",
        "print(f'Puntuación F1 validación: {f1 * 100:.2f}%')"
      ],
      "metadata": {
        "colab": {
          "base_uri": "https://localhost:8080/"
        },
        "id": "NkRDcwJA-Vto",
        "outputId": "b6bdd6bb-7cc9-4913-c8c7-8c4d5574a618"
      },
      "execution_count": null,
      "outputs": [
        {
          "output_type": "stream",
          "name": "stdout",
          "text": [
            "Accuracy entrenamiento: 100.00%\n",
            "Precisión  entrenamiento: 100.00%\n",
            "Recall  entrenamiento: 100.00%\n",
            "Puntuación F1  entrenamiento: 100.00%\n",
            "\n",
            "\n",
            "Accuracy  validación: 88.89%\n",
            "Precisión  validación: 91.30%\n",
            "Recall  validación: 84.00%\n",
            "Puntuación F1 validación: 87.50%\n"
          ]
        }
      ]
    },
    {
      "cell_type": "markdown",
      "source": [
        "# **Matriz de confusión**"
      ],
      "metadata": {
        "id": "PnsoHsgnjbBL"
      }
    },
    {
      "cell_type": "code",
      "source": [
        "from sklearn.metrics import confusion_matrix\n",
        "\n",
        "y_pred_RF = random_forest_model.predict(X_val)\n",
        "\n",
        "# Obtiene la matriz de confusión. Las filas corresponden a las clases reales,\n",
        "umbral = 0.5  # Puedes ajustar este umbral según tus necesidades\n",
        "y_pred_binario = (y_pred_RF > umbral).astype(int)\n",
        "\n",
        "# Calcular la matriz de confusión con las etiquetas binarias\n",
        "cm = confusion_matrix(y_val, y_pred_binario)\n",
        "prop_real = np.sum(y_val)/len(y_val)\n",
        "prop_etiqutados = (cm[0,1]+cm[1,1])/len(y_val)\n",
        "\n",
        "print(\"Matriz de confusión: \\n\\n\", cm, \"\\n\")\n",
        "print('Proporción de comentarios positivos: %.2f'% prop_real)\n",
        "print('Proporción de comentarios positivos etiquetados: %.2f'% prop_etiqutados)"
      ],
      "metadata": {
        "colab": {
          "base_uri": "https://localhost:8080/"
        },
        "outputId": "9e461eba-d695-4600-8fd7-6ad505e0d75d",
        "id": "ge2kdDirjbBU"
      },
      "execution_count": null,
      "outputs": [
        {
          "output_type": "stream",
          "name": "stdout",
          "text": [
            "Matriz de confusión: \n",
            "\n",
            " [[27  2]\n",
            " [ 4 21]] \n",
            "\n",
            "Proporción de comentarios positivos: 0.46\n",
            "Proporción de comentarios positivos etiquetados: 0.43\n"
          ]
        }
      ]
    },
    {
      "cell_type": "code",
      "source": [
        "import seaborn as sns\n",
        "import matplotlib.pyplot as plt\n",
        "\n",
        "# Crear una figura para la matriz de confusión\n",
        "plt.figure(figsize=(8, 6))\n",
        "\n",
        "# Crear una matriz de confusión usando el heatmap de Seaborn\n",
        "sns.heatmap(cm, annot=True, fmt=\"d\", cmap=\"Blues\", xticklabels=['Control', 'Depresión'], yticklabels=['Control', 'Depresión'])\n",
        "\n",
        "# Etiquetas y título\n",
        "plt.xlabel('Predicción')\n",
        "plt.ylabel('Valor Real')\n",
        "plt.title('Matriz de Confusión (Usarios con Depresión vs de control)')\n",
        "\n",
        "# Mostrar la gráfica\n",
        "plt.show()"
      ],
      "metadata": {
        "colab": {
          "base_uri": "https://localhost:8080/",
          "height": 565
        },
        "outputId": "9bab4617-e73e-4e63-ff98-6378a75db42d",
        "id": "gUFypmG1jbBV"
      },
      "execution_count": null,
      "outputs": [
        {
          "output_type": "display_data",
          "data": {
            "text/plain": [
              "<Figure size 800x600 with 2 Axes>"
            ],
            "image/png": "[encoded data removed]"
          },
          "metadata": {}
        }
      ]
    },
    {
      "cell_type": "markdown",
      "source": [
        "#Modelo SVM"
      ],
      "metadata": {
        "id": "tpe64XnkBjMZ"
      }
    },
    {
      "cell_type": "code",
      "source": [
        "from sklearn.svm import SVC\n",
        "from sklearn.metrics import accuracy_score, precision_score, recall_score, f1_score\n",
        "import joblib\n",
        "import os\n",
        "\n",
        "svm_model_p = SVC(kernel='linear', degree=4, C=100, probability=False)\n",
        "\n",
        "# Entrenar el modelo en los datos de entrenamiento\n",
        "svm_model_p.fit(X_train, y_train)\n",
        "\n",
        "# Predecir etiquetas en el conjunto de validación\n",
        "y_val_pred = svm_model_p.predict(X_val)\n",
        "\n",
        "# Calcula la precisión del modelo en el conjunto de validación\n",
        "accuracy = accuracy_score(y_val, y_val_pred)\n",
        "\n",
        "\n",
        "# Calcula precisión, exhaustividad y puntuación F1 en el conjunto de validación\n",
        "precision = precision_score(y_val, y_val_pred)\n",
        "recall = recall_score(y_val, y_val_pred)\n",
        "f1 = f1_score(y_val, y_val_pred)\n",
        "\n",
        "# Calcula y muestra métricas en el conjunto de entrenamiento\n",
        "y_train_pred = svm_model_p.predict(X_train)\n",
        "\n",
        "accuracy_train = accuracy_score(y_train, y_train_pred)\n",
        "precision_train = precision_score(y_train, y_train_pred)\n",
        "recall_train = recall_score(y_train, y_train_pred)\n",
        "f1_train = f1_score(y_train, y_train_pred)\n",
        "\n",
        "print(\"\\nEntrenamiento:\")\n",
        "print(\"Exactitud (entrenamiento): {:.2f}%\".format(accuracy_train*100))\n",
        "print(\"Precision (entrenamiento): {:.2f}%\".format(precision_train*100))\n",
        "print(\"Recall (entrenamiento): {:.2f}%\".format(recall_train*100))\n",
        "print(\"F1-score (entrenamiento): {:.2f}%\".format(f1_train*100))\n",
        "print(\"\\nValidación:\")\n",
        "print(f\"Exactitud en el conjunto de validación: {round(accuracy,2)*100}%\")\n",
        "print(f\"Precisión en el conjunto de validación:{round(precision,2)*100}%\")\n",
        "print(f\"Recall en el conjunto de validación: {round(recall,2)*100}%\")\n",
        "print(f\"F1-score en el conjunto de validación:{round(f1,2)*100}%\")\n",
        "\n"
      ],
      "metadata": {
        "colab": {
          "base_uri": "https://localhost:8080/"
        },
        "id": "abWDh27ABtdx",
        "outputId": "d708f1ef-90b0-4223-f09b-9a7cfd20fe50"
      },
      "execution_count": null,
      "outputs": [
        {
          "output_type": "stream",
          "name": "stdout",
          "text": [
            "\n",
            "Entrenamiento:\n",
            "Exactitud (entrenamiento): 96.83%\n",
            "Precision (entrenamiento): 94.20%\n",
            "Recall (entrenamiento): 100.00%\n",
            "F1-score (entrenamiento): 97.01%\n",
            "\n",
            "Validación:\n",
            "Exactitud en el conjunto de validación: 87.0%\n",
            "Precisión en el conjunto de validación:78.0%\n",
            "Recall en el conjunto de validación: 100.0%\n",
            "F1-score en el conjunto de validación:88.0%\n"
          ]
        }
      ]
    },
    {
      "cell_type": "markdown",
      "source": [
        "# **Matriz de confusión**"
      ],
      "metadata": {
        "id": "UQJHYe_5mFmL"
      }
    },
    {
      "cell_type": "code",
      "source": [
        "from sklearn.metrics import confusion_matrix\n",
        "\n",
        "y_pred_RF = svm_model_p.predict(X_val)\n",
        "\n",
        "# Obtiene la matriz de confusión. Las filas corresponden a las clases reales,\n",
        "umbral = 0.5  # Puedes ajustar este umbral según tus necesidades\n",
        "y_pred_binario = (y_pred_RF > umbral).astype(int)\n",
        "\n",
        "# Calcular la matriz de confusión con las etiquetas binarias\n",
        "cm = confusion_matrix(y_val, y_pred_binario)\n",
        "prop_real = np.sum(y_val)/len(y_val)\n",
        "prop_etiqutados = (cm[0,1]+cm[1,1])/len(y_val)\n",
        "\n",
        "print(\"Matriz de confusión: \\n\\n\", cm, \"\\n\")\n",
        "print('Proporción de comentarios positivos: %.2f'% prop_real)\n",
        "print('Proporción de comentarios positivos etiquetados: %.2f'% prop_etiqutados)"
      ],
      "metadata": {
        "colab": {
          "base_uri": "https://localhost:8080/"
        },
        "outputId": "5c710dc6-9086-474a-9051-d9671ec88249",
        "id": "bEh8aTdumFmT"
      },
      "execution_count": null,
      "outputs": [
        {
          "output_type": "stream",
          "name": "stdout",
          "text": [
            "Matriz de confusión: \n",
            "\n",
            " [[22  7]\n",
            " [ 0 25]] \n",
            "\n",
            "Proporción de comentarios positivos: 0.46\n",
            "Proporción de comentarios positivos etiquetados: 0.59\n"
          ]
        }
      ]
    },
    {
      "cell_type": "code",
      "source": [
        "import seaborn as sns\n",
        "import matplotlib.pyplot as plt\n",
        "\n",
        "# Crear una figura para la matriz de confusión\n",
        "plt.figure(figsize=(8, 6))\n",
        "\n",
        "# Crear una matriz de confusión usando el heatmap de Seaborn\n",
        "sns.heatmap(cm, annot=True, fmt=\"d\", cmap=\"Blues\", xticklabels=['Control', 'Depresión'], yticklabels=['Control', 'Depresión'])\n",
        "\n",
        "# Etiquetas y título\n",
        "plt.xlabel('Predicción')\n",
        "plt.ylabel('Valor Real')\n",
        "plt.title('Matriz de Confusión (Usarios con Depresión vs de control)')\n",
        "\n",
        "# Mostrar la gráfica\n",
        "plt.show()"
      ],
      "metadata": {
        "colab": {
          "base_uri": "https://localhost:8080/",
          "height": 565
        },
        "outputId": "8755af31-6953-4714-cf81-db8a65d4b15c",
        "id": "xAQ-K-AImFmT"
      },
      "execution_count": null,
      "outputs": [
        {
          "output_type": "display_data",
          "data": {
            "text/plain": [
              "<Figure size 800x600 with 2 Axes>"
            ],
            "image/png": "[encoded data removed]"
          },
          "metadata": {}
        }
      ]
    },
    {
      "cell_type": "markdown",
      "source": [
        "# **Regresión Logistica**"
      ],
      "metadata": {
        "id": "Ef6U8YQNp2SW"
      }
    },
    {
      "cell_type": "code",
      "source": [
        "from sklearn.linear_model import LogisticRegression\n",
        "from sklearn.metrics import precision_score, recall_score, f1_score\n",
        "# Crear el modelo de regresión logística\n",
        "lr_model = LogisticRegression(C=10)\n",
        "lr_model.fit(X_train, y_train)\n",
        "\n",
        "# Calcular el porcentaje de acierto en el conjunto de entrenamiento\n",
        "accuracy_train = lr_model.score(X_train, y_train) * 100\n",
        "\n",
        "# Calcular el porcentaje de acierto en el conjunto de validación\n",
        "accuracy_val = lr_model.score(X_val, y_val) * 100\n",
        "\n",
        "# Predicciones en el conjunto de entrenamiento y validación\n",
        "y_train_pred = lr_model.predict(X_train)\n",
        "y_val_pred = lr_model.predict(X_val)\n",
        "\n",
        "# Calcular precisión en el conjunto de entrenamiento y validación\n",
        "precision_train = precision_score(y_train, y_train_pred)* 100\n",
        "precision_val = precision_score(y_val, y_val_pred)* 100\n",
        "\n",
        "# Calcular exhaustividad (recall) en el conjunto de entrenamiento y validación\n",
        "recall_train = recall_score(y_train, y_train_pred)* 100\n",
        "recall_val = recall_score(y_val, y_val_pred)* 100\n",
        "\n",
        "# Calcular puntuación F1 en el conjunto de entrenamiento y validación\n",
        "f1_train = f1_score(y_train, y_train_pred)* 100\n",
        "f1_val = f1_score(y_val, y_val_pred)* 100\n"
      ],
      "metadata": {
        "id": "OnNzX1e9RNoJ"
      },
      "execution_count": null,
      "outputs": []
    },
    {
      "cell_type": "code",
      "source": [
        "# Mostrar métricas de entrenamiento\n",
        "print(\"Métricas de entrenamiento:\")\n",
        "print(\"Exactitud (entrenamiento): {:.2f}%\".format(accuracy_train))\n",
        "print(\"Precisión (entrenamiento): {:.2f}%\".format(precision_train))\n",
        "print(\"Exhaustividad (entrenamiento): {:.2f}%\".format(recall_train))\n",
        "print(\"Puntuación F1 (entrenamiento): {:.2f}%\".format(f1_train))\n",
        "print('-'*40)\n",
        "# Mostrar métricas de validación\n",
        "print(\"\\nMétricas de validación:\")\n",
        "print(\"Exactitud (validación): {:.2f}%\".format(accuracy_val))\n",
        "print(\"Precisión (validación): {:.2f}%\".format(precision_val))\n",
        "print(\"Exhaustividad (validación): {:.2f}%\".format(recall_val))\n",
        "print(\"Puntuación F1 (validación): {:.2f}%\".format(f1_val))"
      ],
      "metadata": {
        "colab": {
          "base_uri": "https://localhost:8080/"
        },
        "id": "qwl9Ndehm4o3",
        "outputId": "2c46293a-856e-4e14-d65d-7c4fa1e2349f"
      },
      "execution_count": null,
      "outputs": [
        {
          "output_type": "stream",
          "name": "stdout",
          "text": [
            "Métricas de entrenamiento:\n",
            "Exactitud (entrenamiento): 96.03%\n",
            "Precisión (entrenamiento): 92.86%\n",
            "Exhaustividad (entrenamiento): 100.00%\n",
            "Puntuación F1 (entrenamiento): 96.30%\n",
            "----------------------------------------\n",
            "\n",
            "Métricas de validación:\n",
            "Exactitud (validación): 87.04%\n",
            "Precisión (validación): 78.12%\n",
            "Exhaustividad (validación): 100.00%\n",
            "Puntuación F1 (validación): 87.72%\n"
          ]
        }
      ]
    },
    {
      "cell_type": "markdown",
      "source": [
        "# **Matriz de confusión**"
      ],
      "metadata": {
        "id": "C5K5W5kWnQrg"
      }
    },
    {
      "cell_type": "code",
      "source": [
        "from sklearn.metrics import confusion_matrix\n",
        "\n",
        "y_pred_RF = lr_model.predict(X_val)\n",
        "\n",
        "# Obtiene la matriz de confusión. Las filas corresponden a las clases reales,\n",
        "umbral = 0.5  # Puedes ajustar este umbral según tus necesidades\n",
        "y_pred_binario = (y_pred_RF > umbral).astype(int)\n",
        "\n",
        "# Calcular la matriz de confusión con las etiquetas binarias\n",
        "cm = confusion_matrix(y_val, y_pred_binario)\n",
        "prop_real = np.sum(y_val)/len(y_val)\n",
        "prop_etiqutados = (cm[0,1]+cm[1,1])/len(y_val)\n",
        "\n",
        "print(\"Matriz de confusión: \\n\\n\", cm, \"\\n\")\n",
        "print('Proporción de comentarios positivos: %.2f'% prop_real)\n",
        "print('Proporción de comentarios positivos etiquetados: %.2f'% prop_etiqutados)"
      ],
      "metadata": {
        "colab": {
          "base_uri": "https://localhost:8080/"
        },
        "outputId": "2c454fee-8768-4ec2-d749-677fda18e113",
        "id": "35gIxGVMnQro"
      },
      "execution_count": null,
      "outputs": [
        {
          "output_type": "stream",
          "name": "stdout",
          "text": [
            "Matriz de confusión: \n",
            "\n",
            " [[22  7]\n",
            " [ 0 25]] \n",
            "\n",
            "Proporción de comentarios positivos: 0.46\n",
            "Proporción de comentarios positivos etiquetados: 0.59\n"
          ]
        }
      ]
    },
    {
      "cell_type": "code",
      "source": [
        "import seaborn as sns\n",
        "import matplotlib.pyplot as plt\n",
        "\n",
        "# Crear una figura para la matriz de confusión\n",
        "plt.figure(figsize=(8, 6))\n",
        "\n",
        "# Crear una matriz de confusión usando el heatmap de Seaborn\n",
        "sns.heatmap(cm, annot=True, fmt=\"d\", cmap=\"Blues\", xticklabels=['Control', 'Depresión'], yticklabels=['Control', 'Depresión'])\n",
        "\n",
        "# Etiquetas y título\n",
        "plt.xlabel('Predicción')\n",
        "plt.ylabel('Valor Real')\n",
        "plt.title('Matriz de Confusión (Usarios con Depresión vs de control)')\n",
        "\n",
        "# Mostrar la gráfica\n",
        "plt.show()"
      ],
      "metadata": {
        "colab": {
          "base_uri": "https://localhost:8080/",
          "height": 565
        },
        "outputId": "832399d6-661c-49d6-ce6e-48a3b0f26be4",
        "id": "iTWL0FkxnQrp"
      },
      "execution_count": null,
      "outputs": [
        {
          "output_type": "display_data",
          "data": {
            "text/plain": [
              "<Figure size 800x600 with 2 Axes>"
            ],
            "image/png": "[encoded data removed]"
          },
          "metadata": {}
        }
      ]
    }
  ]
}
{
  "cells": [
    {
      "cell_type": "code",
      "execution_count": null,
      "metadata": {
        "id": "U7C1X_GgdSjj"
      },
      "outputs": [],
      "source": [
        "import numpy as np\n",
        "import pandas as pd\n",
        "\n",
        "import tensorflow as tf\n",
        "from tensorflow.keras.models import Sequential\n",
        "from tensorflow.keras.layers import Dense, Dropout\n",
        "from sklearn.metrics import accuracy_score, precision_score, recall_score, f1_score\n",
        "from sklearn.model_selection import train_test_split\n",
        "from sklearn.preprocessing import LabelEncoder\n",
        "from tensorflow.keras.models import load_model\n",
        "from sklearn.model_selection import cross_val_score\n",
        "from sklearn.model_selection import StratifiedKFold"
      ]
    },
    {
      "cell_type": "markdown",
      "metadata": {
        "id": "Qc7qpw2GdPhD"
      },
      "source": [
        "# datos"
      ]
    },
    {
      "cell_type": "markdown",
      "metadata": {
        "id": "BmpzI8EBdbB4"
      },
      "source": [
        "**usarios con ansiedad**"
      ]
    },
    {
      "cell_type": "code",
      "execution_count": null,
      "metadata": {
        "colab": {
          "base_uri": "https://localhost:8080/",
          "height": 487
        },
        "id": "H7xomni0dabC",
        "outputId": "907df78d-1a61-4024-fb24-c920052e4637"
      },
      "outputs": [
        {
          "data": {
            "text/html": [
              "\n",
              "  <div id=\"df-b5cccedb-d79f-4e9a-b70a-112c5bb3d714\" class=\"colab-df-container\">\n",
              "    <div>\n",
              "<style scoped>\n",
              "    .dataframe tbody tr th:only-of-type {\n",
              "        vertical-align: middle;\n",
              "    }\n",
              "\n",
              "    .dataframe tbody tr th {\n",
              "        vertical-align: top;\n",
              "    }\n",
              "\n",
              "    .dataframe thead th {\n",
              "        text-align: right;\n",
              "    }\n",
              "</style>\n",
              "<table border=\"1\" class=\"dataframe\">\n",
              "  <thead>\n",
              "    <tr style=\"text-align: right;\">\n",
              "      <th></th>\n",
              "      <th>class</th>\n",
              "      <th>tweet_id</th>\n",
              "      <th>day</th>\n",
              "      <th>time</th>\n",
              "      <th>tweet</th>\n",
              "      <th>tweet_favorite_count</th>\n",
              "      <th>tweet_retweet_count</th>\n",
              "      <th>tweet_source</th>\n",
              "      <th>user_id</th>\n",
              "      <th>user_followers_count</th>\n",
              "      <th>user_friends_count</th>\n",
              "      <th>user_listed_count</th>\n",
              "      <th>user_statuses_count</th>\n",
              "    </tr>\n",
              "  </thead>\n",
              "  <tbody>\n",
              "    <tr>\n",
              "      <th>0</th>\n",
              "      <td>ANXIETY</td>\n",
              "      <td>1438350576228634628</td>\n",
              "      <td>2021-09-16</td>\n",
              "      <td>03:54:35</td>\n",
              "      <td>será momento de empezar normal people?</td>\n",
              "      <td>0</td>\n",
              "      <td>0</td>\n",
              "      <td>Twitter for Android</td>\n",
              "      <td>3252873154</td>\n",
              "      <td>6144</td>\n",
              "      <td>1485</td>\n",
              "      <td>20</td>\n",
              "      <td>50858</td>\n",
              "    </tr>\n",
              "    <tr>\n",
              "      <th>1</th>\n",
              "      <td>ANXIETY</td>\n",
              "      <td>1438319798904053761</td>\n",
              "      <td>2021-09-16</td>\n",
              "      <td>01:52:17</td>\n",
              "      <td>bake off se puso re aburrido yo vi el primer p...</td>\n",
              "      <td>10</td>\n",
              "      <td>1</td>\n",
              "      <td>Twitter for Android</td>\n",
              "      <td>3252873154</td>\n",
              "      <td>6144</td>\n",
              "      <td>1485</td>\n",
              "      <td>20</td>\n",
              "      <td>50858</td>\n",
              "    </tr>\n",
              "    <tr>\n",
              "      <th>2</th>\n",
              "      <td>ANXIETY</td>\n",
              "      <td>1438318565145419780</td>\n",
              "      <td>2021-09-16</td>\n",
              "      <td>01:47:23</td>\n",
              "      <td>TOTALMENTE no se por que pero no me pinta ni r...</td>\n",
              "      <td>4</td>\n",
              "      <td>3</td>\n",
              "      <td>Twitter for Android</td>\n",
              "      <td>3252873154</td>\n",
              "      <td>6144</td>\n",
              "      <td>1485</td>\n",
              "      <td>20</td>\n",
              "      <td>50858</td>\n",
              "    </tr>\n",
              "    <tr>\n",
              "      <th>3</th>\n",
              "      <td>ANXIETY</td>\n",
              "      <td>1438304305363173376</td>\n",
              "      <td>2021-09-16</td>\n",
              "      <td>00:50:43</td>\n",
              "      <td>aaa hay una chica en tiktok que habla todo el ...</td>\n",
              "      <td>5</td>\n",
              "      <td>0</td>\n",
              "      <td>Twitter for Android</td>\n",
              "      <td>3252873154</td>\n",
              "      <td>6144</td>\n",
              "      <td>1485</td>\n",
              "      <td>20</td>\n",
              "      <td>50858</td>\n",
              "    </tr>\n",
              "    <tr>\n",
              "      <th>4</th>\n",
              "      <td>ANXIETY</td>\n",
              "      <td>1438296177582166020</td>\n",
              "      <td>2021-09-16</td>\n",
              "      <td>00:18:25</td>\n",
              "      <td>@USUARIO dale quiero este corte HTTPURL</td>\n",
              "      <td>1</td>\n",
              "      <td>0</td>\n",
              "      <td>Twitter for Android</td>\n",
              "      <td>3252873154</td>\n",
              "      <td>6144</td>\n",
              "      <td>1485</td>\n",
              "      <td>20</td>\n",
              "      <td>50858</td>\n",
              "    </tr>\n",
              "  </tbody>\n",
              "</table>\n",
              "</div>\n",
              "    <div class=\"colab-df-buttons\">\n",
              "\n",
              "  <div class=\"colab-df-container\">\n",
              "    <button class=\"colab-df-convert\" onclick=\"convertToInteractive('df-b5cccedb-d79f-4e9a-b70a-112c5bb3d714')\"\n",
              "            title=\"Convert this dataframe to an interactive table.\"\n",
              "            style=\"display:none;\">\n",
              "\n",
              "  <svg xmlns=\"http://www.w3.org/2000/svg\" height=\"24px\" viewBox=\"0 -960 960 960\">\n",
              "    <path d=\"M120-120v-720h720v720H120Zm60-500h600v-160H180v160Zm220 220h160v-160H400v160Zm0 220h160v-160H400v160ZM180-400h160v-160H180v160Zm440 0h160v-160H620v160ZM180-180h160v-160H180v160Zm440 0h160v-160H620v160Z\"/>\n",
              "  </svg>\n",
              "    </button>\n",
              "\n",
              "  <style>\n",
              "    .colab-df-container {\n",
              "      display:flex;\n",
              "      gap: 12px;\n",
              "    }\n",
              "\n",
              "    .colab-df-convert {\n",
              "      background-color: #E8F0FE;\n",
              "      border: none;\n",
              "      border-radius: 50%;\n",
              "      cursor: pointer;\n",
              "      display: none;\n",
              "      fill: #1967D2;\n",
              "      height: 32px;\n",
              "      padding: 0 0 0 0;\n",
              "      width: 32px;\n",
              "    }\n",
              "\n",
              "    .colab-df-convert:hover {\n",
              "      background-color: #E2EBFA;\n",
              "      box-shadow: 0px 1px 2px rgba(60, 64, 67, 0.3), 0px 1px 3px 1px rgba(60, 64, 67, 0.15);\n",
              "      fill: #174EA6;\n",
              "    }\n",
              "\n",
              "    .colab-df-buttons div {\n",
              "      margin-bottom: 4px;\n",
              "    }\n",
              "\n",
              "    [theme=dark] .colab-df-convert {\n",
              "      background-color: #3B4455;\n",
              "      fill: #D2E3FC;\n",
              "    }\n",
              "\n",
              "    [theme=dark] .colab-df-convert:hover {\n",
              "      background-color: #434B5C;\n",
              "      box-shadow: 0px 1px 3px 1px rgba(0, 0, 0, 0.15);\n",
              "      filter: drop-shadow(0px 1px 2px rgba(0, 0, 0, 0.3));\n",
              "      fill: #FFFFFF;\n",
              "    }\n",
              "  </style>\n",
              "\n",
              "    <script>\n",
              "      const buttonEl =\n",
              "        document.querySelector('#df-b5cccedb-d79f-4e9a-b70a-112c5bb3d714 button.colab-df-convert');\n",
              "      buttonEl.style.display =\n",
              "        google.colab.kernel.accessAllowed ? 'block' : 'none';\n",
              "\n",
              "      async function convertToInteractive(key) {\n",
              "        const element = document.querySelector('#df-b5cccedb-d79f-4e9a-b70a-112c5bb3d714');\n",
              "        const dataTable =\n",
              "          await google.colab.kernel.invokeFunction('convertToInteractive',\n",
              "                                                    [key], {});\n",
              "        if (!dataTable) return;\n",
              "\n",
              "        const docLinkHtml = 'Like what you see? Visit the ' +\n",
              "          '<a target=\"_blank\" href=https://colab.research.google.com/notebooks/data_table.ipynb>data table notebook</a>'\n",
              "          + ' to learn more about interactive tables.';\n",
              "        element.innerHTML = '';\n",
              "        dataTable['output_type'] = 'display_data';\n",
              "        await google.colab.output.renderOutput(dataTable, element);\n",
              "        const docLink = document.createElement('div');\n",
              "        docLink.innerHTML = docLinkHtml;\n",
              "        element.appendChild(docLink);\n",
              "      }\n",
              "    </script>\n",
              "  </div>\n",
              "\n",
              "\n",
              "<div id=\"df-4946e282-e66e-461a-8e0f-0b05ac0ca921\">\n",
              "  <button class=\"colab-df-quickchart\" onclick=\"quickchart('df-4946e282-e66e-461a-8e0f-0b05ac0ca921')\"\n",
              "            title=\"Suggest charts\"\n",
              "            style=\"display:none;\">\n",
              "\n",
              "<svg xmlns=\"http://www.w3.org/2000/svg\" height=\"24px\"viewBox=\"0 0 24 24\"\n",
              "     width=\"24px\">\n",
              "    <g>\n",
              "        <path d=\"M19 3H5c-1.1 0-2 .9-2 2v14c0 1.1.9 2 2 2h14c1.1 0 2-.9 2-2V5c0-1.1-.9-2-2-2zM9 17H7v-7h2v7zm4 0h-2V7h2v10zm4 0h-2v-4h2v4z\"/>\n",
              "    </g>\n",
              "</svg>\n",
              "  </button>\n",
              "\n",
              "<style>\n",
              "  .colab-df-quickchart {\n",
              "      --bg-color: #E8F0FE;\n",
              "      --fill-color: #1967D2;\n",
              "      --hover-bg-color: #E2EBFA;\n",
              "      --hover-fill-color: #174EA6;\n",
              "      --disabled-fill-color: #AAA;\n",
              "      --disabled-bg-color: #DDD;\n",
              "  }\n",
              "\n",
              "  [theme=dark] .colab-df-quickchart {\n",
              "      --bg-color: #3B4455;\n",
              "      --fill-color: #D2E3FC;\n",
              "      --hover-bg-color: #434B5C;\n",
              "      --hover-fill-color: #FFFFFF;\n",
              "      --disabled-bg-color: #3B4455;\n",
              "      --disabled-fill-color: #666;\n",
              "  }\n",
              "\n",
              "  .colab-df-quickchart {\n",
              "    background-color: var(--bg-color);\n",
              "    border: none;\n",
              "    border-radius: 50%;\n",
              "    cursor: pointer;\n",
              "    display: none;\n",
              "    fill: var(--fill-color);\n",
              "    height: 32px;\n",
              "    padding: 0;\n",
              "    width: 32px;\n",
              "  }\n",
              "\n",
              "  .colab-df-quickchart:hover {\n",
              "    background-color: var(--hover-bg-color);\n",
              "    box-shadow: 0 1px 2px rgba(60, 64, 67, 0.3), 0 1px 3px 1px rgba(60, 64, 67, 0.15);\n",
              "    fill: var(--button-hover-fill-color);\n",
              "  }\n",
              "\n",
              "  .colab-df-quickchart-complete:disabled,\n",
              "  .colab-df-quickchart-complete:disabled:hover {\n",
              "    background-color: var(--disabled-bg-color);\n",
              "    fill: var(--disabled-fill-color);\n",
              "    box-shadow: none;\n",
              "  }\n",
              "\n",
              "  .colab-df-spinner {\n",
              "    border: 2px solid var(--fill-color);\n",
              "    border-color: transparent;\n",
              "    border-bottom-color: var(--fill-color);\n",
              "    animation:\n",
              "      spin 1s steps(1) infinite;\n",
              "  }\n",
              "\n",
              "  @keyframes spin {\n",
              "    0% {\n",
              "      border-color: transparent;\n",
              "      border-bottom-color: var(--fill-color);\n",
              "      border-left-color: var(--fill-color);\n",
              "    }\n",
              "    20% {\n",
              "      border-color: transparent;\n",
              "      border-left-color: var(--fill-color);\n",
              "      border-top-color: var(--fill-color);\n",
              "    }\n",
              "    30% {\n",
              "      border-color: transparent;\n",
              "      border-left-color: var(--fill-color);\n",
              "      border-top-color: var(--fill-color);\n",
              "      border-right-color: var(--fill-color);\n",
              "    }\n",
              "    40% {\n",
              "      border-color: transparent;\n",
              "      border-right-color: var(--fill-color);\n",
              "      border-top-color: var(--fill-color);\n",
              "    }\n",
              "    60% {\n",
              "      border-color: transparent;\n",
              "      border-right-color: var(--fill-color);\n",
              "    }\n",
              "    80% {\n",
              "      border-color: transparent;\n",
              "      border-right-color: var(--fill-color);\n",
              "      border-bottom-color: var(--fill-color);\n",
              "    }\n",
              "    90% {\n",
              "      border-color: transparent;\n",
              "      border-bottom-color: var(--fill-color);\n",
              "    }\n",
              "  }\n",
              "</style>\n",
              "\n",
              "  <script>\n",
              "    async function quickchart(key) {\n",
              "      const quickchartButtonEl =\n",
              "        document.querySelector('#' + key + ' button');\n",
              "      quickchartButtonEl.disabled = true;  // To prevent multiple clicks.\n",
              "      quickchartButtonEl.classList.add('colab-df-spinner');\n",
              "      try {\n",
              "        const charts = await google.colab.kernel.invokeFunction(\n",
              "            'suggestCharts', [key], {});\n",
              "      } catch (error) {\n",
              "        console.error('Error during call to suggestCharts:', error);\n",
              "      }\n",
              "      quickchartButtonEl.classList.remove('colab-df-spinner');\n",
              "      quickchartButtonEl.classList.add('colab-df-quickchart-complete');\n",
              "    }\n",
              "    (() => {\n",
              "      let quickchartButtonEl =\n",
              "        document.querySelector('#df-4946e282-e66e-461a-8e0f-0b05ac0ca921 button');\n",
              "      quickchartButtonEl.style.display =\n",
              "        google.colab.kernel.accessAllowed ? 'block' : 'none';\n",
              "    })();\n",
              "  </script>\n",
              "</div>\n",
              "\n",
              "    </div>\n",
              "  </div>\n"
            ],
            "text/plain": [
              "     class             tweet_id         day      time  \\\n",
              "0  ANXIETY  1438350576228634628  2021-09-16  03:54:35   \n",
              "1  ANXIETY  1438319798904053761  2021-09-16  01:52:17   \n",
              "2  ANXIETY  1438318565145419780  2021-09-16  01:47:23   \n",
              "3  ANXIETY  1438304305363173376  2021-09-16  00:50:43   \n",
              "4  ANXIETY  1438296177582166020  2021-09-16  00:18:25   \n",
              "\n",
              "                                               tweet  tweet_favorite_count  \\\n",
              "0             será momento de empezar normal people?                     0   \n",
              "1  bake off se puso re aburrido yo vi el primer p...                    10   \n",
              "2  TOTALMENTE no se por que pero no me pinta ni r...                     4   \n",
              "3  aaa hay una chica en tiktok que habla todo el ...                     5   \n",
              "4            @USUARIO dale quiero este corte HTTPURL                     1   \n",
              "\n",
              "   tweet_retweet_count         tweet_source     user_id  user_followers_count  \\\n",
              "0                    0  Twitter for Android  3252873154                  6144   \n",
              "1                    1  Twitter for Android  3252873154                  6144   \n",
              "2                    3  Twitter for Android  3252873154                  6144   \n",
              "3                    0  Twitter for Android  3252873154                  6144   \n",
              "4                    0  Twitter for Android  3252873154                  6144   \n",
              "\n",
              "   user_friends_count  user_listed_count  user_statuses_count  \n",
              "0                1485                 20                50858  \n",
              "1                1485                 20                50858  \n",
              "2                1485                 20                50858  \n",
              "3                1485                 20                50858  \n",
              "4                1485                 20                50858  "
            ]
          },
          "execution_count": 2,
          "metadata": {},
          "output_type": "execute_result"
        }
      ],
      "source": [
        "archivo = '/content/drive/MyDrive/Experimentación Python Tesis /Experimento por agrupación de usuarios/Usuarios con ansiedad/User_ansiedad (1).csv'\n",
        "ansiedad = pd.read_csv(archivo, sep =',')\n",
        "ansiedad.head()"
      ]
    },
    {
      "cell_type": "markdown",
      "metadata": {
        "id": "JwK9CHJEeD7r"
      },
      "source": [
        "**Usarios de control**"
      ]
    },
    {
      "cell_type": "code",
      "execution_count": null,
      "metadata": {
        "colab": {
          "base_uri": "https://localhost:8080/",
          "height": 573
        },
        "id": "fLeOS7_BdUzZ",
        "outputId": "b71dbc62-8319-4bb4-9810-e76086d257bf"
      },
      "outputs": [
        {
          "data": {
            "text/html": [
              "\n",
              "  <div id=\"df-1ff3f561-2965-412f-ac75-786451a850e7\" class=\"colab-df-container\">\n",
              "    <div>\n",
              "<style scoped>\n",
              "    .dataframe tbody tr th:only-of-type {\n",
              "        vertical-align: middle;\n",
              "    }\n",
              "\n",
              "    .dataframe tbody tr th {\n",
              "        vertical-align: top;\n",
              "    }\n",
              "\n",
              "    .dataframe thead th {\n",
              "        text-align: right;\n",
              "    }\n",
              "</style>\n",
              "<table border=\"1\" class=\"dataframe\">\n",
              "  <thead>\n",
              "    <tr style=\"text-align: right;\">\n",
              "      <th></th>\n",
              "      <th>class</th>\n",
              "      <th>tweet_id</th>\n",
              "      <th>day</th>\n",
              "      <th>time</th>\n",
              "      <th>tweet</th>\n",
              "      <th>tweet_favorite_count</th>\n",
              "      <th>tweet_retweet_count</th>\n",
              "      <th>tweet_source</th>\n",
              "      <th>user_id</th>\n",
              "      <th>user_followers_count</th>\n",
              "      <th>user_friends_count</th>\n",
              "      <th>user_listed_count</th>\n",
              "      <th>user_statuses_count</th>\n",
              "    </tr>\n",
              "  </thead>\n",
              "  <tbody>\n",
              "    <tr>\n",
              "      <th>0</th>\n",
              "      <td>CONTROL</td>\n",
              "      <td>1437585042134421509</td>\n",
              "      <td>2021-09-14</td>\n",
              "      <td>01:12:37</td>\n",
              "      <td>las ganas de meter un viaje con mi novio me co...</td>\n",
              "      <td>4</td>\n",
              "      <td>3</td>\n",
              "      <td>Twitter for Android</td>\n",
              "      <td>2822905384</td>\n",
              "      <td>701</td>\n",
              "      <td>597</td>\n",
              "      <td>0</td>\n",
              "      <td>13700</td>\n",
              "    </tr>\n",
              "    <tr>\n",
              "      <th>1</th>\n",
              "      <td>CONTROL</td>\n",
              "      <td>1437577390071455751</td>\n",
              "      <td>2021-09-14</td>\n",
              "      <td>00:42:13</td>\n",
              "      <td>@USUARIO mm no, pero qué se puede esperar de a...</td>\n",
              "      <td>0</td>\n",
              "      <td>0</td>\n",
              "      <td>Twitter for Android</td>\n",
              "      <td>2822905384</td>\n",
              "      <td>701</td>\n",
              "      <td>597</td>\n",
              "      <td>0</td>\n",
              "      <td>13700</td>\n",
              "    </tr>\n",
              "    <tr>\n",
              "      <th>2</th>\n",
              "      <td>CONTROL</td>\n",
              "      <td>1437576525856100356</td>\n",
              "      <td>2021-09-14</td>\n",
              "      <td>00:38:47</td>\n",
              "      <td>@USUARIO y la de Disney</td>\n",
              "      <td>0</td>\n",
              "      <td>0</td>\n",
              "      <td>Twitter for Android</td>\n",
              "      <td>2822905384</td>\n",
              "      <td>701</td>\n",
              "      <td>597</td>\n",
              "      <td>0</td>\n",
              "      <td>13700</td>\n",
              "    </tr>\n",
              "    <tr>\n",
              "      <th>3</th>\n",
              "      <td>CONTROL</td>\n",
              "      <td>1437567928497582084</td>\n",
              "      <td>2021-09-14</td>\n",
              "      <td>00:04:37</td>\n",
              "      <td>@USUARIO y a vos quien te llamó pelotudo a pedal</td>\n",
              "      <td>0</td>\n",
              "      <td>0</td>\n",
              "      <td>Twitter for Android</td>\n",
              "      <td>2822905384</td>\n",
              "      <td>701</td>\n",
              "      <td>597</td>\n",
              "      <td>0</td>\n",
              "      <td>13700</td>\n",
              "    </tr>\n",
              "    <tr>\n",
              "      <th>4</th>\n",
              "      <td>CONTROL</td>\n",
              "      <td>1437563058616946694</td>\n",
              "      <td>2021-09-13</td>\n",
              "      <td>23:45:16</td>\n",
              "      <td>Que ganas de ir a la cancha para putear al dis...</td>\n",
              "      <td>4</td>\n",
              "      <td>1</td>\n",
              "      <td>Twitter for Android</td>\n",
              "      <td>2822905384</td>\n",
              "      <td>701</td>\n",
              "      <td>597</td>\n",
              "      <td>0</td>\n",
              "      <td>13700</td>\n",
              "    </tr>\n",
              "  </tbody>\n",
              "</table>\n",
              "</div>\n",
              "    <div class=\"colab-df-buttons\">\n",
              "\n",
              "  <div class=\"colab-df-container\">\n",
              "    <button class=\"colab-df-convert\" onclick=\"convertToInteractive('df-1ff3f561-2965-412f-ac75-786451a850e7')\"\n",
              "            title=\"Convert this dataframe to an interactive table.\"\n",
              "            style=\"display:none;\">\n",
              "\n",
              "  <svg xmlns=\"http://www.w3.org/2000/svg\" height=\"24px\" viewBox=\"0 -960 960 960\">\n",
              "    <path d=\"M120-120v-720h720v720H120Zm60-500h600v-160H180v160Zm220 220h160v-160H400v160Zm0 220h160v-160H400v160ZM180-400h160v-160H180v160Zm440 0h160v-160H620v160ZM180-180h160v-160H180v160Zm440 0h160v-160H620v160Z\"/>\n",
              "  </svg>\n",
              "    </button>\n",
              "\n",
              "  <style>\n",
              "    .colab-df-container {\n",
              "      display:flex;\n",
              "      gap: 12px;\n",
              "    }\n",
              "\n",
              "    .colab-df-convert {\n",
              "      background-color: #E8F0FE;\n",
              "      border: none;\n",
              "      border-radius: 50%;\n",
              "      cursor: pointer;\n",
              "      display: none;\n",
              "      fill: #1967D2;\n",
              "      height: 32px;\n",
              "      padding: 0 0 0 0;\n",
              "      width: 32px;\n",
              "    }\n",
              "\n",
              "    .colab-df-convert:hover {\n",
              "      background-color: #E2EBFA;\n",
              "      box-shadow: 0px 1px 2px rgba(60, 64, 67, 0.3), 0px 1px 3px 1px rgba(60, 64, 67, 0.15);\n",
              "      fill: #174EA6;\n",
              "    }\n",
              "\n",
              "    .colab-df-buttons div {\n",
              "      margin-bottom: 4px;\n",
              "    }\n",
              "\n",
              "    [theme=dark] .colab-df-convert {\n",
              "      background-color: #3B4455;\n",
              "      fill: #D2E3FC;\n",
              "    }\n",
              "\n",
              "    [theme=dark] .colab-df-convert:hover {\n",
              "      background-color: #434B5C;\n",
              "      box-shadow: 0px 1px 3px 1px rgba(0, 0, 0, 0.15);\n",
              "      filter: drop-shadow(0px 1px 2px rgba(0, 0, 0, 0.3));\n",
              "      fill: #FFFFFF;\n",
              "    }\n",
              "  </style>\n",
              "\n",
              "    <script>\n",
              "      const buttonEl =\n",
              "        document.querySelector('#df-1ff3f561-2965-412f-ac75-786451a850e7 button.colab-df-convert');\n",
              "      buttonEl.style.display =\n",
              "        google.colab.kernel.accessAllowed ? 'block' : 'none';\n",
              "\n",
              "      async function convertToInteractive(key) {\n",
              "        const element = document.querySelector('#df-1ff3f561-2965-412f-ac75-786451a850e7');\n",
              "        const dataTable =\n",
              "          await google.colab.kernel.invokeFunction('convertToInteractive',\n",
              "                                                    [key], {});\n",
              "        if (!dataTable) return;\n",
              "\n",
              "        const docLinkHtml = 'Like what you see? Visit the ' +\n",
              "          '<a target=\"_blank\" href=https://colab.research.google.com/notebooks/data_table.ipynb>data table notebook</a>'\n",
              "          + ' to learn more about interactive tables.';\n",
              "        element.innerHTML = '';\n",
              "        dataTable['output_type'] = 'display_data';\n",
              "        await google.colab.output.renderOutput(dataTable, element);\n",
              "        const docLink = document.createElement('div');\n",
              "        docLink.innerHTML = docLinkHtml;\n",
              "        element.appendChild(docLink);\n",
              "      }\n",
              "    </script>\n",
              "  </div>\n",
              "\n",
              "\n",
              "<div id=\"df-b16426e6-1a63-4e87-8c34-12d969d42065\">\n",
              "  <button class=\"colab-df-quickchart\" onclick=\"quickchart('df-b16426e6-1a63-4e87-8c34-12d969d42065')\"\n",
              "            title=\"Suggest charts\"\n",
              "            style=\"display:none;\">\n",
              "\n",
              "<svg xmlns=\"http://www.w3.org/2000/svg\" height=\"24px\"viewBox=\"0 0 24 24\"\n",
              "     width=\"24px\">\n",
              "    <g>\n",
              "        <path d=\"M19 3H5c-1.1 0-2 .9-2 2v14c0 1.1.9 2 2 2h14c1.1 0 2-.9 2-2V5c0-1.1-.9-2-2-2zM9 17H7v-7h2v7zm4 0h-2V7h2v10zm4 0h-2v-4h2v4z\"/>\n",
              "    </g>\n",
              "</svg>\n",
              "  </button>\n",
              "\n",
              "<style>\n",
              "  .colab-df-quickchart {\n",
              "      --bg-color: #E8F0FE;\n",
              "      --fill-color: #1967D2;\n",
              "      --hover-bg-color: #E2EBFA;\n",
              "      --hover-fill-color: #174EA6;\n",
              "      --disabled-fill-color: #AAA;\n",
              "      --disabled-bg-color: #DDD;\n",
              "  }\n",
              "\n",
              "  [theme=dark] .colab-df-quickchart {\n",
              "      --bg-color: #3B4455;\n",
              "      --fill-color: #D2E3FC;\n",
              "      --hover-bg-color: #434B5C;\n",
              "      --hover-fill-color: #FFFFFF;\n",
              "      --disabled-bg-color: #3B4455;\n",
              "      --disabled-fill-color: #666;\n",
              "  }\n",
              "\n",
              "  .colab-df-quickchart {\n",
              "    background-color: var(--bg-color);\n",
              "    border: none;\n",
              "    border-radius: 50%;\n",
              "    cursor: pointer;\n",
              "    display: none;\n",
              "    fill: var(--fill-color);\n",
              "    height: 32px;\n",
              "    padding: 0;\n",
              "    width: 32px;\n",
              "  }\n",
              "\n",
              "  .colab-df-quickchart:hover {\n",
              "    background-color: var(--hover-bg-color);\n",
              "    box-shadow: 0 1px 2px rgba(60, 64, 67, 0.3), 0 1px 3px 1px rgba(60, 64, 67, 0.15);\n",
              "    fill: var(--button-hover-fill-color);\n",
              "  }\n",
              "\n",
              "  .colab-df-quickchart-complete:disabled,\n",
              "  .colab-df-quickchart-complete:disabled:hover {\n",
              "    background-color: var(--disabled-bg-color);\n",
              "    fill: var(--disabled-fill-color);\n",
              "    box-shadow: none;\n",
              "  }\n",
              "\n",
              "  .colab-df-spinner {\n",
              "    border: 2px solid var(--fill-color);\n",
              "    border-color: transparent;\n",
              "    border-bottom-color: var(--fill-color);\n",
              "    animation:\n",
              "      spin 1s steps(1) infinite;\n",
              "  }\n",
              "\n",
              "  @keyframes spin {\n",
              "    0% {\n",
              "      border-color: transparent;\n",
              "      border-bottom-color: var(--fill-color);\n",
              "      border-left-color: var(--fill-color);\n",
              "    }\n",
              "    20% {\n",
              "      border-color: transparent;\n",
              "      border-left-color: var(--fill-color);\n",
              "      border-top-color: var(--fill-color);\n",
              "    }\n",
              "    30% {\n",
              "      border-color: transparent;\n",
              "      border-left-color: var(--fill-color);\n",
              "      border-top-color: var(--fill-color);\n",
              "      border-right-color: var(--fill-color);\n",
              "    }\n",
              "    40% {\n",
              "      border-color: transparent;\n",
              "      border-right-color: var(--fill-color);\n",
              "      border-top-color: var(--fill-color);\n",
              "    }\n",
              "    60% {\n",
              "      border-color: transparent;\n",
              "      border-right-color: var(--fill-color);\n",
              "    }\n",
              "    80% {\n",
              "      border-color: transparent;\n",
              "      border-right-color: var(--fill-color);\n",
              "      border-bottom-color: var(--fill-color);\n",
              "    }\n",
              "    90% {\n",
              "      border-color: transparent;\n",
              "      border-bottom-color: var(--fill-color);\n",
              "    }\n",
              "  }\n",
              "</style>\n",
              "\n",
              "  <script>\n",
              "    async function quickchart(key) {\n",
              "      const quickchartButtonEl =\n",
              "        document.querySelector('#' + key + ' button');\n",
              "      quickchartButtonEl.disabled = true;  // To prevent multiple clicks.\n",
              "      quickchartButtonEl.classList.add('colab-df-spinner');\n",
              "      try {\n",
              "        const charts = await google.colab.kernel.invokeFunction(\n",
              "            'suggestCharts', [key], {});\n",
              "      } catch (error) {\n",
              "        console.error('Error during call to suggestCharts:', error);\n",
              "      }\n",
              "      quickchartButtonEl.classList.remove('colab-df-spinner');\n",
              "      quickchartButtonEl.classList.add('colab-df-quickchart-complete');\n",
              "    }\n",
              "    (() => {\n",
              "      let quickchartButtonEl =\n",
              "        document.querySelector('#df-b16426e6-1a63-4e87-8c34-12d969d42065 button');\n",
              "      quickchartButtonEl.style.display =\n",
              "        google.colab.kernel.accessAllowed ? 'block' : 'none';\n",
              "    })();\n",
              "  </script>\n",
              "</div>\n",
              "\n",
              "    </div>\n",
              "  </div>\n"
            ],
            "text/plain": [
              "     class             tweet_id         day      time  \\\n",
              "0  CONTROL  1437585042134421509  2021-09-14  01:12:37   \n",
              "1  CONTROL  1437577390071455751  2021-09-14  00:42:13   \n",
              "2  CONTROL  1437576525856100356  2021-09-14  00:38:47   \n",
              "3  CONTROL  1437567928497582084  2021-09-14  00:04:37   \n",
              "4  CONTROL  1437563058616946694  2021-09-13  23:45:16   \n",
              "\n",
              "                                               tweet  tweet_favorite_count  \\\n",
              "0  las ganas de meter un viaje con mi novio me co...                     4   \n",
              "1  @USUARIO mm no, pero qué se puede esperar de a...                     0   \n",
              "2                            @USUARIO y la de Disney                     0   \n",
              "3   @USUARIO y a vos quien te llamó pelotudo a pedal                     0   \n",
              "4  Que ganas de ir a la cancha para putear al dis...                     4   \n",
              "\n",
              "   tweet_retweet_count         tweet_source     user_id  user_followers_count  \\\n",
              "0                    3  Twitter for Android  2822905384                   701   \n",
              "1                    0  Twitter for Android  2822905384                   701   \n",
              "2                    0  Twitter for Android  2822905384                   701   \n",
              "3                    0  Twitter for Android  2822905384                   701   \n",
              "4                    1  Twitter for Android  2822905384                   701   \n",
              "\n",
              "   user_friends_count  user_listed_count  user_statuses_count  \n",
              "0                 597                  0                13700  \n",
              "1                 597                  0                13700  \n",
              "2                 597                  0                13700  \n",
              "3                 597                  0                13700  \n",
              "4                 597                  0                13700  "
            ]
          },
          "execution_count": 3,
          "metadata": {},
          "output_type": "execute_result"
        }
      ],
      "source": [
        "archivo_c = '/content/drive/MyDrive/Experimentación Python Tesis /Experimento por agrupación de usuarios/Usarios de control 2/User_control (1).csv'\n",
        "control = pd.read_csv(archivo_c, sep =',')\n",
        "control.head()"
      ]
    },
    {
      "cell_type": "markdown",
      "metadata": {
        "id": "7I0KbpBsDLMD"
      },
      "source": [
        "**PREPARACIÓN DE DATOS**"
      ]
    },
    {
      "cell_type": "markdown",
      "metadata": {
        "id": "A2424AfYDN7Y"
      },
      "source": [
        "*Cargar y limpiar*"
      ]
    },
    {
      "cell_type": "code",
      "execution_count": null,
      "metadata": {
        "id": "J-67yml1ImB8"
      },
      "outputs": [],
      "source": [
        "!pip install pyspellchecker\n",
        "!pip install spacy\n",
        "!python -m spacy download es_core_news_sm"
      ]
    },
    {
      "cell_type": "code",
      "execution_count": null,
      "metadata": {
        "colab": {
          "base_uri": "https://localhost:8080/"
        },
        "id": "UB37ChrOCyoT",
        "outputId": "97a5f823-d3d5-4051-f5aa-7f5a79bed97d"
      },
      "outputs": [
        {
          "name": "stderr",
          "output_type": "stream",
          "text": [
            "[nltk_data] Downloading package stopwords to /root/nltk_data...\n",
            "[nltk_data]   Unzipping corpora/stopwords.zip.\n",
            "[nltk_data] Downloading package punkt to /root/nltk_data...\n",
            "[nltk_data]   Unzipping tokenizers/punkt.zip.\n"
          ]
        },
        {
          "data": {
            "text/plain": [
              "True"
            ]
          },
          "execution_count": 5,
          "metadata": {},
          "output_type": "execute_result"
        }
      ],
      "source": [
        "import string\n",
        "import re\n",
        "import os\n",
        "from os import listdir\n",
        "from collections import Counter\n",
        "from nltk.corpus import stopwords\n",
        "import nltk\n",
        "nltk.download('stopwords')\n",
        "import nltk\n",
        "nltk.download('punkt')"
      ]
    },
    {
      "cell_type": "markdown",
      "metadata": {
        "id": "KxVGxamuXRIb"
      },
      "source": [
        "# limpiar texto y Crear Tokens"
      ]
    },
    {
      "cell_type": "code",
      "execution_count": null,
      "metadata": {
        "id": "12y4sbQ3EnQy"
      },
      "outputs": [],
      "source": [
        "import re\n",
        "import string\n",
        "import pandas as pd\n",
        "from nltk.corpus import stopwords\n",
        "from nltk.tokenize import word_tokenize\n",
        "\n",
        "def load_doc(filename):\n",
        "    try:\n",
        "        data = pd.read_csv(filename, delimiter='\\t')  # Indicamos el delimitador como '\\t' para TSV\n",
        "        return data\n",
        "    except Exception as e:\n",
        "        print(\"Error:\", e)\n",
        "        return None\n",
        "\n",
        "#Creamos un función de limpieza del texto y  los guarde en tokens indivicuales o lista de palabras\n",
        "def clean_doc(text):\n",
        "    # Eliminar hashtags\n",
        "    text = re.sub(r'#\\w+', '', text)\n",
        "\n",
        "    # Eliminar URLs o enlaces\n",
        "    text = re.sub(r'(https?://)?[a-zA-Z0-9]+\\.[a-zA-Z0-9]+\\S*', '', text)\n",
        "\n",
        "    # Eliminar nombres de usuarios de Twitter\n",
        "    text = re.sub(r'@\\w+', '', text)\n",
        "\n",
        "    # Eliminar Nombres propios\n",
        "    text = re.sub(r'\\b[A-Z][a-z]+\\b', '', text)\n",
        "\n",
        "    # Eliminar todos los caracteres especiales\n",
        "    text = re.sub(r'[^\\w\\s]+', '', text)\n",
        "\n",
        "    # Eliminar prefijos y números\n",
        "    text = re.sub(r'\\b\\w{1,2}\\b|\\d+', '', text)\n",
        "\n",
        "    # Eliminar palabras específicas\n",
        "    specific_words = ['retweet', 'retweets', 'hashtag', 'trending', 'mención', 'enlace', 'emoji', 'timeline', 'interacciones',\n",
        "                      'tuit', 'seguidores', 'notificaciones', 'seguir', 'favorito', 'perfil', 'tendencia', 'influencer',\n",
        "                      'compartir', 'actualización', 'explorar', 'seguir', 'comunidad', 'contenido', 'popular',\n",
        "                      'recomendar', 'experiencia', 'conectar', 'comentar', 'compartir', 'comunidad', 'actualización',\n",
        "                      'drk', 'followers', 'stats', 'for', 'new', 'little', 'unfollower', 'unfollowers', 'today', 'shit','twitter','nombre',\n",
        "                      'eric','story','great', 'short','squeeze','piggly','wiggly','hmv','even','follas','you','i','he','she',\n",
        "                      'it','we','they','the','and','that','these','those','tweet','followed','follower']\n",
        "    text = ' '.join([word for word in text.split() if word not in specific_words])\n",
        "\n",
        "    # Eliminar emojis\n",
        "    emojis = re.findall(r'[^\\w\\s,]', text)\n",
        "    cleaned_emojis = [emoji for emoji in emojis if emoji not in ['@', '#', '/', '?','¿','.','…','\"',':','“','!','¡','°','-',\"‘\",'’',\n",
        "                                                                 '=',';','(',')',\"'\",\"'\",'&','€','%','$','*','+','|', '”','🇦','🇷',',',\n",
        "                                                                 ', ','—','«',' »','»','« ','[, ]','[,]',',',', ','',' ',' ♀',' 🏽']]\n",
        "    for emoji in cleaned_emojis:\n",
        "        text = text.replace(emoji, '')\n",
        "\n",
        "    # Convertir el texto a minúsculas\n",
        "    text = text.lower()\n",
        "\n",
        "    # Eliminar signos de puntuación\n",
        "    text = re.sub(f\"[{re.escape(string.punctuation)}]\", \"\", text)\n",
        "\n",
        "    # Tokenización de palabras\n",
        "    tokens = word_tokenize(text)\n",
        "\n",
        "    # Eliminar palabras vacías en español\n",
        "    stop_words = set(stopwords.words('spanish'))\n",
        "    tokens = [word for word in tokens if not word in stop_words]\n",
        "\n",
        "    # Eliminar tokens de un solo carácter\n",
        "    tokens = [word for word in tokens if len(word) > 1]\n",
        "\n",
        "    return tokens\n"
      ]
    },
    {
      "cell_type": "markdown",
      "metadata": {
        "id": "inODpKOUMwR-"
      },
      "source": [
        "*Extraer y Definir vocabulario*"
      ]
    },
    {
      "cell_type": "code",
      "execution_count": null,
      "metadata": {
        "id": "tXmvwOvvZ3vh"
      },
      "outputs": [],
      "source": [
        "# Función para agregar tokens al vocabulario a partir de un archivo csv\n",
        "def add_doc_vocab_from(filename, vocab):\n",
        "    data = pd.read_csv(filename, sep=',')  # Especificamos el separador\n",
        "    tokens_list = data['tweet'].apply(clean_doc)\n",
        "    for tokens in tokens_list:\n",
        "        vocab.update(tokens)\n",
        "\n",
        "# Función para procesar documentos en un directorio a partir de archivos csv\n",
        "def process_docs_in_directory(directory, vocab):\n",
        "    for filename in os.listdir(directory):\n",
        "        if filename.endswith(\".csv\"):  # Verificamos si el archivo tiene extensión .csv\n",
        "            path = os.path.join(directory, filename)\n",
        "            add_doc_vocab_from(path, vocab)"
      ]
    },
    {
      "cell_type": "code",
      "execution_count": null,
      "metadata": {
        "colab": {
          "base_uri": "https://localhost:8080/"
        },
        "id": "H0eHTlzgV75o",
        "outputId": "3a0107a0-c60c-4c3a-b681-c2ced63c943d"
      },
      "outputs": [
        {
          "name": "stdout",
          "output_type": "stream",
          "text": [
            "Tokens totales: 80326\n",
            "los 50 Tokens más frecuentes\n",
            "[('httpurl', 31589), ('ser', 4345), ('bien', 4087), ('así', 3479), ('solo', 3139), ('quiero', 3132), ('ver', 3103), ('vida', 3087), ('día', 3084), ('hace', 2889), ('mejor', 2845), ('siempre', 2776), ('gente', 2763), ('hacer', 2703), ('tan', 2697), ('voy', 2693), ('vez', 2679), ('mas', 2621), ('ahora', 2512), ('hoy', 2342), ('años', 2323), ('puede', 2128), ('cosas', 2087), ('mal', 2076), ('amo', 2066), ('verdad', 1872), ('tener', 1861), ('puedo', 1791), ('menos', 1728), ('dos', 1640), ('nunca', 1630), ('mismo', 1624), ('gracias', 1556), ('cada', 1542), ('días', 1537), ('cómo', 1508), ('después', 1506), ('alguien', 1495), ('cuenta', 1493), ('bueno', 1477), ('tiempo', 1464), ('casa', 1429), ('veces', 1423), ('decir', 1403), ('mundo', 1398), ('creo', 1380), ('igual', 1368), ('nadie', 1360), ('personas', 1360), ('mierda', 1330)]\n"
          ]
        }
      ],
      "source": [
        "# Inicializar el contador de vocabulario\n",
        "vocab = Counter()\n",
        "# Procesar documentos en el directorio 'Control'\n",
        "process_docs_in_directory('/content/drive/MyDrive/Experimentación Python Tesis /Experimento por agrupación de usuarios/Usarios de control 2/', vocab)\n",
        "# Procesar documentos en el directorio 'Ansiedad'\n",
        "process_docs_in_directory('/content/drive/MyDrive/Experimentación Python Tesis /Experimento por agrupación de usuarios/Usuarios con ansiedad/', vocab)\n",
        "# Imprimir la longitud del vocabulario y los 50 tokens más comunes\n",
        "print(f'Tokens totales: {len(vocab)}')\n",
        "print('los 50 Tokens más frecuentes')\n",
        "print(vocab.most_common(50))\n"
      ]
    },
    {
      "cell_type": "code",
      "execution_count": null,
      "metadata": {
        "colab": {
          "base_uri": "https://localhost:8080/"
        },
        "id": "o8bdFaQaYnyP",
        "outputId": "acff89b5-6c2e-4670-ab8b-a5578a9367ee"
      },
      "outputs": [
        {
          "name": "stdout",
          "output_type": "stream",
          "text": [
            "10223\n"
          ]
        }
      ],
      "source": [
        "#Reducimos el numero de tokens eliminando Tokens que solo tengan 2 o menos frecuencia en las bases de datos\n",
        "umbral = 10 # elimanamos la palabras que tengan 50 o menos frecuencia\n",
        "tokens =[k for k,c in vocab.items() if c >= umbral]\n",
        "print(len(tokens))"
      ]
    },
    {
      "cell_type": "code",
      "execution_count": null,
      "metadata": {
        "id": "sFje3ll76saL"
      },
      "outputs": [],
      "source": [
        "# Función para guardar los tokens en una lista de palabras\n",
        "#guardar archivo preparado\n",
        "def save_list(lines, filename):\n",
        "  data = '\\n'.join(lines)\n",
        "  file = open(filename,'w')\n",
        "  file.write(data)\n",
        "  file.close()"
      ]
    },
    {
      "cell_type": "code",
      "execution_count": null,
      "metadata": {
        "colab": {
          "base_uri": "https://localhost:8080/"
        },
        "id": "tjY6I3B37hMA",
        "outputId": "b14d6a7b-011f-4364-fa15-ba711c240fc5"
      },
      "outputs": [
        {
          "name": "stdout",
          "output_type": "stream",
          "text": [
            "Vocabulario: 80326\n",
            "Vocabulario con tokens más frecuentes:10223\n"
          ]
        }
      ],
      "source": [
        "#Guardar los tokens en una lista de palabra o bolsa de palabras en un archivo llamdo vocab.txt\n",
        "import string\n",
        "import re\n",
        "from os import listdir\n",
        "from collections import Counter\n",
        "from nltk.corpus import stopwords\n",
        "\n",
        "# Inicializar el contador de vocabulario\n",
        "vocab = Counter()\n",
        "process_docs_in_directory('/content/drive/MyDrive/Experimentación Python Tesis /Experimento por agrupación de usuarios/Usarios de control 2/', vocab)\n",
        "# Procesar documentos en el directorio 'Ansiedad'\n",
        "process_docs_in_directory('/content/drive/MyDrive/Experimentación Python Tesis /Experimento por agrupación de usuarios/Usuarios con ansiedad/', vocab)\n",
        "print(f'Vocabulario: {len(vocab)}')\n",
        "umbral = 10 # elimanamos la palabras que tengan 10 o menos frecuencia\n",
        "tokens =[k for k,c in vocab.items() if c >= umbral]\n",
        "print(f'Vocabulario con tokens más frecuentes:{len(tokens)}')\n",
        "\n",
        "#Guardar la lista de Vocabulario con los tokens más frecuentes\n",
        "save_list(tokens, '/content/drive/MyDrive/Experimentación Python Tesis /Experimento por agrupación de usuarios/vocab.txt')\n"
      ]
    },
    {
      "cell_type": "code",
      "execution_count": null,
      "metadata": {
        "id": "ALD1qAQf--Bs"
      },
      "outputs": [],
      "source": [
        "archivo = open(\"/content/drive/MyDrive/Experimentación Python Tesis /Experimento por agrupación de usuarios/vocab.txt\")\n",
        "print(archivo.read())"
      ]
    },
    {
      "cell_type": "code",
      "execution_count": null,
      "metadata": {
        "colab": {
          "base_uri": "https://localhost:8080/"
        },
        "id": "9naDX9fBiVzH",
        "outputId": "ba2371d5-be5d-47cf-ffee-bbe25a1eaf1f"
      },
      "outputs": [
        {
          "name": "stdout",
          "output_type": "stream",
          "text": [
            "Vocabulario: 80326\n",
            "Nuevo Vocabulario con tokens más frecuentes: 10223\n"
          ]
        }
      ],
      "source": [
        "# Leer los tokens del archivo\n",
        "with open(\"/content/drive/MyDrive/Experimentación Python Tesis /Experimento por agrupación de usuarios/vocab.txt\", \"r\") as archivo:\n",
        "    tokens = archivo.read().splitlines()\n",
        "\n",
        "# Eliminar tokens duplicados y dejar uno de ellos\n",
        "tokens_sin_duplicados = list(set(tokens))\n",
        "\n",
        "# Guardar los tokens sin duplicados en el mismo archivo\n",
        "with open(\"/content/drive/MyDrive/Experimentación Python Tesis /Experimento por agrupación de usuarios/vocab.txt\", \"w\") as archivo:\n",
        "    for token in tokens_sin_duplicados:\n",
        "        archivo.write(token + \"\\n\")\n",
        "\n",
        "print(f'Vocabulario: {len(vocab)}')\n",
        "\n",
        "# Imprimir el número de tokens sin duplicados\n",
        "print(\"Nuevo Vocabulario con tokens más frecuentes:\", len(tokens_sin_duplicados))\n"
      ]
    },
    {
      "cell_type": "code",
      "execution_count": null,
      "metadata": {
        "id": "xClT_zBLkUF_"
      },
      "outputs": [],
      "source": [
        "# Imprimir los tokens sin duplicados\n",
        "with open(\"/content/drive/MyDrive/Experimentación Python Tesis /Experimento por agrupación de usuarios/vocab.txt\", \"r\") as archivo:\n",
        "    print(archivo.read())"
      ]
    },
    {
      "cell_type": "code",
      "execution_count": null,
      "metadata": {
        "id": "HTrH6He6dI6v"
      },
      "outputs": [],
      "source": [
        "import pandas as pd\n",
        "import spacy\n",
        "from spacy.lang.es import Spanish\n",
        "from nltk.corpus import stopwords\n",
        "# Cargar modelo de spaCy\n",
        "nlp = spacy.load(\"es_core_news_sm\")\n",
        "# Función para lematizar y extraer términos\n",
        "\n",
        "# Cargar stopwords en español\n",
        "stopwords_es = set(stopwords.words('spanish'))\n",
        "\n",
        "def extractTerms(text):\n",
        "    # Tokenización y lematización con spaCy\n",
        "    doc = nlp(text)\n",
        "    lemmatized_terms = [token.lemma_ for token in doc if token.text.lower() not in stopwords_es]\n",
        "\n",
        "    return lemmatized_terms"
      ]
    },
    {
      "cell_type": "markdown",
      "metadata": {
        "id": "EfuRJnJGlv7a"
      },
      "source": [
        "**Representación de bolsa de palabras (representación vectorial)**"
      ]
    },
    {
      "cell_type": "markdown",
      "metadata": {
        "id": "GhLs5dqjmYCc"
      },
      "source": [
        "*Revisiones a Lineas de Tokens*"
      ]
    },
    {
      "cell_type": "code",
      "execution_count": null,
      "metadata": {
        "id": "-1y3UNcplQgV"
      },
      "outputs": [],
      "source": [
        "def doc_to_line(filename, vocab):\n",
        "  doc = load_doc(filename)\n",
        "  tokens = clean_doc(doc)\n",
        "  tokens = [w for w in tokens if w in vocab]\n",
        "  return ' '.join(tokens)"
      ]
    },
    {
      "cell_type": "code",
      "execution_count": null,
      "metadata": {
        "id": "U9wHwN7TnrKw"
      },
      "outputs": [],
      "source": [
        "import os\n",
        "import pandas as pd\n",
        "from nltk.classify.senna import path\n",
        "\n",
        "def process_docs(directory, vocab):\n",
        "    lines = []\n",
        "    for filename in os.listdir(directory):\n",
        "        if not filename.endswith('.csv'):\n",
        "            continue\n",
        "        path = os.path.join(directory, filename)\n",
        "\n",
        "        # Cargar el archivo en un DataFrame\n",
        "        data = pd.read_csv(path, sep=',')  # Usamos sep=',' para especificar que el archivo es tsv\n",
        "\n",
        "        # Procesar la columna TWEET_TEXT para obtener los tokens\n",
        "        tokens_list = data['tweet'].apply(clean_doc)\n",
        "        #tokens_list = data['TWEET_TEXT'].apply(extractTerms)\n",
        "\n",
        "        for tokens in tokens_list:\n",
        "            line = ' '.join(tokens)\n",
        "            lines.append(line)\n",
        "\n",
        "    return lines"
      ]
    },
    {
      "cell_type": "code",
      "execution_count": null,
      "metadata": {
        "id": "fTwpI2z8oABs"
      },
      "outputs": [],
      "source": [
        "def load_clean_dataset(vocab):\n",
        "  Cont = process_docs('/content/drive/MyDrive/Experimentación Python Tesis /Experimento por agrupación de usuarios/Usarios de control 2/',vocab)\n",
        "  Ans = process_docs('/content/drive/MyDrive/Experimentación Python Tesis /Experimento por agrupación de usuarios/Usuarios con ansiedad/',vocab)\n",
        "\n",
        "  docs = Ans + Cont\n",
        "\n",
        "  labels = [1 for _ in range(len(Ans))] + [0 for _ in range(len(Cont))]\n",
        "  return docs, labels"
      ]
    },
    {
      "cell_type": "code",
      "execution_count": null,
      "metadata": {
        "id": "VabYxNeVo5e9"
      },
      "outputs": [],
      "source": [
        "vocab_filename = '/content/drive/MyDrive/Experimentación Python Tesis /Experimento por agrupación de usuarios/vocab.txt'\n",
        "with open(vocab_filename, 'r') as file:\n",
        "    vocab_content = file.read()\n",
        "\n",
        "vocab = vocab_content.split()\n",
        "vocab = set(vocab)\n",
        "print(vocab)\n"
      ]
    },
    {
      "cell_type": "markdown",
      "metadata": {
        "id": "ba4tH-6Tp8IT"
      },
      "source": [
        "*Revisiones de los tweets a vectores de bolsa de palabras*"
      ]
    },
    {
      "cell_type": "code",
      "execution_count": null,
      "metadata": {
        "colab": {
          "base_uri": "https://localhost:8080/"
        },
        "id": "D6rbIJDep7jj",
        "outputId": "e048ee2c-e20d-4e61-f793-5ca297be6c5a"
      },
      "outputs": [
        {
          "name": "stdout",
          "output_type": "stream",
          "text": [
            "131894 131894\n"
          ]
        }
      ],
      "source": [
        "# implementamos todo pero usando directamente las funciones creadas\n",
        "import string\n",
        "import re\n",
        "from os import listdir\n",
        "from collections import Counter\n",
        "from nltk.corpus import stopwords\n",
        "\n",
        "docs, labels = load_clean_dataset(vocab)\n",
        "print(len(docs), len(labels))"
      ]
    },
    {
      "cell_type": "markdown",
      "metadata": {
        "id": "Z3b-8ljcq-k3"
      },
      "source": [
        "**Convertir y tranformar el documento a vectores codigicados**"
      ]
    },
    {
      "cell_type": "code",
      "execution_count": null,
      "metadata": {
        "id": "1CVD2aFtq5N7"
      },
      "outputs": [],
      "source": [
        "from keras.preprocessing.text import Tokenizer\n",
        "def create_tokenizer(lines):\n",
        "  tokenizer = Tokenizer()\n",
        "  tokenizer.fit_on_texts(lines)\n",
        "  return tokenizer"
      ]
    },
    {
      "cell_type": "code",
      "execution_count": null,
      "metadata": {
        "id": "2EjjOY4CtKGF"
      },
      "outputs": [],
      "source": [
        "def process_docs(directory, vocab, is_train):\n",
        "    lines = list()\n",
        "    for filename in os.listdir(directory):\n",
        "        if is_train and filename.startswith('(72)'):\n",
        "            continue  # Omitir archivos de prueba en el conjunto de entrenamiento\n",
        "        if not is_train and not filename.startswith('(72)'):\n",
        "            continue  # Omitir archivos de entrenamiento en el conjunto de prueba\n",
        "        path = os.path.join(directory, filename)\n",
        "        doc = load_doc(path)\n",
        "        line = doc_to_line(doc, vocab)\n",
        "        lines.append(line)\n",
        "    return lines"
      ]
    },
    {
      "cell_type": "code",
      "execution_count": null,
      "metadata": {
        "id": "lmjhudEytddp"
      },
      "outputs": [],
      "source": [
        "import array\n",
        "#Del mismo modo, la función load_clean_dataset() debe actualizarse para cargar el entrenamiento o prueba\n",
        "# y asegúrarse de que devuelva una matriz Numpy\n",
        "def load_clean_dataset(vocab, is_train):\n",
        "  Ans = process_docs('/content/drive/MyDrive/Experimentación Python Tesis /Experimento por agrupación de usuarios/Usuarios con ansiedad/', vocab, is_train)\n",
        "  Cont = process_docs('/content/drive/MyDrive/Experimentación Python Tesis /Experimento por agrupación de usuarios/Usarios de control 2/', vocab, is_train)\n",
        "  docs = Ans + Cont\n",
        "  labels = np.array([1 for _ in range(len(Ans))] + [0 for _ in range(len(Cont))])\n",
        "  return docs, labels"
      ]
    },
    {
      "cell_type": "code",
      "execution_count": null,
      "metadata": {
        "id": "F7IIABcBuG8p"
      },
      "outputs": [],
      "source": [
        "def process_docs(directory, vocab, is_train):\n",
        "    lines = list()\n",
        "    for filename in os.listdir(directory):\n",
        "        path = os.path.join(directory, filename)\n",
        "        if os.path.isfile(path):  # Verificar si es un archivo antes de procesarlo\n",
        "            doc = load_doc(path)\n",
        "            line = ' '.join(clean_doc(doc))\n",
        "            lines.append(line)\n",
        "    return lines\n",
        "\n",
        "def load_doc(filename):\n",
        "    with open(filename, 'r') as file:\n",
        "        text = file.read()\n",
        "    return text\n"
      ]
    },
    {
      "cell_type": "code",
      "execution_count": null,
      "metadata": {
        "colab": {
          "background_save": true
        },
        "id": "ouS-gkQhuH0e"
      },
      "outputs": [],
      "source": [
        "import string\n",
        "import re\n",
        "from os import listdir\n",
        "import numpy as np\n",
        "from numpy import array\n",
        "from nltk.corpus import stopwords\n",
        "from keras.preprocessing.text import Tokenizer\n",
        "from sklearn.model_selection import train_test_split\n",
        "\n",
        "vocab_filename = '/content/drive/MyDrive/Experimentación Python Tesis /Experimento por agrupación de usuarios/vocab.txt'\n",
        "vocab = load_doc(vocab_filename)\n",
        "vocab = set(vocab.split())\n",
        "\n",
        "train_docs, y_train = load_clean_dataset(vocab, True)\n",
        "test_docs, y_test = load_clean_dataset(vocab, False)\n",
        "\n",
        "tokenizer = create_tokenizer(train_docs)\n",
        "x_train = tokenizer.texts_to_matrix(train_docs, mode='freq')\n",
        "x_test = tokenizer.texts_to_matrix(test_docs, mode='freq')\n"
      ]
    },
    {
      "cell_type": "code",
      "execution_count": null,
      "metadata": {
        "colab": {
          "base_uri": "https://localhost:8080/"
        },
        "id": "Ge0Guoyfarrs",
        "outputId": "adbc5fea-f64b-4f95-d93f-b48e43ca5872"
      },
      "outputs": [
        {
          "name": "stdout",
          "output_type": "stream",
          "text": [
            "(180, 84489)\n",
            "(180, 84489)\n",
            "(180,)\n",
            "(180,)\n"
          ]
        }
      ],
      "source": [
        "print(x_train.shape)\n",
        "print(x_test.shape)\n",
        "print(y_train.shape)\n",
        "print(y_test.shape)"
      ]
    },
    {
      "cell_type": "markdown",
      "metadata": {
        "id": "42176aZnCQAz"
      },
      "source": [
        "**Modelo análisis de texto**"
      ]
    },
    {
      "cell_type": "markdown",
      "metadata": {
        "id": "biZew38mWzN_"
      },
      "source": [
        "#Red neuronal"
      ]
    },
    {
      "cell_type": "code",
      "execution_count": null,
      "metadata": {
        "id": "5V6mldBLWyk5"
      },
      "outputs": [],
      "source": [
        "#percertron multicapa\n",
        "from keras.models import Sequential\n",
        "from keras.layers import Dense\n",
        "from keras.utils import plot_model\n",
        "def Rn_model(n_words):\n",
        "  model = Sequential()\n",
        "  model.add(Dense(150, input_shape = (n_words, ), activation='relu'))\n",
        "  model.add(Dense(1, activation='sigmoid'))\n",
        "\n",
        "  model.compile(loss='binary_crossentropy', optimizer = 'adam', metrics =['accuracy'])\n",
        "  model.summary()\n",
        "  plot_model(model, to_file='model.png', show_shapes=True)\n",
        "  return model"
      ]
    },
    {
      "cell_type": "code",
      "execution_count": null,
      "metadata": {
        "colab": {
          "base_uri": "https://localhost:8080/"
        },
        "id": "Uj2etsz3XKYs",
        "outputId": "a59edcc1-2a2f-4f4d-9a13-23fe925960b4"
      },
      "outputs": [
        {
          "name": "stdout",
          "output_type": "stream",
          "text": [
            "Model: \"sequential\"\n",
            "_________________________________________________________________\n",
            " Layer (type)                Output Shape              Param #   \n",
            "=================================================================\n",
            " dense (Dense)               (None, 150)               12673500  \n",
            "                                                                 \n",
            " dense_1 (Dense)             (None, 1)                 151       \n",
            "                                                                 \n",
            "=================================================================\n",
            "Total params: 12673651 (48.35 MB)\n",
            "Trainable params: 12673651 (48.35 MB)\n",
            "Non-trainable params: 0 (0.00 Byte)\n",
            "_________________________________________________________________\n",
            "Epoch 1/10\n",
            "6/6 - 1s - loss: 0.6916 - accuracy: 0.5500 - 1s/epoch - 212ms/step\n",
            "Epoch 2/10\n",
            "6/6 - 0s - loss: 0.6866 - accuracy: 0.9944 - 490ms/epoch - 82ms/step\n",
            "Epoch 3/10\n",
            "6/6 - 1s - loss: 0.6812 - accuracy: 0.9944 - 500ms/epoch - 83ms/step\n",
            "Epoch 4/10\n",
            "6/6 - 0s - loss: 0.6751 - accuracy: 0.9444 - 488ms/epoch - 81ms/step\n",
            "Epoch 5/10\n",
            "6/6 - 0s - loss: 0.6680 - accuracy: 0.9500 - 483ms/epoch - 81ms/step\n",
            "Epoch 6/10\n",
            "6/6 - 0s - loss: 0.6599 - accuracy: 0.9889 - 494ms/epoch - 82ms/step\n",
            "Epoch 7/10\n",
            "6/6 - 0s - loss: 0.6506 - accuracy: 0.9722 - 460ms/epoch - 77ms/step\n",
            "Epoch 8/10\n",
            "6/6 - 0s - loss: 0.6403 - accuracy: 0.9556 - 457ms/epoch - 76ms/step\n",
            "Epoch 9/10\n",
            "6/6 - 0s - loss: 0.6292 - accuracy: 0.9611 - 454ms/epoch - 76ms/step\n",
            "Epoch 10/10\n",
            "6/6 - 0s - loss: 0.6162 - accuracy: 0.9833 - 441ms/epoch - 74ms/step\n"
          ]
        }
      ],
      "source": [
        "n_words = x_test.shape[1]\n",
        "model_r = Rn_model(n_words)\n",
        "\n",
        "model_r.fit(x_train, y_train, epochs=10, verbose=2)\n",
        "loss, acc = model_r.evaluate(x_test, y_test, verbose=0)\n",
        "\n"
      ]
    },
    {
      "cell_type": "code",
      "execution_count": null,
      "metadata": {
        "colab": {
          "base_uri": "https://localhost:8080/"
        },
        "id": "9tqasID-XbcG",
        "outputId": "52d5c4cc-262d-4acb-93eb-e51731c17de4"
      },
      "outputs": [
        {
          "name": "stdout",
          "output_type": "stream",
          "text": [
            "accuracy en test: 98.333335\n"
          ]
        }
      ],
      "source": [
        "print('accuracy en test: %f' % (acc*100))"
      ]
    },
    {
      "cell_type": "code",
      "execution_count": null,
      "metadata": {
        "id": "zbLzLLAcXcUQ"
      },
      "outputs": [],
      "source": [
        "def prepar_data(train_docs, test_docs, model_r):\n",
        "  tokenizer= Tokenizer\n",
        "  tokenizer = create_tokenizer(train_docs)\n",
        "  x_train = tokenizer.texts_to_matrix(train_docs, mode='freq')\n",
        "  x_test = tokenizer.texts_to_matrix(test_docs, mode='freq')\n",
        "  return x_train, x_test"
      ]
    },
    {
      "cell_type": "code",
      "execution_count": null,
      "metadata": {
        "id": "bp0azX7MX_nY"
      },
      "outputs": [],
      "source": [
        "def predict_depression_r(tweet, vocab, tokenizer, model_r):\n",
        "    tokens = clean_doc(tweet)\n",
        "    tokens = [w for w in tokens if w in vocab]\n",
        "    line = ' '.join(tokens)\n",
        "    encoded = tokenizer.texts_to_matrix([line], mode='binary')\n",
        "    yhat = model_r.predict(encoded, verbose=0)\n",
        "    porcentaje_dep = yhat[0, 0]\n",
        "\n",
        "    if round(porcentaje_dep) == 0:\n",
        "        return \"Control\", (1 - porcentaje_dep)\n",
        "    return \"Ansiedad\", porcentaje_dep"
      ]
    },
    {
      "cell_type": "code",
      "execution_count": null,
      "metadata": {
        "id": "mvWsv2RAYdTL"
      },
      "outputs": [],
      "source": [
        "import os\n",
        "import joblib\n",
        "import numpy as np\n",
        "from sklearn.metrics import accuracy_score, precision_score, recall_score, f1_score\n",
        "from sklearn.model_selection import train_test_split\n",
        "\n",
        "from sklearn.model_selection import StratifiedKFold\n",
        "from sklearn.model_selection import cross_val_score\n",
        "from sklearn.metrics import make_scorer\n",
        "\n",
        "# Cargar los datos limpios (entrenamiento y prueba)\n",
        "vocab_filename = '/content/drive/MyDrive/Experimentación Python Tesis /Experimento por agrupación de usuarios/vocab.txt'\n",
        "vocab = load_doc(vocab_filename)\n",
        "vocab = set(vocab.split())\n",
        "\n",
        "train_docs, y_train = load_clean_dataset(vocab, True)\n",
        "test_docs, y_test = load_clean_dataset(vocab, False)\n",
        "\n",
        "tokenizer = create_tokenizer(train_docs)\n",
        "x_train = tokenizer.texts_to_matrix(train_docs, mode='binary')\n",
        "x_test = tokenizer.texts_to_matrix(test_docs, mode='binary')\n",
        "\n",
        "n_words = x_test.shape[1]\n",
        "\n",
        "# Dividir los datos en conjuntos de entrenamiento (70%) y validación (30%)\n",
        "X_train, X_val, y_train, y_val = train_test_split(x_train, y_train, test_size=0.3, random_state=42)\n"
      ]
    },
    {
      "cell_type": "code",
      "execution_count": null,
      "metadata": {
        "colab": {
          "base_uri": "https://localhost:8080/"
        },
        "id": "G8-gpxN1gcMM",
        "outputId": "1d278cf1-85d3-4336-de7b-83826df7e0f2"
      },
      "outputs": [
        {
          "name": "stdout",
          "output_type": "stream",
          "text": [
            "(180, 84489)\n",
            "(54, 84489)\n",
            "(126,)\n",
            "(54,)\n"
          ]
        }
      ],
      "source": [
        "print(x_train.shape)\n",
        "print(X_val.shape)\n",
        "print(y_train.shape)\n",
        "print(y_val.shape)"
      ]
    },
    {
      "cell_type": "code",
      "execution_count": null,
      "metadata": {
        "colab": {
          "base_uri": "https://localhost:8080/"
        },
        "id": "A76ubucGY005",
        "outputId": "27180ad7-1dcb-40c6-c87c-51afed48e848"
      },
      "outputs": [
        {
          "name": "stdout",
          "output_type": "stream",
          "text": [
            "Epoch 1/100\n",
            "3/3 [==============================] - 2s 265ms/step - loss: 0.8956 - accuracy: 0.6032 - val_loss: 1.3772 - val_accuracy: 0.5556\n",
            "Epoch 2/100\n",
            "3/3 [==============================] - 1s 184ms/step - loss: 0.4190 - accuracy: 0.8730 - val_loss: 2.6150 - val_accuracy: 0.4630\n",
            "Epoch 3/100\n",
            "3/3 [==============================] - 1s 187ms/step - loss: 0.0510 - accuracy: 0.9921 - val_loss: 0.6131 - val_accuracy: 0.7407\n",
            "Epoch 4/100\n",
            "3/3 [==============================] - 1s 187ms/step - loss: 0.0039 - accuracy: 1.0000 - val_loss: 0.3775 - val_accuracy: 0.8148\n",
            "Epoch 5/100\n",
            "3/3 [==============================] - 1s 179ms/step - loss: 0.0080 - accuracy: 1.0000 - val_loss: 0.7507 - val_accuracy: 0.7778\n",
            "Epoch 6/100\n",
            "3/3 [==============================] - 1s 185ms/step - loss: 0.0069 - accuracy: 1.0000 - val_loss: 0.9162 - val_accuracy: 0.7778\n",
            "Epoch 7/100\n",
            "3/3 [==============================] - 1s 189ms/step - loss: 0.0035 - accuracy: 1.0000 - val_loss: 0.9050 - val_accuracy: 0.7778\n",
            "Epoch 8/100\n",
            "3/3 [==============================] - 1s 188ms/step - loss: 0.0019 - accuracy: 1.0000 - val_loss: 0.7947 - val_accuracy: 0.7778\n",
            "Epoch 9/100\n",
            "3/3 [==============================] - 1s 184ms/step - loss: 6.2831e-04 - accuracy: 1.0000 - val_loss: 0.6932 - val_accuracy: 0.8148\n",
            "Epoch 10/100\n",
            "3/3 [==============================] - 1s 188ms/step - loss: 1.9076e-04 - accuracy: 1.0000 - val_loss: 0.6203 - val_accuracy: 0.8333\n",
            "Epoch 11/100\n",
            "3/3 [==============================] - 1s 194ms/step - loss: 1.3159e-04 - accuracy: 1.0000 - val_loss: 0.5707 - val_accuracy: 0.8519\n",
            "Epoch 12/100\n",
            "3/3 [==============================] - 1s 199ms/step - loss: 8.9262e-05 - accuracy: 1.0000 - val_loss: 0.5355 - val_accuracy: 0.8519\n",
            "Epoch 13/100\n",
            "3/3 [==============================] - 1s 202ms/step - loss: 6.9293e-05 - accuracy: 1.0000 - val_loss: 0.5097 - val_accuracy: 0.8519\n",
            "Epoch 14/100\n",
            "3/3 [==============================] - 1s 204ms/step - loss: 4.0816e-05 - accuracy: 1.0000 - val_loss: 0.4910 - val_accuracy: 0.8333\n",
            "Epoch 15/100\n",
            "3/3 [==============================] - 1s 197ms/step - loss: 4.7853e-05 - accuracy: 1.0000 - val_loss: 0.4775 - val_accuracy: 0.8333\n",
            "Epoch 16/100\n",
            "3/3 [==============================] - 1s 198ms/step - loss: 3.4459e-05 - accuracy: 1.0000 - val_loss: 0.4677 - val_accuracy: 0.8333\n",
            "Epoch 17/100\n",
            "3/3 [==============================] - 1s 201ms/step - loss: 3.6891e-05 - accuracy: 1.0000 - val_loss: 0.4605 - val_accuracy: 0.8333\n",
            "Epoch 18/100\n",
            "3/3 [==============================] - 1s 205ms/step - loss: 2.9293e-05 - accuracy: 1.0000 - val_loss: 0.4552 - val_accuracy: 0.8333\n",
            "Epoch 19/100\n",
            "3/3 [==============================] - 1s 201ms/step - loss: 2.0172e-05 - accuracy: 1.0000 - val_loss: 0.4512 - val_accuracy: 0.8333\n",
            "Epoch 20/100\n",
            "3/3 [==============================] - 1s 189ms/step - loss: 3.7112e-05 - accuracy: 1.0000 - val_loss: 0.4481 - val_accuracy: 0.8519\n",
            "Epoch 21/100\n",
            "3/3 [==============================] - 1s 180ms/step - loss: 2.4972e-05 - accuracy: 1.0000 - val_loss: 0.4455 - val_accuracy: 0.8519\n",
            "Epoch 22/100\n",
            "3/3 [==============================] - 1s 180ms/step - loss: 3.5261e-05 - accuracy: 1.0000 - val_loss: 0.4435 - val_accuracy: 0.8519\n",
            "Epoch 23/100\n",
            "3/3 [==============================] - 1s 182ms/step - loss: 1.0793e-05 - accuracy: 1.0000 - val_loss: 0.4418 - val_accuracy: 0.8519\n",
            "Epoch 24/100\n",
            "3/3 [==============================] - 1s 176ms/step - loss: 2.1418e-05 - accuracy: 1.0000 - val_loss: 0.4404 - val_accuracy: 0.8519\n",
            "Epoch 25/100\n",
            "3/3 [==============================] - 1s 180ms/step - loss: 1.0352e-05 - accuracy: 1.0000 - val_loss: 0.4393 - val_accuracy: 0.8519\n",
            "Epoch 26/100\n",
            "3/3 [==============================] - 1s 181ms/step - loss: 1.9016e-05 - accuracy: 1.0000 - val_loss: 0.4384 - val_accuracy: 0.8333\n",
            "Epoch 27/100\n",
            "3/3 [==============================] - 1s 181ms/step - loss: 1.9326e-05 - accuracy: 1.0000 - val_loss: 0.4376 - val_accuracy: 0.8333\n",
            "Epoch 28/100\n",
            "3/3 [==============================] - 1s 174ms/step - loss: 1.2643e-05 - accuracy: 1.0000 - val_loss: 0.4370 - val_accuracy: 0.8333\n",
            "Epoch 29/100\n",
            "3/3 [==============================] - 1s 180ms/step - loss: 3.6339e-05 - accuracy: 1.0000 - val_loss: 0.4364 - val_accuracy: 0.8333\n",
            "Epoch 30/100\n",
            "3/3 [==============================] - 1s 178ms/step - loss: 2.4585e-05 - accuracy: 1.0000 - val_loss: 0.4357 - val_accuracy: 0.8333\n",
            "Epoch 31/100\n",
            "3/3 [==============================] - 1s 181ms/step - loss: 1.7727e-05 - accuracy: 1.0000 - val_loss: 0.4352 - val_accuracy: 0.8333\n",
            "Epoch 32/100\n",
            "3/3 [==============================] - 1s 180ms/step - loss: 1.5912e-05 - accuracy: 1.0000 - val_loss: 0.4347 - val_accuracy: 0.8333\n",
            "Epoch 33/100\n",
            "3/3 [==============================] - 1s 180ms/step - loss: 1.8685e-05 - accuracy: 1.0000 - val_loss: 0.4341 - val_accuracy: 0.8333\n",
            "Epoch 34/100\n",
            "3/3 [==============================] - 1s 181ms/step - loss: 8.9478e-06 - accuracy: 1.0000 - val_loss: 0.4337 - val_accuracy: 0.8333\n",
            "Epoch 35/100\n",
            "3/3 [==============================] - 1s 181ms/step - loss: 1.4296e-05 - accuracy: 1.0000 - val_loss: 0.4332 - val_accuracy: 0.8519\n",
            "Epoch 36/100\n",
            "3/3 [==============================] - 1s 183ms/step - loss: 8.4696e-06 - accuracy: 1.0000 - val_loss: 0.4327 - val_accuracy: 0.8704\n",
            "Epoch 37/100\n",
            "3/3 [==============================] - 1s 179ms/step - loss: 2.2431e-05 - accuracy: 1.0000 - val_loss: 0.4322 - val_accuracy: 0.8704\n",
            "Epoch 38/100\n",
            "3/3 [==============================] - 1s 176ms/step - loss: 1.5693e-05 - accuracy: 1.0000 - val_loss: 0.4317 - val_accuracy: 0.8704\n",
            "Epoch 39/100\n",
            "3/3 [==============================] - 1s 176ms/step - loss: 1.1761e-05 - accuracy: 1.0000 - val_loss: 0.4312 - val_accuracy: 0.8704\n",
            "Epoch 40/100\n",
            "3/3 [==============================] - 1s 198ms/step - loss: 2.0607e-05 - accuracy: 1.0000 - val_loss: 0.4306 - val_accuracy: 0.8704\n",
            "Epoch 41/100\n",
            "3/3 [==============================] - 1s 198ms/step - loss: 2.0573e-05 - accuracy: 1.0000 - val_loss: 0.4300 - val_accuracy: 0.8704\n",
            "Epoch 42/100\n",
            "3/3 [==============================] - 1s 196ms/step - loss: 1.2536e-05 - accuracy: 1.0000 - val_loss: 0.4294 - val_accuracy: 0.8704\n",
            "Epoch 43/100\n",
            "3/3 [==============================] - 1s 201ms/step - loss: 9.3614e-06 - accuracy: 1.0000 - val_loss: 0.4289 - val_accuracy: 0.8704\n",
            "Epoch 44/100\n",
            "3/3 [==============================] - 1s 200ms/step - loss: 1.3720e-05 - accuracy: 1.0000 - val_loss: 0.4285 - val_accuracy: 0.8704\n",
            "Epoch 45/100\n",
            "3/3 [==============================] - 1s 197ms/step - loss: 1.2818e-05 - accuracy: 1.0000 - val_loss: 0.4281 - val_accuracy: 0.8704\n",
            "Epoch 46/100\n",
            "3/3 [==============================] - 1s 195ms/step - loss: 9.6968e-06 - accuracy: 1.0000 - val_loss: 0.4279 - val_accuracy: 0.8704\n",
            "Epoch 47/100\n",
            "3/3 [==============================] - 1s 204ms/step - loss: 9.8423e-06 - accuracy: 1.0000 - val_loss: 0.4276 - val_accuracy: 0.8704\n",
            "Epoch 48/100\n",
            "3/3 [==============================] - 1s 204ms/step - loss: 7.4760e-06 - accuracy: 1.0000 - val_loss: 0.4273 - val_accuracy: 0.8704\n",
            "Epoch 49/100\n",
            "3/3 [==============================] - 1s 208ms/step - loss: 8.6523e-06 - accuracy: 1.0000 - val_loss: 0.4271 - val_accuracy: 0.8704\n",
            "Epoch 50/100\n",
            "3/3 [==============================] - 1s 186ms/step - loss: 8.0355e-06 - accuracy: 1.0000 - val_loss: 0.4268 - val_accuracy: 0.8704\n",
            "Epoch 51/100\n",
            "3/3 [==============================] - 1s 178ms/step - loss: 1.0886e-05 - accuracy: 1.0000 - val_loss: 0.4265 - val_accuracy: 0.8704\n",
            "Epoch 52/100\n",
            "3/3 [==============================] - 1s 179ms/step - loss: 1.3628e-05 - accuracy: 1.0000 - val_loss: 0.4263 - val_accuracy: 0.8704\n",
            "Epoch 53/100\n",
            "3/3 [==============================] - 1s 180ms/step - loss: 1.0181e-05 - accuracy: 1.0000 - val_loss: 0.4262 - val_accuracy: 0.8704\n",
            "Epoch 54/100\n",
            "3/3 [==============================] - 1s 183ms/step - loss: 9.4041e-06 - accuracy: 1.0000 - val_loss: 0.4260 - val_accuracy: 0.8704\n",
            "Epoch 55/100\n",
            "3/3 [==============================] - 1s 178ms/step - loss: 7.3552e-06 - accuracy: 1.0000 - val_loss: 0.4258 - val_accuracy: 0.8704\n",
            "Epoch 56/100\n",
            "3/3 [==============================] - 1s 182ms/step - loss: 9.8339e-06 - accuracy: 1.0000 - val_loss: 0.4256 - val_accuracy: 0.8704\n",
            "Epoch 57/100\n",
            "3/3 [==============================] - 1s 178ms/step - loss: 5.5588e-06 - accuracy: 1.0000 - val_loss: 0.4253 - val_accuracy: 0.8704\n",
            "Epoch 58/100\n",
            "3/3 [==============================] - 1s 182ms/step - loss: 7.8612e-06 - accuracy: 1.0000 - val_loss: 0.4251 - val_accuracy: 0.8704\n",
            "Epoch 59/100\n",
            "3/3 [==============================] - 1s 183ms/step - loss: 1.0697e-05 - accuracy: 1.0000 - val_loss: 0.4249 - val_accuracy: 0.8704\n",
            "Epoch 60/100\n",
            "3/3 [==============================] - 1s 177ms/step - loss: 7.5800e-06 - accuracy: 1.0000 - val_loss: 0.4247 - val_accuracy: 0.8704\n",
            "Epoch 61/100\n",
            "3/3 [==============================] - 1s 181ms/step - loss: 6.4730e-06 - accuracy: 1.0000 - val_loss: 0.4245 - val_accuracy: 0.8704\n",
            "Epoch 62/100\n",
            "3/3 [==============================] - 1s 184ms/step - loss: 9.2592e-06 - accuracy: 1.0000 - val_loss: 0.4243 - val_accuracy: 0.8704\n",
            "Epoch 63/100\n",
            "3/3 [==============================] - 1s 190ms/step - loss: 1.4850e-05 - accuracy: 1.0000 - val_loss: 0.4241 - val_accuracy: 0.8704\n",
            "Epoch 64/100\n",
            "3/3 [==============================] - 1s 176ms/step - loss: 9.4686e-06 - accuracy: 1.0000 - val_loss: 0.4239 - val_accuracy: 0.8704\n",
            "Epoch 65/100\n",
            "3/3 [==============================] - 1s 186ms/step - loss: 9.2335e-06 - accuracy: 1.0000 - val_loss: 0.4236 - val_accuracy: 0.8704\n",
            "Epoch 66/100\n",
            "3/3 [==============================] - 1s 177ms/step - loss: 1.0724e-05 - accuracy: 1.0000 - val_loss: 0.4233 - val_accuracy: 0.8704\n",
            "Epoch 67/100\n",
            "3/3 [==============================] - 1s 182ms/step - loss: 5.5345e-06 - accuracy: 1.0000 - val_loss: 0.4230 - val_accuracy: 0.8704\n",
            "Epoch 68/100\n",
            "3/3 [==============================] - 1s 183ms/step - loss: 7.4712e-06 - accuracy: 1.0000 - val_loss: 0.4228 - val_accuracy: 0.8704\n",
            "Epoch 69/100\n",
            "3/3 [==============================] - 1s 201ms/step - loss: 1.0746e-05 - accuracy: 1.0000 - val_loss: 0.4226 - val_accuracy: 0.8704\n",
            "Epoch 70/100\n",
            "3/3 [==============================] - 1s 206ms/step - loss: 9.7855e-06 - accuracy: 1.0000 - val_loss: 0.4225 - val_accuracy: 0.8704\n",
            "Epoch 71/100\n",
            "3/3 [==============================] - 1s 204ms/step - loss: 7.3541e-06 - accuracy: 1.0000 - val_loss: 0.4223 - val_accuracy: 0.8704\n",
            "Epoch 72/100\n",
            "3/3 [==============================] - 1s 201ms/step - loss: 6.5691e-06 - accuracy: 1.0000 - val_loss: 0.4222 - val_accuracy: 0.8704\n",
            "Epoch 73/100\n",
            "3/3 [==============================] - 1s 199ms/step - loss: 6.3863e-06 - accuracy: 1.0000 - val_loss: 0.4220 - val_accuracy: 0.8704\n",
            "Epoch 74/100\n",
            "3/3 [==============================] - 1s 201ms/step - loss: 8.5711e-06 - accuracy: 1.0000 - val_loss: 0.4219 - val_accuracy: 0.8704\n",
            "Epoch 75/100\n",
            "3/3 [==============================] - 1s 199ms/step - loss: 6.3663e-06 - accuracy: 1.0000 - val_loss: 0.4218 - val_accuracy: 0.8704\n",
            "Epoch 76/100\n",
            "3/3 [==============================] - 1s 202ms/step - loss: 7.1886e-06 - accuracy: 1.0000 - val_loss: 0.4217 - val_accuracy: 0.8704\n",
            "Epoch 77/100\n",
            "3/3 [==============================] - 1s 201ms/step - loss: 1.2444e-05 - accuracy: 1.0000 - val_loss: 0.4216 - val_accuracy: 0.8704\n",
            "Epoch 78/100\n",
            "3/3 [==============================] - 1s 211ms/step - loss: 3.8130e-06 - accuracy: 1.0000 - val_loss: 0.4215 - val_accuracy: 0.8704\n",
            "Epoch 79/100\n",
            "3/3 [==============================] - 1s 179ms/step - loss: 7.5487e-06 - accuracy: 1.0000 - val_loss: 0.4213 - val_accuracy: 0.8704\n",
            "Epoch 80/100\n",
            "3/3 [==============================] - 1s 186ms/step - loss: 8.4648e-06 - accuracy: 1.0000 - val_loss: 0.4210 - val_accuracy: 0.8704\n",
            "Epoch 81/100\n",
            "3/3 [==============================] - 1s 193ms/step - loss: 1.3337e-05 - accuracy: 1.0000 - val_loss: 0.4209 - val_accuracy: 0.8704\n",
            "Epoch 82/100\n",
            "3/3 [==============================] - 1s 186ms/step - loss: 4.6441e-06 - accuracy: 1.0000 - val_loss: 0.4208 - val_accuracy: 0.8704\n",
            "Epoch 83/100\n",
            "3/3 [==============================] - 1s 184ms/step - loss: 6.6079e-06 - accuracy: 1.0000 - val_loss: 0.4207 - val_accuracy: 0.8704\n",
            "Epoch 84/100\n",
            "3/3 [==============================] - 1s 183ms/step - loss: 5.9717e-06 - accuracy: 1.0000 - val_loss: 0.4207 - val_accuracy: 0.8704\n",
            "Epoch 85/100\n",
            "3/3 [==============================] - 1s 182ms/step - loss: 9.7208e-06 - accuracy: 1.0000 - val_loss: 0.4206 - val_accuracy: 0.8704\n",
            "Epoch 86/100\n",
            "3/3 [==============================] - 1s 184ms/step - loss: 5.8542e-06 - accuracy: 1.0000 - val_loss: 0.4206 - val_accuracy: 0.8704\n",
            "Epoch 87/100\n",
            "3/3 [==============================] - 1s 179ms/step - loss: 3.1847e-06 - accuracy: 1.0000 - val_loss: 0.4206 - val_accuracy: 0.8704\n",
            "Epoch 88/100\n",
            "3/3 [==============================] - 1s 179ms/step - loss: 5.4518e-06 - accuracy: 1.0000 - val_loss: 0.4206 - val_accuracy: 0.8704\n",
            "Epoch 89/100\n",
            "3/3 [==============================] - 1s 181ms/step - loss: 3.3460e-06 - accuracy: 1.0000 - val_loss: 0.4205 - val_accuracy: 0.8704\n",
            "Epoch 90/100\n",
            "3/3 [==============================] - 1s 179ms/step - loss: 7.0176e-06 - accuracy: 1.0000 - val_loss: 0.4205 - val_accuracy: 0.8704\n",
            "Epoch 91/100\n",
            "3/3 [==============================] - 1s 177ms/step - loss: 3.6742e-06 - accuracy: 1.0000 - val_loss: 0.4204 - val_accuracy: 0.8704\n",
            "Epoch 92/100\n",
            "3/3 [==============================] - 1s 177ms/step - loss: 4.9309e-06 - accuracy: 1.0000 - val_loss: 0.4203 - val_accuracy: 0.8704\n",
            "Epoch 93/100\n",
            "3/3 [==============================] - 1s 183ms/step - loss: 6.4782e-06 - accuracy: 1.0000 - val_loss: 0.4202 - val_accuracy: 0.8704\n",
            "Epoch 94/100\n",
            "3/3 [==============================] - 1s 185ms/step - loss: 3.9425e-06 - accuracy: 1.0000 - val_loss: 0.4202 - val_accuracy: 0.8704\n",
            "Epoch 95/100\n",
            "3/3 [==============================] - 1s 202ms/step - loss: 8.5322e-06 - accuracy: 1.0000 - val_loss: 0.4200 - val_accuracy: 0.8704\n",
            "Epoch 96/100\n",
            "3/3 [==============================] - 1s 194ms/step - loss: 2.7116e-06 - accuracy: 1.0000 - val_loss: 0.4199 - val_accuracy: 0.8704\n",
            "Epoch 97/100\n",
            "3/3 [==============================] - 1s 200ms/step - loss: 4.3639e-06 - accuracy: 1.0000 - val_loss: 0.4198 - val_accuracy: 0.8704\n",
            "Epoch 98/100\n",
            "3/3 [==============================] - 1s 214ms/step - loss: 2.1553e-06 - accuracy: 1.0000 - val_loss: 0.4198 - val_accuracy: 0.8704\n",
            "Epoch 99/100\n",
            "3/3 [==============================] - 1s 218ms/step - loss: 3.9548e-06 - accuracy: 1.0000 - val_loss: 0.4197 - val_accuracy: 0.8704\n",
            "Epoch 100/100\n",
            "3/3 [==============================] - 1s 215ms/step - loss: 3.9312e-06 - accuracy: 1.0000 - val_loss: 0.4196 - val_accuracy: 0.8704\n",
            "2/2 [==============================] - 0s 21ms/step\n",
            "4/4 [==============================] - 0s 25ms/step\n"
          ]
        }
      ],
      "source": [
        "# Crear una red neuronal secuencial\n",
        "model = Sequential()\n",
        "\n",
        "# Agregar una capa de entrada con el número de características (vocabulario) en tu matriz TF-IDF\n",
        "model.add(Dense(328, activation='relu', input_dim=X_train.shape[1]))\n",
        "model.add(Dropout(0.1))  # Dropout para regularización\n",
        "\n",
        "# Agregar una capa oculta\n",
        "model.add(Dense(164, activation='relu'))\n",
        "model.add(Dropout(0.1))  # Dropout para regularización\n",
        "\n",
        "# Agregar una capa de salida con una neurona y función de activación sigmoide para clasificación binaria\n",
        "model.add(Dense(1, activation='sigmoid'))\n",
        "\n",
        "# Compilar el modelo\n",
        "model.compile(optimizer='adam', loss='binary_crossentropy', metrics=['accuracy'])\n",
        "\n",
        "# Entrenar el modelo en los datos de entrenamiento\n",
        "history = model.fit(X_train, y_train, epochs=100, batch_size=50, validation_data=(X_val, y_val))\n",
        "\n",
        "# Evaluar el modelo en el conjunto de validación\n",
        "y_val_pred = (model.predict(X_val) > 0.5).astype(int)\n",
        "\n",
        "# Calcular métricas de evaluación en el conjunto de validación\n",
        "accuracy = accuracy_score(y_val, y_val_pred)\n",
        "precision = precision_score(y_val, y_val_pred)\n",
        "recall = recall_score(y_val, y_val_pred)\n",
        "f1 = f1_score(y_val, y_val_pred)\n",
        "\n",
        "# Calcular métricas de evaluación en el conjunto de entrenamiento\n",
        "y_train_pred = (model.predict(X_train) > 0.5).astype(int)\n",
        "\n",
        "accuracy_train = accuracy_score(y_train, y_train_pred)\n",
        "precision_train = precision_score(y_train, y_train_pred)\n",
        "recall_train = recall_score(y_train, y_train_pred)\n",
        "f1_train = f1_score(y_train, y_train_pred)"
      ]
    },
    {
      "cell_type": "code",
      "execution_count": null,
      "metadata": {
        "colab": {
          "base_uri": "https://localhost:8080/"
        },
        "id": "hXVDgU6vY6IL",
        "outputId": "434bddcb-cd41-4608-e738-f2de3e232461"
      },
      "outputs": [
        {
          "name": "stdout",
          "output_type": "stream",
          "text": [
            "\n",
            "Métricas en el conjunto de entrenamiento:\n",
            "Exactitud (entrenamiento): 100.0%\n",
            "Precisión (entrenamiento): 100.0%\n",
            "Recall (entrenamiento): 100.0%\n",
            "F1-score (entrenamiento): 100.0%\n",
            "-------------------------------------------------------------------------\n",
            "Exactitud en el conjunto de validación: 87.0%\n",
            "Precisión en el conjunto de validación: 91.0%\n",
            "Recall en el conjunto de validación: 80.0%\n",
            "F1-score en el conjunto de validación: 85.0%\n"
          ]
        }
      ],
      "source": [
        "# Imprimir métricas de entrenamiento\n",
        "print(\"\\nMétricas en el conjunto de entrenamiento:\")\n",
        "print(f\"Exactitud (entrenamiento): {round(accuracy_train, 2) * 100}%\")\n",
        "print(f\"Precisión (entrenamiento): {round(precision_train, 2) * 100}%\")\n",
        "print(f\"Recall (entrenamiento): {round(recall_train, 2) * 100}%\")\n",
        "print(f\"F1-score (entrenamiento): {round(f1_train, 2) * 100}%\")\n",
        "print('-------------------------------------------------------------------------')\n",
        "# Imprimir métricas de evaluación\n",
        "print(f\"Exactitud en el conjunto de validación: {round(accuracy, 2) * 100}%\")\n",
        "print(f\"Precisión en el conjunto de validación: {round(precision, 2) * 100}%\")\n",
        "print(f\"Recall en el conjunto de validación: {round(recall, 2) * 100}%\")\n",
        "print(f\"F1-score en el conjunto de validación: {round(f1, 2) * 100}%\")"
      ]
    },
    {
      "cell_type": "markdown",
      "metadata": {
        "id": "zrnag9LChBJk"
      },
      "source": [
        "# **Matriz de confusión**"
      ]
    },
    {
      "cell_type": "code",
      "execution_count": null,
      "metadata": {
        "colab": {
          "base_uri": "https://localhost:8080/"
        },
        "id": "7jAmF9ruhK_z",
        "outputId": "6832a53a-f502-476b-d6e4-7ebbd3d3acf1"
      },
      "outputs": [
        {
          "name": "stdout",
          "output_type": "stream",
          "text": [
            "2/2 [==============================] - 0s 18ms/step\n",
            "Matriz de confusión: \n",
            "\n",
            " [[27  2]\n",
            " [ 5 20]] \n",
            "\n",
            "Proporción de comentarios positivos: 0.46\n",
            "Proporción de comentarios positivos etiquetados: 0.41\n"
          ]
        }
      ],
      "source": [
        "from sklearn.metrics import confusion_matrix\n",
        "\n",
        "y_pred = model.predict(X_val)\n",
        "\n",
        "# Obtiene la matriz de confusión. Las filas corresponden a las clases reales,\n",
        "umbral = 0.5  # Puedes ajustar este umbral según tus necesidades\n",
        "y_pred_binario = (y_pred > umbral).astype(int)\n",
        "\n",
        "# Calcular la matriz de confusión con las etiquetas binarias\n",
        "cm = confusion_matrix(y_val, y_pred_binario)\n",
        "prop_real = np.sum(y_val)/len(y_val)\n",
        "prop_etiqutados = (cm[0,1]+cm[1,1])/len(y_val)\n",
        "\n",
        "print(\"Matriz de confusión: \\n\\n\", cm, \"\\n\")\n",
        "print('Proporción de comentarios positivos: %.2f'% prop_real)\n",
        "print('Proporción de comentarios positivos etiquetados: %.2f'% prop_etiqutados)"
      ]
    },
    {
      "cell_type": "code",
      "execution_count": null,
      "metadata": {
        "colab": {
          "base_uri": "https://localhost:8080/",
          "height": 564
        },
        "id": "JkILkBO4hc1r",
        "outputId": "16370de1-f6c2-4efc-97dd-e03a2dadf807"
      },
      "outputs": [
        {
          "data": {
            "image/png": "[encoded data removed]",
            "text/plain": [
              "<Figure size 800x600 with 2 Axes>"
            ]
          },
          "metadata": {},
          "output_type": "display_data"
        }
      ],
      "source": [
        "import seaborn as sns\n",
        "import matplotlib.pyplot as plt\n",
        "\n",
        "# Crear una figura para la matriz de confusión\n",
        "plt.figure(figsize=(8, 6))\n",
        "\n",
        "# Crear una matriz de confusión usando el heatmap de Seaborn\n",
        "sns.heatmap(cm, annot=True, fmt=\"d\", cmap=\"Blues\", xticklabels=['Control', 'Ansiedad'], yticklabels=['Control', 'Ansiedad'])\n",
        "\n",
        "# Etiquetas y título\n",
        "plt.xlabel('Predicción')\n",
        "plt.ylabel('Valor Real')\n",
        "plt.title('Matriz de Confusión (Usarios con ansiedad vs de control)')\n",
        "\n",
        "# Mostrar la gráfica\n",
        "plt.show()"
      ]
    },
    {
      "cell_type": "markdown",
      "metadata": {
        "id": "Jr7wkaLH8D9Y"
      },
      "source": [
        "#Modelo Arbol Aleatorio"
      ]
    },
    {
      "cell_type": "code",
      "execution_count": null,
      "metadata": {
        "colab": {
          "base_uri": "https://localhost:8080/"
        },
        "id": "Yf9iwokE-QqU",
        "outputId": "04c807a0-29cf-4667-e813-b0c418399e2a"
      },
      "outputs": [
        {
          "name": "stdout",
          "output_type": "stream",
          "text": [
            "Accuracy (validación): 0.98\n",
            "Precision (validación): 1.00\n",
            "Recall (validación): 0.96\n",
            "F1-score (validación): 0.98\n"
          ]
        }
      ],
      "source": [
        "from sklearn.ensemble import RandomForestClassifier\n",
        "from sklearn.metrics import accuracy_score, precision_score, recall_score, f1_score\n",
        "\n",
        "# Importa las librerías necesarias y divide los datos en conjuntos de entrenamiento y validación\n",
        "from sklearn.model_selection import train_test_split\n",
        "\n",
        "# X_train, X_val, y_train, y_val\n",
        "\n",
        "# Crea un modelo de Random Forest\n",
        "random_forest_model = RandomForestClassifier(n_estimators=300,  # Numero de alboles\n",
        "                                             max_depth=100, # profunidad máxima\n",
        "                                             random_state=42)  # selección de la semilla de manera aleatoria\n",
        "\n",
        "\n",
        "# Entrena el modelo en los datos de entrenamiento\n",
        "random_forest_model.fit(X_train, y_train)\n",
        "\n",
        "# Realiza predicciones en los datos de validación\n",
        "y_val_pred = random_forest_model.predict(X_val)\n",
        "\n",
        "# Calcula la precisión (accuracy) del modelo en los datos de validación\n",
        "accuracy = accuracy_score(y_val, y_val_pred)\n",
        "print(\"Accuracy (validación): {:.2f}\".format(accuracy))\n",
        "\n",
        "# Calcula la precisión del modelo en los datos de validación\n",
        "precision = precision_score(y_val, y_val_pred)\n",
        "print(\"Precision (validación): {:.2f}\".format(precision))\n",
        "\n",
        "# Calcula la exactitud (recall) del modelo en los datos de validación\n",
        "recall = recall_score(y_val, y_val_pred)\n",
        "print(\"Recall (validación): {:.2f}\".format(recall))\n",
        "\n",
        "# Calcula el F1-score del modelo en los datos de validación\n",
        "f1 = f1_score(y_val, y_val_pred)\n",
        "print(\"F1-score (validación): {:.2f}\".format(f1))\n",
        "\n",
        "# Calcula y muestra métricas en el conjunto de entrenamiento\n",
        "y_train_pred = random_forest_model.predict(X_train)\n",
        "\n",
        "accuracy_train = accuracy_score(y_train, y_train_pred)\n",
        "precision_train = precision_score(y_train, y_train_pred)\n",
        "recall_train = recall_score(y_train, y_train_pred)\n",
        "f1_train = f1_score(y_train, y_train_pred)\n",
        "\n",
        "#\n",
        "\n",
        "\n"
      ]
    },
    {
      "cell_type": "code",
      "execution_count": null,
      "metadata": {
        "colab": {
          "base_uri": "https://localhost:8080/"
        },
        "id": "NkRDcwJA-Vto",
        "outputId": "cd2af776-6b41-49bb-91ed-38a3be0c48b1"
      },
      "outputs": [
        {
          "name": "stdout",
          "output_type": "stream",
          "text": [
            "Accuracy entrenamiento: 100.00%\n",
            "Precisión  entrenamiento: 100.00%\n",
            "Recall  entrenamiento: 100.00%\n",
            "Puntuación F1  entrenamiento: 100.00%\n",
            "\n",
            "\n",
            "Accuracy  validación: 98.15%\n",
            "Precisión  validación: 100.00%\n",
            "Recall  validación: 96.00%\n",
            "Puntuación F1 validación: 97.96%\n"
          ]
        }
      ],
      "source": [
        "# Imprimir las métricas de entrenamiento\n",
        "print(f'Accuracy entrenamiento: {accuracy_train * 100:.2f}%')\n",
        "print(f'Precisión  entrenamiento: {precision_train * 100:.2f}%')\n",
        "print(f'Recall  entrenamiento: {recall_train * 100:.2f}%')\n",
        "print(f'Puntuación F1  entrenamiento: {f1_train * 100:.2f}%')\n",
        "print('\\n')\n",
        "# Imprimir las métricas de validación\n",
        "print(f'Accuracy  validación: {accuracy * 100:.2f}%')\n",
        "print(f'Precisión  validación: {precision* 100:.2f}%')\n",
        "print(f'Recall  validación: {recall* 100:.2f}%')\n",
        "print(f'Puntuación F1 validación: {f1 * 100:.2f}%')"
      ]
    },
    {
      "cell_type": "markdown",
      "metadata": {
        "id": "PnsoHsgnjbBL"
      },
      "source": [
        "# **Matriz de confusión**"
      ]
    },
    {
      "cell_type": "code",
      "execution_count": null,
      "metadata": {
        "colab": {
          "base_uri": "https://localhost:8080/"
        },
        "id": "ge2kdDirjbBU",
        "outputId": "5f6987f6-4720-4bcc-de48-136537b1a09a"
      },
      "outputs": [
        {
          "name": "stdout",
          "output_type": "stream",
          "text": [
            "2/2 [==============================] - 0s 16ms/step\n",
            "Matriz de confusión: \n",
            "\n",
            " [[27  2]\n",
            " [ 5 20]] \n",
            "\n",
            "Proporción de comentarios positivos: 0.46\n",
            "Proporción de comentarios positivos etiquetados: 0.41\n"
          ]
        }
      ],
      "source": [
        "from sklearn.metrics import confusion_matrix\n",
        "\n",
        "y_pred_RF = model.predict(X_val)\n",
        "\n",
        "# Obtiene la matriz de confusión. Las filas corresponden a las clases reales,\n",
        "umbral = 0.5  # Puedes ajustar este umbral según tus necesidades\n",
        "y_pred_binario = (y_pred_RF > umbral).astype(int)\n",
        "\n",
        "# Calcular la matriz de confusión con las etiquetas binarias\n",
        "cm = confusion_matrix(y_val, y_pred_binario)\n",
        "prop_real = np.sum(y_val)/len(y_val)\n",
        "prop_etiqutados = (cm[0,1]+cm[1,1])/len(y_val)\n",
        "\n",
        "print(\"Matriz de confusión: \\n\\n\", cm, \"\\n\")\n",
        "print('Proporción de comentarios positivos: %.2f'% prop_real)\n",
        "print('Proporción de comentarios positivos etiquetados: %.2f'% prop_etiqutados)"
      ]
    },
    {
      "cell_type": "code",
      "execution_count": null,
      "metadata": {
        "colab": {
          "base_uri": "https://localhost:8080/",
          "height": 564
        },
        "id": "gUFypmG1jbBV",
        "outputId": "607eeb7c-76fb-429a-e2f0-7e30c2a16d68"
      },
      "outputs": [
        {
          "data": {
            "image/png": "[encoded data removed]",
            "text/plain": [
              "<Figure size 800x600 with 2 Axes>"
            ]
          },
          "metadata": {},
          "output_type": "display_data"
        }
      ],
      "source": [
        "import seaborn as sns\n",
        "import matplotlib.pyplot as plt\n",
        "\n",
        "# Crear una figura para la matriz de confusión\n",
        "plt.figure(figsize=(8, 6))\n",
        "\n",
        "# Crear una matriz de confusión usando el heatmap de Seaborn\n",
        "sns.heatmap(cm, annot=True, fmt=\"d\", cmap=\"Blues\", xticklabels=['Control', 'Ansiedad'], yticklabels=['Control', 'Ansiedad'])\n",
        "\n",
        "# Etiquetas y título\n",
        "plt.xlabel('Predicción')\n",
        "plt.ylabel('Valor Real')\n",
        "plt.title('Matriz de Confusión (Usarios con ansiedad vs de control)')\n",
        "\n",
        "# Mostrar la gráfica\n",
        "plt.show()"
      ]
    },
    {
      "cell_type": "markdown",
      "metadata": {
        "id": "tpe64XnkBjMZ"
      },
      "source": [
        "#Modelo SVM"
      ]
    },
    {
      "cell_type": "code",
      "execution_count": null,
      "metadata": {
        "colab": {
          "base_uri": "https://localhost:8080/"
        },
        "id": "abWDh27ABtdx",
        "outputId": "c8531618-79bf-44c6-dd0f-c8ae3f77f6da"
      },
      "outputs": [
        {
          "name": "stdout",
          "output_type": "stream",
          "text": [
            "\n",
            "Entrenamiento:\n",
            "Exactitud (entrenamiento): 100.00%\n",
            "Precision (entrenamiento): 100.00%\n",
            "Recall (entrenamiento): 100.00%\n",
            "F1-score (entrenamiento): 100.00%\n",
            "\n",
            "Validación:\n",
            "Exactitud en el conjunto de validación: 87.0%\n",
            "Precisión en el conjunto de validación:80.0%\n",
            "Recall en el conjunto de validación: 96.0%\n",
            "F1-score en el conjunto de validación:87.0%\n"
          ]
        }
      ],
      "source": [
        "from sklearn.svm import SVC\n",
        "from sklearn.metrics import accuracy_score, precision_score, recall_score, f1_score\n",
        "import joblib\n",
        "import os\n",
        "\n",
        "svm_model_p = SVC(kernel='linear', degree=4, C=100, max_iter=100000, probability=False)\n",
        "\n",
        "# Entrenar el modelo en los datos de entrenamiento\n",
        "svm_model_p.fit(X_train, y_train)\n",
        "\n",
        "# Predecir etiquetas en el conjunto de validación\n",
        "y_val_pred = svm_model_p.predict(X_val)\n",
        "\n",
        "# Calcula la precisión del modelo en el conjunto de validación\n",
        "accuracy = accuracy_score(y_val, y_val_pred)\n",
        "\n",
        "\n",
        "# Calcula precisión, exhaustividad y puntuación F1 en el conjunto de validación\n",
        "precision = precision_score(y_val, y_val_pred)\n",
        "recall = recall_score(y_val, y_val_pred)\n",
        "f1 = f1_score(y_val, y_val_pred)\n",
        "\n",
        "# Calcula y muestra métricas en el conjunto de entrenamiento\n",
        "y_train_pred = svm_model_p.predict(X_train)\n",
        "\n",
        "accuracy_train = accuracy_score(y_train, y_train_pred)\n",
        "precision_train = precision_score(y_train, y_train_pred)\n",
        "recall_train = recall_score(y_train, y_train_pred)\n",
        "f1_train = f1_score(y_train, y_train_pred)\n",
        "\n",
        "print(\"\\nEntrenamiento:\")\n",
        "print(\"Exactitud (entrenamiento): {:.2f}%\".format(accuracy_train*100))\n",
        "print(\"Precision (entrenamiento): {:.2f}%\".format(precision_train*100))\n",
        "print(\"Recall (entrenamiento): {:.2f}%\".format(recall_train*100))\n",
        "print(\"F1-score (entrenamiento): {:.2f}%\".format(f1_train*100))\n",
        "print(\"\\nValidación:\")\n",
        "print(f\"Exactitud en el conjunto de validación: {round(accuracy,2)*100}%\")\n",
        "print(f\"Precisión en el conjunto de validación:{round(precision,2)*100}%\")\n",
        "print(f\"Recall en el conjunto de validación: {round(recall,2)*100}%\")\n",
        "print(f\"F1-score en el conjunto de validación:{round(f1,2)*100}%\")\n",
        "\n"
      ]
    },
    {
      "cell_type": "markdown",
      "metadata": {
        "id": "UQJHYe_5mFmL"
      },
      "source": [
        "# **Matriz de confusión**"
      ]
    },
    {
      "cell_type": "code",
      "execution_count": null,
      "metadata": {
        "colab": {
          "base_uri": "https://localhost:8080/"
        },
        "id": "bEh8aTdumFmT",
        "outputId": "3045545c-80da-4960-91e5-3c5ecabdad3f"
      },
      "outputs": [
        {
          "name": "stdout",
          "output_type": "stream",
          "text": [
            "2/2 [==============================] - 0s 18ms/step\n",
            "Matriz de confusión: \n",
            "\n",
            " [[27  2]\n",
            " [ 5 20]] \n",
            "\n",
            "Proporción de comentarios positivos: 0.46\n",
            "Proporción de comentarios positivos etiquetados: 0.41\n"
          ]
        }
      ],
      "source": [
        "from sklearn.metrics import confusion_matrix\n",
        "\n",
        "y_pred_RF = model.predict(X_val)\n",
        "\n",
        "# Obtiene la matriz de confusión. Las filas corresponden a las clases reales,\n",
        "umbral = 0.5  # Puedes ajustar este umbral según tus necesidades\n",
        "y_pred_binario = (y_pred_RF > umbral).astype(int)\n",
        "\n",
        "# Calcular la matriz de confusión con las etiquetas binarias\n",
        "cm = confusion_matrix(y_val, y_pred_binario)\n",
        "prop_real = np.sum(y_val)/len(y_val)\n",
        "prop_etiqutados = (cm[0,1]+cm[1,1])/len(y_val)\n",
        "\n",
        "print(\"Matriz de confusión: \\n\\n\", cm, \"\\n\")\n",
        "print('Proporción de comentarios positivos: %.2f'% prop_real)\n",
        "print('Proporción de comentarios positivos etiquetados: %.2f'% prop_etiqutados)"
      ]
    },
    {
      "cell_type": "code",
      "execution_count": null,
      "metadata": {
        "colab": {
          "base_uri": "https://localhost:8080/",
          "height": 564
        },
        "id": "xAQ-K-AImFmT",
        "outputId": "f0592372-9312-4d51-d330-9e38afb32cc1"
      },
      "outputs": [
        {
          "data": {
            "image/png": "[encoded data removed]",
            "text/plain": [
              "<Figure size 800x600 with 2 Axes>"
            ]
          },
          "metadata": {},
          "output_type": "display_data"
        }
      ],
      "source": [
        "import seaborn as sns\n",
        "import matplotlib.pyplot as plt\n",
        "\n",
        "# Crear una figura para la matriz de confusión\n",
        "plt.figure(figsize=(8, 6))\n",
        "\n",
        "# Crear una matriz de confusión usando el heatmap de Seaborn\n",
        "sns.heatmap(cm, annot=True, fmt=\"d\", cmap=\"Blues\", xticklabels=['Control', 'Ansiedad'], yticklabels=['Control', 'Ansiedad'])\n",
        "\n",
        "# Etiquetas y título\n",
        "plt.xlabel('Predicción')\n",
        "plt.ylabel('Valor Real')\n",
        "plt.title('Matriz de Confusión (Usarios con ansiedad vs de control)')\n",
        "\n",
        "# Mostrar la gráfica\n",
        "plt.show()"
      ]
    },
    {
      "cell_type": "markdown",
      "metadata": {
        "id": "Ef6U8YQNp2SW"
      },
      "source": [
        "# **Regresión Logistica**"
      ]
    },
    {
      "cell_type": "code",
      "execution_count": null,
      "metadata": {
        "colab": {
          "background_save": true
        },
        "id": "OnNzX1e9RNoJ"
      },
      "outputs": [],
      "source": [
        "from sklearn.linear_model import LogisticRegression\n",
        "from sklearn.metrics import precision_score, recall_score, f1_score\n",
        "# Crear el modelo de regresión logística\n",
        "lr_model = LogisticRegression(C=10)\n",
        "lr_model.fit(X_train, y_train)\n",
        "\n",
        "# Calcular el porcentaje de acierto en el conjunto de entrenamiento\n",
        "accuracy_train = lr_model.score(X_train, y_train) * 100\n",
        "\n",
        "# Calcular el porcentaje de acierto en el conjunto de validación\n",
        "accuracy_val = lr_model.score(X_val, y_val) * 100\n",
        "\n",
        "# Predicciones en el conjunto de entrenamiento y validación\n",
        "y_train_pred = lr_model.predict(X_train)\n",
        "y_val_pred = lr_model.predict(X_val)\n",
        "\n",
        "# Calcular precisión en el conjunto de entrenamiento y validación\n",
        "precision_train = precision_score(y_train, y_train_pred)* 100\n",
        "precision_val = precision_score(y_val, y_val_pred)* 100\n",
        "\n",
        "# Calcular exhaustividad (recall) en el conjunto de entrenamiento y validación\n",
        "recall_train = recall_score(y_train, y_train_pred)* 100\n",
        "recall_val = recall_score(y_val, y_val_pred)* 100\n",
        "\n",
        "# Calcular puntuación F1 en el conjunto de entrenamiento y validación\n",
        "f1_train = f1_score(y_train, y_train_pred)* 100\n",
        "f1_val = f1_score(y_val, y_val_pred)* 100\n"
      ]
    },
    {
      "cell_type": "code",
      "execution_count": null,
      "metadata": {
        "colab": {
          "base_uri": "https://localhost:8080/"
        },
        "id": "qwl9Ndehm4o3",
        "outputId": "dd329dba-020a-443b-a577-37e5f95a345c"
      },
      "outputs": [
        {
          "name": "stdout",
          "output_type": "stream",
          "text": [
            "Métricas de entrenamiento:\n",
            "Exactitud (entrenamiento): 100.00%\n",
            "Precisión (entrenamiento): 100.00%\n",
            "Exhaustividad (entrenamiento): 100.00%\n",
            "Puntuación F1 (entrenamiento): 100.00%\n",
            "----------------------------------------\n",
            "\n",
            "Métricas de validación:\n",
            "Exactitud (validación): 87.04%\n",
            "Precisión (validación): 80.00%\n",
            "Exhaustividad (validación): 96.00%\n",
            "Puntuación F1 (validación): 87.27%\n"
          ]
        }
      ],
      "source": [
        "# Mostrar métricas de entrenamiento\n",
        "print(\"Métricas de entrenamiento:\")\n",
        "print(\"Exactitud (entrenamiento): {:.2f}%\".format(accuracy_train))\n",
        "print(\"Precisión (entrenamiento): {:.2f}%\".format(precision_train))\n",
        "print(\"Exhaustividad (entrenamiento): {:.2f}%\".format(recall_train))\n",
        "print(\"Puntuación F1 (entrenamiento): {:.2f}%\".format(f1_train))\n",
        "print('-'*40)\n",
        "# Mostrar métricas de validación\n",
        "print(\"\\nMétricas de validación:\")\n",
        "print(\"Exactitud (validación): {:.2f}%\".format(accuracy_val))\n",
        "print(\"Precisión (validación): {:.2f}%\".format(precision_val))\n",
        "print(\"Exhaustividad (validación): {:.2f}%\".format(recall_val))\n",
        "print(\"Puntuación F1 (validación): {:.2f}%\".format(f1_val))"
      ]
    },
    {
      "cell_type": "markdown",
      "metadata": {
        "id": "C5K5W5kWnQrg"
      },
      "source": [
        "# **Matriz de confusión**"
      ]
    },
    {
      "cell_type": "code",
      "execution_count": null,
      "metadata": {
        "colab": {
          "base_uri": "https://localhost:8080/"
        },
        "id": "35gIxGVMnQro",
        "outputId": "706b4dab-0c98-4fa3-f77c-5d07b37a982c"
      },
      "outputs": [
        {
          "name": "stdout",
          "output_type": "stream",
          "text": [
            "2/2 [==============================] - 0s 18ms/step\n",
            "Matriz de confusión: \n",
            "\n",
            " [[27  2]\n",
            " [ 5 20]] \n",
            "\n",
            "Proporción de comentarios positivos: 0.46\n",
            "Proporción de comentarios positivos etiquetados: 0.41\n"
          ]
        }
      ],
      "source": [
        "from sklearn.metrics import confusion_matrix\n",
        "\n",
        "y_pred_RF = model.predict(X_val)\n",
        "\n",
        "# Obtiene la matriz de confusión. Las filas corresponden a las clases reales,\n",
        "umbral = 0.5  # Puedes ajustar este umbral según tus necesidades\n",
        "y_pred_binario = (y_pred_RF > umbral).astype(int)\n",
        "\n",
        "# Calcular la matriz de confusión con las etiquetas binarias\n",
        "cm = confusion_matrix(y_val, y_pred_binario)\n",
        "prop_real = np.sum(y_val)/len(y_val)\n",
        "prop_etiqutados = (cm[0,1]+cm[1,1])/len(y_val)\n",
        "\n",
        "print(\"Matriz de confusión: \\n\\n\", cm, \"\\n\")\n",
        "print('Proporción de comentarios positivos: %.2f'% prop_real)\n",
        "print('Proporción de comentarios positivos etiquetados: %.2f'% prop_etiqutados)"
      ]
    },
    {
      "cell_type": "code",
      "execution_count": null,
      "metadata": {
        "colab": {
          "background_save": true,
          "base_uri": "https://localhost:8080/",
          "height": 564
        },
        "id": "iTWL0FkxnQrp",
        "outputId": "8a75e947-32f2-4227-a947-881ea02c95d9"
      },
      "outputs": [
        {
          "data": {
            "image/png": "[encoded data removed]",
            "text/plain": [
              "<Figure size 800x600 with 2 Axes>"
            ]
          },
          "metadata": {},
          "output_type": "display_data"
        }
      ],
      "source": [
        "import seaborn as sns\n",
        "import matplotlib.pyplot as plt\n",
        "\n",
        "# Crear una figura para la matriz de confusión\n",
        "plt.figure(figsize=(8, 6))\n",
        "\n",
        "# Crear una matriz de confusión usando el heatmap de Seaborn\n",
        "sns.heatmap(cm, annot=True, fmt=\"d\", cmap=\"Blues\", xticklabels=['Control', 'Ansiedad'], yticklabels=['Control', 'Ansiedad'])\n",
        "\n",
        "# Etiquetas y título\n",
        "plt.xlabel('Predicción')\n",
        "plt.ylabel('Valor Real')\n",
        "plt.title('Matriz de Confusión (Usarios con ansiedad vs de control)')\n",
        "\n",
        "# Mostrar la gráfica\n",
        "plt.show()"
      ]
    }
  ],
  "metadata": {
    "colab": {
      "machine_shape": "hm",
      "provenance": [],
      "mount_file_id": "1mmRoU9yr8KWXlPvU02jz_e_-GpDguLCn",
      "authorship_tag": "ABX9TyN9ErIYGPQUGM5Q9Boies1k"
    },
    "kernelspec": {
      "display_name": "Python 3",
      "name": "python3"
    },
    "language_info": {
      "name": "python"
    }
  },
  "nbformat": 4,
  "nbformat_minor": 0
}
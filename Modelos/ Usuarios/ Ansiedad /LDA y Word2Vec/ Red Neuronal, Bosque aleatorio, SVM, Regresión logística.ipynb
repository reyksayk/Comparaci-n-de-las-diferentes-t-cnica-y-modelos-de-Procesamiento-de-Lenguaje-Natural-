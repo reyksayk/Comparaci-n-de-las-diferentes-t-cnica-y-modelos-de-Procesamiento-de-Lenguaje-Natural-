{
  "nbformat": 4,
  "nbformat_minor": 0,
  "metadata": {
    "colab": {
      "provenance": [],
      "mount_file_id": "1IlCImtjlZo8jXVIaTydvAfX5LJnOa9KB",
      "authorship_tag": "ABX9TyO6k/0Sebie9qzkKasSPBkj",
      "include_colab_link": true
    },
    "kernelspec": {
      "name": "python3",
      "display_name": "Python 3"
    },
    "language_info": {
      "name": "python"
    }
  },
  "cells": [
    {
      "cell_type": "markdown",
      "metadata": {
        "id": "view-in-github",
        "colab_type": "text"
      },
      "source": [
        "<a href=\"https://colab.research.google.com/github/reyksayk/Comparaci-n-de-las-diferentes-t-cnica-y-modelos-de-Procesamiento-de-Lenguaje-Natural-/blob/main/Modelos/%20Usuarios/%20Ansiedad%20/LDA%20y%20Word2Vec/%20Red%20Neuronal%2C%20Bosque%20aleatorio%2C%20SVM%2C%20Regresi%C3%B3n%20log%C3%ADstica.ipynb\" target=\"_parent\"><img src=\"https://colab.research.google.com/assets/colab-badge.svg\" alt=\"Open In Colab\"/></a>"
      ]
    },
    {
      "cell_type": "code",
      "source": [
        "import numpy as np\n",
        "import pandas as pd\n",
        "\n",
        "import tensorflow as tf\n",
        "from tensorflow.keras.models import Sequential\n",
        "from tensorflow.keras.layers import Dense, Dropout\n",
        "from sklearn.metrics import accuracy_score, precision_score, recall_score, f1_score\n",
        "from sklearn.model_selection import train_test_split\n",
        "from sklearn.preprocessing import LabelEncoder\n",
        "from tensorflow.keras.models import load_model\n",
        "from sklearn.model_selection import cross_val_score\n",
        "from sklearn.model_selection import StratifiedKFold\n",
        "import os\n",
        "from gensim.models import Word2Vec\n",
        "from sklearn.model_selection import train_test_split"
      ],
      "metadata": {
        "id": "U7C1X_GgdSjj"
      },
      "execution_count": null,
      "outputs": []
    },
    {
      "cell_type": "markdown",
      "source": [
        "# datos"
      ],
      "metadata": {
        "id": "Qc7qpw2GdPhD"
      }
    },
    {
      "cell_type": "markdown",
      "source": [
        "**usarios con Ansiedad** = 1\n",
        "**usarios con Control** = 0"
      ],
      "metadata": {
        "id": "BmpzI8EBdbB4"
      }
    },
    {
      "cell_type": "markdown",
      "source": [
        "**PREPARACIÓN DE DATOS**"
      ],
      "metadata": {
        "id": "7I0KbpBsDLMD"
      }
    },
    {
      "cell_type": "markdown",
      "source": [
        "*Cargar y limpiar*"
      ],
      "metadata": {
        "id": "A2424AfYDN7Y"
      }
    },
    {
      "cell_type": "code",
      "source": [
        "!pip install pyspellchecker\n",
        "!pip install spacy\n",
        "!python -m spacy download es_core_news_sm"
      ],
      "metadata": {
        "id": "J-67yml1ImB8"
      },
      "execution_count": null,
      "outputs": []
    },
    {
      "cell_type": "markdown",
      "source": [
        "# limpiar texto y Crear Tokens"
      ],
      "metadata": {
        "id": "KxVGxamuXRIb"
      }
    },
    {
      "cell_type": "code",
      "source": [
        "import re\n",
        "import string\n",
        "import pandas as pd\n",
        "from nltk.corpus import stopwords\n",
        "from nltk.tokenize import word_tokenize\n",
        "\n",
        "def load_doc(filename):\n",
        "    try:\n",
        "        data = pd.read_csv(filename, delimiter='\\t')  # Indicamos el delimitador como '\\t' para TSV\n",
        "        return data\n",
        "    except Exception as e:\n",
        "        print(\"Error:\", e)\n",
        "        return None\n",
        "\n",
        "#Creamos un función de limpieza del texto y  los guarde en tokens indivicuales o lista de palabras\n",
        "def clean_doc(text):\n",
        "    # Eliminar hashtags\n",
        "    text = re.sub(r'#\\w+', '', text)\n",
        "\n",
        "    # Eliminar URLs o enlaces\n",
        "    text = re.sub(r'(https?://)?[a-zA-Z0-9]+\\.[a-zA-Z0-9]+\\S*', '', text)\n",
        "\n",
        "    # Eliminar nombres de usuarios de Twitter\n",
        "    text = re.sub(r'@\\w+', '', text)\n",
        "\n",
        "    # Eliminar Nombres propios\n",
        "    text = re.sub(r'\\b[A-Z][a-z]+\\b', '', text)\n",
        "\n",
        "    # Eliminar todos los caracteres especiales\n",
        "    text = re.sub(r'[^\\w\\s]+', '', text)\n",
        "\n",
        "    # Eliminar prefijos y números\n",
        "    text = re.sub(r'\\b\\w{1,2}\\b|\\d+', '', text)\n",
        "\n",
        "    # Eliminar palabras específicas\n",
        "    specific_words = ['retweet', 'retweets', 'hashtag', 'trending', 'mención', 'enlace', 'emoji', 'timeline', 'interacciones',\n",
        "                      'tuit', 'seguidores', 'notificaciones', 'seguir', 'favorito', 'perfil', 'tendencia', 'influencer',\n",
        "                      'compartir', 'actualización', 'explorar', 'seguir', 'comunidad', 'contenido', 'popular',\n",
        "                      'recomendar', 'experiencia', 'conectar', 'comentar', 'compartir', 'comunidad', 'actualización',\n",
        "                      'drk', 'followers', 'stats', 'for', 'new', 'little', 'unfollower', 'unfollowers', 'today', 'shit','twitter','nombre',\n",
        "                      'eric','story','great', 'short','squeeze','piggly','wiggly','hmv','even','follas','you','i','he','she',\n",
        "                      'it','we','they','the','and','that','these','those','tweet','followed','follower']\n",
        "    text = ' '.join([word for word in text.split() if word not in specific_words])\n",
        "\n",
        "    # Eliminar emojis\n",
        "    emojis = re.findall(r'[^\\w\\s,]', text)\n",
        "    cleaned_emojis = [emoji for emoji in emojis if emoji not in ['@', '#', '/', '?','¿','.','…','\"',':','“','!','¡','°','-',\"‘\",'’',\n",
        "                                                                 '=',';','(',')',\"'\",\"'\",'&','€','%','$','*','+','|', '”','🇦','🇷',',',\n",
        "                                                                 ', ','—','«',' »','»','« ','[, ]','[,]',',',', ','',' ',' ♀',' 🏽']]\n",
        "    for emoji in cleaned_emojis:\n",
        "        text = text.replace(emoji, '')\n",
        "\n",
        "    # Convertir el texto a minúsculas\n",
        "    text = text.lower()\n",
        "\n",
        "    return text\n"
      ],
      "metadata": {
        "id": "12y4sbQ3EnQy"
      },
      "execution_count": null,
      "outputs": []
    },
    {
      "cell_type": "code",
      "source": [
        "def process_docs(folder_path):\n",
        "    texts = []\n",
        "    for filename in os.listdir(folder_path):\n",
        "        with open(os.path.join(folder_path, filename), 'r', encoding='utf-8') as file:\n",
        "            text = file.read()\n",
        "            text = clean_doc(text)\n",
        "            texts.append(text.split())  # Dividir el texto en palabras\n",
        "    return texts"
      ],
      "metadata": {
        "id": "n1IquwaXD_cF"
      },
      "execution_count": null,
      "outputs": []
    },
    {
      "cell_type": "code",
      "source": [
        "# Cargar y preprocesar documentos\n",
        "Ans = process_docs('/content/drive/MyDrive/Experimentación Python Tesis /Experimento por agrupación de usuarios/Usuarios con ansiedad/')\n",
        "Cont = process_docs('/content/drive/MyDrive/Experimentación Python Tesis /Experimento por agrupación de usuarios/Usarios de control 2/')"
      ],
      "metadata": {
        "id": "ZFPxTLcQEVGA"
      },
      "execution_count": null,
      "outputs": []
    },
    {
      "cell_type": "code",
      "source": [
        "# Concatenar listas de textos\n",
        "all_texts = Ans + Cont\n",
        "\n",
        "# Entrenar el modelo Word2Vec\n",
        "modelW = Word2Vec(sentences=all_texts, vector_size=300, window=5, min_count=1, sg=0)\n"
      ],
      "metadata": {
        "id": "ipJQpoPEEzpB"
      },
      "execution_count": null,
      "outputs": []
    },
    {
      "cell_type": "code",
      "source": [
        "def document_vector(tokens, modelW):\n",
        "    # Filtrar palabras que no están en el modelo\n",
        "    tokens = [token for token in tokens if token in modelW.wv.key_to_index]\n",
        "    if len(tokens) == 0:\n",
        "        return np.zeros(modelW.vector_size)\n",
        "    return np.mean([modelW.wv[token] for token in tokens], axis=0)\n"
      ],
      "metadata": {
        "id": "Lm8fleVxFVY_"
      },
      "execution_count": null,
      "outputs": []
    },
    {
      "cell_type": "code",
      "source": [
        "# Vectorizar los documentos usando la función document_vector\n",
        "X = np.array([document_vector(doc, modelW) for doc in all_texts])\n",
        "X[X < 0] = 0"
      ],
      "metadata": {
        "id": "RP7KQGkaFtEY"
      },
      "execution_count": null,
      "outputs": []
    },
    {
      "cell_type": "code",
      "source": [
        "X.shape"
      ],
      "metadata": {
        "colab": {
          "base_uri": "https://localhost:8080/"
        },
        "id": "2KKDQZY3YTmg",
        "outputId": "105e86ec-2174-479c-83ad-8cd056b3e11b"
      },
      "execution_count": null,
      "outputs": [
        {
          "output_type": "execute_result",
          "data": {
            "text/plain": [
              "(180, 300)"
            ]
          },
          "metadata": {},
          "execution_count": 9
        }
      ]
    },
    {
      "cell_type": "code",
      "source": [
        "print(modelW)\n",
        "print(len(modelW.wv))\n",
        "# Observamos el vocabulario creado\n",
        "words = modelW.wv.index_to_key\n",
        "print(words)"
      ],
      "metadata": {
        "id": "v9OU7_RoHren"
      },
      "execution_count": null,
      "outputs": []
    },
    {
      "cell_type": "code",
      "source": [
        "# Obtener la representación vectorial de una palabra específica\n",
        "vector = modelW.wv['ansiedad', 'depresión']\n",
        "vector"
      ],
      "metadata": {
        "colab": {
          "base_uri": "https://localhost:8080/"
        },
        "id": "ZNJjrkmYH4Z7",
        "outputId": "0d58d0df-944a-4d08-bb72-e0dcc614d365"
      },
      "execution_count": null,
      "outputs": [
        {
          "output_type": "execute_result",
          "data": {
            "text/plain": [
              "array([[ 4.26847368e-01,  1.71993464e-01,  3.45825046e-01,\n",
              "         4.61315185e-01, -2.50795335e-01, -6.12816513e-01,\n",
              "         7.34516442e-01,  8.00053418e-01, -3.51320915e-02,\n",
              "         1.87686577e-01,  6.11595437e-02, -2.25251004e-01,\n",
              "        -1.66458398e-01,  4.98404443e-01, -5.66716027e-03,\n",
              "        -3.17374796e-01,  2.44957253e-01,  3.80374968e-01,\n",
              "        -1.11728996e-01, -2.02512845e-01, -2.80324835e-02,\n",
              "        -1.28250360e-01,  4.82434928e-01,  2.60166705e-01,\n",
              "         3.52267385e-01,  5.82203269e-02, -7.51896679e-01,\n",
              "        -3.10259253e-01, -6.71485245e-01, -1.54739782e-01,\n",
              "         3.55570763e-01,  5.24768084e-02, -7.48770460e-02,\n",
              "         2.16762036e-01, -4.32461143e-01,  2.11014733e-01,\n",
              "         3.63365561e-02, -6.62179410e-01, -3.14125717e-01,\n",
              "        -7.53904402e-01, -5.85418880e-01,  1.77731082e-01,\n",
              "        -1.50777057e-01, -3.50244403e-01,  4.80277210e-01,\n",
              "         1.39122999e+00, -1.64011300e-01, -1.55780569e-01,\n",
              "        -1.83682323e-01,  6.19540811e-01,  2.56963849e-01,\n",
              "        -2.64634728e-01, -6.11702323e-01, -3.40918899e-01,\n",
              "        -8.69084895e-02,  5.22348464e-01, -3.80050577e-02,\n",
              "        -2.96265990e-01, -2.18007296e-01, -3.30507457e-01,\n",
              "        -4.67898339e-01, -6.62997246e-01,  5.01726419e-02,\n",
              "         2.64756590e-01, -1.19959131e-01,  5.55183887e-01,\n",
              "        -2.03790188e-01, -6.79121986e-02, -3.63042027e-01,\n",
              "         2.84005225e-01, -4.89205450e-01,  3.64412516e-01,\n",
              "         1.93922147e-01, -4.97944981e-01,  2.98891068e-01,\n",
              "         1.30065456e-01, -7.85132498e-02,  1.58471927e-01,\n",
              "        -1.30688772e-01,  4.40570325e-01,  1.13325387e-01,\n",
              "        -4.28884864e-01, -6.95681423e-02,  5.96277595e-01,\n",
              "        -6.06698766e-02,  1.83009803e-02,  2.23369256e-01,\n",
              "        -3.68425697e-01,  3.80508214e-01,  3.34320962e-03,\n",
              "         7.13288665e-01, -4.88430858e-01,  5.27845085e-01,\n",
              "        -1.85387552e-01,  3.77730221e-01,  4.47149694e-01,\n",
              "         2.49052227e-01, -1.32711470e-01, -3.00841570e-01,\n",
              "         2.97536671e-01,  2.45110616e-02,  3.95597607e-01,\n",
              "         4.85421568e-01,  2.85687596e-01, -2.86659688e-01,\n",
              "        -2.12435797e-01,  2.42290065e-01, -3.08381859e-02,\n",
              "        -6.91960096e-01, -1.31411254e-01, -7.90886581e-01,\n",
              "        -2.98190057e-01,  2.16194749e-01,  4.44608450e-01,\n",
              "        -1.13437749e-01,  1.01101890e-01,  2.57490948e-02,\n",
              "         1.70450181e-01,  3.45707178e-01, -6.50905311e-01,\n",
              "        -3.97187918e-02,  6.09314680e-01, -2.82012355e-02,\n",
              "        -4.51958418e-01, -2.18494073e-01,  4.53652799e-01,\n",
              "        -7.96985719e-03, -3.13989997e-01, -4.02638763e-01,\n",
              "         4.30726320e-01,  1.77861955e-02,  9.22800183e-01,\n",
              "         2.75159895e-01, -3.41727436e-01, -2.32965127e-01,\n",
              "         2.95839012e-01, -6.06456339e-01, -2.93853551e-01,\n",
              "        -3.03024471e-01, -1.54747352e-01,  3.38251173e-01,\n",
              "        -1.54048026e-01,  1.76253319e-02, -2.34187216e-01,\n",
              "         4.83564824e-01, -2.65638530e-01, -7.44765162e-01,\n",
              "        -1.05077170e-01,  3.36198151e-01, -2.63876677e-01,\n",
              "        -4.86517727e-01, -1.00432181e+00, -1.47531793e-01,\n",
              "        -4.99844939e-01, -8.36983547e-02,  1.02409434e+00,\n",
              "        -6.00792527e-01, -4.39937115e-02, -1.21136129e-01,\n",
              "         4.23296779e-01,  4.61489588e-01,  4.68713820e-01,\n",
              "        -4.96255875e-01,  8.54847729e-01,  8.17562640e-02,\n",
              "         1.17111519e-01,  1.23217247e-01,  4.06564400e-02,\n",
              "        -1.21424727e-01,  7.82025099e-01,  1.75534576e-01,\n",
              "        -2.62234598e-01,  2.03946590e-01,  6.86890557e-02,\n",
              "        -1.90384984e-02,  2.27820098e-01,  1.66500241e-01,\n",
              "        -7.30514050e-01,  2.43326142e-01,  3.40099275e-01,\n",
              "        -5.43396294e-01,  1.19658031e-01, -7.56536841e-01,\n",
              "         4.83824462e-02, -1.40325144e-01,  2.33959496e-01,\n",
              "         9.52400684e-01,  6.27786398e-01,  7.27582574e-01,\n",
              "        -3.69256616e-01,  6.91194907e-02, -3.17735285e-01,\n",
              "        -9.44814563e-01, -1.90379605e-01,  1.03793703e-01,\n",
              "        -5.61505198e-01, -2.77200222e-01, -7.29999244e-01,\n",
              "         1.21087678e-01,  1.05718775e-02, -5.38824201e-01,\n",
              "         9.12507996e-02, -1.30183259e-02,  3.53435874e-02,\n",
              "         7.51135722e-02, -6.72733337e-02,  2.18358278e-01,\n",
              "        -1.00840755e-01, -1.68369234e-01,  1.73800424e-01,\n",
              "        -1.58038780e-01, -3.90145302e-01,  3.81559581e-02,\n",
              "        -3.10744613e-01,  2.62251168e-01, -5.11813350e-02,\n",
              "        -1.17357470e-01, -8.89256477e-01, -6.19120479e-01,\n",
              "        -2.72822410e-01,  3.00409615e-01,  7.18036413e-01,\n",
              "         1.98545426e-01, -7.23138809e-01,  3.86633426e-01,\n",
              "        -4.22385663e-01,  7.41933705e-04, -5.17134607e-01,\n",
              "        -4.53155845e-01,  3.63147706e-02,  3.70322943e-01,\n",
              "         2.26236463e-01,  2.88240194e-01,  4.70947832e-01,\n",
              "        -3.72251332e-01,  3.60090762e-01, -1.43718451e-01,\n",
              "         2.25919075e-02,  1.18845083e-01, -7.20314682e-01,\n",
              "         1.55453101e-01, -2.76102692e-01, -3.72983962e-01,\n",
              "         2.15882808e-01,  4.40016426e-02, -6.27180142e-03,\n",
              "        -1.04208499e-01,  3.09891887e-02, -2.46935308e-01,\n",
              "         2.78888009e-02,  1.38355017e-01,  3.42171758e-01,\n",
              "         2.53419042e-01, -6.78252220e-01, -6.61373854e-01,\n",
              "        -3.08769256e-01,  5.05016506e-01,  5.35035431e-01,\n",
              "        -4.64353710e-01, -3.50940526e-01, -1.48928896e-01,\n",
              "         2.74059802e-01, -1.86738968e-02, -8.59645247e-01,\n",
              "        -3.84337723e-01, -2.28097200e-01,  2.22693413e-01,\n",
              "         3.34059477e-01, -7.21743107e-01, -2.72044595e-02,\n",
              "        -6.73775554e-01, -7.98009783e-02,  2.47805953e-01,\n",
              "         1.11875661e-01,  1.80998757e-01, -2.91953743e-01,\n",
              "         5.72407365e-01, -5.55613875e-01, -8.64121377e-01,\n",
              "         1.05631046e-01, -3.82064700e-01,  1.64565202e-02,\n",
              "        -3.46716307e-02,  7.54050851e-01, -2.93472737e-01,\n",
              "        -6.23804033e-02, -3.11846375e-01, -3.92966002e-01,\n",
              "         4.88280617e-02,  4.69356805e-01, -1.68812618e-01,\n",
              "         8.50026250e-01,  7.70229936e-01,  3.45729321e-01,\n",
              "         6.68616593e-01,  1.00740552e+00,  1.63188279e-01,\n",
              "         5.34711964e-02,  4.89095330e-01, -5.12005985e-01],\n",
              "       [ 1.82809353e-01,  1.48132235e-01,  1.78446874e-01,\n",
              "         3.11192602e-01, -1.19985558e-01, -2.33657792e-01,\n",
              "         2.82489061e-01,  4.38794136e-01,  6.92068338e-02,\n",
              "         1.11374035e-01, -1.77031476e-02, -1.60880223e-01,\n",
              "        -9.83745679e-02,  2.28377253e-01, -9.44029391e-02,\n",
              "        -1.83025017e-01,  2.37344280e-01,  1.51735350e-01,\n",
              "         1.07392259e-01, -1.26704231e-01, -1.27571791e-01,\n",
              "        -1.10200882e-01,  1.44151315e-01,  6.98152930e-02,\n",
              "         3.04241985e-01,  2.26860028e-02, -4.95082200e-01,\n",
              "        -1.82361528e-02, -3.31602186e-01, -5.90214506e-02,\n",
              "         1.60698742e-01,  4.80132885e-02, -2.29599439e-02,\n",
              "         1.56229854e-01, -2.30630174e-01,  1.46923974e-01,\n",
              "         1.21086910e-02, -2.72305220e-01, -1.43811837e-01,\n",
              "        -3.06593001e-01, -2.64663100e-01,  9.42705348e-02,\n",
              "        -3.09766969e-03, -2.01758146e-01,  2.09566236e-01,\n",
              "         5.51563799e-01, -2.87917182e-02, -1.48455232e-01,\n",
              "        -1.30445644e-01,  3.05216372e-01,  1.70783862e-01,\n",
              "        -1.64523333e-01, -3.18507314e-01, -4.86941338e-02,\n",
              "        -6.77388087e-02,  2.65334427e-01,  1.24672614e-01,\n",
              "        -1.34828061e-01,  4.44494508e-04, -8.57010111e-02,\n",
              "        -2.00844765e-01, -2.84542114e-01,  1.45717934e-01,\n",
              "         3.51068266e-02, -3.69471572e-02,  2.50821978e-01,\n",
              "        -1.15904808e-01, -7.27837980e-02, -1.71032652e-01,\n",
              "         3.69666517e-02, -1.16118602e-01,  2.31891766e-01,\n",
              "         1.72510758e-01, -2.66116917e-01,  9.43968222e-02,\n",
              "        -3.82141210e-03, -6.59437552e-02,  1.03052743e-01,\n",
              "        -6.03685938e-02,  3.00758511e-01, -3.66118439e-02,\n",
              "        -2.31245995e-01, -1.01328306e-01,  4.79188740e-01,\n",
              "        -4.16742899e-02, -4.12443317e-02,  1.31030967e-02,\n",
              "        -1.36660904e-01,  2.85814464e-01,  2.25597490e-02,\n",
              "         2.73345977e-01, -1.84456080e-01,  2.61711270e-01,\n",
              "        -7.82989934e-02,  2.50921011e-01,  2.48692587e-01,\n",
              "         1.20432220e-01,  1.82302631e-02, -1.78918734e-01,\n",
              "         1.93354115e-01,  4.20311913e-02,  7.67185614e-02,\n",
              "         3.28818470e-01,  6.61233217e-02, -1.63227662e-01,\n",
              "        -1.62971154e-01,  4.03181277e-02, -1.00161836e-01,\n",
              "        -3.30708534e-01, -1.48893744e-01, -3.88605028e-01,\n",
              "        -1.33715779e-01,  1.47225663e-01,  1.56120494e-01,\n",
              "        -7.68207684e-02,  1.69793546e-01,  1.29323341e-02,\n",
              "         5.14337383e-02,  2.61845797e-01, -3.95022064e-01,\n",
              "        -2.23226789e-02,  3.41286033e-01,  1.08528607e-01,\n",
              "        -1.78013235e-01, -1.47864446e-01,  3.53584379e-01,\n",
              "         6.73657879e-02, -2.07421020e-01, -1.74040705e-01,\n",
              "         2.51633108e-01, -7.72591606e-02,  5.19933224e-01,\n",
              "         1.95535392e-01, -2.32416019e-01,  8.27453285e-02,\n",
              "         1.25395536e-01, -3.96711469e-01, -2.58454412e-01,\n",
              "        -2.60581285e-01, -1.55205369e-01,  3.91092375e-02,\n",
              "        -1.80597484e-01,  2.63319965e-02,  1.62519887e-01,\n",
              "         2.40706906e-01, -1.65202960e-01, -4.70832229e-01,\n",
              "        -8.89785662e-02,  1.25482783e-01, -4.92167361e-02,\n",
              "        -4.15538341e-01, -5.45770347e-01, -2.11094558e-01,\n",
              "        -1.88765585e-01, -5.54879792e-02,  4.40907538e-01,\n",
              "        -4.49072093e-01, -3.99004261e-04, -9.59195122e-02,\n",
              "         3.36282551e-01,  2.49509573e-01,  1.79906100e-01,\n",
              "        -2.02917457e-01,  4.99784172e-01, -3.93494070e-02,\n",
              "         8.30753446e-02,  4.25023101e-02,  3.00263073e-02,\n",
              "         3.08557563e-02,  4.11316901e-01,  5.44395186e-02,\n",
              "         9.55027901e-03,  1.58349156e-01,  2.04452779e-02,\n",
              "         1.85016636e-02,  1.37553260e-01,  4.35892679e-02,\n",
              "        -4.44556862e-01, -4.69147600e-03,  1.20955803e-01,\n",
              "        -1.55574262e-01,  7.68751577e-02, -2.66228288e-01,\n",
              "        -6.14348054e-02, -1.50179446e-01,  2.09563449e-01,\n",
              "         5.25124848e-01,  4.24656004e-01,  2.16546252e-01,\n",
              "        -2.89470881e-01,  8.38721767e-02, -1.75291315e-01,\n",
              "        -4.97065097e-01,  5.11513650e-03,  1.91136733e-01,\n",
              "        -3.49762261e-01, -6.13903068e-02, -4.43652451e-01,\n",
              "         9.79377627e-02,  1.58925150e-02, -2.53914148e-01,\n",
              "         9.16233361e-02, -4.04727831e-02,  1.09110154e-01,\n",
              "        -3.42924148e-02, -5.19103780e-02,  1.04641728e-01,\n",
              "         5.16145974e-02, -1.75470456e-01, -7.04349801e-02,\n",
              "         7.44692013e-02, -3.38844836e-01, -3.44097577e-02,\n",
              "        -1.69134215e-01,  1.27390236e-01, -1.38562873e-01,\n",
              "        -1.53992057e-01, -5.01434088e-01, -2.60607243e-01,\n",
              "        -3.42228770e-01,  2.12582409e-01,  3.43971610e-01,\n",
              "         1.92692149e-02, -3.69740248e-01,  3.04906964e-02,\n",
              "        -2.03115597e-01, -8.60126391e-02, -3.28960836e-01,\n",
              "        -1.52058408e-01,  5.72961792e-02,  1.39165834e-01,\n",
              "         1.21846229e-01,  8.90258178e-02,  2.63021410e-01,\n",
              "        -1.44473180e-01,  1.70262188e-01,  4.68412973e-03,\n",
              "         2.23430097e-01,  5.15444726e-02, -4.67204899e-01,\n",
              "         9.50434729e-02, -2.42645144e-01, -3.80599983e-02,\n",
              "         4.54039015e-02,  3.76536772e-02, -1.76063254e-01,\n",
              "         6.77591637e-02,  5.62018789e-02, -2.11756185e-01,\n",
              "         1.23316802e-01,  1.85667574e-01,  1.93069518e-01,\n",
              "         2.25782216e-01, -2.21452102e-01, -4.14297283e-01,\n",
              "        -9.95814577e-02,  4.07970428e-01,  2.99038380e-01,\n",
              "        -2.44258910e-01, -3.10238749e-01, -1.51238861e-02,\n",
              "         2.45665014e-01, -9.21118930e-02, -3.73448551e-01,\n",
              "        -2.39785507e-01, -2.97980681e-02,  1.47261485e-01,\n",
              "         2.11126059e-01, -4.27940458e-01,  1.65333189e-02,\n",
              "        -2.76233047e-01, -3.75645049e-02,  7.27639124e-02,\n",
              "         2.11326536e-02,  1.66838929e-01, -2.54829854e-01,\n",
              "         3.14067125e-01, -1.80567607e-01, -3.33531618e-01,\n",
              "         3.14882882e-02, -6.30241781e-02,  1.17285810e-01,\n",
              "        -1.78254023e-02,  2.61715233e-01,  3.03968769e-02,\n",
              "        -2.88172830e-02, -2.21467957e-01, -1.35649547e-01,\n",
              "         1.23476163e-01,  3.86377305e-01, -3.99314798e-02,\n",
              "         4.35943872e-01,  2.47955546e-01,  1.97124749e-01,\n",
              "         3.61070663e-01,  5.21343708e-01,  2.97461525e-02,\n",
              "        -1.23975193e-03,  1.79275423e-01, -1.20242491e-01]], dtype=float32)"
            ]
          },
          "metadata": {},
          "execution_count": 11
        }
      ]
    },
    {
      "cell_type": "code",
      "source": [
        "# Crear etiquetas para los datos\n",
        "Y = np.array([1] * len(Ans) + [0] * len(Cont))\n",
        "\n",
        "\n",
        "\n",
        "# Dividir datos en conjuntos de entrenamiento y prueba\n",
        "X_train, X_val, y_train, y_val = train_test_split(X, Y, test_size=0.3, random_state=42)\n",
        "\n",
        "# Verificar las dimensiones después de la división\n",
        "print(\"Dimensiones de X_train:\", X_train.shape)\n",
        "print(\"Dimensiones de y_train:\", y_train.shape)\n",
        "print(\"Dimensiones de X_val:\", X_val.shape)\n",
        "print(\"Dimensiones de y_val:\", y_val.shape)\n"
      ],
      "metadata": {
        "colab": {
          "base_uri": "https://localhost:8080/"
        },
        "id": "EHDkTTX9G0zV",
        "outputId": "1e8c619a-36c2-4952-9239-f9c839fba989"
      },
      "execution_count": null,
      "outputs": [
        {
          "output_type": "stream",
          "name": "stdout",
          "text": [
            "Dimensiones de X_train: (126, 300)\n",
            "Dimensiones de y_train: (126,)\n",
            "Dimensiones de X_val: (54, 300)\n",
            "Dimensiones de y_val: (54,)\n"
          ]
        }
      ]
    },
    {
      "cell_type": "markdown",
      "source": [
        "#Redución de dimensionalidad con LDA"
      ],
      "metadata": {
        "id": "eGsKoqVhzZyn"
      }
    },
    {
      "cell_type": "code",
      "source": [
        "from sklearn.decomposition import LatentDirichletAllocation as LDA\n",
        "# Aplicar LDA para reducir la dimensionalidad\n",
        "n_topics = 70  # Define el número de tópicos (componentes)\n",
        "lda = LDA(n_components=n_topics)\n",
        "X_train = lda.fit_transform(X_train, y_train)\n",
        "X_val = lda.transform(X_val)"
      ],
      "metadata": {
        "id": "NXK8Vs6Ez8Qx"
      },
      "execution_count": null,
      "outputs": []
    },
    {
      "cell_type": "code",
      "source": [
        "print(X_train.shape)\n",
        "print(X_val.shape)\n",
        "print(y_train.shape)\n",
        "print(y_val.shape)"
      ],
      "metadata": {
        "colab": {
          "base_uri": "https://localhost:8080/"
        },
        "id": "XPqrFRMw97fT",
        "outputId": "a408632b-9bd2-48ef-f360-a2425d3fae91"
      },
      "execution_count": null,
      "outputs": [
        {
          "output_type": "stream",
          "name": "stdout",
          "text": [
            "(126, 70)\n",
            "(54, 70)\n",
            "(126,)\n",
            "(54,)\n"
          ]
        }
      ]
    },
    {
      "cell_type": "markdown",
      "source": [
        "**Modelo análisis de texto**"
      ],
      "metadata": {
        "id": "42176aZnCQAz"
      }
    },
    {
      "cell_type": "markdown",
      "source": [
        "#Red neuronal"
      ],
      "metadata": {
        "id": "biZew38mWzN_"
      }
    },
    {
      "cell_type": "code",
      "source": [
        "# Crear una red neuronal secuencial\n",
        "\n",
        "model = Sequential()\n",
        "\n",
        "# Agregar una capa de entrada con el número de características\n",
        "model.add(Dense(328, activation='relu', input_dim=X_train.shape[1]))\n",
        "model.add(Dropout(0.1))  # Dropout para regularización\n",
        "\n",
        "# Agregar una capa oculta\n",
        "model.add(Dense(164, activation='relu'))\n",
        "model.add(Dropout(0.1))  # Dropout para regularización\n",
        "\n",
        "# Agregar una capa de salida con una neurona y función de activación sigmoide para clasificación binaria\n",
        "model.add(Dense(1, activation='sigmoid'))\n",
        "\n",
        "# Compilar el modelo\n",
        "model.compile(optimizer='adam', loss='binary_crossentropy', metrics=['accuracy'])\n",
        "\n",
        "# Entrenar el modelo en los datos de entrenamiento\n",
        "history = model.fit(X_train, y_train, epochs=100, batch_size=50, validation_data=(X_val, y_val))\n",
        "\n",
        "# Evaluar el modelo en el conjunto de validación\n",
        "y_val_pred = (model.predict(X_val) > 0.5).astype(int)\n",
        "\n",
        "# Calcular métricas de evaluación en el conjunto de validación\n",
        "accuracy = accuracy_score(y_val, y_val_pred)\n",
        "precision = precision_score(y_val, y_val_pred)\n",
        "recall = recall_score(y_val, y_val_pred)\n",
        "f1 = f1_score(y_val, y_val_pred)\n",
        "\n",
        "# Calcular métricas de evaluación en el conjunto de entrenamiento\n",
        "y_train_pred = (model.predict(X_train) > 0.5).astype(int)\n",
        "\n",
        "accuracy_train = accuracy_score(y_train, y_train_pred)\n",
        "precision_train = precision_score(y_train, y_train_pred)\n",
        "recall_train = recall_score(y_train, y_train_pred)\n",
        "f1_train = f1_score(y_train, y_train_pred)"
      ],
      "metadata": {
        "colab": {
          "base_uri": "https://localhost:8080/"
        },
        "id": "A76ubucGY005",
        "outputId": "9312f03d-0efb-46a7-a99c-f534c391ad2f"
      },
      "execution_count": null,
      "outputs": [
        {
          "output_type": "stream",
          "name": "stdout",
          "text": [
            "Epoch 1/100\n",
            "3/3 [==============================] - 2s 110ms/step - loss: 0.6934 - accuracy: 0.5079 - val_loss: 0.6932 - val_accuracy: 0.4630\n",
            "Epoch 2/100\n",
            "3/3 [==============================] - 0s 15ms/step - loss: 0.6937 - accuracy: 0.4841 - val_loss: 0.6929 - val_accuracy: 0.5370\n",
            "Epoch 3/100\n",
            "3/3 [==============================] - 0s 14ms/step - loss: 0.6927 - accuracy: 0.5159 - val_loss: 0.6941 - val_accuracy: 0.4630\n",
            "Epoch 4/100\n",
            "3/3 [==============================] - 0s 16ms/step - loss: 0.6925 - accuracy: 0.5317 - val_loss: 0.6969 - val_accuracy: 0.4630\n",
            "Epoch 5/100\n",
            "3/3 [==============================] - 0s 15ms/step - loss: 0.6924 - accuracy: 0.5159 - val_loss: 0.6991 - val_accuracy: 0.4630\n",
            "Epoch 6/100\n",
            "3/3 [==============================] - 0s 17ms/step - loss: 0.6921 - accuracy: 0.5159 - val_loss: 0.6991 - val_accuracy: 0.4630\n",
            "Epoch 7/100\n",
            "3/3 [==============================] - 0s 15ms/step - loss: 0.6934 - accuracy: 0.5159 - val_loss: 0.6985 - val_accuracy: 0.4630\n",
            "Epoch 8/100\n",
            "3/3 [==============================] - 0s 15ms/step - loss: 0.6940 - accuracy: 0.5159 - val_loss: 0.6976 - val_accuracy: 0.4630\n",
            "Epoch 9/100\n",
            "3/3 [==============================] - 0s 15ms/step - loss: 0.6918 - accuracy: 0.5079 - val_loss: 0.6959 - val_accuracy: 0.4630\n",
            "Epoch 10/100\n",
            "3/3 [==============================] - 0s 15ms/step - loss: 0.6929 - accuracy: 0.5317 - val_loss: 0.6946 - val_accuracy: 0.4630\n",
            "Epoch 11/100\n",
            "3/3 [==============================] - 0s 16ms/step - loss: 0.6912 - accuracy: 0.5397 - val_loss: 0.6945 - val_accuracy: 0.4630\n",
            "Epoch 12/100\n",
            "3/3 [==============================] - 0s 23ms/step - loss: 0.6920 - accuracy: 0.5238 - val_loss: 0.6947 - val_accuracy: 0.4630\n",
            "Epoch 13/100\n",
            "3/3 [==============================] - 0s 31ms/step - loss: 0.6924 - accuracy: 0.5238 - val_loss: 0.6943 - val_accuracy: 0.4630\n",
            "Epoch 14/100\n",
            "3/3 [==============================] - 0s 31ms/step - loss: 0.6935 - accuracy: 0.5159 - val_loss: 0.6947 - val_accuracy: 0.4630\n",
            "Epoch 15/100\n",
            "3/3 [==============================] - 0s 26ms/step - loss: 0.6939 - accuracy: 0.5476 - val_loss: 0.6944 - val_accuracy: 0.4630\n",
            "Epoch 16/100\n",
            "3/3 [==============================] - 0s 28ms/step - loss: 0.6900 - accuracy: 0.5556 - val_loss: 0.6942 - val_accuracy: 0.4630\n",
            "Epoch 17/100\n",
            "3/3 [==============================] - 0s 27ms/step - loss: 0.6927 - accuracy: 0.5317 - val_loss: 0.6938 - val_accuracy: 0.4630\n",
            "Epoch 18/100\n",
            "3/3 [==============================] - 0s 26ms/step - loss: 0.6967 - accuracy: 0.4762 - val_loss: 0.6951 - val_accuracy: 0.4630\n",
            "Epoch 19/100\n",
            "3/3 [==============================] - 0s 17ms/step - loss: 0.6936 - accuracy: 0.4603 - val_loss: 0.6955 - val_accuracy: 0.4630\n",
            "Epoch 20/100\n",
            "3/3 [==============================] - 0s 25ms/step - loss: 0.6893 - accuracy: 0.5397 - val_loss: 0.6953 - val_accuracy: 0.4630\n",
            "Epoch 21/100\n",
            "3/3 [==============================] - 0s 17ms/step - loss: 0.6929 - accuracy: 0.5000 - val_loss: 0.6947 - val_accuracy: 0.4630\n",
            "Epoch 22/100\n",
            "3/3 [==============================] - 0s 17ms/step - loss: 0.6917 - accuracy: 0.5714 - val_loss: 0.6934 - val_accuracy: 0.4630\n",
            "Epoch 23/100\n",
            "3/3 [==============================] - 0s 18ms/step - loss: 0.6932 - accuracy: 0.4762 - val_loss: 0.6929 - val_accuracy: 0.5370\n",
            "Epoch 24/100\n",
            "3/3 [==============================] - 0s 17ms/step - loss: 0.6910 - accuracy: 0.5556 - val_loss: 0.6923 - val_accuracy: 0.5370\n",
            "Epoch 25/100\n",
            "3/3 [==============================] - 0s 19ms/step - loss: 0.6979 - accuracy: 0.4444 - val_loss: 0.6922 - val_accuracy: 0.5370\n",
            "Epoch 26/100\n",
            "3/3 [==============================] - 0s 19ms/step - loss: 0.6935 - accuracy: 0.5079 - val_loss: 0.6936 - val_accuracy: 0.4630\n",
            "Epoch 27/100\n",
            "3/3 [==============================] - 0s 18ms/step - loss: 0.6915 - accuracy: 0.5159 - val_loss: 0.6957 - val_accuracy: 0.4630\n",
            "Epoch 28/100\n",
            "3/3 [==============================] - 0s 27ms/step - loss: 0.6962 - accuracy: 0.5159 - val_loss: 0.6978 - val_accuracy: 0.4630\n",
            "Epoch 29/100\n",
            "3/3 [==============================] - 0s 17ms/step - loss: 0.6938 - accuracy: 0.5159 - val_loss: 0.6979 - val_accuracy: 0.4630\n",
            "Epoch 30/100\n",
            "3/3 [==============================] - 0s 21ms/step - loss: 0.6933 - accuracy: 0.5159 - val_loss: 0.6985 - val_accuracy: 0.4630\n",
            "Epoch 31/100\n",
            "3/3 [==============================] - 0s 26ms/step - loss: 0.6922 - accuracy: 0.5159 - val_loss: 0.6988 - val_accuracy: 0.4630\n",
            "Epoch 32/100\n",
            "3/3 [==============================] - 0s 33ms/step - loss: 0.6936 - accuracy: 0.5159 - val_loss: 0.6994 - val_accuracy: 0.4630\n",
            "Epoch 33/100\n",
            "3/3 [==============================] - 0s 19ms/step - loss: 0.6943 - accuracy: 0.5159 - val_loss: 0.6991 - val_accuracy: 0.4630\n",
            "Epoch 34/100\n",
            "3/3 [==============================] - 0s 27ms/step - loss: 0.6972 - accuracy: 0.5159 - val_loss: 0.6992 - val_accuracy: 0.4630\n",
            "Epoch 35/100\n",
            "3/3 [==============================] - 0s 19ms/step - loss: 0.6946 - accuracy: 0.5079 - val_loss: 0.6967 - val_accuracy: 0.4630\n",
            "Epoch 36/100\n",
            "3/3 [==============================] - 0s 20ms/step - loss: 0.6934 - accuracy: 0.5159 - val_loss: 0.6952 - val_accuracy: 0.4630\n",
            "Epoch 37/100\n",
            "3/3 [==============================] - 0s 23ms/step - loss: 0.6935 - accuracy: 0.5238 - val_loss: 0.6947 - val_accuracy: 0.4630\n",
            "Epoch 38/100\n",
            "3/3 [==============================] - 0s 18ms/step - loss: 0.6929 - accuracy: 0.5079 - val_loss: 0.6945 - val_accuracy: 0.4630\n",
            "Epoch 39/100\n",
            "3/3 [==============================] - 0s 25ms/step - loss: 0.6941 - accuracy: 0.5159 - val_loss: 0.6946 - val_accuracy: 0.4630\n",
            "Epoch 40/100\n",
            "3/3 [==============================] - 0s 18ms/step - loss: 0.6926 - accuracy: 0.5238 - val_loss: 0.6945 - val_accuracy: 0.4630\n",
            "Epoch 41/100\n",
            "3/3 [==============================] - 0s 21ms/step - loss: 0.6930 - accuracy: 0.5079 - val_loss: 0.6950 - val_accuracy: 0.4630\n",
            "Epoch 42/100\n",
            "3/3 [==============================] - 0s 30ms/step - loss: 0.6915 - accuracy: 0.5159 - val_loss: 0.6951 - val_accuracy: 0.4630\n",
            "Epoch 43/100\n",
            "3/3 [==============================] - 0s 20ms/step - loss: 0.6934 - accuracy: 0.5159 - val_loss: 0.6951 - val_accuracy: 0.4630\n",
            "Epoch 44/100\n",
            "3/3 [==============================] - 0s 28ms/step - loss: 0.6922 - accuracy: 0.5238 - val_loss: 0.6952 - val_accuracy: 0.4630\n",
            "Epoch 45/100\n",
            "3/3 [==============================] - 0s 29ms/step - loss: 0.6937 - accuracy: 0.5238 - val_loss: 0.6954 - val_accuracy: 0.4630\n",
            "Epoch 46/100\n",
            "3/3 [==============================] - 0s 31ms/step - loss: 0.6910 - accuracy: 0.5159 - val_loss: 0.6958 - val_accuracy: 0.4630\n",
            "Epoch 47/100\n",
            "3/3 [==============================] - 0s 17ms/step - loss: 0.6920 - accuracy: 0.5159 - val_loss: 0.6960 - val_accuracy: 0.4630\n",
            "Epoch 48/100\n",
            "3/3 [==============================] - 0s 33ms/step - loss: 0.6921 - accuracy: 0.5159 - val_loss: 0.6961 - val_accuracy: 0.4630\n",
            "Epoch 49/100\n",
            "3/3 [==============================] - 0s 19ms/step - loss: 0.6911 - accuracy: 0.5159 - val_loss: 0.6960 - val_accuracy: 0.4630\n",
            "Epoch 50/100\n",
            "3/3 [==============================] - 0s 17ms/step - loss: 0.6945 - accuracy: 0.5159 - val_loss: 0.6957 - val_accuracy: 0.4630\n",
            "Epoch 51/100\n",
            "3/3 [==============================] - 0s 20ms/step - loss: 0.6932 - accuracy: 0.5079 - val_loss: 0.6958 - val_accuracy: 0.4630\n",
            "Epoch 52/100\n",
            "3/3 [==============================] - 0s 19ms/step - loss: 0.6921 - accuracy: 0.5159 - val_loss: 0.6957 - val_accuracy: 0.4630\n",
            "Epoch 53/100\n",
            "3/3 [==============================] - 0s 17ms/step - loss: 0.6931 - accuracy: 0.5159 - val_loss: 0.6957 - val_accuracy: 0.4630\n",
            "Epoch 54/100\n",
            "3/3 [==============================] - 0s 17ms/step - loss: 0.6927 - accuracy: 0.5238 - val_loss: 0.6956 - val_accuracy: 0.4630\n",
            "Epoch 55/100\n",
            "3/3 [==============================] - 0s 17ms/step - loss: 0.6917 - accuracy: 0.5238 - val_loss: 0.6959 - val_accuracy: 0.4630\n",
            "Epoch 56/100\n",
            "3/3 [==============================] - 0s 17ms/step - loss: 0.6929 - accuracy: 0.5159 - val_loss: 0.6956 - val_accuracy: 0.4630\n",
            "Epoch 57/100\n",
            "3/3 [==============================] - 0s 19ms/step - loss: 0.6946 - accuracy: 0.5000 - val_loss: 0.6957 - val_accuracy: 0.4630\n",
            "Epoch 58/100\n",
            "3/3 [==============================] - 0s 19ms/step - loss: 0.6938 - accuracy: 0.5000 - val_loss: 0.6965 - val_accuracy: 0.4630\n",
            "Epoch 59/100\n",
            "3/3 [==============================] - 0s 21ms/step - loss: 0.6926 - accuracy: 0.5159 - val_loss: 0.6967 - val_accuracy: 0.4630\n",
            "Epoch 60/100\n",
            "3/3 [==============================] - 0s 20ms/step - loss: 0.6925 - accuracy: 0.5159 - val_loss: 0.6971 - val_accuracy: 0.4630\n",
            "Epoch 61/100\n",
            "3/3 [==============================] - 0s 18ms/step - loss: 0.6930 - accuracy: 0.5159 - val_loss: 0.6973 - val_accuracy: 0.4630\n",
            "Epoch 62/100\n",
            "3/3 [==============================] - 0s 18ms/step - loss: 0.6935 - accuracy: 0.5159 - val_loss: 0.6972 - val_accuracy: 0.4630\n",
            "Epoch 63/100\n",
            "3/3 [==============================] - 0s 17ms/step - loss: 0.6912 - accuracy: 0.5159 - val_loss: 0.6969 - val_accuracy: 0.4630\n",
            "Epoch 64/100\n",
            "3/3 [==============================] - 0s 26ms/step - loss: 0.6915 - accuracy: 0.5159 - val_loss: 0.6969 - val_accuracy: 0.4630\n",
            "Epoch 65/100\n",
            "3/3 [==============================] - 0s 28ms/step - loss: 0.6930 - accuracy: 0.5159 - val_loss: 0.6967 - val_accuracy: 0.4630\n",
            "Epoch 66/100\n",
            "3/3 [==============================] - 0s 17ms/step - loss: 0.6932 - accuracy: 0.5159 - val_loss: 0.6970 - val_accuracy: 0.4630\n",
            "Epoch 67/100\n",
            "3/3 [==============================] - 0s 17ms/step - loss: 0.6931 - accuracy: 0.5079 - val_loss: 0.6965 - val_accuracy: 0.4630\n",
            "Epoch 68/100\n",
            "3/3 [==============================] - 0s 24ms/step - loss: 0.6939 - accuracy: 0.5238 - val_loss: 0.6959 - val_accuracy: 0.4630\n",
            "Epoch 69/100\n",
            "3/3 [==============================] - 0s 29ms/step - loss: 0.6928 - accuracy: 0.5238 - val_loss: 0.6955 - val_accuracy: 0.4630\n",
            "Epoch 70/100\n",
            "3/3 [==============================] - 0s 19ms/step - loss: 0.6930 - accuracy: 0.5238 - val_loss: 0.6949 - val_accuracy: 0.4630\n",
            "Epoch 71/100\n",
            "3/3 [==============================] - 0s 18ms/step - loss: 0.6914 - accuracy: 0.5159 - val_loss: 0.6947 - val_accuracy: 0.4630\n",
            "Epoch 72/100\n",
            "3/3 [==============================] - 0s 17ms/step - loss: 0.6914 - accuracy: 0.5238 - val_loss: 0.6946 - val_accuracy: 0.4630\n",
            "Epoch 73/100\n",
            "3/3 [==============================] - 0s 17ms/step - loss: 0.6937 - accuracy: 0.5000 - val_loss: 0.6947 - val_accuracy: 0.4630\n",
            "Epoch 74/100\n",
            "3/3 [==============================] - 0s 19ms/step - loss: 0.6929 - accuracy: 0.5000 - val_loss: 0.6948 - val_accuracy: 0.4630\n",
            "Epoch 75/100\n",
            "3/3 [==============================] - 0s 20ms/step - loss: 0.6935 - accuracy: 0.5397 - val_loss: 0.6948 - val_accuracy: 0.4630\n",
            "Epoch 76/100\n",
            "3/3 [==============================] - 0s 17ms/step - loss: 0.6935 - accuracy: 0.5159 - val_loss: 0.6949 - val_accuracy: 0.4630\n",
            "Epoch 77/100\n",
            "3/3 [==============================] - 0s 29ms/step - loss: 0.6930 - accuracy: 0.5238 - val_loss: 0.6945 - val_accuracy: 0.4630\n",
            "Epoch 78/100\n",
            "3/3 [==============================] - 0s 27ms/step - loss: 0.6918 - accuracy: 0.5238 - val_loss: 0.6950 - val_accuracy: 0.4630\n",
            "Epoch 79/100\n",
            "3/3 [==============================] - 0s 28ms/step - loss: 0.6924 - accuracy: 0.5159 - val_loss: 0.6953 - val_accuracy: 0.4630\n",
            "Epoch 80/100\n",
            "3/3 [==============================] - 0s 26ms/step - loss: 0.6918 - accuracy: 0.5476 - val_loss: 0.6957 - val_accuracy: 0.4630\n",
            "Epoch 81/100\n",
            "3/3 [==============================] - 0s 19ms/step - loss: 0.6933 - accuracy: 0.5317 - val_loss: 0.6957 - val_accuracy: 0.4630\n",
            "Epoch 82/100\n",
            "3/3 [==============================] - 0s 26ms/step - loss: 0.6918 - accuracy: 0.5317 - val_loss: 0.6957 - val_accuracy: 0.4630\n",
            "Epoch 83/100\n",
            "3/3 [==============================] - 0s 34ms/step - loss: 0.6905 - accuracy: 0.5238 - val_loss: 0.6961 - val_accuracy: 0.4630\n",
            "Epoch 84/100\n",
            "3/3 [==============================] - 0s 27ms/step - loss: 0.6934 - accuracy: 0.5000 - val_loss: 0.6956 - val_accuracy: 0.4630\n",
            "Epoch 85/100\n",
            "3/3 [==============================] - 0s 19ms/step - loss: 0.6916 - accuracy: 0.5238 - val_loss: 0.6952 - val_accuracy: 0.4630\n",
            "Epoch 86/100\n",
            "3/3 [==============================] - 0s 23ms/step - loss: 0.6930 - accuracy: 0.4603 - val_loss: 0.6940 - val_accuracy: 0.4630\n",
            "Epoch 87/100\n",
            "3/3 [==============================] - 0s 29ms/step - loss: 0.6938 - accuracy: 0.4921 - val_loss: 0.6934 - val_accuracy: 0.4630\n",
            "Epoch 88/100\n",
            "3/3 [==============================] - 0s 15ms/step - loss: 0.6926 - accuracy: 0.5397 - val_loss: 0.6935 - val_accuracy: 0.4630\n",
            "Epoch 89/100\n",
            "3/3 [==============================] - 0s 15ms/step - loss: 0.6950 - accuracy: 0.4444 - val_loss: 0.6948 - val_accuracy: 0.4630\n",
            "Epoch 90/100\n",
            "3/3 [==============================] - 0s 16ms/step - loss: 0.6933 - accuracy: 0.5079 - val_loss: 0.6950 - val_accuracy: 0.4630\n",
            "Epoch 91/100\n",
            "3/3 [==============================] - 0s 18ms/step - loss: 0.6936 - accuracy: 0.5317 - val_loss: 0.6968 - val_accuracy: 0.4630\n",
            "Epoch 92/100\n",
            "3/3 [==============================] - 0s 16ms/step - loss: 0.6935 - accuracy: 0.5159 - val_loss: 0.6969 - val_accuracy: 0.4630\n",
            "Epoch 93/100\n",
            "3/3 [==============================] - 0s 16ms/step - loss: 0.6932 - accuracy: 0.5079 - val_loss: 0.6957 - val_accuracy: 0.4630\n",
            "Epoch 94/100\n",
            "3/3 [==============================] - 0s 17ms/step - loss: 0.6930 - accuracy: 0.5079 - val_loss: 0.6948 - val_accuracy: 0.4630\n",
            "Epoch 95/100\n",
            "3/3 [==============================] - 0s 16ms/step - loss: 0.6922 - accuracy: 0.5079 - val_loss: 0.6942 - val_accuracy: 0.4630\n",
            "Epoch 96/100\n",
            "3/3 [==============================] - 0s 16ms/step - loss: 0.6971 - accuracy: 0.4603 - val_loss: 0.6942 - val_accuracy: 0.4630\n",
            "Epoch 97/100\n",
            "3/3 [==============================] - 0s 16ms/step - loss: 0.6941 - accuracy: 0.4762 - val_loss: 0.6940 - val_accuracy: 0.4630\n",
            "Epoch 98/100\n",
            "3/3 [==============================] - 0s 15ms/step - loss: 0.6928 - accuracy: 0.5000 - val_loss: 0.6937 - val_accuracy: 0.4630\n",
            "Epoch 99/100\n",
            "3/3 [==============================] - 0s 15ms/step - loss: 0.6926 - accuracy: 0.5000 - val_loss: 0.6942 - val_accuracy: 0.4630\n",
            "Epoch 100/100\n",
            "3/3 [==============================] - 0s 24ms/step - loss: 0.6937 - accuracy: 0.5079 - val_loss: 0.6947 - val_accuracy: 0.4630\n",
            "2/2 [==============================] - 0s 7ms/step\n",
            "4/4 [==============================] - 0s 2ms/step\n"
          ]
        }
      ]
    },
    {
      "cell_type": "code",
      "source": [
        "# Imprimir métricas de entrenamiento\n",
        "print(\"\\nMétricas en el conjunto de entrenamiento:\")\n",
        "print(f\"Exactitud (entrenamiento): {round(accuracy_train, 2) * 100}%\")\n",
        "print(f\"Precisión (entrenamiento): {round(precision_train, 2) * 100}%\")\n",
        "print(f\"Recall (entrenamiento): {round(recall_train, 2) * 100}%\")\n",
        "print(f\"F1-score (entrenamiento): {round(f1_train, 2) * 100}%\")\n",
        "print('-------------------------------------------------------------------------')\n",
        "# Imprimir métricas de evaluación\n",
        "print(f\"Exactitud en el conjunto de validación: {round(accuracy, 2) * 100}%\")\n",
        "print(f\"Precisión en el conjunto de validación: {round(precision, 2) * 100}%\")\n",
        "print(f\"Recall en el conjunto de validación: {round(recall, 2) * 100}%\")\n",
        "print(f\"F1-score en el conjunto de validación: {round(f1, 2) * 100}%\")"
      ],
      "metadata": {
        "colab": {
          "base_uri": "https://localhost:8080/"
        },
        "id": "hXVDgU6vY6IL",
        "outputId": "227b9bee-ddac-43de-b77f-606a6b7db3fb"
      },
      "execution_count": null,
      "outputs": [
        {
          "output_type": "stream",
          "name": "stdout",
          "text": [
            "\n",
            "Métricas en el conjunto de entrenamiento:\n",
            "Exactitud (entrenamiento): 52.0%\n",
            "Precisión (entrenamiento): 52.0%\n",
            "Recall (entrenamiento): 100.0%\n",
            "F1-score (entrenamiento): 68.0%\n",
            "-------------------------------------------------------------------------\n",
            "Exactitud en el conjunto de validación: 46.0%\n",
            "Precisión en el conjunto de validación: 46.0%\n",
            "Recall en el conjunto de validación: 100.0%\n",
            "F1-score en el conjunto de validación: 63.0%\n"
          ]
        }
      ]
    },
    {
      "cell_type": "markdown",
      "source": [
        "# **Matriz de confusión**"
      ],
      "metadata": {
        "id": "zrnag9LChBJk"
      }
    },
    {
      "cell_type": "code",
      "source": [
        "from sklearn.metrics import confusion_matrix\n",
        "\n",
        "y_pred = model.predict(X_val)\n",
        "\n",
        "# Obtiene la matriz de confusión. Las filas corresponden a las clases reales,\n",
        "umbral = 0.5  # Puedes ajustar este umbral según tus necesidades\n",
        "y_pred_binario = (y_pred > umbral).astype(int)\n",
        "\n",
        "# Calcular la matriz de confusión con las etiquetas binarias\n",
        "cm = confusion_matrix(y_val, y_pred_binario)\n",
        "prop_real = np.sum(y_val)/len(y_val)\n",
        "prop_etiqutados = (cm[0,1]+cm[1,1])/len(y_val)\n",
        "\n",
        "print(\"Matriz de confusión: \\n\\n\", cm, \"\\n\")\n",
        "print('Proporción de comentarios positivos: %.2f'% prop_real)\n",
        "print('Proporción de comentarios positivos etiquetados: %.2f'% prop_etiqutados)"
      ],
      "metadata": {
        "colab": {
          "base_uri": "https://localhost:8080/"
        },
        "id": "7jAmF9ruhK_z",
        "outputId": "93515086-8888-4ff6-9c47-7743409ccdd5"
      },
      "execution_count": null,
      "outputs": [
        {
          "output_type": "stream",
          "name": "stdout",
          "text": [
            "2/2 [==============================] - 0s 4ms/step\n",
            "Matriz de confusión: \n",
            "\n",
            " [[ 0 29]\n",
            " [ 0 25]] \n",
            "\n",
            "Proporción de comentarios positivos: 0.46\n",
            "Proporción de comentarios positivos etiquetados: 1.00\n"
          ]
        }
      ]
    },
    {
      "cell_type": "code",
      "source": [
        "import seaborn as sns\n",
        "import matplotlib.pyplot as plt\n",
        "\n",
        "# Crear una figura para la matriz de confusión\n",
        "plt.figure(figsize=(8, 6))\n",
        "\n",
        "# Crear una matriz de confusión usando el heatmap de Seaborn\n",
        "sns.heatmap(cm, annot=True, fmt=\"d\", cmap=\"Blues\", xticklabels=['Control', 'Ansiedad'], yticklabels=['Control', 'Ansiedad'])\n",
        "\n",
        "# Etiquetas y título\n",
        "plt.xlabel('Predicción')\n",
        "plt.ylabel('Valor Real')\n",
        "plt.title('Matriz de Confusión (Usarios con Ansiedad vs de control)')\n",
        "\n",
        "# Mostrar la gráfica\n",
        "plt.show()"
      ],
      "metadata": {
        "colab": {
          "base_uri": "https://localhost:8080/",
          "height": 564
        },
        "id": "JkILkBO4hc1r",
        "outputId": "84ba0042-5e79-4acc-bf97-8f75ea3d6fdc"
      },
      "execution_count": null,
      "outputs": [
        {
          "output_type": "display_data",
          "data": {
            "text/plain": [
              "<Figure size 800x600 with 2 Axes>"
            ],
            "image/png": "[encoded data removed]"
          },
          "metadata": {}
        }
      ]
    },
    {
      "cell_type": "markdown",
      "source": [
        "#Modelo Bosque Aleatorio"
      ],
      "metadata": {
        "id": "Jr7wkaLH8D9Y"
      }
    },
    {
      "cell_type": "code",
      "source": [
        "from sklearn.ensemble import RandomForestClassifier\n",
        "from sklearn.metrics import accuracy_score, precision_score, recall_score, f1_score\n",
        "\n",
        "from sklearn.model_selection import train_test_split\n",
        "\n",
        "\n",
        "# Crea un modelo de Random Forest\n",
        "random_forest_model = RandomForestClassifier(n_estimators=300,  # Numero de alboles\n",
        "                                             max_depth=100, # profunidad máxima\n",
        "                                             random_state=42)  # selección de la semilla de manera aleatoria\n",
        "\n",
        "\n",
        "# Entrena el modelo en los datos de entrenamiento\n",
        "random_forest_model.fit(X_train, y_train)\n",
        "\n",
        "# Realiza predicciones en los datos de validación\n",
        "y_val_pred = random_forest_model.predict(X_val)\n",
        "\n",
        "# Calcula la precisión (accuracy) del modelo en los datos de validación\n",
        "accuracy = accuracy_score(y_val, y_val_pred)\n",
        "print(\"Accuracy (validación): {:.2f}\".format(accuracy))\n",
        "\n",
        "# Calcula la precisión del modelo en los datos de validación\n",
        "precision = precision_score(y_val, y_val_pred)\n",
        "print(\"Precision (validación): {:.2f}\".format(precision))\n",
        "\n",
        "# Calcula la exactitud (recall) del modelo en los datos de validación\n",
        "recall = recall_score(y_val, y_val_pred)\n",
        "print(\"Recall (validación): {:.2f}\".format(recall))\n",
        "\n",
        "# Calcula el F1-score del modelo en los datos de validación\n",
        "f1 = f1_score(y_val, y_val_pred)\n",
        "print(\"F1-score (validación): {:.2f}\".format(f1))\n",
        "\n",
        "# Calcula y muestra métricas en el conjunto de entrenamiento\n",
        "y_train_pred = random_forest_model.predict(X_train)\n",
        "\n",
        "accuracy_train = accuracy_score(y_train, y_train_pred)\n",
        "precision_train = precision_score(y_train, y_train_pred)\n",
        "recall_train = recall_score(y_train, y_train_pred)\n",
        "f1_train = f1_score(y_train, y_train_pred)\n",
        "\n",
        "#\n",
        "\n",
        "\n"
      ],
      "metadata": {
        "id": "Yf9iwokE-QqU",
        "colab": {
          "base_uri": "https://localhost:8080/"
        },
        "outputId": "a7744837-f784-4ad2-f812-b5beedbb8d1b"
      },
      "execution_count": null,
      "outputs": [
        {
          "output_type": "stream",
          "name": "stdout",
          "text": [
            "Accuracy (validación): 0.59\n",
            "Precision (validación): 0.55\n",
            "Recall (validación): 0.68\n",
            "F1-score (validación): 0.61\n"
          ]
        }
      ]
    },
    {
      "cell_type": "code",
      "source": [
        "# Imprimir las métricas de entrenamiento\n",
        "print(f'Accuracy entrenamiento: {accuracy_train * 100:.2f}%')\n",
        "print(f'Precisión  entrenamiento: {precision_train * 100:.2f}%')\n",
        "print(f'Recall  entrenamiento: {recall_train * 100:.2f}%')\n",
        "print(f'Puntuación F1  entrenamiento: {f1_train * 100:.2f}%')\n",
        "print('\\n')\n",
        "# Imprimir las métricas de validación\n",
        "print(f'Accuracy  validación: {accuracy * 100:.2f}%')\n",
        "print(f'Precisión  validación: {precision* 100:.2f}%')\n",
        "print(f'Recall  validación: {recall* 100:.2f}%')\n",
        "print(f'Puntuación F1 validación: {f1 * 100:.2f}%')"
      ],
      "metadata": {
        "colab": {
          "base_uri": "https://localhost:8080/"
        },
        "id": "NkRDcwJA-Vto",
        "outputId": "12722170-4142-4d69-ccab-cc8d90693f9e"
      },
      "execution_count": null,
      "outputs": [
        {
          "output_type": "stream",
          "name": "stdout",
          "text": [
            "Accuracy entrenamiento: 100.00%\n",
            "Precisión  entrenamiento: 100.00%\n",
            "Recall  entrenamiento: 100.00%\n",
            "Puntuación F1  entrenamiento: 100.00%\n",
            "\n",
            "\n",
            "Accuracy  validación: 59.26%\n",
            "Precisión  validación: 54.84%\n",
            "Recall  validación: 68.00%\n",
            "Puntuación F1 validación: 60.71%\n"
          ]
        }
      ]
    },
    {
      "cell_type": "markdown",
      "source": [
        "# **Matriz de confusión**"
      ],
      "metadata": {
        "id": "PnsoHsgnjbBL"
      }
    },
    {
      "cell_type": "code",
      "source": [
        "from sklearn.metrics import confusion_matrix\n",
        "\n",
        "y_pred_RF = random_forest_model.predict(X_val)\n",
        "\n",
        "# Obtiene la matriz de confusión. Las filas corresponden a las clases reales,\n",
        "umbral = 0.5  # Puedes ajustar este umbral según tus necesidades\n",
        "y_pred_binario = (y_pred_RF > umbral).astype(int)\n",
        "\n",
        "# Calcular la matriz de confusión con las etiquetas binarias\n",
        "cm = confusion_matrix(y_val, y_pred_binario)\n",
        "prop_real = np.sum(y_val)/len(y_val)\n",
        "prop_etiqutados = (cm[0,1]+cm[1,1])/len(y_val)\n",
        "\n",
        "print(\"Matriz de confusión: \\n\\n\", cm, \"\\n\")\n",
        "print('Proporción de comentarios positivos: %.2f'% prop_real)\n",
        "print('Proporción de comentarios positivos etiquetados: %.2f'% prop_etiqutados)"
      ],
      "metadata": {
        "colab": {
          "base_uri": "https://localhost:8080/"
        },
        "outputId": "e403786b-2f07-4b2c-9fb7-616e61c158f6",
        "id": "ge2kdDirjbBU"
      },
      "execution_count": null,
      "outputs": [
        {
          "output_type": "stream",
          "name": "stdout",
          "text": [
            "Matriz de confusión: \n",
            "\n",
            " [[15 14]\n",
            " [ 8 17]] \n",
            "\n",
            "Proporción de comentarios positivos: 0.46\n",
            "Proporción de comentarios positivos etiquetados: 0.57\n"
          ]
        }
      ]
    },
    {
      "cell_type": "code",
      "source": [
        "import seaborn as sns\n",
        "import matplotlib.pyplot as plt\n",
        "\n",
        "# Crear una figura para la matriz de confusión\n",
        "plt.figure(figsize=(8, 6))\n",
        "\n",
        "# Crear una matriz de confusión usando el heatmap de Seaborn\n",
        "sns.heatmap(cm, annot=True, fmt=\"d\", cmap=\"Blues\", xticklabels=['Control', 'Ansiedad'], yticklabels=['Control', 'Ansiedad'])\n",
        "\n",
        "# Etiquetas y título\n",
        "plt.xlabel('Predicción')\n",
        "plt.ylabel('Valor Real')\n",
        "plt.title('Matriz de Confusión (Usarios con Ansiedad vs de control)')\n",
        "\n",
        "# Mostrar la gráfica\n",
        "plt.show()"
      ],
      "metadata": {
        "colab": {
          "base_uri": "https://localhost:8080/",
          "height": 564
        },
        "outputId": "ba2ccfe0-eb70-4d75-ce19-405204154288",
        "id": "gUFypmG1jbBV"
      },
      "execution_count": null,
      "outputs": [
        {
          "output_type": "display_data",
          "data": {
            "text/plain": [
              "<Figure size 800x600 with 2 Axes>"
            ],
            "image/png": "[encoded data removed]"
          },
          "metadata": {}
        }
      ]
    },
    {
      "cell_type": "markdown",
      "source": [
        "#Modelo SVM"
      ],
      "metadata": {
        "id": "tpe64XnkBjMZ"
      }
    },
    {
      "cell_type": "code",
      "source": [
        "from sklearn.svm import SVC\n",
        "from sklearn.metrics import accuracy_score, precision_score, recall_score, f1_score\n",
        "import joblib\n",
        "import os\n",
        "\n",
        "svm_model_p = SVC(kernel='linear', degree=4, C=10000,  gamma='scale', coef0=2.5)\n",
        "\n",
        "# Entrenar el modelo en los datos de entrenamiento\n",
        "svm_model_p.fit(X_train, y_train)\n",
        "\n",
        "# Predecir etiquetas en el conjunto de validación\n",
        "y_val_pred = svm_model_p.predict(X_val)\n",
        "\n",
        "# Calcula la precisión del modelo en el conjunto de validación\n",
        "accuracy = accuracy_score(y_val, y_val_pred)\n",
        "\n",
        "\n",
        "# Calcula precisión, exhaustividad y puntuación F1 en el conjunto de validación\n",
        "precision = precision_score(y_val, y_val_pred)\n",
        "recall = recall_score(y_val, y_val_pred)\n",
        "f1 = f1_score(y_val, y_val_pred)\n",
        "\n",
        "# Calcula y muestra métricas en el conjunto de entrenamiento\n",
        "y_train_pred = svm_model_p.predict(X_train)\n",
        "\n",
        "accuracy_train = accuracy_score(y_train, y_train_pred)\n",
        "precision_train = precision_score(y_train, y_train_pred)\n",
        "recall_train = recall_score(y_train, y_train_pred)\n",
        "f1_train = f1_score(y_train, y_train_pred)\n",
        "\n",
        "print(\"\\nEntrenamiento:\")\n",
        "print(\"Exactitud (entrenamiento): {:.2f}%\".format(accuracy_train*100))\n",
        "print(\"Precision (entrenamiento): {:.2f}%\".format(precision_train*100))\n",
        "print(\"Recall (entrenamiento): {:.2f}%\".format(recall_train*100))\n",
        "print(\"F1-score (entrenamiento): {:.2f}%\".format(f1_train*100))\n",
        "print(\"\\nValidación:\")\n",
        "print(f\"Exactitud en el conjunto de validación: {round(accuracy,2)*100}%\")\n",
        "print(f\"Precisión en el conjunto de validación:{round(precision,2)*100}%\")\n",
        "print(f\"Recall en el conjunto de validación: {round(recall,2)*100}%\")\n",
        "print(f\"F1-score en el conjunto de validación:{round(f1,2)*100}%\")\n",
        "\n"
      ],
      "metadata": {
        "colab": {
          "base_uri": "https://localhost:8080/"
        },
        "id": "abWDh27ABtdx",
        "outputId": "c2d14042-40ab-47e6-e51c-4d5d8e1f2973"
      },
      "execution_count": null,
      "outputs": [
        {
          "output_type": "stream",
          "name": "stdout",
          "text": [
            "\n",
            "Entrenamiento:\n",
            "Exactitud (entrenamiento): 75.40%\n",
            "Precision (entrenamiento): 69.77%\n",
            "Recall (entrenamiento): 92.31%\n",
            "F1-score (entrenamiento): 79.47%\n",
            "\n",
            "Validación:\n",
            "Exactitud en el conjunto de validación: 56.00000000000001%\n",
            "Precisión en el conjunto de validación:51.0%\n",
            "Recall en el conjunto de validación: 80.0%\n",
            "F1-score en el conjunto de validación:62.0%\n"
          ]
        }
      ]
    },
    {
      "cell_type": "markdown",
      "source": [
        "# **Matriz de confusión**"
      ],
      "metadata": {
        "id": "UQJHYe_5mFmL"
      }
    },
    {
      "cell_type": "code",
      "source": [
        "from sklearn.metrics import confusion_matrix\n",
        "\n",
        "y_pred_RF = svm_model_p.predict(X_val)\n",
        "\n",
        "# Obtiene la matriz de confusión. Las filas corresponden a las clases reales,\n",
        "umbral = 0.5  # Puedes ajustar este umbral según tus necesidades\n",
        "y_pred_binario = (y_pred_RF > umbral).astype(int)\n",
        "\n",
        "# Calcular la matriz de confusión con las etiquetas binarias\n",
        "cm = confusion_matrix(y_val, y_pred_binario)\n",
        "prop_real = np.sum(y_val)/len(y_val)\n",
        "prop_etiqutados = (cm[0,1]+cm[1,1])/len(y_val)\n",
        "\n",
        "print(\"Matriz de confusión: \\n\\n\", cm, \"\\n\")\n",
        "print('Proporción de comentarios positivos: %.2f'% prop_real)\n",
        "print('Proporción de comentarios positivos etiquetados: %.2f'% prop_etiqutados)"
      ],
      "metadata": {
        "colab": {
          "base_uri": "https://localhost:8080/"
        },
        "outputId": "6ede9ab0-070f-45df-e9f5-c7633f542adf",
        "id": "bEh8aTdumFmT"
      },
      "execution_count": null,
      "outputs": [
        {
          "output_type": "stream",
          "name": "stdout",
          "text": [
            "Matriz de confusión: \n",
            "\n",
            " [[10 19]\n",
            " [ 5 20]] \n",
            "\n",
            "Proporción de comentarios positivos: 0.46\n",
            "Proporción de comentarios positivos etiquetados: 0.72\n"
          ]
        }
      ]
    },
    {
      "cell_type": "code",
      "source": [
        "import seaborn as sns\n",
        "import matplotlib.pyplot as plt\n",
        "\n",
        "# Crear una figura para la matriz de confusión\n",
        "plt.figure(figsize=(8, 6))\n",
        "\n",
        "# Crear una matriz de confusión usando el heatmap de Seaborn\n",
        "sns.heatmap(cm, annot=True, fmt=\"d\", cmap=\"Blues\", xticklabels=['Control', 'Ansiedad'], yticklabels=['Control', 'Ansiedad'])\n",
        "\n",
        "# Etiquetas y título\n",
        "plt.xlabel('Predicción')\n",
        "plt.ylabel('Valor Real')\n",
        "plt.title('Matriz de Confusión (Usarios con Ansiedad vs de control)')\n",
        "\n",
        "# Mostrar la gráfica\n",
        "plt.show()"
      ],
      "metadata": {
        "colab": {
          "base_uri": "https://localhost:8080/",
          "height": 564
        },
        "outputId": "469382d9-c858-4246-a2cd-640e6ecec9e9",
        "id": "xAQ-K-AImFmT"
      },
      "execution_count": null,
      "outputs": [
        {
          "output_type": "display_data",
          "data": {
            "text/plain": [
              "<Figure size 800x600 with 2 Axes>"
            ],
            "image/png": "[encoded data removed]"
          },
          "metadata": {}
        }
      ]
    },
    {
      "cell_type": "markdown",
      "source": [
        "# **Regresión Logistica**"
      ],
      "metadata": {
        "id": "Ef6U8YQNp2SW"
      }
    },
    {
      "cell_type": "code",
      "source": [
        "from sklearn.linear_model import LogisticRegression\n",
        "from sklearn.metrics import precision_score, recall_score, f1_score\n",
        "# Crear el modelo de regresión logística\n",
        "lr_model = LogisticRegression(C=100)\n",
        "lr_model.fit(X_train, y_train)\n",
        "\n",
        "# Calcular el porcentaje de acierto en el conjunto de entrenamiento\n",
        "accuracy_train = lr_model.score(X_train, y_train) * 100\n",
        "\n",
        "# Calcular el porcentaje de acierto en el conjunto de validación\n",
        "accuracy_val = lr_model.score(X_val, y_val) * 100\n",
        "\n",
        "# Predicciones en el conjunto de entrenamiento y validación\n",
        "y_train_pred = lr_model.predict(X_train)\n",
        "y_val_pred = lr_model.predict(X_val)\n",
        "\n",
        "# Calcular precisión en el conjunto de entrenamiento y validación\n",
        "precision_train = precision_score(y_train, y_train_pred)* 100\n",
        "precision_val = precision_score(y_val, y_val_pred)* 100\n",
        "\n",
        "# Calcular exhaustividad (recall) en el conjunto de entrenamiento y validación\n",
        "recall_train = recall_score(y_train, y_train_pred)* 100\n",
        "recall_val = recall_score(y_val, y_val_pred)* 100\n",
        "\n",
        "# Calcular puntuación F1 en el conjunto de entrenamiento y validación\n",
        "f1_train = f1_score(y_train, y_train_pred)* 100\n",
        "f1_val = f1_score(y_val, y_val_pred)* 100\n"
      ],
      "metadata": {
        "id": "OnNzX1e9RNoJ"
      },
      "execution_count": null,
      "outputs": []
    },
    {
      "cell_type": "code",
      "source": [
        "# Mostrar métricas de entrenamiento\n",
        "print(\"Métricas de entrenamiento:\")\n",
        "print(\"Exactitud (entrenamiento): {:.2f}%\".format(accuracy_train))\n",
        "print(\"Precisión (entrenamiento): {:.2f}%\".format(precision_train))\n",
        "print(\"Exhaustividad (entrenamiento): {:.2f}%\".format(recall_train))\n",
        "print(\"Puntuación F1 (entrenamiento): {:.2f}%\".format(f1_train))\n",
        "print('-'*40)\n",
        "# Mostrar métricas de validación\n",
        "print(\"\\nMétricas de validación:\")\n",
        "print(\"Exactitud (validación): {:.2f}%\".format(accuracy_val))\n",
        "print(\"Precisión (validación): {:.2f}%\".format(precision_val))\n",
        "print(\"Exhaustividad (validación): {:.2f}%\".format(recall_val))\n",
        "print(\"Puntuación F1 (validación): {:.2f}%\".format(f1_val))"
      ],
      "metadata": {
        "colab": {
          "base_uri": "https://localhost:8080/"
        },
        "id": "qwl9Ndehm4o3",
        "outputId": "ac92309c-ae09-4bf6-9b40-66679a962386"
      },
      "execution_count": null,
      "outputs": [
        {
          "output_type": "stream",
          "name": "stdout",
          "text": [
            "Métricas de entrenamiento:\n",
            "Exactitud (entrenamiento): 53.17%\n",
            "Precisión (entrenamiento): 52.42%\n",
            "Exhaustividad (entrenamiento): 100.00%\n",
            "Puntuación F1 (entrenamiento): 68.78%\n",
            "----------------------------------------\n",
            "\n",
            "Métricas de validación:\n",
            "Exactitud (validación): 46.30%\n",
            "Precisión (validación): 46.30%\n",
            "Exhaustividad (validación): 100.00%\n",
            "Puntuación F1 (validación): 63.29%\n"
          ]
        }
      ]
    },
    {
      "cell_type": "markdown",
      "source": [
        "# **Matriz de confusión**"
      ],
      "metadata": {
        "id": "C5K5W5kWnQrg"
      }
    },
    {
      "cell_type": "code",
      "source": [
        "from sklearn.metrics import confusion_matrix\n",
        "\n",
        "y_pred_RF = lr_model.predict(X_val)\n",
        "\n",
        "# Obtiene la matriz de confusión. Las filas corresponden a las clases reales,\n",
        "umbral = 0.5  # Puedes ajustar este umbral según tus necesidades\n",
        "y_pred_binario = (y_pred_RF > umbral).astype(int)\n",
        "\n",
        "# Calcular la matriz de confusión con las etiquetas binarias\n",
        "cm = confusion_matrix(y_val, y_pred_binario)\n",
        "prop_real = np.sum(y_val)/len(y_val)\n",
        "prop_etiqutados = (cm[0,1]+cm[1,1])/len(y_val)\n",
        "\n",
        "print(\"Matriz de confusión: \\n\\n\", cm, \"\\n\")\n",
        "print('Proporción de comentarios positivos: %.2f'% prop_real)\n",
        "print('Proporción de comentarios positivos etiquetados: %.2f'% prop_etiqutados)"
      ],
      "metadata": {
        "colab": {
          "base_uri": "https://localhost:8080/"
        },
        "outputId": "f33c0adf-7650-4f70-9abb-821273f3d7cc",
        "id": "35gIxGVMnQro"
      },
      "execution_count": null,
      "outputs": [
        {
          "output_type": "stream",
          "name": "stdout",
          "text": [
            "Matriz de confusión: \n",
            "\n",
            " [[ 0 29]\n",
            " [ 0 25]] \n",
            "\n",
            "Proporción de comentarios positivos: 0.46\n",
            "Proporción de comentarios positivos etiquetados: 1.00\n"
          ]
        }
      ]
    },
    {
      "cell_type": "code",
      "source": [
        "import seaborn as sns\n",
        "import matplotlib.pyplot as plt\n",
        "\n",
        "# Crear una figura para la matriz de confusión\n",
        "plt.figure(figsize=(8, 6))\n",
        "\n",
        "# Crear una matriz de confusión usando el heatmap de Seaborn\n",
        "sns.heatmap(cm, annot=True, fmt=\"d\", cmap=\"Blues\", xticklabels=['Control', 'Ansiedad'], yticklabels=['Control', 'Ansiedad'])\n",
        "\n",
        "# Etiquetas y título\n",
        "plt.xlabel('Predicción')\n",
        "plt.ylabel('Valor Real')\n",
        "plt.title('Matriz de Confusión (Usarios con Ansiedad vs de control)')\n",
        "\n",
        "# Mostrar la gráfica\n",
        "plt.show()"
      ],
      "metadata": {
        "colab": {
          "base_uri": "https://localhost:8080/",
          "height": 564
        },
        "outputId": "281bde6a-89f7-45b4-8347-bfc9626de4b7",
        "id": "iTWL0FkxnQrp"
      },
      "execution_count": null,
      "outputs": [
        {
          "output_type": "display_data",
          "data": {
            "text/plain": [
              "<Figure size 800x600 with 2 Axes>"
            ],
            "image/png": "[encoded data removed]"
          },
          "metadata": {}
        }
      ]
    }
  ]
}
{
  "nbformat": 4,
  "nbformat_minor": 0,
  "metadata": {
    "colab": {
      "provenance": [],
      "mount_file_id": "1l5Nl-wy4qnX73RnDGOVhotby69tkeJ3H",
      "authorship_tag": "ABX9TyMwrrUbWu0P/HP4IZZfVdUE",
      "include_colab_link": true
    },
    "kernelspec": {
      "name": "python3",
      "display_name": "Python 3"
    },
    "language_info": {
      "name": "python"
    }
  },
  "cells": [
    {
      "cell_type": "markdown",
      "metadata": {
        "id": "view-in-github",
        "colab_type": "text"
      },
      "source": [
        "<a href=\"https://colab.research.google.com/github/reyksayk/Comparaci-n-de-las-diferentes-t-cnica-y-modelos-de-Procesamiento-de-Lenguaje-Natural-/blob/main/Modelos/%20Usuarios/%20Ansiedad%20/LDA%20y%20TFIDF/%20Red%20Neuronal%2C%20Bosque%20aleatorio%2C%20SVM%2C%20Regresi%C3%B3n%20log%C3%ADstica.ipynb\" target=\"_parent\"><img src=\"https://colab.research.google.com/assets/colab-badge.svg\" alt=\"Open In Colab\"/></a>"
      ]
    },
    {
      "cell_type": "code",
      "source": [
        "import numpy as np\n",
        "import pandas as pd\n",
        "\n",
        "import tensorflow as tf\n",
        "from tensorflow.keras.models import Sequential\n",
        "from tensorflow.keras.layers import Dense, Dropout\n",
        "from sklearn.metrics import accuracy_score, precision_score, recall_score, f1_score\n",
        "from sklearn.model_selection import train_test_split\n",
        "from sklearn.preprocessing import LabelEncoder\n",
        "from tensorflow.keras.models import load_model\n",
        "from sklearn.model_selection import cross_val_score\n",
        "from sklearn.model_selection import StratifiedKFold"
      ],
      "metadata": {
        "id": "U7C1X_GgdSjj"
      },
      "execution_count": null,
      "outputs": []
    },
    {
      "cell_type": "markdown",
      "source": [
        "# datos"
      ],
      "metadata": {
        "id": "Qc7qpw2GdPhD"
      }
    },
    {
      "cell_type": "markdown",
      "source": [
        "**usarios con Ansiedad**"
      ],
      "metadata": {
        "id": "BmpzI8EBdbB4"
      }
    },
    {
      "cell_type": "code",
      "source": [
        "archivo = '/content/drive/MyDrive/Experimentación Python Tesis /Experimento por agrupación de usuarios/Usuarios con ansiedad/User_ansiedad (11).csv'\n",
        "ansiedad = pd.read_csv(archivo, sep =',')\n",
        "ansiedad.head(10)"
      ],
      "metadata": {
        "colab": {
          "base_uri": "https://localhost:8080/",
          "height": 799
        },
        "id": "H7xomni0dabC",
        "outputId": "6119117a-e724-49fa-ca9e-805564f0a6e2"
      },
      "execution_count": null,
      "outputs": [
        {
          "output_type": "execute_result",
          "data": {
            "text/plain": [
              "     class             tweet_id         day      time  \\\n",
              "0  ANXIETY  1438363451487920132  2021-09-16  04:45:44   \n",
              "1  ANXIETY  1438363270423977984  2021-09-16  04:45:01   \n",
              "2  ANXIETY  1438362508054642690  2021-09-16  04:42:00   \n",
              "3  ANXIETY  1438362447123988482  2021-09-16  04:41:45   \n",
              "4  ANXIETY  1438362091501543425  2021-09-16  04:40:20   \n",
              "5  ANXIETY  1438361162572304385  2021-09-16  04:36:39   \n",
              "6  ANXIETY  1438361139549769728  2021-09-16  04:36:33   \n",
              "7  ANXIETY  1438360329809956866  2021-09-16  04:33:20   \n",
              "8  ANXIETY  1438359477711945731  2021-09-16  04:29:57   \n",
              "9  ANXIETY  1438359321562304512  2021-09-16  04:29:20   \n",
              "\n",
              "                                               tweet  tweet_favorite_count  \\\n",
              "0                             @USUARIO Quiero ser tu                     0   \n",
              "1  @USUARIO Me pasa, en navidad salimos a la casa...                     0   \n",
              "2                          No soy de México hdsptsmd                     0   \n",
              "3                   Viva México, las mujeres y Louis                     2   \n",
              "4                           @USUARIO Ayyy, que lindo                     0   \n",
              "5                                  CAES MAL PRIMA OE                     0   \n",
              "6  Conocí el amor de mi vida en el concierto de e...                     0   \n",
              "7                        Lloro con el guante de Perú                     0   \n",
              "8  Mi ex me hablaba de los salchipulpos, dale que...                     0   \n",
              "9                          @USUARIO AYUDA QUE ES ESO                     0   \n",
              "\n",
              "   tweet_retweet_count         tweet_source              user_id  \\\n",
              "0                    0  Twitter for Android  1351876916844834816   \n",
              "1                    0  Twitter for Android  1351876916844834816   \n",
              "2                    0  Twitter for Android  1351876916844834816   \n",
              "3                    1  Twitter for Android  1351876916844834816   \n",
              "4                    0  Twitter for Android  1351876916844834816   \n",
              "5                    0  Twitter for Android  1351876916844834816   \n",
              "6                    0  Twitter for Android  1351876916844834816   \n",
              "7                    0  Twitter for Android  1351876916844834816   \n",
              "8                    0  Twitter for Android  1351876916844834816   \n",
              "9                    0  Twitter for Android  1351876916844834816   \n",
              "\n",
              "   user_followers_count  user_friends_count  user_listed_count  \\\n",
              "0                  1644                1685                  9   \n",
              "1                  1644                1685                  9   \n",
              "2                  1644                1685                  9   \n",
              "3                  1644                1685                  9   \n",
              "4                  1644                1685                  9   \n",
              "5                  1644                1685                  9   \n",
              "6                  1644                1685                  9   \n",
              "7                  1644                1685                  9   \n",
              "8                  1644                1685                  9   \n",
              "9                  1644                1685                  9   \n",
              "\n",
              "   user_statuses_count  \n",
              "0                32911  \n",
              "1                32911  \n",
              "2                32911  \n",
              "3                32911  \n",
              "4                32911  \n",
              "5                32911  \n",
              "6                32911  \n",
              "7                32911  \n",
              "8                32911  \n",
              "9                32911  "
            ],
            "text/html": [
              "\n",
              "  <div id=\"df-42b0839f-c0ef-4166-b78c-5a9ce9f4bb91\" class=\"colab-df-container\">\n",
              "    <div>\n",
              "<style scoped>\n",
              "    .dataframe tbody tr th:only-of-type {\n",
              "        vertical-align: middle;\n",
              "    }\n",
              "\n",
              "    .dataframe tbody tr th {\n",
              "        vertical-align: top;\n",
              "    }\n",
              "\n",
              "    .dataframe thead th {\n",
              "        text-align: right;\n",
              "    }\n",
              "</style>\n",
              "<table border=\"1\" class=\"dataframe\">\n",
              "  <thead>\n",
              "    <tr style=\"text-align: right;\">\n",
              "      <th></th>\n",
              "      <th>class</th>\n",
              "      <th>tweet_id</th>\n",
              "      <th>day</th>\n",
              "      <th>time</th>\n",
              "      <th>tweet</th>\n",
              "      <th>tweet_favorite_count</th>\n",
              "      <th>tweet_retweet_count</th>\n",
              "      <th>tweet_source</th>\n",
              "      <th>user_id</th>\n",
              "      <th>user_followers_count</th>\n",
              "      <th>user_friends_count</th>\n",
              "      <th>user_listed_count</th>\n",
              "      <th>user_statuses_count</th>\n",
              "    </tr>\n",
              "  </thead>\n",
              "  <tbody>\n",
              "    <tr>\n",
              "      <th>0</th>\n",
              "      <td>ANXIETY</td>\n",
              "      <td>1438363451487920132</td>\n",
              "      <td>2021-09-16</td>\n",
              "      <td>04:45:44</td>\n",
              "      <td>@USUARIO Quiero ser tu</td>\n",
              "      <td>0</td>\n",
              "      <td>0</td>\n",
              "      <td>Twitter for Android</td>\n",
              "      <td>1351876916844834816</td>\n",
              "      <td>1644</td>\n",
              "      <td>1685</td>\n",
              "      <td>9</td>\n",
              "      <td>32911</td>\n",
              "    </tr>\n",
              "    <tr>\n",
              "      <th>1</th>\n",
              "      <td>ANXIETY</td>\n",
              "      <td>1438363270423977984</td>\n",
              "      <td>2021-09-16</td>\n",
              "      <td>04:45:01</td>\n",
              "      <td>@USUARIO Me pasa, en navidad salimos a la casa...</td>\n",
              "      <td>0</td>\n",
              "      <td>0</td>\n",
              "      <td>Twitter for Android</td>\n",
              "      <td>1351876916844834816</td>\n",
              "      <td>1644</td>\n",
              "      <td>1685</td>\n",
              "      <td>9</td>\n",
              "      <td>32911</td>\n",
              "    </tr>\n",
              "    <tr>\n",
              "      <th>2</th>\n",
              "      <td>ANXIETY</td>\n",
              "      <td>1438362508054642690</td>\n",
              "      <td>2021-09-16</td>\n",
              "      <td>04:42:00</td>\n",
              "      <td>No soy de México hdsptsmd</td>\n",
              "      <td>0</td>\n",
              "      <td>0</td>\n",
              "      <td>Twitter for Android</td>\n",
              "      <td>1351876916844834816</td>\n",
              "      <td>1644</td>\n",
              "      <td>1685</td>\n",
              "      <td>9</td>\n",
              "      <td>32911</td>\n",
              "    </tr>\n",
              "    <tr>\n",
              "      <th>3</th>\n",
              "      <td>ANXIETY</td>\n",
              "      <td>1438362447123988482</td>\n",
              "      <td>2021-09-16</td>\n",
              "      <td>04:41:45</td>\n",
              "      <td>Viva México, las mujeres y Louis</td>\n",
              "      <td>2</td>\n",
              "      <td>1</td>\n",
              "      <td>Twitter for Android</td>\n",
              "      <td>1351876916844834816</td>\n",
              "      <td>1644</td>\n",
              "      <td>1685</td>\n",
              "      <td>9</td>\n",
              "      <td>32911</td>\n",
              "    </tr>\n",
              "    <tr>\n",
              "      <th>4</th>\n",
              "      <td>ANXIETY</td>\n",
              "      <td>1438362091501543425</td>\n",
              "      <td>2021-09-16</td>\n",
              "      <td>04:40:20</td>\n",
              "      <td>@USUARIO Ayyy, que lindo</td>\n",
              "      <td>0</td>\n",
              "      <td>0</td>\n",
              "      <td>Twitter for Android</td>\n",
              "      <td>1351876916844834816</td>\n",
              "      <td>1644</td>\n",
              "      <td>1685</td>\n",
              "      <td>9</td>\n",
              "      <td>32911</td>\n",
              "    </tr>\n",
              "    <tr>\n",
              "      <th>5</th>\n",
              "      <td>ANXIETY</td>\n",
              "      <td>1438361162572304385</td>\n",
              "      <td>2021-09-16</td>\n",
              "      <td>04:36:39</td>\n",
              "      <td>CAES MAL PRIMA OE</td>\n",
              "      <td>0</td>\n",
              "      <td>0</td>\n",
              "      <td>Twitter for Android</td>\n",
              "      <td>1351876916844834816</td>\n",
              "      <td>1644</td>\n",
              "      <td>1685</td>\n",
              "      <td>9</td>\n",
              "      <td>32911</td>\n",
              "    </tr>\n",
              "    <tr>\n",
              "      <th>6</th>\n",
              "      <td>ANXIETY</td>\n",
              "      <td>1438361139549769728</td>\n",
              "      <td>2021-09-16</td>\n",
              "      <td>04:36:33</td>\n",
              "      <td>Conocí el amor de mi vida en el concierto de e...</td>\n",
              "      <td>0</td>\n",
              "      <td>0</td>\n",
              "      <td>Twitter for Android</td>\n",
              "      <td>1351876916844834816</td>\n",
              "      <td>1644</td>\n",
              "      <td>1685</td>\n",
              "      <td>9</td>\n",
              "      <td>32911</td>\n",
              "    </tr>\n",
              "    <tr>\n",
              "      <th>7</th>\n",
              "      <td>ANXIETY</td>\n",
              "      <td>1438360329809956866</td>\n",
              "      <td>2021-09-16</td>\n",
              "      <td>04:33:20</td>\n",
              "      <td>Lloro con el guante de Perú</td>\n",
              "      <td>0</td>\n",
              "      <td>0</td>\n",
              "      <td>Twitter for Android</td>\n",
              "      <td>1351876916844834816</td>\n",
              "      <td>1644</td>\n",
              "      <td>1685</td>\n",
              "      <td>9</td>\n",
              "      <td>32911</td>\n",
              "    </tr>\n",
              "    <tr>\n",
              "      <th>8</th>\n",
              "      <td>ANXIETY</td>\n",
              "      <td>1438359477711945731</td>\n",
              "      <td>2021-09-16</td>\n",
              "      <td>04:29:57</td>\n",
              "      <td>Mi ex me hablaba de los salchipulpos, dale que...</td>\n",
              "      <td>0</td>\n",
              "      <td>0</td>\n",
              "      <td>Twitter for Android</td>\n",
              "      <td>1351876916844834816</td>\n",
              "      <td>1644</td>\n",
              "      <td>1685</td>\n",
              "      <td>9</td>\n",
              "      <td>32911</td>\n",
              "    </tr>\n",
              "    <tr>\n",
              "      <th>9</th>\n",
              "      <td>ANXIETY</td>\n",
              "      <td>1438359321562304512</td>\n",
              "      <td>2021-09-16</td>\n",
              "      <td>04:29:20</td>\n",
              "      <td>@USUARIO AYUDA QUE ES ESO</td>\n",
              "      <td>0</td>\n",
              "      <td>0</td>\n",
              "      <td>Twitter for Android</td>\n",
              "      <td>1351876916844834816</td>\n",
              "      <td>1644</td>\n",
              "      <td>1685</td>\n",
              "      <td>9</td>\n",
              "      <td>32911</td>\n",
              "    </tr>\n",
              "  </tbody>\n",
              "</table>\n",
              "</div>\n",
              "    <div class=\"colab-df-buttons\">\n",
              "\n",
              "  <div class=\"colab-df-container\">\n",
              "    <button class=\"colab-df-convert\" onclick=\"convertToInteractive('df-42b0839f-c0ef-4166-b78c-5a9ce9f4bb91')\"\n",
              "            title=\"Convert this dataframe to an interactive table.\"\n",
              "            style=\"display:none;\">\n",
              "\n",
              "  <svg xmlns=\"http://www.w3.org/2000/svg\" height=\"24px\" viewBox=\"0 -960 960 960\">\n",
              "    <path d=\"M120-120v-720h720v720H120Zm60-500h600v-160H180v160Zm220 220h160v-160H400v160Zm0 220h160v-160H400v160ZM180-400h160v-160H180v160Zm440 0h160v-160H620v160ZM180-180h160v-160H180v160Zm440 0h160v-160H620v160Z\"/>\n",
              "  </svg>\n",
              "    </button>\n",
              "\n",
              "  <style>\n",
              "    .colab-df-container {\n",
              "      display:flex;\n",
              "      gap: 12px;\n",
              "    }\n",
              "\n",
              "    .colab-df-convert {\n",
              "      background-color: #E8F0FE;\n",
              "      border: none;\n",
              "      border-radius: 50%;\n",
              "      cursor: pointer;\n",
              "      display: none;\n",
              "      fill: #1967D2;\n",
              "      height: 32px;\n",
              "      padding: 0 0 0 0;\n",
              "      width: 32px;\n",
              "    }\n",
              "\n",
              "    .colab-df-convert:hover {\n",
              "      background-color: #E2EBFA;\n",
              "      box-shadow: 0px 1px 2px rgba(60, 64, 67, 0.3), 0px 1px 3px 1px rgba(60, 64, 67, 0.15);\n",
              "      fill: #174EA6;\n",
              "    }\n",
              "\n",
              "    .colab-df-buttons div {\n",
              "      margin-bottom: 4px;\n",
              "    }\n",
              "\n",
              "    [theme=dark] .colab-df-convert {\n",
              "      background-color: #3B4455;\n",
              "      fill: #D2E3FC;\n",
              "    }\n",
              "\n",
              "    [theme=dark] .colab-df-convert:hover {\n",
              "      background-color: #434B5C;\n",
              "      box-shadow: 0px 1px 3px 1px rgba(0, 0, 0, 0.15);\n",
              "      filter: drop-shadow(0px 1px 2px rgba(0, 0, 0, 0.3));\n",
              "      fill: #FFFFFF;\n",
              "    }\n",
              "  </style>\n",
              "\n",
              "    <script>\n",
              "      const buttonEl =\n",
              "        document.querySelector('#df-42b0839f-c0ef-4166-b78c-5a9ce9f4bb91 button.colab-df-convert');\n",
              "      buttonEl.style.display =\n",
              "        google.colab.kernel.accessAllowed ? 'block' : 'none';\n",
              "\n",
              "      async function convertToInteractive(key) {\n",
              "        const element = document.querySelector('#df-42b0839f-c0ef-4166-b78c-5a9ce9f4bb91');\n",
              "        const dataTable =\n",
              "          await google.colab.kernel.invokeFunction('convertToInteractive',\n",
              "                                                    [key], {});\n",
              "        if (!dataTable) return;\n",
              "\n",
              "        const docLinkHtml = 'Like what you see? Visit the ' +\n",
              "          '<a target=\"_blank\" href=https://colab.research.google.com/notebooks/data_table.ipynb>data table notebook</a>'\n",
              "          + ' to learn more about interactive tables.';\n",
              "        element.innerHTML = '';\n",
              "        dataTable['output_type'] = 'display_data';\n",
              "        await google.colab.output.renderOutput(dataTable, element);\n",
              "        const docLink = document.createElement('div');\n",
              "        docLink.innerHTML = docLinkHtml;\n",
              "        element.appendChild(docLink);\n",
              "      }\n",
              "    </script>\n",
              "  </div>\n",
              "\n",
              "\n",
              "<div id=\"df-5e725f65-64d7-4e59-bf6e-b1bdf76b2aae\">\n",
              "  <button class=\"colab-df-quickchart\" onclick=\"quickchart('df-5e725f65-64d7-4e59-bf6e-b1bdf76b2aae')\"\n",
              "            title=\"Suggest charts\"\n",
              "            style=\"display:none;\">\n",
              "\n",
              "<svg xmlns=\"http://www.w3.org/2000/svg\" height=\"24px\"viewBox=\"0 0 24 24\"\n",
              "     width=\"24px\">\n",
              "    <g>\n",
              "        <path d=\"M19 3H5c-1.1 0-2 .9-2 2v14c0 1.1.9 2 2 2h14c1.1 0 2-.9 2-2V5c0-1.1-.9-2-2-2zM9 17H7v-7h2v7zm4 0h-2V7h2v10zm4 0h-2v-4h2v4z\"/>\n",
              "    </g>\n",
              "</svg>\n",
              "  </button>\n",
              "\n",
              "<style>\n",
              "  .colab-df-quickchart {\n",
              "      --bg-color: #E8F0FE;\n",
              "      --fill-color: #1967D2;\n",
              "      --hover-bg-color: #E2EBFA;\n",
              "      --hover-fill-color: #174EA6;\n",
              "      --disabled-fill-color: #AAA;\n",
              "      --disabled-bg-color: #DDD;\n",
              "  }\n",
              "\n",
              "  [theme=dark] .colab-df-quickchart {\n",
              "      --bg-color: #3B4455;\n",
              "      --fill-color: #D2E3FC;\n",
              "      --hover-bg-color: #434B5C;\n",
              "      --hover-fill-color: #FFFFFF;\n",
              "      --disabled-bg-color: #3B4455;\n",
              "      --disabled-fill-color: #666;\n",
              "  }\n",
              "\n",
              "  .colab-df-quickchart {\n",
              "    background-color: var(--bg-color);\n",
              "    border: none;\n",
              "    border-radius: 50%;\n",
              "    cursor: pointer;\n",
              "    display: none;\n",
              "    fill: var(--fill-color);\n",
              "    height: 32px;\n",
              "    padding: 0;\n",
              "    width: 32px;\n",
              "  }\n",
              "\n",
              "  .colab-df-quickchart:hover {\n",
              "    background-color: var(--hover-bg-color);\n",
              "    box-shadow: 0 1px 2px rgba(60, 64, 67, 0.3), 0 1px 3px 1px rgba(60, 64, 67, 0.15);\n",
              "    fill: var(--button-hover-fill-color);\n",
              "  }\n",
              "\n",
              "  .colab-df-quickchart-complete:disabled,\n",
              "  .colab-df-quickchart-complete:disabled:hover {\n",
              "    background-color: var(--disabled-bg-color);\n",
              "    fill: var(--disabled-fill-color);\n",
              "    box-shadow: none;\n",
              "  }\n",
              "\n",
              "  .colab-df-spinner {\n",
              "    border: 2px solid var(--fill-color);\n",
              "    border-color: transparent;\n",
              "    border-bottom-color: var(--fill-color);\n",
              "    animation:\n",
              "      spin 1s steps(1) infinite;\n",
              "  }\n",
              "\n",
              "  @keyframes spin {\n",
              "    0% {\n",
              "      border-color: transparent;\n",
              "      border-bottom-color: var(--fill-color);\n",
              "      border-left-color: var(--fill-color);\n",
              "    }\n",
              "    20% {\n",
              "      border-color: transparent;\n",
              "      border-left-color: var(--fill-color);\n",
              "      border-top-color: var(--fill-color);\n",
              "    }\n",
              "    30% {\n",
              "      border-color: transparent;\n",
              "      border-left-color: var(--fill-color);\n",
              "      border-top-color: var(--fill-color);\n",
              "      border-right-color: var(--fill-color);\n",
              "    }\n",
              "    40% {\n",
              "      border-color: transparent;\n",
              "      border-right-color: var(--fill-color);\n",
              "      border-top-color: var(--fill-color);\n",
              "    }\n",
              "    60% {\n",
              "      border-color: transparent;\n",
              "      border-right-color: var(--fill-color);\n",
              "    }\n",
              "    80% {\n",
              "      border-color: transparent;\n",
              "      border-right-color: var(--fill-color);\n",
              "      border-bottom-color: var(--fill-color);\n",
              "    }\n",
              "    90% {\n",
              "      border-color: transparent;\n",
              "      border-bottom-color: var(--fill-color);\n",
              "    }\n",
              "  }\n",
              "</style>\n",
              "\n",
              "  <script>\n",
              "    async function quickchart(key) {\n",
              "      const quickchartButtonEl =\n",
              "        document.querySelector('#' + key + ' button');\n",
              "      quickchartButtonEl.disabled = true;  // To prevent multiple clicks.\n",
              "      quickchartButtonEl.classList.add('colab-df-spinner');\n",
              "      try {\n",
              "        const charts = await google.colab.kernel.invokeFunction(\n",
              "            'suggestCharts', [key], {});\n",
              "      } catch (error) {\n",
              "        console.error('Error during call to suggestCharts:', error);\n",
              "      }\n",
              "      quickchartButtonEl.classList.remove('colab-df-spinner');\n",
              "      quickchartButtonEl.classList.add('colab-df-quickchart-complete');\n",
              "    }\n",
              "    (() => {\n",
              "      let quickchartButtonEl =\n",
              "        document.querySelector('#df-5e725f65-64d7-4e59-bf6e-b1bdf76b2aae button');\n",
              "      quickchartButtonEl.style.display =\n",
              "        google.colab.kernel.accessAllowed ? 'block' : 'none';\n",
              "    })();\n",
              "  </script>\n",
              "</div>\n",
              "    </div>\n",
              "  </div>\n"
            ]
          },
          "metadata": {},
          "execution_count": 2
        }
      ]
    },
    {
      "cell_type": "markdown",
      "source": [
        "**Usarios de control**"
      ],
      "metadata": {
        "id": "JwK9CHJEeD7r"
      }
    },
    {
      "cell_type": "code",
      "source": [
        "archivo_c = '/content/drive/MyDrive/Experimentación Python Tesis /Experimento por agrupación de usuarios/Usarios de control 2/User_control (12).csv'\n",
        "control = pd.read_csv(archivo, sep =',')\n",
        "control.head(10)"
      ],
      "metadata": {
        "colab": {
          "base_uri": "https://localhost:8080/",
          "height": 799
        },
        "id": "fLeOS7_BdUzZ",
        "outputId": "dc7b7271-739c-46eb-9be6-36509d0c6da0"
      },
      "execution_count": null,
      "outputs": [
        {
          "output_type": "execute_result",
          "data": {
            "text/plain": [
              "     class             tweet_id         day      time  \\\n",
              "0  ANXIETY  1438363451487920132  2021-09-16  04:45:44   \n",
              "1  ANXIETY  1438363270423977984  2021-09-16  04:45:01   \n",
              "2  ANXIETY  1438362508054642690  2021-09-16  04:42:00   \n",
              "3  ANXIETY  1438362447123988482  2021-09-16  04:41:45   \n",
              "4  ANXIETY  1438362091501543425  2021-09-16  04:40:20   \n",
              "5  ANXIETY  1438361162572304385  2021-09-16  04:36:39   \n",
              "6  ANXIETY  1438361139549769728  2021-09-16  04:36:33   \n",
              "7  ANXIETY  1438360329809956866  2021-09-16  04:33:20   \n",
              "8  ANXIETY  1438359477711945731  2021-09-16  04:29:57   \n",
              "9  ANXIETY  1438359321562304512  2021-09-16  04:29:20   \n",
              "\n",
              "                                               tweet  tweet_favorite_count  \\\n",
              "0                             @USUARIO Quiero ser tu                     0   \n",
              "1  @USUARIO Me pasa, en navidad salimos a la casa...                     0   \n",
              "2                          No soy de México hdsptsmd                     0   \n",
              "3                   Viva México, las mujeres y Louis                     2   \n",
              "4                           @USUARIO Ayyy, que lindo                     0   \n",
              "5                                  CAES MAL PRIMA OE                     0   \n",
              "6  Conocí el amor de mi vida en el concierto de e...                     0   \n",
              "7                        Lloro con el guante de Perú                     0   \n",
              "8  Mi ex me hablaba de los salchipulpos, dale que...                     0   \n",
              "9                          @USUARIO AYUDA QUE ES ESO                     0   \n",
              "\n",
              "   tweet_retweet_count         tweet_source              user_id  \\\n",
              "0                    0  Twitter for Android  1351876916844834816   \n",
              "1                    0  Twitter for Android  1351876916844834816   \n",
              "2                    0  Twitter for Android  1351876916844834816   \n",
              "3                    1  Twitter for Android  1351876916844834816   \n",
              "4                    0  Twitter for Android  1351876916844834816   \n",
              "5                    0  Twitter for Android  1351876916844834816   \n",
              "6                    0  Twitter for Android  1351876916844834816   \n",
              "7                    0  Twitter for Android  1351876916844834816   \n",
              "8                    0  Twitter for Android  1351876916844834816   \n",
              "9                    0  Twitter for Android  1351876916844834816   \n",
              "\n",
              "   user_followers_count  user_friends_count  user_listed_count  \\\n",
              "0                  1644                1685                  9   \n",
              "1                  1644                1685                  9   \n",
              "2                  1644                1685                  9   \n",
              "3                  1644                1685                  9   \n",
              "4                  1644                1685                  9   \n",
              "5                  1644                1685                  9   \n",
              "6                  1644                1685                  9   \n",
              "7                  1644                1685                  9   \n",
              "8                  1644                1685                  9   \n",
              "9                  1644                1685                  9   \n",
              "\n",
              "   user_statuses_count  \n",
              "0                32911  \n",
              "1                32911  \n",
              "2                32911  \n",
              "3                32911  \n",
              "4                32911  \n",
              "5                32911  \n",
              "6                32911  \n",
              "7                32911  \n",
              "8                32911  \n",
              "9                32911  "
            ],
            "text/html": [
              "\n",
              "  <div id=\"df-ba33733f-0feb-41c8-b340-0d9e418de58b\" class=\"colab-df-container\">\n",
              "    <div>\n",
              "<style scoped>\n",
              "    .dataframe tbody tr th:only-of-type {\n",
              "        vertical-align: middle;\n",
              "    }\n",
              "\n",
              "    .dataframe tbody tr th {\n",
              "        vertical-align: top;\n",
              "    }\n",
              "\n",
              "    .dataframe thead th {\n",
              "        text-align: right;\n",
              "    }\n",
              "</style>\n",
              "<table border=\"1\" class=\"dataframe\">\n",
              "  <thead>\n",
              "    <tr style=\"text-align: right;\">\n",
              "      <th></th>\n",
              "      <th>class</th>\n",
              "      <th>tweet_id</th>\n",
              "      <th>day</th>\n",
              "      <th>time</th>\n",
              "      <th>tweet</th>\n",
              "      <th>tweet_favorite_count</th>\n",
              "      <th>tweet_retweet_count</th>\n",
              "      <th>tweet_source</th>\n",
              "      <th>user_id</th>\n",
              "      <th>user_followers_count</th>\n",
              "      <th>user_friends_count</th>\n",
              "      <th>user_listed_count</th>\n",
              "      <th>user_statuses_count</th>\n",
              "    </tr>\n",
              "  </thead>\n",
              "  <tbody>\n",
              "    <tr>\n",
              "      <th>0</th>\n",
              "      <td>ANXIETY</td>\n",
              "      <td>1438363451487920132</td>\n",
              "      <td>2021-09-16</td>\n",
              "      <td>04:45:44</td>\n",
              "      <td>@USUARIO Quiero ser tu</td>\n",
              "      <td>0</td>\n",
              "      <td>0</td>\n",
              "      <td>Twitter for Android</td>\n",
              "      <td>1351876916844834816</td>\n",
              "      <td>1644</td>\n",
              "      <td>1685</td>\n",
              "      <td>9</td>\n",
              "      <td>32911</td>\n",
              "    </tr>\n",
              "    <tr>\n",
              "      <th>1</th>\n",
              "      <td>ANXIETY</td>\n",
              "      <td>1438363270423977984</td>\n",
              "      <td>2021-09-16</td>\n",
              "      <td>04:45:01</td>\n",
              "      <td>@USUARIO Me pasa, en navidad salimos a la casa...</td>\n",
              "      <td>0</td>\n",
              "      <td>0</td>\n",
              "      <td>Twitter for Android</td>\n",
              "      <td>1351876916844834816</td>\n",
              "      <td>1644</td>\n",
              "      <td>1685</td>\n",
              "      <td>9</td>\n",
              "      <td>32911</td>\n",
              "    </tr>\n",
              "    <tr>\n",
              "      <th>2</th>\n",
              "      <td>ANXIETY</td>\n",
              "      <td>1438362508054642690</td>\n",
              "      <td>2021-09-16</td>\n",
              "      <td>04:42:00</td>\n",
              "      <td>No soy de México hdsptsmd</td>\n",
              "      <td>0</td>\n",
              "      <td>0</td>\n",
              "      <td>Twitter for Android</td>\n",
              "      <td>1351876916844834816</td>\n",
              "      <td>1644</td>\n",
              "      <td>1685</td>\n",
              "      <td>9</td>\n",
              "      <td>32911</td>\n",
              "    </tr>\n",
              "    <tr>\n",
              "      <th>3</th>\n",
              "      <td>ANXIETY</td>\n",
              "      <td>1438362447123988482</td>\n",
              "      <td>2021-09-16</td>\n",
              "      <td>04:41:45</td>\n",
              "      <td>Viva México, las mujeres y Louis</td>\n",
              "      <td>2</td>\n",
              "      <td>1</td>\n",
              "      <td>Twitter for Android</td>\n",
              "      <td>1351876916844834816</td>\n",
              "      <td>1644</td>\n",
              "      <td>1685</td>\n",
              "      <td>9</td>\n",
              "      <td>32911</td>\n",
              "    </tr>\n",
              "    <tr>\n",
              "      <th>4</th>\n",
              "      <td>ANXIETY</td>\n",
              "      <td>1438362091501543425</td>\n",
              "      <td>2021-09-16</td>\n",
              "      <td>04:40:20</td>\n",
              "      <td>@USUARIO Ayyy, que lindo</td>\n",
              "      <td>0</td>\n",
              "      <td>0</td>\n",
              "      <td>Twitter for Android</td>\n",
              "      <td>1351876916844834816</td>\n",
              "      <td>1644</td>\n",
              "      <td>1685</td>\n",
              "      <td>9</td>\n",
              "      <td>32911</td>\n",
              "    </tr>\n",
              "    <tr>\n",
              "      <th>5</th>\n",
              "      <td>ANXIETY</td>\n",
              "      <td>1438361162572304385</td>\n",
              "      <td>2021-09-16</td>\n",
              "      <td>04:36:39</td>\n",
              "      <td>CAES MAL PRIMA OE</td>\n",
              "      <td>0</td>\n",
              "      <td>0</td>\n",
              "      <td>Twitter for Android</td>\n",
              "      <td>1351876916844834816</td>\n",
              "      <td>1644</td>\n",
              "      <td>1685</td>\n",
              "      <td>9</td>\n",
              "      <td>32911</td>\n",
              "    </tr>\n",
              "    <tr>\n",
              "      <th>6</th>\n",
              "      <td>ANXIETY</td>\n",
              "      <td>1438361139549769728</td>\n",
              "      <td>2021-09-16</td>\n",
              "      <td>04:36:33</td>\n",
              "      <td>Conocí el amor de mi vida en el concierto de e...</td>\n",
              "      <td>0</td>\n",
              "      <td>0</td>\n",
              "      <td>Twitter for Android</td>\n",
              "      <td>1351876916844834816</td>\n",
              "      <td>1644</td>\n",
              "      <td>1685</td>\n",
              "      <td>9</td>\n",
              "      <td>32911</td>\n",
              "    </tr>\n",
              "    <tr>\n",
              "      <th>7</th>\n",
              "      <td>ANXIETY</td>\n",
              "      <td>1438360329809956866</td>\n",
              "      <td>2021-09-16</td>\n",
              "      <td>04:33:20</td>\n",
              "      <td>Lloro con el guante de Perú</td>\n",
              "      <td>0</td>\n",
              "      <td>0</td>\n",
              "      <td>Twitter for Android</td>\n",
              "      <td>1351876916844834816</td>\n",
              "      <td>1644</td>\n",
              "      <td>1685</td>\n",
              "      <td>9</td>\n",
              "      <td>32911</td>\n",
              "    </tr>\n",
              "    <tr>\n",
              "      <th>8</th>\n",
              "      <td>ANXIETY</td>\n",
              "      <td>1438359477711945731</td>\n",
              "      <td>2021-09-16</td>\n",
              "      <td>04:29:57</td>\n",
              "      <td>Mi ex me hablaba de los salchipulpos, dale que...</td>\n",
              "      <td>0</td>\n",
              "      <td>0</td>\n",
              "      <td>Twitter for Android</td>\n",
              "      <td>1351876916844834816</td>\n",
              "      <td>1644</td>\n",
              "      <td>1685</td>\n",
              "      <td>9</td>\n",
              "      <td>32911</td>\n",
              "    </tr>\n",
              "    <tr>\n",
              "      <th>9</th>\n",
              "      <td>ANXIETY</td>\n",
              "      <td>1438359321562304512</td>\n",
              "      <td>2021-09-16</td>\n",
              "      <td>04:29:20</td>\n",
              "      <td>@USUARIO AYUDA QUE ES ESO</td>\n",
              "      <td>0</td>\n",
              "      <td>0</td>\n",
              "      <td>Twitter for Android</td>\n",
              "      <td>1351876916844834816</td>\n",
              "      <td>1644</td>\n",
              "      <td>1685</td>\n",
              "      <td>9</td>\n",
              "      <td>32911</td>\n",
              "    </tr>\n",
              "  </tbody>\n",
              "</table>\n",
              "</div>\n",
              "    <div class=\"colab-df-buttons\">\n",
              "\n",
              "  <div class=\"colab-df-container\">\n",
              "    <button class=\"colab-df-convert\" onclick=\"convertToInteractive('df-ba33733f-0feb-41c8-b340-0d9e418de58b')\"\n",
              "            title=\"Convert this dataframe to an interactive table.\"\n",
              "            style=\"display:none;\">\n",
              "\n",
              "  <svg xmlns=\"http://www.w3.org/2000/svg\" height=\"24px\" viewBox=\"0 -960 960 960\">\n",
              "    <path d=\"M120-120v-720h720v720H120Zm60-500h600v-160H180v160Zm220 220h160v-160H400v160Zm0 220h160v-160H400v160ZM180-400h160v-160H180v160Zm440 0h160v-160H620v160ZM180-180h160v-160H180v160Zm440 0h160v-160H620v160Z\"/>\n",
              "  </svg>\n",
              "    </button>\n",
              "\n",
              "  <style>\n",
              "    .colab-df-container {\n",
              "      display:flex;\n",
              "      gap: 12px;\n",
              "    }\n",
              "\n",
              "    .colab-df-convert {\n",
              "      background-color: #E8F0FE;\n",
              "      border: none;\n",
              "      border-radius: 50%;\n",
              "      cursor: pointer;\n",
              "      display: none;\n",
              "      fill: #1967D2;\n",
              "      height: 32px;\n",
              "      padding: 0 0 0 0;\n",
              "      width: 32px;\n",
              "    }\n",
              "\n",
              "    .colab-df-convert:hover {\n",
              "      background-color: #E2EBFA;\n",
              "      box-shadow: 0px 1px 2px rgba(60, 64, 67, 0.3), 0px 1px 3px 1px rgba(60, 64, 67, 0.15);\n",
              "      fill: #174EA6;\n",
              "    }\n",
              "\n",
              "    .colab-df-buttons div {\n",
              "      margin-bottom: 4px;\n",
              "    }\n",
              "\n",
              "    [theme=dark] .colab-df-convert {\n",
              "      background-color: #3B4455;\n",
              "      fill: #D2E3FC;\n",
              "    }\n",
              "\n",
              "    [theme=dark] .colab-df-convert:hover {\n",
              "      background-color: #434B5C;\n",
              "      box-shadow: 0px 1px 3px 1px rgba(0, 0, 0, 0.15);\n",
              "      filter: drop-shadow(0px 1px 2px rgba(0, 0, 0, 0.3));\n",
              "      fill: #FFFFFF;\n",
              "    }\n",
              "  </style>\n",
              "\n",
              "    <script>\n",
              "      const buttonEl =\n",
              "        document.querySelector('#df-ba33733f-0feb-41c8-b340-0d9e418de58b button.colab-df-convert');\n",
              "      buttonEl.style.display =\n",
              "        google.colab.kernel.accessAllowed ? 'block' : 'none';\n",
              "\n",
              "      async function convertToInteractive(key) {\n",
              "        const element = document.querySelector('#df-ba33733f-0feb-41c8-b340-0d9e418de58b');\n",
              "        const dataTable =\n",
              "          await google.colab.kernel.invokeFunction('convertToInteractive',\n",
              "                                                    [key], {});\n",
              "        if (!dataTable) return;\n",
              "\n",
              "        const docLinkHtml = 'Like what you see? Visit the ' +\n",
              "          '<a target=\"_blank\" href=https://colab.research.google.com/notebooks/data_table.ipynb>data table notebook</a>'\n",
              "          + ' to learn more about interactive tables.';\n",
              "        element.innerHTML = '';\n",
              "        dataTable['output_type'] = 'display_data';\n",
              "        await google.colab.output.renderOutput(dataTable, element);\n",
              "        const docLink = document.createElement('div');\n",
              "        docLink.innerHTML = docLinkHtml;\n",
              "        element.appendChild(docLink);\n",
              "      }\n",
              "    </script>\n",
              "  </div>\n",
              "\n",
              "\n",
              "<div id=\"df-e0f26c22-2021-435f-a4a8-bac776f270ce\">\n",
              "  <button class=\"colab-df-quickchart\" onclick=\"quickchart('df-e0f26c22-2021-435f-a4a8-bac776f270ce')\"\n",
              "            title=\"Suggest charts\"\n",
              "            style=\"display:none;\">\n",
              "\n",
              "<svg xmlns=\"http://www.w3.org/2000/svg\" height=\"24px\"viewBox=\"0 0 24 24\"\n",
              "     width=\"24px\">\n",
              "    <g>\n",
              "        <path d=\"M19 3H5c-1.1 0-2 .9-2 2v14c0 1.1.9 2 2 2h14c1.1 0 2-.9 2-2V5c0-1.1-.9-2-2-2zM9 17H7v-7h2v7zm4 0h-2V7h2v10zm4 0h-2v-4h2v4z\"/>\n",
              "    </g>\n",
              "</svg>\n",
              "  </button>\n",
              "\n",
              "<style>\n",
              "  .colab-df-quickchart {\n",
              "      --bg-color: #E8F0FE;\n",
              "      --fill-color: #1967D2;\n",
              "      --hover-bg-color: #E2EBFA;\n",
              "      --hover-fill-color: #174EA6;\n",
              "      --disabled-fill-color: #AAA;\n",
              "      --disabled-bg-color: #DDD;\n",
              "  }\n",
              "\n",
              "  [theme=dark] .colab-df-quickchart {\n",
              "      --bg-color: #3B4455;\n",
              "      --fill-color: #D2E3FC;\n",
              "      --hover-bg-color: #434B5C;\n",
              "      --hover-fill-color: #FFFFFF;\n",
              "      --disabled-bg-color: #3B4455;\n",
              "      --disabled-fill-color: #666;\n",
              "  }\n",
              "\n",
              "  .colab-df-quickchart {\n",
              "    background-color: var(--bg-color);\n",
              "    border: none;\n",
              "    border-radius: 50%;\n",
              "    cursor: pointer;\n",
              "    display: none;\n",
              "    fill: var(--fill-color);\n",
              "    height: 32px;\n",
              "    padding: 0;\n",
              "    width: 32px;\n",
              "  }\n",
              "\n",
              "  .colab-df-quickchart:hover {\n",
              "    background-color: var(--hover-bg-color);\n",
              "    box-shadow: 0 1px 2px rgba(60, 64, 67, 0.3), 0 1px 3px 1px rgba(60, 64, 67, 0.15);\n",
              "    fill: var(--button-hover-fill-color);\n",
              "  }\n",
              "\n",
              "  .colab-df-quickchart-complete:disabled,\n",
              "  .colab-df-quickchart-complete:disabled:hover {\n",
              "    background-color: var(--disabled-bg-color);\n",
              "    fill: var(--disabled-fill-color);\n",
              "    box-shadow: none;\n",
              "  }\n",
              "\n",
              "  .colab-df-spinner {\n",
              "    border: 2px solid var(--fill-color);\n",
              "    border-color: transparent;\n",
              "    border-bottom-color: var(--fill-color);\n",
              "    animation:\n",
              "      spin 1s steps(1) infinite;\n",
              "  }\n",
              "\n",
              "  @keyframes spin {\n",
              "    0% {\n",
              "      border-color: transparent;\n",
              "      border-bottom-color: var(--fill-color);\n",
              "      border-left-color: var(--fill-color);\n",
              "    }\n",
              "    20% {\n",
              "      border-color: transparent;\n",
              "      border-left-color: var(--fill-color);\n",
              "      border-top-color: var(--fill-color);\n",
              "    }\n",
              "    30% {\n",
              "      border-color: transparent;\n",
              "      border-left-color: var(--fill-color);\n",
              "      border-top-color: var(--fill-color);\n",
              "      border-right-color: var(--fill-color);\n",
              "    }\n",
              "    40% {\n",
              "      border-color: transparent;\n",
              "      border-right-color: var(--fill-color);\n",
              "      border-top-color: var(--fill-color);\n",
              "    }\n",
              "    60% {\n",
              "      border-color: transparent;\n",
              "      border-right-color: var(--fill-color);\n",
              "    }\n",
              "    80% {\n",
              "      border-color: transparent;\n",
              "      border-right-color: var(--fill-color);\n",
              "      border-bottom-color: var(--fill-color);\n",
              "    }\n",
              "    90% {\n",
              "      border-color: transparent;\n",
              "      border-bottom-color: var(--fill-color);\n",
              "    }\n",
              "  }\n",
              "</style>\n",
              "\n",
              "  <script>\n",
              "    async function quickchart(key) {\n",
              "      const quickchartButtonEl =\n",
              "        document.querySelector('#' + key + ' button');\n",
              "      quickchartButtonEl.disabled = true;  // To prevent multiple clicks.\n",
              "      quickchartButtonEl.classList.add('colab-df-spinner');\n",
              "      try {\n",
              "        const charts = await google.colab.kernel.invokeFunction(\n",
              "            'suggestCharts', [key], {});\n",
              "      } catch (error) {\n",
              "        console.error('Error during call to suggestCharts:', error);\n",
              "      }\n",
              "      quickchartButtonEl.classList.remove('colab-df-spinner');\n",
              "      quickchartButtonEl.classList.add('colab-df-quickchart-complete');\n",
              "    }\n",
              "    (() => {\n",
              "      let quickchartButtonEl =\n",
              "        document.querySelector('#df-e0f26c22-2021-435f-a4a8-bac776f270ce button');\n",
              "      quickchartButtonEl.style.display =\n",
              "        google.colab.kernel.accessAllowed ? 'block' : 'none';\n",
              "    })();\n",
              "  </script>\n",
              "</div>\n",
              "    </div>\n",
              "  </div>\n"
            ]
          },
          "metadata": {},
          "execution_count": 3
        }
      ]
    },
    {
      "cell_type": "markdown",
      "source": [
        "**PREPARACIÓN DE DATOS**"
      ],
      "metadata": {
        "id": "7I0KbpBsDLMD"
      }
    },
    {
      "cell_type": "markdown",
      "source": [
        "*Cargar y limpiar*"
      ],
      "metadata": {
        "id": "A2424AfYDN7Y"
      }
    },
    {
      "cell_type": "code",
      "source": [
        "!pip install pyspellchecker\n",
        "!pip install spacy\n",
        "!python -m spacy download es_core_news_sm"
      ],
      "metadata": {
        "id": "J-67yml1ImB8"
      },
      "execution_count": null,
      "outputs": []
    },
    {
      "cell_type": "code",
      "execution_count": null,
      "metadata": {
        "colab": {
          "base_uri": "https://localhost:8080/"
        },
        "id": "UB37ChrOCyoT",
        "outputId": "fbdd2bf3-24c9-48f6-d7e4-cb62d8179061"
      },
      "outputs": [
        {
          "output_type": "stream",
          "name": "stderr",
          "text": [
            "[nltk_data] Downloading package stopwords to /root/nltk_data...\n",
            "[nltk_data]   Unzipping corpora/stopwords.zip.\n",
            "[nltk_data] Downloading package punkt to /root/nltk_data...\n",
            "[nltk_data]   Unzipping tokenizers/punkt.zip.\n"
          ]
        },
        {
          "output_type": "execute_result",
          "data": {
            "text/plain": [
              "True"
            ]
          },
          "metadata": {},
          "execution_count": 4
        }
      ],
      "source": [
        "import string\n",
        "import re\n",
        "import os\n",
        "from os import listdir\n",
        "from collections import Counter\n",
        "from nltk.corpus import stopwords\n",
        "import nltk\n",
        "nltk.download('stopwords')\n",
        "import nltk\n",
        "nltk.download('punkt')"
      ]
    },
    {
      "cell_type": "markdown",
      "source": [
        "# limpiar texto y Crear Tokens"
      ],
      "metadata": {
        "id": "KxVGxamuXRIb"
      }
    },
    {
      "cell_type": "code",
      "source": [
        "import re\n",
        "import string\n",
        "import pandas as pd\n",
        "from nltk.corpus import stopwords\n",
        "from nltk.tokenize import word_tokenize\n",
        "\n",
        "def load_doc(filename):\n",
        "    try:\n",
        "        data = pd.read_csv(filename, delimiter='\\t')  # Indicamos el delimitador como '\\t' para TSV\n",
        "        return data\n",
        "    except Exception as e:\n",
        "        print(\"Error:\", e)\n",
        "        return None\n",
        "\n",
        "#Creamos un función de limpieza del texto y  los guarde en tokens indivicuales o lista de palabras\n",
        "def clean_doc(text):\n",
        "    # Eliminar hashtags\n",
        "    text = re.sub(r'#\\w+', '', text)\n",
        "\n",
        "    # Eliminar URLs o enlaces\n",
        "    text = re.sub(r'(https?://)?[a-zA-Z0-9]+\\.[a-zA-Z0-9]+\\S*', '', text)\n",
        "\n",
        "    # Eliminar nombres de usuarios de Twitter\n",
        "    text = re.sub(r'@\\w+', '', text)\n",
        "\n",
        "    # Eliminar Nombres propios\n",
        "    text = re.sub(r'\\b[A-Z][a-z]+\\b', '', text)\n",
        "\n",
        "    # Eliminar todos los caracteres especiales\n",
        "    text = re.sub(r'[^\\w\\s]+', '', text)\n",
        "\n",
        "    # Eliminar prefijos y números\n",
        "    text = re.sub(r'\\b\\w{1,2}\\b|\\d+', '', text)\n",
        "\n",
        "    # Eliminar palabras específicas\n",
        "    specific_words = ['retweet', 'retweets', 'hashtag', 'trending', 'mención', 'enlace', 'emoji', 'timeline', 'interacciones',\n",
        "                      'tuit', 'seguidores', 'notificaciones', 'seguir', 'favorito', 'perfil', 'tendencia', 'influencer',\n",
        "                      'compartir', 'actualización', 'explorar', 'seguir', 'comunidad', 'contenido', 'popular',\n",
        "                      'recomendar', 'experiencia', 'conectar', 'comentar', 'compartir', 'comunidad', 'actualización',\n",
        "                      'drk', 'followers', 'stats', 'for', 'new', 'little', 'unfollower', 'unfollowers', 'today', 'shit','twitter','nombre',\n",
        "                      'eric','story','great', 'short','squeeze','piggly','wiggly','hmv','even','follas','you','i','he','she',\n",
        "                      'it','we','they','the','and','that','these','those','tweet','followed','follower']\n",
        "    text = ' '.join([word for word in text.split() if word not in specific_words])\n",
        "\n",
        "    # Eliminar emojis\n",
        "    emojis = re.findall(r'[^\\w\\s,]', text)\n",
        "    cleaned_emojis = [emoji for emoji in emojis if emoji not in ['@', '#', '/', '?','¿','.','…','\"',':','“','!','¡','°','-',\"‘\",'’',\n",
        "                                                                 '=',';','(',')',\"'\",\"'\",'&','€','%','$','*','+','|', '”','🇦','🇷',',',\n",
        "                                                                 ', ','—','«',' »','»','« ','[, ]','[,]',',',', ','',' ',' ♀',' 🏽']]\n",
        "    for emoji in cleaned_emojis:\n",
        "        text = text.replace(emoji, '')\n",
        "\n",
        "    # Convertir el texto a minúsculas\n",
        "    text = text.lower()\n",
        "\n",
        "    # Eliminar signos de puntuación\n",
        "    text = re.sub(f\"[{re.escape(string.punctuation)}]\", \"\", text)\n",
        "\n",
        "    # Tokenización de palabras\n",
        "    tokens = word_tokenize(text)\n",
        "\n",
        "    # Eliminar palabras vacías en español\n",
        "    stop_words = set(stopwords.words('spanish'))\n",
        "    tokens = [word for word in tokens if not word in stop_words]\n",
        "\n",
        "    # Eliminar tokens de un solo carácter\n",
        "    tokens = [word for word in tokens if len(word) > 1]\n",
        "\n",
        "    return tokens\n"
      ],
      "metadata": {
        "id": "12y4sbQ3EnQy"
      },
      "execution_count": null,
      "outputs": []
    },
    {
      "cell_type": "markdown",
      "source": [
        "*Extraer y Definir vocabulario*"
      ],
      "metadata": {
        "id": "inODpKOUMwR-"
      }
    },
    {
      "cell_type": "code",
      "source": [
        "# Función para agregar documentos al vocabulario usando TF-IDF\n",
        "def add_doc_vocab_from_tsv_tfidf(filename, vectorizer, vocab):\n",
        "    data = pd.read_csv(filename, sep=',')\n",
        "    docs = data['tweet'].apply(clean_doc)\n",
        "    docs_joined = [' '.join(tokens) for tokens in docs]\n",
        "    vectorizer.fit(docs_joined)\n",
        "    feature_names = vectorizer.get_feature_names_out()\n",
        "    vocab.update(feature_names)\n",
        "\n",
        "# Función para procesar documentos en un directorio usando TF-IDF\n",
        "def process_docs_in_directory_tfidf(directory, vectorizer, vocab):\n",
        "    for filename in os.listdir(directory):\n",
        "        if filename.endswith(\".csv\"):\n",
        "            path = os.path.join(directory, filename)\n",
        "            add_doc_vocab_from_tsv_tfidf(path, vectorizer, vocab)"
      ],
      "metadata": {
        "id": "tXmvwOvvZ3vh"
      },
      "execution_count": null,
      "outputs": []
    },
    {
      "cell_type": "code",
      "source": [
        "from collections import Counter\n",
        "from sklearn.feature_extraction.text import TfidfVectorizer\n",
        "from keras.preprocessing.text import Tokenizer\n",
        "# Inicializar el vectorizador TF-IDF\n",
        "tfidf_vectorizer = TfidfVectorizer()\n",
        "\n",
        "# Inicializar el contador de vocabulario\n",
        "vocab = Counter()\n",
        "\n",
        "# Procesar documentos en el directorio 'Control'\n",
        "process_docs_in_directory_tfidf('/content/drive/MyDrive/Experimentación Python Tesis /Experimento por agrupación de usuarios/Usarios de control 2/', tfidf_vectorizer, vocab)\n",
        "\n",
        "# Procesar documentos en el directorio 'Ansiedad'\n",
        "process_docs_in_directory_tfidf('/content/drive/MyDrive/Experimentación Python Tesis /Experimento por agrupación de usuarios/Usuarios con ansiedad', tfidf_vectorizer, vocab)\n",
        "umbral = 10 # elimanamos la palabras que tengan 10 o menos frecuencia\n",
        "tokens =[k for k,c in vocab.items() if c >= umbral]\n",
        "\n",
        "# Imprimir la longitud del vocabulario y los 50 términos más comunes\n",
        "print(f'Términos totales: {len(vocab)}')\n",
        "print(f'Vocabulario con tokens más frecuentes:{len(tokens)}')\n",
        "print('Los 50 términos más frecuentes')\n",
        "print(vocab.most_common(50))"
      ],
      "metadata": {
        "colab": {
          "base_uri": "https://localhost:8080/"
        },
        "id": "V5ptDhDcOwfW",
        "outputId": "5e3b23f2-5617-4e5a-9f84-8507defeb48d"
      },
      "execution_count": null,
      "outputs": [
        {
          "output_type": "stream",
          "name": "stdout",
          "text": [
            "Términos totales: 80326\n",
            "Vocabulario con tokens más frecuentes:7685\n",
            "Los 50 términos más frecuentes\n",
            "[('httpurl', 179), ('mejor', 178), ('vez', 178), ('bien', 177), ('hace', 177), ('ser', 177), ('hacer', 176), ('siempre', 176), ('ver', 176), ('ahora', 174), ('cosas', 174), ('puede', 174), ('cada', 173), ('solo', 173), ('años', 172), ('gente', 172), ('mal', 172), ('mismo', 172), ('alguien', 171), ('así', 171), ('cuenta', 171), ('tan', 171), ('tener', 171), ('tiempo', 171), ('quiero', 170), ('van', 170), ('verdad', 170), ('vida', 170), ('hoy', 169), ('nadie', 169), ('día', 168), ('gusta', 168), ('nunca', 168), ('puedo', 168), ('bueno', 167), ('decir', 167), ('menos', 167), ('voy', 167), ('creo', 166), ('gracias', 166), ('pasa', 166), ('veces', 166), ('año', 165), ('casa', 165), ('dice', 165), ('mañana', 165), ('persona', 165), ('dos', 164), ('días', 164), ('mundo', 164)]\n"
          ]
        }
      ]
    },
    {
      "cell_type": "code",
      "source": [
        "# Función para guardar los términos en una lista de palabras\n",
        "def save_list(lines, filename):\n",
        "    data = '\\n'.join(lines)\n",
        "    with open(filename, 'w') as file:\n",
        "        file.write(data)"
      ],
      "metadata": {
        "id": "sFje3ll76saL"
      },
      "execution_count": null,
      "outputs": []
    },
    {
      "cell_type": "code",
      "source": [
        "# Guardar la lista de términos o vocabulario en un archivo llamado vocab.txt\n",
        "save_list(vocab.keys(), '/content/drive/MyDrive/Experimentación Python Tesis /Experimento por agrupación de usuarios/vocab_tfidf.txt')"
      ],
      "metadata": {
        "id": "o8bdFaQaYnyP"
      },
      "execution_count": null,
      "outputs": []
    },
    {
      "cell_type": "code",
      "source": [
        "archivo = open(\"/content/drive/MyDrive/Experimentación Python Tesis /Experimento por agrupación de usuarios/vocab_tfidf.txt\")\n",
        "print(archivo.read())"
      ],
      "metadata": {
        "id": "ALD1qAQf--Bs"
      },
      "execution_count": null,
      "outputs": []
    },
    {
      "cell_type": "code",
      "source": [
        "import pandas as pd\n",
        "import spacy\n",
        "from spacy.lang.es import Spanish\n",
        "from nltk.corpus import stopwords\n",
        "# Cargar modelo de spaCy\n",
        "nlp = spacy.load(\"es_core_news_sm\")\n",
        "# Función para lematizar y extraer términos\n",
        "\n",
        "# Cargar stopwords en español\n",
        "stopwords_es = set(stopwords.words('spanish'))\n",
        "\n",
        "def extractTerms(text):\n",
        "    # Tokenización y lematización con spaCy\n",
        "    doc = nlp(text)\n",
        "    lemmatized_terms = [token.lemma_ for token in doc if token.text.lower() not in stopwords_es]\n",
        "\n",
        "    return lemmatized_terms"
      ],
      "metadata": {
        "id": "HTrH6He6dI6v"
      },
      "execution_count": null,
      "outputs": []
    },
    {
      "cell_type": "markdown",
      "source": [
        "**Representación de bolsa de palabras (representación vectorial)**"
      ],
      "metadata": {
        "id": "EfuRJnJGlv7a"
      }
    },
    {
      "cell_type": "markdown",
      "source": [
        "*Revisiones a Lineas de Tokens*"
      ],
      "metadata": {
        "id": "GhLs5dqjmYCc"
      }
    },
    {
      "cell_type": "code",
      "source": [
        "def doc_to_line(filename, vocab):\n",
        "  doc = load_doc(filename)\n",
        "  tokens = clean_doc(doc)\n",
        "  tokens = [w for w in tokens if w in vocab]\n",
        "  return ' '.join(tokens)"
      ],
      "metadata": {
        "id": "-1y3UNcplQgV"
      },
      "execution_count": null,
      "outputs": []
    },
    {
      "cell_type": "code",
      "source": [
        "import os\n",
        "import pandas as pd\n",
        "from nltk.classify.senna import path\n",
        "\n",
        "def process_docs(directory, vocab):\n",
        "    lines = []\n",
        "    for filename in os.listdir(directory):\n",
        "        if not filename.endswith('.tsv'):\n",
        "            continue\n",
        "        path = os.path.join(directory, filename)\n",
        "\n",
        "        # Cargar el archivo TSV en un DataFrame\n",
        "        data = pd.read_csv(path, sep='\\t')  # Usamos sep='\\t' para especificar que el archivo es tsv\n",
        "\n",
        "        # Procesar la columna TWEET_TEXT para obtener los tokens\n",
        "        tokens_list = data['TWEET_TEXT'].apply(clean_doc)\n",
        "        #tokens_list = data['TWEET_TEXT'].apply(extractTerms)\n",
        "\n",
        "        for tokens in tokens_list:\n",
        "            line = ' '.join(tokens)\n",
        "            lines.append(line)\n",
        "\n",
        "    return lines"
      ],
      "metadata": {
        "id": "U9wHwN7TnrKw"
      },
      "execution_count": null,
      "outputs": []
    },
    {
      "cell_type": "code",
      "source": [
        "def load_clean_dataset(vocab):\n",
        "  Cont = process_docs('/content/drive/MyDrive/Experimentación Python Tesis /Experimento por agrupación de usuarios/Usarios de control 2/', tfidf_vectorizer, vocab)\n",
        "  Ans = process_docs('/content/drive/MyDrive/Experimentación Python Tesis /Experimento por agrupación de usuarios/Usuarios con ansiedad/',tfidf_vectorizer, vocab)\n",
        "\n",
        "  docs = Ans + Cont\n",
        "\n",
        "  labels = [1 for _ in range(len(Ans))] + [0 for _ in range(len(Cont))]\n",
        "  return docs, labels"
      ],
      "metadata": {
        "id": "fTwpI2z8oABs"
      },
      "execution_count": null,
      "outputs": []
    },
    {
      "cell_type": "code",
      "source": [
        "vocab_filename = '/content/drive/MyDrive/Experimentación Python Tesis /Experimento por agrupación de usuarios/vocab_tfidf.txt'\n",
        "with open(vocab_filename, 'r') as file:\n",
        "    vocab_content = file.read()\n",
        "\n",
        "vocab = vocab_content.split()\n",
        "vocab = set(vocab)\n",
        "print(vocab)\n"
      ],
      "metadata": {
        "id": "VabYxNeVo5e9"
      },
      "execution_count": null,
      "outputs": []
    },
    {
      "cell_type": "markdown",
      "source": [
        "*Revisiones de los tweets a vectores*"
      ],
      "metadata": {
        "id": "ba4tH-6Tp8IT"
      }
    },
    {
      "cell_type": "markdown",
      "source": [
        "**Convertir y tranformar el documento a vectores codigicados**"
      ],
      "metadata": {
        "id": "Z3b-8ljcq-k3"
      }
    },
    {
      "cell_type": "code",
      "source": [
        "def process_docs(directory, vocab, is_train):\n",
        "    lines = list()\n",
        "    for filename in os.listdir(directory):\n",
        "        if is_train and filename.startswith('(72)'):\n",
        "            continue  # Omitir archivos de prueba en el conjunto de entrenamiento\n",
        "        if not is_train and not filename.startswith('(72)'):\n",
        "            continue  # Omitir archivos de entrenamiento en el conjunto de prueba\n",
        "        path = os.path.join(directory, filename)\n",
        "        doc = load_doc(path)\n",
        "        line = doc_to_line(doc, vocab)\n",
        "        lines.append(line)\n",
        "    return lines"
      ],
      "metadata": {
        "id": "2EjjOY4CtKGF"
      },
      "execution_count": null,
      "outputs": []
    },
    {
      "cell_type": "code",
      "source": [
        "#Del mismo modo, la función load_clean_dataset() debe actualizarse para cargar el entrenamiento o prueba\n",
        "# y asegúrarse de que devuelva una matriz Numpy\n",
        "def load_clean_dataset(vocab, is_train):\n",
        "  Dep = process_docs('/content/drive/MyDrive/Experimentación Python Tesis /Experimento por agrupación de usuarios/Usuarios con ansiedad/', vocab, is_train)\n",
        "  Cont = process_docs('/content/drive/MyDrive/Experimentación Python Tesis /Experimento por agrupación de usuarios/Usarios de control 2/', vocab, is_train)\n",
        "  docs = Dep + Cont\n",
        "  labels = np.array([1 for _ in range(len(Dep))] + [0 for _ in range(len(Cont))])\n",
        "  return docs, labels\n"
      ],
      "metadata": {
        "id": "lmjhudEytddp"
      },
      "execution_count": null,
      "outputs": []
    },
    {
      "cell_type": "code",
      "source": [
        "def process_docs(directory, vocab, is_train):\n",
        "    lines = list()\n",
        "    for filename in os.listdir(directory):\n",
        "        path = os.path.join(directory, filename)\n",
        "        if os.path.isfile(path):  # Verificar si es un archivo antes de procesarlo\n",
        "            doc = load_doc(path)\n",
        "            line = ' '.join(clean_doc(doc))\n",
        "            lines.append(line)\n",
        "    return lines\n",
        "\n",
        "def load_doc(filename):\n",
        "    with open(filename, 'r') as file:\n",
        "        text = file.read()\n",
        "    return text\n"
      ],
      "metadata": {
        "id": "F7IIABcBuG8p"
      },
      "execution_count": null,
      "outputs": []
    },
    {
      "cell_type": "markdown",
      "source": [
        "**Modelo análisis de texto**"
      ],
      "metadata": {
        "id": "42176aZnCQAz"
      }
    },
    {
      "cell_type": "code",
      "source": [
        "import os\n",
        "import joblib\n",
        "import numpy as np\n",
        "from sklearn.metrics import accuracy_score, precision_score, recall_score, f1_score\n",
        "from sklearn.model_selection import train_test_split\n",
        "\n",
        "from sklearn.model_selection import StratifiedKFold\n",
        "from sklearn.model_selection import cross_val_score\n",
        "from sklearn.metrics import make_scorer\n",
        "\n",
        "# Cargar los datos limpios (entrenamiento y prueba)\n",
        "vocab_filename = '/content/drive/MyDrive/Experimentación Python Tesis /Experimento por agrupación de usuarios/vocab_tfidf.txt'\n",
        "vocab = load_doc(vocab_filename)\n",
        "vocab = set(vocab.split())\n",
        "\n",
        "train_docs, y = load_clean_dataset(vocab, True)\n",
        "\n",
        "tokenizer = Tokenizer()\n",
        "tokenizer.fit_on_texts(train_docs)\n",
        "\n",
        "x = tokenizer.texts_to_matrix(train_docs, mode='tfidf')\n",
        "# Dividir los datos en conjuntos de entrenamiento (70%) y validación (30%)\n",
        "X_train, X_val, y_train, y_val = train_test_split(x, y, test_size=0.3, random_state=42)\n"
      ],
      "metadata": {
        "id": "mvWsv2RAYdTL"
      },
      "execution_count": null,
      "outputs": []
    },
    {
      "cell_type": "code",
      "source": [
        "print(X_train.shape)\n",
        "print(X_val.shape)\n",
        "print(y_train.shape)\n",
        "print(y_val.shape)"
      ],
      "metadata": {
        "colab": {
          "base_uri": "https://localhost:8080/"
        },
        "id": "G8-gpxN1gcMM",
        "outputId": "2ec8ac51-52bf-488e-8912-757b479aaa2b"
      },
      "execution_count": null,
      "outputs": [
        {
          "output_type": "stream",
          "name": "stdout",
          "text": [
            "(126, 84489)\n",
            "(54, 84489)\n",
            "(126,)\n",
            "(54,)\n"
          ]
        }
      ]
    },
    {
      "cell_type": "markdown",
      "source": [
        "#Redución de dimensionalidad con LDA"
      ],
      "metadata": {
        "id": "eGsKoqVhzZyn"
      }
    },
    {
      "cell_type": "code",
      "source": [
        "from sklearn.decomposition import LatentDirichletAllocation as LDA\n",
        "# Aplicar LDA para reducir la dimensionalidad\n",
        "n_topics = 70  # Define el número de tópicos (componentes)\n",
        "lda = LDA(n_components=n_topics)\n",
        "X_train = lda.fit_transform(X_train, y_train)\n",
        "X_val = lda.transform(X_val)"
      ],
      "metadata": {
        "id": "NXK8Vs6Ez8Qx"
      },
      "execution_count": null,
      "outputs": []
    },
    {
      "cell_type": "code",
      "source": [
        "print(X_train.shape)\n",
        "print(X_val.shape)\n",
        "print(y_train.shape)\n",
        "print(y_val.shape)"
      ],
      "metadata": {
        "colab": {
          "base_uri": "https://localhost:8080/"
        },
        "id": "XPqrFRMw97fT",
        "outputId": "5c26d695-b142-4324-cefd-df6084ea986d"
      },
      "execution_count": null,
      "outputs": [
        {
          "output_type": "stream",
          "name": "stdout",
          "text": [
            "(126, 70)\n",
            "(54, 70)\n",
            "(126,)\n",
            "(54,)\n"
          ]
        }
      ]
    },
    {
      "cell_type": "code",
      "source": [
        "y_train"
      ],
      "metadata": {
        "colab": {
          "base_uri": "https://localhost:8080/"
        },
        "id": "a7iJAzWddb6f",
        "outputId": "db5613cb-4403-4175-fa8d-f128214fd136"
      },
      "execution_count": null,
      "outputs": [
        {
          "output_type": "execute_result",
          "data": {
            "text/plain": [
              "array([1, 1, 0, 1, 0, 1, 0, 0, 0, 1, 1, 0, 1, 0, 1, 0, 1, 1, 1, 0, 1, 1,\n",
              "       0, 0, 0, 1, 0, 0, 1, 0, 1, 1, 1, 0, 1, 1, 0, 0, 1, 1, 0, 1, 1, 1,\n",
              "       1, 0, 1, 0, 0, 0, 1, 0, 0, 0, 1, 1, 1, 1, 0, 0, 1, 0, 0, 0, 0, 1,\n",
              "       1, 0, 1, 0, 1, 1, 1, 1, 1, 1, 0, 0, 1, 0, 0, 1, 1, 1, 1, 0, 0, 1,\n",
              "       1, 0, 0, 0, 0, 1, 1, 0, 1, 0, 1, 1, 1, 1, 1, 0, 0, 1, 0, 0, 1, 1,\n",
              "       0, 0, 0, 0, 0, 0, 1, 1, 0, 0, 1, 1, 0, 1, 0, 0])"
            ]
          },
          "metadata": {},
          "execution_count": 22
        }
      ]
    },
    {
      "cell_type": "code",
      "source": [
        "X_train"
      ],
      "metadata": {
        "colab": {
          "base_uri": "https://localhost:8080/"
        },
        "id": "G52T24Uidf-m",
        "outputId": "fb1f5565-3092-4f25-d80d-e2a220b356ad"
      },
      "execution_count": null,
      "outputs": [
        {
          "output_type": "execute_result",
          "data": {
            "text/plain": [
              "array([[2.27312733e-06, 2.27312733e-06, 2.27312733e-06, ...,\n",
              "        2.27312733e-06, 2.27312733e-06, 2.27312733e-06],\n",
              "       [1.63676603e-06, 9.95249250e-01, 1.63676603e-06, ...,\n",
              "        1.63676603e-06, 1.63676603e-06, 1.63676603e-06],\n",
              "       [5.80587355e-04, 1.02362810e-06, 1.02362810e-06, ...,\n",
              "        1.02362810e-06, 1.02362810e-06, 1.02362810e-06],\n",
              "       ...,\n",
              "       [3.42740744e-06, 3.42740744e-06, 3.42740744e-06, ...,\n",
              "        3.42740744e-06, 3.42740744e-06, 3.42740744e-06],\n",
              "       [2.65685084e-06, 2.65685084e-06, 2.65685084e-06, ...,\n",
              "        2.65685084e-06, 2.65685084e-06, 2.65685084e-06],\n",
              "       [2.29872251e-06, 2.29872251e-06, 2.29872251e-06, ...,\n",
              "        2.29872251e-06, 2.29872251e-06, 2.29872251e-06]])"
            ]
          },
          "metadata": {},
          "execution_count": 23
        }
      ]
    },
    {
      "cell_type": "markdown",
      "source": [
        "#Red neuronal"
      ],
      "metadata": {
        "id": "biZew38mWzN_"
      }
    },
    {
      "cell_type": "code",
      "source": [
        "# Crear una red neuronal secuencial\n",
        "model = Sequential()\n",
        "\n",
        "# Agregar una capa de entrada con el número de características (vocabulario) en tu matriz TF-IDF\n",
        "model.add(Dense(328, activation='relu', input_dim=X_train.shape[1]))\n",
        "model.add(Dropout(0.1))  # Dropout para regularización\n",
        "\n",
        "# Agregar una capa oculta\n",
        "model.add(Dense(164, activation='relu'))\n",
        "model.add(Dropout(0.1))  # Dropout para regularización\n",
        "\n",
        "\n",
        "# Agregar una capa de salida con una neurona y función de activación sigmoide para clasificación binaria\n",
        "model.add(Dense(1, activation='sigmoid'))\n",
        "\n",
        "# Compilar el modelo\n",
        "model.compile(optimizer='adam', loss='binary_crossentropy', metrics=['accuracy'])\n",
        "\n",
        "# Entrenar el modelo en los datos de entrenamiento\n",
        "history = model.fit(X_train, y_train, epochs=100, batch_size=30, validation_data=(X_val, y_val))\n",
        "\n",
        "# Evaluar el modelo en el conjunto de validación\n",
        "y_val_pred = (model.predict(X_val) > 0.5).astype(int)\n",
        "\n",
        "# Calcular métricas de evaluación en el conjunto de validación\n",
        "accuracy = accuracy_score(y_val, y_val_pred)\n",
        "precision = precision_score(y_val, y_val_pred)\n",
        "recall = recall_score(y_val, y_val_pred)\n",
        "f1 = f1_score(y_val, y_val_pred)\n",
        "\n",
        "# Calcular métricas de evaluación en el conjunto de entrenamiento\n",
        "y_train_pred = (model.predict(X_train) > 0.5).astype(int)\n",
        "\n",
        "accuracy_train = accuracy_score(y_train, y_train_pred)\n",
        "precision_train = precision_score(y_train, y_train_pred)\n",
        "recall_train = recall_score(y_train, y_train_pred)\n",
        "f1_train = f1_score(y_train, y_train_pred)"
      ],
      "metadata": {
        "colab": {
          "base_uri": "https://localhost:8080/"
        },
        "id": "A76ubucGY005",
        "outputId": "b0c5999d-1828-49fe-ace5-e12bdb8ca190"
      },
      "execution_count": null,
      "outputs": [
        {
          "output_type": "stream",
          "name": "stdout",
          "text": [
            "Epoch 1/100\n",
            "5/5 [==============================] - 2s 72ms/step - loss: 0.6956 - accuracy: 0.4683 - val_loss: 0.6907 - val_accuracy: 0.6667\n",
            "Epoch 2/100\n",
            "5/5 [==============================] - 0s 22ms/step - loss: 0.6771 - accuracy: 0.6825 - val_loss: 0.6896 - val_accuracy: 0.5185\n",
            "Epoch 3/100\n",
            "5/5 [==============================] - 0s 18ms/step - loss: 0.6656 - accuracy: 0.7460 - val_loss: 0.6862 - val_accuracy: 0.6852\n",
            "Epoch 4/100\n",
            "5/5 [==============================] - 0s 16ms/step - loss: 0.6538 - accuracy: 0.7540 - val_loss: 0.6830 - val_accuracy: 0.6852\n",
            "Epoch 5/100\n",
            "5/5 [==============================] - 0s 19ms/step - loss: 0.6391 - accuracy: 0.7619 - val_loss: 0.6794 - val_accuracy: 0.6852\n",
            "Epoch 6/100\n",
            "5/5 [==============================] - 0s 16ms/step - loss: 0.6284 - accuracy: 0.7698 - val_loss: 0.6785 - val_accuracy: 0.5556\n",
            "Epoch 7/100\n",
            "5/5 [==============================] - 0s 18ms/step - loss: 0.6131 - accuracy: 0.7540 - val_loss: 0.6712 - val_accuracy: 0.6481\n",
            "Epoch 8/100\n",
            "5/5 [==============================] - 0s 17ms/step - loss: 0.5930 - accuracy: 0.7381 - val_loss: 0.6606 - val_accuracy: 0.6296\n",
            "Epoch 9/100\n",
            "5/5 [==============================] - 0s 21ms/step - loss: 0.5680 - accuracy: 0.7460 - val_loss: 0.6494 - val_accuracy: 0.6852\n",
            "Epoch 10/100\n",
            "5/5 [==============================] - 0s 16ms/step - loss: 0.5557 - accuracy: 0.7143 - val_loss: 0.6396 - val_accuracy: 0.6852\n",
            "Epoch 11/100\n",
            "5/5 [==============================] - 0s 16ms/step - loss: 0.5244 - accuracy: 0.7381 - val_loss: 0.6271 - val_accuracy: 0.6852\n",
            "Epoch 12/100\n",
            "5/5 [==============================] - 0s 15ms/step - loss: 0.5064 - accuracy: 0.7460 - val_loss: 0.6199 - val_accuracy: 0.6852\n",
            "Epoch 13/100\n",
            "5/5 [==============================] - 0s 19ms/step - loss: 0.4864 - accuracy: 0.7698 - val_loss: 0.6143 - val_accuracy: 0.7037\n",
            "Epoch 14/100\n",
            "5/5 [==============================] - 0s 19ms/step - loss: 0.4727 - accuracy: 0.7460 - val_loss: 0.5968 - val_accuracy: 0.6852\n",
            "Epoch 15/100\n",
            "5/5 [==============================] - 0s 16ms/step - loss: 0.4544 - accuracy: 0.7540 - val_loss: 0.5779 - val_accuracy: 0.7593\n",
            "Epoch 16/100\n",
            "5/5 [==============================] - 0s 19ms/step - loss: 0.4439 - accuracy: 0.7381 - val_loss: 0.5739 - val_accuracy: 0.7407\n",
            "Epoch 17/100\n",
            "5/5 [==============================] - 0s 19ms/step - loss: 0.4352 - accuracy: 0.7857 - val_loss: 0.5703 - val_accuracy: 0.7222\n",
            "Epoch 18/100\n",
            "5/5 [==============================] - 0s 20ms/step - loss: 0.4253 - accuracy: 0.7778 - val_loss: 0.5648 - val_accuracy: 0.7222\n",
            "Epoch 19/100\n",
            "5/5 [==============================] - 0s 20ms/step - loss: 0.4207 - accuracy: 0.8016 - val_loss: 0.5905 - val_accuracy: 0.6481\n",
            "Epoch 20/100\n",
            "5/5 [==============================] - 0s 20ms/step - loss: 0.4173 - accuracy: 0.7857 - val_loss: 0.5748 - val_accuracy: 0.6852\n",
            "Epoch 21/100\n",
            "5/5 [==============================] - 0s 19ms/step - loss: 0.4091 - accuracy: 0.8016 - val_loss: 0.5532 - val_accuracy: 0.7222\n",
            "Epoch 22/100\n",
            "5/5 [==============================] - 0s 16ms/step - loss: 0.4010 - accuracy: 0.7857 - val_loss: 0.5446 - val_accuracy: 0.7222\n",
            "Epoch 23/100\n",
            "5/5 [==============================] - 0s 18ms/step - loss: 0.4047 - accuracy: 0.7619 - val_loss: 0.5338 - val_accuracy: 0.7593\n",
            "Epoch 24/100\n",
            "5/5 [==============================] - 0s 16ms/step - loss: 0.3834 - accuracy: 0.8016 - val_loss: 0.5377 - val_accuracy: 0.7593\n",
            "Epoch 25/100\n",
            "5/5 [==============================] - 0s 15ms/step - loss: 0.3873 - accuracy: 0.7698 - val_loss: 0.5523 - val_accuracy: 0.7037\n",
            "Epoch 26/100\n",
            "5/5 [==============================] - 0s 19ms/step - loss: 0.3939 - accuracy: 0.7778 - val_loss: 0.5493 - val_accuracy: 0.7037\n",
            "Epoch 27/100\n",
            "5/5 [==============================] - 0s 18ms/step - loss: 0.3893 - accuracy: 0.7857 - val_loss: 0.5329 - val_accuracy: 0.7593\n",
            "Epoch 28/100\n",
            "5/5 [==============================] - 0s 15ms/step - loss: 0.3800 - accuracy: 0.8016 - val_loss: 0.5143 - val_accuracy: 0.7407\n",
            "Epoch 29/100\n",
            "5/5 [==============================] - 0s 18ms/step - loss: 0.3872 - accuracy: 0.7619 - val_loss: 0.5189 - val_accuracy: 0.7593\n",
            "Epoch 30/100\n",
            "5/5 [==============================] - 0s 15ms/step - loss: 0.3761 - accuracy: 0.7619 - val_loss: 0.5562 - val_accuracy: 0.6852\n",
            "Epoch 31/100\n",
            "5/5 [==============================] - 0s 19ms/step - loss: 0.3835 - accuracy: 0.7857 - val_loss: 0.5814 - val_accuracy: 0.6296\n",
            "Epoch 32/100\n",
            "5/5 [==============================] - 0s 21ms/step - loss: 0.3808 - accuracy: 0.7778 - val_loss: 0.5286 - val_accuracy: 0.7778\n",
            "Epoch 33/100\n",
            "5/5 [==============================] - 0s 21ms/step - loss: 0.3653 - accuracy: 0.7857 - val_loss: 0.5073 - val_accuracy: 0.7593\n",
            "Epoch 34/100\n",
            "5/5 [==============================] - 0s 17ms/step - loss: 0.3713 - accuracy: 0.7778 - val_loss: 0.5347 - val_accuracy: 0.7222\n",
            "Epoch 35/100\n",
            "5/5 [==============================] - 0s 19ms/step - loss: 0.3604 - accuracy: 0.8095 - val_loss: 0.5484 - val_accuracy: 0.7037\n",
            "Epoch 36/100\n",
            "5/5 [==============================] - 0s 16ms/step - loss: 0.3677 - accuracy: 0.7937 - val_loss: 0.5279 - val_accuracy: 0.7593\n",
            "Epoch 37/100\n",
            "5/5 [==============================] - 0s 15ms/step - loss: 0.3701 - accuracy: 0.7937 - val_loss: 0.5272 - val_accuracy: 0.7407\n",
            "Epoch 38/100\n",
            "5/5 [==============================] - 0s 16ms/step - loss: 0.3553 - accuracy: 0.8016 - val_loss: 0.5420 - val_accuracy: 0.7222\n",
            "Epoch 39/100\n",
            "5/5 [==============================] - 0s 19ms/step - loss: 0.3758 - accuracy: 0.7698 - val_loss: 0.5480 - val_accuracy: 0.7222\n",
            "Epoch 40/100\n",
            "5/5 [==============================] - 0s 16ms/step - loss: 0.3716 - accuracy: 0.8016 - val_loss: 0.5357 - val_accuracy: 0.7222\n",
            "Epoch 41/100\n",
            "5/5 [==============================] - 0s 16ms/step - loss: 0.3522 - accuracy: 0.7937 - val_loss: 0.4970 - val_accuracy: 0.7593\n",
            "Epoch 42/100\n",
            "5/5 [==============================] - 0s 19ms/step - loss: 0.3683 - accuracy: 0.7619 - val_loss: 0.5235 - val_accuracy: 0.7407\n",
            "Epoch 43/100\n",
            "5/5 [==============================] - 0s 16ms/step - loss: 0.3653 - accuracy: 0.8016 - val_loss: 0.5671 - val_accuracy: 0.6481\n",
            "Epoch 44/100\n",
            "5/5 [==============================] - 0s 17ms/step - loss: 0.3623 - accuracy: 0.7857 - val_loss: 0.5761 - val_accuracy: 0.6296\n",
            "Epoch 45/100\n",
            "5/5 [==============================] - 0s 21ms/step - loss: 0.3528 - accuracy: 0.7937 - val_loss: 0.5756 - val_accuracy: 0.6296\n",
            "Epoch 46/100\n",
            "5/5 [==============================] - 0s 20ms/step - loss: 0.3666 - accuracy: 0.8016 - val_loss: 0.5495 - val_accuracy: 0.7222\n",
            "Epoch 47/100\n",
            "5/5 [==============================] - 0s 16ms/step - loss: 0.3604 - accuracy: 0.8016 - val_loss: 0.5263 - val_accuracy: 0.7593\n",
            "Epoch 48/100\n",
            "5/5 [==============================] - 0s 16ms/step - loss: 0.3556 - accuracy: 0.7857 - val_loss: 0.5462 - val_accuracy: 0.7222\n",
            "Epoch 49/100\n",
            "5/5 [==============================] - 0s 18ms/step - loss: 0.3658 - accuracy: 0.8016 - val_loss: 0.6081 - val_accuracy: 0.6296\n",
            "Epoch 50/100\n",
            "5/5 [==============================] - 0s 15ms/step - loss: 0.3744 - accuracy: 0.8016 - val_loss: 0.5921 - val_accuracy: 0.6296\n",
            "Epoch 51/100\n",
            "5/5 [==============================] - 0s 15ms/step - loss: 0.3529 - accuracy: 0.8095 - val_loss: 0.5110 - val_accuracy: 0.7407\n",
            "Epoch 52/100\n",
            "5/5 [==============================] - 0s 16ms/step - loss: 0.3619 - accuracy: 0.7778 - val_loss: 0.4877 - val_accuracy: 0.7593\n",
            "Epoch 53/100\n",
            "5/5 [==============================] - 0s 16ms/step - loss: 0.3843 - accuracy: 0.7619 - val_loss: 0.5226 - val_accuracy: 0.7222\n",
            "Epoch 54/100\n",
            "5/5 [==============================] - 0s 16ms/step - loss: 0.3514 - accuracy: 0.8095 - val_loss: 0.5862 - val_accuracy: 0.6296\n",
            "Epoch 55/100\n",
            "5/5 [==============================] - 0s 15ms/step - loss: 0.3492 - accuracy: 0.8333 - val_loss: 0.5814 - val_accuracy: 0.6296\n",
            "Epoch 56/100\n",
            "5/5 [==============================] - 0s 14ms/step - loss: 0.3612 - accuracy: 0.7857 - val_loss: 0.5513 - val_accuracy: 0.7037\n",
            "Epoch 57/100\n",
            "5/5 [==============================] - 0s 19ms/step - loss: 0.3511 - accuracy: 0.7937 - val_loss: 0.5491 - val_accuracy: 0.7037\n",
            "Epoch 58/100\n",
            "5/5 [==============================] - 0s 23ms/step - loss: 0.3459 - accuracy: 0.7937 - val_loss: 0.5584 - val_accuracy: 0.7037\n",
            "Epoch 59/100\n",
            "5/5 [==============================] - 0s 20ms/step - loss: 0.3437 - accuracy: 0.8175 - val_loss: 0.5576 - val_accuracy: 0.7037\n",
            "Epoch 60/100\n",
            "5/5 [==============================] - 0s 15ms/step - loss: 0.3306 - accuracy: 0.8492 - val_loss: 0.5443 - val_accuracy: 0.6852\n",
            "Epoch 61/100\n",
            "5/5 [==============================] - 0s 18ms/step - loss: 0.3460 - accuracy: 0.7778 - val_loss: 0.5458 - val_accuracy: 0.6852\n",
            "Epoch 62/100\n",
            "5/5 [==============================] - 0s 16ms/step - loss: 0.3573 - accuracy: 0.7778 - val_loss: 0.5561 - val_accuracy: 0.7037\n",
            "Epoch 63/100\n",
            "5/5 [==============================] - 0s 15ms/step - loss: 0.3454 - accuracy: 0.8095 - val_loss: 0.5581 - val_accuracy: 0.7037\n",
            "Epoch 64/100\n",
            "5/5 [==============================] - 0s 15ms/step - loss: 0.3376 - accuracy: 0.8095 - val_loss: 0.5383 - val_accuracy: 0.6852\n",
            "Epoch 65/100\n",
            "5/5 [==============================] - 0s 15ms/step - loss: 0.3567 - accuracy: 0.7778 - val_loss: 0.5202 - val_accuracy: 0.7037\n",
            "Epoch 66/100\n",
            "5/5 [==============================] - 0s 18ms/step - loss: 0.3479 - accuracy: 0.7937 - val_loss: 0.5813 - val_accuracy: 0.6481\n",
            "Epoch 67/100\n",
            "5/5 [==============================] - 0s 15ms/step - loss: 0.3276 - accuracy: 0.8095 - val_loss: 0.5840 - val_accuracy: 0.6481\n",
            "Epoch 68/100\n",
            "5/5 [==============================] - 0s 17ms/step - loss: 0.3655 - accuracy: 0.7937 - val_loss: 0.5425 - val_accuracy: 0.7037\n",
            "Epoch 69/100\n",
            "5/5 [==============================] - 0s 19ms/step - loss: 0.3434 - accuracy: 0.8175 - val_loss: 0.5628 - val_accuracy: 0.6852\n",
            "Epoch 70/100\n",
            "5/5 [==============================] - 0s 20ms/step - loss: 0.3370 - accuracy: 0.8175 - val_loss: 0.5655 - val_accuracy: 0.6481\n",
            "Epoch 71/100\n",
            "5/5 [==============================] - 0s 19ms/step - loss: 0.3398 - accuracy: 0.8095 - val_loss: 0.5634 - val_accuracy: 0.6667\n",
            "Epoch 72/100\n",
            "5/5 [==============================] - 0s 19ms/step - loss: 0.3444 - accuracy: 0.7619 - val_loss: 0.5534 - val_accuracy: 0.6852\n",
            "Epoch 73/100\n",
            "5/5 [==============================] - 0s 18ms/step - loss: 0.3366 - accuracy: 0.7698 - val_loss: 0.5439 - val_accuracy: 0.7037\n",
            "Epoch 74/100\n",
            "5/5 [==============================] - 0s 15ms/step - loss: 0.3401 - accuracy: 0.8095 - val_loss: 0.5563 - val_accuracy: 0.6852\n",
            "Epoch 75/100\n",
            "5/5 [==============================] - 0s 18ms/step - loss: 0.3238 - accuracy: 0.8095 - val_loss: 0.5445 - val_accuracy: 0.6852\n",
            "Epoch 76/100\n",
            "5/5 [==============================] - 0s 15ms/step - loss: 0.3505 - accuracy: 0.8095 - val_loss: 0.5463 - val_accuracy: 0.6852\n",
            "Epoch 77/100\n",
            "5/5 [==============================] - 0s 19ms/step - loss: 0.3248 - accuracy: 0.8571 - val_loss: 0.5614 - val_accuracy: 0.6852\n",
            "Epoch 78/100\n",
            "5/5 [==============================] - 0s 20ms/step - loss: 0.3219 - accuracy: 0.8175 - val_loss: 0.5517 - val_accuracy: 0.6852\n",
            "Epoch 79/100\n",
            "5/5 [==============================] - 0s 19ms/step - loss: 0.3294 - accuracy: 0.8254 - val_loss: 0.5467 - val_accuracy: 0.6852\n",
            "Epoch 80/100\n",
            "5/5 [==============================] - 0s 21ms/step - loss: 0.3347 - accuracy: 0.8175 - val_loss: 0.5516 - val_accuracy: 0.7037\n",
            "Epoch 81/100\n",
            "5/5 [==============================] - 0s 18ms/step - loss: 0.3371 - accuracy: 0.7937 - val_loss: 0.5610 - val_accuracy: 0.6852\n",
            "Epoch 82/100\n",
            "5/5 [==============================] - 0s 16ms/step - loss: 0.3373 - accuracy: 0.8254 - val_loss: 0.5582 - val_accuracy: 0.7037\n",
            "Epoch 83/100\n",
            "5/5 [==============================] - 0s 19ms/step - loss: 0.3384 - accuracy: 0.8016 - val_loss: 0.5470 - val_accuracy: 0.6852\n",
            "Epoch 84/100\n",
            "5/5 [==============================] - 0s 20ms/step - loss: 0.3542 - accuracy: 0.7857 - val_loss: 0.5640 - val_accuracy: 0.6852\n",
            "Epoch 85/100\n",
            "5/5 [==============================] - 0s 21ms/step - loss: 0.3194 - accuracy: 0.8333 - val_loss: 0.5714 - val_accuracy: 0.6852\n",
            "Epoch 86/100\n",
            "5/5 [==============================] - 0s 21ms/step - loss: 0.3344 - accuracy: 0.7857 - val_loss: 0.5537 - val_accuracy: 0.6852\n",
            "Epoch 87/100\n",
            "5/5 [==============================] - 0s 20ms/step - loss: 0.3364 - accuracy: 0.8095 - val_loss: 0.5557 - val_accuracy: 0.6667\n",
            "Epoch 88/100\n",
            "5/5 [==============================] - 0s 20ms/step - loss: 0.3215 - accuracy: 0.8333 - val_loss: 0.5705 - val_accuracy: 0.6852\n",
            "Epoch 89/100\n",
            "5/5 [==============================] - 0s 15ms/step - loss: 0.3421 - accuracy: 0.7937 - val_loss: 0.6019 - val_accuracy: 0.6481\n",
            "Epoch 90/100\n",
            "5/5 [==============================] - 0s 11ms/step - loss: 0.3290 - accuracy: 0.8175 - val_loss: 0.6017 - val_accuracy: 0.6481\n",
            "Epoch 91/100\n",
            "5/5 [==============================] - 0s 12ms/step - loss: 0.3226 - accuracy: 0.8016 - val_loss: 0.5660 - val_accuracy: 0.6852\n",
            "Epoch 92/100\n",
            "5/5 [==============================] - 0s 15ms/step - loss: 0.3287 - accuracy: 0.8095 - val_loss: 0.5518 - val_accuracy: 0.6667\n",
            "Epoch 93/100\n",
            "5/5 [==============================] - 0s 16ms/step - loss: 0.3280 - accuracy: 0.8095 - val_loss: 0.5688 - val_accuracy: 0.6852\n",
            "Epoch 94/100\n",
            "5/5 [==============================] - 0s 16ms/step - loss: 0.3508 - accuracy: 0.7857 - val_loss: 0.5688 - val_accuracy: 0.6852\n",
            "Epoch 95/100\n",
            "5/5 [==============================] - 0s 11ms/step - loss: 0.3294 - accuracy: 0.7937 - val_loss: 0.5354 - val_accuracy: 0.7037\n",
            "Epoch 96/100\n",
            "5/5 [==============================] - 0s 15ms/step - loss: 0.3161 - accuracy: 0.8413 - val_loss: 0.5426 - val_accuracy: 0.6852\n",
            "Epoch 97/100\n",
            "5/5 [==============================] - 0s 16ms/step - loss: 0.3388 - accuracy: 0.7698 - val_loss: 0.5839 - val_accuracy: 0.6667\n",
            "Epoch 98/100\n",
            "5/5 [==============================] - 0s 11ms/step - loss: 0.3421 - accuracy: 0.7778 - val_loss: 0.6109 - val_accuracy: 0.6296\n",
            "Epoch 99/100\n",
            "5/5 [==============================] - 0s 15ms/step - loss: 0.3317 - accuracy: 0.8175 - val_loss: 0.6246 - val_accuracy: 0.6296\n",
            "Epoch 100/100\n",
            "5/5 [==============================] - 0s 10ms/step - loss: 0.3205 - accuracy: 0.8254 - val_loss: 0.5720 - val_accuracy: 0.6852\n",
            "2/2 [==============================] - 0s 9ms/step\n",
            "4/4 [==============================] - 0s 4ms/step\n"
          ]
        }
      ]
    },
    {
      "cell_type": "code",
      "source": [
        "# Imprimir métricas de entrenamiento\n",
        "print(\"\\nMétricas en el conjunto de entrenamiento:\")\n",
        "print(f\"Exactitud (entrenamiento): {round(accuracy_train, 2) * 100}%\")\n",
        "print(f\"Precisión (entrenamiento): {round(precision_train, 2) * 100}%\")\n",
        "print(f\"Recall (entrenamiento): {round(recall_train, 2) * 100}%\")\n",
        "print(f\"F1-score (entrenamiento): {round(f1_train, 2) * 100}%\")\n",
        "print('-------------------------------------------------------------------------')\n",
        "# Imprimir métricas de evaluación\n",
        "print(f\"Exactitud en el conjunto de validación: {round(accuracy, 2) * 100}%\")\n",
        "print(f\"Precisión en el conjunto de validación: {round(precision, 2) * 100}%\")\n",
        "print(f\"Recall en el conjunto de validación: {round(recall, 2) * 100}%\")\n",
        "print(f\"F1-score en el conjunto de validación: {round(f1, 2) * 100}%\")"
      ],
      "metadata": {
        "colab": {
          "base_uri": "https://localhost:8080/"
        },
        "id": "hXVDgU6vY6IL",
        "outputId": "cfd3da4b-9c48-48bc-a10d-c0080316af6e"
      },
      "execution_count": null,
      "outputs": [
        {
          "output_type": "stream",
          "name": "stdout",
          "text": [
            "\n",
            "Métricas en el conjunto de entrenamiento:\n",
            "Exactitud (entrenamiento): 82.0%\n",
            "Precisión (entrenamiento): 86.0%\n",
            "Recall (entrenamiento): 77.0%\n",
            "F1-score (entrenamiento): 81.0%\n",
            "-------------------------------------------------------------------------\n",
            "Exactitud en el conjunto de validación: 69.0%\n",
            "Precisión en el conjunto de validación: 60.0%\n",
            "Recall en el conjunto de validación: 96.0%\n",
            "F1-score en el conjunto de validación: 74.0%\n"
          ]
        }
      ]
    },
    {
      "cell_type": "markdown",
      "source": [
        "# **Matriz de confusión**"
      ],
      "metadata": {
        "id": "zrnag9LChBJk"
      }
    },
    {
      "cell_type": "code",
      "source": [
        "from sklearn.metrics import confusion_matrix\n",
        "\n",
        "y_pred = model.predict(X_val)\n",
        "\n",
        "# Obtiene la matriz de confusión. Las filas corresponden a las clases reales,\n",
        "umbral = 0.5  # Puedes ajustar este umbral según tus necesidades\n",
        "y_pred_binario = (y_pred > umbral).astype(int)\n",
        "\n",
        "# Calcular la matriz de confusión con las etiquetas binarias\n",
        "cm = confusion_matrix(y_val, y_pred_binario)\n",
        "prop_real = np.sum(y_val)/len(y_val)\n",
        "prop_etiqutados = (cm[0,1]+cm[1,1])/len(y_val)\n",
        "\n",
        "print(\"Matriz de confusión: \\n\\n\", cm, \"\\n\")\n",
        "print('Proporción de comentarios positivos: %.2f'% prop_real)\n",
        "print('Proporción de comentarios positivos etiquetados: %.2f'% prop_etiqutados)"
      ],
      "metadata": {
        "colab": {
          "base_uri": "https://localhost:8080/"
        },
        "id": "7jAmF9ruhK_z",
        "outputId": "bbf2fb95-758a-4bbf-d53e-7bf40acf4956"
      },
      "execution_count": null,
      "outputs": [
        {
          "output_type": "stream",
          "name": "stdout",
          "text": [
            "2/2 [==============================] - 0s 6ms/step\n",
            "Matriz de confusión: \n",
            "\n",
            " [[13 16]\n",
            " [ 1 24]] \n",
            "\n",
            "Proporción de comentarios positivos: 0.46\n",
            "Proporción de comentarios positivos etiquetados: 0.74\n"
          ]
        }
      ]
    },
    {
      "cell_type": "code",
      "source": [
        "import seaborn as sns\n",
        "import matplotlib.pyplot as plt\n",
        "\n",
        "# Crear una figura para la matriz de confusión\n",
        "plt.figure(figsize=(8, 6))\n",
        "\n",
        "# Crear una matriz de confusión usando el heatmap de Seaborn\n",
        "sns.heatmap(cm, annot=True, fmt=\"d\", cmap=\"Blues\", xticklabels=['Control', 'Depresión'], yticklabels=['Control', 'Depresión'])\n",
        "\n",
        "# Etiquetas y título\n",
        "plt.xlabel('Predicción')\n",
        "plt.ylabel('Valor Real')\n",
        "plt.title('Matriz de Confusión (Usarios con Depresión vs de control)')\n",
        "\n",
        "# Mostrar la gráfica\n",
        "plt.show()"
      ],
      "metadata": {
        "colab": {
          "base_uri": "https://localhost:8080/",
          "height": 565
        },
        "id": "JkILkBO4hc1r",
        "outputId": "2213dbb9-bab7-48a7-86d3-3d945fd37d86"
      },
      "execution_count": null,
      "outputs": [
        {
          "output_type": "display_data",
          "data": {
            "text/plain": [
              "<Figure size 800x600 with 2 Axes>"
            ],
            "image/png": "[encoded data removed]"
          },
          "metadata": {}
        }
      ]
    },
    {
      "cell_type": "markdown",
      "source": [
        "#Modelo Bosque Aleatorio"
      ],
      "metadata": {
        "id": "Jr7wkaLH8D9Y"
      }
    },
    {
      "cell_type": "code",
      "source": [
        "from sklearn.ensemble import RandomForestClassifier\n",
        "from sklearn.metrics import accuracy_score, precision_score, recall_score, f1_score\n",
        "\n",
        "# Importa las librerías necesarias y divide los datos en conjuntos de entrenamiento y validación\n",
        "from sklearn.model_selection import train_test_split\n",
        "\n",
        "# X_train, X_val, y_train, y_val\n",
        "\n",
        "# Crea un modelo de Random Forest\n",
        "random_forest_model = RandomForestClassifier(n_estimators=30000,  # Numero de alboles\n",
        "                                             max_depth=10000, # profunidad máxima\n",
        "                                             random_state=42)  # selección de la semilla de manera aleatoria\n",
        "\n",
        "\n",
        "# Entrena el modelo en los datos de entrenamiento\n",
        "random_forest_model.fit(X_train, y_train)\n",
        "\n",
        "# Realiza predicciones en los datos de validación\n",
        "y_val_pred = random_forest_model.predict(X_val)\n",
        "\n",
        "# Calcula la precisión (accuracy) del modelo en los datos de validación\n",
        "accuracy = accuracy_score(y_val, y_val_pred)\n",
        "print(\"Accuracy (validación): {:.2f}\".format(accuracy))\n",
        "\n",
        "# Calcula la precisión del modelo en los datos de validación\n",
        "precision = precision_score(y_val, y_val_pred)\n",
        "print(\"Precision (validación): {:.2f}\".format(precision))\n",
        "\n",
        "# Calcula la exactitud (recall) del modelo en los datos de validación\n",
        "recall = recall_score(y_val, y_val_pred)\n",
        "print(\"Recall (validación): {:.2f}\".format(recall))\n",
        "\n",
        "# Calcula el F1-score del modelo en los datos de validación\n",
        "f1 = f1_score(y_val, y_val_pred)\n",
        "print(\"F1-score (validación): {:.2f}\".format(f1))\n",
        "\n",
        "# Calcula y muestra métricas en el conjunto de entrenamiento\n",
        "y_train_pred = random_forest_model.predict(X_train)\n",
        "\n",
        "accuracy_train = accuracy_score(y_train, y_train_pred)\n",
        "precision_train = precision_score(y_train, y_train_pred)\n",
        "recall_train = recall_score(y_train, y_train_pred)\n",
        "f1_train = f1_score(y_train, y_train_pred)\n",
        "\n",
        "#\n",
        "\n",
        "\n"
      ],
      "metadata": {
        "id": "Yf9iwokE-QqU",
        "colab": {
          "base_uri": "https://localhost:8080/"
        },
        "outputId": "e9a82414-3814-4eda-b31d-adc40fcb050f"
      },
      "execution_count": null,
      "outputs": [
        {
          "output_type": "stream",
          "name": "stdout",
          "text": [
            "Accuracy (validación): 0.57\n",
            "Precision (validación): 0.62\n",
            "Recall (validación): 0.20\n",
            "F1-score (validación): 0.30\n"
          ]
        }
      ]
    },
    {
      "cell_type": "code",
      "source": [
        "# Imprimir las métricas de entrenamiento\n",
        "print(f'Accuracy entrenamiento: {accuracy_train * 100:.2f}%')\n",
        "print(f'Precisión  entrenamiento: {precision_train * 100:.2f}%')\n",
        "print(f'Recall  entrenamiento: {recall_train * 100:.2f}%')\n",
        "print(f'Puntuación F1  entrenamiento: {f1_train * 100:.2f}%')\n",
        "print('\\n')\n",
        "# Imprimir las métricas de validación\n",
        "print(f'Accuracy  validación: {accuracy * 100:.2f}%')\n",
        "print(f'Precisión  validación: {precision* 100:.2f}%')\n",
        "print(f'Recall  validación: {recall* 100:.2f}%')\n",
        "print(f'Puntuación F1 validación: {f1 * 100:.2f}%')"
      ],
      "metadata": {
        "colab": {
          "base_uri": "https://localhost:8080/"
        },
        "id": "NkRDcwJA-Vto",
        "outputId": "449d4a1b-1c53-4be6-d8ef-5848be4d0749"
      },
      "execution_count": null,
      "outputs": [
        {
          "output_type": "stream",
          "name": "stdout",
          "text": [
            "Accuracy entrenamiento: 100.00%\n",
            "Precisión  entrenamiento: 100.00%\n",
            "Recall  entrenamiento: 100.00%\n",
            "Puntuación F1  entrenamiento: 100.00%\n",
            "\n",
            "\n",
            "Accuracy  validación: 57.41%\n",
            "Precisión  validación: 62.50%\n",
            "Recall  validación: 20.00%\n",
            "Puntuación F1 validación: 30.30%\n"
          ]
        }
      ]
    },
    {
      "cell_type": "markdown",
      "source": [
        "# **Matriz de confusión**"
      ],
      "metadata": {
        "id": "PnsoHsgnjbBL"
      }
    },
    {
      "cell_type": "code",
      "source": [
        "from sklearn.metrics import confusion_matrix\n",
        "\n",
        "y_pred_RF = random_forest_model.predict(X_val)\n",
        "\n",
        "# Obtiene la matriz de confusión. Las filas corresponden a las clases reales,\n",
        "umbral = 0.5  # Puedes ajustar este umbral según tus necesidades\n",
        "y_pred_binario = (y_pred_RF > umbral).astype(int)\n",
        "\n",
        "# Calcular la matriz de confusión con las etiquetas binarias\n",
        "cm = confusion_matrix(y_val, y_pred_binario)\n",
        "prop_real = np.sum(y_val)/len(y_val)\n",
        "prop_etiqutados = (cm[0,1]+cm[1,1])/len(y_val)\n",
        "\n",
        "print(\"Matriz de confusión: \\n\\n\", cm, \"\\n\")\n",
        "print('Proporción de comentarios positivos: %.2f'% prop_real)\n",
        "print('Proporción de comentarios positivos etiquetados: %.2f'% prop_etiqutados)"
      ],
      "metadata": {
        "colab": {
          "base_uri": "https://localhost:8080/"
        },
        "outputId": "23c73f25-10a7-4f60-a97f-a2d64e36461e",
        "id": "ge2kdDirjbBU"
      },
      "execution_count": null,
      "outputs": [
        {
          "output_type": "stream",
          "name": "stdout",
          "text": [
            "Matriz de confusión: \n",
            "\n",
            " [[26  3]\n",
            " [20  5]] \n",
            "\n",
            "Proporción de comentarios positivos: 0.46\n",
            "Proporción de comentarios positivos etiquetados: 0.15\n"
          ]
        }
      ]
    },
    {
      "cell_type": "code",
      "source": [
        "import seaborn as sns\n",
        "import matplotlib.pyplot as plt\n",
        "\n",
        "# Crear una figura para la matriz de confusión\n",
        "plt.figure(figsize=(8, 6))\n",
        "\n",
        "# Crear una matriz de confusión usando el heatmap de Seaborn\n",
        "sns.heatmap(cm, annot=True, fmt=\"d\", cmap=\"Blues\", xticklabels=['Control', 'Depresión'], yticklabels=['Control', 'Depresión'])\n",
        "\n",
        "# Etiquetas y título\n",
        "plt.xlabel('Predicción')\n",
        "plt.ylabel('Valor Real')\n",
        "plt.title('Matriz de Confusión (Usarios con Depresión vs de control)')\n",
        "\n",
        "# Mostrar la gráfica\n",
        "plt.show()"
      ],
      "metadata": {
        "colab": {
          "base_uri": "https://localhost:8080/",
          "height": 565
        },
        "outputId": "e686d9d7-bab8-48fa-8123-a5bd69ff95ae",
        "id": "gUFypmG1jbBV"
      },
      "execution_count": null,
      "outputs": [
        {
          "output_type": "display_data",
          "data": {
            "text/plain": [
              "<Figure size 800x600 with 2 Axes>"
            ],
            "image/png": "[encoded data removed]"
          },
          "metadata": {}
        }
      ]
    },
    {
      "cell_type": "markdown",
      "source": [
        "#Modelo SVM"
      ],
      "metadata": {
        "id": "tpe64XnkBjMZ"
      }
    },
    {
      "cell_type": "code",
      "source": [
        "from sklearn.svm import SVC\n",
        "from sklearn.metrics import accuracy_score, precision_score, recall_score, f1_score\n",
        "import joblib\n",
        "import os\n",
        "\n",
        "# Suponiendo que ya tienes tus datos de entrenamiento y validación: X_train, X_val, y_train, y_val\n",
        "\n",
        "# Crear un modelo SVM para clasificación multiclase con kernel polinómico\n",
        "svm_model_p = SVC(kernel='linear', C=10000, gamma='scale', coef0=2.5)\n",
        "\n",
        "# Entrenar el modelo en los datos de entrenamiento\n",
        "svm_model_p.fit(X_train, y_train)\n",
        "\n",
        "# Predecir etiquetas en el conjunto de validación\n",
        "y_val_pred = svm_model_p.predict(X_val)\n",
        "\n",
        "# Calcular las métricas en el conjunto de validación\n",
        "accuracy = accuracy_score(y_val, y_val_pred)\n",
        "precision = precision_score(y_val, y_val_pred, average='weighted')\n",
        "recall = recall_score(y_val, y_val_pred, average='weighted')\n",
        "f1 = f1_score(y_val, y_val_pred, average='weighted')\n",
        "\n",
        "# Calcular y mostrar métricas en el conjunto de entrenamiento\n",
        "y_train_pred = svm_model_p.predict(X_train)\n",
        "accuracy_train = accuracy_score(y_train, y_train_pred)\n",
        "precision_train = precision_score(y_train, y_train_pred, average='weighted')\n",
        "recall_train = recall_score(y_train, y_train_pred, average='weighted')\n",
        "f1_train = f1_score(y_train, y_train_pred, average='weighted')\n",
        "\n",
        "# Imprimir las métricas en el conjunto de entrenamiento\n",
        "print(\"\\nMétricas en el conjunto de entrenamiento:\")\n",
        "print(\"Exactitud (entrenamiento): {:.2%}\".format(accuracy_train))\n",
        "print(\"Precisión (entrenamiento): {:.2%}\".format(precision_train))\n",
        "print(\"Recall (entrenamiento): {:.2%}\".format(recall_train))\n",
        "print(\"F1-score (entrenamiento): {:.2%}\".format(f1_train))\n",
        "print('--'*50)\n",
        "# Imprimir las métricas en el conjunto de validación\n",
        "print(\"Exactitud en el conjunto de validación: {:.2%}\".format(accuracy))\n",
        "print(\"Precisión en el conjunto de validación: {:.2%}\".format(precision))\n",
        "print(\"Recall en el conjunto de validación: {:.2%}\".format(recall))\n",
        "print(\"F1-score en el conjunto de validación: {:.2%}\".format(f1))"
      ],
      "metadata": {
        "colab": {
          "base_uri": "https://localhost:8080/"
        },
        "id": "GezvWgeZsm3k",
        "outputId": "85c00937-9cee-43e7-97fa-bb7ee3d77a11"
      },
      "execution_count": null,
      "outputs": [
        {
          "output_type": "stream",
          "name": "stdout",
          "text": [
            "\n",
            "Métricas en el conjunto de entrenamiento:\n",
            "Exactitud (entrenamiento): 80.16%\n",
            "Precisión (entrenamiento): 80.18%\n",
            "Recall (entrenamiento): 80.16%\n",
            "F1-score (entrenamiento): 80.16%\n",
            "----------------------------------------------------------------------------------------------------\n",
            "Exactitud en el conjunto de validación: 74.07%\n",
            "Precisión en el conjunto de validación: 80.57%\n",
            "Recall en el conjunto de validación: 74.07%\n",
            "F1-score en el conjunto de validación: 73.20%\n"
          ]
        }
      ]
    },
    {
      "cell_type": "markdown",
      "source": [
        "# **Matriz de confusión**"
      ],
      "metadata": {
        "id": "UQJHYe_5mFmL"
      }
    },
    {
      "cell_type": "code",
      "source": [
        "from sklearn.metrics import confusion_matrix\n",
        "\n",
        "y_pred_RF = svm_model_p.predict(X_val)\n",
        "\n",
        "# Obtiene la matriz de confusión. Las filas corresponden a las clases reales,\n",
        "umbral = 0.5  # Puedes ajustar este umbral según tus necesidades\n",
        "y_pred_binario = (y_pred_RF > umbral).astype(int)\n",
        "\n",
        "# Calcular la matriz de confusión con las etiquetas binarias\n",
        "cm = confusion_matrix(y_val, y_pred_binario)\n",
        "prop_real = np.sum(y_val)/len(y_val)\n",
        "prop_etiqutados = (cm[0,1]+cm[1,1])/len(y_val)\n",
        "\n",
        "print(\"Matriz de confusión: \\n\\n\", cm, \"\\n\")\n",
        "print('Proporción de comentarios positivos: %.2f'% prop_real)\n",
        "print('Proporción de comentarios positivos etiquetados: %.2f'% prop_etiqutados)"
      ],
      "metadata": {
        "colab": {
          "base_uri": "https://localhost:8080/"
        },
        "outputId": "82d3e339-0a1d-456d-9863-c39e884de6a2",
        "id": "bEh8aTdumFmT"
      },
      "execution_count": null,
      "outputs": [
        {
          "output_type": "stream",
          "name": "stdout",
          "text": [
            "Matriz de confusión: \n",
            "\n",
            " [[16 13]\n",
            " [ 1 24]] \n",
            "\n",
            "Proporción de comentarios positivos: 0.46\n",
            "Proporción de comentarios positivos etiquetados: 0.69\n"
          ]
        }
      ]
    },
    {
      "cell_type": "code",
      "source": [
        "import seaborn as sns\n",
        "import matplotlib.pyplot as plt\n",
        "\n",
        "# Crear una figura para la matriz de confusión\n",
        "plt.figure(figsize=(8, 6))\n",
        "\n",
        "# Crear una matriz de confusión usando el heatmap de Seaborn\n",
        "sns.heatmap(cm, annot=True, fmt=\"d\", cmap=\"Blues\", xticklabels=['Control', 'Depresión'], yticklabels=['Control', 'Depresión'])\n",
        "\n",
        "# Etiquetas y título\n",
        "plt.xlabel('Predicción')\n",
        "plt.ylabel('Valor Real')\n",
        "plt.title('Matriz de Confusión (Usarios con Depresión vs de control)')\n",
        "\n",
        "# Mostrar la gráfica\n",
        "plt.show()"
      ],
      "metadata": {
        "colab": {
          "base_uri": "https://localhost:8080/",
          "height": 565
        },
        "outputId": "f0850db2-8fdd-407c-e311-c2172be3fd57",
        "id": "xAQ-K-AImFmT"
      },
      "execution_count": null,
      "outputs": [
        {
          "output_type": "display_data",
          "data": {
            "text/plain": [
              "<Figure size 800x600 with 2 Axes>"
            ],
            "image/png": "[encoded data removed]"
          },
          "metadata": {}
        }
      ]
    },
    {
      "cell_type": "markdown",
      "source": [
        "# **Regresión Logistica**"
      ],
      "metadata": {
        "id": "Ef6U8YQNp2SW"
      }
    },
    {
      "cell_type": "code",
      "source": [
        "from sklearn.linear_model import LogisticRegression\n",
        "from sklearn.metrics import precision_score, recall_score, f1_score\n",
        "# Crear el modelo de regresión logística\n",
        "lr_model = LogisticRegression(C=10)\n",
        "lr_model.fit(X_train, y_train)\n",
        "\n",
        "# Calcular el porcentaje de acierto en el conjunto de entrenamiento\n",
        "accuracy_train = lr_model.score(X_train, y_train) * 100\n",
        "\n",
        "# Calcular el porcentaje de acierto en el conjunto de validación\n",
        "accuracy_val = lr_model.score(X_val, y_val) * 100\n",
        "\n",
        "# Predicciones en el conjunto de entrenamiento y validación\n",
        "y_train_pred = lr_model.predict(X_train)\n",
        "y_val_pred = lr_model.predict(X_val)\n",
        "\n",
        "# Calcular precisión en el conjunto de entrenamiento y validación\n",
        "precision_train = precision_score(y_train, y_train_pred)* 100\n",
        "precision_val = precision_score(y_val, y_val_pred)* 100\n",
        "\n",
        "# Calcular exhaustividad (recall) en el conjunto de entrenamiento y validación\n",
        "recall_train = recall_score(y_train, y_train_pred)* 100\n",
        "recall_val = recall_score(y_val, y_val_pred)* 100\n",
        "\n",
        "# Calcular puntuación F1 en el conjunto de entrenamiento y validación\n",
        "f1_train = f1_score(y_train, y_train_pred)* 100\n",
        "f1_val = f1_score(y_val, y_val_pred)* 100\n"
      ],
      "metadata": {
        "id": "OnNzX1e9RNoJ"
      },
      "execution_count": null,
      "outputs": []
    },
    {
      "cell_type": "code",
      "source": [
        "# Mostrar métricas de entrenamiento\n",
        "print(\"Métricas de entrenamiento:\")\n",
        "print(\"Exactitud (entrenamiento): {:.2f}%\".format(accuracy_train))\n",
        "print(\"Precisión (entrenamiento): {:.2f}%\".format(precision_train))\n",
        "print(\"Exhaustividad (entrenamiento): {:.2f}%\".format(recall_train))\n",
        "print(\"Puntuación F1 (entrenamiento): {:.2f}%\".format(f1_train))\n",
        "print('-'*40)\n",
        "# Mostrar métricas de validación\n",
        "print(\"\\nMétricas de validación:\")\n",
        "print(\"Exactitud (validación): {:.2f}%\".format(accuracy_val))\n",
        "print(\"Precisión (validación): {:.2f}%\".format(precision_val))\n",
        "print(\"Exhaustividad (validación): {:.2f}%\".format(recall_val))\n",
        "print(\"Puntuación F1 (validación): {:.2f}%\".format(f1_val))"
      ],
      "metadata": {
        "colab": {
          "base_uri": "https://localhost:8080/"
        },
        "id": "qwl9Ndehm4o3",
        "outputId": "3a30c4b0-b82b-460e-c71e-2900bf12d9de"
      },
      "execution_count": null,
      "outputs": [
        {
          "output_type": "stream",
          "name": "stdout",
          "text": [
            "Métricas de entrenamiento:\n",
            "Exactitud (entrenamiento): 77.78%\n",
            "Precisión (entrenamiento): 78.46%\n",
            "Exhaustividad (entrenamiento): 78.46%\n",
            "Puntuación F1 (entrenamiento): 78.46%\n",
            "----------------------------------------\n",
            "\n",
            "Métricas de validación:\n",
            "Exactitud (validación): 75.93%\n",
            "Precisión (validación): 66.67%\n",
            "Exhaustividad (validación): 96.00%\n",
            "Puntuación F1 (validación): 78.69%\n"
          ]
        }
      ]
    },
    {
      "cell_type": "markdown",
      "source": [
        "# **Matriz de confusión**"
      ],
      "metadata": {
        "id": "C5K5W5kWnQrg"
      }
    },
    {
      "cell_type": "code",
      "source": [
        "from sklearn.metrics import confusion_matrix\n",
        "\n",
        "y_pred_RF = lr_model.predict(X_val)\n",
        "\n",
        "# Obtiene la matriz de confusión. Las filas corresponden a las clases reales,\n",
        "umbral = 0.5  # Puedes ajustar este umbral según tus necesidades\n",
        "y_pred_binario = (y_pred_RF > umbral).astype(int)\n",
        "\n",
        "# Calcular la matriz de confusión con las etiquetas binarias\n",
        "cm = confusion_matrix(y_val, y_pred_binario)\n",
        "prop_real = np.sum(y_val)/len(y_val)\n",
        "prop_etiqutados = (cm[0,1]+cm[1,1])/len(y_val)\n",
        "\n",
        "print(\"Matriz de confusión: \\n\\n\", cm, \"\\n\")\n",
        "print('Proporción de comentarios positivos: %.2f'% prop_real)\n",
        "print('Proporción de comentarios positivos etiquetados: %.2f'% prop_etiqutados)"
      ],
      "metadata": {
        "id": "35gIxGVMnQro"
      },
      "execution_count": null,
      "outputs": []
    },
    {
      "cell_type": "code",
      "source": [
        "import seaborn as sns\n",
        "import matplotlib.pyplot as plt\n",
        "\n",
        "# Crear una figura para la matriz de confusión\n",
        "plt.figure(figsize=(8, 6))\n",
        "\n",
        "# Crear una matriz de confusión usando el heatmap de Seaborn\n",
        "sns.heatmap(cm, annot=True, fmt=\"d\", cmap=\"Blues\", xticklabels=['Control', 'Depresión'], yticklabels=['Control', 'Depresión'])\n",
        "\n",
        "# Etiquetas y título\n",
        "plt.xlabel('Predicción')\n",
        "plt.ylabel('Valor Real')\n",
        "plt.title('Matriz de Confusión (Usarios con Depresión vs de control)')\n",
        "\n",
        "# Mostrar la gráfica\n",
        "plt.show()"
      ],
      "metadata": {
        "colab": {
          "base_uri": "https://localhost:8080/",
          "height": 565
        },
        "outputId": "bb3493c3-14c4-48ac-9be1-1a7fb98d6fdb",
        "id": "iTWL0FkxnQrp"
      },
      "execution_count": null,
      "outputs": [
        {
          "output_type": "display_data",
          "data": {
            "text/plain": [
              "<Figure size 800x600 with 2 Axes>"
            ],
            "image/png": "[encoded data removed]"
          },
          "metadata": {}
        }
      ]
    }
  ]
}